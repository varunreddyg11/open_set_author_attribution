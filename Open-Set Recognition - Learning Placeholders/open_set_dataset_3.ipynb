{
  "cells": [
    {
      "cell_type": "code",
      "execution_count": 1,
      "metadata": {
        "id": "hiCdiTWzgKeG"
      },
      "outputs": [],
      "source": [
        "import pandas as pd\n",
        "import numpy as np\n",
        "#pd.set_option('display.max_rows', 50000)/"
      ]
    },
    {
      "cell_type": "code",
      "source": [
        "from google.colab import drive\n",
        "drive.mount('/content/drive')"
      ],
      "metadata": {
        "id": "oq68oD37gl7e",
        "colab": {
          "base_uri": "https://localhost:8080/"
        },
        "outputId": "0d620608-ed22-43be-db34-7cda2cffaa0e"
      },
      "execution_count": 2,
      "outputs": [
        {
          "output_type": "stream",
          "name": "stdout",
          "text": [
            "Mounted at /content/drive\n"
          ]
        }
      ]
    },
    {
      "cell_type": "code",
      "execution_count": 3,
      "metadata": {
        "colab": {
          "base_uri": "https://localhost:8080/",
          "height": 363
        },
        "id": "IWe3lgvZgZTb",
        "outputId": "aeddb5ca-2c34-4756-b295-6c811831b49c"
      },
      "outputs": [
        {
          "output_type": "execute_result",
          "data": {
            "text/plain": [
              "           author  real_label  label  \\\n",
              "0  A11OTLEDSW8ZXD          44     44   \n",
              "1  A11OTLEDSW8ZXD          44     44   \n",
              "2  A11OTLEDSW8ZXD          44     44   \n",
              "3  A11OTLEDSW8ZXD          44     44   \n",
              "4  A11OTLEDSW8ZXD          44     44   \n",
              "5  A11OTLEDSW8ZXD          44     44   \n",
              "6  A11OTLEDSW8ZXD          44     44   \n",
              "7  A11OTLEDSW8ZXD          44     44   \n",
              "8  A11OTLEDSW8ZXD          44     44   \n",
              "9  A11OTLEDSW8ZXD          44     44   \n",
              "\n",
              "                                              review  \\\n",
              "0  I have always been a fan of the Lewis and Clar...   \n",
              "1  I started reading this book during a three-wee...   \n",
              "2  This cable is well-made and feels sturdier tha...   \n",
              "3  This kibble is expensive, but the cats like it...   \n",
              "4  This device is exactly what we needed for our ...   \n",
              "5  These beef hides are quite the treat.  I like ...   \n",
              "6  Reading this memoir was quite a surprise.  It ...   \n",
              "7  Being a born Hoosier and having graduated from...   \n",
              "8  This is a surprisingly good first novel.  Whil...   \n",
              "9  My first impression of this lens was its weigh...   \n",
              "\n",
              "                        product_domain  overall  #words  \n",
              "0                        books.json.gz      5.0     529  \n",
              "1                        books.json.gz      4.0     193  \n",
              "2  cell_phones_and_accessories.json.gz      4.0     109  \n",
              "3                 pet_supplies.json.gz      5.0     100  \n",
              "4                  electronics.json.gz      4.0     197  \n",
              "5                 pet_supplies.json.gz      5.0     130  \n",
              "6                        books.json.gz      4.0     393  \n",
              "7                        books.json.gz      4.0     382  \n",
              "8                        books.json.gz      5.0     140  \n",
              "9                  electronics.json.gz      3.0     348  "
            ],
            "text/html": [
              "\n",
              "  <div id=\"df-c2f05f15-7d8c-494b-a23b-10ea7ee9e26e\">\n",
              "    <div class=\"colab-df-container\">\n",
              "      <div>\n",
              "<style scoped>\n",
              "    .dataframe tbody tr th:only-of-type {\n",
              "        vertical-align: middle;\n",
              "    }\n",
              "\n",
              "    .dataframe tbody tr th {\n",
              "        vertical-align: top;\n",
              "    }\n",
              "\n",
              "    .dataframe thead th {\n",
              "        text-align: right;\n",
              "    }\n",
              "</style>\n",
              "<table border=\"1\" class=\"dataframe\">\n",
              "  <thead>\n",
              "    <tr style=\"text-align: right;\">\n",
              "      <th></th>\n",
              "      <th>author</th>\n",
              "      <th>real_label</th>\n",
              "      <th>label</th>\n",
              "      <th>review</th>\n",
              "      <th>product_domain</th>\n",
              "      <th>overall</th>\n",
              "      <th>#words</th>\n",
              "    </tr>\n",
              "  </thead>\n",
              "  <tbody>\n",
              "    <tr>\n",
              "      <th>0</th>\n",
              "      <td>A11OTLEDSW8ZXD</td>\n",
              "      <td>44</td>\n",
              "      <td>44</td>\n",
              "      <td>I have always been a fan of the Lewis and Clar...</td>\n",
              "      <td>books.json.gz</td>\n",
              "      <td>5.0</td>\n",
              "      <td>529</td>\n",
              "    </tr>\n",
              "    <tr>\n",
              "      <th>1</th>\n",
              "      <td>A11OTLEDSW8ZXD</td>\n",
              "      <td>44</td>\n",
              "      <td>44</td>\n",
              "      <td>I started reading this book during a three-wee...</td>\n",
              "      <td>books.json.gz</td>\n",
              "      <td>4.0</td>\n",
              "      <td>193</td>\n",
              "    </tr>\n",
              "    <tr>\n",
              "      <th>2</th>\n",
              "      <td>A11OTLEDSW8ZXD</td>\n",
              "      <td>44</td>\n",
              "      <td>44</td>\n",
              "      <td>This cable is well-made and feels sturdier tha...</td>\n",
              "      <td>cell_phones_and_accessories.json.gz</td>\n",
              "      <td>4.0</td>\n",
              "      <td>109</td>\n",
              "    </tr>\n",
              "    <tr>\n",
              "      <th>3</th>\n",
              "      <td>A11OTLEDSW8ZXD</td>\n",
              "      <td>44</td>\n",
              "      <td>44</td>\n",
              "      <td>This kibble is expensive, but the cats like it...</td>\n",
              "      <td>pet_supplies.json.gz</td>\n",
              "      <td>5.0</td>\n",
              "      <td>100</td>\n",
              "    </tr>\n",
              "    <tr>\n",
              "      <th>4</th>\n",
              "      <td>A11OTLEDSW8ZXD</td>\n",
              "      <td>44</td>\n",
              "      <td>44</td>\n",
              "      <td>This device is exactly what we needed for our ...</td>\n",
              "      <td>electronics.json.gz</td>\n",
              "      <td>4.0</td>\n",
              "      <td>197</td>\n",
              "    </tr>\n",
              "    <tr>\n",
              "      <th>5</th>\n",
              "      <td>A11OTLEDSW8ZXD</td>\n",
              "      <td>44</td>\n",
              "      <td>44</td>\n",
              "      <td>These beef hides are quite the treat.  I like ...</td>\n",
              "      <td>pet_supplies.json.gz</td>\n",
              "      <td>5.0</td>\n",
              "      <td>130</td>\n",
              "    </tr>\n",
              "    <tr>\n",
              "      <th>6</th>\n",
              "      <td>A11OTLEDSW8ZXD</td>\n",
              "      <td>44</td>\n",
              "      <td>44</td>\n",
              "      <td>Reading this memoir was quite a surprise.  It ...</td>\n",
              "      <td>books.json.gz</td>\n",
              "      <td>4.0</td>\n",
              "      <td>393</td>\n",
              "    </tr>\n",
              "    <tr>\n",
              "      <th>7</th>\n",
              "      <td>A11OTLEDSW8ZXD</td>\n",
              "      <td>44</td>\n",
              "      <td>44</td>\n",
              "      <td>Being a born Hoosier and having graduated from...</td>\n",
              "      <td>books.json.gz</td>\n",
              "      <td>4.0</td>\n",
              "      <td>382</td>\n",
              "    </tr>\n",
              "    <tr>\n",
              "      <th>8</th>\n",
              "      <td>A11OTLEDSW8ZXD</td>\n",
              "      <td>44</td>\n",
              "      <td>44</td>\n",
              "      <td>This is a surprisingly good first novel.  Whil...</td>\n",
              "      <td>books.json.gz</td>\n",
              "      <td>5.0</td>\n",
              "      <td>140</td>\n",
              "    </tr>\n",
              "    <tr>\n",
              "      <th>9</th>\n",
              "      <td>A11OTLEDSW8ZXD</td>\n",
              "      <td>44</td>\n",
              "      <td>44</td>\n",
              "      <td>My first impression of this lens was its weigh...</td>\n",
              "      <td>electronics.json.gz</td>\n",
              "      <td>3.0</td>\n",
              "      <td>348</td>\n",
              "    </tr>\n",
              "  </tbody>\n",
              "</table>\n",
              "</div>\n",
              "      <button class=\"colab-df-convert\" onclick=\"convertToInteractive('df-c2f05f15-7d8c-494b-a23b-10ea7ee9e26e')\"\n",
              "              title=\"Convert this dataframe to an interactive table.\"\n",
              "              style=\"display:none;\">\n",
              "        \n",
              "  <svg xmlns=\"http://www.w3.org/2000/svg\" height=\"24px\"viewBox=\"0 0 24 24\"\n",
              "       width=\"24px\">\n",
              "    <path d=\"M0 0h24v24H0V0z\" fill=\"none\"/>\n",
              "    <path d=\"M18.56 5.44l.94 2.06.94-2.06 2.06-.94-2.06-.94-.94-2.06-.94 2.06-2.06.94zm-11 1L8.5 8.5l.94-2.06 2.06-.94-2.06-.94L8.5 2.5l-.94 2.06-2.06.94zm10 10l.94 2.06.94-2.06 2.06-.94-2.06-.94-.94-2.06-.94 2.06-2.06.94z\"/><path d=\"M17.41 7.96l-1.37-1.37c-.4-.4-.92-.59-1.43-.59-.52 0-1.04.2-1.43.59L10.3 9.45l-7.72 7.72c-.78.78-.78 2.05 0 2.83L4 21.41c.39.39.9.59 1.41.59.51 0 1.02-.2 1.41-.59l7.78-7.78 2.81-2.81c.8-.78.8-2.07 0-2.86zM5.41 20L4 18.59l7.72-7.72 1.47 1.35L5.41 20z\"/>\n",
              "  </svg>\n",
              "      </button>\n",
              "      \n",
              "  <style>\n",
              "    .colab-df-container {\n",
              "      display:flex;\n",
              "      flex-wrap:wrap;\n",
              "      gap: 12px;\n",
              "    }\n",
              "\n",
              "    .colab-df-convert {\n",
              "      background-color: #E8F0FE;\n",
              "      border: none;\n",
              "      border-radius: 50%;\n",
              "      cursor: pointer;\n",
              "      display: none;\n",
              "      fill: #1967D2;\n",
              "      height: 32px;\n",
              "      padding: 0 0 0 0;\n",
              "      width: 32px;\n",
              "    }\n",
              "\n",
              "    .colab-df-convert:hover {\n",
              "      background-color: #E2EBFA;\n",
              "      box-shadow: 0px 1px 2px rgba(60, 64, 67, 0.3), 0px 1px 3px 1px rgba(60, 64, 67, 0.15);\n",
              "      fill: #174EA6;\n",
              "    }\n",
              "\n",
              "    [theme=dark] .colab-df-convert {\n",
              "      background-color: #3B4455;\n",
              "      fill: #D2E3FC;\n",
              "    }\n",
              "\n",
              "    [theme=dark] .colab-df-convert:hover {\n",
              "      background-color: #434B5C;\n",
              "      box-shadow: 0px 1px 3px 1px rgba(0, 0, 0, 0.15);\n",
              "      filter: drop-shadow(0px 1px 2px rgba(0, 0, 0, 0.3));\n",
              "      fill: #FFFFFF;\n",
              "    }\n",
              "  </style>\n",
              "\n",
              "      <script>\n",
              "        const buttonEl =\n",
              "          document.querySelector('#df-c2f05f15-7d8c-494b-a23b-10ea7ee9e26e button.colab-df-convert');\n",
              "        buttonEl.style.display =\n",
              "          google.colab.kernel.accessAllowed ? 'block' : 'none';\n",
              "\n",
              "        async function convertToInteractive(key) {\n",
              "          const element = document.querySelector('#df-c2f05f15-7d8c-494b-a23b-10ea7ee9e26e');\n",
              "          const dataTable =\n",
              "            await google.colab.kernel.invokeFunction('convertToInteractive',\n",
              "                                                     [key], {});\n",
              "          if (!dataTable) return;\n",
              "\n",
              "          const docLinkHtml = 'Like what you see? Visit the ' +\n",
              "            '<a target=\"_blank\" href=https://colab.research.google.com/notebooks/data_table.ipynb>data table notebook</a>'\n",
              "            + ' to learn more about interactive tables.';\n",
              "          element.innerHTML = '';\n",
              "          dataTable['output_type'] = 'display_data';\n",
              "          await google.colab.output.renderOutput(dataTable, element);\n",
              "          const docLink = document.createElement('div');\n",
              "          docLink.innerHTML = docLinkHtml;\n",
              "          element.appendChild(docLink);\n",
              "        }\n",
              "      </script>\n",
              "    </div>\n",
              "  </div>\n",
              "  "
            ]
          },
          "metadata": {},
          "execution_count": 3
        }
      ],
      "source": [
        "dataset=pd.read_csv(\"/content/drive/MyDrive/ASU/train.csv\")\n",
        "dataset.head(10)\n",
        "\n"
      ]
    },
    {
      "cell_type": "code",
      "execution_count": 4,
      "metadata": {
        "colab": {
          "base_uri": "https://localhost:8080/"
        },
        "id": "B9pq-A70gfgG",
        "outputId": "58c43769-eab4-47c4-dca9-c2df63cefab9"
      },
      "outputs": [
        {
          "output_type": "execute_result",
          "data": {
            "text/plain": [
              "100"
            ]
          },
          "metadata": {},
          "execution_count": 4
        }
      ],
      "source": [
        "len(dataset.real_label.unique())"
      ]
    },
    {
      "cell_type": "code",
      "source": [
        "dataset_filtered=dataset.loc[:,['real_label','review']]"
      ],
      "metadata": {
        "id": "X9mNxmcic6x3"
      },
      "execution_count": 5,
      "outputs": []
    },
    {
      "cell_type": "code",
      "source": [
        "#Input dataset\n",
        "dataset_filtered"
      ],
      "metadata": {
        "colab": {
          "base_uri": "https://localhost:8080/",
          "height": 424
        },
        "id": "jYLP4SFw4JoF",
        "outputId": "7e418e0d-7288-4880-a690-6d96cd72443d"
      },
      "execution_count": 6,
      "outputs": [
        {
          "output_type": "execute_result",
          "data": {
            "text/plain": [
              "       real_label                                             review\n",
              "0              44  I have always been a fan of the Lewis and Clar...\n",
              "1              44  I started reading this book during a three-wee...\n",
              "2              44  This cable is well-made and feels sturdier tha...\n",
              "3              44  This kibble is expensive, but the cats like it...\n",
              "4              44  This device is exactly what we needed for our ...\n",
              "...           ...                                                ...\n",
              "49995          46  Dumbo is one of disney's most beloved and clas...\n",
              "49996          46  I haven't played anygood sport games yet and i...\n",
              "49997          46  This game is loads of fun, i really liked this...\n",
              "49998          46  Gabriel is one of the funniest comedians i've ...\n",
              "49999          46  red tails is about the tuskegee airforce men w...\n",
              "\n",
              "[50000 rows x 2 columns]"
            ],
            "text/html": [
              "\n",
              "  <div id=\"df-335bf5c2-b960-4959-acd0-734d759418d3\">\n",
              "    <div class=\"colab-df-container\">\n",
              "      <div>\n",
              "<style scoped>\n",
              "    .dataframe tbody tr th:only-of-type {\n",
              "        vertical-align: middle;\n",
              "    }\n",
              "\n",
              "    .dataframe tbody tr th {\n",
              "        vertical-align: top;\n",
              "    }\n",
              "\n",
              "    .dataframe thead th {\n",
              "        text-align: right;\n",
              "    }\n",
              "</style>\n",
              "<table border=\"1\" class=\"dataframe\">\n",
              "  <thead>\n",
              "    <tr style=\"text-align: right;\">\n",
              "      <th></th>\n",
              "      <th>real_label</th>\n",
              "      <th>review</th>\n",
              "    </tr>\n",
              "  </thead>\n",
              "  <tbody>\n",
              "    <tr>\n",
              "      <th>0</th>\n",
              "      <td>44</td>\n",
              "      <td>I have always been a fan of the Lewis and Clar...</td>\n",
              "    </tr>\n",
              "    <tr>\n",
              "      <th>1</th>\n",
              "      <td>44</td>\n",
              "      <td>I started reading this book during a three-wee...</td>\n",
              "    </tr>\n",
              "    <tr>\n",
              "      <th>2</th>\n",
              "      <td>44</td>\n",
              "      <td>This cable is well-made and feels sturdier tha...</td>\n",
              "    </tr>\n",
              "    <tr>\n",
              "      <th>3</th>\n",
              "      <td>44</td>\n",
              "      <td>This kibble is expensive, but the cats like it...</td>\n",
              "    </tr>\n",
              "    <tr>\n",
              "      <th>4</th>\n",
              "      <td>44</td>\n",
              "      <td>This device is exactly what we needed for our ...</td>\n",
              "    </tr>\n",
              "    <tr>\n",
              "      <th>...</th>\n",
              "      <td>...</td>\n",
              "      <td>...</td>\n",
              "    </tr>\n",
              "    <tr>\n",
              "      <th>49995</th>\n",
              "      <td>46</td>\n",
              "      <td>Dumbo is one of disney's most beloved and clas...</td>\n",
              "    </tr>\n",
              "    <tr>\n",
              "      <th>49996</th>\n",
              "      <td>46</td>\n",
              "      <td>I haven't played anygood sport games yet and i...</td>\n",
              "    </tr>\n",
              "    <tr>\n",
              "      <th>49997</th>\n",
              "      <td>46</td>\n",
              "      <td>This game is loads of fun, i really liked this...</td>\n",
              "    </tr>\n",
              "    <tr>\n",
              "      <th>49998</th>\n",
              "      <td>46</td>\n",
              "      <td>Gabriel is one of the funniest comedians i've ...</td>\n",
              "    </tr>\n",
              "    <tr>\n",
              "      <th>49999</th>\n",
              "      <td>46</td>\n",
              "      <td>red tails is about the tuskegee airforce men w...</td>\n",
              "    </tr>\n",
              "  </tbody>\n",
              "</table>\n",
              "<p>50000 rows × 2 columns</p>\n",
              "</div>\n",
              "      <button class=\"colab-df-convert\" onclick=\"convertToInteractive('df-335bf5c2-b960-4959-acd0-734d759418d3')\"\n",
              "              title=\"Convert this dataframe to an interactive table.\"\n",
              "              style=\"display:none;\">\n",
              "        \n",
              "  <svg xmlns=\"http://www.w3.org/2000/svg\" height=\"24px\"viewBox=\"0 0 24 24\"\n",
              "       width=\"24px\">\n",
              "    <path d=\"M0 0h24v24H0V0z\" fill=\"none\"/>\n",
              "    <path d=\"M18.56 5.44l.94 2.06.94-2.06 2.06-.94-2.06-.94-.94-2.06-.94 2.06-2.06.94zm-11 1L8.5 8.5l.94-2.06 2.06-.94-2.06-.94L8.5 2.5l-.94 2.06-2.06.94zm10 10l.94 2.06.94-2.06 2.06-.94-2.06-.94-.94-2.06-.94 2.06-2.06.94z\"/><path d=\"M17.41 7.96l-1.37-1.37c-.4-.4-.92-.59-1.43-.59-.52 0-1.04.2-1.43.59L10.3 9.45l-7.72 7.72c-.78.78-.78 2.05 0 2.83L4 21.41c.39.39.9.59 1.41.59.51 0 1.02-.2 1.41-.59l7.78-7.78 2.81-2.81c.8-.78.8-2.07 0-2.86zM5.41 20L4 18.59l7.72-7.72 1.47 1.35L5.41 20z\"/>\n",
              "  </svg>\n",
              "      </button>\n",
              "      \n",
              "  <style>\n",
              "    .colab-df-container {\n",
              "      display:flex;\n",
              "      flex-wrap:wrap;\n",
              "      gap: 12px;\n",
              "    }\n",
              "\n",
              "    .colab-df-convert {\n",
              "      background-color: #E8F0FE;\n",
              "      border: none;\n",
              "      border-radius: 50%;\n",
              "      cursor: pointer;\n",
              "      display: none;\n",
              "      fill: #1967D2;\n",
              "      height: 32px;\n",
              "      padding: 0 0 0 0;\n",
              "      width: 32px;\n",
              "    }\n",
              "\n",
              "    .colab-df-convert:hover {\n",
              "      background-color: #E2EBFA;\n",
              "      box-shadow: 0px 1px 2px rgba(60, 64, 67, 0.3), 0px 1px 3px 1px rgba(60, 64, 67, 0.15);\n",
              "      fill: #174EA6;\n",
              "    }\n",
              "\n",
              "    [theme=dark] .colab-df-convert {\n",
              "      background-color: #3B4455;\n",
              "      fill: #D2E3FC;\n",
              "    }\n",
              "\n",
              "    [theme=dark] .colab-df-convert:hover {\n",
              "      background-color: #434B5C;\n",
              "      box-shadow: 0px 1px 3px 1px rgba(0, 0, 0, 0.15);\n",
              "      filter: drop-shadow(0px 1px 2px rgba(0, 0, 0, 0.3));\n",
              "      fill: #FFFFFF;\n",
              "    }\n",
              "  </style>\n",
              "\n",
              "      <script>\n",
              "        const buttonEl =\n",
              "          document.querySelector('#df-335bf5c2-b960-4959-acd0-734d759418d3 button.colab-df-convert');\n",
              "        buttonEl.style.display =\n",
              "          google.colab.kernel.accessAllowed ? 'block' : 'none';\n",
              "\n",
              "        async function convertToInteractive(key) {\n",
              "          const element = document.querySelector('#df-335bf5c2-b960-4959-acd0-734d759418d3');\n",
              "          const dataTable =\n",
              "            await google.colab.kernel.invokeFunction('convertToInteractive',\n",
              "                                                     [key], {});\n",
              "          if (!dataTable) return;\n",
              "\n",
              "          const docLinkHtml = 'Like what you see? Visit the ' +\n",
              "            '<a target=\"_blank\" href=https://colab.research.google.com/notebooks/data_table.ipynb>data table notebook</a>'\n",
              "            + ' to learn more about interactive tables.';\n",
              "          element.innerHTML = '';\n",
              "          dataTable['output_type'] = 'display_data';\n",
              "          await google.colab.output.renderOutput(dataTable, element);\n",
              "          const docLink = document.createElement('div');\n",
              "          docLink.innerHTML = docLinkHtml;\n",
              "          element.appendChild(docLink);\n",
              "        }\n",
              "      </script>\n",
              "    </div>\n",
              "  </div>\n",
              "  "
            ]
          },
          "metadata": {},
          "execution_count": 6
        }
      ]
    },
    {
      "cell_type": "code",
      "execution_count": 7,
      "metadata": {
        "colab": {
          "base_uri": "https://localhost:8080/"
        },
        "id": "918jkbVoh_Y1",
        "outputId": "a892efc2-b20e-45c0-e6c2-ef1fd73d7157"
      },
      "outputs": [
        {
          "output_type": "stream",
          "name": "stdout",
          "text": [
            "There are 1 GPU(s) available.\n",
            "We will use the GPU: Tesla T4\n"
          ]
        }
      ],
      "source": [
        "import torch\n",
        "\n",
        "# If there's a GPU available...\n",
        "if torch.cuda.is_available():    \n",
        "\n",
        "    # Tell PyTorch to use the GPU.    \n",
        "    device = torch.device(\"cuda\")\n",
        "\n",
        "    print('There are %d GPU(s) available.' % torch.cuda.device_count())\n",
        "    n_gpu=torch.cuda.device_count()\n",
        "\n",
        "    print('We will use the GPU:', torch.cuda.get_device_name(0))\n",
        "\n",
        "# If not...\n",
        "else:\n",
        "    print('No GPU available, using the CPU instead.')\n",
        "    device = torch.device(\"cpu\")"
      ]
    },
    {
      "cell_type": "code",
      "execution_count": 8,
      "metadata": {
        "colab": {
          "base_uri": "https://localhost:8080/"
        },
        "id": "hy-HBiXjiE1g",
        "outputId": "9b3da603-efbf-4595-83ba-6a9936f87434"
      },
      "outputs": [
        {
          "output_type": "stream",
          "name": "stdout",
          "text": [
            "Looking in indexes: https://pypi.org/simple, https://us-python.pkg.dev/colab-wheels/public/simple/\n",
            "Collecting transformers\n",
            "  Downloading transformers-4.24.0-py3-none-any.whl (5.5 MB)\n",
            "\u001b[K     |████████████████████████████████| 5.5 MB 28.3 MB/s \n",
            "\u001b[?25hRequirement already satisfied: numpy>=1.17 in /usr/local/lib/python3.7/dist-packages (from transformers) (1.21.6)\n",
            "Collecting tokenizers!=0.11.3,<0.14,>=0.11.1\n",
            "  Downloading tokenizers-0.13.2-cp37-cp37m-manylinux_2_17_x86_64.manylinux2014_x86_64.whl (7.6 MB)\n",
            "\u001b[K     |████████████████████████████████| 7.6 MB 69.4 MB/s \n",
            "\u001b[?25hRequirement already satisfied: tqdm>=4.27 in /usr/local/lib/python3.7/dist-packages (from transformers) (4.64.1)\n",
            "Requirement already satisfied: filelock in /usr/local/lib/python3.7/dist-packages (from transformers) (3.8.0)\n",
            "Requirement already satisfied: regex!=2019.12.17 in /usr/local/lib/python3.7/dist-packages (from transformers) (2022.6.2)\n",
            "Requirement already satisfied: requests in /usr/local/lib/python3.7/dist-packages (from transformers) (2.23.0)\n",
            "Requirement already satisfied: packaging>=20.0 in /usr/local/lib/python3.7/dist-packages (from transformers) (21.3)\n",
            "Collecting huggingface-hub<1.0,>=0.10.0\n",
            "  Downloading huggingface_hub-0.11.0-py3-none-any.whl (182 kB)\n",
            "\u001b[K     |████████████████████████████████| 182 kB 66.5 MB/s \n",
            "\u001b[?25hRequirement already satisfied: importlib-metadata in /usr/local/lib/python3.7/dist-packages (from transformers) (4.13.0)\n",
            "Requirement already satisfied: pyyaml>=5.1 in /usr/local/lib/python3.7/dist-packages (from transformers) (6.0)\n",
            "Requirement already satisfied: typing-extensions>=3.7.4.3 in /usr/local/lib/python3.7/dist-packages (from huggingface-hub<1.0,>=0.10.0->transformers) (4.1.1)\n",
            "Requirement already satisfied: pyparsing!=3.0.5,>=2.0.2 in /usr/local/lib/python3.7/dist-packages (from packaging>=20.0->transformers) (3.0.9)\n",
            "Requirement already satisfied: zipp>=0.5 in /usr/local/lib/python3.7/dist-packages (from importlib-metadata->transformers) (3.10.0)\n",
            "Requirement already satisfied: urllib3!=1.25.0,!=1.25.1,<1.26,>=1.21.1 in /usr/local/lib/python3.7/dist-packages (from requests->transformers) (1.24.3)\n",
            "Requirement already satisfied: idna<3,>=2.5 in /usr/local/lib/python3.7/dist-packages (from requests->transformers) (2.10)\n",
            "Requirement already satisfied: certifi>=2017.4.17 in /usr/local/lib/python3.7/dist-packages (from requests->transformers) (2022.9.24)\n",
            "Requirement already satisfied: chardet<4,>=3.0.2 in /usr/local/lib/python3.7/dist-packages (from requests->transformers) (3.0.4)\n",
            "Installing collected packages: tokenizers, huggingface-hub, transformers\n",
            "Successfully installed huggingface-hub-0.11.0 tokenizers-0.13.2 transformers-4.24.0\n"
          ]
        }
      ],
      "source": [
        "!pip install transformers"
      ]
    },
    {
      "cell_type": "code",
      "source": [
        "# from transformers import RobertaTokenizer,BertTokenizer, AutoConfig, AutoModelForSequenceClassification, AutoTokenizer\n",
        "# from transformers import (\n",
        "#     AdamW,\n",
        "#     get_linear_schedule_with_warmup\n",
        "# )\n",
        "# \"\"\"\n",
        "# # Load the tokenizer.\n",
        "# print('Loading Roberta tokenizer...')\n",
        "# tokenizer = RobertaTokenizer.from_pretrained('roberta-base', do_lower_case=True)\"\"\"\n",
        "\n",
        "# tokenizer = AutoTokenizer.from_pretrained('bert-base-uncased')\n",
        "# config = AutoConfig.from_pretrained('bert-base-uncased',\n",
        "#                                             num_labels=101,\n",
        "#                                             hidden_dropout_prob=0.15)\n",
        "\n",
        "\n",
        "\n"
      ],
      "metadata": {
        "id": "6BZYtNIG-YG9"
      },
      "execution_count": 9,
      "outputs": []
    },
    {
      "cell_type": "code",
      "source": [
        "\n",
        "from transformers import BertTokenizer, AutoConfig, AutoModelForSequenceClassification, AutoTokenizer\n",
        "from transformers import (\n",
        "    AdamW,\n",
        "    get_linear_schedule_with_warmup\n",
        ")\n",
        "# from transformers import BertForSequenceClassification, AdamW, BertConfig\n",
        "# from transformers import get_linear_schedule_with_warmup\n",
        "\n",
        "\n",
        "output_dir = '/content/drive/MyDrive/ASU/model_save/'\n",
        "\n",
        "tokenizer = AutoTokenizer.from_pretrained(output_dir+'tokenizer/')\n",
        "model = AutoModelForSequenceClassification.from_pretrained(output_dir)\n",
        "\n",
        "\n",
        "# Copy the model to the GPU.\n",
        "model.to(device)"
      ],
      "metadata": {
        "colab": {
          "base_uri": "https://localhost:8080/"
        },
        "id": "-71E7Ju8Kfdr",
        "outputId": "9ec673ff-3a5e-40ad-b685-cb388e603605"
      },
      "execution_count": 10,
      "outputs": [
        {
          "output_type": "execute_result",
          "data": {
            "text/plain": [
              "BertForSequenceClassification(\n",
              "  (bert): BertModel(\n",
              "    (embeddings): BertEmbeddings(\n",
              "      (word_embeddings): Embedding(30522, 768, padding_idx=0)\n",
              "      (position_embeddings): Embedding(512, 768)\n",
              "      (token_type_embeddings): Embedding(2, 768)\n",
              "      (LayerNorm): LayerNorm((768,), eps=1e-12, elementwise_affine=True)\n",
              "      (dropout): Dropout(p=0.15, inplace=False)\n",
              "    )\n",
              "    (encoder): BertEncoder(\n",
              "      (layer): ModuleList(\n",
              "        (0): BertLayer(\n",
              "          (attention): BertAttention(\n",
              "            (self): BertSelfAttention(\n",
              "              (query): Linear(in_features=768, out_features=768, bias=True)\n",
              "              (key): Linear(in_features=768, out_features=768, bias=True)\n",
              "              (value): Linear(in_features=768, out_features=768, bias=True)\n",
              "              (dropout): Dropout(p=0.1, inplace=False)\n",
              "            )\n",
              "            (output): BertSelfOutput(\n",
              "              (dense): Linear(in_features=768, out_features=768, bias=True)\n",
              "              (LayerNorm): LayerNorm((768,), eps=1e-12, elementwise_affine=True)\n",
              "              (dropout): Dropout(p=0.15, inplace=False)\n",
              "            )\n",
              "          )\n",
              "          (intermediate): BertIntermediate(\n",
              "            (dense): Linear(in_features=768, out_features=3072, bias=True)\n",
              "            (intermediate_act_fn): GELUActivation()\n",
              "          )\n",
              "          (output): BertOutput(\n",
              "            (dense): Linear(in_features=3072, out_features=768, bias=True)\n",
              "            (LayerNorm): LayerNorm((768,), eps=1e-12, elementwise_affine=True)\n",
              "            (dropout): Dropout(p=0.15, inplace=False)\n",
              "          )\n",
              "        )\n",
              "        (1): BertLayer(\n",
              "          (attention): BertAttention(\n",
              "            (self): BertSelfAttention(\n",
              "              (query): Linear(in_features=768, out_features=768, bias=True)\n",
              "              (key): Linear(in_features=768, out_features=768, bias=True)\n",
              "              (value): Linear(in_features=768, out_features=768, bias=True)\n",
              "              (dropout): Dropout(p=0.1, inplace=False)\n",
              "            )\n",
              "            (output): BertSelfOutput(\n",
              "              (dense): Linear(in_features=768, out_features=768, bias=True)\n",
              "              (LayerNorm): LayerNorm((768,), eps=1e-12, elementwise_affine=True)\n",
              "              (dropout): Dropout(p=0.15, inplace=False)\n",
              "            )\n",
              "          )\n",
              "          (intermediate): BertIntermediate(\n",
              "            (dense): Linear(in_features=768, out_features=3072, bias=True)\n",
              "            (intermediate_act_fn): GELUActivation()\n",
              "          )\n",
              "          (output): BertOutput(\n",
              "            (dense): Linear(in_features=3072, out_features=768, bias=True)\n",
              "            (LayerNorm): LayerNorm((768,), eps=1e-12, elementwise_affine=True)\n",
              "            (dropout): Dropout(p=0.15, inplace=False)\n",
              "          )\n",
              "        )\n",
              "        (2): BertLayer(\n",
              "          (attention): BertAttention(\n",
              "            (self): BertSelfAttention(\n",
              "              (query): Linear(in_features=768, out_features=768, bias=True)\n",
              "              (key): Linear(in_features=768, out_features=768, bias=True)\n",
              "              (value): Linear(in_features=768, out_features=768, bias=True)\n",
              "              (dropout): Dropout(p=0.1, inplace=False)\n",
              "            )\n",
              "            (output): BertSelfOutput(\n",
              "              (dense): Linear(in_features=768, out_features=768, bias=True)\n",
              "              (LayerNorm): LayerNorm((768,), eps=1e-12, elementwise_affine=True)\n",
              "              (dropout): Dropout(p=0.15, inplace=False)\n",
              "            )\n",
              "          )\n",
              "          (intermediate): BertIntermediate(\n",
              "            (dense): Linear(in_features=768, out_features=3072, bias=True)\n",
              "            (intermediate_act_fn): GELUActivation()\n",
              "          )\n",
              "          (output): BertOutput(\n",
              "            (dense): Linear(in_features=3072, out_features=768, bias=True)\n",
              "            (LayerNorm): LayerNorm((768,), eps=1e-12, elementwise_affine=True)\n",
              "            (dropout): Dropout(p=0.15, inplace=False)\n",
              "          )\n",
              "        )\n",
              "        (3): BertLayer(\n",
              "          (attention): BertAttention(\n",
              "            (self): BertSelfAttention(\n",
              "              (query): Linear(in_features=768, out_features=768, bias=True)\n",
              "              (key): Linear(in_features=768, out_features=768, bias=True)\n",
              "              (value): Linear(in_features=768, out_features=768, bias=True)\n",
              "              (dropout): Dropout(p=0.1, inplace=False)\n",
              "            )\n",
              "            (output): BertSelfOutput(\n",
              "              (dense): Linear(in_features=768, out_features=768, bias=True)\n",
              "              (LayerNorm): LayerNorm((768,), eps=1e-12, elementwise_affine=True)\n",
              "              (dropout): Dropout(p=0.15, inplace=False)\n",
              "            )\n",
              "          )\n",
              "          (intermediate): BertIntermediate(\n",
              "            (dense): Linear(in_features=768, out_features=3072, bias=True)\n",
              "            (intermediate_act_fn): GELUActivation()\n",
              "          )\n",
              "          (output): BertOutput(\n",
              "            (dense): Linear(in_features=3072, out_features=768, bias=True)\n",
              "            (LayerNorm): LayerNorm((768,), eps=1e-12, elementwise_affine=True)\n",
              "            (dropout): Dropout(p=0.15, inplace=False)\n",
              "          )\n",
              "        )\n",
              "        (4): BertLayer(\n",
              "          (attention): BertAttention(\n",
              "            (self): BertSelfAttention(\n",
              "              (query): Linear(in_features=768, out_features=768, bias=True)\n",
              "              (key): Linear(in_features=768, out_features=768, bias=True)\n",
              "              (value): Linear(in_features=768, out_features=768, bias=True)\n",
              "              (dropout): Dropout(p=0.1, inplace=False)\n",
              "            )\n",
              "            (output): BertSelfOutput(\n",
              "              (dense): Linear(in_features=768, out_features=768, bias=True)\n",
              "              (LayerNorm): LayerNorm((768,), eps=1e-12, elementwise_affine=True)\n",
              "              (dropout): Dropout(p=0.15, inplace=False)\n",
              "            )\n",
              "          )\n",
              "          (intermediate): BertIntermediate(\n",
              "            (dense): Linear(in_features=768, out_features=3072, bias=True)\n",
              "            (intermediate_act_fn): GELUActivation()\n",
              "          )\n",
              "          (output): BertOutput(\n",
              "            (dense): Linear(in_features=3072, out_features=768, bias=True)\n",
              "            (LayerNorm): LayerNorm((768,), eps=1e-12, elementwise_affine=True)\n",
              "            (dropout): Dropout(p=0.15, inplace=False)\n",
              "          )\n",
              "        )\n",
              "        (5): BertLayer(\n",
              "          (attention): BertAttention(\n",
              "            (self): BertSelfAttention(\n",
              "              (query): Linear(in_features=768, out_features=768, bias=True)\n",
              "              (key): Linear(in_features=768, out_features=768, bias=True)\n",
              "              (value): Linear(in_features=768, out_features=768, bias=True)\n",
              "              (dropout): Dropout(p=0.1, inplace=False)\n",
              "            )\n",
              "            (output): BertSelfOutput(\n",
              "              (dense): Linear(in_features=768, out_features=768, bias=True)\n",
              "              (LayerNorm): LayerNorm((768,), eps=1e-12, elementwise_affine=True)\n",
              "              (dropout): Dropout(p=0.15, inplace=False)\n",
              "            )\n",
              "          )\n",
              "          (intermediate): BertIntermediate(\n",
              "            (dense): Linear(in_features=768, out_features=3072, bias=True)\n",
              "            (intermediate_act_fn): GELUActivation()\n",
              "          )\n",
              "          (output): BertOutput(\n",
              "            (dense): Linear(in_features=3072, out_features=768, bias=True)\n",
              "            (LayerNorm): LayerNorm((768,), eps=1e-12, elementwise_affine=True)\n",
              "            (dropout): Dropout(p=0.15, inplace=False)\n",
              "          )\n",
              "        )\n",
              "        (6): BertLayer(\n",
              "          (attention): BertAttention(\n",
              "            (self): BertSelfAttention(\n",
              "              (query): Linear(in_features=768, out_features=768, bias=True)\n",
              "              (key): Linear(in_features=768, out_features=768, bias=True)\n",
              "              (value): Linear(in_features=768, out_features=768, bias=True)\n",
              "              (dropout): Dropout(p=0.1, inplace=False)\n",
              "            )\n",
              "            (output): BertSelfOutput(\n",
              "              (dense): Linear(in_features=768, out_features=768, bias=True)\n",
              "              (LayerNorm): LayerNorm((768,), eps=1e-12, elementwise_affine=True)\n",
              "              (dropout): Dropout(p=0.15, inplace=False)\n",
              "            )\n",
              "          )\n",
              "          (intermediate): BertIntermediate(\n",
              "            (dense): Linear(in_features=768, out_features=3072, bias=True)\n",
              "            (intermediate_act_fn): GELUActivation()\n",
              "          )\n",
              "          (output): BertOutput(\n",
              "            (dense): Linear(in_features=3072, out_features=768, bias=True)\n",
              "            (LayerNorm): LayerNorm((768,), eps=1e-12, elementwise_affine=True)\n",
              "            (dropout): Dropout(p=0.15, inplace=False)\n",
              "          )\n",
              "        )\n",
              "        (7): BertLayer(\n",
              "          (attention): BertAttention(\n",
              "            (self): BertSelfAttention(\n",
              "              (query): Linear(in_features=768, out_features=768, bias=True)\n",
              "              (key): Linear(in_features=768, out_features=768, bias=True)\n",
              "              (value): Linear(in_features=768, out_features=768, bias=True)\n",
              "              (dropout): Dropout(p=0.1, inplace=False)\n",
              "            )\n",
              "            (output): BertSelfOutput(\n",
              "              (dense): Linear(in_features=768, out_features=768, bias=True)\n",
              "              (LayerNorm): LayerNorm((768,), eps=1e-12, elementwise_affine=True)\n",
              "              (dropout): Dropout(p=0.15, inplace=False)\n",
              "            )\n",
              "          )\n",
              "          (intermediate): BertIntermediate(\n",
              "            (dense): Linear(in_features=768, out_features=3072, bias=True)\n",
              "            (intermediate_act_fn): GELUActivation()\n",
              "          )\n",
              "          (output): BertOutput(\n",
              "            (dense): Linear(in_features=3072, out_features=768, bias=True)\n",
              "            (LayerNorm): LayerNorm((768,), eps=1e-12, elementwise_affine=True)\n",
              "            (dropout): Dropout(p=0.15, inplace=False)\n",
              "          )\n",
              "        )\n",
              "        (8): BertLayer(\n",
              "          (attention): BertAttention(\n",
              "            (self): BertSelfAttention(\n",
              "              (query): Linear(in_features=768, out_features=768, bias=True)\n",
              "              (key): Linear(in_features=768, out_features=768, bias=True)\n",
              "              (value): Linear(in_features=768, out_features=768, bias=True)\n",
              "              (dropout): Dropout(p=0.1, inplace=False)\n",
              "            )\n",
              "            (output): BertSelfOutput(\n",
              "              (dense): Linear(in_features=768, out_features=768, bias=True)\n",
              "              (LayerNorm): LayerNorm((768,), eps=1e-12, elementwise_affine=True)\n",
              "              (dropout): Dropout(p=0.15, inplace=False)\n",
              "            )\n",
              "          )\n",
              "          (intermediate): BertIntermediate(\n",
              "            (dense): Linear(in_features=768, out_features=3072, bias=True)\n",
              "            (intermediate_act_fn): GELUActivation()\n",
              "          )\n",
              "          (output): BertOutput(\n",
              "            (dense): Linear(in_features=3072, out_features=768, bias=True)\n",
              "            (LayerNorm): LayerNorm((768,), eps=1e-12, elementwise_affine=True)\n",
              "            (dropout): Dropout(p=0.15, inplace=False)\n",
              "          )\n",
              "        )\n",
              "        (9): BertLayer(\n",
              "          (attention): BertAttention(\n",
              "            (self): BertSelfAttention(\n",
              "              (query): Linear(in_features=768, out_features=768, bias=True)\n",
              "              (key): Linear(in_features=768, out_features=768, bias=True)\n",
              "              (value): Linear(in_features=768, out_features=768, bias=True)\n",
              "              (dropout): Dropout(p=0.1, inplace=False)\n",
              "            )\n",
              "            (output): BertSelfOutput(\n",
              "              (dense): Linear(in_features=768, out_features=768, bias=True)\n",
              "              (LayerNorm): LayerNorm((768,), eps=1e-12, elementwise_affine=True)\n",
              "              (dropout): Dropout(p=0.15, inplace=False)\n",
              "            )\n",
              "          )\n",
              "          (intermediate): BertIntermediate(\n",
              "            (dense): Linear(in_features=768, out_features=3072, bias=True)\n",
              "            (intermediate_act_fn): GELUActivation()\n",
              "          )\n",
              "          (output): BertOutput(\n",
              "            (dense): Linear(in_features=3072, out_features=768, bias=True)\n",
              "            (LayerNorm): LayerNorm((768,), eps=1e-12, elementwise_affine=True)\n",
              "            (dropout): Dropout(p=0.15, inplace=False)\n",
              "          )\n",
              "        )\n",
              "        (10): BertLayer(\n",
              "          (attention): BertAttention(\n",
              "            (self): BertSelfAttention(\n",
              "              (query): Linear(in_features=768, out_features=768, bias=True)\n",
              "              (key): Linear(in_features=768, out_features=768, bias=True)\n",
              "              (value): Linear(in_features=768, out_features=768, bias=True)\n",
              "              (dropout): Dropout(p=0.1, inplace=False)\n",
              "            )\n",
              "            (output): BertSelfOutput(\n",
              "              (dense): Linear(in_features=768, out_features=768, bias=True)\n",
              "              (LayerNorm): LayerNorm((768,), eps=1e-12, elementwise_affine=True)\n",
              "              (dropout): Dropout(p=0.15, inplace=False)\n",
              "            )\n",
              "          )\n",
              "          (intermediate): BertIntermediate(\n",
              "            (dense): Linear(in_features=768, out_features=3072, bias=True)\n",
              "            (intermediate_act_fn): GELUActivation()\n",
              "          )\n",
              "          (output): BertOutput(\n",
              "            (dense): Linear(in_features=3072, out_features=768, bias=True)\n",
              "            (LayerNorm): LayerNorm((768,), eps=1e-12, elementwise_affine=True)\n",
              "            (dropout): Dropout(p=0.15, inplace=False)\n",
              "          )\n",
              "        )\n",
              "        (11): BertLayer(\n",
              "          (attention): BertAttention(\n",
              "            (self): BertSelfAttention(\n",
              "              (query): Linear(in_features=768, out_features=768, bias=True)\n",
              "              (key): Linear(in_features=768, out_features=768, bias=True)\n",
              "              (value): Linear(in_features=768, out_features=768, bias=True)\n",
              "              (dropout): Dropout(p=0.1, inplace=False)\n",
              "            )\n",
              "            (output): BertSelfOutput(\n",
              "              (dense): Linear(in_features=768, out_features=768, bias=True)\n",
              "              (LayerNorm): LayerNorm((768,), eps=1e-12, elementwise_affine=True)\n",
              "              (dropout): Dropout(p=0.15, inplace=False)\n",
              "            )\n",
              "          )\n",
              "          (intermediate): BertIntermediate(\n",
              "            (dense): Linear(in_features=768, out_features=3072, bias=True)\n",
              "            (intermediate_act_fn): GELUActivation()\n",
              "          )\n",
              "          (output): BertOutput(\n",
              "            (dense): Linear(in_features=3072, out_features=768, bias=True)\n",
              "            (LayerNorm): LayerNorm((768,), eps=1e-12, elementwise_affine=True)\n",
              "            (dropout): Dropout(p=0.15, inplace=False)\n",
              "          )\n",
              "        )\n",
              "      )\n",
              "    )\n",
              "    (pooler): BertPooler(\n",
              "      (dense): Linear(in_features=768, out_features=768, bias=True)\n",
              "      (activation): Tanh()\n",
              "    )\n",
              "  )\n",
              "  (dropout): Dropout(p=0.15, inplace=False)\n",
              "  (classifier): Linear(in_features=768, out_features=101, bias=True)\n",
              ")"
            ]
          },
          "metadata": {},
          "execution_count": 10
        }
      ]
    },
    {
      "cell_type": "code",
      "execution_count": 11,
      "metadata": {
        "colab": {
          "base_uri": "https://localhost:8080/"
        },
        "id": "F1qImgeyib35",
        "outputId": "fbc335f3-a717-4354-f6e5-22ed5b153bb3"
      },
      "outputs": [
        {
          "output_type": "stream",
          "name": "stderr",
          "text": [
            "Token indices sequence length is longer than the specified maximum sequence length for this model (646 > 512). Running this sequence through the model will result in indexing errors\n"
          ]
        },
        {
          "output_type": "stream",
          "name": "stdout",
          "text": [
            "Max sentence length in training data:  7283\n"
          ]
        }
      ],
      "source": [
        "#Max length\n",
        "\n",
        "max_len = 0\n",
        "len_list=[]\n",
        "# For every sentence...\n",
        "for r in dataset_filtered.values:\n",
        "    #print(r)\n",
        "\n",
        "    # Tokenize the text and add `[CLS]` and `[SEP]` tokens.\n",
        "    input_ids = tokenizer.encode(r[1], add_special_tokens=True)\n",
        "    len_list.append([r[0],len(input_ids)])\n",
        "    \n",
        "    # Update the maximum sentence length.\n",
        "    max_len = max(max_len, len(input_ids))\n",
        "\n",
        "print('Max sentence length in training data: ', max_len)"
      ]
    },
    {
      "cell_type": "code",
      "execution_count": 12,
      "metadata": {
        "id": "TJH5YBtl2TOY"
      },
      "outputs": [],
      "source": [
        "labels = dataset_filtered.real_label.values\n",
        "sentences=dataset_filtered.review.values"
      ]
    },
    {
      "cell_type": "code",
      "source": [
        "np.unique(dataset_filtered.real_label.values)\n"
      ],
      "metadata": {
        "colab": {
          "base_uri": "https://localhost:8080/"
        },
        "id": "oI8AQwQo9hYz",
        "outputId": "4553f376-903d-4057-f698-36fe24e5c673"
      },
      "execution_count": 13,
      "outputs": [
        {
          "output_type": "execute_result",
          "data": {
            "text/plain": [
              "array([ 0,  1,  2,  3,  4,  5,  6,  7,  8,  9, 10, 11, 12, 13, 14, 15, 16,\n",
              "       17, 18, 19, 20, 21, 22, 23, 24, 25, 26, 27, 28, 29, 30, 31, 32, 33,\n",
              "       34, 35, 36, 37, 38, 39, 40, 41, 42, 43, 44, 45, 46, 47, 48, 49, 50,\n",
              "       51, 52, 53, 54, 55, 56, 57, 58, 59, 60, 61, 62, 63, 64, 65, 66, 67,\n",
              "       68, 69, 70, 71, 72, 73, 74, 75, 76, 77, 78, 79, 80, 81, 82, 83, 84,\n",
              "       85, 86, 87, 88, 89, 90, 91, 92, 93, 94, 95, 96, 97, 98, 99])"
            ]
          },
          "metadata": {},
          "execution_count": 13
        }
      ]
    },
    {
      "cell_type": "code",
      "source": [
        "#labels = torch.tensor(labels)"
      ],
      "metadata": {
        "id": "pvL9x0Nz9IA7"
      },
      "execution_count": 14,
      "outputs": []
    },
    {
      "cell_type": "code",
      "source": [
        "#labels = torch.nn.functional.one_hot(labels, num_classes = 100).to(torch.float)\n",
        "#print(labels)"
      ],
      "metadata": {
        "id": "oNK487VO9Ms9"
      },
      "execution_count": 15,
      "outputs": []
    },
    {
      "cell_type": "code",
      "source": [
        "# Print the original sentence.\n",
        "print(' Original: ', sentences[0])\n",
        "\n",
        "# Print the sentence split into tokens.\n",
        "print('Tokenized: ', tokenizer.tokenize(sentences[0]))\n",
        "\n",
        "# Print the sentence mapped to token ids.\n",
        "print('Token IDs: ', tokenizer.convert_tokens_to_ids(tokenizer.tokenize(sentences[0])))"
      ],
      "metadata": {
        "colab": {
          "base_uri": "https://localhost:8080/"
        },
        "id": "J8csXCK7-eXp",
        "outputId": "6625cd9b-c7a3-458d-d0fc-b3a55e85b5ee"
      },
      "execution_count": 16,
      "outputs": [
        {
          "output_type": "stream",
          "name": "stdout",
          "text": [
            " Original:  I have always been a fan of the Lewis and Clark (L&C) expedition and have read numerous books on that era.  I even road tripped along the Missouri River to the river's source in Montana (bypassing North Dakota and eastern Montana due to repeated tornadoes that summer), stopping along all the historical signs.  I'm a fan because I understand the courage it took to explore unknown lands with potential violent inhabitants, but I also understand the significance of American expansion to the Pacific via the Northwest passage.  Opening up these lands is one of Jefferson's biggest legacies as president.\n",
            "\n",
            "What Julie Fenster does here is not just summarize the L&C expedition, though.  She describes the young America at the turn of the 19th century.  Pioneers were moving westward, but Spain controlled the western lands. She gives short biographies of the players, the governors, kings and explorers of the era.  It was a time of great hostilities.  Fenster portrays Jefferson as a man fighting off the John Adams supporters; all was not going so well for Jefferson when he first became president.\n",
            "\n",
            "What readers get out of this very readable account is that the L&C expedition was not the only expedition going on at the time.  It's interesting to note that there were other courageous explorers willing to report back to Jefferson what the Spanish-held lands were like, and Fenster describes these in relation to the L&C expedition  The Hunter & Dunbar expedition was as valuable to Jefferson as the L&C one was, or the oft-plagued expedition of Zebulon Pike, or the courage of Thomas Freeman or Peter Custis.  All these men deserve their fifteen minutes of fame, and Fenster delivers a fast-paced narrative to tell the more complete story of a young America restless to explore and dominate its western boundaries.  If it hadn't been for the expense of the Napoleonic wars in western Europe, France and Spain may have had different visions of their mission in the New World.\n",
            "\n",
            "For those who are well-versed in the L&C expedition, it's well-known among those scholars that Lewis and Clark were not the first white men to traverse\n",
            "the Missouri River.  There were many French trappers and a few lone Spaniards who had made contact with the native tribes, and who unknowingly spread communicable diseases to these vulnerable people and decimated entire villages.  Fenster tries to bring this into perspective here, as L&C did not meet any hostile natives until they came among the Mandan.  Entire villages south of them were abandoned due to diseases the white settlers had brought to the region.\n",
            "\n",
            "This is a very readable narrative of Jefferson's goal to get the western lands explored.  There are a lot of names dropped early on to give the curious reader a perspective.  Spain and the young United States almost went to war over the status of New Orleans and the Louisiana territory, but the Napoleonic wars sidetracked the kings in Europe.  Many of the explorers in this book fall along the wayside in American history, but Fenster gives credit to all these men and help the history buff see that L&C were not the only expedition exploring unchartered waters.\n",
            "Tokenized:  ['i', 'have', 'always', 'been', 'a', 'fan', 'of', 'the', 'lewis', 'and', 'clark', '(', 'l', '&', 'c', ')', 'expedition', 'and', 'have', 'read', 'numerous', 'books', 'on', 'that', 'era', '.', 'i', 'even', 'road', 'tripped', 'along', 'the', 'missouri', 'river', 'to', 'the', 'river', \"'\", 's', 'source', 'in', 'montana', '(', 'bypass', '##ing', 'north', 'dakota', 'and', 'eastern', 'montana', 'due', 'to', 'repeated', 'tornadoes', 'that', 'summer', ')', ',', 'stopping', 'along', 'all', 'the', 'historical', 'signs', '.', 'i', \"'\", 'm', 'a', 'fan', 'because', 'i', 'understand', 'the', 'courage', 'it', 'took', 'to', 'explore', 'unknown', 'lands', 'with', 'potential', 'violent', 'inhabitants', ',', 'but', 'i', 'also', 'understand', 'the', 'significance', 'of', 'american', 'expansion', 'to', 'the', 'pacific', 'via', 'the', 'northwest', 'passage', '.', 'opening', 'up', 'these', 'lands', 'is', 'one', 'of', 'jefferson', \"'\", 's', 'biggest', 'leg', '##acies', 'as', 'president', '.', 'what', 'julie', 'fen', '##ster', 'does', 'here', 'is', 'not', 'just', 'sum', '##mar', '##ize', 'the', 'l', '&', 'c', 'expedition', ',', 'though', '.', 'she', 'describes', 'the', 'young', 'america', 'at', 'the', 'turn', 'of', 'the', '19th', 'century', '.', 'pioneers', 'were', 'moving', 'westward', ',', 'but', 'spain', 'controlled', 'the', 'western', 'lands', '.', 'she', 'gives', 'short', 'biographies', 'of', 'the', 'players', ',', 'the', 'governors', ',', 'kings', 'and', 'explorers', 'of', 'the', 'era', '.', 'it', 'was', 'a', 'time', 'of', 'great', 'hostilities', '.', 'fen', '##ster', 'portrays', 'jefferson', 'as', 'a', 'man', 'fighting', 'off', 'the', 'john', 'adams', 'supporters', ';', 'all', 'was', 'not', 'going', 'so', 'well', 'for', 'jefferson', 'when', 'he', 'first', 'became', 'president', '.', 'what', 'readers', 'get', 'out', 'of', 'this', 'very', 'read', '##able', 'account', 'is', 'that', 'the', 'l', '&', 'c', 'expedition', 'was', 'not', 'the', 'only', 'expedition', 'going', 'on', 'at', 'the', 'time', '.', 'it', \"'\", 's', 'interesting', 'to', 'note', 'that', 'there', 'were', 'other', 'courageous', 'explorers', 'willing', 'to', 'report', 'back', 'to', 'jefferson', 'what', 'the', 'spanish', '-', 'held', 'lands', 'were', 'like', ',', 'and', 'fen', '##ster', 'describes', 'these', 'in', 'relation', 'to', 'the', 'l', '&', 'c', 'expedition', 'the', 'hunter', '&', 'dunbar', 'expedition', 'was', 'as', 'valuable', 'to', 'jefferson', 'as', 'the', 'l', '&', 'c', 'one', 'was', ',', 'or', 'the', 'of', '##t', '-', 'plagued', 'expedition', 'of', 'ze', '##bu', '##lon', 'pike', ',', 'or', 'the', 'courage', 'of', 'thomas', 'freeman', 'or', 'peter', 'cu', '##stis', '.', 'all', 'these', 'men', 'deserve', 'their', 'fifteen', 'minutes', 'of', 'fame', ',', 'and', 'fen', '##ster', 'delivers', 'a', 'fast', '-', 'paced', 'narrative', 'to', 'tell', 'the', 'more', 'complete', 'story', 'of', 'a', 'young', 'america', 'restless', 'to', 'explore', 'and', 'dominate', 'its', 'western', 'boundaries', '.', 'if', 'it', 'hadn', \"'\", 't', 'been', 'for', 'the', 'expense', 'of', 'the', 'napoleonic', 'wars', 'in', 'western', 'europe', ',', 'france', 'and', 'spain', 'may', 'have', 'had', 'different', 'visions', 'of', 'their', 'mission', 'in', 'the', 'new', 'world', '.', 'for', 'those', 'who', 'are', 'well', '-', 'verse', '##d', 'in', 'the', 'l', '&', 'c', 'expedition', ',', 'it', \"'\", 's', 'well', '-', 'known', 'among', 'those', 'scholars', 'that', 'lewis', 'and', 'clark', 'were', 'not', 'the', 'first', 'white', 'men', 'to', 'traverse', 'the', 'missouri', 'river', '.', 'there', 'were', 'many', 'french', 'trap', '##pers', 'and', 'a', 'few', 'lone', 'spaniards', 'who', 'had', 'made', 'contact', 'with', 'the', 'native', 'tribes', ',', 'and', 'who', 'un', '##k', '##now', '##ingly', 'spread', 'com', '##mun', '##ica', '##ble', 'diseases', 'to', 'these', 'vulnerable', 'people', 'and', 'dec', '##imated', 'entire', 'villages', '.', 'fen', '##ster', 'tries', 'to', 'bring', 'this', 'into', 'perspective', 'here', ',', 'as', 'l', '&', 'c', 'did', 'not', 'meet', 'any', 'hostile', 'natives', 'until', 'they', 'came', 'among', 'the', 'man', '##dan', '.', 'entire', 'villages', 'south', 'of', 'them', 'were', 'abandoned', 'due', 'to', 'diseases', 'the', 'white', 'settlers', 'had', 'brought', 'to', 'the', 'region', '.', 'this', 'is', 'a', 'very', 'read', '##able', 'narrative', 'of', 'jefferson', \"'\", 's', 'goal', 'to', 'get', 'the', 'western', 'lands', 'explored', '.', 'there', 'are', 'a', 'lot', 'of', 'names', 'dropped', 'early', 'on', 'to', 'give', 'the', 'curious', 'reader', 'a', 'perspective', '.', 'spain', 'and', 'the', 'young', 'united', 'states', 'almost', 'went', 'to', 'war', 'over', 'the', 'status', 'of', 'new', 'orleans', 'and', 'the', 'louisiana', 'territory', ',', 'but', 'the', 'napoleonic', 'wars', 'side', '##tra', '##cked', 'the', 'kings', 'in', 'europe', '.', 'many', 'of', 'the', 'explorers', 'in', 'this', 'book', 'fall', 'along', 'the', 'ways', '##ide', 'in', 'american', 'history', ',', 'but', 'fen', '##ster', 'gives', 'credit', 'to', 'all', 'these', 'men', 'and', 'help', 'the', 'history', 'buff', 'see', 'that', 'l', '&', 'c', 'were', 'not', 'the', 'only', 'expedition', 'exploring', 'un', '##cha', '##rter', '##ed', 'waters', '.']\n",
            "Token IDs:  [1045, 2031, 2467, 2042, 1037, 5470, 1997, 1996, 4572, 1998, 5215, 1006, 1048, 1004, 1039, 1007, 5590, 1998, 2031, 3191, 3365, 2808, 2006, 2008, 3690, 1012, 1045, 2130, 2346, 21129, 2247, 1996, 5284, 2314, 2000, 1996, 2314, 1005, 1055, 3120, 1999, 8124, 1006, 11826, 2075, 2167, 7734, 1998, 2789, 8124, 2349, 2000, 5567, 22668, 2008, 2621, 1007, 1010, 7458, 2247, 2035, 1996, 3439, 5751, 1012, 1045, 1005, 1049, 1037, 5470, 2138, 1045, 3305, 1996, 8424, 2009, 2165, 2000, 8849, 4242, 4915, 2007, 4022, 6355, 4864, 1010, 2021, 1045, 2036, 3305, 1996, 7784, 1997, 2137, 4935, 2000, 1996, 3534, 3081, 1996, 4514, 6019, 1012, 3098, 2039, 2122, 4915, 2003, 2028, 1997, 7625, 1005, 1055, 5221, 4190, 20499, 2004, 2343, 1012, 2054, 7628, 21713, 6238, 2515, 2182, 2003, 2025, 2074, 7680, 7849, 4697, 1996, 1048, 1004, 1039, 5590, 1010, 2295, 1012, 2016, 5577, 1996, 2402, 2637, 2012, 1996, 2735, 1997, 1996, 3708, 2301, 1012, 13200, 2020, 3048, 15165, 1010, 2021, 3577, 4758, 1996, 2530, 4915, 1012, 2016, 3957, 2460, 22056, 1997, 1996, 2867, 1010, 1996, 11141, 1010, 5465, 1998, 19264, 1997, 1996, 3690, 1012, 2009, 2001, 1037, 2051, 1997, 2307, 17601, 1012, 21713, 6238, 17509, 7625, 2004, 1037, 2158, 3554, 2125, 1996, 2198, 5922, 6793, 1025, 2035, 2001, 2025, 2183, 2061, 2092, 2005, 7625, 2043, 2002, 2034, 2150, 2343, 1012, 2054, 8141, 2131, 2041, 1997, 2023, 2200, 3191, 3085, 4070, 2003, 2008, 1996, 1048, 1004, 1039, 5590, 2001, 2025, 1996, 2069, 5590, 2183, 2006, 2012, 1996, 2051, 1012, 2009, 1005, 1055, 5875, 2000, 3602, 2008, 2045, 2020, 2060, 26103, 19264, 5627, 2000, 3189, 2067, 2000, 7625, 2054, 1996, 3009, 1011, 2218, 4915, 2020, 2066, 1010, 1998, 21713, 6238, 5577, 2122, 1999, 7189, 2000, 1996, 1048, 1004, 1039, 5590, 1996, 4477, 1004, 23034, 5590, 2001, 2004, 7070, 2000, 7625, 2004, 1996, 1048, 1004, 1039, 2028, 2001, 1010, 2030, 1996, 1997, 2102, 1011, 17808, 5590, 1997, 27838, 8569, 7811, 12694, 1010, 2030, 1996, 8424, 1997, 2726, 11462, 2030, 2848, 12731, 29472, 1012, 2035, 2122, 2273, 10107, 2037, 5417, 2781, 1997, 4476, 1010, 1998, 21713, 6238, 18058, 1037, 3435, 1011, 13823, 7984, 2000, 2425, 1996, 2062, 3143, 2466, 1997, 1037, 2402, 2637, 15035, 2000, 8849, 1998, 16083, 2049, 2530, 7372, 1012, 2065, 2009, 2910, 1005, 1056, 2042, 2005, 1996, 10961, 1997, 1996, 18813, 5233, 1999, 2530, 2885, 1010, 2605, 1998, 3577, 2089, 2031, 2018, 2367, 12018, 1997, 2037, 3260, 1999, 1996, 2047, 2088, 1012, 2005, 2216, 2040, 2024, 2092, 1011, 7893, 2094, 1999, 1996, 1048, 1004, 1039, 5590, 1010, 2009, 1005, 1055, 2092, 1011, 2124, 2426, 2216, 5784, 2008, 4572, 1998, 5215, 2020, 2025, 1996, 2034, 2317, 2273, 2000, 20811, 1996, 5284, 2314, 1012, 2045, 2020, 2116, 2413, 8132, 7347, 1998, 1037, 2261, 10459, 20999, 2040, 2018, 2081, 3967, 2007, 1996, 3128, 6946, 1010, 1998, 2040, 4895, 2243, 19779, 15787, 3659, 4012, 23041, 5555, 3468, 7870, 2000, 2122, 8211, 2111, 1998, 11703, 20592, 2972, 4731, 1012, 21713, 6238, 5363, 2000, 3288, 2023, 2046, 7339, 2182, 1010, 2004, 1048, 1004, 1039, 2106, 2025, 3113, 2151, 10420, 12493, 2127, 2027, 2234, 2426, 1996, 2158, 7847, 1012, 2972, 4731, 2148, 1997, 2068, 2020, 4704, 2349, 2000, 7870, 1996, 2317, 7322, 2018, 2716, 2000, 1996, 2555, 1012, 2023, 2003, 1037, 2200, 3191, 3085, 7984, 1997, 7625, 1005, 1055, 3125, 2000, 2131, 1996, 2530, 4915, 10641, 1012, 2045, 2024, 1037, 2843, 1997, 3415, 3333, 2220, 2006, 2000, 2507, 1996, 8025, 8068, 1037, 7339, 1012, 3577, 1998, 1996, 2402, 2142, 2163, 2471, 2253, 2000, 2162, 2058, 1996, 3570, 1997, 2047, 5979, 1998, 1996, 5773, 3700, 1010, 2021, 1996, 18813, 5233, 2217, 6494, 18141, 1996, 5465, 1999, 2885, 1012, 2116, 1997, 1996, 19264, 1999, 2023, 2338, 2991, 2247, 1996, 3971, 5178, 1999, 2137, 2381, 1010, 2021, 21713, 6238, 3957, 4923, 2000, 2035, 2122, 2273, 1998, 2393, 1996, 2381, 23176, 2156, 2008, 1048, 1004, 1039, 2020, 2025, 1996, 2069, 5590, 11131, 4895, 7507, 19418, 2098, 5380, 1012]\n"
          ]
        }
      ]
    },
    {
      "cell_type": "code",
      "execution_count": 17,
      "metadata": {
        "id": "6LWSQnh-UGQn"
      },
      "outputs": [],
      "source": [
        "input_ids = []\n",
        "attention_masks = []\n",
        "\n",
        "# For every sentence...\n",
        "for s in sentences:\n",
        "    # `encode_plus` will:\n",
        "    #   (1) Tokenize the sentence.\n",
        "    #   (2) Prepend the `[CLS]` token to the start.\n",
        "    #   (3) Append the `[SEP]` token to the end.\n",
        "    #   (4) Map tokens to their IDs.\n",
        "    #   (5) Pad or truncate the sentence to `max_length`\n",
        "    #   (6) Create attention masks for [PAD] tokens.\n",
        "    encoded_dict = tokenizer.encode_plus(\n",
        "                        s,                      # Sentence to encode.\n",
        "                        truncation=True,\n",
        "                        add_special_tokens = True, # Add '[CLS]' and '[SEP]'\n",
        "                        max_length = 512,           # Pad & truncate all sentences.\n",
        "                        padding='max_length',\n",
        "                        return_attention_mask = True,   # Construct attn. masks.\n",
        "                        return_tensors = 'pt',     # Return pytorch tensors.\n",
        "                        return_overflowing_tokens=False,\n",
        "                   )\n",
        "    \n",
        "    # Add the encoded sentence to the list.    \n",
        "    input_ids.append(encoded_dict['input_ids'])\n",
        "    \n",
        "    # And its attention mask (simply differentiates padding from non-padding).\n",
        "    attention_masks.append(encoded_dict['attention_mask'])\n",
        "\n",
        "# Convert the lists into tensors.\n",
        "input_ids = torch.cat(input_ids, dim=0)\n",
        "attention_masks = torch.cat(attention_masks, dim=0)\n",
        "labels = torch.tensor(labels)\n"
      ]
    },
    {
      "cell_type": "code",
      "source": [
        "input_ids[0]"
      ],
      "metadata": {
        "colab": {
          "base_uri": "https://localhost:8080/"
        },
        "id": "94sqHr36CdtB",
        "outputId": "620b232b-0796-438c-cd95-3581ac07ec4a"
      },
      "execution_count": 18,
      "outputs": [
        {
          "output_type": "execute_result",
          "data": {
            "text/plain": [
              "tensor([  101,  1045,  2031,  2467,  2042,  1037,  5470,  1997,  1996,  4572,\n",
              "         1998,  5215,  1006,  1048,  1004,  1039,  1007,  5590,  1998,  2031,\n",
              "         3191,  3365,  2808,  2006,  2008,  3690,  1012,  1045,  2130,  2346,\n",
              "        21129,  2247,  1996,  5284,  2314,  2000,  1996,  2314,  1005,  1055,\n",
              "         3120,  1999,  8124,  1006, 11826,  2075,  2167,  7734,  1998,  2789,\n",
              "         8124,  2349,  2000,  5567, 22668,  2008,  2621,  1007,  1010,  7458,\n",
              "         2247,  2035,  1996,  3439,  5751,  1012,  1045,  1005,  1049,  1037,\n",
              "         5470,  2138,  1045,  3305,  1996,  8424,  2009,  2165,  2000,  8849,\n",
              "         4242,  4915,  2007,  4022,  6355,  4864,  1010,  2021,  1045,  2036,\n",
              "         3305,  1996,  7784,  1997,  2137,  4935,  2000,  1996,  3534,  3081,\n",
              "         1996,  4514,  6019,  1012,  3098,  2039,  2122,  4915,  2003,  2028,\n",
              "         1997,  7625,  1005,  1055,  5221,  4190, 20499,  2004,  2343,  1012,\n",
              "         2054,  7628, 21713,  6238,  2515,  2182,  2003,  2025,  2074,  7680,\n",
              "         7849,  4697,  1996,  1048,  1004,  1039,  5590,  1010,  2295,  1012,\n",
              "         2016,  5577,  1996,  2402,  2637,  2012,  1996,  2735,  1997,  1996,\n",
              "         3708,  2301,  1012, 13200,  2020,  3048, 15165,  1010,  2021,  3577,\n",
              "         4758,  1996,  2530,  4915,  1012,  2016,  3957,  2460, 22056,  1997,\n",
              "         1996,  2867,  1010,  1996, 11141,  1010,  5465,  1998, 19264,  1997,\n",
              "         1996,  3690,  1012,  2009,  2001,  1037,  2051,  1997,  2307, 17601,\n",
              "         1012, 21713,  6238, 17509,  7625,  2004,  1037,  2158,  3554,  2125,\n",
              "         1996,  2198,  5922,  6793,  1025,  2035,  2001,  2025,  2183,  2061,\n",
              "         2092,  2005,  7625,  2043,  2002,  2034,  2150,  2343,  1012,  2054,\n",
              "         8141,  2131,  2041,  1997,  2023,  2200,  3191,  3085,  4070,  2003,\n",
              "         2008,  1996,  1048,  1004,  1039,  5590,  2001,  2025,  1996,  2069,\n",
              "         5590,  2183,  2006,  2012,  1996,  2051,  1012,  2009,  1005,  1055,\n",
              "         5875,  2000,  3602,  2008,  2045,  2020,  2060, 26103, 19264,  5627,\n",
              "         2000,  3189,  2067,  2000,  7625,  2054,  1996,  3009,  1011,  2218,\n",
              "         4915,  2020,  2066,  1010,  1998, 21713,  6238,  5577,  2122,  1999,\n",
              "         7189,  2000,  1996,  1048,  1004,  1039,  5590,  1996,  4477,  1004,\n",
              "        23034,  5590,  2001,  2004,  7070,  2000,  7625,  2004,  1996,  1048,\n",
              "         1004,  1039,  2028,  2001,  1010,  2030,  1996,  1997,  2102,  1011,\n",
              "        17808,  5590,  1997, 27838,  8569,  7811, 12694,  1010,  2030,  1996,\n",
              "         8424,  1997,  2726, 11462,  2030,  2848, 12731, 29472,  1012,  2035,\n",
              "         2122,  2273, 10107,  2037,  5417,  2781,  1997,  4476,  1010,  1998,\n",
              "        21713,  6238, 18058,  1037,  3435,  1011, 13823,  7984,  2000,  2425,\n",
              "         1996,  2062,  3143,  2466,  1997,  1037,  2402,  2637, 15035,  2000,\n",
              "         8849,  1998, 16083,  2049,  2530,  7372,  1012,  2065,  2009,  2910,\n",
              "         1005,  1056,  2042,  2005,  1996, 10961,  1997,  1996, 18813,  5233,\n",
              "         1999,  2530,  2885,  1010,  2605,  1998,  3577,  2089,  2031,  2018,\n",
              "         2367, 12018,  1997,  2037,  3260,  1999,  1996,  2047,  2088,  1012,\n",
              "         2005,  2216,  2040,  2024,  2092,  1011,  7893,  2094,  1999,  1996,\n",
              "         1048,  1004,  1039,  5590,  1010,  2009,  1005,  1055,  2092,  1011,\n",
              "         2124,  2426,  2216,  5784,  2008,  4572,  1998,  5215,  2020,  2025,\n",
              "         1996,  2034,  2317,  2273,  2000, 20811,  1996,  5284,  2314,  1012,\n",
              "         2045,  2020,  2116,  2413,  8132,  7347,  1998,  1037,  2261, 10459,\n",
              "        20999,  2040,  2018,  2081,  3967,  2007,  1996,  3128,  6946,  1010,\n",
              "         1998,  2040,  4895,  2243, 19779, 15787,  3659,  4012, 23041,  5555,\n",
              "         3468,  7870,  2000,  2122,  8211,  2111,  1998, 11703, 20592,  2972,\n",
              "         4731,  1012, 21713,  6238,  5363,  2000,  3288,  2023,  2046,  7339,\n",
              "         2182,  1010,  2004,  1048,  1004,  1039,  2106,  2025,  3113,  2151,\n",
              "        10420, 12493,  2127,  2027,  2234,  2426,  1996,  2158,  7847,  1012,\n",
              "         2972,   102])"
            ]
          },
          "metadata": {},
          "execution_count": 18
        }
      ]
    },
    {
      "cell_type": "code",
      "source": [
        "attention_masks[0]"
      ],
      "metadata": {
        "colab": {
          "base_uri": "https://localhost:8080/"
        },
        "id": "xlyteN-zJGuU",
        "outputId": "8fa4f4ef-70f2-4dca-83ad-ee32df7abb3f"
      },
      "execution_count": 19,
      "outputs": [
        {
          "output_type": "execute_result",
          "data": {
            "text/plain": [
              "tensor([1, 1, 1, 1, 1, 1, 1, 1, 1, 1, 1, 1, 1, 1, 1, 1, 1, 1, 1, 1, 1, 1, 1, 1,\n",
              "        1, 1, 1, 1, 1, 1, 1, 1, 1, 1, 1, 1, 1, 1, 1, 1, 1, 1, 1, 1, 1, 1, 1, 1,\n",
              "        1, 1, 1, 1, 1, 1, 1, 1, 1, 1, 1, 1, 1, 1, 1, 1, 1, 1, 1, 1, 1, 1, 1, 1,\n",
              "        1, 1, 1, 1, 1, 1, 1, 1, 1, 1, 1, 1, 1, 1, 1, 1, 1, 1, 1, 1, 1, 1, 1, 1,\n",
              "        1, 1, 1, 1, 1, 1, 1, 1, 1, 1, 1, 1, 1, 1, 1, 1, 1, 1, 1, 1, 1, 1, 1, 1,\n",
              "        1, 1, 1, 1, 1, 1, 1, 1, 1, 1, 1, 1, 1, 1, 1, 1, 1, 1, 1, 1, 1, 1, 1, 1,\n",
              "        1, 1, 1, 1, 1, 1, 1, 1, 1, 1, 1, 1, 1, 1, 1, 1, 1, 1, 1, 1, 1, 1, 1, 1,\n",
              "        1, 1, 1, 1, 1, 1, 1, 1, 1, 1, 1, 1, 1, 1, 1, 1, 1, 1, 1, 1, 1, 1, 1, 1,\n",
              "        1, 1, 1, 1, 1, 1, 1, 1, 1, 1, 1, 1, 1, 1, 1, 1, 1, 1, 1, 1, 1, 1, 1, 1,\n",
              "        1, 1, 1, 1, 1, 1, 1, 1, 1, 1, 1, 1, 1, 1, 1, 1, 1, 1, 1, 1, 1, 1, 1, 1,\n",
              "        1, 1, 1, 1, 1, 1, 1, 1, 1, 1, 1, 1, 1, 1, 1, 1, 1, 1, 1, 1, 1, 1, 1, 1,\n",
              "        1, 1, 1, 1, 1, 1, 1, 1, 1, 1, 1, 1, 1, 1, 1, 1, 1, 1, 1, 1, 1, 1, 1, 1,\n",
              "        1, 1, 1, 1, 1, 1, 1, 1, 1, 1, 1, 1, 1, 1, 1, 1, 1, 1, 1, 1, 1, 1, 1, 1,\n",
              "        1, 1, 1, 1, 1, 1, 1, 1, 1, 1, 1, 1, 1, 1, 1, 1, 1, 1, 1, 1, 1, 1, 1, 1,\n",
              "        1, 1, 1, 1, 1, 1, 1, 1, 1, 1, 1, 1, 1, 1, 1, 1, 1, 1, 1, 1, 1, 1, 1, 1,\n",
              "        1, 1, 1, 1, 1, 1, 1, 1, 1, 1, 1, 1, 1, 1, 1, 1, 1, 1, 1, 1, 1, 1, 1, 1,\n",
              "        1, 1, 1, 1, 1, 1, 1, 1, 1, 1, 1, 1, 1, 1, 1, 1, 1, 1, 1, 1, 1, 1, 1, 1,\n",
              "        1, 1, 1, 1, 1, 1, 1, 1, 1, 1, 1, 1, 1, 1, 1, 1, 1, 1, 1, 1, 1, 1, 1, 1,\n",
              "        1, 1, 1, 1, 1, 1, 1, 1, 1, 1, 1, 1, 1, 1, 1, 1, 1, 1, 1, 1, 1, 1, 1, 1,\n",
              "        1, 1, 1, 1, 1, 1, 1, 1, 1, 1, 1, 1, 1, 1, 1, 1, 1, 1, 1, 1, 1, 1, 1, 1,\n",
              "        1, 1, 1, 1, 1, 1, 1, 1, 1, 1, 1, 1, 1, 1, 1, 1, 1, 1, 1, 1, 1, 1, 1, 1,\n",
              "        1, 1, 1, 1, 1, 1, 1, 1])"
            ]
          },
          "metadata": {},
          "execution_count": 19
        }
      ]
    },
    {
      "cell_type": "code",
      "execution_count": 20,
      "metadata": {
        "id": "vPrzId6-VHRr",
        "colab": {
          "base_uri": "https://localhost:8080/"
        },
        "outputId": "6fdff302-e3ea-4e40-e1cd-12eb5b90ef65"
      },
      "outputs": [
        {
          "output_type": "stream",
          "name": "stdout",
          "text": [
            "45,000 training samples\n",
            "5,000 validation samples\n"
          ]
        }
      ],
      "source": [
        "from torch.utils.data import TensorDataset, random_split\n",
        "\n",
        "# Combine the training inputs into a TensorDataset.\n",
        "dataset = TensorDataset(input_ids, attention_masks, labels)\n",
        "\n",
        "# Create a 90-10 train-validation split.\n",
        "\n",
        "# Calculate the number of samples to include in each set.\n",
        "train_size = int(0.9 * len(dataset))\n",
        "val_size = len(dataset) - train_size\n",
        "\n",
        "generator = torch.Generator()\n",
        "generator.manual_seed(44)\n",
        "\n",
        "# Divide the dataset by randomly selecting samples.\n",
        "train_dataset, val_dataset = random_split(dataset, [train_size, val_size], generator=generator)\n",
        "\n",
        "print('{:>5,} training samples'.format(train_size))\n",
        "print('{:>5,} validation samples'.format(val_size))"
      ]
    },
    {
      "cell_type": "code",
      "source": [
        "from torch.utils.data import DataLoader, RandomSampler, SequentialSampler\n",
        "\n",
        "# The DataLoader needs to know our batch size for training, so we specify it \n",
        "# here. For fine-tuning BERT on a specific task, the authors recommend a batch \n",
        "# size of 16 or 32.\n",
        "batch_size = 16\n",
        "\n",
        "# Create the DataLoaders for our training and validation sets.\n",
        "# We'll take training samples in random order. \n",
        "train_dataloader = DataLoader(\n",
        "            train_dataset,  # The training samples.\n",
        "            sampler = RandomSampler(train_dataset), # Select batches randomly\n",
        "            batch_size = batch_size, # Trains with this batch size.\n",
        "            num_workers=2\n",
        "        )\n",
        "\n",
        "# For validation the order doesn't matter, so we'll just read them sequentially.\n",
        "validation_dataloader = DataLoader(\n",
        "            val_dataset, # The validation samples.\n",
        "            sampler = SequentialSampler(val_dataset), # Pull out batches sequentially.\n",
        "            batch_size = batch_size, # Evaluate with this batch size.\n",
        "            num_workers=2\n",
        "        )"
      ],
      "metadata": {
        "id": "S28rl4_sW-Tg"
      },
      "execution_count": 21,
      "outputs": []
    },
    {
      "cell_type": "code",
      "source": [
        "# from transformers import RobertaForSequenceClassification,BertForSequenceClassification, AdamW, BertConfig\n",
        "\n",
        "# # Load BertForSequenceClassification, the pretrained BERT model with a single \n",
        "# # linear classification layer on top. \n",
        "\n",
        "# model = AutoModelForSequenceClassification.from_pretrained('bert-base-uncased', config=config)\n",
        "\n",
        "# \"\"\"\n",
        "# model = RobertaForSequenceClassification.from_pretrained(\n",
        "#     \"roberta-base\", # Use the 12-layer BERT model, with an uncased vocab.\n",
        "#     num_labels = 100, # The number of output labels--2 for binary classification.\n",
        "#              # You can increase this for multi-class tasks.   \n",
        "#     output_attentions = False, # Whether the model returns attentions weights.\n",
        "#     output_hidden_states = True, # Whether the model returns all hidden-states.\n",
        "# )\"\"\"\n",
        "\n",
        "# # Tell pytorch to run this model on the GPU.\n",
        "# model.to(device)"
      ],
      "metadata": {
        "id": "FFC8OPPtXj-o"
      },
      "execution_count": 22,
      "outputs": []
    },
    {
      "cell_type": "code",
      "source": [
        "# Note: AdamW is a class from the huggingface library (as opposed to pytorch) \n",
        "# I believe the 'W' stands for 'Weight Decay fix\"\n",
        "optimizer = AdamW(model.parameters(),\n",
        "                  lr = 5e-5, # args.learning_rate - default is 5e-5, our notebook had 2e-5\n",
        "                  eps = 1e-8 # args.adam_epsilon  - default is 1e-8.\n",
        "                )\n"
      ],
      "metadata": {
        "colab": {
          "base_uri": "https://localhost:8080/"
        },
        "id": "tyfOCEN1Xryv",
        "outputId": "1b06684d-9ae4-4fe8-8eed-a0654fdf2fef"
      },
      "execution_count": 23,
      "outputs": [
        {
          "output_type": "stream",
          "name": "stderr",
          "text": [
            "/usr/local/lib/python3.7/dist-packages/transformers/optimization.py:310: FutureWarning: This implementation of AdamW is deprecated and will be removed in a future version. Use the PyTorch implementation torch.optim.AdamW instead, or set `no_deprecation_warning=True` to disable this warning\n",
            "  FutureWarning,\n"
          ]
        }
      ]
    },
    {
      "cell_type": "code",
      "source": [
        "from transformers import get_linear_schedule_with_warmup\n",
        "\n",
        "# Number of training epochs. The BERT authors recommend between 2 and 4. \n",
        "# We chose to run for 4, but we'll see later that this may be over-fitting the\n",
        "# training data.\n",
        "epochs = 2\n",
        "\n",
        "# Total number of training steps is [number of batches] x [number of epochs]. \n",
        "# (Note that this is not the same as the number of training samples).\n",
        "#total_steps = len(train_dataloader) * epochs\n",
        "gradient_accumulation_steps=1\n",
        "n_gpu=1\n",
        "#total_steps= ((len(train_dataloader) // (batch_size * max(1, n_gpu)))// gradient_accumulation_steps* float(epochs))\n",
        "total_steps = len(train_dataloader) * epochs\n",
        "\n",
        "# Create the learning rate scheduler.\n",
        "scheduler = get_linear_schedule_with_warmup(optimizer, \n",
        "                                            num_warmup_steps = 0, # Default value in run_glue.py\n",
        "                                            num_training_steps = total_steps)"
      ],
      "metadata": {
        "id": "0w5GFlvKYPSt"
      },
      "execution_count": 24,
      "outputs": []
    },
    {
      "cell_type": "code",
      "source": [
        "import numpy as np\n",
        "\n",
        "# Function to calculate the accuracy of our predictions vs labels\n",
        "def flat_accuracy(preds, labels):\n",
        "    pred_flat = np.argmax(preds, axis=1).flatten()\n",
        "    labels_flat = labels.flatten()\n",
        "    return np.sum(pred_flat == labels_flat) / len(labels_flat)"
      ],
      "metadata": {
        "id": "Kw9o2H90ZOV6"
      },
      "execution_count": 25,
      "outputs": []
    },
    {
      "cell_type": "code",
      "source": [
        "import time\n",
        "import datetime\n",
        "\n",
        "def format_time(elapsed):\n",
        "    '''\n",
        "    Takes a time in seconds and returns a string hh:mm:ss\n",
        "    '''\n",
        "    # Round to the nearest second.\n",
        "    elapsed_rounded = int(round((elapsed)))\n",
        "    \n",
        "    # Format as hh:mm:ss\n",
        "    return str(datetime.timedelta(seconds=elapsed_rounded))\n"
      ],
      "metadata": {
        "id": "ETl2dVFAZRQ9"
      },
      "execution_count": 26,
      "outputs": []
    },
    {
      "cell_type": "code",
      "source": [],
      "metadata": {
        "id": "g3VSWJY-BIEQ"
      },
      "execution_count": 26,
      "outputs": []
    },
    {
      "cell_type": "code",
      "source": [],
      "metadata": {
        "id": "66SqB6uMBIHx"
      },
      "execution_count": 26,
      "outputs": []
    },
    {
      "cell_type": "code",
      "source": [],
      "metadata": {
        "id": "zrxmddWgA4cS"
      },
      "execution_count": 26,
      "outputs": []
    },
    {
      "cell_type": "code",
      "source": [
        "# x = torch.randn(1)"
      ],
      "metadata": {
        "id": "5H4s_OnkA4e0"
      },
      "execution_count": 27,
      "outputs": []
    },
    {
      "cell_type": "code",
      "source": [
        "# x"
      ],
      "metadata": {
        "id": "NNBdfXbKBFq4"
      },
      "execution_count": 28,
      "outputs": []
    },
    {
      "cell_type": "code",
      "source": [
        "# r =nn.ReLU()"
      ],
      "metadata": {
        "id": "gCQMjgO9bSt0"
      },
      "execution_count": 29,
      "outputs": []
    },
    {
      "cell_type": "code",
      "source": [
        "# r(x)"
      ],
      "metadata": {
        "id": "JNl5tVWibUK5"
      },
      "execution_count": 30,
      "outputs": []
    },
    {
      "cell_type": "code",
      "source": [
        "# torch.cat((x, x, x), 0)"
      ],
      "metadata": {
        "id": "v7OfPiRtA4hE"
      },
      "execution_count": 31,
      "outputs": []
    },
    {
      "cell_type": "code",
      "source": [
        "#  eps = 1e-07\n",
        "#  print(eps)"
      ],
      "metadata": {
        "id": "0RLH0u9jaqMm"
      },
      "execution_count": 32,
      "outputs": []
    },
    {
      "cell_type": "code",
      "source": [],
      "metadata": {
        "id": "ZXgwP-TPaqRy"
      },
      "execution_count": 32,
      "outputs": []
    },
    {
      "cell_type": "code",
      "source": [],
      "metadata": {
        "id": "iBTEnFlRaqTt"
      },
      "execution_count": 32,
      "outputs": []
    },
    {
      "cell_type": "code",
      "source": [],
      "metadata": {
        "id": "OLkwap5waqXB"
      },
      "execution_count": 32,
      "outputs": []
    },
    {
      "cell_type": "code",
      "source": [],
      "metadata": {
        "id": "z5rW50TJBHaX"
      },
      "execution_count": 32,
      "outputs": []
    },
    {
      "cell_type": "code",
      "source": [
        "import torch.nn as nn"
      ],
      "metadata": {
        "id": "kGPX_c8JBHdy"
      },
      "execution_count": 33,
      "outputs": []
    },
    {
      "cell_type": "code",
      "source": [
        "import random\n",
        "seed_val = 44\n",
        "\n",
        "random.seed(seed_val)\n",
        "np.random.seed(seed_val)\n",
        "torch.manual_seed(seed_val)\n",
        "torch.cuda.manual_seed_all(seed_val)"
      ],
      "metadata": {
        "id": "RLrdCbDju7W_"
      },
      "execution_count": 34,
      "outputs": []
    },
    {
      "cell_type": "code",
      "source": [
        "import random\n",
        "import numpy as np\n",
        "\n",
        "# This training code is based on the `run_glue.py` script here:\n",
        "# https://github.com/huggingface/transformers/blob/5bfcd0485ece086ebcbed2d008813037968a9e58/examples/run_glue.py#L128\n",
        "\n",
        "# Set the seed value all over the place to make this reproducible.\n",
        "seed_val = 44\n",
        "\n",
        "random.seed(seed_val)\n",
        "np.random.seed(seed_val)\n",
        "torch.manual_seed(seed_val)\n",
        "torch.cuda.manual_seed_all(seed_val)\n",
        "\n",
        "# We'll store a number of quantities such as training and validation loss, \n",
        "# validation accuracy, and timings.\n",
        "training_stats = []\n",
        "\n",
        "# Measure the total training time for the whole run.\n",
        "total_t0 = time.time()\n",
        "\n",
        "# For each epoch...\n",
        "for epoch_i in range(0, epochs):\n",
        "    \n",
        "    # ========================================\n",
        "    #               Training\n",
        "    # ========================================\n",
        "    \n",
        "    # Perform one full pass over the training set.\n",
        "\n",
        "    print(\"\")\n",
        "    print('======== Epoch {:} / {:} ========'.format(epoch_i + 1, epochs))\n",
        "    print('Training...')\n",
        "\n",
        "    # Measure how long the training epoch takes.\n",
        "    t0 = time.time()\n",
        "\n",
        "    # Reset the total loss for this epoch.\n",
        "    total_train_loss = 0\n",
        "\n",
        "    # Put the model into training mode. Don't be mislead--the call to \n",
        "    # `train` just changes the *mode*, it doesn't *perform* the training.\n",
        "    # `dropout` and `batchnorm` layers behave differently during training\n",
        "    # vs. test (source: https://stackoverflow.com/questions/51433378/what-does-model-train-do-in-pytorch)\n",
        "    model.train()\n",
        "\n",
        "    # For each batch of training data...\n",
        "    for step, batch in enumerate(train_dataloader):\n",
        "\n",
        "        # Progress update every 40 batches.\n",
        "        if step % 40 == 0 and not step == 0:\n",
        "            # Calculate elapsed time in minutes.\n",
        "            elapsed = format_time(time.time() - t0)\n",
        "            \n",
        "            # Report progress.\n",
        "            print('  Batch {:>5,}  of  {:>5,}.    Elapsed: {:}.'.format(step, len(train_dataloader), elapsed))\n",
        "\n",
        "        # Unpack this training batch from our dataloader. \n",
        "        #\n",
        "        # As we unpack the batch, we'll also copy each tensor to the GPU using the \n",
        "        # `to` method.\n",
        "        #\n",
        "        # `batch` contains three pytorch tensors:\n",
        "        #   [0]: input ids \n",
        "        #   [1]: attention masks\n",
        "        #   [2]: labels \n",
        "        b_input_ids = batch[0].to(device)\n",
        "        b_input_mask = batch[1].to(device)\n",
        "        b_labels = batch[2].to(device)\n",
        "      #  print(b_input_ids)\n",
        "      #  print(b_input_mask)\n",
        "      #  print(b_labels)\n",
        "        arr_ind=[i for i in range(len(b_labels))]\n",
        "      #  print(arr_ind)\n",
        "        counter = 0\n",
        "        ########\n",
        "        b_lables_pair_l2 = []\n",
        "        while(1):\n",
        "          ind2=np.random.choice(arr_ind)\n",
        "          ind1=np.random.choice(arr_ind)\n",
        "          counter =counter + 1\n",
        "          if(b_labels[ind1].item()!=b_labels[ind2].item() and [ind1,ind2] not in b_lables_pair_l2):\n",
        "         #    print(ind1,ind2)\n",
        "             #print(b_labels[ind1].item(),b_labels[ind2].item())\n",
        "            # arr_ind.remove(ind1)\n",
        "             arr_ind.remove(ind2)\n",
        "             b_lables_pair_l2.append([ind1,ind2])\n",
        "          if(counter>75 or len(arr_ind)<=8):\n",
        "         #   print(arr_ind)\n",
        "            break\n",
        "        #arr_ind = [i for i in range(8)]\n",
        "        # print(b_labels)\n",
        "        # print(\"b_lables_pair_l2\",b_lables_pair_l2)\n",
        "        # print(\"b_lables_pair_l2\",len(b_lables_pair_l2))\n",
        "        # print(\"arr_ind\",arr_ind)\n",
        "        # print(\"arr_ind\",len(arr_ind))\n",
        "        b_input_ids_l1 = torch.cat(tuple([batch[0][ind:ind+1] for ind in arr_ind])).to(device)\n",
        "        b_input_mask_l1 = torch.cat(tuple([batch[1][ind:ind+1] for ind in arr_ind])).to(device)\n",
        "        b_labels_l1 = torch.cat(tuple([batch[2][ind:ind+1] for ind in arr_ind])).to(device)\n",
        "        # print(b_input_ids)\n",
        "        # print(b_input_ids_l1)\n",
        "\n",
        "        # print(\"******\")\n",
        "        # print(batch[0][0:1])\n",
        "        # print(batch[0][1:2])\n",
        "        # sum_pair = np.ceil((batch[0][0:1]+batch[0][1:2])/2)\n",
        "        # avg_pair=sum_pair.type(torch.int64)\n",
        "        # print(avg_pair)\n",
        "        b_input_ids_l2=[]\n",
        "        b_input_mask_l2=[]\n",
        "        b_labels_l2=[]\n",
        "\n",
        "        for ind_pair in b_lables_pair_l2:\n",
        "          i=ind_pair[0]\n",
        "          j=ind_pair[1]\n",
        "\n",
        "          sum_pair=np.ceil((batch[0][i:i+1]+batch[0][j:j+1])/2)\n",
        "          avg_pair=sum_pair.type(torch.int64)\n",
        "          b_input_ids_l2.append(avg_pair)\n",
        "\n",
        "\n",
        "\n",
        "          sum_pair_mask=np.ceil((batch[1][i:i+1]+batch[1][j:j+1])/2)\n",
        "          avg_pair_mask=sum_pair_mask.type(torch.int64)\n",
        "\n",
        "          b_input_mask_l2.append(avg_pair_mask)\n",
        "\n",
        "          b_labels_l2.append(torch.tensor([100]))\n",
        "\n",
        "        b_labels_l2 = torch.cat(tuple(b_labels_l2)).to(device)\n",
        "        b_input_mask_l2 = torch.cat(tuple(b_input_mask_l2)).to(device)\n",
        "        b_input_ids_l2 = torch.cat(tuple(b_input_ids_l2)).to(device)\n",
        "        # print(\"b_labels_l1\",b_labels_l1)\n",
        "        # print(\"len(b_labels_l1)\",len(b_labels_l1))\n",
        "        # print(\"b_labels_l2\",b_labels_l2)\n",
        "        # print(\"len(b_labels_l2)\",len(b_labels_l2))\n",
        "       \n",
        "\n",
        "        # Always clear any previously calculated gradients before performing a\n",
        "        # backward pass. PyTorch doesn't do this automatically because \n",
        "        # accumulating the gradients is \"convenient while training RNNs\". \n",
        "        # (source: https://stackoverflow.com/questions/48001598/why-do-we-need-to-call-zero-grad-in-pytorch)\n",
        "        model.zero_grad()        \n",
        "\n",
        "        # Perform a forward pass (evaluate the model on this training batch).\n",
        "        # In PyTorch, calling `model` will in turn call the model's `forward` \n",
        "        # function and pass down the arguments. The `forward` function is \n",
        "        # documented here: \n",
        "        # https://huggingface.co/transformers/model_doc/bert.html#bertforsequenceclassification\n",
        "        # The results are returned in a results object, documented here:\n",
        "        # https://huggingface.co/transformers/main_classes/output.html#transformers.modeling_outputs.SequenceClassifierOutput\n",
        "        # Specifically, we'll get the loss (because we provided labels) and the\n",
        "        # \"logits\"--the model outputs prior to activation.\n",
        "        result1 = model(b_input_ids_l1, \n",
        "                       token_type_ids=None, \n",
        "                       attention_mask=b_input_mask_l1, \n",
        "                       labels=b_labels_l1,\n",
        "                       return_dict=True)\n",
        "        \n",
        "        result2 = model(b_input_ids_l2, \n",
        "                       token_type_ids=None, \n",
        "                       attention_mask=b_input_mask_l2, \n",
        "                       labels=b_labels_l2,\n",
        "                       return_dict=True)\n",
        "        \n",
        " \n",
        "\n",
        " \n",
        "        loss1 = result1.loss\n",
        "        loss2 = result2.loss\n",
        "        \n",
        "\n",
        "        logits1 = result1.logits\n",
        "        logits2 = result2.logits\n",
        "\n",
        "        eps = 1e-7\n",
        "        # t = F.relu()\n",
        "        # t = torch.log(t +eps)\n",
        "\n",
        "        kthlogits1 = logits1[: , len(logits1[0])-1:len(logits1[0])].clone()\n",
        "        kthlogits2 = logits2[: , len(logits2[0])-1:len(logits2[0])].clone()\n",
        "      #  print(\"kthlogits before Relu   \",kthlogits1)\n",
        "        ReLU = nn.ReLU()\n",
        "        kthlogits1 = ReLU(kthlogits1)\n",
        "      #  print(\"kthlogits after Relu   \",kthlogits1)\n",
        "        kthloss1 = -1 * torch.log(kthlogits1 + eps)\n",
        "       # print(\"kthloss  \",kthloss1)\n",
        "        kthloss1 = torch.sum(kthloss1)\n",
        "        kthloss1 = torch.sum(kthloss1)/len(b_labels_l1)\n",
        "       # print(\"kthloss  \",kthloss1)\n",
        "        #print(\"logits : \",logits)\n",
        "        #print(len(logits))\n",
        "        kthlogits2 = ReLU(kthlogits2)\n",
        "        kthloss2 = -1 * torch.log(kthlogits2 + eps)\n",
        "        kthloss2 = torch.sum(kthloss2)/len(b_labels_l2)\n",
        "        loss = (2 * loss2) + kthloss2 + loss1 + (0.4 * kthloss1) \n",
        "\n",
        "        # Accumulate the training loss over all of the batches so that we can\n",
        "        # calculate the average loss at the end. `loss` is a Tensor containing a\n",
        "        # single value; the `.item()` function just returns the Python value \n",
        "        # from the tensor.\n",
        "        total_train_loss += loss.item()\n",
        "\n",
        "        # Perform a backward pass to calculate the gradients.\n",
        "        loss.backward()\n",
        "\n",
        "        # Clip the norm of the gradients to 1.0.\n",
        "        # This is to help prevent the \"exploding gradients\" problem.\n",
        "        torch.nn.utils.clip_grad_norm_(model.parameters(), 1.0)\n",
        "\n",
        "        # Update parameters and take a step using the computed gradient.\n",
        "        # The optimizer dictates the \"update rule\"--how the parameters are\n",
        "        # modified based on their gradients, the learning rate, etc.\n",
        "        optimizer.step()\n",
        "\n",
        "        # Update the learning rate.\n",
        "        scheduler.step()\n",
        "        \n",
        "\n",
        "    # Calculate the average loss over all of the batches.\n",
        "    avg_train_loss = total_train_loss / len(train_dataloader)            \n",
        "    \n",
        "    # Measure how long this epoch took.\n",
        "    training_time = format_time(time.time() - t0)\n",
        "\n",
        "    print(\"\")\n",
        "    print(\"  Average training loss: {0:.2f}\".format(avg_train_loss))\n",
        "    print(\"  Training epcoh took: {:}\".format(training_time))\n",
        "        \n",
        "    # ========================================\n",
        "    #               Validation\n",
        "    # ========================================\n",
        "    # After the completion of each training epoch, measure our performance on\n",
        "    # our validation set.\n",
        "\n",
        "    print(\"\")\n",
        "    print(\"Running Validation...\")\n",
        "\n",
        "    t0 = time.time()\n",
        "\n",
        "    # Put the model in evaluation mode--the dropout layers behave differently\n",
        "    # during evaluation.\n",
        "    model.eval()\n",
        "\n",
        "    # Tracking variables \n",
        "    total_eval_accuracy = 0\n",
        "    total_eval_loss = 0\n",
        "    nb_eval_steps = 0\n",
        "\n",
        "    # Evaluate data for one epoch\n",
        "    for batch in validation_dataloader:\n",
        "        \n",
        "        # Unpack this training batch from our dataloader. \n",
        "        #\n",
        "        # As we unpack the batch, we'll also copy each tensor to the GPU using \n",
        "        # the `to` method.\n",
        "        #\n",
        "        # `batch` contains three pytorch tensors:\n",
        "        #   [0]: input ids \n",
        "        #   [1]: attention masks\n",
        "        #   [2]: labels \n",
        "        b_input_ids = batch[0].to(device)\n",
        "        b_input_mask = batch[1].to(device)\n",
        "        b_labels = batch[2].to(device)\n",
        "\n",
        "        \n",
        "        # Tell pytorch not to bother with constructing the compute graph during\n",
        "        # the forward pass, since this is only needed for backprop (training).\n",
        "        with torch.no_grad():        \n",
        "\n",
        "            # Forward pass, calculate logit predictions.\n",
        "            # token_type_ids is the same as the \"segment ids\", which \n",
        "            # differentiates sentence 1 and 2 in 2-sentence tasks.\n",
        "            result = model(b_input_ids, \n",
        "                           token_type_ids=None, \n",
        "                           attention_mask=b_input_mask,\n",
        "                           labels=b_labels,\n",
        "                           return_dict=True)\n",
        "\n",
        "        # Get the loss and \"logits\" output by the model. The \"logits\" are the \n",
        "        # output values prior to applying an activation function like the \n",
        "        # softmax.\n",
        "        loss = result.loss\n",
        "        logits = result.logits\n",
        "       # print(logits)\n",
        "        \n",
        "        # Accumulate the validation loss.\n",
        "        total_eval_loss += loss.item()\n",
        "\n",
        "        # Move logits and labels to CPU\n",
        "        logits = logits.detach().cpu().numpy()\n",
        "        label_ids = b_labels.to('cpu').numpy()\n",
        "      #  print(label_ids) \n",
        "        # Calculate the accuracy for this batch of test sentences, and\n",
        "        # accumulate it over all batches.\n",
        "        total_eval_accuracy += flat_accuracy(logits, label_ids)\n",
        "        \n",
        "\n",
        "    # Report the final accuracy for this validation run.\n",
        "    avg_val_accuracy = total_eval_accuracy / len(validation_dataloader)\n",
        "    print(\"  Accuracy: {0:.2f}\".format(avg_val_accuracy))\n",
        "\n",
        "    # Calculate the average loss over all of the batches.\n",
        "    avg_val_loss = total_eval_loss / len(validation_dataloader)\n",
        "    \n",
        "    # Measure how long the validation run took.\n",
        "    validation_time = format_time(time.time() - t0)\n",
        "    \n",
        "    print(\"  Validation Loss: {0:.2f}\".format(avg_val_loss))\n",
        "    print(\"  Validation took: {:}\".format(validation_time))\n",
        "\n",
        "    # Record all statistics from this epoch.\n",
        "    training_stats.append(\n",
        "        {\n",
        "            'epoch': epoch_i + 1,\n",
        "            'Training Loss': avg_train_loss,\n",
        "            'Valid. Loss': avg_val_loss,\n",
        "            'Valid. Accur.': avg_val_accuracy,\n",
        "            'Training Time': training_time,\n",
        "            'Validation Time': validation_time\n",
        "        }\n",
        "    )\n",
        "\n",
        "print(\"\")\n",
        "print(\"Training complete!\")\n",
        "\n",
        "print(\"Total training took {:} (h:mm:ss)\".format(format_time(time.time()-total_t0)))"
      ],
      "metadata": {
        "colab": {
          "base_uri": "https://localhost:8080/"
        },
        "id": "CX-FmXpBZfoX",
        "outputId": "f352d4f8-d7cd-410e-f378-928d199e1eae"
      },
      "execution_count": null,
      "outputs": [
        {
          "output_type": "stream",
          "name": "stdout",
          "text": [
            "\n",
            "======== Epoch 1 / 2 ========\n",
            "Training...\n",
            "  Batch    40  of  2,813.    Elapsed: 0:01:00.\n",
            "  Batch    80  of  2,813.    Elapsed: 0:02:03.\n",
            "  Batch   120  of  2,813.    Elapsed: 0:03:05.\n",
            "  Batch   160  of  2,813.    Elapsed: 0:04:08.\n",
            "  Batch   200  of  2,813.    Elapsed: 0:05:12.\n",
            "  Batch   240  of  2,813.    Elapsed: 0:06:14.\n",
            "  Batch   280  of  2,813.    Elapsed: 0:07:17.\n",
            "  Batch   320  of  2,813.    Elapsed: 0:08:20.\n",
            "  Batch   360  of  2,813.    Elapsed: 0:09:23.\n",
            "  Batch   400  of  2,813.    Elapsed: 0:10:26.\n",
            "  Batch   440  of  2,813.    Elapsed: 0:11:29.\n",
            "  Batch   480  of  2,813.    Elapsed: 0:12:31.\n",
            "  Batch   520  of  2,813.    Elapsed: 0:13:34.\n",
            "  Batch   560  of  2,813.    Elapsed: 0:14:37.\n",
            "  Batch   600  of  2,813.    Elapsed: 0:15:40.\n",
            "  Batch   640  of  2,813.    Elapsed: 0:16:43.\n",
            "  Batch   680  of  2,813.    Elapsed: 0:17:46.\n",
            "  Batch   720  of  2,813.    Elapsed: 0:18:49.\n",
            "  Batch   760  of  2,813.    Elapsed: 0:19:52.\n",
            "  Batch   800  of  2,813.    Elapsed: 0:20:54.\n",
            "  Batch   840  of  2,813.    Elapsed: 0:21:58.\n",
            "  Batch   880  of  2,813.    Elapsed: 0:23:01.\n",
            "  Batch   920  of  2,813.    Elapsed: 0:24:03.\n",
            "  Batch   960  of  2,813.    Elapsed: 0:25:06.\n",
            "  Batch 1,000  of  2,813.    Elapsed: 0:26:09.\n",
            "  Batch 1,040  of  2,813.    Elapsed: 0:27:12.\n",
            "  Batch 1,080  of  2,813.    Elapsed: 0:28:15.\n",
            "  Batch 1,120  of  2,813.    Elapsed: 0:29:18.\n",
            "  Batch 1,160  of  2,813.    Elapsed: 0:30:21.\n",
            "  Batch 1,200  of  2,813.    Elapsed: 0:31:24.\n",
            "  Batch 1,240  of  2,813.    Elapsed: 0:32:27.\n",
            "  Batch 1,280  of  2,813.    Elapsed: 0:33:29.\n",
            "  Batch 1,320  of  2,813.    Elapsed: 0:34:32.\n",
            "  Batch 1,360  of  2,813.    Elapsed: 0:35:35.\n",
            "  Batch 1,400  of  2,813.    Elapsed: 0:36:38.\n",
            "  Batch 1,440  of  2,813.    Elapsed: 0:37:40.\n",
            "  Batch 1,480  of  2,813.    Elapsed: 0:38:43.\n",
            "  Batch 1,520  of  2,813.    Elapsed: 0:39:46.\n",
            "  Batch 1,560  of  2,813.    Elapsed: 0:40:50.\n",
            "  Batch 1,600  of  2,813.    Elapsed: 0:41:53.\n",
            "  Batch 1,640  of  2,813.    Elapsed: 0:42:56.\n",
            "  Batch 1,680  of  2,813.    Elapsed: 0:43:58.\n",
            "  Batch 1,720  of  2,813.    Elapsed: 0:45:01.\n",
            "  Batch 1,760  of  2,813.    Elapsed: 0:46:04.\n",
            "  Batch 1,800  of  2,813.    Elapsed: 0:47:07.\n",
            "  Batch 1,840  of  2,813.    Elapsed: 0:48:10.\n",
            "  Batch 1,880  of  2,813.    Elapsed: 0:49:12.\n",
            "  Batch 1,920  of  2,813.    Elapsed: 0:50:15.\n",
            "  Batch 1,960  of  2,813.    Elapsed: 0:51:18.\n",
            "  Batch 2,000  of  2,813.    Elapsed: 0:52:20.\n",
            "  Batch 2,040  of  2,813.    Elapsed: 0:53:23.\n",
            "  Batch 2,080  of  2,813.    Elapsed: 0:54:26.\n",
            "  Batch 2,120  of  2,813.    Elapsed: 0:55:29.\n",
            "  Batch 2,160  of  2,813.    Elapsed: 0:56:32.\n",
            "  Batch 2,200  of  2,813.    Elapsed: 0:57:34.\n",
            "  Batch 2,240  of  2,813.    Elapsed: 0:58:37.\n",
            "  Batch 2,280  of  2,813.    Elapsed: 0:59:40.\n",
            "  Batch 2,320  of  2,813.    Elapsed: 1:00:43.\n",
            "  Batch 2,360  of  2,813.    Elapsed: 1:01:45.\n",
            "  Batch 2,400  of  2,813.    Elapsed: 1:02:48.\n",
            "  Batch 2,440  of  2,813.    Elapsed: 1:03:51.\n",
            "  Batch 2,480  of  2,813.    Elapsed: 1:04:53.\n",
            "  Batch 2,520  of  2,813.    Elapsed: 1:05:56.\n",
            "  Batch 2,560  of  2,813.    Elapsed: 1:06:59.\n",
            "  Batch 2,600  of  2,813.    Elapsed: 1:08:02.\n",
            "  Batch 2,640  of  2,813.    Elapsed: 1:09:05.\n",
            "  Batch 2,680  of  2,813.    Elapsed: 1:10:08.\n",
            "  Batch 2,720  of  2,813.    Elapsed: 1:11:10.\n",
            "  Batch 2,760  of  2,813.    Elapsed: 1:12:13.\n",
            "  Batch 2,800  of  2,813.    Elapsed: 1:13:16.\n",
            "\n",
            "  Average training loss: -5.99\n",
            "  Training epcoh took: 1:13:36\n",
            "\n",
            "Running Validation...\n",
            "  Accuracy: 0.90\n",
            "  Validation Loss: 1.28\n",
            "  Validation took: 0:03:00\n",
            "\n",
            "======== Epoch 2 / 2 ========\n",
            "Training...\n",
            "  Batch    40  of  2,813.    Elapsed: 0:01:03.\n",
            "  Batch    80  of  2,813.    Elapsed: 0:02:06.\n",
            "  Batch   120  of  2,813.    Elapsed: 0:03:08.\n",
            "  Batch   160  of  2,813.    Elapsed: 0:04:11.\n",
            "  Batch   200  of  2,813.    Elapsed: 0:05:14.\n",
            "  Batch   240  of  2,813.    Elapsed: 0:06:16.\n",
            "  Batch   280  of  2,813.    Elapsed: 0:07:19.\n",
            "  Batch   320  of  2,813.    Elapsed: 0:08:22.\n",
            "  Batch   360  of  2,813.    Elapsed: 0:09:25.\n",
            "  Batch   400  of  2,813.    Elapsed: 0:10:28.\n",
            "  Batch   440  of  2,813.    Elapsed: 0:11:31.\n",
            "  Batch   480  of  2,813.    Elapsed: 0:12:34.\n",
            "  Batch   520  of  2,813.    Elapsed: 0:13:37.\n",
            "  Batch   560  of  2,813.    Elapsed: 0:14:40.\n",
            "  Batch   600  of  2,813.    Elapsed: 0:15:42.\n",
            "  Batch   640  of  2,813.    Elapsed: 0:16:45.\n",
            "  Batch   680  of  2,813.    Elapsed: 0:17:48.\n",
            "  Batch   720  of  2,813.    Elapsed: 0:18:51.\n",
            "  Batch   760  of  2,813.    Elapsed: 0:19:54.\n",
            "  Batch   800  of  2,813.    Elapsed: 0:20:56.\n",
            "  Batch   840  of  2,813.    Elapsed: 0:21:59.\n",
            "  Batch   880  of  2,813.    Elapsed: 0:23:02.\n",
            "  Batch   920  of  2,813.    Elapsed: 0:24:05.\n",
            "  Batch   960  of  2,813.    Elapsed: 0:25:08.\n",
            "  Batch 1,000  of  2,813.    Elapsed: 0:26:10.\n",
            "  Batch 1,040  of  2,813.    Elapsed: 0:27:13.\n",
            "  Batch 1,080  of  2,813.    Elapsed: 0:28:16.\n",
            "  Batch 1,120  of  2,813.    Elapsed: 0:29:19.\n",
            "  Batch 1,160  of  2,813.    Elapsed: 0:30:22.\n",
            "  Batch 1,200  of  2,813.    Elapsed: 0:31:24.\n",
            "  Batch 1,240  of  2,813.    Elapsed: 0:32:27.\n",
            "  Batch 1,280  of  2,813.    Elapsed: 0:33:29.\n",
            "  Batch 1,320  of  2,813.    Elapsed: 0:34:32.\n",
            "  Batch 1,360  of  2,813.    Elapsed: 0:35:35.\n",
            "  Batch 1,400  of  2,813.    Elapsed: 0:36:37.\n",
            "  Batch 1,440  of  2,813.    Elapsed: 0:37:40.\n",
            "  Batch 1,480  of  2,813.    Elapsed: 0:38:42.\n",
            "  Batch 1,520  of  2,813.    Elapsed: 0:39:45.\n",
            "  Batch 1,560  of  2,813.    Elapsed: 0:40:48.\n",
            "  Batch 1,600  of  2,813.    Elapsed: 0:41:50.\n",
            "  Batch 1,640  of  2,813.    Elapsed: 0:42:53.\n",
            "  Batch 1,680  of  2,813.    Elapsed: 0:43:56.\n",
            "  Batch 1,720  of  2,813.    Elapsed: 0:45:00.\n",
            "  Batch 1,760  of  2,813.    Elapsed: 0:46:03.\n",
            "  Batch 1,800  of  2,813.    Elapsed: 0:47:05.\n",
            "  Batch 1,840  of  2,813.    Elapsed: 0:48:08.\n",
            "  Batch 1,880  of  2,813.    Elapsed: 0:49:11.\n",
            "  Batch 1,920  of  2,813.    Elapsed: 0:50:14.\n",
            "  Batch 1,960  of  2,813.    Elapsed: 0:51:17.\n",
            "  Batch 2,000  of  2,813.    Elapsed: 0:52:20.\n",
            "  Batch 2,040  of  2,813.    Elapsed: 0:53:23.\n",
            "  Batch 2,080  of  2,813.    Elapsed: 0:54:26.\n",
            "  Batch 2,120  of  2,813.    Elapsed: 0:55:29.\n",
            "  Batch 2,160  of  2,813.    Elapsed: 0:56:31.\n",
            "  Batch 2,200  of  2,813.    Elapsed: 0:57:34.\n",
            "  Batch 2,240  of  2,813.    Elapsed: 0:58:37.\n",
            "  Batch 2,280  of  2,813.    Elapsed: 0:59:40.\n",
            "  Batch 2,320  of  2,813.    Elapsed: 1:00:43.\n",
            "  Batch 2,360  of  2,813.    Elapsed: 1:01:46.\n",
            "  Batch 2,400  of  2,813.    Elapsed: 1:02:49.\n",
            "  Batch 2,440  of  2,813.    Elapsed: 1:03:51.\n",
            "  Batch 2,480  of  2,813.    Elapsed: 1:04:54.\n",
            "  Batch 2,520  of  2,813.    Elapsed: 1:05:57.\n",
            "  Batch 2,560  of  2,813.    Elapsed: 1:07:00.\n",
            "  Batch 2,600  of  2,813.    Elapsed: 1:08:03.\n",
            "  Batch 2,640  of  2,813.    Elapsed: 1:09:05.\n",
            "  Batch 2,680  of  2,813.    Elapsed: 1:10:08.\n",
            "  Batch 2,720  of  2,813.    Elapsed: 1:11:11.\n",
            "  Batch 2,760  of  2,813.    Elapsed: 1:12:14.\n",
            "  Batch 2,800  of  2,813.    Elapsed: 1:13:17.\n",
            "\n",
            "  Average training loss: -6.30\n",
            "  Training epcoh took: 1:13:36\n",
            "\n",
            "Running Validation...\n",
            "  Accuracy: 0.91\n",
            "  Validation Loss: 1.22\n",
            "  Validation took: 0:03:01\n",
            "\n",
            "Training complete!\n",
            "Total training took 2:33:13 (h:mm:ss)\n"
          ]
        }
      ]
    },
    {
      "cell_type": "markdown",
      "source": [],
      "metadata": {
        "id": "lUfA0mzOZki_"
      }
    },
    {
      "cell_type": "code",
      "source": [
        "import os\n",
        "\n",
        "# Saving best-practices: if you use defaults names for the model, you can reload it using from_pretrained()\n",
        "\n",
        "output_dir = '/content/drive/MyDrive/ASU/model_save/'\n",
        "\n",
        "# Create output directory if needed\n",
        "if not os.path.exists(output_dir):\n",
        "    os.makedirs(output_dir)\n",
        "if not os.path.exists(output_dir+'tokenizer/'):\n",
        "    os.makedirs(output_dir+'tokenizer/')\n",
        "\n",
        "print(\"Saving model to %s\" % output_dir)\n",
        "\n",
        "# Save a trained model, configuration and tokenizer using `save_pretrained()`.\n",
        "# They can then be reloaded using `from_pretrained()`\n",
        "model_to_save = model.module if hasattr(model, 'module') else model  # Take care of distributed/parallel training\n",
        "model_to_save.save_pretrained(output_dir)\n",
        "tokenizer.save_pretrained(output_dir+'tokenizer/')\n",
        "\n",
        "# Good practice: save your training arguments together with the trained model\n",
        "# torch.save(args, os.path.join(output_dir, 'training_args.bin'))\n"
      ],
      "metadata": {
        "id": "xFET0qIiPdk7",
        "colab": {
          "base_uri": "https://localhost:8080/"
        },
        "outputId": "6955f9ab-697b-49a9-d087-5c380f6b8e8d"
      },
      "execution_count": null,
      "outputs": [
        {
          "output_type": "stream",
          "name": "stdout",
          "text": [
            "Saving model to /content/drive/MyDrive/ASU/model_save/\n"
          ]
        },
        {
          "output_type": "execute_result",
          "data": {
            "text/plain": [
              "('/content/drive/MyDrive/ASU/model_save/tokenizer/tokenizer_config.json',\n",
              " '/content/drive/MyDrive/ASU/model_save/tokenizer/special_tokens_map.json',\n",
              " '/content/drive/MyDrive/ASU/model_save/tokenizer/vocab.txt',\n",
              " '/content/drive/MyDrive/ASU/model_save/tokenizer/added_tokens.json',\n",
              " '/content/drive/MyDrive/ASU/model_save/tokenizer/tokenizer.json')"
            ]
          },
          "metadata": {},
          "execution_count": 36
        }
      ]
    },
    {
      "cell_type": "code",
      "source": [],
      "metadata": {
        "id": "2RIsX_1VuuO4"
      },
      "execution_count": null,
      "outputs": []
    },
    {
      "cell_type": "code",
      "source": [],
      "metadata": {
        "id": "B-aozXuiuuSt"
      },
      "execution_count": null,
      "outputs": []
    },
    {
      "cell_type": "code",
      "source": [
        "# print(\"Running Validation...\")\n",
        "\n",
        "# t0 = time.time()\n",
        "\n",
        "# # Put the model in evaluation mode--the dropout layers behave differently\n",
        "# # during evaluation.\n",
        "# model.eval()\n",
        "\n",
        "# # Tracking variables \n",
        "# total_eval_accuracy = 0\n",
        "# total_eval_loss = 0\n",
        "# nb_eval_steps = 0\n",
        "\n",
        "# predictions , true_labels = [], []\n",
        "# count = 1\n",
        "# # Evaluate data for one epoch\n",
        "# for batch in validation_dataloader:\n",
        "    \n",
        "#     # Unpack this training batch from our dataloader. \n",
        "#     #\n",
        "#     # As we unpack the batch, we'll also copy each tensor to the GPU using \n",
        "#     # the `to` method.\n",
        "#     #\n",
        "#     # `batch` contains three pytorch tensors:\n",
        "#     #   [0]: input ids \n",
        "#     #   [1]: attention masks\n",
        "#     #   [2]: labels \n",
        "#     b_input_ids = batch[0].to(device)\n",
        "#     b_input_mask = batch[1].to(device)\n",
        "#     b_labels = batch[2].to(device)\n",
        "\n",
        "    \n",
        "#     # Tell pytorch not to bother with constructing the compute graph during\n",
        "#     # the forward pass, since this is only needed for backprop (training).\n",
        "#     with torch.no_grad():        \n",
        "\n",
        "#         # Forward pass, calculate logit predictions.\n",
        "#         # token_type_ids is the same as the \"segment ids\", which \n",
        "#         # differentiates sentence 1 and 2 in 2-sentence tasks.\n",
        "#         result = model(b_input_ids, \n",
        "#                         token_type_ids=None, \n",
        "#                         attention_mask=b_input_mask,\n",
        "#                         labels=b_labels,\n",
        "#                         return_dict=True)\n",
        "\n",
        "#     # Get the loss and \"logits\" output by the model. The \"logits\" are the \n",
        "#     # output values prior to applying an activation function like the \n",
        "#     # softmax.\n",
        "#     loss = result.loss\n",
        "#     logits = result.logits\n",
        "#     # print(logits)\n",
        "    \n",
        "#     # Accumulate the validation loss.\n",
        "#     total_eval_loss += loss.item()\n",
        "\n",
        "#     # Move logits and labels to CPU\n",
        "#     logits = logits.detach().cpu().numpy()\n",
        "#     logits[:,100] = logits[:,100] + 3\n",
        "#     label_ids = b_labels.to('cpu').numpy()\n",
        "#     pred_labels = np.argmax(logits, axis=1)\n",
        "#   #  print(label_ids) \n",
        "#     # Calculate the accuracy for this batch of test sentences, and\n",
        "#     # accumulate it over all batches.\n",
        "\n",
        "#     total_eval_accuracy += flat_accuracy(logits, label_ids)\n",
        "\n",
        "#       # Store predictions and true labels\n",
        "#     predictions.extend(pred_labels.tolist())\n",
        "#     true_labels.extend(label_ids.tolist())\n",
        "#     # if(count == 1):\n",
        "#     #   break\n",
        "#     count = count +1\n",
        "\n",
        "    \n",
        "\n",
        "# # Report the final accuracy for this validation run.\n",
        "# avg_val_accuracy = total_eval_accuracy / len(validation_dataloader)\n",
        "# print(\"  Accuracy: {0:.2f}\".format(avg_val_accuracy))\n",
        "\n",
        "# # Calculate the average loss over all of the batches.\n",
        "# avg_val_loss = total_eval_loss / len(validation_dataloader)\n",
        "\n",
        "# # Measure how long the validation run took.\n",
        "# validation_time = format_time(time.time() - t0)\n",
        "\n",
        "# print(\"  Validation Loss: {0:.2f}\".format(avg_val_loss))\n",
        "# print(\"  Validation took: {:}\".format(validation_time))"
      ],
      "metadata": {
        "id": "MJ5XI85DuuVJ"
      },
      "execution_count": null,
      "outputs": []
    },
    {
      "cell_type": "markdown",
      "source": [
        "bias ........................                      percentage\n",
        "\n",
        "   4   .........................                    .58"
      ],
      "metadata": {
        "id": "jUxaOGAP_yu1"
      }
    },
    {
      "cell_type": "code",
      "source": [
        "# from sklearn.metrics import classification_report\n",
        "\n",
        "# result_report= classification_report(true_labels, predictions, digits=3, output_dict=False)\n",
        "# print(result_report)"
      ],
      "metadata": {
        "id": "GlDwxTqb9I_I"
      },
      "execution_count": null,
      "outputs": []
    },
    {
      "cell_type": "code",
      "source": [
        "# len(predictions)"
      ],
      "metadata": {
        "id": "OppISe6t9UGj"
      },
      "execution_count": null,
      "outputs": []
    },
    {
      "cell_type": "code",
      "source": [
        "# predictions.count(100)"
      ],
      "metadata": {
        "id": "3daDRx3u_ijx"
      },
      "execution_count": null,
      "outputs": []
    },
    {
      "cell_type": "code",
      "source": [
        "# predictions.count(100)/len(predictions)"
      ],
      "metadata": {
        "id": "CcADTQZC_mBt"
      },
      "execution_count": null,
      "outputs": []
    },
    {
      "cell_type": "code",
      "source": [
        "# len(true_labels)"
      ],
      "metadata": {
        "id": "2cLiXR-d8dGm"
      },
      "execution_count": null,
      "outputs": []
    },
    {
      "cell_type": "code",
      "source": [
        "# import numpy as np\n",
        "\n",
        "# # Function to calculate the accuracy of our predictions vs labels\n",
        "# def flat_accuracy(preds, labels):\n",
        "#     pred_flat = np.argmax(preds, axis=1).flatten()\n",
        "#     labels_flat = labels.flatten()\n",
        "#     return np.sum(pred_flat == labels_flat) / len(labels_flat)"
      ],
      "metadata": {
        "id": "a5gkpsd7wsTx"
      },
      "execution_count": null,
      "outputs": []
    },
    {
      "cell_type": "code",
      "source": [
        "# label_ids"
      ],
      "metadata": {
        "id": "T20tqWtKwsdm"
      },
      "execution_count": null,
      "outputs": []
    },
    {
      "cell_type": "code",
      "source": [
        "# index = np.argmax(logits, axis=1).flatten()"
      ],
      "metadata": {
        "id": "0W3X60iSwsmF"
      },
      "execution_count": null,
      "outputs": []
    },
    {
      "cell_type": "code",
      "source": [
        "# A = np.max(logits, axis=1).flatten()"
      ],
      "metadata": {
        "id": "YFoZh2hUyOjK"
      },
      "execution_count": null,
      "outputs": []
    },
    {
      "cell_type": "code",
      "source": [
        "# A"
      ],
      "metadata": {
        "id": "W_Tbcqae4INZ"
      },
      "execution_count": null,
      "outputs": []
    },
    {
      "cell_type": "code",
      "source": [
        "# logits[0]"
      ],
      "metadata": {
        "id": "DKLjJg0t9uFm"
      },
      "execution_count": null,
      "outputs": []
    },
    {
      "cell_type": "code",
      "source": [
        "# logits[:,100].flatten()"
      ],
      "metadata": {
        "id": "fKoIwTyR5rQa"
      },
      "execution_count": null,
      "outputs": []
    },
    {
      "cell_type": "code",
      "source": [
        "# logits[:,100]"
      ],
      "metadata": {
        "id": "P4c_nsyj-DWl"
      },
      "execution_count": null,
      "outputs": []
    },
    {
      "cell_type": "code",
      "source": [
        "# logits[:,100] = logits[:,100] +10"
      ],
      "metadata": {
        "id": "_8GrOzoD9yCH"
      },
      "execution_count": null,
      "outputs": []
    },
    {
      "cell_type": "code",
      "source": [
        "# logits[0]"
      ],
      "metadata": {
        "id": "ZwtiSFBG95Ds"
      },
      "execution_count": null,
      "outputs": []
    },
    {
      "cell_type": "code",
      "source": [
        "# B = logits[:,100].flatten()+5"
      ],
      "metadata": {
        "id": "pgBa2Rgg2xHY"
      },
      "execution_count": null,
      "outputs": []
    },
    {
      "cell_type": "code",
      "source": [
        "# B"
      ],
      "metadata": {
        "id": "N1SF2OxN4JUd"
      },
      "execution_count": null,
      "outputs": []
    },
    {
      "cell_type": "code",
      "source": [
        "# B - A"
      ],
      "metadata": {
        "id": "Qeu_pCuL3RLE"
      },
      "execution_count": null,
      "outputs": []
    },
    {
      "cell_type": "code",
      "source": [
        "# logits[0]"
      ],
      "metadata": {
        "id": "sQY7kD5NzUQn"
      },
      "execution_count": null,
      "outputs": []
    },
    {
      "cell_type": "code",
      "source": [
        "# logits[:,100].flatten()"
      ],
      "metadata": {
        "id": "zhx-17rfuvMJ"
      },
      "execution_count": null,
      "outputs": []
    },
    {
      "cell_type": "code",
      "source": [
        "# #print(logits)\n",
        "# for i in logits:\n",
        "#   print(i[100])"
      ],
      "metadata": {
        "id": "NkrxioAluvPg"
      },
      "execution_count": null,
      "outputs": []
    },
    {
      "cell_type": "code",
      "source": [
        "# import pandas as pd\n",
        "\n",
        "# # Display floats with two decimal places.\n",
        "# pd.set_option('precision', 2)\n",
        "\n",
        "# # Create a DataFrame from our training statistics.\n",
        "# df_stats = pd.DataFrame(data=training_stats)\n",
        "\n",
        "# # Use the 'epoch' as the row index.\n",
        "# df_stats = df_stats.set_index('epoch')\n",
        "\n",
        "# # A hack to force the column headers to wrap.\n",
        "# #df = df.style.set_table_styles([dict(selector=\"th\",props=[('max-width', '70px')])])\n",
        "\n",
        "# # Display the table.\n",
        "# df_stats"
      ],
      "metadata": {
        "id": "Tv4UlVXfHU5h"
      },
      "execution_count": null,
      "outputs": []
    },
    {
      "cell_type": "code",
      "source": [
        "# import matplotlib.pyplot as plt\n",
        "# %matplotlib inline\n",
        "\n",
        "# import seaborn as sns\n",
        "\n",
        "# # Use plot styling from seaborn.\n",
        "# sns.set(style='darkgrid')\n",
        "\n",
        "# # Increase the plot size and font size.\n",
        "# sns.set(font_scale=1.5)\n",
        "# plt.rcParams[\"figure.figsize\"] = (12,6)\n",
        "\n",
        "# # Plot the learning curve.\n",
        "# plt.plot(df_stats['Training Loss'], 'b-o', label=\"Training\")\n",
        "# plt.plot(df_stats['Valid. Loss'], 'g-o', label=\"Validation\")\n",
        "\n",
        "# # Label the plot.\n",
        "# plt.title(\"Training & Validation Loss\")\n",
        "# plt.xlabel(\"Epoch\")\n",
        "# plt.ylabel(\"Loss\")\n",
        "# plt.legend()\n",
        "# plt.xticks([1, 2, 3, 4])\n",
        "\n",
        "# plt.show()"
      ],
      "metadata": {
        "id": "iweBagNKHVLU"
      },
      "execution_count": null,
      "outputs": []
    },
    {
      "cell_type": "code",
      "source": [],
      "metadata": {
        "id": "8asac3Vx9C_k"
      },
      "execution_count": null,
      "outputs": []
    },
    {
      "cell_type": "code",
      "source": [
        "import pandas as pd\n",
        "import regex as re\n",
        "\n",
        "# Load the dataset into a pandas dataframe.\n",
        "#df = pd.read_csv(\"/content/drive/MyDrive/ASU/ood_test_data_small.csv\")\n",
        "\n",
        "\n",
        "#df = pd.read_csv(\"/content/drive/MyDrive/ASU/stage1_eval_data_ds2.csv\")\n",
        "\n",
        "df = pd.read_csv(\"/content/drive/MyDrive/ASU/stage1_eval_data_ds3.csv\")"
      ],
      "metadata": {
        "id": "nUAlH28vHYuN"
      },
      "execution_count": 90,
      "outputs": []
    },
    {
      "cell_type": "code",
      "source": [
        "# df['flag']=df.loc[:,['real_label','review']].apply(lambda x: re.match(\"UPDATE*\",x['review']),axis=1 )\n",
        "# #removing updated records\n",
        "\n",
        "# df=df.loc[:,['real_label','review','flag']].loc[df['flag'].isin([None])]\n",
        "# df.drop('flag',axis=1,inplace=True)"
      ],
      "metadata": {
        "id": "rAII-BpSKeSC"
      },
      "execution_count": 91,
      "outputs": []
    },
    {
      "cell_type": "code",
      "source": [
        "df = df[['real_label','review']]"
      ],
      "metadata": {
        "id": "JjfsmaGSL38f"
      },
      "execution_count": 92,
      "outputs": []
    },
    {
      "cell_type": "code",
      "source": [
        "df"
      ],
      "metadata": {
        "colab": {
          "base_uri": "https://localhost:8080/",
          "height": 424
        },
        "id": "K-B8p3KL7bTS",
        "outputId": "d20a1236-0739-4420-cf96-abe3001678e4"
      },
      "execution_count": 93,
      "outputs": [
        {
          "output_type": "execute_result",
          "data": {
            "text/plain": [
              "       real_label                                             review\n",
              "0              44  This is the third book in the series with depu...\n",
              "1              44  This book is nicely divided into two parts:  C...\n",
              "2              44  The character of Edward reminds me of a studen...\n",
              "3              44  This may taste \"25% less sugar than the leadin...\n",
              "4              44  Having recently taken a level 1 college math c...\n",
              "...           ...                                                ...\n",
              "99995         175  TVO has penned a novel about an Indian man who...\n",
              "99996         175  TS has written a novel that begins with the de...\n",
              "99997         175  AW has writer a novel where Americans high in ...\n",
              "99998         175  RC has written a SyFy novel about time travel ...\n",
              "99999         175  JC has written an excellent novel about a man ...\n",
              "\n",
              "[100000 rows x 2 columns]"
            ],
            "text/html": [
              "\n",
              "  <div id=\"df-9f66b7b1-c9ba-4b36-b356-99b9e5552889\">\n",
              "    <div class=\"colab-df-container\">\n",
              "      <div>\n",
              "<style scoped>\n",
              "    .dataframe tbody tr th:only-of-type {\n",
              "        vertical-align: middle;\n",
              "    }\n",
              "\n",
              "    .dataframe tbody tr th {\n",
              "        vertical-align: top;\n",
              "    }\n",
              "\n",
              "    .dataframe thead th {\n",
              "        text-align: right;\n",
              "    }\n",
              "</style>\n",
              "<table border=\"1\" class=\"dataframe\">\n",
              "  <thead>\n",
              "    <tr style=\"text-align: right;\">\n",
              "      <th></th>\n",
              "      <th>real_label</th>\n",
              "      <th>review</th>\n",
              "    </tr>\n",
              "  </thead>\n",
              "  <tbody>\n",
              "    <tr>\n",
              "      <th>0</th>\n",
              "      <td>44</td>\n",
              "      <td>This is the third book in the series with depu...</td>\n",
              "    </tr>\n",
              "    <tr>\n",
              "      <th>1</th>\n",
              "      <td>44</td>\n",
              "      <td>This book is nicely divided into two parts:  C...</td>\n",
              "    </tr>\n",
              "    <tr>\n",
              "      <th>2</th>\n",
              "      <td>44</td>\n",
              "      <td>The character of Edward reminds me of a studen...</td>\n",
              "    </tr>\n",
              "    <tr>\n",
              "      <th>3</th>\n",
              "      <td>44</td>\n",
              "      <td>This may taste \"25% less sugar than the leadin...</td>\n",
              "    </tr>\n",
              "    <tr>\n",
              "      <th>4</th>\n",
              "      <td>44</td>\n",
              "      <td>Having recently taken a level 1 college math c...</td>\n",
              "    </tr>\n",
              "    <tr>\n",
              "      <th>...</th>\n",
              "      <td>...</td>\n",
              "      <td>...</td>\n",
              "    </tr>\n",
              "    <tr>\n",
              "      <th>99995</th>\n",
              "      <td>175</td>\n",
              "      <td>TVO has penned a novel about an Indian man who...</td>\n",
              "    </tr>\n",
              "    <tr>\n",
              "      <th>99996</th>\n",
              "      <td>175</td>\n",
              "      <td>TS has written a novel that begins with the de...</td>\n",
              "    </tr>\n",
              "    <tr>\n",
              "      <th>99997</th>\n",
              "      <td>175</td>\n",
              "      <td>AW has writer a novel where Americans high in ...</td>\n",
              "    </tr>\n",
              "    <tr>\n",
              "      <th>99998</th>\n",
              "      <td>175</td>\n",
              "      <td>RC has written a SyFy novel about time travel ...</td>\n",
              "    </tr>\n",
              "    <tr>\n",
              "      <th>99999</th>\n",
              "      <td>175</td>\n",
              "      <td>JC has written an excellent novel about a man ...</td>\n",
              "    </tr>\n",
              "  </tbody>\n",
              "</table>\n",
              "<p>100000 rows × 2 columns</p>\n",
              "</div>\n",
              "      <button class=\"colab-df-convert\" onclick=\"convertToInteractive('df-9f66b7b1-c9ba-4b36-b356-99b9e5552889')\"\n",
              "              title=\"Convert this dataframe to an interactive table.\"\n",
              "              style=\"display:none;\">\n",
              "        \n",
              "  <svg xmlns=\"http://www.w3.org/2000/svg\" height=\"24px\"viewBox=\"0 0 24 24\"\n",
              "       width=\"24px\">\n",
              "    <path d=\"M0 0h24v24H0V0z\" fill=\"none\"/>\n",
              "    <path d=\"M18.56 5.44l.94 2.06.94-2.06 2.06-.94-2.06-.94-.94-2.06-.94 2.06-2.06.94zm-11 1L8.5 8.5l.94-2.06 2.06-.94-2.06-.94L8.5 2.5l-.94 2.06-2.06.94zm10 10l.94 2.06.94-2.06 2.06-.94-2.06-.94-.94-2.06-.94 2.06-2.06.94z\"/><path d=\"M17.41 7.96l-1.37-1.37c-.4-.4-.92-.59-1.43-.59-.52 0-1.04.2-1.43.59L10.3 9.45l-7.72 7.72c-.78.78-.78 2.05 0 2.83L4 21.41c.39.39.9.59 1.41.59.51 0 1.02-.2 1.41-.59l7.78-7.78 2.81-2.81c.8-.78.8-2.07 0-2.86zM5.41 20L4 18.59l7.72-7.72 1.47 1.35L5.41 20z\"/>\n",
              "  </svg>\n",
              "      </button>\n",
              "      \n",
              "  <style>\n",
              "    .colab-df-container {\n",
              "      display:flex;\n",
              "      flex-wrap:wrap;\n",
              "      gap: 12px;\n",
              "    }\n",
              "\n",
              "    .colab-df-convert {\n",
              "      background-color: #E8F0FE;\n",
              "      border: none;\n",
              "      border-radius: 50%;\n",
              "      cursor: pointer;\n",
              "      display: none;\n",
              "      fill: #1967D2;\n",
              "      height: 32px;\n",
              "      padding: 0 0 0 0;\n",
              "      width: 32px;\n",
              "    }\n",
              "\n",
              "    .colab-df-convert:hover {\n",
              "      background-color: #E2EBFA;\n",
              "      box-shadow: 0px 1px 2px rgba(60, 64, 67, 0.3), 0px 1px 3px 1px rgba(60, 64, 67, 0.15);\n",
              "      fill: #174EA6;\n",
              "    }\n",
              "\n",
              "    [theme=dark] .colab-df-convert {\n",
              "      background-color: #3B4455;\n",
              "      fill: #D2E3FC;\n",
              "    }\n",
              "\n",
              "    [theme=dark] .colab-df-convert:hover {\n",
              "      background-color: #434B5C;\n",
              "      box-shadow: 0px 1px 3px 1px rgba(0, 0, 0, 0.15);\n",
              "      filter: drop-shadow(0px 1px 2px rgba(0, 0, 0, 0.3));\n",
              "      fill: #FFFFFF;\n",
              "    }\n",
              "  </style>\n",
              "\n",
              "      <script>\n",
              "        const buttonEl =\n",
              "          document.querySelector('#df-9f66b7b1-c9ba-4b36-b356-99b9e5552889 button.colab-df-convert');\n",
              "        buttonEl.style.display =\n",
              "          google.colab.kernel.accessAllowed ? 'block' : 'none';\n",
              "\n",
              "        async function convertToInteractive(key) {\n",
              "          const element = document.querySelector('#df-9f66b7b1-c9ba-4b36-b356-99b9e5552889');\n",
              "          const dataTable =\n",
              "            await google.colab.kernel.invokeFunction('convertToInteractive',\n",
              "                                                     [key], {});\n",
              "          if (!dataTable) return;\n",
              "\n",
              "          const docLinkHtml = 'Like what you see? Visit the ' +\n",
              "            '<a target=\"_blank\" href=https://colab.research.google.com/notebooks/data_table.ipynb>data table notebook</a>'\n",
              "            + ' to learn more about interactive tables.';\n",
              "          element.innerHTML = '';\n",
              "          dataTable['output_type'] = 'display_data';\n",
              "          await google.colab.output.renderOutput(dataTable, element);\n",
              "          const docLink = document.createElement('div');\n",
              "          docLink.innerHTML = docLinkHtml;\n",
              "          element.appendChild(docLink);\n",
              "        }\n",
              "      </script>\n",
              "    </div>\n",
              "  </div>\n",
              "  "
            ]
          },
          "metadata": {},
          "execution_count": 93
        }
      ]
    },
    {
      "cell_type": "code",
      "source": [
        "arr_real_labels = [i for i in range(100,10000)]"
      ],
      "metadata": {
        "id": "ZIBmhuYisehN"
      },
      "execution_count": 94,
      "outputs": []
    },
    {
      "cell_type": "code",
      "source": [
        "arr_real_labels"
      ],
      "metadata": {
        "colab": {
          "base_uri": "https://localhost:8080/"
        },
        "id": "bkEsbxpisl0i",
        "outputId": "79cf0e57-0ecd-4f3d-8266-9048162961f9"
      },
      "execution_count": 95,
      "outputs": [
        {
          "output_type": "execute_result",
          "data": {
            "text/plain": [
              "[100,\n",
              " 101,\n",
              " 102,\n",
              " 103,\n",
              " 104,\n",
              " 105,\n",
              " 106,\n",
              " 107,\n",
              " 108,\n",
              " 109,\n",
              " 110,\n",
              " 111,\n",
              " 112,\n",
              " 113,\n",
              " 114,\n",
              " 115,\n",
              " 116,\n",
              " 117,\n",
              " 118,\n",
              " 119,\n",
              " 120,\n",
              " 121,\n",
              " 122,\n",
              " 123,\n",
              " 124,\n",
              " 125,\n",
              " 126,\n",
              " 127,\n",
              " 128,\n",
              " 129,\n",
              " 130,\n",
              " 131,\n",
              " 132,\n",
              " 133,\n",
              " 134,\n",
              " 135,\n",
              " 136,\n",
              " 137,\n",
              " 138,\n",
              " 139,\n",
              " 140,\n",
              " 141,\n",
              " 142,\n",
              " 143,\n",
              " 144,\n",
              " 145,\n",
              " 146,\n",
              " 147,\n",
              " 148,\n",
              " 149,\n",
              " 150,\n",
              " 151,\n",
              " 152,\n",
              " 153,\n",
              " 154,\n",
              " 155,\n",
              " 156,\n",
              " 157,\n",
              " 158,\n",
              " 159,\n",
              " 160,\n",
              " 161,\n",
              " 162,\n",
              " 163,\n",
              " 164,\n",
              " 165,\n",
              " 166,\n",
              " 167,\n",
              " 168,\n",
              " 169,\n",
              " 170,\n",
              " 171,\n",
              " 172,\n",
              " 173,\n",
              " 174,\n",
              " 175,\n",
              " 176,\n",
              " 177,\n",
              " 178,\n",
              " 179,\n",
              " 180,\n",
              " 181,\n",
              " 182,\n",
              " 183,\n",
              " 184,\n",
              " 185,\n",
              " 186,\n",
              " 187,\n",
              " 188,\n",
              " 189,\n",
              " 190,\n",
              " 191,\n",
              " 192,\n",
              " 193,\n",
              " 194,\n",
              " 195,\n",
              " 196,\n",
              " 197,\n",
              " 198,\n",
              " 199,\n",
              " 200,\n",
              " 201,\n",
              " 202,\n",
              " 203,\n",
              " 204,\n",
              " 205,\n",
              " 206,\n",
              " 207,\n",
              " 208,\n",
              " 209,\n",
              " 210,\n",
              " 211,\n",
              " 212,\n",
              " 213,\n",
              " 214,\n",
              " 215,\n",
              " 216,\n",
              " 217,\n",
              " 218,\n",
              " 219,\n",
              " 220,\n",
              " 221,\n",
              " 222,\n",
              " 223,\n",
              " 224,\n",
              " 225,\n",
              " 226,\n",
              " 227,\n",
              " 228,\n",
              " 229,\n",
              " 230,\n",
              " 231,\n",
              " 232,\n",
              " 233,\n",
              " 234,\n",
              " 235,\n",
              " 236,\n",
              " 237,\n",
              " 238,\n",
              " 239,\n",
              " 240,\n",
              " 241,\n",
              " 242,\n",
              " 243,\n",
              " 244,\n",
              " 245,\n",
              " 246,\n",
              " 247,\n",
              " 248,\n",
              " 249,\n",
              " 250,\n",
              " 251,\n",
              " 252,\n",
              " 253,\n",
              " 254,\n",
              " 255,\n",
              " 256,\n",
              " 257,\n",
              " 258,\n",
              " 259,\n",
              " 260,\n",
              " 261,\n",
              " 262,\n",
              " 263,\n",
              " 264,\n",
              " 265,\n",
              " 266,\n",
              " 267,\n",
              " 268,\n",
              " 269,\n",
              " 270,\n",
              " 271,\n",
              " 272,\n",
              " 273,\n",
              " 274,\n",
              " 275,\n",
              " 276,\n",
              " 277,\n",
              " 278,\n",
              " 279,\n",
              " 280,\n",
              " 281,\n",
              " 282,\n",
              " 283,\n",
              " 284,\n",
              " 285,\n",
              " 286,\n",
              " 287,\n",
              " 288,\n",
              " 289,\n",
              " 290,\n",
              " 291,\n",
              " 292,\n",
              " 293,\n",
              " 294,\n",
              " 295,\n",
              " 296,\n",
              " 297,\n",
              " 298,\n",
              " 299,\n",
              " 300,\n",
              " 301,\n",
              " 302,\n",
              " 303,\n",
              " 304,\n",
              " 305,\n",
              " 306,\n",
              " 307,\n",
              " 308,\n",
              " 309,\n",
              " 310,\n",
              " 311,\n",
              " 312,\n",
              " 313,\n",
              " 314,\n",
              " 315,\n",
              " 316,\n",
              " 317,\n",
              " 318,\n",
              " 319,\n",
              " 320,\n",
              " 321,\n",
              " 322,\n",
              " 323,\n",
              " 324,\n",
              " 325,\n",
              " 326,\n",
              " 327,\n",
              " 328,\n",
              " 329,\n",
              " 330,\n",
              " 331,\n",
              " 332,\n",
              " 333,\n",
              " 334,\n",
              " 335,\n",
              " 336,\n",
              " 337,\n",
              " 338,\n",
              " 339,\n",
              " 340,\n",
              " 341,\n",
              " 342,\n",
              " 343,\n",
              " 344,\n",
              " 345,\n",
              " 346,\n",
              " 347,\n",
              " 348,\n",
              " 349,\n",
              " 350,\n",
              " 351,\n",
              " 352,\n",
              " 353,\n",
              " 354,\n",
              " 355,\n",
              " 356,\n",
              " 357,\n",
              " 358,\n",
              " 359,\n",
              " 360,\n",
              " 361,\n",
              " 362,\n",
              " 363,\n",
              " 364,\n",
              " 365,\n",
              " 366,\n",
              " 367,\n",
              " 368,\n",
              " 369,\n",
              " 370,\n",
              " 371,\n",
              " 372,\n",
              " 373,\n",
              " 374,\n",
              " 375,\n",
              " 376,\n",
              " 377,\n",
              " 378,\n",
              " 379,\n",
              " 380,\n",
              " 381,\n",
              " 382,\n",
              " 383,\n",
              " 384,\n",
              " 385,\n",
              " 386,\n",
              " 387,\n",
              " 388,\n",
              " 389,\n",
              " 390,\n",
              " 391,\n",
              " 392,\n",
              " 393,\n",
              " 394,\n",
              " 395,\n",
              " 396,\n",
              " 397,\n",
              " 398,\n",
              " 399,\n",
              " 400,\n",
              " 401,\n",
              " 402,\n",
              " 403,\n",
              " 404,\n",
              " 405,\n",
              " 406,\n",
              " 407,\n",
              " 408,\n",
              " 409,\n",
              " 410,\n",
              " 411,\n",
              " 412,\n",
              " 413,\n",
              " 414,\n",
              " 415,\n",
              " 416,\n",
              " 417,\n",
              " 418,\n",
              " 419,\n",
              " 420,\n",
              " 421,\n",
              " 422,\n",
              " 423,\n",
              " 424,\n",
              " 425,\n",
              " 426,\n",
              " 427,\n",
              " 428,\n",
              " 429,\n",
              " 430,\n",
              " 431,\n",
              " 432,\n",
              " 433,\n",
              " 434,\n",
              " 435,\n",
              " 436,\n",
              " 437,\n",
              " 438,\n",
              " 439,\n",
              " 440,\n",
              " 441,\n",
              " 442,\n",
              " 443,\n",
              " 444,\n",
              " 445,\n",
              " 446,\n",
              " 447,\n",
              " 448,\n",
              " 449,\n",
              " 450,\n",
              " 451,\n",
              " 452,\n",
              " 453,\n",
              " 454,\n",
              " 455,\n",
              " 456,\n",
              " 457,\n",
              " 458,\n",
              " 459,\n",
              " 460,\n",
              " 461,\n",
              " 462,\n",
              " 463,\n",
              " 464,\n",
              " 465,\n",
              " 466,\n",
              " 467,\n",
              " 468,\n",
              " 469,\n",
              " 470,\n",
              " 471,\n",
              " 472,\n",
              " 473,\n",
              " 474,\n",
              " 475,\n",
              " 476,\n",
              " 477,\n",
              " 478,\n",
              " 479,\n",
              " 480,\n",
              " 481,\n",
              " 482,\n",
              " 483,\n",
              " 484,\n",
              " 485,\n",
              " 486,\n",
              " 487,\n",
              " 488,\n",
              " 489,\n",
              " 490,\n",
              " 491,\n",
              " 492,\n",
              " 493,\n",
              " 494,\n",
              " 495,\n",
              " 496,\n",
              " 497,\n",
              " 498,\n",
              " 499,\n",
              " 500,\n",
              " 501,\n",
              " 502,\n",
              " 503,\n",
              " 504,\n",
              " 505,\n",
              " 506,\n",
              " 507,\n",
              " 508,\n",
              " 509,\n",
              " 510,\n",
              " 511,\n",
              " 512,\n",
              " 513,\n",
              " 514,\n",
              " 515,\n",
              " 516,\n",
              " 517,\n",
              " 518,\n",
              " 519,\n",
              " 520,\n",
              " 521,\n",
              " 522,\n",
              " 523,\n",
              " 524,\n",
              " 525,\n",
              " 526,\n",
              " 527,\n",
              " 528,\n",
              " 529,\n",
              " 530,\n",
              " 531,\n",
              " 532,\n",
              " 533,\n",
              " 534,\n",
              " 535,\n",
              " 536,\n",
              " 537,\n",
              " 538,\n",
              " 539,\n",
              " 540,\n",
              " 541,\n",
              " 542,\n",
              " 543,\n",
              " 544,\n",
              " 545,\n",
              " 546,\n",
              " 547,\n",
              " 548,\n",
              " 549,\n",
              " 550,\n",
              " 551,\n",
              " 552,\n",
              " 553,\n",
              " 554,\n",
              " 555,\n",
              " 556,\n",
              " 557,\n",
              " 558,\n",
              " 559,\n",
              " 560,\n",
              " 561,\n",
              " 562,\n",
              " 563,\n",
              " 564,\n",
              " 565,\n",
              " 566,\n",
              " 567,\n",
              " 568,\n",
              " 569,\n",
              " 570,\n",
              " 571,\n",
              " 572,\n",
              " 573,\n",
              " 574,\n",
              " 575,\n",
              " 576,\n",
              " 577,\n",
              " 578,\n",
              " 579,\n",
              " 580,\n",
              " 581,\n",
              " 582,\n",
              " 583,\n",
              " 584,\n",
              " 585,\n",
              " 586,\n",
              " 587,\n",
              " 588,\n",
              " 589,\n",
              " 590,\n",
              " 591,\n",
              " 592,\n",
              " 593,\n",
              " 594,\n",
              " 595,\n",
              " 596,\n",
              " 597,\n",
              " 598,\n",
              " 599,\n",
              " 600,\n",
              " 601,\n",
              " 602,\n",
              " 603,\n",
              " 604,\n",
              " 605,\n",
              " 606,\n",
              " 607,\n",
              " 608,\n",
              " 609,\n",
              " 610,\n",
              " 611,\n",
              " 612,\n",
              " 613,\n",
              " 614,\n",
              " 615,\n",
              " 616,\n",
              " 617,\n",
              " 618,\n",
              " 619,\n",
              " 620,\n",
              " 621,\n",
              " 622,\n",
              " 623,\n",
              " 624,\n",
              " 625,\n",
              " 626,\n",
              " 627,\n",
              " 628,\n",
              " 629,\n",
              " 630,\n",
              " 631,\n",
              " 632,\n",
              " 633,\n",
              " 634,\n",
              " 635,\n",
              " 636,\n",
              " 637,\n",
              " 638,\n",
              " 639,\n",
              " 640,\n",
              " 641,\n",
              " 642,\n",
              " 643,\n",
              " 644,\n",
              " 645,\n",
              " 646,\n",
              " 647,\n",
              " 648,\n",
              " 649,\n",
              " 650,\n",
              " 651,\n",
              " 652,\n",
              " 653,\n",
              " 654,\n",
              " 655,\n",
              " 656,\n",
              " 657,\n",
              " 658,\n",
              " 659,\n",
              " 660,\n",
              " 661,\n",
              " 662,\n",
              " 663,\n",
              " 664,\n",
              " 665,\n",
              " 666,\n",
              " 667,\n",
              " 668,\n",
              " 669,\n",
              " 670,\n",
              " 671,\n",
              " 672,\n",
              " 673,\n",
              " 674,\n",
              " 675,\n",
              " 676,\n",
              " 677,\n",
              " 678,\n",
              " 679,\n",
              " 680,\n",
              " 681,\n",
              " 682,\n",
              " 683,\n",
              " 684,\n",
              " 685,\n",
              " 686,\n",
              " 687,\n",
              " 688,\n",
              " 689,\n",
              " 690,\n",
              " 691,\n",
              " 692,\n",
              " 693,\n",
              " 694,\n",
              " 695,\n",
              " 696,\n",
              " 697,\n",
              " 698,\n",
              " 699,\n",
              " 700,\n",
              " 701,\n",
              " 702,\n",
              " 703,\n",
              " 704,\n",
              " 705,\n",
              " 706,\n",
              " 707,\n",
              " 708,\n",
              " 709,\n",
              " 710,\n",
              " 711,\n",
              " 712,\n",
              " 713,\n",
              " 714,\n",
              " 715,\n",
              " 716,\n",
              " 717,\n",
              " 718,\n",
              " 719,\n",
              " 720,\n",
              " 721,\n",
              " 722,\n",
              " 723,\n",
              " 724,\n",
              " 725,\n",
              " 726,\n",
              " 727,\n",
              " 728,\n",
              " 729,\n",
              " 730,\n",
              " 731,\n",
              " 732,\n",
              " 733,\n",
              " 734,\n",
              " 735,\n",
              " 736,\n",
              " 737,\n",
              " 738,\n",
              " 739,\n",
              " 740,\n",
              " 741,\n",
              " 742,\n",
              " 743,\n",
              " 744,\n",
              " 745,\n",
              " 746,\n",
              " 747,\n",
              " 748,\n",
              " 749,\n",
              " 750,\n",
              " 751,\n",
              " 752,\n",
              " 753,\n",
              " 754,\n",
              " 755,\n",
              " 756,\n",
              " 757,\n",
              " 758,\n",
              " 759,\n",
              " 760,\n",
              " 761,\n",
              " 762,\n",
              " 763,\n",
              " 764,\n",
              " 765,\n",
              " 766,\n",
              " 767,\n",
              " 768,\n",
              " 769,\n",
              " 770,\n",
              " 771,\n",
              " 772,\n",
              " 773,\n",
              " 774,\n",
              " 775,\n",
              " 776,\n",
              " 777,\n",
              " 778,\n",
              " 779,\n",
              " 780,\n",
              " 781,\n",
              " 782,\n",
              " 783,\n",
              " 784,\n",
              " 785,\n",
              " 786,\n",
              " 787,\n",
              " 788,\n",
              " 789,\n",
              " 790,\n",
              " 791,\n",
              " 792,\n",
              " 793,\n",
              " 794,\n",
              " 795,\n",
              " 796,\n",
              " 797,\n",
              " 798,\n",
              " 799,\n",
              " 800,\n",
              " 801,\n",
              " 802,\n",
              " 803,\n",
              " 804,\n",
              " 805,\n",
              " 806,\n",
              " 807,\n",
              " 808,\n",
              " 809,\n",
              " 810,\n",
              " 811,\n",
              " 812,\n",
              " 813,\n",
              " 814,\n",
              " 815,\n",
              " 816,\n",
              " 817,\n",
              " 818,\n",
              " 819,\n",
              " 820,\n",
              " 821,\n",
              " 822,\n",
              " 823,\n",
              " 824,\n",
              " 825,\n",
              " 826,\n",
              " 827,\n",
              " 828,\n",
              " 829,\n",
              " 830,\n",
              " 831,\n",
              " 832,\n",
              " 833,\n",
              " 834,\n",
              " 835,\n",
              " 836,\n",
              " 837,\n",
              " 838,\n",
              " 839,\n",
              " 840,\n",
              " 841,\n",
              " 842,\n",
              " 843,\n",
              " 844,\n",
              " 845,\n",
              " 846,\n",
              " 847,\n",
              " 848,\n",
              " 849,\n",
              " 850,\n",
              " 851,\n",
              " 852,\n",
              " 853,\n",
              " 854,\n",
              " 855,\n",
              " 856,\n",
              " 857,\n",
              " 858,\n",
              " 859,\n",
              " 860,\n",
              " 861,\n",
              " 862,\n",
              " 863,\n",
              " 864,\n",
              " 865,\n",
              " 866,\n",
              " 867,\n",
              " 868,\n",
              " 869,\n",
              " 870,\n",
              " 871,\n",
              " 872,\n",
              " 873,\n",
              " 874,\n",
              " 875,\n",
              " 876,\n",
              " 877,\n",
              " 878,\n",
              " 879,\n",
              " 880,\n",
              " 881,\n",
              " 882,\n",
              " 883,\n",
              " 884,\n",
              " 885,\n",
              " 886,\n",
              " 887,\n",
              " 888,\n",
              " 889,\n",
              " 890,\n",
              " 891,\n",
              " 892,\n",
              " 893,\n",
              " 894,\n",
              " 895,\n",
              " 896,\n",
              " 897,\n",
              " 898,\n",
              " 899,\n",
              " 900,\n",
              " 901,\n",
              " 902,\n",
              " 903,\n",
              " 904,\n",
              " 905,\n",
              " 906,\n",
              " 907,\n",
              " 908,\n",
              " 909,\n",
              " 910,\n",
              " 911,\n",
              " 912,\n",
              " 913,\n",
              " 914,\n",
              " 915,\n",
              " 916,\n",
              " 917,\n",
              " 918,\n",
              " 919,\n",
              " 920,\n",
              " 921,\n",
              " 922,\n",
              " 923,\n",
              " 924,\n",
              " 925,\n",
              " 926,\n",
              " 927,\n",
              " 928,\n",
              " 929,\n",
              " 930,\n",
              " 931,\n",
              " 932,\n",
              " 933,\n",
              " 934,\n",
              " 935,\n",
              " 936,\n",
              " 937,\n",
              " 938,\n",
              " 939,\n",
              " 940,\n",
              " 941,\n",
              " 942,\n",
              " 943,\n",
              " 944,\n",
              " 945,\n",
              " 946,\n",
              " 947,\n",
              " 948,\n",
              " 949,\n",
              " 950,\n",
              " 951,\n",
              " 952,\n",
              " 953,\n",
              " 954,\n",
              " 955,\n",
              " 956,\n",
              " 957,\n",
              " 958,\n",
              " 959,\n",
              " 960,\n",
              " 961,\n",
              " 962,\n",
              " 963,\n",
              " 964,\n",
              " 965,\n",
              " 966,\n",
              " 967,\n",
              " 968,\n",
              " 969,\n",
              " 970,\n",
              " 971,\n",
              " 972,\n",
              " 973,\n",
              " 974,\n",
              " 975,\n",
              " 976,\n",
              " 977,\n",
              " 978,\n",
              " 979,\n",
              " 980,\n",
              " 981,\n",
              " 982,\n",
              " 983,\n",
              " 984,\n",
              " 985,\n",
              " 986,\n",
              " 987,\n",
              " 988,\n",
              " 989,\n",
              " 990,\n",
              " 991,\n",
              " 992,\n",
              " 993,\n",
              " 994,\n",
              " 995,\n",
              " 996,\n",
              " 997,\n",
              " 998,\n",
              " 999,\n",
              " 1000,\n",
              " 1001,\n",
              " 1002,\n",
              " 1003,\n",
              " 1004,\n",
              " 1005,\n",
              " 1006,\n",
              " 1007,\n",
              " 1008,\n",
              " 1009,\n",
              " 1010,\n",
              " 1011,\n",
              " 1012,\n",
              " 1013,\n",
              " 1014,\n",
              " 1015,\n",
              " 1016,\n",
              " 1017,\n",
              " 1018,\n",
              " 1019,\n",
              " 1020,\n",
              " 1021,\n",
              " 1022,\n",
              " 1023,\n",
              " 1024,\n",
              " 1025,\n",
              " 1026,\n",
              " 1027,\n",
              " 1028,\n",
              " 1029,\n",
              " 1030,\n",
              " 1031,\n",
              " 1032,\n",
              " 1033,\n",
              " 1034,\n",
              " 1035,\n",
              " 1036,\n",
              " 1037,\n",
              " 1038,\n",
              " 1039,\n",
              " 1040,\n",
              " 1041,\n",
              " 1042,\n",
              " 1043,\n",
              " 1044,\n",
              " 1045,\n",
              " 1046,\n",
              " 1047,\n",
              " 1048,\n",
              " 1049,\n",
              " 1050,\n",
              " 1051,\n",
              " 1052,\n",
              " 1053,\n",
              " 1054,\n",
              " 1055,\n",
              " 1056,\n",
              " 1057,\n",
              " 1058,\n",
              " 1059,\n",
              " 1060,\n",
              " 1061,\n",
              " 1062,\n",
              " 1063,\n",
              " 1064,\n",
              " 1065,\n",
              " 1066,\n",
              " 1067,\n",
              " 1068,\n",
              " 1069,\n",
              " 1070,\n",
              " 1071,\n",
              " 1072,\n",
              " 1073,\n",
              " 1074,\n",
              " 1075,\n",
              " 1076,\n",
              " 1077,\n",
              " 1078,\n",
              " 1079,\n",
              " 1080,\n",
              " 1081,\n",
              " 1082,\n",
              " 1083,\n",
              " 1084,\n",
              " 1085,\n",
              " 1086,\n",
              " 1087,\n",
              " 1088,\n",
              " 1089,\n",
              " 1090,\n",
              " 1091,\n",
              " 1092,\n",
              " 1093,\n",
              " 1094,\n",
              " 1095,\n",
              " 1096,\n",
              " 1097,\n",
              " 1098,\n",
              " 1099,\n",
              " ...]"
            ]
          },
          "metadata": {},
          "execution_count": 95
        }
      ]
    },
    {
      "cell_type": "code",
      "source": [
        "df['real_label'] = df['real_label'].replace(arr_real_labels,100)"
      ],
      "metadata": {
        "id": "KNe-aZ9SsZ-4"
      },
      "execution_count": 96,
      "outputs": []
    },
    {
      "cell_type": "code",
      "source": [
        "df=df.loc[df.real_label.values<=100]"
      ],
      "metadata": {
        "id": "mApZpnbpMN10"
      },
      "execution_count": 97,
      "outputs": []
    },
    {
      "cell_type": "code",
      "source": [
        "df"
      ],
      "metadata": {
        "colab": {
          "base_uri": "https://localhost:8080/",
          "height": 424
        },
        "id": "h35MYT2I7JTp",
        "outputId": "6644cfce-c8c3-41d2-ed6b-ac1e5c9d1ba3"
      },
      "execution_count": 98,
      "outputs": [
        {
          "output_type": "execute_result",
          "data": {
            "text/plain": [
              "       real_label                                             review\n",
              "0              44  This is the third book in the series with depu...\n",
              "1              44  This book is nicely divided into two parts:  C...\n",
              "2              44  The character of Edward reminds me of a studen...\n",
              "3              44  This may taste \"25% less sugar than the leadin...\n",
              "4              44  Having recently taken a level 1 college math c...\n",
              "...           ...                                                ...\n",
              "99995         100  TVO has penned a novel about an Indian man who...\n",
              "99996         100  TS has written a novel that begins with the de...\n",
              "99997         100  AW has writer a novel where Americans high in ...\n",
              "99998         100  RC has written a SyFy novel about time travel ...\n",
              "99999         100  JC has written an excellent novel about a man ...\n",
              "\n",
              "[100000 rows x 2 columns]"
            ],
            "text/html": [
              "\n",
              "  <div id=\"df-d01466b2-3537-424d-b790-a1d21049d1c9\">\n",
              "    <div class=\"colab-df-container\">\n",
              "      <div>\n",
              "<style scoped>\n",
              "    .dataframe tbody tr th:only-of-type {\n",
              "        vertical-align: middle;\n",
              "    }\n",
              "\n",
              "    .dataframe tbody tr th {\n",
              "        vertical-align: top;\n",
              "    }\n",
              "\n",
              "    .dataframe thead th {\n",
              "        text-align: right;\n",
              "    }\n",
              "</style>\n",
              "<table border=\"1\" class=\"dataframe\">\n",
              "  <thead>\n",
              "    <tr style=\"text-align: right;\">\n",
              "      <th></th>\n",
              "      <th>real_label</th>\n",
              "      <th>review</th>\n",
              "    </tr>\n",
              "  </thead>\n",
              "  <tbody>\n",
              "    <tr>\n",
              "      <th>0</th>\n",
              "      <td>44</td>\n",
              "      <td>This is the third book in the series with depu...</td>\n",
              "    </tr>\n",
              "    <tr>\n",
              "      <th>1</th>\n",
              "      <td>44</td>\n",
              "      <td>This book is nicely divided into two parts:  C...</td>\n",
              "    </tr>\n",
              "    <tr>\n",
              "      <th>2</th>\n",
              "      <td>44</td>\n",
              "      <td>The character of Edward reminds me of a studen...</td>\n",
              "    </tr>\n",
              "    <tr>\n",
              "      <th>3</th>\n",
              "      <td>44</td>\n",
              "      <td>This may taste \"25% less sugar than the leadin...</td>\n",
              "    </tr>\n",
              "    <tr>\n",
              "      <th>4</th>\n",
              "      <td>44</td>\n",
              "      <td>Having recently taken a level 1 college math c...</td>\n",
              "    </tr>\n",
              "    <tr>\n",
              "      <th>...</th>\n",
              "      <td>...</td>\n",
              "      <td>...</td>\n",
              "    </tr>\n",
              "    <tr>\n",
              "      <th>99995</th>\n",
              "      <td>100</td>\n",
              "      <td>TVO has penned a novel about an Indian man who...</td>\n",
              "    </tr>\n",
              "    <tr>\n",
              "      <th>99996</th>\n",
              "      <td>100</td>\n",
              "      <td>TS has written a novel that begins with the de...</td>\n",
              "    </tr>\n",
              "    <tr>\n",
              "      <th>99997</th>\n",
              "      <td>100</td>\n",
              "      <td>AW has writer a novel where Americans high in ...</td>\n",
              "    </tr>\n",
              "    <tr>\n",
              "      <th>99998</th>\n",
              "      <td>100</td>\n",
              "      <td>RC has written a SyFy novel about time travel ...</td>\n",
              "    </tr>\n",
              "    <tr>\n",
              "      <th>99999</th>\n",
              "      <td>100</td>\n",
              "      <td>JC has written an excellent novel about a man ...</td>\n",
              "    </tr>\n",
              "  </tbody>\n",
              "</table>\n",
              "<p>100000 rows × 2 columns</p>\n",
              "</div>\n",
              "      <button class=\"colab-df-convert\" onclick=\"convertToInteractive('df-d01466b2-3537-424d-b790-a1d21049d1c9')\"\n",
              "              title=\"Convert this dataframe to an interactive table.\"\n",
              "              style=\"display:none;\">\n",
              "        \n",
              "  <svg xmlns=\"http://www.w3.org/2000/svg\" height=\"24px\"viewBox=\"0 0 24 24\"\n",
              "       width=\"24px\">\n",
              "    <path d=\"M0 0h24v24H0V0z\" fill=\"none\"/>\n",
              "    <path d=\"M18.56 5.44l.94 2.06.94-2.06 2.06-.94-2.06-.94-.94-2.06-.94 2.06-2.06.94zm-11 1L8.5 8.5l.94-2.06 2.06-.94-2.06-.94L8.5 2.5l-.94 2.06-2.06.94zm10 10l.94 2.06.94-2.06 2.06-.94-2.06-.94-.94-2.06-.94 2.06-2.06.94z\"/><path d=\"M17.41 7.96l-1.37-1.37c-.4-.4-.92-.59-1.43-.59-.52 0-1.04.2-1.43.59L10.3 9.45l-7.72 7.72c-.78.78-.78 2.05 0 2.83L4 21.41c.39.39.9.59 1.41.59.51 0 1.02-.2 1.41-.59l7.78-7.78 2.81-2.81c.8-.78.8-2.07 0-2.86zM5.41 20L4 18.59l7.72-7.72 1.47 1.35L5.41 20z\"/>\n",
              "  </svg>\n",
              "      </button>\n",
              "      \n",
              "  <style>\n",
              "    .colab-df-container {\n",
              "      display:flex;\n",
              "      flex-wrap:wrap;\n",
              "      gap: 12px;\n",
              "    }\n",
              "\n",
              "    .colab-df-convert {\n",
              "      background-color: #E8F0FE;\n",
              "      border: none;\n",
              "      border-radius: 50%;\n",
              "      cursor: pointer;\n",
              "      display: none;\n",
              "      fill: #1967D2;\n",
              "      height: 32px;\n",
              "      padding: 0 0 0 0;\n",
              "      width: 32px;\n",
              "    }\n",
              "\n",
              "    .colab-df-convert:hover {\n",
              "      background-color: #E2EBFA;\n",
              "      box-shadow: 0px 1px 2px rgba(60, 64, 67, 0.3), 0px 1px 3px 1px rgba(60, 64, 67, 0.15);\n",
              "      fill: #174EA6;\n",
              "    }\n",
              "\n",
              "    [theme=dark] .colab-df-convert {\n",
              "      background-color: #3B4455;\n",
              "      fill: #D2E3FC;\n",
              "    }\n",
              "\n",
              "    [theme=dark] .colab-df-convert:hover {\n",
              "      background-color: #434B5C;\n",
              "      box-shadow: 0px 1px 3px 1px rgba(0, 0, 0, 0.15);\n",
              "      filter: drop-shadow(0px 1px 2px rgba(0, 0, 0, 0.3));\n",
              "      fill: #FFFFFF;\n",
              "    }\n",
              "  </style>\n",
              "\n",
              "      <script>\n",
              "        const buttonEl =\n",
              "          document.querySelector('#df-d01466b2-3537-424d-b790-a1d21049d1c9 button.colab-df-convert');\n",
              "        buttonEl.style.display =\n",
              "          google.colab.kernel.accessAllowed ? 'block' : 'none';\n",
              "\n",
              "        async function convertToInteractive(key) {\n",
              "          const element = document.querySelector('#df-d01466b2-3537-424d-b790-a1d21049d1c9');\n",
              "          const dataTable =\n",
              "            await google.colab.kernel.invokeFunction('convertToInteractive',\n",
              "                                                     [key], {});\n",
              "          if (!dataTable) return;\n",
              "\n",
              "          const docLinkHtml = 'Like what you see? Visit the ' +\n",
              "            '<a target=\"_blank\" href=https://colab.research.google.com/notebooks/data_table.ipynb>data table notebook</a>'\n",
              "            + ' to learn more about interactive tables.';\n",
              "          element.innerHTML = '';\n",
              "          dataTable['output_type'] = 'display_data';\n",
              "          await google.colab.output.renderOutput(dataTable, element);\n",
              "          const docLink = document.createElement('div');\n",
              "          docLink.innerHTML = docLinkHtml;\n",
              "          element.appendChild(docLink);\n",
              "        }\n",
              "      </script>\n",
              "    </div>\n",
              "  </div>\n",
              "  "
            ]
          },
          "metadata": {},
          "execution_count": 98
        }
      ]
    },
    {
      "cell_type": "code",
      "source": [
        "df.groupby(by='real_label').count()"
      ],
      "metadata": {
        "colab": {
          "base_uri": "https://localhost:8080/",
          "height": 455
        },
        "id": "XikERaqQLOiG",
        "outputId": "01b56338-3adc-43c2-915a-6575a19d8a5b"
      },
      "execution_count": 99,
      "outputs": [
        {
          "output_type": "execute_result",
          "data": {
            "text/plain": [
              "            review\n",
              "real_label        \n",
              "0              500\n",
              "1              500\n",
              "2              500\n",
              "3              500\n",
              "4              500\n",
              "...            ...\n",
              "96             500\n",
              "97             500\n",
              "98             500\n",
              "99             500\n",
              "100          50000\n",
              "\n",
              "[101 rows x 1 columns]"
            ],
            "text/html": [
              "\n",
              "  <div id=\"df-120d74f9-b6a4-43f8-ae29-cba2b05db551\">\n",
              "    <div class=\"colab-df-container\">\n",
              "      <div>\n",
              "<style scoped>\n",
              "    .dataframe tbody tr th:only-of-type {\n",
              "        vertical-align: middle;\n",
              "    }\n",
              "\n",
              "    .dataframe tbody tr th {\n",
              "        vertical-align: top;\n",
              "    }\n",
              "\n",
              "    .dataframe thead th {\n",
              "        text-align: right;\n",
              "    }\n",
              "</style>\n",
              "<table border=\"1\" class=\"dataframe\">\n",
              "  <thead>\n",
              "    <tr style=\"text-align: right;\">\n",
              "      <th></th>\n",
              "      <th>review</th>\n",
              "    </tr>\n",
              "    <tr>\n",
              "      <th>real_label</th>\n",
              "      <th></th>\n",
              "    </tr>\n",
              "  </thead>\n",
              "  <tbody>\n",
              "    <tr>\n",
              "      <th>0</th>\n",
              "      <td>500</td>\n",
              "    </tr>\n",
              "    <tr>\n",
              "      <th>1</th>\n",
              "      <td>500</td>\n",
              "    </tr>\n",
              "    <tr>\n",
              "      <th>2</th>\n",
              "      <td>500</td>\n",
              "    </tr>\n",
              "    <tr>\n",
              "      <th>3</th>\n",
              "      <td>500</td>\n",
              "    </tr>\n",
              "    <tr>\n",
              "      <th>4</th>\n",
              "      <td>500</td>\n",
              "    </tr>\n",
              "    <tr>\n",
              "      <th>...</th>\n",
              "      <td>...</td>\n",
              "    </tr>\n",
              "    <tr>\n",
              "      <th>96</th>\n",
              "      <td>500</td>\n",
              "    </tr>\n",
              "    <tr>\n",
              "      <th>97</th>\n",
              "      <td>500</td>\n",
              "    </tr>\n",
              "    <tr>\n",
              "      <th>98</th>\n",
              "      <td>500</td>\n",
              "    </tr>\n",
              "    <tr>\n",
              "      <th>99</th>\n",
              "      <td>500</td>\n",
              "    </tr>\n",
              "    <tr>\n",
              "      <th>100</th>\n",
              "      <td>50000</td>\n",
              "    </tr>\n",
              "  </tbody>\n",
              "</table>\n",
              "<p>101 rows × 1 columns</p>\n",
              "</div>\n",
              "      <button class=\"colab-df-convert\" onclick=\"convertToInteractive('df-120d74f9-b6a4-43f8-ae29-cba2b05db551')\"\n",
              "              title=\"Convert this dataframe to an interactive table.\"\n",
              "              style=\"display:none;\">\n",
              "        \n",
              "  <svg xmlns=\"http://www.w3.org/2000/svg\" height=\"24px\"viewBox=\"0 0 24 24\"\n",
              "       width=\"24px\">\n",
              "    <path d=\"M0 0h24v24H0V0z\" fill=\"none\"/>\n",
              "    <path d=\"M18.56 5.44l.94 2.06.94-2.06 2.06-.94-2.06-.94-.94-2.06-.94 2.06-2.06.94zm-11 1L8.5 8.5l.94-2.06 2.06-.94-2.06-.94L8.5 2.5l-.94 2.06-2.06.94zm10 10l.94 2.06.94-2.06 2.06-.94-2.06-.94-.94-2.06-.94 2.06-2.06.94z\"/><path d=\"M17.41 7.96l-1.37-1.37c-.4-.4-.92-.59-1.43-.59-.52 0-1.04.2-1.43.59L10.3 9.45l-7.72 7.72c-.78.78-.78 2.05 0 2.83L4 21.41c.39.39.9.59 1.41.59.51 0 1.02-.2 1.41-.59l7.78-7.78 2.81-2.81c.8-.78.8-2.07 0-2.86zM5.41 20L4 18.59l7.72-7.72 1.47 1.35L5.41 20z\"/>\n",
              "  </svg>\n",
              "      </button>\n",
              "      \n",
              "  <style>\n",
              "    .colab-df-container {\n",
              "      display:flex;\n",
              "      flex-wrap:wrap;\n",
              "      gap: 12px;\n",
              "    }\n",
              "\n",
              "    .colab-df-convert {\n",
              "      background-color: #E8F0FE;\n",
              "      border: none;\n",
              "      border-radius: 50%;\n",
              "      cursor: pointer;\n",
              "      display: none;\n",
              "      fill: #1967D2;\n",
              "      height: 32px;\n",
              "      padding: 0 0 0 0;\n",
              "      width: 32px;\n",
              "    }\n",
              "\n",
              "    .colab-df-convert:hover {\n",
              "      background-color: #E2EBFA;\n",
              "      box-shadow: 0px 1px 2px rgba(60, 64, 67, 0.3), 0px 1px 3px 1px rgba(60, 64, 67, 0.15);\n",
              "      fill: #174EA6;\n",
              "    }\n",
              "\n",
              "    [theme=dark] .colab-df-convert {\n",
              "      background-color: #3B4455;\n",
              "      fill: #D2E3FC;\n",
              "    }\n",
              "\n",
              "    [theme=dark] .colab-df-convert:hover {\n",
              "      background-color: #434B5C;\n",
              "      box-shadow: 0px 1px 3px 1px rgba(0, 0, 0, 0.15);\n",
              "      filter: drop-shadow(0px 1px 2px rgba(0, 0, 0, 0.3));\n",
              "      fill: #FFFFFF;\n",
              "    }\n",
              "  </style>\n",
              "\n",
              "      <script>\n",
              "        const buttonEl =\n",
              "          document.querySelector('#df-120d74f9-b6a4-43f8-ae29-cba2b05db551 button.colab-df-convert');\n",
              "        buttonEl.style.display =\n",
              "          google.colab.kernel.accessAllowed ? 'block' : 'none';\n",
              "\n",
              "        async function convertToInteractive(key) {\n",
              "          const element = document.querySelector('#df-120d74f9-b6a4-43f8-ae29-cba2b05db551');\n",
              "          const dataTable =\n",
              "            await google.colab.kernel.invokeFunction('convertToInteractive',\n",
              "                                                     [key], {});\n",
              "          if (!dataTable) return;\n",
              "\n",
              "          const docLinkHtml = 'Like what you see? Visit the ' +\n",
              "            '<a target=\"_blank\" href=https://colab.research.google.com/notebooks/data_table.ipynb>data table notebook</a>'\n",
              "            + ' to learn more about interactive tables.';\n",
              "          element.innerHTML = '';\n",
              "          dataTable['output_type'] = 'display_data';\n",
              "          await google.colab.output.renderOutput(dataTable, element);\n",
              "          const docLink = document.createElement('div');\n",
              "          docLink.innerHTML = docLinkHtml;\n",
              "          element.appendChild(docLink);\n",
              "        }\n",
              "      </script>\n",
              "    </div>\n",
              "  </div>\n",
              "  "
            ]
          },
          "metadata": {},
          "execution_count": 99
        }
      ]
    },
    {
      "cell_type": "code",
      "source": [
        "labels_list_0 = df['real_label'].tolist()"
      ],
      "metadata": {
        "id": "Agx9NhAu7ssX"
      },
      "execution_count": 100,
      "outputs": []
    },
    {
      "cell_type": "code",
      "source": [
        "# for i in range(101):\n",
        "#   print(i, \"     \",c.count(i))"
      ],
      "metadata": {
        "id": "M-7HsHE270Ve"
      },
      "execution_count": 101,
      "outputs": []
    },
    {
      "cell_type": "code",
      "source": [
        "\n",
        "# Create sentence and label lists\n",
        "#\n",
        "labels = df.real_label.values\n",
        "sentence1 = df.review.values\n",
        "#sentence1=sentences\n",
        "#labels = dataset_filtered.real_label.values\n",
        "\n",
        "# Tokenize all of the sentences and map the tokens to thier word IDs.\n",
        "input_ids = []\n",
        "attention_masks = []\n",
        "\n",
        "# For every sentence...\n",
        "for sent1 in zip(sentence1):\n",
        "    # `encode_plus` will:\n",
        "    #   (1) Tokenize the sentence.\n",
        "    #   (2) Prepend the `[CLS]` token to the start.\n",
        "    #   (3) Append the `[SEP]` token to the end.\n",
        "    #   (4) Map tokens to their IDs.\n",
        "    #   (5) Pad or truncate the sentence to `max_length`\n",
        "    #   (6) Create attention masks for [PAD] tokens.\n",
        "    #print(sent1)\n",
        "    encoded_dict = tokenizer.encode_plus(\n",
        "                        sent1[0],# Sentence to encode.\n",
        "                        truncation=True,\n",
        "                        add_special_tokens = True, # Add '[CLS]' and '[SEP]'\n",
        "                        max_length = 512,           # Pad & truncate all sentences.\n",
        "                        padding='max_length',\n",
        "                        return_attention_mask = True,   # Construct attn. masks.\n",
        "                        return_tensors = 'pt',     # Return pytorch tensors.\n",
        "                        return_overflowing_tokens=False,\n",
        "                   )\n",
        "    \n",
        "    # Add the encoded sentence to the list.    \n",
        "    input_ids.append(encoded_dict['input_ids'])\n",
        "    \n",
        "    # And its attention mask (simply differentiates padding from non-padding).\n",
        "    attention_masks.append(encoded_dict['attention_mask'])\n",
        "\n",
        "# Convert the lists into tensors.\n",
        "input_ids = torch.cat(input_ids, dim=0)\n",
        "attention_masks = torch.cat(attention_masks, dim=0)\n",
        "labels = torch.tensor(labels)\n",
        "\n",
        "\n",
        "\n",
        "# Set the batch size.  \n",
        "batch_size = 16\n",
        "\n",
        "# Create the DataLoader.\n",
        "prediction_data = TensorDataset(input_ids, attention_masks, labels)\n",
        "prediction_sampler = SequentialSampler(prediction_data)\n",
        "prediction_dataloader = DataLoader(prediction_data, sampler=prediction_sampler, batch_size=batch_size)"
      ],
      "metadata": {
        "id": "r9dPsWLsKHFH"
      },
      "execution_count": 102,
      "outputs": []
    },
    {
      "cell_type": "code",
      "source": [
        "# Prediction on test set\n",
        "\n",
        "print('Predicting labels for {:,} test sentences...'.format(len(input_ids)))\n",
        "\n",
        "# Put model in evaluation mode\n",
        "model.eval()\n",
        "\n",
        "# Tracking variables \n",
        "predictions , true_labels = [], []\n",
        "logits_arr=[]\n",
        "max_logits_arr=[]\n",
        "logits_total_array = []\n",
        "\n",
        "# Predict \n",
        "for batch in prediction_dataloader:\n",
        "  # Add batch to GPU\n",
        "  batch = tuple(t.to(device) for t in batch)\n",
        "  \n",
        "  # Unpack the inputs from our dataloader\n",
        "  b_input_ids, b_input_mask, b_labels = batch\n",
        "  \n",
        "  # Telling the model not to compute or store gradients, saving memory and \n",
        "  # speeding up prediction\n",
        "  with torch.no_grad():\n",
        "      # Forward pass, calculate logit predictions.\n",
        "      result = model(b_input_ids, \n",
        "                     token_type_ids=None, \n",
        "                     attention_mask=b_input_mask,\n",
        "                     return_dict=True)\n",
        "\n",
        "  logits = result.logits\n",
        "\n",
        "  # Move logits and labels to CPU\n",
        "  logits = logits.detach().cpu().numpy()\n",
        "  logits_total_array.extend(logits.tolist())\n",
        "  #logits[:,100] = logits[:,100] + 2.5\n",
        "  pred_labels = np.argmax(logits, axis=1)\n",
        "  label_ids = b_labels.to('cpu').numpy()\n",
        "  max_logits = np.max(logits[:,:100], axis=1)\n",
        "  # Store predictions and true labels\n",
        "  predictions.extend(pred_labels.tolist())\n",
        "  true_labels.extend(label_ids.tolist())\n",
        "  logits_arr.extend(logits[:,100].tolist())\n",
        "  max_logits_arr.extend(max_logits.tolist())\n",
        "\n",
        "print('    DONE.')"
      ],
      "metadata": {
        "colab": {
          "base_uri": "https://localhost:8080/"
        },
        "id": "NJTEXHAzM3pK",
        "outputId": "1153925d-a6c2-4112-915c-52535ef247c1"
      },
      "execution_count": 103,
      "outputs": [
        {
          "output_type": "stream",
          "name": "stdout",
          "text": [
            "Predicting labels for 100,000 test sentences...\n",
            "    DONE.\n"
          ]
        }
      ]
    },
    {
      "cell_type": "code",
      "source": [
        "d1_predictions = predictions\n",
        "d1_true_labels = true_labels\n",
        "d1_logits_arr = logits_arr\n",
        "d1_max_logits_arr = max_logits_arr"
      ],
      "metadata": {
        "id": "JduRTmVjgvF4"
      },
      "execution_count": 104,
      "outputs": []
    },
    {
      "cell_type": "code",
      "source": [
        "d1_predictions.count(100)"
      ],
      "metadata": {
        "colab": {
          "base_uri": "https://localhost:8080/"
        },
        "id": "JzO-PlR8gzTJ",
        "outputId": "7d7de221-c5b8-4736-f8ed-ba64a69965de"
      },
      "execution_count": 105,
      "outputs": [
        {
          "output_type": "execute_result",
          "data": {
            "text/plain": [
              "20100"
            ]
          },
          "metadata": {},
          "execution_count": 105
        }
      ]
    },
    {
      "cell_type": "code",
      "source": [
        "tic = 100000"
      ],
      "metadata": {
        "id": "vK0WdBARDtN6"
      },
      "execution_count": 106,
      "outputs": []
    },
    {
      "cell_type": "code",
      "source": [
        "d1_closed_logits=[]\n",
        "d1_open_logits=[]\n",
        "d1_max_closed_logits=[]\n",
        "d1_max_open_logits=[]\n",
        "d1_predictions_open=[]\n",
        "d1_predictions_closed=[]\n",
        "for i in range(tic):\n",
        "  if(true_labels[i]==100):\n",
        "    d1_open_logits.append(d1_logits_arr[i])\n",
        "    d1_max_open_logits.append(d1_max_logits_arr[i])\n",
        "    d1_predictions_open.append(d1_predictions[i])\n",
        "  else:\n",
        "    d1_closed_logits.append(d1_logits_arr[i])\n",
        "    d1_max_closed_logits.append(d1_max_logits_arr[i])\n",
        "    d1_predictions_closed.append(d1_predictions[i])"
      ],
      "metadata": {
        "id": "HF9DB-DemIKP"
      },
      "execution_count": 107,
      "outputs": []
    },
    {
      "cell_type": "code",
      "source": [
        "print(d1_predictions_open.count(100))\n",
        "print(d1_predictions_closed.count(100))"
      ],
      "metadata": {
        "colab": {
          "base_uri": "https://localhost:8080/"
        },
        "id": "84tnHddMmWJR",
        "outputId": "120fa87e-4b1d-41e5-a3f8-8fb8e26c37cb"
      },
      "execution_count": 108,
      "outputs": [
        {
          "output_type": "stream",
          "name": "stdout",
          "text": [
            "17704\n",
            "2396\n"
          ]
        }
      ]
    },
    {
      "cell_type": "code",
      "source": [
        "diff_closed1=[]\n",
        "for i in range(int(tic/2)):\n",
        "  diff_closed1.append(5.08 + d1_closed_logits[i] - d1_max_closed_logits[i])\n",
        "diff_open1=[]\n",
        "for i in range(int(tic/2)):\n",
        "  diff_open1.append(5.08 + d1_open_logits[i] - d1_max_open_logits[i])\n"
      ],
      "metadata": {
        "id": "AJKUqDnigzWJ"
      },
      "execution_count": 109,
      "outputs": []
    },
    {
      "cell_type": "code",
      "source": [
        "print(sum(diff_closed1))\n",
        "print(sorted(diff_closed1)[int(tic/4)])"
      ],
      "metadata": {
        "colab": {
          "base_uri": "https://localhost:8080/"
        },
        "id": "RhqT2HTlm_TE",
        "outputId": "3a98d4eb-151c-488e-bb9a-42b9c83c1a59"
      },
      "execution_count": 110,
      "outputs": [
        {
          "output_type": "stream",
          "name": "stdout",
          "text": [
            "-24434.730604150318\n",
            "-1.126081390380861\n"
          ]
        }
      ]
    },
    {
      "cell_type": "code",
      "source": [
        "print(sum(diff_open1))\n",
        "print(sorted(diff_open1)[int(tic/4)])"
      ],
      "metadata": {
        "colab": {
          "base_uri": "https://localhost:8080/"
        },
        "id": "LDkynl8Dm9JD",
        "outputId": "a815edef-97a6-4a6c-c597-40b79306c7a2"
      },
      "execution_count": 111,
      "outputs": [
        {
          "output_type": "stream",
          "name": "stdout",
          "text": [
            "177400.2814780572\n",
            "2.7668247985839827\n"
          ]
        }
      ]
    },
    {
      "cell_type": "code",
      "source": [
        "pos_count = 0 \n",
        "neg_count = 0\n",
        "for num in diff_closed1:\n",
        "    # checking condition\n",
        "    if num >= 0:\n",
        "        pos_count += 1\n",
        "    else:\n",
        "        neg_count += 1"
      ],
      "metadata": {
        "id": "v0apfC4egzaF"
      },
      "execution_count": 112,
      "outputs": []
    },
    {
      "cell_type": "code",
      "source": [
        "print(pos_count)\n",
        "print(neg_count)"
      ],
      "metadata": {
        "colab": {
          "base_uri": "https://localhost:8080/"
        },
        "id": "3x9rO68TrJHu",
        "outputId": "d3826f03-7fcc-475c-b19d-b1caccc3c726"
      },
      "execution_count": 113,
      "outputs": [
        {
          "output_type": "stream",
          "name": "stdout",
          "text": [
            "6999\n",
            "43001\n"
          ]
        }
      ]
    },
    {
      "cell_type": "code",
      "source": [
        "pos_count = 0 \n",
        "neg_count = 0\n",
        "for num in diff_open1:\n",
        "    # checking condition\n",
        "    if num >= 0:\n",
        "        pos_count += 1\n",
        "    else:\n",
        "        neg_count += 1"
      ],
      "metadata": {
        "id": "7vSa0cdQrJKh"
      },
      "execution_count": 114,
      "outputs": []
    },
    {
      "cell_type": "code",
      "source": [
        "print(pos_count)\n",
        "print(neg_count)"
      ],
      "metadata": {
        "colab": {
          "base_uri": "https://localhost:8080/"
        },
        "id": "m_h6UCBRrWez",
        "outputId": "d1e9d7f2-2f19-4365-a178-615c48b20435"
      },
      "execution_count": 115,
      "outputs": [
        {
          "output_type": "stream",
          "name": "stdout",
          "text": [
            "34743\n",
            "15257\n"
          ]
        }
      ]
    },
    {
      "cell_type": "code",
      "source": [
        "logits_total_array_o =logits_total_array"
      ],
      "metadata": {
        "id": "1hB56XGe8cZo"
      },
      "execution_count": 116,
      "outputs": []
    },
    {
      "cell_type": "code",
      "source": [
        "logits_total_array_o = np.array(logits_total_array_o)"
      ],
      "metadata": {
        "id": "a2diGuJb3ygL"
      },
      "execution_count": 117,
      "outputs": []
    },
    {
      "cell_type": "code",
      "source": [
        "logits_total_array_o[:,100] = logits_total_array_o[:,100] + 5.08"
      ],
      "metadata": {
        "id": "_uCPD-_2-Z5E"
      },
      "execution_count": 118,
      "outputs": []
    },
    {
      "cell_type": "code",
      "source": [
        "predictions_ = np.argmax(logits_total_array_o , axis=1)"
      ],
      "metadata": {
        "id": "KwsZhlfB-bLp"
      },
      "execution_count": 119,
      "outputs": []
    },
    {
      "cell_type": "code",
      "source": [
        "np.count_nonzero(predictions_ == 100)"
      ],
      "metadata": {
        "colab": {
          "base_uri": "https://localhost:8080/"
        },
        "id": "Ukz8yyc7-1aj",
        "outputId": "e73082f1-ed35-4969-b2d8-be477a4dedea"
      },
      "execution_count": 120,
      "outputs": [
        {
          "output_type": "execute_result",
          "data": {
            "text/plain": [
              "41742"
            ]
          },
          "metadata": {},
          "execution_count": 120
        }
      ]
    },
    {
      "cell_type": "code",
      "source": [
        "from sklearn.metrics import classification_report\n",
        "\n",
        "result_report= classification_report(true_labels, predictions_, digits=3, output_dict=False)\n",
        "print(result_report)"
      ],
      "metadata": {
        "colab": {
          "base_uri": "https://localhost:8080/"
        },
        "id": "e0hf4NBQ-bPF",
        "outputId": "d0d4504d-b048-4b73-e408-f1774716dfa9"
      },
      "execution_count": 121,
      "outputs": [
        {
          "output_type": "stream",
          "name": "stdout",
          "text": [
            "              precision    recall  f1-score   support\n",
            "\n",
            "           0      0.845     0.700     0.766       500\n",
            "           1      0.923     0.888     0.905       500\n",
            "           2      0.671     0.850     0.750       500\n",
            "           3      0.906     0.962     0.933       500\n",
            "           4      0.504     0.570     0.535       500\n",
            "           5      0.632     0.638     0.635       500\n",
            "           6      0.757     0.842     0.797       500\n",
            "           7      0.916     0.954     0.934       500\n",
            "           8      0.919     0.822     0.868       500\n",
            "           9      0.793     0.722     0.756       500\n",
            "          10      0.967     0.952     0.960       500\n",
            "          11      0.852     0.598     0.703       500\n",
            "          12      0.628     0.974     0.763       500\n",
            "          13      0.901     0.854     0.877       500\n",
            "          14      0.771     0.652     0.706       500\n",
            "          15      0.893     0.956     0.924       500\n",
            "          16      0.987     0.882     0.931       500\n",
            "          17      0.940     0.778     0.851       500\n",
            "          18      0.878     0.882     0.880       500\n",
            "          19      0.682     0.698     0.690       500\n",
            "          20      0.969     0.924     0.946       500\n",
            "          21      0.758     0.856     0.804       500\n",
            "          22      0.563     0.438     0.493       500\n",
            "          23      0.669     0.710     0.689       500\n",
            "          24      0.626     0.914     0.743       500\n",
            "          25      0.688     0.880     0.772       500\n",
            "          26      0.866     0.970     0.915       500\n",
            "          27      0.526     0.892     0.662       500\n",
            "          28      0.676     0.752     0.712       500\n",
            "          29      0.632     0.820     0.714       500\n",
            "          30      0.857     0.838     0.847       500\n",
            "          31      0.796     0.926     0.856       500\n",
            "          32      0.404     0.880     0.553       500\n",
            "          33      0.633     0.670     0.651       500\n",
            "          34      0.889     0.546     0.677       500\n",
            "          35      0.810     0.868     0.838       500\n",
            "          36      0.710     0.844     0.771       500\n",
            "          37      0.822     0.904     0.861       500\n",
            "          38      0.930     0.910     0.920       500\n",
            "          39      0.553     0.836     0.666       500\n",
            "          40      0.695     0.808     0.747       500\n",
            "          41      0.671     0.946     0.785       500\n",
            "          42      0.927     0.812     0.866       500\n",
            "          43      0.482     0.808     0.604       500\n",
            "          44      0.812     0.690     0.746       500\n",
            "          45      0.969     0.872     0.918       500\n",
            "          46      0.807     0.972     0.882       500\n",
            "          47      0.555     0.934     0.696       500\n",
            "          48      0.706     0.962     0.815       500\n",
            "          49      0.854     0.946     0.898       500\n",
            "          50      0.433     0.818     0.566       500\n",
            "          51      0.805     0.892     0.846       500\n",
            "          52      0.775     0.766     0.771       500\n",
            "          53      0.649     0.618     0.633       500\n",
            "          54      0.885     0.676     0.766       500\n",
            "          55      0.701     0.810     0.751       500\n",
            "          56      0.795     0.922     0.854       500\n",
            "          57      0.857     0.840     0.848       500\n",
            "          58      0.769     0.874     0.818       500\n",
            "          59      0.656     0.914     0.764       500\n",
            "          60      0.774     0.760     0.767       500\n",
            "          61      0.628     0.764     0.690       500\n",
            "          62      0.671     0.960     0.790       500\n",
            "          63      0.930     0.850     0.888       500\n",
            "          64      0.974     0.834     0.899       500\n",
            "          65      0.789     0.948     0.861       500\n",
            "          66      0.921     0.950     0.935       500\n",
            "          67      0.862     0.910     0.885       500\n",
            "          68      0.606     0.638     0.622       500\n",
            "          69      0.859     0.754     0.803       500\n",
            "          70      0.710     0.744     0.727       500\n",
            "          71      0.511     0.918     0.656       500\n",
            "          72      0.895     0.836     0.865       500\n",
            "          73      0.514     0.698     0.592       500\n",
            "          74      0.902     0.936     0.919       500\n",
            "          75      0.985     0.666     0.795       500\n",
            "          76      0.920     0.920     0.920       500\n",
            "          77      0.704     0.910     0.794       500\n",
            "          78      0.554     0.786     0.650       500\n",
            "          79      0.979     0.924     0.951       500\n",
            "          80      0.499     0.986     0.663       500\n",
            "          81      0.385     0.898     0.539       500\n",
            "          82      0.846     0.900     0.872       500\n",
            "          83      0.976     0.962     0.969       500\n",
            "          84      0.921     0.844     0.881       500\n",
            "          85      0.424     0.884     0.573       500\n",
            "          86      0.590     0.916     0.718       500\n",
            "          87      0.660     0.712     0.685       500\n",
            "          88      0.589     0.768     0.667       500\n",
            "          89      0.437     0.876     0.583       500\n",
            "          90      0.662     0.748     0.702       500\n",
            "          91      0.832     0.734     0.780       500\n",
            "          92      0.656     0.960     0.779       500\n",
            "          93      0.925     0.960     0.942       500\n",
            "          94      0.707     0.954     0.812       500\n",
            "          95      0.926     0.902     0.914       500\n",
            "          96      0.666     0.898     0.765       500\n",
            "          97      0.939     0.890     0.914       500\n",
            "          98      0.734     0.910     0.812       500\n",
            "          99      0.810     0.940     0.870       500\n",
            "         100      0.832     0.695     0.757     50000\n",
            "\n",
            "    accuracy                          0.766    100000\n",
            "   macro avg      0.755     0.836     0.783    100000\n",
            "weighted avg      0.793     0.766     0.770    100000\n",
            "\n"
          ]
        }
      ]
    },
    {
      "cell_type": "code",
      "source": [
        "#df2 = pd.read_csv(\"/content/drive/MyDrive/ASU/ood_test_data_small.csv\")\n",
        "df2 = pd.read_csv(\"/content/drive/MyDrive/ASU/stage1_eval_data_ds3.csv\")\n"
      ],
      "metadata": {
        "id": "-vot8mV--bUD"
      },
      "execution_count": 122,
      "outputs": []
    },
    {
      "cell_type": "code",
      "source": [],
      "metadata": {
        "id": "6BolYknPTQ5_"
      },
      "execution_count": null,
      "outputs": []
    },
    {
      "cell_type": "code",
      "source": [
        "df2 = pd.read_csv(\"/content/drive/MyDrive/ASU/ood_test_data_small.csv\")"
      ],
      "metadata": {
        "id": "BSnH2uB286su"
      },
      "execution_count": 68,
      "outputs": []
    },
    {
      "cell_type": "code",
      "source": [
        "df2 = pd.read_csv(\"/content/drive/MyDrive/ASU/stage1_eval_data_ds2.csv\")"
      ],
      "metadata": {
        "id": "rs1jtZg1TRlW"
      },
      "execution_count": 68,
      "outputs": []
    },
    {
      "cell_type": "code",
      "source": [
        "df2[\"N_plus_one_prediction\"] = predictions_"
      ],
      "metadata": {
        "id": "P7WmjbQl-iM_"
      },
      "execution_count": 123,
      "outputs": []
    },
    {
      "cell_type": "code",
      "source": [
        "df2.head(10)"
      ],
      "metadata": {
        "colab": {
          "base_uri": "https://localhost:8080/",
          "height": 580
        },
        "id": "BbmRemkT-iPU",
        "outputId": "2b17ade3-a25d-4e4a-904b-80670245cc90"
      },
      "execution_count": 124,
      "outputs": [
        {
          "output_type": "execute_result",
          "data": {
            "text/plain": [
              "           author  real_label  label  \\\n",
              "0  A11OTLEDSW8ZXD          44     44   \n",
              "1  A11OTLEDSW8ZXD          44     44   \n",
              "2  A11OTLEDSW8ZXD          44     44   \n",
              "3  A11OTLEDSW8ZXD          44     44   \n",
              "4  A11OTLEDSW8ZXD          44     44   \n",
              "5  A11OTLEDSW8ZXD          44     44   \n",
              "6  A11OTLEDSW8ZXD          44     44   \n",
              "7  A11OTLEDSW8ZXD          44     44   \n",
              "8  A11OTLEDSW8ZXD          44     44   \n",
              "9  A11OTLEDSW8ZXD          44     44   \n",
              "\n",
              "                                              review  \\\n",
              "0  This is the third book in the series with depu...   \n",
              "1  This book is nicely divided into two parts:  C...   \n",
              "2  The character of Edward reminds me of a studen...   \n",
              "3  This may taste \"25% less sugar than the leadin...   \n",
              "4  Having recently taken a level 1 college math c...   \n",
              "5  I am a Blogger fan myself and read this book t...   \n",
              "6  The goal of this video is to prove or disprove...   \n",
              "7  This leash is made to last.  It's made from on...   \n",
              "8  It's the story of Bandit the cat moving with h...   \n",
              "9  I bought this canned food when Amazon recently...   \n",
              "\n",
              "                     product_domain  overall  #words  N_plus_one_prediction  \n",
              "0                     books.json.gz      4.0     174                    100  \n",
              "1                     books.json.gz      4.0     509                    100  \n",
              "2                     books.json.gz      4.0     312                     44  \n",
              "3  grocery_and_gourmet_food.json.gz      4.0      85                    100  \n",
              "4                     books.json.gz      5.0     131                     44  \n",
              "5                     books.json.gz      4.0     254                    100  \n",
              "6             movies_and_tv.json.gz      4.0     392                     44  \n",
              "7              pet_supplies.json.gz      5.0     267                     44  \n",
              "8                     books.json.gz      4.0     149                    100  \n",
              "9              pet_supplies.json.gz      5.0     158                     81  "
            ],
            "text/html": [
              "\n",
              "  <div id=\"df-1d85b1bf-273e-4a02-aab4-b463a7849eae\">\n",
              "    <div class=\"colab-df-container\">\n",
              "      <div>\n",
              "<style scoped>\n",
              "    .dataframe tbody tr th:only-of-type {\n",
              "        vertical-align: middle;\n",
              "    }\n",
              "\n",
              "    .dataframe tbody tr th {\n",
              "        vertical-align: top;\n",
              "    }\n",
              "\n",
              "    .dataframe thead th {\n",
              "        text-align: right;\n",
              "    }\n",
              "</style>\n",
              "<table border=\"1\" class=\"dataframe\">\n",
              "  <thead>\n",
              "    <tr style=\"text-align: right;\">\n",
              "      <th></th>\n",
              "      <th>author</th>\n",
              "      <th>real_label</th>\n",
              "      <th>label</th>\n",
              "      <th>review</th>\n",
              "      <th>product_domain</th>\n",
              "      <th>overall</th>\n",
              "      <th>#words</th>\n",
              "      <th>N_plus_one_prediction</th>\n",
              "    </tr>\n",
              "  </thead>\n",
              "  <tbody>\n",
              "    <tr>\n",
              "      <th>0</th>\n",
              "      <td>A11OTLEDSW8ZXD</td>\n",
              "      <td>44</td>\n",
              "      <td>44</td>\n",
              "      <td>This is the third book in the series with depu...</td>\n",
              "      <td>books.json.gz</td>\n",
              "      <td>4.0</td>\n",
              "      <td>174</td>\n",
              "      <td>100</td>\n",
              "    </tr>\n",
              "    <tr>\n",
              "      <th>1</th>\n",
              "      <td>A11OTLEDSW8ZXD</td>\n",
              "      <td>44</td>\n",
              "      <td>44</td>\n",
              "      <td>This book is nicely divided into two parts:  C...</td>\n",
              "      <td>books.json.gz</td>\n",
              "      <td>4.0</td>\n",
              "      <td>509</td>\n",
              "      <td>100</td>\n",
              "    </tr>\n",
              "    <tr>\n",
              "      <th>2</th>\n",
              "      <td>A11OTLEDSW8ZXD</td>\n",
              "      <td>44</td>\n",
              "      <td>44</td>\n",
              "      <td>The character of Edward reminds me of a studen...</td>\n",
              "      <td>books.json.gz</td>\n",
              "      <td>4.0</td>\n",
              "      <td>312</td>\n",
              "      <td>44</td>\n",
              "    </tr>\n",
              "    <tr>\n",
              "      <th>3</th>\n",
              "      <td>A11OTLEDSW8ZXD</td>\n",
              "      <td>44</td>\n",
              "      <td>44</td>\n",
              "      <td>This may taste \"25% less sugar than the leadin...</td>\n",
              "      <td>grocery_and_gourmet_food.json.gz</td>\n",
              "      <td>4.0</td>\n",
              "      <td>85</td>\n",
              "      <td>100</td>\n",
              "    </tr>\n",
              "    <tr>\n",
              "      <th>4</th>\n",
              "      <td>A11OTLEDSW8ZXD</td>\n",
              "      <td>44</td>\n",
              "      <td>44</td>\n",
              "      <td>Having recently taken a level 1 college math c...</td>\n",
              "      <td>books.json.gz</td>\n",
              "      <td>5.0</td>\n",
              "      <td>131</td>\n",
              "      <td>44</td>\n",
              "    </tr>\n",
              "    <tr>\n",
              "      <th>5</th>\n",
              "      <td>A11OTLEDSW8ZXD</td>\n",
              "      <td>44</td>\n",
              "      <td>44</td>\n",
              "      <td>I am a Blogger fan myself and read this book t...</td>\n",
              "      <td>books.json.gz</td>\n",
              "      <td>4.0</td>\n",
              "      <td>254</td>\n",
              "      <td>100</td>\n",
              "    </tr>\n",
              "    <tr>\n",
              "      <th>6</th>\n",
              "      <td>A11OTLEDSW8ZXD</td>\n",
              "      <td>44</td>\n",
              "      <td>44</td>\n",
              "      <td>The goal of this video is to prove or disprove...</td>\n",
              "      <td>movies_and_tv.json.gz</td>\n",
              "      <td>4.0</td>\n",
              "      <td>392</td>\n",
              "      <td>44</td>\n",
              "    </tr>\n",
              "    <tr>\n",
              "      <th>7</th>\n",
              "      <td>A11OTLEDSW8ZXD</td>\n",
              "      <td>44</td>\n",
              "      <td>44</td>\n",
              "      <td>This leash is made to last.  It's made from on...</td>\n",
              "      <td>pet_supplies.json.gz</td>\n",
              "      <td>5.0</td>\n",
              "      <td>267</td>\n",
              "      <td>44</td>\n",
              "    </tr>\n",
              "    <tr>\n",
              "      <th>8</th>\n",
              "      <td>A11OTLEDSW8ZXD</td>\n",
              "      <td>44</td>\n",
              "      <td>44</td>\n",
              "      <td>It's the story of Bandit the cat moving with h...</td>\n",
              "      <td>books.json.gz</td>\n",
              "      <td>4.0</td>\n",
              "      <td>149</td>\n",
              "      <td>100</td>\n",
              "    </tr>\n",
              "    <tr>\n",
              "      <th>9</th>\n",
              "      <td>A11OTLEDSW8ZXD</td>\n",
              "      <td>44</td>\n",
              "      <td>44</td>\n",
              "      <td>I bought this canned food when Amazon recently...</td>\n",
              "      <td>pet_supplies.json.gz</td>\n",
              "      <td>5.0</td>\n",
              "      <td>158</td>\n",
              "      <td>81</td>\n",
              "    </tr>\n",
              "  </tbody>\n",
              "</table>\n",
              "</div>\n",
              "      <button class=\"colab-df-convert\" onclick=\"convertToInteractive('df-1d85b1bf-273e-4a02-aab4-b463a7849eae')\"\n",
              "              title=\"Convert this dataframe to an interactive table.\"\n",
              "              style=\"display:none;\">\n",
              "        \n",
              "  <svg xmlns=\"http://www.w3.org/2000/svg\" height=\"24px\"viewBox=\"0 0 24 24\"\n",
              "       width=\"24px\">\n",
              "    <path d=\"M0 0h24v24H0V0z\" fill=\"none\"/>\n",
              "    <path d=\"M18.56 5.44l.94 2.06.94-2.06 2.06-.94-2.06-.94-.94-2.06-.94 2.06-2.06.94zm-11 1L8.5 8.5l.94-2.06 2.06-.94-2.06-.94L8.5 2.5l-.94 2.06-2.06.94zm10 10l.94 2.06.94-2.06 2.06-.94-2.06-.94-.94-2.06-.94 2.06-2.06.94z\"/><path d=\"M17.41 7.96l-1.37-1.37c-.4-.4-.92-.59-1.43-.59-.52 0-1.04.2-1.43.59L10.3 9.45l-7.72 7.72c-.78.78-.78 2.05 0 2.83L4 21.41c.39.39.9.59 1.41.59.51 0 1.02-.2 1.41-.59l7.78-7.78 2.81-2.81c.8-.78.8-2.07 0-2.86zM5.41 20L4 18.59l7.72-7.72 1.47 1.35L5.41 20z\"/>\n",
              "  </svg>\n",
              "      </button>\n",
              "      \n",
              "  <style>\n",
              "    .colab-df-container {\n",
              "      display:flex;\n",
              "      flex-wrap:wrap;\n",
              "      gap: 12px;\n",
              "    }\n",
              "\n",
              "    .colab-df-convert {\n",
              "      background-color: #E8F0FE;\n",
              "      border: none;\n",
              "      border-radius: 50%;\n",
              "      cursor: pointer;\n",
              "      display: none;\n",
              "      fill: #1967D2;\n",
              "      height: 32px;\n",
              "      padding: 0 0 0 0;\n",
              "      width: 32px;\n",
              "    }\n",
              "\n",
              "    .colab-df-convert:hover {\n",
              "      background-color: #E2EBFA;\n",
              "      box-shadow: 0px 1px 2px rgba(60, 64, 67, 0.3), 0px 1px 3px 1px rgba(60, 64, 67, 0.15);\n",
              "      fill: #174EA6;\n",
              "    }\n",
              "\n",
              "    [theme=dark] .colab-df-convert {\n",
              "      background-color: #3B4455;\n",
              "      fill: #D2E3FC;\n",
              "    }\n",
              "\n",
              "    [theme=dark] .colab-df-convert:hover {\n",
              "      background-color: #434B5C;\n",
              "      box-shadow: 0px 1px 3px 1px rgba(0, 0, 0, 0.15);\n",
              "      filter: drop-shadow(0px 1px 2px rgba(0, 0, 0, 0.3));\n",
              "      fill: #FFFFFF;\n",
              "    }\n",
              "  </style>\n",
              "\n",
              "      <script>\n",
              "        const buttonEl =\n",
              "          document.querySelector('#df-1d85b1bf-273e-4a02-aab4-b463a7849eae button.colab-df-convert');\n",
              "        buttonEl.style.display =\n",
              "          google.colab.kernel.accessAllowed ? 'block' : 'none';\n",
              "\n",
              "        async function convertToInteractive(key) {\n",
              "          const element = document.querySelector('#df-1d85b1bf-273e-4a02-aab4-b463a7849eae');\n",
              "          const dataTable =\n",
              "            await google.colab.kernel.invokeFunction('convertToInteractive',\n",
              "                                                     [key], {});\n",
              "          if (!dataTable) return;\n",
              "\n",
              "          const docLinkHtml = 'Like what you see? Visit the ' +\n",
              "            '<a target=\"_blank\" href=https://colab.research.google.com/notebooks/data_table.ipynb>data table notebook</a>'\n",
              "            + ' to learn more about interactive tables.';\n",
              "          element.innerHTML = '';\n",
              "          dataTable['output_type'] = 'display_data';\n",
              "          await google.colab.output.renderOutput(dataTable, element);\n",
              "          const docLink = document.createElement('div');\n",
              "          docLink.innerHTML = docLinkHtml;\n",
              "          element.appendChild(docLink);\n",
              "        }\n",
              "      </script>\n",
              "    </div>\n",
              "  </div>\n",
              "  "
            ]
          },
          "metadata": {},
          "execution_count": 124
        }
      ]
    },
    {
      "cell_type": "code",
      "source": [
        "df2['N_plus_one_prediction'] = df2['N_plus_one_prediction'].replace([100], 'OOD')"
      ],
      "metadata": {
        "id": "UTollU5t-iRi"
      },
      "execution_count": 125,
      "outputs": []
    },
    {
      "cell_type": "code",
      "source": [
        "df2.head(10)"
      ],
      "metadata": {
        "colab": {
          "base_uri": "https://localhost:8080/",
          "height": 580
        },
        "id": "TsMt3Qs1-iTa",
        "outputId": "433968c7-70f8-4b35-97d8-625d6111891c"
      },
      "execution_count": 126,
      "outputs": [
        {
          "output_type": "execute_result",
          "data": {
            "text/plain": [
              "           author  real_label  label  \\\n",
              "0  A11OTLEDSW8ZXD          44     44   \n",
              "1  A11OTLEDSW8ZXD          44     44   \n",
              "2  A11OTLEDSW8ZXD          44     44   \n",
              "3  A11OTLEDSW8ZXD          44     44   \n",
              "4  A11OTLEDSW8ZXD          44     44   \n",
              "5  A11OTLEDSW8ZXD          44     44   \n",
              "6  A11OTLEDSW8ZXD          44     44   \n",
              "7  A11OTLEDSW8ZXD          44     44   \n",
              "8  A11OTLEDSW8ZXD          44     44   \n",
              "9  A11OTLEDSW8ZXD          44     44   \n",
              "\n",
              "                                              review  \\\n",
              "0  This is the third book in the series with depu...   \n",
              "1  This book is nicely divided into two parts:  C...   \n",
              "2  The character of Edward reminds me of a studen...   \n",
              "3  This may taste \"25% less sugar than the leadin...   \n",
              "4  Having recently taken a level 1 college math c...   \n",
              "5  I am a Blogger fan myself and read this book t...   \n",
              "6  The goal of this video is to prove or disprove...   \n",
              "7  This leash is made to last.  It's made from on...   \n",
              "8  It's the story of Bandit the cat moving with h...   \n",
              "9  I bought this canned food when Amazon recently...   \n",
              "\n",
              "                     product_domain  overall  #words N_plus_one_prediction  \n",
              "0                     books.json.gz      4.0     174                   OOD  \n",
              "1                     books.json.gz      4.0     509                   OOD  \n",
              "2                     books.json.gz      4.0     312                    44  \n",
              "3  grocery_and_gourmet_food.json.gz      4.0      85                   OOD  \n",
              "4                     books.json.gz      5.0     131                    44  \n",
              "5                     books.json.gz      4.0     254                   OOD  \n",
              "6             movies_and_tv.json.gz      4.0     392                    44  \n",
              "7              pet_supplies.json.gz      5.0     267                    44  \n",
              "8                     books.json.gz      4.0     149                   OOD  \n",
              "9              pet_supplies.json.gz      5.0     158                    81  "
            ],
            "text/html": [
              "\n",
              "  <div id=\"df-edc15b14-a333-4ee9-90ba-05cf2870fe1b\">\n",
              "    <div class=\"colab-df-container\">\n",
              "      <div>\n",
              "<style scoped>\n",
              "    .dataframe tbody tr th:only-of-type {\n",
              "        vertical-align: middle;\n",
              "    }\n",
              "\n",
              "    .dataframe tbody tr th {\n",
              "        vertical-align: top;\n",
              "    }\n",
              "\n",
              "    .dataframe thead th {\n",
              "        text-align: right;\n",
              "    }\n",
              "</style>\n",
              "<table border=\"1\" class=\"dataframe\">\n",
              "  <thead>\n",
              "    <tr style=\"text-align: right;\">\n",
              "      <th></th>\n",
              "      <th>author</th>\n",
              "      <th>real_label</th>\n",
              "      <th>label</th>\n",
              "      <th>review</th>\n",
              "      <th>product_domain</th>\n",
              "      <th>overall</th>\n",
              "      <th>#words</th>\n",
              "      <th>N_plus_one_prediction</th>\n",
              "    </tr>\n",
              "  </thead>\n",
              "  <tbody>\n",
              "    <tr>\n",
              "      <th>0</th>\n",
              "      <td>A11OTLEDSW8ZXD</td>\n",
              "      <td>44</td>\n",
              "      <td>44</td>\n",
              "      <td>This is the third book in the series with depu...</td>\n",
              "      <td>books.json.gz</td>\n",
              "      <td>4.0</td>\n",
              "      <td>174</td>\n",
              "      <td>OOD</td>\n",
              "    </tr>\n",
              "    <tr>\n",
              "      <th>1</th>\n",
              "      <td>A11OTLEDSW8ZXD</td>\n",
              "      <td>44</td>\n",
              "      <td>44</td>\n",
              "      <td>This book is nicely divided into two parts:  C...</td>\n",
              "      <td>books.json.gz</td>\n",
              "      <td>4.0</td>\n",
              "      <td>509</td>\n",
              "      <td>OOD</td>\n",
              "    </tr>\n",
              "    <tr>\n",
              "      <th>2</th>\n",
              "      <td>A11OTLEDSW8ZXD</td>\n",
              "      <td>44</td>\n",
              "      <td>44</td>\n",
              "      <td>The character of Edward reminds me of a studen...</td>\n",
              "      <td>books.json.gz</td>\n",
              "      <td>4.0</td>\n",
              "      <td>312</td>\n",
              "      <td>44</td>\n",
              "    </tr>\n",
              "    <tr>\n",
              "      <th>3</th>\n",
              "      <td>A11OTLEDSW8ZXD</td>\n",
              "      <td>44</td>\n",
              "      <td>44</td>\n",
              "      <td>This may taste \"25% less sugar than the leadin...</td>\n",
              "      <td>grocery_and_gourmet_food.json.gz</td>\n",
              "      <td>4.0</td>\n",
              "      <td>85</td>\n",
              "      <td>OOD</td>\n",
              "    </tr>\n",
              "    <tr>\n",
              "      <th>4</th>\n",
              "      <td>A11OTLEDSW8ZXD</td>\n",
              "      <td>44</td>\n",
              "      <td>44</td>\n",
              "      <td>Having recently taken a level 1 college math c...</td>\n",
              "      <td>books.json.gz</td>\n",
              "      <td>5.0</td>\n",
              "      <td>131</td>\n",
              "      <td>44</td>\n",
              "    </tr>\n",
              "    <tr>\n",
              "      <th>5</th>\n",
              "      <td>A11OTLEDSW8ZXD</td>\n",
              "      <td>44</td>\n",
              "      <td>44</td>\n",
              "      <td>I am a Blogger fan myself and read this book t...</td>\n",
              "      <td>books.json.gz</td>\n",
              "      <td>4.0</td>\n",
              "      <td>254</td>\n",
              "      <td>OOD</td>\n",
              "    </tr>\n",
              "    <tr>\n",
              "      <th>6</th>\n",
              "      <td>A11OTLEDSW8ZXD</td>\n",
              "      <td>44</td>\n",
              "      <td>44</td>\n",
              "      <td>The goal of this video is to prove or disprove...</td>\n",
              "      <td>movies_and_tv.json.gz</td>\n",
              "      <td>4.0</td>\n",
              "      <td>392</td>\n",
              "      <td>44</td>\n",
              "    </tr>\n",
              "    <tr>\n",
              "      <th>7</th>\n",
              "      <td>A11OTLEDSW8ZXD</td>\n",
              "      <td>44</td>\n",
              "      <td>44</td>\n",
              "      <td>This leash is made to last.  It's made from on...</td>\n",
              "      <td>pet_supplies.json.gz</td>\n",
              "      <td>5.0</td>\n",
              "      <td>267</td>\n",
              "      <td>44</td>\n",
              "    </tr>\n",
              "    <tr>\n",
              "      <th>8</th>\n",
              "      <td>A11OTLEDSW8ZXD</td>\n",
              "      <td>44</td>\n",
              "      <td>44</td>\n",
              "      <td>It's the story of Bandit the cat moving with h...</td>\n",
              "      <td>books.json.gz</td>\n",
              "      <td>4.0</td>\n",
              "      <td>149</td>\n",
              "      <td>OOD</td>\n",
              "    </tr>\n",
              "    <tr>\n",
              "      <th>9</th>\n",
              "      <td>A11OTLEDSW8ZXD</td>\n",
              "      <td>44</td>\n",
              "      <td>44</td>\n",
              "      <td>I bought this canned food when Amazon recently...</td>\n",
              "      <td>pet_supplies.json.gz</td>\n",
              "      <td>5.0</td>\n",
              "      <td>158</td>\n",
              "      <td>81</td>\n",
              "    </tr>\n",
              "  </tbody>\n",
              "</table>\n",
              "</div>\n",
              "      <button class=\"colab-df-convert\" onclick=\"convertToInteractive('df-edc15b14-a333-4ee9-90ba-05cf2870fe1b')\"\n",
              "              title=\"Convert this dataframe to an interactive table.\"\n",
              "              style=\"display:none;\">\n",
              "        \n",
              "  <svg xmlns=\"http://www.w3.org/2000/svg\" height=\"24px\"viewBox=\"0 0 24 24\"\n",
              "       width=\"24px\">\n",
              "    <path d=\"M0 0h24v24H0V0z\" fill=\"none\"/>\n",
              "    <path d=\"M18.56 5.44l.94 2.06.94-2.06 2.06-.94-2.06-.94-.94-2.06-.94 2.06-2.06.94zm-11 1L8.5 8.5l.94-2.06 2.06-.94-2.06-.94L8.5 2.5l-.94 2.06-2.06.94zm10 10l.94 2.06.94-2.06 2.06-.94-2.06-.94-.94-2.06-.94 2.06-2.06.94z\"/><path d=\"M17.41 7.96l-1.37-1.37c-.4-.4-.92-.59-1.43-.59-.52 0-1.04.2-1.43.59L10.3 9.45l-7.72 7.72c-.78.78-.78 2.05 0 2.83L4 21.41c.39.39.9.59 1.41.59.51 0 1.02-.2 1.41-.59l7.78-7.78 2.81-2.81c.8-.78.8-2.07 0-2.86zM5.41 20L4 18.59l7.72-7.72 1.47 1.35L5.41 20z\"/>\n",
              "  </svg>\n",
              "      </button>\n",
              "      \n",
              "  <style>\n",
              "    .colab-df-container {\n",
              "      display:flex;\n",
              "      flex-wrap:wrap;\n",
              "      gap: 12px;\n",
              "    }\n",
              "\n",
              "    .colab-df-convert {\n",
              "      background-color: #E8F0FE;\n",
              "      border: none;\n",
              "      border-radius: 50%;\n",
              "      cursor: pointer;\n",
              "      display: none;\n",
              "      fill: #1967D2;\n",
              "      height: 32px;\n",
              "      padding: 0 0 0 0;\n",
              "      width: 32px;\n",
              "    }\n",
              "\n",
              "    .colab-df-convert:hover {\n",
              "      background-color: #E2EBFA;\n",
              "      box-shadow: 0px 1px 2px rgba(60, 64, 67, 0.3), 0px 1px 3px 1px rgba(60, 64, 67, 0.15);\n",
              "      fill: #174EA6;\n",
              "    }\n",
              "\n",
              "    [theme=dark] .colab-df-convert {\n",
              "      background-color: #3B4455;\n",
              "      fill: #D2E3FC;\n",
              "    }\n",
              "\n",
              "    [theme=dark] .colab-df-convert:hover {\n",
              "      background-color: #434B5C;\n",
              "      box-shadow: 0px 1px 3px 1px rgba(0, 0, 0, 0.15);\n",
              "      filter: drop-shadow(0px 1px 2px rgba(0, 0, 0, 0.3));\n",
              "      fill: #FFFFFF;\n",
              "    }\n",
              "  </style>\n",
              "\n",
              "      <script>\n",
              "        const buttonEl =\n",
              "          document.querySelector('#df-edc15b14-a333-4ee9-90ba-05cf2870fe1b button.colab-df-convert');\n",
              "        buttonEl.style.display =\n",
              "          google.colab.kernel.accessAllowed ? 'block' : 'none';\n",
              "\n",
              "        async function convertToInteractive(key) {\n",
              "          const element = document.querySelector('#df-edc15b14-a333-4ee9-90ba-05cf2870fe1b');\n",
              "          const dataTable =\n",
              "            await google.colab.kernel.invokeFunction('convertToInteractive',\n",
              "                                                     [key], {});\n",
              "          if (!dataTable) return;\n",
              "\n",
              "          const docLinkHtml = 'Like what you see? Visit the ' +\n",
              "            '<a target=\"_blank\" href=https://colab.research.google.com/notebooks/data_table.ipynb>data table notebook</a>'\n",
              "            + ' to learn more about interactive tables.';\n",
              "          element.innerHTML = '';\n",
              "          dataTable['output_type'] = 'display_data';\n",
              "          await google.colab.output.renderOutput(dataTable, element);\n",
              "          const docLink = document.createElement('div');\n",
              "          docLink.innerHTML = docLinkHtml;\n",
              "          element.appendChild(docLink);\n",
              "        }\n",
              "      </script>\n",
              "    </div>\n",
              "  </div>\n",
              "  "
            ]
          },
          "metadata": {},
          "execution_count": 126
        }
      ]
    },
    {
      "cell_type": "code",
      "source": [
        "combined_df = df2\n",
        "number_of_known_labels = 100"
      ],
      "metadata": {
        "id": "X9-pwo0C-iVi"
      },
      "execution_count": 127,
      "outputs": []
    },
    {
      "cell_type": "code",
      "source": [
        "\n",
        "def compute_precision_recall_for_known_classes(given_label):\n",
        "    TP = combined_df[(combined_df[\"real_label\"] == given_label) & (combined_df[\"N_plus_one_prediction\"] == given_label)].shape[0]\n",
        "    FP = combined_df[(combined_df[\"real_label\"] != given_label) & (combined_df[\"N_plus_one_prediction\"] == given_label)].shape[0]\n",
        "    FN = combined_df[(combined_df[\"real_label\"] == given_label) & (combined_df[\"N_plus_one_prediction\"] != given_label)].shape[0]\n",
        "    if(TP == 0):\n",
        "        P = 0\n",
        "        R = 0\n",
        "    else:\n",
        "        P = round(100*TP/(TP + FP), 2)\n",
        "        R = round(100*TP/(TP + FN),2)\n",
        "    return P, R"
      ],
      "metadata": {
        "id": "3jcrJZ-P-iXX"
      },
      "execution_count": 128,
      "outputs": []
    },
    {
      "cell_type": "code",
      "source": [
        "def compute_precision_recall_for_OOD():\n",
        "    TP = combined_df[(combined_df[\"real_label\"] >= number_of_known_labels) & (combined_df[\"N_plus_one_prediction\"] == \"OOD\")].shape[0]\n",
        "    FP = combined_df[(combined_df[\"real_label\"] < number_of_known_labels) & (combined_df[\"N_plus_one_prediction\"] == \"OOD\")].shape[0]\n",
        "    FN = combined_df[(combined_df[\"real_label\"] >= number_of_known_labels) & (combined_df[\"N_plus_one_prediction\"] != \"OOD\")].shape[0]\n",
        "    if(TP == 0):\n",
        "        P = 0\n",
        "        R = 0\n",
        "    else:\n",
        "        P = 100*TP/(TP + FP)\n",
        "        R = 100*TP/(TP + FN)\n",
        "    return P, R"
      ],
      "metadata": {
        "id": "7sESXHpY-iZw"
      },
      "execution_count": 129,
      "outputs": []
    },
    {
      "cell_type": "code",
      "source": [
        "\n",
        "\n",
        "\n",
        "\n",
        "def compute_performance_metrics():\n",
        "    from statistics import mean\n",
        "    \n",
        "    precisions = []\n",
        "    recalls = []\n",
        "    for known_label in range(number_of_known_labels):\n",
        "        p, r = compute_precision_recall_for_known_classes(known_label)\n",
        "        precisions.append(p)\n",
        "        recalls.append(r)\n",
        "    \n",
        "    precision_known, recall_known = round(mean(precisions),2), round(mean(recalls),2)\n",
        "    f1_known = round(2*precision_known*recall_known/(precision_known + recall_known),2)\n",
        "    \n",
        "    precision_ood, recall_ood = compute_precision_recall_for_OOD()\n",
        "    f1_ood = round(2*precision_ood*recall_ood/(precision_ood + recall_ood),2)\n",
        "    \n",
        "    precisions.append(precision_ood)\n",
        "    recalls.append(recall_ood)\n",
        "    \n",
        "    precision, recall = round(mean(precisions),2), round(mean(recalls),2)\n",
        "    f1 = round(2*precision*recall/(precision + recall),2)\n",
        "    \n",
        "    return {\n",
        "        \"known\": {\n",
        "            \"precision\": precision_known,\n",
        "            \"recall\": recall_known,\n",
        "            \"f1\": f1_known,\n",
        "        },\n",
        "        \"ood\": {\n",
        "            \"precision\": round(precision_ood,2),\n",
        "            \"recall\": round(recall_ood,2),\n",
        "            \"f1\": f1_ood,\n",
        "        },\n",
        "        \"overall\": {\n",
        "            \"precision\": precision,\n",
        "            \"recall\": recall,\n",
        "            \"f1\": f1,\n",
        "        }\n",
        "        \n",
        "    }"
      ],
      "metadata": {
        "id": "-Yr1nnP--idV"
      },
      "execution_count": 130,
      "outputs": []
    },
    {
      "cell_type": "code",
      "source": [
        "def print_performance_metrics():\n",
        "    performance_dict = compute_performance_metrics()\n",
        "    print(performance_dict[\"known\"][\"precision\"],performance_dict[\"known\"][\"recall\"],performance_dict[\"known\"][\"f1\"], end = \" \")\n",
        "    print(performance_dict[\"ood\"][\"precision\"],performance_dict[\"ood\"][\"recall\"],performance_dict[\"ood\"][\"f1\"], end = \" \")\n",
        "    print(performance_dict[\"overall\"][\"precision\"],performance_dict[\"overall\"][\"recall\"],performance_dict[\"overall\"][\"f1\"], end = \" \")\n",
        "    return performance_dict[\"overall\"][\"f1\"]"
      ],
      "metadata": {
        "id": "F6szCJEH-bWm"
      },
      "execution_count": 131,
      "outputs": []
    },
    {
      "cell_type": "code",
      "source": [
        "print_performance_metrics()"
      ],
      "metadata": {
        "colab": {
          "base_uri": "https://localhost:8080/"
        },
        "id": "6rI1vF-5-yOe",
        "outputId": "5b92ce98-5f7b-46e8-aff2-2cb93c3a41ec"
      },
      "execution_count": 132,
      "outputs": [
        {
          "output_type": "stream",
          "name": "stdout",
          "text": [
            "75.42 83.78 79.38 83.23 69.49 75.74 75.49 83.64 79.36 "
          ]
        },
        {
          "output_type": "execute_result",
          "data": {
            "text/plain": [
              "79.36"
            ]
          },
          "metadata": {},
          "execution_count": 132
        }
      ]
    },
    {
      "cell_type": "code",
      "source": [
        "list_of_f1=[]\n",
        "for i in range(100,401):\n",
        "  logits_total_array_o =logits_total_array\n",
        "  logits_total_array_o = np.array(logits_total_array_o)\n",
        "  logits_total_array_o[:,100] = logits_total_array_o[:,100] + (i/100)\n",
        "  predictions_ = np.argmax(logits_total_array_o , axis=1)\n",
        "  df2[\"N_plus_one_prediction\"] = predictions_\n",
        "  df2['N_plus_one_prediction'] = df2['N_plus_one_prediction'].replace([100], 'OOD')\n",
        "  print(\"\\n\",i/100,\"    \",end=\"\")\n",
        "  list_of_f1.append(print_performance_metrics())\n",
        " # print_performance_metrics()\n"
      ],
      "metadata": {
        "colab": {
          "base_uri": "https://localhost:8080/"
        },
        "id": "b5wWYlQ_-yRB",
        "outputId": "8887ab49-0895-45ed-d6e6-fc29c1bd9fcf"
      },
      "execution_count": 133,
      "outputs": [
        {
          "output_type": "stream",
          "name": "stdout",
          "text": [
            "\n",
            " 1.0     63.88 89.08 74.4 87.47 41.53 56.32 64.11 88.61 74.39 \n",
            " 1.01     63.89 89.07 74.41 87.46 41.59 56.37 64.13 88.6 74.4 \n",
            " 1.02     63.91 89.07 74.42 87.45 41.64 56.42 64.14 88.6 74.41 \n",
            " 1.03     63.93 89.06 74.43 87.44 41.69 56.46 64.16 88.59 74.42 \n",
            " 1.04     63.96 89.05 74.45 87.43 41.78 56.54 64.19 88.58 74.44 \n",
            " 1.05     63.98 89.05 74.46 87.4 41.83 56.58 64.21 88.58 74.45 \n",
            " 1.06     64.0 89.03 74.47 87.37 41.88 56.62 64.23 88.57 74.46 \n",
            " 1.07     64.02 89.03 74.48 87.37 41.94 56.67 64.25 88.56 74.47 \n",
            " 1.08     64.05 89.02 74.5 87.37 42.0 56.73 64.28 88.56 74.49 \n",
            " 1.09     64.08 89.01 74.52 87.37 42.08 56.81 64.31 88.55 74.51 \n",
            " 1.1     64.1 89.01 74.53 87.36 42.14 56.85 64.33 88.55 74.52 \n",
            " 1.11     64.14 89.01 74.56 87.36 42.24 56.94 64.37 88.54 74.54 \n",
            " 1.12     64.17 89.0 74.57 87.35 42.3 57.0 64.4 88.54 74.56 \n",
            " 1.13     64.19 88.99 74.58 87.34 42.36 57.05 64.42 88.53 74.57 \n",
            " 1.14     64.21 88.99 74.6 87.33 42.42 57.1 64.44 88.52 74.58 \n",
            " 1.15     64.24 88.98 74.61 87.33 42.49 57.16 64.46 88.52 74.6 \n",
            " 1.16     64.26 88.97 74.62 87.32 42.56 57.22 64.49 88.51 74.61 \n",
            " 1.17     64.28 88.97 74.64 87.32 42.62 57.28 64.51 88.51 74.63 \n",
            " 1.18     64.3 88.96 74.65 87.29 42.68 57.32 64.53 88.51 74.64 \n",
            " 1.19     64.33 88.96 74.67 87.29 42.74 57.38 64.55 88.5 74.65 \n",
            " 1.2     64.35 88.95 74.68 87.28 42.8 57.44 64.58 88.5 74.67 \n",
            " 1.21     64.37 88.94 74.69 87.26 42.85 57.48 64.6 88.49 74.68 \n",
            " 1.22     64.38 88.93 74.69 87.26 42.92 57.54 64.61 88.48 74.68 \n",
            " 1.23     64.41 88.93 74.71 87.26 43.0 57.61 64.64 88.47 74.7 \n",
            " 1.24     64.45 88.92 74.73 87.25 43.09 57.69 64.67 88.47 74.72 \n",
            " 1.25     64.47 88.91 74.74 87.24 43.16 57.75 64.69 88.46 74.73 \n",
            " 1.26     64.49 88.91 74.76 87.24 43.23 57.81 64.72 88.46 74.75 \n",
            " 1.27     64.52 88.9 74.77 87.23 43.3 57.87 64.74 88.45 74.76 \n",
            " 1.28     64.55 88.89 74.79 87.23 43.38 57.95 64.77 88.44 74.78 \n",
            " 1.29     64.57 88.89 74.8 87.22 43.44 58.0 64.79 88.44 74.79 \n",
            " 1.3     64.59 88.88 74.81 87.22 43.51 58.05 64.81 88.43 74.8 \n",
            " 1.31     64.62 88.88 74.83 87.21 43.58 58.12 64.84 88.43 74.82 \n",
            " 1.32     64.65 88.87 74.85 87.22 43.65 58.18 64.87 88.43 74.84 \n",
            " 1.33     64.67 88.86 74.86 87.2 43.73 58.25 64.89 88.42 74.85 \n",
            " 1.34     64.71 88.85 74.88 87.18 43.81 58.32 64.93 88.41 74.87 \n",
            " 1.35     64.73 88.84 74.89 87.18 43.89 58.39 64.96 88.4 74.89 \n",
            " 1.36     64.76 88.84 74.91 87.18 43.96 58.45 64.99 88.4 74.91 \n",
            " 1.37     64.79 88.84 74.93 87.19 44.04 58.52 65.02 88.39 74.92 \n",
            " 1.38     64.81 88.83 74.94 87.18 44.1 58.57 65.03 88.39 74.93 \n",
            " 1.39     64.84 88.82 74.96 87.18 44.17 58.64 65.06 88.38 74.95 \n",
            " 1.4     64.85 88.82 74.97 87.18 44.23 58.68 65.07 88.37 74.95 \n",
            " 1.41     64.88 88.81 74.98 87.17 44.29 58.74 65.1 88.37 74.97 \n",
            " 1.42     64.9 88.8 74.99 87.15 44.34 58.78 65.12 88.36 74.98 \n",
            " 1.43     64.91 88.8 75.0 87.15 44.4 58.83 65.13 88.36 74.99 \n",
            " 1.44     64.94 88.79 75.01 87.16 44.46 58.89 65.16 88.36 75.01 \n",
            " 1.45     64.96 88.79 75.03 87.16 44.52 58.93 65.18 88.35 75.02 \n",
            " 1.46     64.98 88.78 75.04 87.15 44.57 58.98 65.2 88.34 75.03 \n",
            " 1.47     65.0 88.77 75.05 87.15 44.63 59.03 65.22 88.34 75.04 \n",
            " 1.48     65.02 88.77 75.06 87.15 44.71 59.1 65.24 88.34 75.05 \n",
            " 1.49     65.05 88.76 75.08 87.15 44.78 59.16 65.27 88.32 75.07 \n",
            " 1.5     65.07 88.75 75.09 87.13 44.85 59.21 65.29 88.31 75.07 \n",
            " 1.51     65.1 88.74 75.1 87.11 44.9 59.25 65.31 88.31 75.09 \n",
            " 1.52     65.12 88.74 75.12 87.1 44.95 59.3 65.34 88.3 75.1 \n",
            " 1.53     65.14 88.74 75.13 87.11 45.01 59.35 65.36 88.3 75.12 \n",
            " 1.54     65.17 88.74 75.15 87.12 45.08 59.42 65.38 88.3 75.13 \n",
            " 1.55     65.19 88.72 75.16 87.1 45.14 59.47 65.4 88.29 75.14 \n",
            " 1.56     65.21 88.72 75.17 87.09 45.19 59.5 65.42 88.29 75.15 \n",
            " 1.57     65.23 88.71 75.18 87.08 45.26 59.56 65.45 88.28 75.17 \n",
            " 1.58     65.24 88.71 75.19 87.08 45.3 59.6 65.46 88.28 75.18 \n",
            " 1.59     65.28 88.7 75.21 87.07 45.38 59.66 65.49 88.27 75.19 \n",
            " 1.6     65.31 88.69 75.23 87.04 45.45 59.72 65.52 88.26 75.21 \n",
            " 1.61     65.32 88.68 75.23 87.04 45.49 59.76 65.54 88.25 75.22 \n",
            " 1.62     65.34 88.67 75.24 87.03 45.56 59.81 65.56 88.24 75.23 \n",
            " 1.63     65.38 88.66 75.26 87.03 45.63 59.87 65.59 88.24 75.25 \n",
            " 1.64     65.4 88.65 75.27 87.02 45.69 59.92 65.61 88.23 75.26 \n",
            " 1.65     65.42 88.65 75.28 87.02 45.76 59.97 65.63 88.22 75.27 \n",
            " 1.66     65.44 88.64 75.29 87.0 45.81 60.02 65.65 88.22 75.28 \n",
            " 1.67     65.46 88.63 75.3 87.0 45.89 60.08 65.67 88.2 75.29 \n",
            " 1.68     65.48 88.62 75.31 87.0 45.95 60.14 65.7 88.2 75.31 \n",
            " 1.69     65.51 88.61 75.33 86.99 46.03 60.2 65.72 88.19 75.31 \n",
            " 1.7     65.52 88.6 75.33 86.98 46.08 60.24 65.73 88.18 75.32 \n",
            " 1.71     65.54 88.6 75.35 86.97 46.13 60.28 65.75 88.18 75.33 \n",
            " 1.72     65.57 88.59 75.36 86.97 46.19 60.34 65.78 88.17 75.35 \n",
            " 1.73     65.59 88.59 75.37 86.98 46.25 60.39 65.8 88.17 75.36 \n",
            " 1.74     65.61 88.58 75.38 86.97 46.3 60.43 65.82 88.17 75.37 \n",
            " 1.75     65.63 88.58 75.4 86.97 46.38 60.49 65.84 88.16 75.38 \n",
            " 1.76     65.65 88.57 75.41 86.96 46.43 60.54 65.86 88.15 75.39 \n",
            " 1.77     65.67 88.56 75.42 86.96 46.5 60.59 65.88 88.14 75.4 \n",
            " 1.78     65.69 88.55 75.43 86.96 46.57 60.65 65.9 88.14 75.41 \n",
            " 1.79     65.71 88.55 75.44 86.93 46.6 60.67 65.92 88.13 75.42 \n",
            " 1.8     65.73 88.53 75.45 86.91 46.67 60.73 65.94 88.12 75.43 \n",
            " 1.81     65.76 88.53 75.46 86.9 46.73 60.78 65.97 88.12 75.45 \n",
            " 1.82     65.79 88.53 75.48 86.9 46.81 60.85 66.0 88.11 75.47 \n",
            " 1.83     65.81 88.52 75.49 86.9 46.88 60.9 66.02 88.11 75.48 \n",
            " 1.84     65.83 88.51 75.5 86.9 46.94 60.95 66.04 88.1 75.49 \n",
            " 1.85     65.85 88.5 75.51 86.88 47.01 61.01 66.06 88.09 75.5 \n",
            " 1.86     65.88 88.49 75.53 86.89 47.07 61.06 66.08 88.08 75.51 \n",
            " 1.87     65.91 88.48 75.55 86.89 47.16 61.14 66.12 88.07 75.53 \n",
            " 1.88     65.93 88.47 75.55 86.88 47.21 61.18 66.13 88.06 75.54 \n",
            " 1.89     65.95 88.47 75.57 86.88 47.27 61.23 66.15 88.06 75.55 \n",
            " 1.9     65.97 88.46 75.58 86.87 47.32 61.27 66.17 88.05 75.56 \n",
            " 1.91     65.99 88.44 75.58 86.86 47.38 61.32 66.2 88.04 75.57 \n",
            " 1.92     66.01 88.43 75.59 86.86 47.47 61.39 66.22 88.03 75.58 \n",
            " 1.93     66.03 88.42 75.6 86.84 47.53 61.44 66.24 88.02 75.59 \n",
            " 1.94     66.05 88.42 75.62 86.84 47.59 61.48 66.26 88.01 75.6 \n",
            " 1.95     66.07 88.41 75.62 86.82 47.65 61.53 66.28 88.0 75.61 \n",
            " 1.96     66.09 88.39 75.63 86.81 47.7 61.57 66.3 87.99 75.62 \n",
            " 1.97     66.12 88.38 75.65 86.77 47.76 61.61 66.33 87.97 75.63 \n",
            " 1.98     66.14 88.37 75.66 86.76 47.82 61.66 66.35 87.97 75.65 \n",
            " 1.99     66.17 88.36 75.67 86.75 47.88 61.7 66.37 87.96 75.65 \n",
            " 2.0     66.19 88.35 75.68 86.72 47.94 61.74 66.39 87.95 75.66 \n",
            " 2.01     66.22 88.34 75.7 86.72 48.01 61.8 66.42 87.94 75.68 \n",
            " 2.02     66.24 88.33 75.71 86.7 48.07 61.85 66.45 87.93 75.7 \n",
            " 2.03     66.27 88.33 75.73 86.7 48.14 61.91 66.47 87.93 75.71 \n",
            " 2.04     66.3 88.33 75.75 86.72 48.22 61.98 66.5 87.93 75.73 \n",
            " 2.05     66.32 88.32 75.76 86.71 48.28 62.03 66.52 87.93 75.74 \n",
            " 2.06     66.35 88.32 75.77 86.72 48.35 62.09 66.55 87.92 75.76 \n",
            " 2.07     66.38 88.31 75.79 86.72 48.42 62.14 66.58 87.92 75.78 \n",
            " 2.08     66.4 88.3 75.8 86.71 48.49 62.2 66.6 87.91 75.79 \n",
            " 2.09     66.42 88.3 75.81 86.7 48.54 62.24 66.62 87.9 75.79 \n",
            " 2.1     66.46 88.29 75.84 86.7 48.62 62.3 66.66 87.9 75.82 \n",
            " 2.11     66.48 88.28 75.84 86.69 48.7 62.36 66.68 87.88 75.83 \n",
            " 2.12     66.51 88.27 75.86 86.69 48.76 62.42 66.71 87.88 75.85 \n",
            " 2.13     66.54 88.26 75.88 86.69 48.85 62.49 66.74 87.87 75.86 \n",
            " 2.14     66.56 88.25 75.89 86.67 48.92 62.54 66.76 87.86 75.87 \n",
            " 2.15     66.59 88.25 75.91 86.66 48.99 62.59 66.79 87.86 75.89 \n",
            " 2.16     66.61 88.24 75.91 86.66 49.05 62.64 66.81 87.85 75.9 \n",
            " 2.17     66.64 88.24 75.93 86.65 49.11 62.69 66.83 87.85 75.91 \n",
            " 2.18     66.66 88.23 75.94 86.66 49.17 62.74 66.86 87.85 75.93 \n",
            " 2.19     66.68 88.22 75.95 86.64 49.23 62.79 66.88 87.83 75.94 \n",
            " 2.2     66.7 88.22 75.97 86.65 49.28 62.83 66.9 87.83 75.95 \n",
            " 2.21     66.72 88.2 75.97 86.62 49.35 62.88 66.92 87.82 75.96 \n",
            " 2.22     66.75 88.19 75.99 86.63 49.41 62.93 66.95 87.81 75.97 \n",
            " 2.23     66.78 88.18 76.0 86.63 49.5 63.0 66.98 87.8 75.99 \n",
            " 2.24     66.8 88.17 76.01 86.63 49.57 63.05 67.0 87.79 76.0 \n",
            " 2.25     66.83 88.17 76.03 86.64 49.62 63.1 67.02 87.79 76.01 \n",
            " 2.26     66.85 88.16 76.04 86.64 49.69 63.16 67.04 87.78 76.02 \n",
            " 2.27     66.87 88.16 76.05 86.64 49.75 63.21 67.07 87.78 76.04 \n",
            " 2.28     66.89 88.16 76.07 86.65 49.81 63.26 67.09 87.78 76.05 \n",
            " 2.29     66.91 88.15 76.08 86.63 49.86 63.29 67.11 87.77 76.06 \n",
            " 2.3     66.94 88.14 76.09 86.63 49.94 63.36 67.14 87.77 76.08 \n",
            " 2.31     66.96 88.14 76.1 86.62 49.99 63.39 67.16 87.76 76.09 \n",
            " 2.32     66.98 88.13 76.11 86.61 50.04 63.43 67.18 87.75 76.1 \n",
            " 2.33     67.01 88.12 76.13 86.6 50.1 63.48 67.2 87.74 76.11 \n",
            " 2.34     67.03 88.1 76.13 86.6 50.18 63.54 67.23 87.73 76.12 \n",
            " 2.35     67.06 88.09 76.15 86.58 50.24 63.58 67.25 87.72 76.13 \n",
            " 2.36     67.07 88.09 76.16 86.59 50.28 63.62 67.26 87.72 76.14 \n",
            " 2.37     67.09 88.08 76.17 86.58 50.33 63.66 67.28 87.71 76.15 \n",
            " 2.38     67.12 88.07 76.18 86.57 50.42 63.72 67.32 87.7 76.17 \n",
            " 2.39     67.15 88.07 76.2 86.57 50.49 63.78 67.34 87.69 76.18 \n",
            " 2.4     67.17 88.05 76.21 86.55 50.54 63.82 67.37 87.68 76.19 \n",
            " 2.41     67.2 88.05 76.22 86.55 50.61 63.87 67.39 87.68 76.21 \n",
            " 2.42     67.22 88.04 76.23 86.55 50.66 63.91 67.41 87.67 76.22 \n",
            " 2.43     67.24 88.04 76.25 86.55 50.72 63.96 67.43 87.67 76.23 \n",
            " 2.44     67.27 88.03 76.26 86.55 50.8 64.02 67.46 87.67 76.25 \n",
            " 2.45     67.3 88.02 76.28 86.54 50.86 64.07 67.49 87.66 76.26 \n",
            " 2.46     67.33 88.02 76.3 86.53 50.93 64.12 67.52 87.65 76.28 \n",
            " 2.47     67.34 88.0 76.3 86.52 50.98 64.16 67.53 87.64 76.28 \n",
            " 2.48     67.36 88.0 76.31 86.51 51.03 64.2 67.55 87.63 76.29 \n",
            " 2.49     67.39 88.0 76.33 86.52 51.1 64.25 67.58 87.63 76.31 \n",
            " 2.5     67.41 87.99 76.34 86.52 51.16 64.3 67.6 87.63 76.32 \n",
            " 2.51     67.44 87.99 76.36 86.53 51.24 64.37 67.63 87.62 76.34 \n",
            " 2.52     67.47 87.98 76.37 86.52 51.29 64.4 67.65 87.62 76.35 \n",
            " 2.53     67.49 87.97 76.38 86.51 51.35 64.45 67.67 87.61 76.36 \n",
            " 2.54     67.52 87.96 76.4 86.49 51.42 64.5 67.71 87.6 76.38 \n",
            " 2.55     67.54 87.95 76.41 86.49 51.48 64.55 67.73 87.59 76.39 \n",
            " 2.56     67.56 87.94 76.41 86.49 51.55 64.6 67.75 87.58 76.4 \n",
            " 2.57     67.59 87.93 76.43 86.49 51.62 64.65 67.77 87.57 76.41 \n",
            " 2.58     67.62 87.92 76.45 86.47 51.69 64.7 67.8 87.56 76.42 \n",
            " 2.59     67.64 87.91 76.45 86.46 51.74 64.74 67.82 87.55 76.43 \n",
            " 2.6     67.66 87.9 76.46 86.45 51.8 64.78 67.85 87.54 76.45 \n",
            " 2.61     67.68 87.9 76.48 86.44 51.86 64.82 67.87 87.54 76.46 \n",
            " 2.62     67.7 87.89 76.49 86.43 51.92 64.87 67.89 87.53 76.47 \n",
            " 2.63     67.72 87.88 76.49 86.41 51.95 64.89 67.9 87.52 76.47 \n",
            " 2.64     67.74 87.87 76.5 86.41 52.03 64.95 67.93 87.51 76.49 \n",
            " 2.65     67.77 87.86 76.52 86.41 52.1 65.0 67.96 87.51 76.51 \n",
            " 2.66     67.8 87.85 76.53 86.4 52.17 65.06 67.98 87.49 76.51 \n",
            " 2.67     67.83 87.84 76.55 86.4 52.24 65.11 68.01 87.49 76.53 \n",
            " 2.68     67.86 87.83 76.56 86.39 52.32 65.17 68.04 87.48 76.55 \n",
            " 2.69     67.88 87.83 76.58 86.4 52.38 65.22 68.06 87.48 76.56 \n",
            " 2.7     67.9 87.81 76.58 86.38 52.44 65.26 68.08 87.46 76.56 \n",
            " 2.71     67.92 87.81 76.59 86.37 52.49 65.3 68.1 87.46 76.58 \n",
            " 2.72     67.95 87.79 76.61 86.35 52.56 65.34 68.13 87.44 76.59 \n",
            " 2.73     67.98 87.78 76.62 86.34 52.62 65.39 68.16 87.43 76.6 \n",
            " 2.74     68.01 87.77 76.64 86.32 52.68 65.43 68.19 87.42 76.62 \n",
            " 2.75     68.03 87.76 76.65 86.31 52.74 65.47 68.21 87.41 76.63 \n",
            " 2.76     68.05 87.75 76.65 86.31 52.8 65.52 68.23 87.41 76.64 \n",
            " 2.77     68.09 87.75 76.68 86.3 52.87 65.57 68.27 87.4 76.66 \n",
            " 2.78     68.12 87.74 76.7 86.29 52.93 65.62 68.3 87.4 76.68 \n",
            " 2.79     68.15 87.74 76.71 86.3 53.0 65.67 68.33 87.4 76.7 \n",
            " 2.8     68.16 87.73 76.72 86.3 53.05 65.71 68.34 87.39 76.7 \n",
            " 2.81     68.18 87.72 76.73 86.28 53.1 65.74 68.36 87.38 76.71 \n",
            " 2.82     68.2 87.71 76.73 86.28 53.17 65.8 68.38 87.37 76.72 \n",
            " 2.83     68.22 87.7 76.74 86.28 53.23 65.84 68.4 87.36 76.73 \n",
            " 2.84     68.25 87.69 76.76 86.28 53.3 65.89 68.43 87.35 76.74 \n",
            " 2.85     68.28 87.68 76.77 86.27 53.37 65.95 68.46 87.34 76.76 \n",
            " 2.86     68.31 87.68 76.79 86.27 53.44 66.0 68.49 87.34 76.77 \n",
            " 2.87     68.33 87.67 76.8 86.26 53.49 66.03 68.51 87.33 76.78 \n",
            " 2.88     68.36 87.66 76.82 86.24 53.54 66.06 68.53 87.32 76.79 \n",
            " 2.89     68.38 87.64 76.82 86.22 53.61 66.11 68.56 87.3 76.8 \n",
            " 2.9     68.4 87.63 76.83 86.21 53.66 66.15 68.58 87.29 76.81 \n",
            " 2.91     68.43 87.62 76.85 86.21 53.73 66.2 68.6 87.28 76.82 \n",
            " 2.92     68.45 87.6 76.85 86.19 53.79 66.24 68.62 87.27 76.83 \n",
            " 2.93     68.48 87.6 76.87 86.19 53.87 66.3 68.66 87.27 76.85 \n",
            " 2.94     68.5 87.59 76.88 86.18 53.93 66.34 68.68 87.25 76.86 \n",
            " 2.95     68.53 87.58 76.89 86.17 53.98 66.38 68.7 87.25 76.87 \n",
            " 2.96     68.56 87.57 76.91 86.17 54.05 66.44 68.73 87.24 76.89 \n",
            " 2.97     68.58 87.57 76.92 86.18 54.12 66.48 68.76 87.24 76.91 \n",
            " 2.98     68.61 87.57 76.94 86.19 54.18 66.54 68.78 87.24 76.92 \n",
            " 2.99     68.63 87.56 76.95 86.2 54.24 66.59 68.81 87.23 76.93 \n",
            " 3.0     68.66 87.55 76.96 86.2 54.32 66.65 68.83 87.22 76.94 \n",
            " 3.01     68.68 87.54 76.97 86.2 54.4 66.7 68.86 87.21 76.96 \n",
            " 3.02     68.72 87.53 76.99 86.19 54.46 66.75 68.89 87.2 76.97 \n",
            " 3.03     68.73 87.51 76.99 86.17 54.51 66.78 68.91 87.19 76.98 \n",
            " 3.04     68.76 87.5 77.01 86.14 54.57 66.81 68.93 87.18 76.99 \n",
            " 3.05     68.79 87.49 77.02 86.13 54.64 66.86 68.96 87.17 77.0 \n",
            " 3.06     68.8 87.48 77.02 86.11 54.67 66.88 68.97 87.15 77.0 \n",
            " 3.07     68.82 87.46 77.03 86.09 54.73 66.92 68.99 87.14 77.01 \n",
            " 3.08     68.84 87.45 77.04 86.07 54.78 66.95 69.01 87.13 77.02 \n",
            " 3.09     68.87 87.45 77.06 86.07 54.84 66.99 69.04 87.12 77.03 \n",
            " 3.1     68.89 87.44 77.06 86.06 54.9 67.04 69.06 87.11 77.04 \n",
            " 3.11     68.9 87.42 77.06 86.03 54.94 67.06 69.07 87.1 77.04 \n",
            " 3.12     68.93 87.42 77.08 86.03 55.0 67.1 69.1 87.1 77.06 \n",
            " 3.13     68.95 87.41 77.09 86.02 55.05 67.14 69.12 87.09 77.07 \n",
            " 3.14     68.98 87.4 77.11 86.01 55.12 67.19 69.15 87.08 77.09 \n",
            " 3.15     69.0 87.39 77.11 86.0 55.18 67.22 69.17 87.07 77.09 \n",
            " 3.16     69.03 87.37 77.12 85.99 55.25 67.28 69.2 87.05 77.11 \n",
            " 3.17     69.06 87.36 77.14 85.98 55.34 67.34 69.23 87.04 77.12 \n",
            " 3.18     69.09 87.35 77.15 85.99 55.41 67.39 69.26 87.04 77.14 \n",
            " 3.19     69.12 87.34 77.17 85.98 55.48 67.44 69.29 87.02 77.15 \n",
            " 3.2     69.16 87.34 77.19 85.98 55.55 67.49 69.32 87.02 77.17 \n",
            " 3.21     69.18 87.34 77.21 85.98 55.62 67.55 69.35 87.02 77.19 \n",
            " 3.22     69.21 87.33 77.22 85.98 55.69 67.6 69.38 87.02 77.21 \n",
            " 3.23     69.24 87.32 77.24 85.96 55.75 67.63 69.41 87.01 77.22 \n",
            " 3.24     69.26 87.31 77.24 85.95 55.8 67.67 69.43 87.0 77.23 \n",
            " 3.25     69.29 87.3 77.26 85.95 55.87 67.72 69.45 86.99 77.24 \n",
            " 3.26     69.31 87.29 77.27 85.94 55.94 67.77 69.48 86.98 77.25 \n",
            " 3.27     69.34 87.28 77.28 85.93 56.0 67.81 69.51 86.97 77.27 \n",
            " 3.28     69.37 87.26 77.29 85.91 56.07 67.85 69.54 86.96 77.28 \n",
            " 3.29     69.4 87.25 77.31 85.91 56.12 67.89 69.56 86.94 77.28 \n",
            " 3.3     69.42 87.24 77.32 85.9 56.18 67.93 69.59 86.93 77.3 \n",
            " 3.31     69.46 87.23 77.34 85.89 56.25 67.98 69.62 86.93 77.32 \n",
            " 3.32     69.48 87.21 77.34 85.87 56.31 68.02 69.64 86.91 77.32 \n",
            " 3.33     69.49 87.19 77.34 85.85 56.36 68.05 69.66 86.89 77.33 \n",
            " 3.34     69.51 87.18 77.35 85.85 56.42 68.09 69.68 86.88 77.34 \n",
            " 3.35     69.54 87.17 77.36 85.84 56.48 68.13 69.7 86.87 77.34 \n",
            " 3.36     69.57 87.16 77.38 85.83 56.54 68.17 69.73 86.86 77.36 \n",
            " 3.37     69.61 87.15 77.4 85.82 56.63 68.23 69.77 86.85 77.38 \n",
            " 3.38     69.64 87.14 77.41 85.82 56.7 68.29 69.8 86.84 77.39 \n",
            " 3.39     69.66 87.13 77.42 85.81 56.78 68.34 69.82 86.83 77.4 \n",
            " 3.4     69.68 87.11 77.43 85.8 56.83 68.37 69.84 86.81 77.41 \n",
            " 3.41     69.7 87.09 77.43 85.78 56.89 68.41 69.86 86.79 77.41 \n",
            " 3.42     69.74 87.09 77.46 85.78 56.96 68.46 69.9 86.79 77.43 \n",
            " 3.43     69.76 87.08 77.46 85.77 57.03 68.51 69.92 86.78 77.44 \n",
            " 3.44     69.79 87.07 77.48 85.76 57.08 68.54 69.94 86.77 77.45 \n",
            " 3.45     69.81 87.06 77.49 85.76 57.16 68.59 69.97 86.76 77.47 \n",
            " 3.46     69.84 87.05 77.5 85.75 57.21 68.63 69.99 86.75 77.47 \n",
            " 3.47     69.87 87.04 77.52 85.75 57.28 68.69 70.02 86.75 77.49 \n",
            " 3.48     69.9 87.03 77.53 85.76 57.37 68.75 70.06 86.74 77.51 \n",
            " 3.49     69.92 87.01 77.53 85.74 57.44 68.79 70.08 86.72 77.52 \n",
            " 3.5     69.95 87.0 77.55 85.73 57.51 68.84 70.11 86.71 77.53 \n",
            " 3.51     69.97 86.99 77.56 85.72 57.57 68.88 70.13 86.69 77.54 \n",
            " 3.52     70.0 86.98 77.57 85.71 57.63 68.92 70.16 86.69 77.55 \n",
            " 3.53     70.03 86.97 77.59 85.71 57.7 68.97 70.19 86.68 77.57 \n",
            " 3.54     70.05 86.96 77.59 85.69 57.74 68.99 70.2 86.67 77.57 \n",
            " 3.55     70.08 86.95 77.61 85.7 57.82 69.05 70.23 86.66 77.58 \n",
            " 3.56     70.1 86.94 77.62 85.69 57.87 69.09 70.26 86.66 77.6 \n",
            " 3.57     70.13 86.94 77.64 85.69 57.93 69.13 70.28 86.65 77.61 \n",
            " 3.58     70.16 86.92 77.65 85.68 58.01 69.18 70.31 86.64 77.63 \n",
            " 3.59     70.19 86.91 77.66 85.68 58.09 69.24 70.34 86.63 77.64 \n",
            " 3.6     70.22 86.9 77.67 85.68 58.16 69.29 70.37 86.62 77.65 \n",
            " 3.61     70.25 86.89 77.69 85.67 58.23 69.33 70.4 86.61 77.67 \n",
            " 3.62     70.28 86.88 77.7 85.66 58.3 69.38 70.43 86.6 77.68 \n",
            " 3.63     70.31 86.87 77.72 85.65 58.37 69.43 70.46 86.59 77.7 \n",
            " 3.64     70.34 86.86 77.73 85.66 58.46 69.49 70.5 86.58 77.72 \n",
            " 3.65     70.37 86.84 77.74 85.64 58.52 69.53 70.52 86.56 77.72 \n",
            " 3.66     70.39 86.82 77.75 85.63 58.59 69.57 70.54 86.54 77.73 \n",
            " 3.67     70.41 86.81 77.75 85.61 58.64 69.61 70.56 86.53 77.73 \n",
            " 3.68     70.44 86.8 77.77 85.62 58.71 69.65 70.59 86.53 77.75 \n",
            " 3.69     70.47 86.8 77.79 85.61 58.77 69.69 70.62 86.52 77.77 \n",
            " 3.7     70.5 86.78 77.8 85.6 58.84 69.74 70.65 86.51 77.78 \n",
            " 3.71     70.53 86.77 77.81 85.6 58.93 69.8 70.68 86.49 77.79 \n",
            " 3.72     70.57 86.75 77.83 85.59 59.0 69.85 70.72 86.48 77.81 \n",
            " 3.73     70.6 86.74 77.84 85.57 59.08 69.9 70.75 86.47 77.82 \n",
            " 3.74     70.63 86.72 77.85 85.55 59.14 69.94 70.78 86.45 77.83 \n",
            " 3.75     70.65 86.71 77.86 85.54 59.2 69.97 70.8 86.44 77.84 \n",
            " 3.76     70.68 86.69 77.87 85.51 59.28 70.02 70.83 86.42 77.85 \n",
            " 3.77     70.72 86.66 77.88 85.5 59.36 70.07 70.86 86.39 77.86 \n",
            " 3.78     70.75 86.65 77.9 85.47 59.42 70.1 70.89 86.38 77.87 \n",
            " 3.79     70.77 86.64 77.9 85.46 59.47 70.14 70.92 86.37 77.89 \n",
            " 3.8     70.8 86.63 77.92 85.45 59.53 70.18 70.94 86.36 77.89 \n",
            " 3.81     70.84 86.61 77.94 85.44 59.61 70.23 70.98 86.35 77.91 \n",
            " 3.82     70.86 86.6 77.94 85.43 59.67 70.26 71.01 86.33 77.92 \n",
            " 3.83     70.89 86.58 77.95 85.41 59.74 70.3 71.04 86.32 77.94 \n",
            " 3.84     70.92 86.57 77.97 85.38 59.79 70.33 71.06 86.3 77.94 \n",
            " 3.85     70.96 86.55 77.98 85.36 59.87 70.38 71.1 86.29 77.96 \n",
            " 3.86     70.99 86.54 78.0 85.35 59.94 70.42 71.14 86.27 77.98 \n",
            " 3.87     71.04 86.52 78.02 85.34 60.05 70.49 71.18 86.26 78.0 \n",
            " 3.88     71.07 86.51 78.03 85.33 60.11 70.53 71.21 86.24 78.01 \n",
            " 3.89     71.1 86.49 78.04 85.33 60.19 70.59 71.24 86.23 78.02 \n",
            " 3.9     71.14 86.48 78.06 85.32 60.27 70.64 71.28 86.22 78.04 \n",
            " 3.91     71.17 86.47 78.08 85.32 60.35 70.69 71.31 86.21 78.06 \n",
            " 3.92     71.21 86.46 78.1 85.31 60.42 70.74 71.35 86.2 78.08 \n",
            " 3.93     71.25 86.44 78.11 85.29 60.51 70.79 71.39 86.18 78.09 \n",
            " 3.94     71.27 86.42 78.12 85.28 60.58 70.84 71.41 86.16 78.09 \n",
            " 3.95     71.32 86.41 78.14 85.27 60.67 70.9 71.46 86.15 78.12 \n",
            " 3.96     71.35 86.38 78.15 85.25 60.76 70.95 71.49 86.13 78.13 \n",
            " 3.97     71.39 86.37 78.17 85.25 60.83 71.0 71.53 86.12 78.15 \n",
            " 3.98     71.42 86.35 78.18 85.23 60.9 71.04 71.56 86.1 78.16 \n",
            " 3.99     71.45 86.33 78.19 85.21 60.96 71.08 71.59 86.08 78.17 \n",
            " 4.0     71.48 86.31 78.2 85.19 61.04 71.12 71.62 86.06 78.18 "
          ]
        }
      ]
    },
    {
      "cell_type": "code",
      "source": [
        "max(list_of_f1)"
      ],
      "metadata": {
        "colab": {
          "base_uri": "https://localhost:8080/"
        },
        "id": "Yo4xzFN_-yUf",
        "outputId": "75098271-932d-4f31-88b5-279830f1e29c"
      },
      "execution_count": 134,
      "outputs": [
        {
          "output_type": "execute_result",
          "data": {
            "text/plain": [
              "78.18"
            ]
          },
          "metadata": {},
          "execution_count": 134
        }
      ]
    },
    {
      "cell_type": "code",
      "source": [
        "list_of_f1=[]\n",
        "for i in range(400,501):\n",
        "  logits_total_array_o =logits_total_array\n",
        "  logits_total_array_o = np.array(logits_total_array_o)\n",
        "  logits_total_array_o[:,100] = logits_total_array_o[:,100] + (i/100)\n",
        "  predictions_ = np.argmax(logits_total_array_o , axis=1)\n",
        "  df2[\"N_plus_one_prediction\"] = predictions_\n",
        "  df2['N_plus_one_prediction'] = df2['N_plus_one_prediction'].replace([100], 'OOD')\n",
        "  print(\"\\n\",i/100,\"    \",end=\"\")\n",
        "  list_of_f1.append(print_performance_metrics())\n",
        " # print_performance_metrics()"
      ],
      "metadata": {
        "colab": {
          "base_uri": "https://localhost:8080/"
        },
        "id": "OWD_a7_GYnj1",
        "outputId": "e90e6cfc-1555-4679-e710-357cb9f858ff"
      },
      "execution_count": 135,
      "outputs": [
        {
          "output_type": "stream",
          "name": "stdout",
          "text": [
            "\n",
            " 4.0     71.48 86.31 78.2 85.19 61.04 71.12 71.62 86.06 78.18 \n",
            " 4.01     71.51 86.3 78.21 85.2 61.11 71.17 71.65 86.05 78.19 \n",
            " 4.02     71.55 86.28 78.23 85.19 61.2 71.23 71.69 86.03 78.21 \n",
            " 4.03     71.57 86.25 78.23 85.15 61.24 71.24 71.7 86.01 78.21 \n",
            " 4.04     71.61 86.24 78.25 85.16 61.33 71.3 71.74 86.0 78.23 \n",
            " 4.05     71.64 86.23 78.26 85.15 61.41 71.35 71.78 85.98 78.24 \n",
            " 4.06     71.68 86.22 78.28 85.14 61.48 71.4 71.81 85.97 78.25 \n",
            " 4.07     71.7 86.2 78.28 85.12 61.53 71.43 71.83 85.95 78.26 \n",
            " 4.08     71.73 86.18 78.29 85.11 61.61 71.48 71.86 85.94 78.27 \n",
            " 4.09     71.77 86.15 78.31 85.09 61.69 71.52 71.9 85.91 78.28 \n",
            " 4.1     71.79 86.14 78.31 85.08 61.74 71.55 71.92 85.9 78.29 \n",
            " 4.11     71.81 86.12 78.32 85.06 61.79 71.58 71.94 85.88 78.29 \n",
            " 4.12     71.86 86.11 78.34 85.06 61.89 71.65 71.99 85.87 78.32 \n",
            " 4.13     71.9 86.1 78.36 85.05 61.96 71.69 72.03 85.86 78.34 \n",
            " 4.14     71.93 86.08 78.37 85.04 62.03 71.74 72.06 85.84 78.35 \n",
            " 4.15     71.95 86.05 78.37 85.01 62.1 71.77 72.08 85.81 78.35 \n",
            " 4.16     71.97 86.04 78.38 85.0 62.17 71.81 72.1 85.8 78.36 \n",
            " 4.17     72.01 86.02 78.39 84.98 62.23 71.85 72.14 85.79 78.38 \n",
            " 4.18     72.04 86.01 78.41 84.98 62.3 71.9 72.17 85.78 78.39 \n",
            " 4.19     72.07 86.0 78.42 84.97 62.38 71.94 72.2 85.76 78.4 \n",
            " 4.2     72.11 85.98 78.44 84.96 62.45 71.99 72.24 85.75 78.42 \n",
            " 4.21     72.14 85.97 78.45 84.95 62.52 72.03 72.27 85.74 78.43 \n",
            " 4.22     72.17 85.95 78.46 84.93 62.59 72.07 72.3 85.71 78.44 \n",
            " 4.23     72.21 85.92 78.47 84.92 62.68 72.12 72.34 85.69 78.45 \n",
            " 4.24     72.23 85.9 78.47 84.9 62.73 72.15 72.36 85.67 78.45 \n",
            " 4.25     72.26 85.88 78.48 84.88 62.8 72.19 72.39 85.65 78.46 \n",
            " 4.26     72.29 85.87 78.5 84.86 62.85 72.22 72.41 85.64 78.47 \n",
            " 4.27     72.32 85.85 78.51 84.84 62.94 72.27 72.45 85.62 78.49 \n",
            " 4.28     72.34 85.82 78.51 84.81 62.98 72.28 72.46 85.6 78.48 \n",
            " 4.29     72.38 85.8 78.52 84.8 63.08 72.34 72.5 85.58 78.5 \n",
            " 4.3     72.41 85.79 78.53 84.79 63.15 72.39 72.54 85.57 78.52 \n",
            " 4.31     72.45 85.78 78.55 84.79 63.24 72.44 72.57 85.56 78.53 \n",
            " 4.32     72.48 85.75 78.56 84.76 63.31 72.48 72.61 85.53 78.54 \n",
            " 4.33     72.51 85.73 78.57 84.75 63.37 72.52 72.63 85.51 78.55 \n",
            " 4.34     72.54 85.71 78.58 84.73 63.45 72.56 72.66 85.49 78.55 \n",
            " 4.35     72.57 85.7 78.59 84.72 63.51 72.6 72.69 85.48 78.57 \n",
            " 4.36     72.6 85.68 78.6 84.7 63.58 72.63 72.72 85.46 78.58 \n",
            " 4.37     72.64 85.66 78.61 84.69 63.64 72.67 72.76 85.44 78.59 \n",
            " 4.38     72.68 85.65 78.63 84.68 63.72 72.72 72.79 85.43 78.61 \n",
            " 4.39     72.7 85.64 78.64 84.66 63.77 72.74 72.82 85.42 78.62 \n",
            " 4.4     72.74 85.62 78.66 84.67 63.86 72.81 72.86 85.41 78.64 \n",
            " 4.41     72.77 85.6 78.67 84.65 63.93 72.85 72.89 85.38 78.64 \n",
            " 4.42     72.81 85.58 78.68 84.64 64.01 72.9 72.93 85.37 78.66 \n",
            " 4.43     72.86 85.57 78.71 84.65 64.12 72.97 72.98 85.36 78.69 \n",
            " 4.44     72.9 85.55 78.72 84.63 64.2 73.01 73.01 85.34 78.69 \n",
            " 4.45     72.93 85.54 78.73 84.63 64.28 73.06 73.05 85.33 78.71 \n",
            " 4.46     72.97 85.52 78.75 84.62 64.37 73.12 73.09 85.31 78.73 \n",
            " 4.47     73.0 85.5 78.76 84.6 64.43 73.15 73.11 85.29 78.73 \n",
            " 4.48     73.03 85.48 78.77 84.59 64.5 73.19 73.15 85.27 78.75 \n",
            " 4.49     73.07 85.45 78.78 84.57 64.59 73.24 73.18 85.25 78.76 \n",
            " 4.5     73.1 85.43 78.79 84.55 64.65 73.27 73.21 85.22 78.76 \n",
            " 4.51     73.12 85.41 78.79 84.53 64.71 73.3 73.23 85.21 78.77 \n",
            " 4.52     73.17 85.4 78.81 84.53 64.8 73.36 73.28 85.19 78.79 \n",
            " 4.53     73.21 85.38 78.83 84.51 64.89 73.41 73.33 85.18 78.81 \n",
            " 4.54     73.25 85.37 78.85 84.51 64.97 73.46 73.36 85.16 78.82 \n",
            " 4.55     73.29 85.35 78.86 84.49 65.05 73.5 73.41 85.15 78.85 \n",
            " 4.56     73.33 85.33 78.88 84.48 65.13 73.55 73.44 85.13 78.85 \n",
            " 4.57     73.37 85.31 78.89 84.46 65.22 73.61 73.48 85.11 78.87 \n",
            " 4.58     73.41 85.3 78.91 84.45 65.29 73.64 73.52 85.1 78.89 \n",
            " 4.59     73.45 85.28 78.92 84.42 65.36 73.68 73.56 85.08 78.9 \n",
            " 4.6     73.48 85.25 78.93 84.39 65.44 73.72 73.59 85.05 78.91 \n",
            " 4.61     73.53 85.24 78.95 84.39 65.53 73.77 73.64 85.04 78.93 \n",
            " 4.62     73.56 85.21 78.96 84.38 65.61 73.82 73.67 85.02 78.94 \n",
            " 4.63     73.6 85.2 78.98 84.36 65.67 73.85 73.71 85.0 78.95 \n",
            " 4.64     73.63 85.17 78.98 84.34 65.75 73.89 73.73 84.98 78.96 \n",
            " 4.65     73.67 85.15 79.0 84.33 65.84 73.94 73.78 84.96 78.98 \n",
            " 4.66     73.71 85.13 79.01 84.31 65.91 73.98 73.82 84.94 78.99 \n",
            " 4.67     73.75 85.11 79.02 84.29 65.99 74.03 73.86 84.92 79.0 \n",
            " 4.68     73.79 85.08 79.03 84.27 66.07 74.07 73.9 84.9 79.02 \n",
            " 4.69     73.84 85.06 79.05 84.24 66.17 74.12 73.95 84.87 79.03 \n",
            " 4.7     73.88 85.04 79.07 84.22 66.25 74.16 73.99 84.85 79.05 \n",
            " 4.71     73.92 85.02 79.08 84.21 66.31 74.2 74.02 84.84 79.06 \n",
            " 4.72     73.95 85.0 79.09 84.19 66.38 74.23 74.06 84.82 79.08 \n",
            " 4.73     73.99 84.98 79.11 84.18 66.48 74.29 74.09 84.79 79.08 \n",
            " 4.74     74.04 84.95 79.12 84.17 66.59 74.35 74.14 84.77 79.1 \n",
            " 4.75     74.09 84.93 79.14 84.14 66.66 74.39 74.19 84.75 79.12 \n",
            " 4.76     74.14 84.9 79.16 84.11 66.76 74.44 74.23 84.72 79.13 \n",
            " 4.77     74.17 84.88 79.16 84.09 66.83 74.47 74.27 84.7 79.14 \n",
            " 4.78     74.21 84.83 79.17 84.06 66.93 74.53 74.31 84.65 79.14 \n",
            " 4.79     74.27 84.81 79.19 84.05 67.03 74.58 74.37 84.63 79.17 \n",
            " 4.8     74.31 84.78 79.2 84.02 67.12 74.63 74.4 84.6 79.17 \n",
            " 4.81     74.34 84.74 79.2 83.99 67.2 74.66 74.44 84.56 79.18 \n",
            " 4.82     74.39 84.72 79.22 83.97 67.29 74.71 74.48 84.54 79.19 \n",
            " 4.83     74.43 84.68 79.22 83.93 67.37 74.74 74.52 84.51 79.2 \n",
            " 4.84     74.46 84.66 79.23 83.91 67.43 74.78 74.56 84.49 79.22 \n",
            " 4.85     74.49 84.62 79.23 83.87 67.5 74.8 74.58 84.45 79.21 \n",
            " 4.86     74.52 84.57 79.23 83.83 67.57 74.83 74.61 84.4 79.2 \n",
            " 4.87     74.55 84.54 79.23 83.8 67.63 74.86 74.64 84.37 79.21 \n",
            " 4.88     74.6 84.52 79.25 83.79 67.74 74.92 74.69 84.35 79.23 \n",
            " 4.89     74.63 84.48 79.25 83.76 67.8 74.94 74.72 84.31 79.23 \n",
            " 4.9     74.66 84.44 79.25 83.73 67.9 74.99 74.75 84.28 79.23 \n",
            " 4.91     74.71 84.42 79.27 83.71 67.98 75.03 74.8 84.26 79.25 \n",
            " 4.92     74.76 84.39 79.28 83.69 68.08 75.08 74.85 84.22 79.26 \n",
            " 4.93     74.8 84.35 79.29 83.67 68.17 75.13 74.89 84.19 79.27 \n",
            " 4.94     74.86 84.33 79.31 83.66 68.28 75.19 74.94 84.17 79.29 \n",
            " 4.95     74.9 84.3 79.32 83.64 68.37 75.24 74.99 84.15 79.31 \n",
            " 4.96     74.95 84.26 79.33 83.61 68.47 75.28 75.04 84.1 79.31 \n",
            " 4.97     74.98 84.22 79.33 83.58 68.54 75.32 75.07 84.06 79.31 \n",
            " 4.98     75.02 84.18 79.34 83.55 68.63 75.36 75.1 84.02 79.31 \n",
            " 4.99     75.06 84.14 79.34 83.52 68.71 75.4 75.14 83.99 79.32 \n",
            " 5.0     75.09 84.1 79.34 83.49 68.79 75.43 75.18 83.95 79.32 "
          ]
        }
      ]
    },
    {
      "cell_type": "code",
      "source": [
        "max(list_of_f1)"
      ],
      "metadata": {
        "colab": {
          "base_uri": "https://localhost:8080/"
        },
        "id": "F4VDavo6YvCY",
        "outputId": "8fd15d29-50ca-4b53-d658-25ca6ca3870f"
      },
      "execution_count": 136,
      "outputs": [
        {
          "output_type": "execute_result",
          "data": {
            "text/plain": [
              "79.32"
            ]
          },
          "metadata": {},
          "execution_count": 136
        }
      ]
    },
    {
      "cell_type": "code",
      "source": [
        "print(\"done\")"
      ],
      "metadata": {
        "id": "KVHH0umR-bY6",
        "colab": {
          "base_uri": "https://localhost:8080/"
        },
        "outputId": "b96c7afd-10bb-4c28-8f7a-1762840ad82b"
      },
      "execution_count": 137,
      "outputs": [
        {
          "output_type": "stream",
          "name": "stdout",
          "text": [
            "done\n"
          ]
        }
      ]
    },
    {
      "cell_type": "code",
      "source": [
        "list_of_f1=[]\n",
        "for i in range(500,701):\n",
        "  logits_total_array_o =logits_total_array\n",
        "  logits_total_array_o = np.array(logits_total_array_o)\n",
        "  logits_total_array_o[:,100] = logits_total_array_o[:,100] + (i/100)\n",
        "  predictions_ = np.argmax(logits_total_array_o , axis=1)\n",
        "  df2[\"N_plus_one_prediction\"] = predictions_\n",
        "  df2['N_plus_one_prediction'] = df2['N_plus_one_prediction'].replace([100], 'OOD')\n",
        "  print(\"\\n\",i/100,\"    \",end=\"\")\n",
        "  list_of_f1.append(print_performance_metrics())\n",
        " # print_performance_metrics()"
      ],
      "metadata": {
        "colab": {
          "base_uri": "https://localhost:8080/"
        },
        "id": "TB4wLNIKgeH5",
        "outputId": "08dd8cde-dd14-425f-e8c3-a1032198bbe5"
      },
      "execution_count": 138,
      "outputs": [
        {
          "output_type": "stream",
          "name": "stdout",
          "text": [
            "\n",
            " 5.0     75.09 84.1 79.34 83.49 68.79 75.43 75.18 83.95 79.32 \n",
            " 5.01     75.13 84.07 79.35 83.46 68.85 75.46 75.21 83.92 79.33 \n",
            " 5.02     75.16 84.02 79.34 83.42 68.94 75.49 75.25 83.87 79.33 \n",
            " 5.03     75.21 83.98 79.35 83.4 69.04 75.55 75.29 83.84 79.34 \n",
            " 5.04     75.26 83.93 79.36 83.35 69.13 75.58 75.34 83.79 79.34 \n",
            " 5.05     75.3 83.9 79.37 83.32 69.22 75.62 75.38 83.75 79.34 \n",
            " 5.06     75.34 83.85 79.37 83.29 69.31 75.66 75.42 83.71 79.35 \n",
            " 5.07     75.38 83.82 79.38 83.26 69.4 75.7 75.46 83.68 79.36 \n",
            " 5.08     75.42 83.78 79.38 83.23 69.49 75.74 75.49 83.64 79.36 \n",
            " 5.09     75.46 83.74 79.38 83.2 69.57 75.78 75.54 83.6 79.37 \n",
            " 5.1     75.49 83.7 79.38 83.16 69.64 75.8 75.57 83.56 79.36 \n",
            " 5.11     75.53 83.64 79.38 83.11 69.72 75.83 75.61 83.51 79.36 \n",
            " 5.12     75.58 83.6 79.39 83.07 69.82 75.87 75.65 83.46 79.36 \n",
            " 5.13     75.62 83.56 79.39 83.04 69.91 75.91 75.7 83.42 79.37 \n",
            " 5.14     75.67 83.51 79.4 83.01 70.0 75.95 75.74 83.37 79.37 \n",
            " 5.15     75.71 83.47 79.4 82.97 70.08 75.98 75.78 83.33 79.38 \n",
            " 5.16     75.75 83.42 79.4 82.92 70.15 76.0 75.82 83.29 79.38 \n",
            " 5.17     75.81 83.36 79.41 82.87 70.26 76.05 75.88 83.23 79.39 \n",
            " 5.18     75.86 83.32 79.42 82.83 70.35 76.08 75.93 83.19 79.39 \n",
            " 5.19     75.92 83.27 79.43 82.8 70.47 76.14 75.99 83.14 79.4 \n",
            " 5.2     75.95 83.21 79.41 82.75 70.54 76.16 76.02 83.09 79.4 \n",
            " 5.21     75.98 83.15 79.4 82.7 70.62 76.19 76.04 83.03 79.38 \n",
            " 5.22     76.01 83.1 79.4 82.66 70.71 76.22 76.07 82.98 79.37 \n",
            " 5.23     76.06 83.05 79.4 82.62 70.81 76.26 76.12 82.93 79.38 \n",
            " 5.24     76.09 83.0 79.39 82.58 70.89 76.29 76.16 82.88 79.38 \n",
            " 5.25     76.14 82.94 79.39 82.54 70.99 76.33 76.2 82.82 79.37 \n",
            " 5.26     76.19 82.87 79.39 82.49 71.11 76.38 76.26 82.75 79.37 \n",
            " 5.27     76.24 82.82 79.39 82.45 71.19 76.41 76.3 82.7 79.37 \n",
            " 5.28     76.29 82.76 79.39 82.42 71.31 76.46 76.35 82.65 79.38 \n",
            " 5.29     76.34 82.69 79.39 82.35 71.41 76.49 76.4 82.57 79.37 \n",
            " 5.3     76.37 82.62 79.37 82.29 71.5 76.52 76.43 82.51 79.35 \n",
            " 5.31     76.42 82.56 79.37 82.25 71.6 76.56 76.48 82.45 79.35 \n",
            " 5.32     76.45 82.48 79.35 82.2 71.7 76.59 76.51 82.38 79.34 \n",
            " 5.33     76.5 82.41 79.35 82.15 71.81 76.63 76.56 82.31 79.33 \n",
            " 5.34     76.55 82.35 79.34 82.1 71.92 76.67 76.6 82.25 79.32 \n",
            " 5.35     76.59 82.26 79.32 82.03 72.03 76.7 76.64 82.15 79.3 \n",
            " 5.36     76.62 82.19 79.31 81.98 72.12 76.73 76.67 82.09 79.29 \n",
            " 5.37     76.65 82.09 79.28 81.9 72.21 76.75 76.7 81.99 79.26 \n",
            " 5.38     76.7 82.03 79.28 81.87 72.32 76.8 76.75 81.94 79.26 \n",
            " 5.39     76.75 81.96 79.27 81.81 72.43 76.83 76.8 81.86 79.25 \n",
            " 5.4     76.79 81.88 79.25 81.76 72.53 76.87 76.84 81.79 79.24 \n",
            " 5.41     76.86 81.8 79.25 81.7 72.66 76.92 76.9 81.71 79.23 \n",
            " 5.42     76.91 81.74 79.25 81.66 72.77 76.96 76.96 81.65 79.24 \n",
            " 5.43     76.96 81.66 79.24 81.61 72.87 76.99 77.0 81.58 79.22 \n",
            " 5.44     76.99 81.57 79.21 81.54 72.96 77.01 77.04 81.49 79.2 \n",
            " 5.45     77.04 81.49 79.2 81.47 73.06 77.04 77.08 81.41 79.19 \n",
            " 5.46     77.1 81.41 79.2 81.42 73.19 77.08 77.14 81.33 79.18 \n",
            " 5.47     77.15 81.32 79.18 81.35 73.3 77.11 77.19 81.24 79.16 \n",
            " 5.48     77.19 81.22 79.15 81.26 73.39 77.13 77.23 81.14 79.14 \n",
            " 5.49     77.23 81.1 79.12 81.17 73.51 77.15 77.27 81.02 79.1 \n",
            " 5.5     77.27 80.98 79.08 81.09 73.63 77.18 77.31 80.91 79.07 \n",
            " 5.51     77.33 80.87 79.06 81.01 73.77 77.22 77.36 80.8 79.04 \n",
            " 5.52     77.37 80.77 79.03 80.94 73.89 77.26 77.41 80.7 79.02 \n",
            " 5.53     77.43 80.66 79.01 80.86 74.01 77.29 77.46 80.59 78.99 \n",
            " 5.54     77.47 80.53 78.97 80.77 74.14 77.31 77.5 80.47 78.96 \n",
            " 5.55     77.48 80.37 78.9 80.64 74.24 77.31 77.51 80.31 78.89 \n",
            " 5.56     77.52 80.22 78.85 80.53 74.37 77.33 77.55 80.17 78.84 \n",
            " 5.57     77.54 80.05 78.78 80.4 74.48 77.33 77.57 80.0 78.77 \n",
            " 5.58     77.59 79.9 78.73 80.29 74.62 77.35 77.62 79.85 78.72 \n",
            " 5.59     77.63 79.71 78.66 80.14 74.75 77.35 77.65 79.66 78.64 \n",
            " 5.6     77.64 79.56 78.59 80.02 74.84 77.34 77.67 79.51 78.58 \n",
            " 5.61     77.66 79.37 78.51 79.88 74.94 77.33 77.68 79.33 78.5 \n",
            " 5.62     77.7 79.18 78.43 79.73 75.08 77.34 77.72 79.14 78.42 \n",
            " 5.63     77.73 79.01 78.36 79.6 75.19 77.33 77.74 78.97 78.35 \n",
            " 5.64     77.75 78.83 78.29 79.47 75.29 77.32 77.77 78.8 78.28 \n",
            " 5.65     77.76 78.63 78.19 79.31 75.39 77.3 77.77 78.59 78.18 \n",
            " 5.66     77.78 78.4 78.09 79.14 75.52 77.29 77.8 78.37 78.08 \n",
            " 5.67     77.82 78.18 78.0 78.98 75.65 77.28 77.83 78.16 77.99 \n",
            " 5.68     77.84 77.92 77.88 78.78 75.78 77.25 77.85 77.89 77.87 \n",
            " 5.69     77.83 77.65 77.74 78.58 75.9 77.22 77.84 77.63 77.73 \n",
            " 5.7     77.86 77.39 77.62 78.4 76.06 77.21 77.87 77.37 77.62 \n",
            " 5.71     77.86 77.06 77.46 78.15 76.18 77.15 77.87 77.05 77.46 \n",
            " 5.72     77.87 76.77 77.32 77.94 76.32 77.12 77.87 76.76 77.31 \n",
            " 5.73     77.89 76.44 77.16 77.7 76.46 77.07 77.89 76.44 77.16 \n",
            " 5.74     77.88 76.08 76.97 77.44 76.59 77.01 77.87 76.09 76.97 \n",
            " 5.75     77.87 75.77 76.81 77.21 76.72 76.97 77.86 75.78 76.81 \n",
            " 5.76     77.85 75.42 76.62 76.97 76.85 76.91 77.84 75.43 76.62 \n",
            " 5.77     77.83 75.07 76.43 76.72 76.99 76.86 77.82 75.09 76.43 \n",
            " 5.78     77.81 74.71 76.23 76.47 77.11 76.79 77.8 74.73 76.23 \n",
            " 5.79     77.78 74.31 76.01 76.19 77.25 76.72 77.77 74.34 76.02 \n",
            " 5.8     77.76 73.96 75.81 75.96 77.38 76.66 77.74 73.99 75.82 \n",
            " 5.81     77.72 73.55 75.58 75.68 77.5 76.58 77.7 73.59 75.59 \n",
            " 5.82     77.68 73.12 75.33 75.38 77.64 76.49 77.65 73.16 75.34 \n",
            " 5.83     77.62 72.65 75.05 75.07 77.78 76.4 77.59 72.7 75.07 \n",
            " 5.84     77.56 72.21 74.79 74.77 77.9 76.31 77.53 72.26 74.8 \n",
            " 5.85     77.5 71.75 74.51 74.47 78.04 76.21 77.47 71.81 74.53 \n",
            " 5.86     77.46 71.27 74.24 74.16 78.21 76.13 77.43 71.34 74.26 \n",
            " 5.87     77.37 70.72 73.9 73.8 78.34 76.0 77.33 70.79 73.92 \n",
            " 5.88     77.27 70.19 73.56 73.47 78.46 75.88 77.23 70.27 73.59 \n",
            " 5.89     77.19 69.67 73.24 73.14 78.6 75.77 77.15 69.75 73.26 \n",
            " 5.9     77.12 69.18 72.93 72.84 78.74 75.68 77.08 69.28 72.97 \n",
            " 5.91     77.03 68.65 72.6 72.52 78.89 75.57 76.98 68.75 72.63 \n",
            " 5.92     76.93 68.17 72.29 72.22 79.01 75.46 76.88 68.28 72.33 \n",
            " 5.93     76.83 67.6 71.92 71.88 79.15 75.34 76.78 67.71 71.96 \n",
            " 5.94     76.73 67.0 71.54 71.5 79.28 75.19 76.68 67.12 71.58 \n",
            " 5.95     76.64 66.44 71.18 71.18 79.44 75.08 76.58 66.57 71.23 \n",
            " 5.96     76.54 65.88 70.81 70.86 79.61 74.98 76.48 66.01 70.86 \n",
            " 5.97     76.4 65.27 70.4 70.51 79.76 74.85 76.34 65.41 70.45 \n",
            " 5.98     76.25 64.67 69.98 70.17 79.91 74.72 76.19 64.82 70.05 \n",
            " 5.99     76.1 64.06 69.56 69.82 80.05 74.59 76.04 64.22 69.63 \n",
            " 6.0     76.0 63.46 69.17 69.5 80.21 74.47 75.93 63.63 69.24 \n",
            " 6.01     75.86 62.86 68.75 69.18 80.37 74.35 75.79 63.04 68.83 \n",
            " 6.02     75.69 62.24 68.31 68.85 80.52 74.23 75.62 62.42 68.39 \n",
            " 6.03     75.58 61.61 67.88 68.52 80.69 74.11 75.51 61.8 67.97 \n",
            " 6.04     75.44 61.05 67.49 68.23 80.83 73.99 75.37 61.25 67.58 \n",
            " 6.05     75.26 60.36 66.99 67.87 81.0 73.86 75.18 60.57 67.09 \n",
            " 6.06     75.13 59.74 66.56 67.56 81.15 73.73 75.05 59.95 66.66 \n",
            " 6.07     74.97 59.08 66.08 67.24 81.36 73.63 74.89 59.3 66.19 \n",
            " 6.08     74.78 58.39 65.58 66.89 81.51 73.48 74.7 58.62 65.69 \n",
            " 6.09     74.6 57.76 65.11 66.59 81.67 73.36 74.52 58.0 65.23 \n",
            " 6.1     74.4 57.12 64.62 66.27 81.8 73.22 74.32 57.36 64.75 \n",
            " 6.11     74.24 56.38 64.09 65.92 81.99 73.09 74.16 56.64 64.23 \n",
            " 6.12     74.08 55.69 63.58 65.61 82.2 72.97 74.0 55.95 63.72 \n",
            " 6.13     73.92 54.99 63.07 65.29 82.4 72.86 73.84 55.26 63.21 \n",
            " 6.14     73.7 54.25 62.5 64.95 82.57 72.71 73.62 54.53 62.65 \n",
            " 6.15     73.44 53.43 61.86 64.58 82.76 72.55 73.35 53.72 62.02 \n",
            " 6.16     73.18 52.64 61.23 64.22 82.91 72.38 73.09 52.94 61.4 \n",
            " 6.17     72.91 51.83 60.59 63.86 83.07 72.21 72.82 52.14 60.77 \n",
            " 6.18     72.64 51.01 59.93 63.51 83.26 72.05 72.55 51.33 60.12 \n",
            " 6.19     72.32 50.17 59.24 63.15 83.43 71.88 72.23 50.5 59.44 \n",
            " 6.2     72.05 49.38 58.6 62.82 83.62 71.74 71.96 49.72 58.81 \n",
            " 6.21     71.65 48.55 57.88 62.48 83.81 71.59 71.56 48.9 58.1 \n",
            " 6.22     71.36 47.74 57.21 62.16 83.99 71.44 71.27 48.1 57.44 \n",
            " 6.23     70.97 46.93 56.5 61.82 84.15 71.28 70.88 47.3 56.74 \n",
            " 6.24     70.63 46.1 55.79 61.49 84.32 71.12 70.54 46.47 56.03 \n",
            " 6.25     70.21 45.24 55.02 61.17 84.52 70.97 70.12 45.63 55.28 \n",
            " 6.26     69.91 44.42 54.32 60.85 84.71 70.82 69.82 44.82 54.59 \n",
            " 6.27     69.59 43.7 53.69 60.57 84.86 70.69 69.5 44.11 53.97 \n",
            " 6.28     69.24 42.94 53.01 60.3 85.05 70.57 69.15 43.36 53.3 \n",
            " 6.29     68.85 42.15 52.29 60.01 85.24 70.43 68.76 42.57 52.58 \n",
            " 6.3     68.53 41.4 51.62 59.73 85.4 70.3 68.44 41.84 51.93 \n",
            " 6.31     68.21 40.72 51.0 59.49 85.55 70.18 68.13 41.16 51.32 \n",
            " 6.32     67.89 40.01 50.35 59.23 85.69 70.05 67.8 40.46 50.68 \n",
            " 6.33     67.51 39.23 49.62 58.96 85.85 69.9 67.42 39.69 49.97 \n",
            " 6.34     67.21 38.54 48.99 58.73 86.03 69.8 67.13 39.01 49.35 \n",
            " 6.35     66.79 37.82 48.29 58.48 86.18 69.68 66.71 38.3 48.66 \n",
            " 6.36     66.47 37.12 47.64 58.24 86.31 69.55 66.39 37.61 48.02 \n",
            " 6.37     66.2 36.43 47.0 58.01 86.48 69.44 66.12 36.93 47.39 \n",
            " 6.38     65.75 35.75 46.32 57.79 86.62 69.32 65.67 36.25 46.71 \n",
            " 6.39     65.42 35.09 45.68 57.57 86.77 69.22 65.34 35.6 46.09 \n",
            " 6.4     65.01 34.43 45.02 57.36 86.93 69.11 64.94 34.95 45.44 \n",
            " 6.41     64.71 33.71 44.33 57.13 87.06 68.99 64.63 34.24 44.76 \n",
            " 6.42     64.3 33.01 43.62 56.9 87.22 68.87 64.23 33.54 44.07 \n",
            " 6.43     63.94 32.38 42.99 56.71 87.36 68.77 63.87 32.93 43.46 \n",
            " 6.44     63.7 31.75 42.38 56.51 87.5 68.67 63.63 32.3 42.85 \n",
            " 6.45     63.42 31.1 41.73 56.32 87.67 68.58 63.35 31.66 42.22 \n",
            " 6.46     63.11 30.49 41.12 56.13 87.8 68.48 63.04 31.06 41.62 \n",
            " 6.47     62.94 29.86 40.5 55.94 87.96 68.39 62.87 30.44 41.02 \n",
            " 6.48     62.56 29.16 39.78 55.73 88.08 68.26 62.49 29.74 40.3 \n",
            " 6.49     62.19 28.53 39.12 55.53 88.2 68.16 62.12 29.12 39.65 \n",
            " 6.5     61.71 27.87 38.4 55.34 88.33 68.05 61.65 28.46 38.94 \n",
            " 6.51     61.39 27.17 37.67 55.13 88.46 67.93 61.33 27.78 38.24 \n",
            " 6.52     61.1 26.47 36.94 54.93 88.61 67.81 61.04 27.09 37.53 \n",
            " 6.53     60.85 25.82 36.26 54.75 88.76 67.72 60.79 26.44 36.85 \n",
            " 6.54     60.46 25.12 35.49 54.55 88.9 67.61 60.4 25.75 36.11 \n",
            " 6.55     60.24 24.52 34.85 54.39 89.06 67.53 60.18 25.16 35.48 \n",
            " 6.56     59.8 23.86 34.11 54.2 89.18 67.42 59.74 24.5 34.75 \n",
            " 6.57     59.51 23.26 33.45 54.03 89.29 67.33 59.46 23.91 34.11 \n",
            " 6.58     59.07 22.58 32.67 53.84 89.4 67.2 59.01 23.24 33.35 \n",
            " 6.59     58.76 21.92 31.93 53.66 89.52 67.1 58.71 22.59 32.63 \n",
            " 6.6     58.25 21.26 31.15 53.47 89.62 66.98 58.21 21.93 31.86 \n",
            " 6.61     57.83 20.6 30.38 53.29 89.74 66.87 57.79 21.28 31.11 \n",
            " 6.62     57.33 19.94 29.59 53.12 89.89 66.78 57.29 20.64 30.35 \n",
            " 6.63     56.72 19.33 28.83 52.96 90.01 66.68 56.68 20.03 29.6 \n",
            " 6.64     56.4 18.73 28.12 52.81 90.14 66.6 56.36 19.44 28.91 \n",
            " 6.65     56.11 18.13 27.41 52.65 90.25 66.5 56.07 18.84 28.2 \n",
            " 6.66     55.76 17.6 26.76 52.52 90.39 66.44 55.72 18.32 27.57 \n",
            " 6.67     55.28 17.0 26.0 52.38 90.53 66.36 55.25 17.73 26.85 \n",
            " 6.68     54.87 16.43 25.29 52.23 90.63 66.27 54.84 17.17 26.15 \n",
            " 6.69     54.42 15.82 24.51 52.08 90.76 66.18 54.4 16.56 25.39 \n",
            " 6.7     54.07 15.28 23.83 51.95 90.88 66.11 54.05 16.03 24.73 \n",
            " 6.71     53.73 14.75 23.15 51.82 91.01 66.04 53.71 15.51 24.07 \n",
            " 6.72     53.34 14.28 22.53 51.71 91.13 65.98 53.32 15.04 23.46 \n",
            " 6.73     53.03 13.82 21.93 51.61 91.24 65.93 53.02 14.59 22.88 \n",
            " 6.74     52.61 13.33 21.27 51.49 91.34 65.86 52.59 14.11 22.25 \n",
            " 6.75     52.21 12.85 20.62 51.38 91.47 65.8 52.21 13.63 21.62 \n",
            " 6.76     51.78 12.41 20.02 51.28 91.58 65.75 51.78 13.19 21.02 \n",
            " 6.77     51.32 11.99 19.44 51.18 91.67 65.69 51.32 12.78 20.46 \n",
            " 6.78     51.01 11.65 18.97 51.11 91.77 65.65 51.01 12.44 20.0 \n",
            " 6.79     50.51 11.24 18.39 51.02 91.87 65.61 50.52 12.04 19.45 \n",
            " 6.8     50.15 10.89 17.89 50.94 91.95 65.56 50.15 11.69 18.96 \n",
            " 6.81     49.77 10.53 17.38 50.87 92.06 65.53 49.78 11.34 18.47 \n",
            " 6.82     49.15 10.15 16.83 50.78 92.17 65.49 49.17 10.96 17.92 \n",
            " 6.83     48.37 9.79 16.28 50.71 92.28 65.46 48.4 10.61 17.4 \n",
            " 6.84     47.71 9.47 15.8 50.65 92.39 65.43 47.74 10.29 16.93 \n",
            " 6.85     47.32 9.16 15.35 50.6 92.5 65.41 47.35 9.99 16.5 \n",
            " 6.86     47.05 8.9 14.97 50.55 92.6 65.4 47.09 9.73 16.13 \n",
            " 6.87     46.65 8.64 14.58 50.5 92.7 65.38 46.69 9.48 15.76 \n",
            " 6.88     46.25 8.42 14.25 50.47 92.78 65.37 46.29 9.26 15.43 \n",
            " 6.89     45.73 8.16 13.85 50.42 92.88 65.36 45.77 8.99 15.03 \n",
            " 6.9     45.23 7.91 13.47 50.37 92.98 65.34 45.28 8.75 14.67 \n",
            " 6.91     44.97 7.64 13.06 50.33 93.08 65.33 45.02 8.49 14.29 \n",
            " 6.92     44.65 7.41 12.71 50.28 93.17 65.32 44.71 8.26 13.94 \n",
            " 6.93     44.01 7.19 12.36 50.25 93.26 65.31 44.08 8.04 13.6 \n",
            " 6.94     43.75 6.97 12.02 50.21 93.35 65.3 43.81 7.83 13.29 \n",
            " 6.95     43.35 6.75 11.68 50.17 93.42 65.28 43.42 7.61 12.95 \n",
            " 6.96     42.89 6.54 11.35 50.14 93.51 65.27 42.96 7.41 12.64 \n",
            " 6.97     42.5 6.36 11.06 50.12 93.62 65.28 42.58 7.22 12.35 \n",
            " 6.98     42.1 6.16 10.75 50.08 93.7 65.27 42.18 7.02 12.04 \n",
            " 6.99     41.76 5.98 10.46 50.06 93.79 65.28 41.84 6.85 11.77 \n",
            " 7.0     41.32 5.79 10.16 50.03 93.9 65.28 41.41 6.67 11.49 "
          ]
        }
      ]
    },
    {
      "cell_type": "code",
      "source": [
        "max(list_of_f1)"
      ],
      "metadata": {
        "colab": {
          "base_uri": "https://localhost:8080/"
        },
        "id": "azDWzCSEgfn7",
        "outputId": "33ed661c-7e0d-4acf-a4d9-14186a414312"
      },
      "execution_count": 139,
      "outputs": [
        {
          "output_type": "execute_result",
          "data": {
            "text/plain": [
              "79.4"
            ]
          },
          "metadata": {},
          "execution_count": 139
        }
      ]
    },
    {
      "cell_type": "code",
      "source": [
        "print(\"done epochs 7 8 varun 3\")"
      ],
      "metadata": {
        "id": "cXt01765-bco",
        "colab": {
          "base_uri": "https://localhost:8080/"
        },
        "outputId": "c8f3ffaa-dac5-4642-b9cf-928887b9e85f"
      },
      "execution_count": 140,
      "outputs": [
        {
          "output_type": "stream",
          "name": "stdout",
          "text": [
            "done epochs 7 8 varun 3\n"
          ]
        }
      ]
    },
    {
      "cell_type": "code",
      "source": [
        "logits_total_array_o = logits_total_array_o.tolist()"
      ],
      "metadata": {
        "id": "NuTlFFINBGn6"
      },
      "execution_count": 141,
      "outputs": []
    },
    {
      "cell_type": "code",
      "source": [
        "df2['logits'] = logits_total_array_o"
      ],
      "metadata": {
        "id": "yVZxmx4WgjIp"
      },
      "execution_count": 142,
      "outputs": []
    },
    {
      "cell_type": "code",
      "source": [
        "df2.to_csv(\"/content/sample_data/logits_3_varun.csv\")"
      ],
      "metadata": {
        "id": "vM5lRsvBgjLa"
      },
      "execution_count": 143,
      "outputs": []
    },
    {
      "cell_type": "code",
      "source": [],
      "metadata": {
        "id": "-1hx52wZgjN-"
      },
      "execution_count": null,
      "outputs": []
    },
    {
      "cell_type": "code",
      "source": [],
      "metadata": {
        "id": "0WFMU6uCgjRh"
      },
      "execution_count": null,
      "outputs": []
    },
    {
      "cell_type": "code",
      "source": [
        "predictions_ = np.argmax(logits_total_array , axis=1)"
      ],
      "metadata": {
        "id": "y0_XJTTH3yre"
      },
      "execution_count": null,
      "outputs": []
    },
    {
      "cell_type": "code",
      "source": [
        "len(logits_total_array)"
      ],
      "metadata": {
        "colab": {
          "base_uri": "https://localhost:8080/"
        },
        "id": "v0l7hXGV4Y18",
        "outputId": "18d7fae1-a355-4b5a-f861-f3bc38cf4bef"
      },
      "execution_count": null,
      "outputs": [
        {
          "output_type": "execute_result",
          "data": {
            "text/plain": [
              "20000"
            ]
          },
          "metadata": {},
          "execution_count": 188
        }
      ]
    },
    {
      "cell_type": "code",
      "source": [
        "from sklearn.metrics import classification_report\n",
        "\n",
        "result_report= classification_report(true_labels, predictions, digits=3, output_dict=False)\n",
        "print(result_report)"
      ],
      "metadata": {
        "colab": {
          "base_uri": "https://localhost:8080/"
        },
        "id": "gL2zuabXyCoa",
        "outputId": "1115f5cf-617b-4566-a984-985f1b870d8d"
      },
      "execution_count": null,
      "outputs": [
        {
          "output_type": "stream",
          "name": "stdout",
          "text": [
            "              precision    recall  f1-score   support\n",
            "\n",
            "           0      0.530     0.790     0.635       100\n",
            "           1      0.959     0.930     0.944       100\n",
            "           2      0.802     0.850     0.825       100\n",
            "           3      0.960     0.970     0.965       100\n",
            "           4      0.676     0.460     0.548       100\n",
            "           5      0.824     0.700     0.757       100\n",
            "           6      0.889     0.400     0.552       100\n",
            "           7      0.790     0.980     0.875       100\n",
            "           8      0.803     0.940     0.866       100\n",
            "           9      0.631     0.820     0.713       100\n",
            "          10      0.960     0.950     0.955       100\n",
            "          11      0.690     0.800     0.741       100\n",
            "          12      0.990     0.970     0.980       100\n",
            "          13      0.954     0.830     0.888       100\n",
            "          14      0.519     0.670     0.585       100\n",
            "          15      0.913     0.950     0.931       100\n",
            "          16      0.895     0.940     0.917       100\n",
            "          17      0.843     0.910     0.875       100\n",
            "          18      0.866     0.840     0.853       100\n",
            "          19      0.833     0.700     0.761       100\n",
            "          20      0.970     0.960     0.965       100\n",
            "          21      0.816     0.800     0.808       100\n",
            "          22      0.810     0.470     0.595       100\n",
            "          23      0.654     0.700     0.676       100\n",
            "          24      0.821     0.640     0.719       100\n",
            "          25      0.989     0.870     0.926       100\n",
            "          26      0.822     0.970     0.890       100\n",
            "          27      0.904     0.750     0.820       100\n",
            "          28      0.781     0.820     0.800       100\n",
            "          29      0.832     0.940     0.883       100\n",
            "          30      0.796     0.820     0.808       100\n",
            "          31      0.902     0.830     0.865       100\n",
            "          32      0.637     0.930     0.756       100\n",
            "          33      0.769     0.600     0.674       100\n",
            "          34      0.698     0.670     0.684       100\n",
            "          35      0.875     0.350     0.500       100\n",
            "          36      0.930     0.800     0.860       100\n",
            "          37      0.940     0.940     0.940       100\n",
            "          38      0.988     0.830     0.902       100\n",
            "          39      0.669     0.890     0.764       100\n",
            "          40      0.551     0.700     0.617       100\n",
            "          41      0.860     0.980     0.916       100\n",
            "          42      0.877     0.710     0.785       100\n",
            "          43      1.000     0.550     0.710       100\n",
            "          44      0.861     0.680     0.760       100\n",
            "          45      0.978     0.900     0.938       100\n",
            "          46      0.980     0.980     0.980       100\n",
            "          47      0.978     0.910     0.943       100\n",
            "          48      0.978     0.900     0.938       100\n",
            "          49      0.969     0.940     0.954       100\n",
            "          50      1.000     0.810     0.895       100\n",
            "          51      0.931     0.810     0.866       100\n",
            "          52      0.796     0.740     0.767       100\n",
            "          53      0.474     0.830     0.604       100\n",
            "          54      0.909     0.800     0.851       100\n",
            "          55      0.743     0.840     0.789       100\n",
            "          56      0.925     0.990     0.957       100\n",
            "          57      0.750     0.900     0.818       100\n",
            "          58      0.870     0.870     0.870       100\n",
            "          59      1.000     0.910     0.953       100\n",
            "          60      0.788     0.820     0.804       100\n",
            "          61      0.696     0.640     0.667       100\n",
            "          62      0.902     0.830     0.865       100\n",
            "          63      0.872     0.820     0.845       100\n",
            "          64      0.924     0.850     0.885       100\n",
            "          65      0.958     0.910     0.933       100\n",
            "          66      0.965     0.820     0.886       100\n",
            "          67      0.954     0.830     0.888       100\n",
            "          68      0.898     0.440     0.591       100\n",
            "          69      0.825     0.800     0.812       100\n",
            "          70      0.800     0.760     0.779       100\n",
            "          71      0.958     0.680     0.795       100\n",
            "          72      1.000     1.000     1.000       100\n",
            "          73      0.908     0.690     0.784       100\n",
            "          74      0.979     0.930     0.954       100\n",
            "          75      1.000     0.600     0.750       100\n",
            "          76      0.990     0.970     0.980       100\n",
            "          77      0.848     0.840     0.844       100\n",
            "          78      0.895     0.680     0.773       100\n",
            "          79      1.000     0.970     0.985       100\n",
            "          80      1.000     1.000     1.000       100\n",
            "          81      0.903     0.930     0.916       100\n",
            "          82      0.832     0.790     0.810       100\n",
            "          83      0.961     0.990     0.975       100\n",
            "          84      0.988     0.810     0.890       100\n",
            "          85      0.989     0.900     0.942       100\n",
            "          86      0.688     0.970     0.805       100\n",
            "          87      0.897     0.610     0.726       100\n",
            "          88      0.929     0.790     0.854       100\n",
            "          89      0.748     0.770     0.759       100\n",
            "          90      0.712     0.740     0.725       100\n",
            "          91      0.885     0.770     0.824       100\n",
            "          92      1.000     0.960     0.980       100\n",
            "          93      0.989     0.860     0.920       100\n",
            "          94      0.977     0.860     0.915       100\n",
            "          95      1.000     0.590     0.742       100\n",
            "          96      0.864     0.950     0.905       100\n",
            "          97      0.907     0.490     0.636       100\n",
            "          98      0.978     0.910     0.943       100\n",
            "          99      0.967     0.880     0.921       100\n",
            "         100      0.000     0.000     0.000         0\n",
            "\n",
            "    accuracy                          0.812     10000\n",
            "   macro avg      0.859     0.804     0.821     10000\n",
            "weighted avg      0.867     0.812     0.829     10000\n",
            "\n"
          ]
        },
        {
          "output_type": "stream",
          "name": "stderr",
          "text": [
            "/usr/local/lib/python3.7/dist-packages/sklearn/metrics/_classification.py:1318: UndefinedMetricWarning: Recall and F-score are ill-defined and being set to 0.0 in labels with no true samples. Use `zero_division` parameter to control this behavior.\n",
            "  _warn_prf(average, modifier, msg_start, len(result))\n",
            "/usr/local/lib/python3.7/dist-packages/sklearn/metrics/_classification.py:1318: UndefinedMetricWarning: Recall and F-score are ill-defined and being set to 0.0 in labels with no true samples. Use `zero_division` parameter to control this behavior.\n",
            "  _warn_prf(average, modifier, msg_start, len(result))\n",
            "/usr/local/lib/python3.7/dist-packages/sklearn/metrics/_classification.py:1318: UndefinedMetricWarning: Recall and F-score are ill-defined and being set to 0.0 in labels with no true samples. Use `zero_division` parameter to control this behavior.\n",
            "  _warn_prf(average, modifier, msg_start, len(result))\n"
          ]
        }
      ]
    },
    {
      "cell_type": "code",
      "source": [],
      "metadata": {
        "id": "Va56XFGayCvG"
      },
      "execution_count": null,
      "outputs": []
    },
    {
      "cell_type": "code",
      "source": [],
      "metadata": {
        "id": "GSLMVQ6myCxn"
      },
      "execution_count": null,
      "outputs": []
    },
    {
      "cell_type": "code",
      "source": [],
      "metadata": {
        "id": "KhREp7jlyCz_"
      },
      "execution_count": null,
      "outputs": []
    },
    {
      "cell_type": "code",
      "source": [],
      "metadata": {
        "id": "wfVTC6PUyC2S"
      },
      "execution_count": null,
      "outputs": []
    },
    {
      "cell_type": "code",
      "source": [],
      "metadata": {
        "id": "D3jf7LLYyC4v"
      },
      "execution_count": null,
      "outputs": []
    },
    {
      "cell_type": "code",
      "source": [],
      "metadata": {
        "id": "YnHMVh5CyC8F"
      },
      "execution_count": null,
      "outputs": []
    },
    {
      "cell_type": "code",
      "source": [
        "d_predictions = predictions\n",
        "d_true_labels = true_labels\n",
        "d_logits_arr = logits_arr\n",
        "d_max_logits_arr = max_logits_arr"
      ],
      "metadata": {
        "id": "F3HjyBiKJUpU"
      },
      "execution_count": null,
      "outputs": []
    },
    {
      "cell_type": "code",
      "source": [
        "d_logits_arr\n",
        "d_threshold_arr=[]\n",
        "for i in range(len(d_logits_arr)):\n",
        "  if(d_logits_arr[i]>1):\n",
        "    d_threshold_arr.append(d_true_labels[i])"
      ],
      "metadata": {
        "id": "eQdqyyG9AQZZ"
      },
      "execution_count": null,
      "outputs": []
    },
    {
      "cell_type": "code",
      "source": [
        "len(d_threshold_arr)"
      ],
      "metadata": {
        "colab": {
          "base_uri": "https://localhost:8080/"
        },
        "id": "tPafsXORA5m3",
        "outputId": "50f5ab2e-6c17-4b60-df2c-65d6f1b560a0"
      },
      "execution_count": null,
      "outputs": [
        {
          "output_type": "execute_result",
          "data": {
            "text/plain": [
              "1499"
            ]
          },
          "metadata": {},
          "execution_count": 62
        }
      ]
    },
    {
      "cell_type": "code",
      "source": [
        "d_threshold_arr.count(100)"
      ],
      "metadata": {
        "colab": {
          "base_uri": "https://localhost:8080/"
        },
        "id": "On5-EmBNA-8X",
        "outputId": "ddcfb86e-af7e-467f-af9e-d29b7ed55cd0"
      },
      "execution_count": null,
      "outputs": [
        {
          "output_type": "execute_result",
          "data": {
            "text/plain": [
              "471"
            ]
          },
          "metadata": {},
          "execution_count": 63
        }
      ]
    },
    {
      "cell_type": "code",
      "source": [
        "np.unique(d_predictions)"
      ],
      "metadata": {
        "id": "6Uo5Q2CMsC2_",
        "colab": {
          "base_uri": "https://localhost:8080/"
        },
        "outputId": "ee3117a4-eafe-4777-abe2-fe60f09d011f"
      },
      "execution_count": null,
      "outputs": [
        {
          "output_type": "execute_result",
          "data": {
            "text/plain": [
              "array([  0,   1,   2,   3,   4,   5,   6,   7,   8,   9,  10,  11,  12,\n",
              "        13,  14,  15,  16,  17,  18,  19,  20,  21,  22,  23,  24,  25,\n",
              "        26,  27,  28,  29,  30,  31,  32,  33,  34,  35,  36,  37,  38,\n",
              "        39,  40,  41,  42,  43,  44,  45,  46,  47,  48,  49,  50,  51,\n",
              "        52,  53,  54,  55,  56,  57,  58,  59,  60,  61,  62,  63,  64,\n",
              "        65,  66,  67,  68,  69,  70,  71,  72,  73,  74,  75,  76,  77,\n",
              "        78,  79,  80,  81,  82,  83,  84,  85,  86,  87,  88,  89,  90,\n",
              "        91,  92,  93,  94,  95,  96,  97,  98,  99, 100])"
            ]
          },
          "metadata": {},
          "execution_count": 55
        }
      ]
    },
    {
      "cell_type": "code",
      "source": [
        "np.unique(d_true_labels)"
      ],
      "metadata": {
        "id": "04Gb-rS0sFPa",
        "colab": {
          "base_uri": "https://localhost:8080/"
        },
        "outputId": "b648837f-614b-4a41-dd0b-cd4982149885"
      },
      "execution_count": null,
      "outputs": [
        {
          "output_type": "execute_result",
          "data": {
            "text/plain": [
              "array([  0,   1,   2,   3,   4,   5,   6,   7,   8,   9,  10,  11,  12,\n",
              "        13,  14,  15,  16,  17,  18,  19,  20,  21,  22,  23,  24,  25,\n",
              "        26,  27,  28,  29,  30,  31,  32,  33,  34,  35,  36,  37,  38,\n",
              "        39,  40,  41,  42,  43,  44,  45,  46,  47,  48,  49,  50,  51,\n",
              "        52,  53,  54,  55,  56,  57,  58,  59,  60,  61,  62,  63,  64,\n",
              "        65,  66,  67,  68,  69,  70,  71,  72,  73,  74,  75,  76,  77,\n",
              "        78,  79,  80,  81,  82,  83,  84,  85,  86,  87,  88,  89,  90,\n",
              "        91,  92,  93,  94,  95,  96,  97,  98,  99, 100])"
            ]
          },
          "metadata": {},
          "execution_count": 56
        }
      ]
    },
    {
      "cell_type": "code",
      "source": [
        "len(d_logits_arr)"
      ],
      "metadata": {
        "colab": {
          "base_uri": "https://localhost:8080/"
        },
        "id": "RhOn8LZsDN_C",
        "outputId": "dacd8a20-f341-4a24-8827-b3ac2fc11f30"
      },
      "execution_count": null,
      "outputs": [
        {
          "output_type": "execute_result",
          "data": {
            "text/plain": [
              "20000"
            ]
          },
          "metadata": {},
          "execution_count": 57
        }
      ]
    },
    {
      "cell_type": "code",
      "source": [
        "len(d_predictions)"
      ],
      "metadata": {
        "id": "ISe3fy7CAden",
        "colab": {
          "base_uri": "https://localhost:8080/"
        },
        "outputId": "07c40581-cae6-4894-bee4-36b4c283008e"
      },
      "execution_count": null,
      "outputs": [
        {
          "output_type": "execute_result",
          "data": {
            "text/plain": [
              "20000"
            ]
          },
          "metadata": {},
          "execution_count": 57
        }
      ]
    },
    {
      "cell_type": "code",
      "source": [
        "d_predictions.count(100)"
      ],
      "metadata": {
        "colab": {
          "base_uri": "https://localhost:8080/"
        },
        "id": "kubLwA5dDipj",
        "outputId": "2f0d832a-ea49-4437-f2ec-09964f4cbcd2"
      },
      "execution_count": null,
      "outputs": [
        {
          "output_type": "execute_result",
          "data": {
            "text/plain": [
              "9327"
            ]
          },
          "metadata": {},
          "execution_count": 52
        }
      ]
    },
    {
      "cell_type": "code",
      "source": [
        "d_true_labels == labels_list_0"
      ],
      "metadata": {
        "colab": {
          "base_uri": "https://localhost:8080/"
        },
        "id": "ZPcWkb1s_DmG",
        "outputId": "40c4a076-03ce-42cc-f23d-71e0bac612b9"
      },
      "execution_count": null,
      "outputs": [
        {
          "output_type": "execute_result",
          "data": {
            "text/plain": [
              "True"
            ]
          },
          "metadata": {},
          "execution_count": 59
        }
      ]
    },
    {
      "cell_type": "code",
      "source": [
        "d_predictions.count(100)/10000"
      ],
      "metadata": {
        "colab": {
          "base_uri": "https://localhost:8080/"
        },
        "id": "RjJqO75QDkd1",
        "outputId": "e2371ac3-f655-4476-b23d-ccac443ea004"
      },
      "execution_count": null,
      "outputs": [
        {
          "output_type": "execute_result",
          "data": {
            "text/plain": [
              "0.9327"
            ]
          },
          "metadata": {},
          "execution_count": 53
        }
      ]
    },
    {
      "cell_type": "code",
      "source": [
        "#all classes\n",
        "from sklearn.metrics import classification_report\n",
        "\n",
        "result_report= classification_report(true_labels, predictions, digits=3, output_dict=False)\n",
        "print(result_report)"
      ],
      "metadata": {
        "colab": {
          "base_uri": "https://localhost:8080/"
        },
        "id": "3k95Dcn9hCT0",
        "outputId": "86d13ae2-f65b-4113-a510-417b40432871"
      },
      "execution_count": null,
      "outputs": [
        {
          "output_type": "stream",
          "name": "stdout",
          "text": [
            "              precision    recall  f1-score   support\n",
            "\n",
            "           0      0.607     0.680     0.642       100\n",
            "           1      0.821     0.870     0.845       100\n",
            "           2      0.532     0.830     0.648       100\n",
            "           3      0.904     0.940     0.922       100\n",
            "           4      0.221     0.300     0.254       100\n",
            "           5      0.722     0.570     0.637       100\n",
            "           6      0.611     0.330     0.429       100\n",
            "           7      0.853     0.930     0.890       100\n",
            "           8      0.729     0.940     0.821       100\n",
            "           9      0.663     0.690     0.676       100\n",
            "          10      0.887     0.940     0.913       100\n",
            "          11      0.615     0.750     0.676       100\n",
            "          12      0.687     0.920     0.786       100\n",
            "          13      0.830     0.780     0.804       100\n",
            "          14      0.519     0.560     0.538       100\n",
            "          15      0.908     0.790     0.845       100\n",
            "          16      0.895     0.850     0.872       100\n",
            "          17      0.868     0.790     0.827       100\n",
            "          18      0.722     0.780     0.750       100\n",
            "          19      0.712     0.470     0.566       100\n",
            "          20      0.926     0.870     0.897       100\n",
            "          21      0.573     0.670     0.618       100\n",
            "          22      0.684     0.390     0.497       100\n",
            "          23      0.500     0.360     0.419       100\n",
            "          24      0.445     0.530     0.484       100\n",
            "          25      0.706     0.840     0.767       100\n",
            "          26      0.814     0.920     0.864       100\n",
            "          27      0.443     0.540     0.486       100\n",
            "          28      0.533     0.730     0.616       100\n",
            "          29      0.784     0.870     0.825       100\n",
            "          30      0.776     0.660     0.714       100\n",
            "          31      0.708     0.680     0.694       100\n",
            "          32      0.358     0.780     0.491       100\n",
            "          33      0.426     0.400     0.412       100\n",
            "          34      0.702     0.590     0.641       100\n",
            "          35      0.875     0.280     0.424       100\n",
            "          36      0.765     0.520     0.619       100\n",
            "          37      0.796     0.780     0.788       100\n",
            "          38      0.929     0.790     0.854       100\n",
            "          39      0.452     0.800     0.578       100\n",
            "          40      0.545     0.540     0.543       100\n",
            "          41      0.629     0.950     0.757       100\n",
            "          42      0.894     0.590     0.711       100\n",
            "          43      0.452     0.560     0.500       100\n",
            "          44      0.548     0.510     0.528       100\n",
            "          45      0.934     0.710     0.807       100\n",
            "          46      0.884     0.990     0.934       100\n",
            "          47      0.566     0.860     0.683       100\n",
            "          48      0.846     0.770     0.806       100\n",
            "          49      0.882     0.900     0.891       100\n",
            "          50      0.287     0.640     0.396       100\n",
            "          51      0.904     0.660     0.763       100\n",
            "          52      0.547     0.520     0.533       100\n",
            "          53      0.510     0.530     0.520       100\n",
            "          54      0.840     0.630     0.720       100\n",
            "          55      0.409     0.740     0.527       100\n",
            "          56      0.860     0.920     0.889       100\n",
            "          57      0.692     0.720     0.706       100\n",
            "          58      0.784     0.760     0.772       100\n",
            "          59      0.647     0.880     0.746       100\n",
            "          60      0.695     0.730     0.712       100\n",
            "          61      0.462     0.300     0.364       100\n",
            "          62      0.494     0.770     0.602       100\n",
            "          63      0.879     0.800     0.838       100\n",
            "          64      0.838     0.830     0.834       100\n",
            "          65      0.875     0.770     0.819       100\n",
            "          66      0.947     0.720     0.818       100\n",
            "          67      0.798     0.710     0.751       100\n",
            "          68      0.540     0.270     0.360       100\n",
            "          69      0.707     0.650     0.677       100\n",
            "          70      0.581     0.610     0.595       100\n",
            "          71      0.577     0.560     0.569       100\n",
            "          72      0.847     1.000     0.917       100\n",
            "          73      0.431     0.530     0.475       100\n",
            "          74      0.662     0.920     0.770       100\n",
            "          75      0.975     0.390     0.557       100\n",
            "          76      0.922     0.940     0.931       100\n",
            "          77      0.750     0.600     0.667       100\n",
            "          78      0.667     0.520     0.584       100\n",
            "          79      1.000     0.970     0.985       100\n",
            "          80      1.000     1.000     1.000       100\n",
            "          81      0.400     0.860     0.546       100\n",
            "          82      0.602     0.680     0.638       100\n",
            "          83      0.873     0.960     0.914       100\n",
            "          84      0.819     0.680     0.743       100\n",
            "          85      0.529     0.830     0.646       100\n",
            "          86      0.359     0.970     0.524       100\n",
            "          87      0.564     0.440     0.494       100\n",
            "          88      0.563     0.670     0.612       100\n",
            "          89      0.517     0.620     0.564       100\n",
            "          90      0.509     0.570     0.538       100\n",
            "          91      0.818     0.450     0.581       100\n",
            "          92      0.842     0.960     0.897       100\n",
            "          93      0.928     0.770     0.842       100\n",
            "          94      0.522     0.720     0.605       100\n",
            "          95      0.983     0.570     0.722       100\n",
            "          96      0.641     0.930     0.759       100\n",
            "          97      0.660     0.350     0.458       100\n",
            "          98      0.767     0.690     0.726       100\n",
            "          99      0.748     0.830     0.787       100\n",
            "         100      0.741     0.691     0.715     10000\n",
            "\n",
            "    accuracy                          0.697     20000\n",
            "   macro avg      0.695     0.702     0.682     20000\n",
            "weighted avg      0.718     0.697     0.699     20000\n",
            "\n"
          ]
        }
      ]
    },
    {
      "cell_type": "code",
      "source": [
        "#all classes\n",
        "from sklearn.metrics import classification_report\n",
        "\n",
        "result_report= classification_report(true_labels, predictions, digits=3, output_dict=False)\n",
        "print(result_report)"
      ],
      "metadata": {
        "id": "FCeZuz9vAdhB",
        "colab": {
          "base_uri": "https://localhost:8080/"
        },
        "outputId": "e06801ad-98d0-4b37-de62-6a44cace33f9"
      },
      "execution_count": null,
      "outputs": [
        {
          "output_type": "stream",
          "name": "stdout",
          "text": [
            "              precision    recall  f1-score   support\n",
            "\n",
            "           0      0.507     0.730     0.598       100\n",
            "           1      0.744     0.930     0.827       100\n",
            "           2      0.483     0.830     0.610       100\n",
            "           3      0.839     0.940     0.887       100\n",
            "           4      0.193     0.340     0.246       100\n",
            "           5      0.637     0.580     0.607       100\n",
            "           6      0.576     0.340     0.428       100\n",
            "           7      0.785     0.950     0.860       100\n",
            "           8      0.655     0.950     0.776       100\n",
            "           9      0.592     0.740     0.658       100\n",
            "          10      0.895     0.940     0.917       100\n",
            "          11      0.588     0.770     0.667       100\n",
            "          12      0.625     0.950     0.754       100\n",
            "          13      0.767     0.890     0.824       100\n",
            "          14      0.522     0.590     0.554       100\n",
            "          15      0.890     0.890     0.890       100\n",
            "          16      0.923     0.840     0.880       100\n",
            "          17      0.779     0.880     0.826       100\n",
            "          18      0.664     0.770     0.713       100\n",
            "          19      0.569     0.410     0.477       100\n",
            "          20      0.956     0.870     0.911       100\n",
            "          21      0.507     0.720     0.595       100\n",
            "          22      0.485     0.320     0.386       100\n",
            "          23      0.439     0.430     0.434       100\n",
            "          24      0.377     0.610     0.466       100\n",
            "          25      0.632     0.840     0.721       100\n",
            "          26      0.845     0.870     0.857       100\n",
            "          27      0.371     0.520     0.433       100\n",
            "          28      0.423     0.800     0.554       100\n",
            "          29      0.832     0.890     0.860       100\n",
            "          30      0.756     0.680     0.716       100\n",
            "          31      0.619     0.780     0.690       100\n",
            "          32      0.305     0.760     0.436       100\n",
            "          33      0.330     0.380     0.353       100\n",
            "          34      0.638     0.600     0.619       100\n",
            "          35      0.714     0.300     0.423       100\n",
            "          36      0.742     0.490     0.590       100\n",
            "          37      0.702     0.850     0.769       100\n",
            "          38      0.856     0.770     0.811       100\n",
            "          39      0.403     0.870     0.551       100\n",
            "          40      0.487     0.550     0.516       100\n",
            "          41      0.543     0.940     0.689       100\n",
            "          42      0.838     0.570     0.679       100\n",
            "          43      0.419     0.520     0.464       100\n",
            "          44      0.496     0.630     0.555       100\n",
            "          45      0.905     0.570     0.699       100\n",
            "          46      0.876     0.990     0.930       100\n",
            "          47      0.575     0.840     0.683       100\n",
            "          48      0.699     0.790     0.742       100\n",
            "          49      0.849     0.900     0.874       100\n",
            "          50      0.246     0.670     0.360       100\n",
            "          51      0.800     0.720     0.758       100\n",
            "          52      0.533     0.650     0.586       100\n",
            "          53      0.409     0.520     0.458       100\n",
            "          54      0.855     0.650     0.739       100\n",
            "          55      0.367     0.770     0.497       100\n",
            "          56      0.785     0.950     0.860       100\n",
            "          57      0.606     0.770     0.678       100\n",
            "          58      0.661     0.840     0.740       100\n",
            "          59      0.567     0.890     0.693       100\n",
            "          60      0.676     0.730     0.702       100\n",
            "          61      0.451     0.410     0.429       100\n",
            "          62      0.513     0.780     0.619       100\n",
            "          63      0.873     0.690     0.771       100\n",
            "          64      0.901     0.820     0.859       100\n",
            "          65      0.738     0.760     0.749       100\n",
            "          66      0.962     0.750     0.843       100\n",
            "          67      0.647     0.770     0.703       100\n",
            "          68      0.508     0.330     0.400       100\n",
            "          69      0.593     0.670     0.629       100\n",
            "          70      0.565     0.650     0.605       100\n",
            "          71      0.436     0.610     0.508       100\n",
            "          72      0.775     1.000     0.873       100\n",
            "          73      0.330     0.580     0.420       100\n",
            "          74      0.662     0.920     0.770       100\n",
            "          75      0.976     0.410     0.577       100\n",
            "          76      0.931     0.950     0.941       100\n",
            "          77      0.707     0.700     0.704       100\n",
            "          78      0.617     0.580     0.598       100\n",
            "          79      0.990     0.970     0.980       100\n",
            "          80      0.833     1.000     0.909       100\n",
            "          81      0.436     0.850     0.576       100\n",
            "          82      0.514     0.720     0.600       100\n",
            "          83      0.810     0.980     0.887       100\n",
            "          84      0.821     0.780     0.800       100\n",
            "          85      0.473     0.880     0.615       100\n",
            "          86      0.320     0.950     0.479       100\n",
            "          87      0.463     0.380     0.418       100\n",
            "          88      0.475     0.770     0.588       100\n",
            "          89      0.492     0.600     0.541       100\n",
            "          90      0.405     0.640     0.496       100\n",
            "          91      0.806     0.500     0.617       100\n",
            "          92      0.713     0.970     0.822       100\n",
            "          93      0.928     0.770     0.842       100\n",
            "          94      0.580     0.760     0.658       100\n",
            "          95      0.983     0.570     0.722       100\n",
            "          96      0.574     0.930     0.710       100\n",
            "          97      0.460     0.290     0.356       100\n",
            "          98      0.688     0.660     0.673       100\n",
            "          99      0.824     0.890     0.856       100\n",
            "         100      0.743     0.587     0.655     10000\n",
            "\n",
            "    accuracy                          0.655     20000\n",
            "   macro avg      0.642     0.722     0.662     20000\n",
            "weighted avg      0.692     0.655     0.659     20000\n",
            "\n"
          ]
        }
      ]
    },
    {
      "cell_type": "code",
      "source": [
        "d_closed_logits=[]\n",
        "d_open_logits=[]\n",
        "d_max_closed_logits=[]\n",
        "d_max_open_logits=[]\n",
        "d_predictions_open=[]\n",
        "d_predictions_closed=[]\n",
        "for i in range(20000):\n",
        "  if(true_labels[i]==100):\n",
        "    d_open_logits.append(logits_arr[i])\n",
        "    d_max_open_logits.append(d_max_logits_arr[i])\n",
        "    d_predictions_open.append(d_predictions[i])\n",
        "  else:\n",
        "    d_closed_logits.append(logits_arr[i])\n",
        "    d_max_closed_logits.append(d_max_logits_arr[i])\n",
        "    d_predictions_closed.append(d_predictions[i])"
      ],
      "metadata": {
        "id": "CIWN9I0xEqa8"
      },
      "execution_count": null,
      "outputs": []
    },
    {
      "cell_type": "code",
      "source": [
        "print(d_predictions_closed[800])\n",
        "print(d_max_closed_logits[800])\n",
        "print(d_closed_logits[800])"
      ],
      "metadata": {
        "colab": {
          "base_uri": "https://localhost:8080/"
        },
        "id": "syeclbw8SpH3",
        "outputId": "31dbfd84-25cc-43d1-f631-1fd193b9d9e0"
      },
      "execution_count": null,
      "outputs": [
        {
          "output_type": "stream",
          "name": "stdout",
          "text": [
            "100\n",
            "10.72829532623291\n",
            "10.966748237609863\n"
          ]
        }
      ]
    },
    {
      "cell_type": "code",
      "source": [
        "d_predictions_open.count(100)"
      ],
      "metadata": {
        "colab": {
          "base_uri": "https://localhost:8080/"
        },
        "id": "XUFYeKmHdd2C",
        "outputId": "91793a8d-a016-4c4c-c4b9-9958d716af24"
      },
      "execution_count": null,
      "outputs": [
        {
          "output_type": "execute_result",
          "data": {
            "text/plain": [
              "5865"
            ]
          },
          "metadata": {},
          "execution_count": 79
        }
      ]
    },
    {
      "cell_type": "code",
      "source": [
        "true_labels[0]"
      ],
      "metadata": {
        "colab": {
          "base_uri": "https://localhost:8080/"
        },
        "id": "ZACs_-OKR_JC",
        "outputId": "7a038837-8cea-4d6a-a843-47c5da4ec750"
      },
      "execution_count": null,
      "outputs": [
        {
          "output_type": "execute_result",
          "data": {
            "text/plain": [
              "44"
            ]
          },
          "metadata": {},
          "execution_count": 49
        }
      ]
    },
    {
      "cell_type": "code",
      "source": [
        "sum(d_closed_logits)/10000"
      ],
      "metadata": {
        "colab": {
          "base_uri": "https://localhost:8080/"
        },
        "id": "OfqmD5nSFRHK",
        "outputId": "def23b88-f832-4e46-81ea-963682e174a1"
      },
      "execution_count": null,
      "outputs": [
        {
          "output_type": "execute_result",
          "data": {
            "text/plain": [
              "-0.4986603997487575"
            ]
          },
          "metadata": {},
          "execution_count": 50
        }
      ]
    },
    {
      "cell_type": "code",
      "source": [
        "sum(d_open_logits)/10000"
      ],
      "metadata": {
        "colab": {
          "base_uri": "https://localhost:8080/"
        },
        "id": "xhFcF_J8FkgU",
        "outputId": "0d171e90-6e08-4d61-8744-5b59c7ad6d4b"
      },
      "execution_count": null,
      "outputs": [
        {
          "output_type": "execute_result",
          "data": {
            "text/plain": [
              "-0.6508012606155127"
            ]
          },
          "metadata": {},
          "execution_count": 51
        }
      ]
    },
    {
      "cell_type": "code",
      "source": [
        "sum(d_max_closed_logits)/10000"
      ],
      "metadata": {
        "colab": {
          "base_uri": "https://localhost:8080/"
        },
        "id": "Peg9XRf4LKJ3",
        "outputId": "396307d6-ae8b-4797-ae3a-68f525e2649b"
      },
      "execution_count": null,
      "outputs": [
        {
          "output_type": "execute_result",
          "data": {
            "text/plain": [
              "9.227002764344215"
            ]
          },
          "metadata": {},
          "execution_count": 52
        }
      ]
    },
    {
      "cell_type": "code",
      "source": [
        "sum(d_max_open_logits)/10000"
      ],
      "metadata": {
        "colab": {
          "base_uri": "https://localhost:8080/"
        },
        "id": "q9qeEfQdLTrm",
        "outputId": "ba53b345-d173-4d87-9864-179029f056fd"
      },
      "execution_count": null,
      "outputs": [
        {
          "output_type": "execute_result",
          "data": {
            "text/plain": [
              "7.152337114357948"
            ]
          },
          "metadata": {},
          "execution_count": 53
        }
      ]
    },
    {
      "cell_type": "code",
      "source": [
        "d_open_logits[0]"
      ],
      "metadata": {
        "id": "SvgsP1BYQvKn"
      },
      "execution_count": null,
      "outputs": []
    },
    {
      "cell_type": "code",
      "source": [
        "d_max_open_logits[0]"
      ],
      "metadata": {
        "id": "eK6kQe6YQyW7"
      },
      "execution_count": null,
      "outputs": []
    },
    {
      "cell_type": "code",
      "source": [
        "diff_open=[]\n",
        "for i in range(10000):\n",
        "  diff_open.append(d_max_open_logits[i]-d_open_logits[i])\n",
        "diff_closed=[]\n",
        "for i in range(10000):\n",
        "  diff_closed.append(d_max_closed_logits[i]-d_closed_logits[i])"
      ],
      "metadata": {
        "id": "_XmMqhpLL77b"
      },
      "execution_count": null,
      "outputs": []
    },
    {
      "cell_type": "code",
      "source": [
        "sum(diff_open)"
      ],
      "metadata": {
        "colab": {
          "base_uri": "https://localhost:8080/"
        },
        "id": "eYbEiRg7MPnZ",
        "outputId": "810d6e96-8384-4395-8629-5e1dda186eab"
      },
      "execution_count": null,
      "outputs": [
        {
          "output_type": "execute_result",
          "data": {
            "text/plain": [
              "78031.38374973461"
            ]
          },
          "metadata": {},
          "execution_count": 55
        }
      ]
    },
    {
      "cell_type": "code",
      "source": [
        "sum(diff_closed)"
      ],
      "metadata": {
        "colab": {
          "base_uri": "https://localhost:8080/"
        },
        "id": "4gqg-VvNMTG2",
        "outputId": "fa5a4611-2586-4849-d894-005d818a01ef"
      },
      "execution_count": null,
      "outputs": [
        {
          "output_type": "execute_result",
          "data": {
            "text/plain": [
              "97256.63164092973"
            ]
          },
          "metadata": {},
          "execution_count": 56
        }
      ]
    },
    {
      "cell_type": "code",
      "source": [
        "closed_logits.sort()\n"
      ],
      "metadata": {
        "id": "xKbdEs7FGbOg"
      },
      "execution_count": null,
      "outputs": []
    },
    {
      "cell_type": "code",
      "source": [
        "len(closed_logits)"
      ],
      "metadata": {
        "id": "nfvsQdVnG06u"
      },
      "execution_count": null,
      "outputs": []
    },
    {
      "cell_type": "code",
      "source": [
        "closed_logits[7500]"
      ],
      "metadata": {
        "id": "E87kj0fTGqj1"
      },
      "execution_count": null,
      "outputs": []
    },
    {
      "cell_type": "code",
      "source": [
        "open_logits.sort()"
      ],
      "metadata": {
        "id": "1ZrE1dC1FVRM"
      },
      "execution_count": null,
      "outputs": []
    },
    {
      "cell_type": "code",
      "source": [
        "open_logits[7500]"
      ],
      "metadata": {
        "id": "Vf26bM7fG_MH"
      },
      "execution_count": null,
      "outputs": []
    },
    {
      "cell_type": "code",
      "source": [
        "df2 = pd.read_csv(\"/content/drive/MyDrive/ASU/ood_test_data_small.csv\")"
      ],
      "metadata": {
        "id": "F2RVrY9bEqiz"
      },
      "execution_count": null,
      "outputs": []
    },
    {
      "cell_type": "code",
      "source": [
        "df2[\"N_plus_one_prediction\"] = predictions"
      ],
      "metadata": {
        "id": "BW69RUlREqlW"
      },
      "execution_count": null,
      "outputs": []
    },
    {
      "cell_type": "code",
      "source": [
        "df2.head(10)"
      ],
      "metadata": {
        "id": "2fBN-gGAEqns",
        "colab": {
          "base_uri": "https://localhost:8080/",
          "height": 363
        },
        "outputId": "c073f5a8-3122-47f6-a6e4-db953b7be7bd"
      },
      "execution_count": null,
      "outputs": [
        {
          "output_type": "execute_result",
          "data": {
            "text/plain": [
              "           author  real_label  label  \\\n",
              "0  A11OTLEDSW8ZXD          44     44   \n",
              "1  A11OTLEDSW8ZXD          44     44   \n",
              "2  A11OTLEDSW8ZXD          44     44   \n",
              "3  A11OTLEDSW8ZXD          44     44   \n",
              "4  A11OTLEDSW8ZXD          44     44   \n",
              "5  A11OTLEDSW8ZXD          44     44   \n",
              "6  A11OTLEDSW8ZXD          44     44   \n",
              "7  A11OTLEDSW8ZXD          44     44   \n",
              "8  A11OTLEDSW8ZXD          44     44   \n",
              "9  A11OTLEDSW8ZXD          44     44   \n",
              "\n",
              "                                              review      product_domain  \\\n",
              "0  I bought this battery charger a year ago, when...  automotive.json.gz   \n",
              "1  I bought this because with four geriatric vehi...  automotive.json.gz   \n",
              "2  I was a tad skeptical of the outcome after see...  automotive.json.gz   \n",
              "3  I insist on every one of my vehicles to have a...  automotive.json.gz   \n",
              "4  This is a very well-made top grain cow leather...  automotive.json.gz   \n",
              "5  At first I was pleased to get this roller shad...  automotive.json.gz   \n",
              "6  This strap appears well-made, with inch-thick ...  automotive.json.gz   \n",
              "7  For a quick, overall shine on chrome and plast...  automotive.json.gz   \n",
              "8  This balaclava comes in a small, bubble-wrap p...  automotive.json.gz   \n",
              "9  This is an impressive car jump battery pack wi...  automotive.json.gz   \n",
              "\n",
              "   overall  #words  N_plus_one_prediction  \n",
              "0      5.0     330                    100  \n",
              "1      5.0     170                     44  \n",
              "2      4.0     315                     44  \n",
              "3      5.0     167                     44  \n",
              "4      5.0     191                     44  \n",
              "5      4.0     137                     90  \n",
              "6      4.0      84                     44  \n",
              "7      4.0     110                     44  \n",
              "8      5.0     161                     44  \n",
              "9      5.0     317                     44  "
            ],
            "text/html": [
              "\n",
              "  <div id=\"df-40384ec9-9279-47e7-af25-e634df9ebd49\">\n",
              "    <div class=\"colab-df-container\">\n",
              "      <div>\n",
              "<style scoped>\n",
              "    .dataframe tbody tr th:only-of-type {\n",
              "        vertical-align: middle;\n",
              "    }\n",
              "\n",
              "    .dataframe tbody tr th {\n",
              "        vertical-align: top;\n",
              "    }\n",
              "\n",
              "    .dataframe thead th {\n",
              "        text-align: right;\n",
              "    }\n",
              "</style>\n",
              "<table border=\"1\" class=\"dataframe\">\n",
              "  <thead>\n",
              "    <tr style=\"text-align: right;\">\n",
              "      <th></th>\n",
              "      <th>author</th>\n",
              "      <th>real_label</th>\n",
              "      <th>label</th>\n",
              "      <th>review</th>\n",
              "      <th>product_domain</th>\n",
              "      <th>overall</th>\n",
              "      <th>#words</th>\n",
              "      <th>N_plus_one_prediction</th>\n",
              "    </tr>\n",
              "  </thead>\n",
              "  <tbody>\n",
              "    <tr>\n",
              "      <th>0</th>\n",
              "      <td>A11OTLEDSW8ZXD</td>\n",
              "      <td>44</td>\n",
              "      <td>44</td>\n",
              "      <td>I bought this battery charger a year ago, when...</td>\n",
              "      <td>automotive.json.gz</td>\n",
              "      <td>5.0</td>\n",
              "      <td>330</td>\n",
              "      <td>100</td>\n",
              "    </tr>\n",
              "    <tr>\n",
              "      <th>1</th>\n",
              "      <td>A11OTLEDSW8ZXD</td>\n",
              "      <td>44</td>\n",
              "      <td>44</td>\n",
              "      <td>I bought this because with four geriatric vehi...</td>\n",
              "      <td>automotive.json.gz</td>\n",
              "      <td>5.0</td>\n",
              "      <td>170</td>\n",
              "      <td>44</td>\n",
              "    </tr>\n",
              "    <tr>\n",
              "      <th>2</th>\n",
              "      <td>A11OTLEDSW8ZXD</td>\n",
              "      <td>44</td>\n",
              "      <td>44</td>\n",
              "      <td>I was a tad skeptical of the outcome after see...</td>\n",
              "      <td>automotive.json.gz</td>\n",
              "      <td>4.0</td>\n",
              "      <td>315</td>\n",
              "      <td>44</td>\n",
              "    </tr>\n",
              "    <tr>\n",
              "      <th>3</th>\n",
              "      <td>A11OTLEDSW8ZXD</td>\n",
              "      <td>44</td>\n",
              "      <td>44</td>\n",
              "      <td>I insist on every one of my vehicles to have a...</td>\n",
              "      <td>automotive.json.gz</td>\n",
              "      <td>5.0</td>\n",
              "      <td>167</td>\n",
              "      <td>44</td>\n",
              "    </tr>\n",
              "    <tr>\n",
              "      <th>4</th>\n",
              "      <td>A11OTLEDSW8ZXD</td>\n",
              "      <td>44</td>\n",
              "      <td>44</td>\n",
              "      <td>This is a very well-made top grain cow leather...</td>\n",
              "      <td>automotive.json.gz</td>\n",
              "      <td>5.0</td>\n",
              "      <td>191</td>\n",
              "      <td>44</td>\n",
              "    </tr>\n",
              "    <tr>\n",
              "      <th>5</th>\n",
              "      <td>A11OTLEDSW8ZXD</td>\n",
              "      <td>44</td>\n",
              "      <td>44</td>\n",
              "      <td>At first I was pleased to get this roller shad...</td>\n",
              "      <td>automotive.json.gz</td>\n",
              "      <td>4.0</td>\n",
              "      <td>137</td>\n",
              "      <td>90</td>\n",
              "    </tr>\n",
              "    <tr>\n",
              "      <th>6</th>\n",
              "      <td>A11OTLEDSW8ZXD</td>\n",
              "      <td>44</td>\n",
              "      <td>44</td>\n",
              "      <td>This strap appears well-made, with inch-thick ...</td>\n",
              "      <td>automotive.json.gz</td>\n",
              "      <td>4.0</td>\n",
              "      <td>84</td>\n",
              "      <td>44</td>\n",
              "    </tr>\n",
              "    <tr>\n",
              "      <th>7</th>\n",
              "      <td>A11OTLEDSW8ZXD</td>\n",
              "      <td>44</td>\n",
              "      <td>44</td>\n",
              "      <td>For a quick, overall shine on chrome and plast...</td>\n",
              "      <td>automotive.json.gz</td>\n",
              "      <td>4.0</td>\n",
              "      <td>110</td>\n",
              "      <td>44</td>\n",
              "    </tr>\n",
              "    <tr>\n",
              "      <th>8</th>\n",
              "      <td>A11OTLEDSW8ZXD</td>\n",
              "      <td>44</td>\n",
              "      <td>44</td>\n",
              "      <td>This balaclava comes in a small, bubble-wrap p...</td>\n",
              "      <td>automotive.json.gz</td>\n",
              "      <td>5.0</td>\n",
              "      <td>161</td>\n",
              "      <td>44</td>\n",
              "    </tr>\n",
              "    <tr>\n",
              "      <th>9</th>\n",
              "      <td>A11OTLEDSW8ZXD</td>\n",
              "      <td>44</td>\n",
              "      <td>44</td>\n",
              "      <td>This is an impressive car jump battery pack wi...</td>\n",
              "      <td>automotive.json.gz</td>\n",
              "      <td>5.0</td>\n",
              "      <td>317</td>\n",
              "      <td>44</td>\n",
              "    </tr>\n",
              "  </tbody>\n",
              "</table>\n",
              "</div>\n",
              "      <button class=\"colab-df-convert\" onclick=\"convertToInteractive('df-40384ec9-9279-47e7-af25-e634df9ebd49')\"\n",
              "              title=\"Convert this dataframe to an interactive table.\"\n",
              "              style=\"display:none;\">\n",
              "        \n",
              "  <svg xmlns=\"http://www.w3.org/2000/svg\" height=\"24px\"viewBox=\"0 0 24 24\"\n",
              "       width=\"24px\">\n",
              "    <path d=\"M0 0h24v24H0V0z\" fill=\"none\"/>\n",
              "    <path d=\"M18.56 5.44l.94 2.06.94-2.06 2.06-.94-2.06-.94-.94-2.06-.94 2.06-2.06.94zm-11 1L8.5 8.5l.94-2.06 2.06-.94-2.06-.94L8.5 2.5l-.94 2.06-2.06.94zm10 10l.94 2.06.94-2.06 2.06-.94-2.06-.94-.94-2.06-.94 2.06-2.06.94z\"/><path d=\"M17.41 7.96l-1.37-1.37c-.4-.4-.92-.59-1.43-.59-.52 0-1.04.2-1.43.59L10.3 9.45l-7.72 7.72c-.78.78-.78 2.05 0 2.83L4 21.41c.39.39.9.59 1.41.59.51 0 1.02-.2 1.41-.59l7.78-7.78 2.81-2.81c.8-.78.8-2.07 0-2.86zM5.41 20L4 18.59l7.72-7.72 1.47 1.35L5.41 20z\"/>\n",
              "  </svg>\n",
              "      </button>\n",
              "      \n",
              "  <style>\n",
              "    .colab-df-container {\n",
              "      display:flex;\n",
              "      flex-wrap:wrap;\n",
              "      gap: 12px;\n",
              "    }\n",
              "\n",
              "    .colab-df-convert {\n",
              "      background-color: #E8F0FE;\n",
              "      border: none;\n",
              "      border-radius: 50%;\n",
              "      cursor: pointer;\n",
              "      display: none;\n",
              "      fill: #1967D2;\n",
              "      height: 32px;\n",
              "      padding: 0 0 0 0;\n",
              "      width: 32px;\n",
              "    }\n",
              "\n",
              "    .colab-df-convert:hover {\n",
              "      background-color: #E2EBFA;\n",
              "      box-shadow: 0px 1px 2px rgba(60, 64, 67, 0.3), 0px 1px 3px 1px rgba(60, 64, 67, 0.15);\n",
              "      fill: #174EA6;\n",
              "    }\n",
              "\n",
              "    [theme=dark] .colab-df-convert {\n",
              "      background-color: #3B4455;\n",
              "      fill: #D2E3FC;\n",
              "    }\n",
              "\n",
              "    [theme=dark] .colab-df-convert:hover {\n",
              "      background-color: #434B5C;\n",
              "      box-shadow: 0px 1px 3px 1px rgba(0, 0, 0, 0.15);\n",
              "      filter: drop-shadow(0px 1px 2px rgba(0, 0, 0, 0.3));\n",
              "      fill: #FFFFFF;\n",
              "    }\n",
              "  </style>\n",
              "\n",
              "      <script>\n",
              "        const buttonEl =\n",
              "          document.querySelector('#df-40384ec9-9279-47e7-af25-e634df9ebd49 button.colab-df-convert');\n",
              "        buttonEl.style.display =\n",
              "          google.colab.kernel.accessAllowed ? 'block' : 'none';\n",
              "\n",
              "        async function convertToInteractive(key) {\n",
              "          const element = document.querySelector('#df-40384ec9-9279-47e7-af25-e634df9ebd49');\n",
              "          const dataTable =\n",
              "            await google.colab.kernel.invokeFunction('convertToInteractive',\n",
              "                                                     [key], {});\n",
              "          if (!dataTable) return;\n",
              "\n",
              "          const docLinkHtml = 'Like what you see? Visit the ' +\n",
              "            '<a target=\"_blank\" href=https://colab.research.google.com/notebooks/data_table.ipynb>data table notebook</a>'\n",
              "            + ' to learn more about interactive tables.';\n",
              "          element.innerHTML = '';\n",
              "          dataTable['output_type'] = 'display_data';\n",
              "          await google.colab.output.renderOutput(dataTable, element);\n",
              "          const docLink = document.createElement('div');\n",
              "          docLink.innerHTML = docLinkHtml;\n",
              "          element.appendChild(docLink);\n",
              "        }\n",
              "      </script>\n",
              "    </div>\n",
              "  </div>\n",
              "  "
            ]
          },
          "metadata": {},
          "execution_count": 57
        }
      ]
    },
    {
      "cell_type": "code",
      "source": [
        "df2['N_plus_one_prediction'] = df2['N_plus_one_prediction'].replace([100], 'OOD')"
      ],
      "metadata": {
        "id": "wBKF73DMDBRe"
      },
      "execution_count": null,
      "outputs": []
    },
    {
      "cell_type": "code",
      "source": [
        "df2.head(10)"
      ],
      "metadata": {
        "id": "jJouIT3XDBT_",
        "colab": {
          "base_uri": "https://localhost:8080/",
          "height": 363
        },
        "outputId": "201627d6-7db9-460b-c528-0b0a87cd33bd"
      },
      "execution_count": null,
      "outputs": [
        {
          "output_type": "execute_result",
          "data": {
            "text/plain": [
              "           author  real_label  label  \\\n",
              "0  A11OTLEDSW8ZXD          44     44   \n",
              "1  A11OTLEDSW8ZXD          44     44   \n",
              "2  A11OTLEDSW8ZXD          44     44   \n",
              "3  A11OTLEDSW8ZXD          44     44   \n",
              "4  A11OTLEDSW8ZXD          44     44   \n",
              "5  A11OTLEDSW8ZXD          44     44   \n",
              "6  A11OTLEDSW8ZXD          44     44   \n",
              "7  A11OTLEDSW8ZXD          44     44   \n",
              "8  A11OTLEDSW8ZXD          44     44   \n",
              "9  A11OTLEDSW8ZXD          44     44   \n",
              "\n",
              "                                              review      product_domain  \\\n",
              "0  I bought this battery charger a year ago, when...  automotive.json.gz   \n",
              "1  I bought this because with four geriatric vehi...  automotive.json.gz   \n",
              "2  I was a tad skeptical of the outcome after see...  automotive.json.gz   \n",
              "3  I insist on every one of my vehicles to have a...  automotive.json.gz   \n",
              "4  This is a very well-made top grain cow leather...  automotive.json.gz   \n",
              "5  At first I was pleased to get this roller shad...  automotive.json.gz   \n",
              "6  This strap appears well-made, with inch-thick ...  automotive.json.gz   \n",
              "7  For a quick, overall shine on chrome and plast...  automotive.json.gz   \n",
              "8  This balaclava comes in a small, bubble-wrap p...  automotive.json.gz   \n",
              "9  This is an impressive car jump battery pack wi...  automotive.json.gz   \n",
              "\n",
              "   overall  #words N_plus_one_prediction  \n",
              "0      5.0     330                   OOD  \n",
              "1      5.0     170                    44  \n",
              "2      4.0     315                    44  \n",
              "3      5.0     167                    44  \n",
              "4      5.0     191                    44  \n",
              "5      4.0     137                    90  \n",
              "6      4.0      84                    44  \n",
              "7      4.0     110                    44  \n",
              "8      5.0     161                    44  \n",
              "9      5.0     317                    44  "
            ],
            "text/html": [
              "\n",
              "  <div id=\"df-99ca19e0-8289-4132-b956-d29916e2c3d6\">\n",
              "    <div class=\"colab-df-container\">\n",
              "      <div>\n",
              "<style scoped>\n",
              "    .dataframe tbody tr th:only-of-type {\n",
              "        vertical-align: middle;\n",
              "    }\n",
              "\n",
              "    .dataframe tbody tr th {\n",
              "        vertical-align: top;\n",
              "    }\n",
              "\n",
              "    .dataframe thead th {\n",
              "        text-align: right;\n",
              "    }\n",
              "</style>\n",
              "<table border=\"1\" class=\"dataframe\">\n",
              "  <thead>\n",
              "    <tr style=\"text-align: right;\">\n",
              "      <th></th>\n",
              "      <th>author</th>\n",
              "      <th>real_label</th>\n",
              "      <th>label</th>\n",
              "      <th>review</th>\n",
              "      <th>product_domain</th>\n",
              "      <th>overall</th>\n",
              "      <th>#words</th>\n",
              "      <th>N_plus_one_prediction</th>\n",
              "    </tr>\n",
              "  </thead>\n",
              "  <tbody>\n",
              "    <tr>\n",
              "      <th>0</th>\n",
              "      <td>A11OTLEDSW8ZXD</td>\n",
              "      <td>44</td>\n",
              "      <td>44</td>\n",
              "      <td>I bought this battery charger a year ago, when...</td>\n",
              "      <td>automotive.json.gz</td>\n",
              "      <td>5.0</td>\n",
              "      <td>330</td>\n",
              "      <td>OOD</td>\n",
              "    </tr>\n",
              "    <tr>\n",
              "      <th>1</th>\n",
              "      <td>A11OTLEDSW8ZXD</td>\n",
              "      <td>44</td>\n",
              "      <td>44</td>\n",
              "      <td>I bought this because with four geriatric vehi...</td>\n",
              "      <td>automotive.json.gz</td>\n",
              "      <td>5.0</td>\n",
              "      <td>170</td>\n",
              "      <td>44</td>\n",
              "    </tr>\n",
              "    <tr>\n",
              "      <th>2</th>\n",
              "      <td>A11OTLEDSW8ZXD</td>\n",
              "      <td>44</td>\n",
              "      <td>44</td>\n",
              "      <td>I was a tad skeptical of the outcome after see...</td>\n",
              "      <td>automotive.json.gz</td>\n",
              "      <td>4.0</td>\n",
              "      <td>315</td>\n",
              "      <td>44</td>\n",
              "    </tr>\n",
              "    <tr>\n",
              "      <th>3</th>\n",
              "      <td>A11OTLEDSW8ZXD</td>\n",
              "      <td>44</td>\n",
              "      <td>44</td>\n",
              "      <td>I insist on every one of my vehicles to have a...</td>\n",
              "      <td>automotive.json.gz</td>\n",
              "      <td>5.0</td>\n",
              "      <td>167</td>\n",
              "      <td>44</td>\n",
              "    </tr>\n",
              "    <tr>\n",
              "      <th>4</th>\n",
              "      <td>A11OTLEDSW8ZXD</td>\n",
              "      <td>44</td>\n",
              "      <td>44</td>\n",
              "      <td>This is a very well-made top grain cow leather...</td>\n",
              "      <td>automotive.json.gz</td>\n",
              "      <td>5.0</td>\n",
              "      <td>191</td>\n",
              "      <td>44</td>\n",
              "    </tr>\n",
              "    <tr>\n",
              "      <th>5</th>\n",
              "      <td>A11OTLEDSW8ZXD</td>\n",
              "      <td>44</td>\n",
              "      <td>44</td>\n",
              "      <td>At first I was pleased to get this roller shad...</td>\n",
              "      <td>automotive.json.gz</td>\n",
              "      <td>4.0</td>\n",
              "      <td>137</td>\n",
              "      <td>90</td>\n",
              "    </tr>\n",
              "    <tr>\n",
              "      <th>6</th>\n",
              "      <td>A11OTLEDSW8ZXD</td>\n",
              "      <td>44</td>\n",
              "      <td>44</td>\n",
              "      <td>This strap appears well-made, with inch-thick ...</td>\n",
              "      <td>automotive.json.gz</td>\n",
              "      <td>4.0</td>\n",
              "      <td>84</td>\n",
              "      <td>44</td>\n",
              "    </tr>\n",
              "    <tr>\n",
              "      <th>7</th>\n",
              "      <td>A11OTLEDSW8ZXD</td>\n",
              "      <td>44</td>\n",
              "      <td>44</td>\n",
              "      <td>For a quick, overall shine on chrome and plast...</td>\n",
              "      <td>automotive.json.gz</td>\n",
              "      <td>4.0</td>\n",
              "      <td>110</td>\n",
              "      <td>44</td>\n",
              "    </tr>\n",
              "    <tr>\n",
              "      <th>8</th>\n",
              "      <td>A11OTLEDSW8ZXD</td>\n",
              "      <td>44</td>\n",
              "      <td>44</td>\n",
              "      <td>This balaclava comes in a small, bubble-wrap p...</td>\n",
              "      <td>automotive.json.gz</td>\n",
              "      <td>5.0</td>\n",
              "      <td>161</td>\n",
              "      <td>44</td>\n",
              "    </tr>\n",
              "    <tr>\n",
              "      <th>9</th>\n",
              "      <td>A11OTLEDSW8ZXD</td>\n",
              "      <td>44</td>\n",
              "      <td>44</td>\n",
              "      <td>This is an impressive car jump battery pack wi...</td>\n",
              "      <td>automotive.json.gz</td>\n",
              "      <td>5.0</td>\n",
              "      <td>317</td>\n",
              "      <td>44</td>\n",
              "    </tr>\n",
              "  </tbody>\n",
              "</table>\n",
              "</div>\n",
              "      <button class=\"colab-df-convert\" onclick=\"convertToInteractive('df-99ca19e0-8289-4132-b956-d29916e2c3d6')\"\n",
              "              title=\"Convert this dataframe to an interactive table.\"\n",
              "              style=\"display:none;\">\n",
              "        \n",
              "  <svg xmlns=\"http://www.w3.org/2000/svg\" height=\"24px\"viewBox=\"0 0 24 24\"\n",
              "       width=\"24px\">\n",
              "    <path d=\"M0 0h24v24H0V0z\" fill=\"none\"/>\n",
              "    <path d=\"M18.56 5.44l.94 2.06.94-2.06 2.06-.94-2.06-.94-.94-2.06-.94 2.06-2.06.94zm-11 1L8.5 8.5l.94-2.06 2.06-.94-2.06-.94L8.5 2.5l-.94 2.06-2.06.94zm10 10l.94 2.06.94-2.06 2.06-.94-2.06-.94-.94-2.06-.94 2.06-2.06.94z\"/><path d=\"M17.41 7.96l-1.37-1.37c-.4-.4-.92-.59-1.43-.59-.52 0-1.04.2-1.43.59L10.3 9.45l-7.72 7.72c-.78.78-.78 2.05 0 2.83L4 21.41c.39.39.9.59 1.41.59.51 0 1.02-.2 1.41-.59l7.78-7.78 2.81-2.81c.8-.78.8-2.07 0-2.86zM5.41 20L4 18.59l7.72-7.72 1.47 1.35L5.41 20z\"/>\n",
              "  </svg>\n",
              "      </button>\n",
              "      \n",
              "  <style>\n",
              "    .colab-df-container {\n",
              "      display:flex;\n",
              "      flex-wrap:wrap;\n",
              "      gap: 12px;\n",
              "    }\n",
              "\n",
              "    .colab-df-convert {\n",
              "      background-color: #E8F0FE;\n",
              "      border: none;\n",
              "      border-radius: 50%;\n",
              "      cursor: pointer;\n",
              "      display: none;\n",
              "      fill: #1967D2;\n",
              "      height: 32px;\n",
              "      padding: 0 0 0 0;\n",
              "      width: 32px;\n",
              "    }\n",
              "\n",
              "    .colab-df-convert:hover {\n",
              "      background-color: #E2EBFA;\n",
              "      box-shadow: 0px 1px 2px rgba(60, 64, 67, 0.3), 0px 1px 3px 1px rgba(60, 64, 67, 0.15);\n",
              "      fill: #174EA6;\n",
              "    }\n",
              "\n",
              "    [theme=dark] .colab-df-convert {\n",
              "      background-color: #3B4455;\n",
              "      fill: #D2E3FC;\n",
              "    }\n",
              "\n",
              "    [theme=dark] .colab-df-convert:hover {\n",
              "      background-color: #434B5C;\n",
              "      box-shadow: 0px 1px 3px 1px rgba(0, 0, 0, 0.15);\n",
              "      filter: drop-shadow(0px 1px 2px rgba(0, 0, 0, 0.3));\n",
              "      fill: #FFFFFF;\n",
              "    }\n",
              "  </style>\n",
              "\n",
              "      <script>\n",
              "        const buttonEl =\n",
              "          document.querySelector('#df-99ca19e0-8289-4132-b956-d29916e2c3d6 button.colab-df-convert');\n",
              "        buttonEl.style.display =\n",
              "          google.colab.kernel.accessAllowed ? 'block' : 'none';\n",
              "\n",
              "        async function convertToInteractive(key) {\n",
              "          const element = document.querySelector('#df-99ca19e0-8289-4132-b956-d29916e2c3d6');\n",
              "          const dataTable =\n",
              "            await google.colab.kernel.invokeFunction('convertToInteractive',\n",
              "                                                     [key], {});\n",
              "          if (!dataTable) return;\n",
              "\n",
              "          const docLinkHtml = 'Like what you see? Visit the ' +\n",
              "            '<a target=\"_blank\" href=https://colab.research.google.com/notebooks/data_table.ipynb>data table notebook</a>'\n",
              "            + ' to learn more about interactive tables.';\n",
              "          element.innerHTML = '';\n",
              "          dataTable['output_type'] = 'display_data';\n",
              "          await google.colab.output.renderOutput(dataTable, element);\n",
              "          const docLink = document.createElement('div');\n",
              "          docLink.innerHTML = docLinkHtml;\n",
              "          element.appendChild(docLink);\n",
              "        }\n",
              "      </script>\n",
              "    </div>\n",
              "  </div>\n",
              "  "
            ]
          },
          "metadata": {},
          "execution_count": 59
        }
      ]
    },
    {
      "cell_type": "code",
      "source": [
        "combined_df = df2\n",
        "number_of_known_labels = 100"
      ],
      "metadata": {
        "id": "SM5dK89wE3vJ"
      },
      "execution_count": null,
      "outputs": []
    },
    {
      "cell_type": "code",
      "source": [
        "\n",
        "def compute_precision_recall_for_known_classes(given_label):\n",
        "    TP = combined_df[(combined_df[\"real_label\"] == given_label) & (combined_df[\"N_plus_one_prediction\"] == given_label)].shape[0]\n",
        "    FP = combined_df[(combined_df[\"real_label\"] != given_label) & (combined_df[\"N_plus_one_prediction\"] == given_label)].shape[0]\n",
        "    FN = combined_df[(combined_df[\"real_label\"] == given_label) & (combined_df[\"N_plus_one_prediction\"] != given_label)].shape[0]\n",
        "    if(TP == 0):\n",
        "        P = 0\n",
        "        R = 0\n",
        "    else:\n",
        "        P = round(100*TP/(TP + FP), 2)\n",
        "        R = round(100*TP/(TP + FN),2)\n",
        "    return P, R"
      ],
      "metadata": {
        "id": "qh14Qz0BE6Nb"
      },
      "execution_count": null,
      "outputs": []
    },
    {
      "cell_type": "code",
      "source": [
        "def compute_precision_recall_for_OOD():\n",
        "    TP = combined_df[(combined_df[\"real_label\"] >= number_of_known_labels) & (combined_df[\"N_plus_one_prediction\"] == \"OOD\")].shape[0]\n",
        "    FP = combined_df[(combined_df[\"real_label\"] < number_of_known_labels) & (combined_df[\"N_plus_one_prediction\"] == \"OOD\")].shape[0]\n",
        "    FN = combined_df[(combined_df[\"real_label\"] >= number_of_known_labels) & (combined_df[\"N_plus_one_prediction\"] != \"OOD\")].shape[0]\n",
        "    if(TP == 0):\n",
        "        P = 0\n",
        "        R = 0\n",
        "    else:\n",
        "        P = 100*TP/(TP + FP)\n",
        "        R = 100*TP/(TP + FN)\n",
        "    return P, R"
      ],
      "metadata": {
        "id": "8j-SbwRhE8pv"
      },
      "execution_count": null,
      "outputs": []
    },
    {
      "cell_type": "code",
      "source": [
        "\n",
        "\n",
        "\n",
        "\n",
        "def compute_performance_metrics():\n",
        "    from statistics import mean\n",
        "    \n",
        "    precisions = []\n",
        "    recalls = []\n",
        "    for known_label in range(number_of_known_labels):\n",
        "        p, r = compute_precision_recall_for_known_classes(known_label)\n",
        "        precisions.append(p)\n",
        "        recalls.append(r)\n",
        "    \n",
        "    precision_known, recall_known = round(mean(precisions),2), round(mean(recalls),2)\n",
        "    f1_known = round(2*precision_known*recall_known/(precision_known + recall_known),2)\n",
        "    \n",
        "    precision_ood, recall_ood = compute_precision_recall_for_OOD()\n",
        "    f1_ood = round(2*precision_ood*recall_ood/(precision_ood + recall_ood),2)\n",
        "    \n",
        "    precisions.append(precision_ood)\n",
        "    recalls.append(recall_ood)\n",
        "    \n",
        "    precision, recall = round(mean(precisions),2), round(mean(recalls),2)\n",
        "    f1 = round(2*precision*recall/(precision + recall),2)\n",
        "    \n",
        "    return {\n",
        "        \"known\": {\n",
        "            \"precision\": precision_known,\n",
        "            \"recall\": recall_known,\n",
        "            \"f1\": f1_known,\n",
        "        },\n",
        "        \"ood\": {\n",
        "            \"precision\": round(precision_ood,2),\n",
        "            \"recall\": round(recall_ood,2),\n",
        "            \"f1\": f1_ood,\n",
        "        },\n",
        "        \"overall\": {\n",
        "            \"precision\": precision,\n",
        "            \"recall\": recall,\n",
        "            \"f1\": f1,\n",
        "        }\n",
        "        \n",
        "    }"
      ],
      "metadata": {
        "id": "dcm1s1L9DBWj"
      },
      "execution_count": null,
      "outputs": []
    },
    {
      "cell_type": "code",
      "source": [
        "def print_performance_metrics():\n",
        "    performance_dict = compute_performance_metrics()\n",
        "    print(performance_dict[\"known\"][\"precision\"],performance_dict[\"known\"][\"recall\"],performance_dict[\"known\"][\"f1\"], end = \" \")\n",
        "    print(performance_dict[\"ood\"][\"precision\"],performance_dict[\"ood\"][\"recall\"],performance_dict[\"ood\"][\"f1\"], end = \" \")\n",
        "    print(performance_dict[\"overall\"][\"precision\"],performance_dict[\"overall\"][\"recall\"],performance_dict[\"overall\"][\"f1\"], end = \" \")"
      ],
      "metadata": {
        "id": "u_qJq3p1FAfp"
      },
      "execution_count": null,
      "outputs": []
    },
    {
      "cell_type": "code",
      "source": [
        "print_performance_metrics()"
      ],
      "metadata": {
        "id": "6lf4Y5uADBY7",
        "colab": {
          "base_uri": "https://localhost:8080/"
        },
        "outputId": "0a9d8981-f28c-4077-97cc-5988121b4089"
      },
      "execution_count": null,
      "outputs": [
        {
          "output_type": "stream",
          "name": "stdout",
          "text": [
            "69.45 70.23 69.84 74.12 69.13 71.54 69.49 70.22 69.85 "
          ]
        }
      ]
    },
    {
      "cell_type": "code",
      "source": [
        "   macro avg      0.517     0.797     0.607     20000\n",
        "weighted avg      0.684     0.506     0.473     20000"
      ],
      "metadata": {
        "id": "JFej9rsIDBg0"
      },
      "execution_count": null,
      "outputs": []
    },
    {
      "cell_type": "code",
      "source": [
        "np.unique(predictions)"
      ],
      "metadata": {
        "id": "bKDOI2t9EqrL"
      },
      "execution_count": null,
      "outputs": []
    },
    {
      "cell_type": "code",
      "source": [
        "np.unique(true_labels)"
      ],
      "metadata": {
        "id": "egodBhBSEtpc"
      },
      "execution_count": null,
      "outputs": []
    },
    {
      "cell_type": "code",
      "source": [
        "len(predictions)"
      ],
      "metadata": {
        "id": "0HKrQAksEwKW"
      },
      "execution_count": null,
      "outputs": []
    },
    {
      "cell_type": "code",
      "source": [
        "predictions.count(100)"
      ],
      "metadata": {
        "id": "wBbavERSEyLz"
      },
      "execution_count": null,
      "outputs": []
    },
    {
      "cell_type": "code",
      "source": [
        "predictions.count(100)/len(predictions)"
      ],
      "metadata": {
        "id": "JRtw9ANqE0Wf"
      },
      "execution_count": null,
      "outputs": []
    },
    {
      "cell_type": "code",
      "source": [
        "#known classes\n",
        "from sklearn.metrics import classification_report\n",
        "\n",
        "result_report= classification_report(true_labels, predictions, digits=3, output_dict=False)\n",
        "print(result_report)"
      ],
      "metadata": {
        "id": "KlC333pBAdmX"
      },
      "execution_count": null,
      "outputs": []
    },
    {
      "cell_type": "code",
      "source": [
        "#unknown classes\n",
        "from sklearn.metrics import classification_report\n",
        "\n",
        "result_report= classification_report(true_labels, predictions, digits=3, output_dict=False)\n",
        "print(result_report)"
      ],
      "metadata": {
        "id": "pYFZ2ppkjaNI"
      },
      "execution_count": null,
      "outputs": []
    },
    {
      "cell_type": "code",
      "source": [],
      "metadata": {
        "id": "caVFv6ShYsbv"
      },
      "execution_count": null,
      "outputs": []
    },
    {
      "cell_type": "code",
      "source": [],
      "metadata": {
        "id": "aIxAXegHYzBu"
      },
      "execution_count": null,
      "outputs": []
    },
    {
      "cell_type": "code",
      "source": [],
      "metadata": {
        "id": "vW7Ch9PyYzEe"
      },
      "execution_count": null,
      "outputs": []
    },
    {
      "cell_type": "code",
      "source": [],
      "metadata": {
        "id": "893z078eYzG_"
      },
      "execution_count": null,
      "outputs": []
    },
    {
      "cell_type": "code",
      "source": [],
      "metadata": {
        "id": "yQSlpEx2YzKe"
      },
      "execution_count": null,
      "outputs": []
    },
    {
      "cell_type": "code",
      "source": [
        "import json\n",
        "your_json_string = result_report\n",
        "json_object = json.dumps(your_json_string, indent=4, ensure_ascii=False)\n",
        "\n",
        "with open(\"results_1222715130.json\", \"w\") as outfile:\n",
        "    outfile.write(json_object)"
      ],
      "metadata": {
        "id": "yCI-Fs67AdpI"
      },
      "execution_count": null,
      "outputs": []
    },
    {
      "cell_type": "code",
      "source": [],
      "metadata": {
        "id": "CMuNjK5gAdre"
      },
      "execution_count": null,
      "outputs": []
    },
    {
      "cell_type": "code",
      "source": [
        "\n",
        "predictions_ , true_labels_ = [], []\n",
        "for batch in prediction_dataloader:\n",
        "  # Add batch to GPU\n",
        "  batch = tuple(t.to(device) for t in batch)\n",
        "  \n",
        "  # Unpack the inputs from our dataloader\n",
        "  b_input_ids, b_input_mask, b_labels = batch\n",
        "  \n",
        "  # Telling the model not to compute or store gradients, saving memory and \n",
        "  # speeding up prediction\n",
        "  with torch.no_grad():\n",
        "      # Forward pass, calculate logit predictions.\n",
        "      result = model(b_input_ids, \n",
        "                     token_type_ids=None, \n",
        "                     attention_mask=b_input_mask,\n",
        "                     return_dict=True)\n",
        "\n",
        "  logits = result.logits\n",
        "\n",
        "  # Move logits and labels to CPU\n",
        "  logits = logits.detach().cpu().numpy()\n",
        "  print(logits[1])\n",
        "  pred_labels = np.argmax(logits, axis=1)\n",
        "  label_ids = b_labels.to('cpu').numpy()\n",
        "  \n",
        "  # Store predictions and true labels\n",
        "  predictions_.extend(pred_labels.tolist())\n",
        "  true_labels_.extend(label_ids.tolist())\n",
        "  print(predictions_)\n",
        "  print(true_labels_)\n",
        "  break"
      ],
      "metadata": {
        "id": "aUrkK-CzAdt8"
      },
      "execution_count": null,
      "outputs": []
    },
    {
      "cell_type": "code",
      "source": [],
      "metadata": {
        "id": "yD3m4p8WAdwW"
      },
      "execution_count": null,
      "outputs": []
    },
    {
      "cell_type": "code",
      "source": [],
      "metadata": {
        "id": "DvjCbMVDAdzr"
      },
      "execution_count": null,
      "outputs": []
    },
    {
      "cell_type": "code",
      "source": [],
      "metadata": {
        "id": "HToeHyo5_0J6"
      },
      "execution_count": null,
      "outputs": []
    },
    {
      "cell_type": "code",
      "source": [
        "from sklearn.metrics import classification_report\n",
        "\n",
        "result_report= classification_report(true_labels, predictions, digits=3)\n",
        "print(result_report)"
      ],
      "metadata": {
        "id": "CYNPK2cnM9FX"
      },
      "execution_count": null,
      "outputs": []
    },
    {
      "cell_type": "code",
      "source": [
        "import os\n",
        "\n",
        "# Saving best-practices: if you use defaults names for the model, you can reload it using from_pretrained()\n",
        "\n",
        "output_dir = '/content/drive/MyDrive/ASU/model_save/'\n",
        "\n",
        "# Create output directory if needed\n",
        "if not os.path.exists(output_dir):\n",
        "    os.makedirs(output_dir)\n",
        "\n",
        "print(\"Saving model to %s\" % output_dir)\n",
        "\n",
        "# Save a trained model, configuration and tokenizer using `save_pretrained()`.\n",
        "# They can then be reloaded using `from_pretrained()`\n",
        "model_to_save = model.module if hasattr(model, 'module') else model  # Take care of distributed/parallel training\n",
        "model_to_save.save_pretrained(output_dir)\n",
        "tokenizer.save_pretrained(output_dir)\n",
        "\n",
        "# Good practice: save your training arguments together with the trained model\n",
        "# torch.save(args, os.path.join(output_dir, 'training_args.bin'))\n"
      ],
      "metadata": {
        "id": "55TGwUWdM92G"
      },
      "execution_count": null,
      "outputs": []
    },
    {
      "cell_type": "code",
      "source": [
        "!ls -l --block-size=K /content/drive/MyDrive/ASU/model_save/"
      ],
      "metadata": {
        "id": "Wup4eBSGNAnC"
      },
      "execution_count": null,
      "outputs": []
    },
    {
      "cell_type": "code",
      "source": [
        "!ls -l --block-size=M /content/drive/MyDrive/ASU/model_save/pytorch_model.bin"
      ],
      "metadata": {
        "id": "AwSPmLacNFlA"
      },
      "execution_count": null,
      "outputs": []
    },
    {
      "cell_type": "code",
      "source": [
        "!pip install transformers\n",
        "from transformers import BertTokenizer, AutoConfig, AutoModelForSequenceClassification, AutoTokenizer\n",
        "from transformers import (\n",
        "    AdamW,\n",
        "    get_linear_schedule_with_warmup\n",
        ")\n",
        "from transformers import BertForSequenceClassification, AdamW, BertConfig\n",
        "from transformers import get_linear_schedule_with_warmup"
      ],
      "metadata": {
        "id": "mCrOKj_3eFJW"
      },
      "execution_count": null,
      "outputs": []
    },
    {
      "cell_type": "code",
      "source": [
        "from torch.utils.data import TensorDataset, random_split\n",
        "from torch.utils.data import DataLoader, RandomSampler, SequentialSampler"
      ],
      "metadata": {
        "id": "XJLCdjSR6O5E"
      },
      "execution_count": null,
      "outputs": []
    },
    {
      "cell_type": "code",
      "source": [
        "# Load a trained model and vocabulary that you have fine-tuned\n",
        "#model = RobertaForSequenceClassification.from_pretrained(output_dir)\n",
        "#tokenizer = RobertaForSequenceClassification.from_pretrained(output_dir)\n",
        "\n",
        "\n",
        "output_dir = '/content/drive/MyDrive/ASU/model_save/'\n",
        "\n",
        "tokenizer = AutoTokenizer.from_pretrained(output_dir+'tokenizer/')\n",
        "model = AutoModelForSequenceClassification.from_pretrained(output_dir)\n",
        "\n",
        "\n",
        "# Copy the model to the GPU.\n",
        "model.to(device)"
      ],
      "metadata": {
        "id": "nvMN56oGNtjo"
      },
      "execution_count": null,
      "outputs": []
    },
    {
      "cell_type": "code",
      "source": [
        "from google.colab import drive\n",
        "drive.mount('/content/drive')"
      ],
      "metadata": {
        "id": "wA8r4uk9PPkj"
      },
      "execution_count": null,
      "outputs": []
    },
    {
      "cell_type": "code",
      "source": [],
      "metadata": {
        "id": "Trz1nxZCPQjv"
      },
      "execution_count": null,
      "outputs": []
    }
  ],
  "metadata": {
    "accelerator": "GPU",
    "colab": {
      "provenance": []
    },
    "kernelspec": {
      "display_name": "Python 3",
      "name": "python3"
    },
    "language_info": {
      "name": "python"
    },
    "gpuClass": "standard"
  },
  "nbformat": 4,
  "nbformat_minor": 0
}