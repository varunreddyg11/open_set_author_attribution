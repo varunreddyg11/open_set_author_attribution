{
  "cells": [
    {
      "cell_type": "code",
      "execution_count": 1,
      "metadata": {
        "id": "hiCdiTWzgKeG"
      },
      "outputs": [],
      "source": [
        "import pandas as pd\n",
        "import numpy as np\n",
        "#pd.set_option('display.max_rows', 50000)/"
      ]
    },
    {
      "cell_type": "code",
      "source": [
        "from google.colab import drive\n",
        "drive.mount('/content/drive')"
      ],
      "metadata": {
        "id": "oq68oD37gl7e",
        "colab": {
          "base_uri": "https://localhost:8080/"
        },
        "outputId": "0d620608-ed22-43be-db34-7cda2cffaa0e"
      },
      "execution_count": 2,
      "outputs": [
        {
          "output_type": "stream",
          "name": "stdout",
          "text": [
            "Mounted at /content/drive\n"
          ]
        }
      ]
    },
    {
      "cell_type": "code",
      "execution_count": 3,
      "metadata": {
        "colab": {
          "base_uri": "https://localhost:8080/",
          "height": 363
        },
        "id": "IWe3lgvZgZTb",
        "outputId": "aeddb5ca-2c34-4756-b295-6c811831b49c"
      },
      "outputs": [
        {
          "output_type": "execute_result",
          "data": {
            "text/plain": [
              "           author  real_label  label  \\\n",
              "0  A11OTLEDSW8ZXD          44     44   \n",
              "1  A11OTLEDSW8ZXD          44     44   \n",
              "2  A11OTLEDSW8ZXD          44     44   \n",
              "3  A11OTLEDSW8ZXD          44     44   \n",
              "4  A11OTLEDSW8ZXD          44     44   \n",
              "5  A11OTLEDSW8ZXD          44     44   \n",
              "6  A11OTLEDSW8ZXD          44     44   \n",
              "7  A11OTLEDSW8ZXD          44     44   \n",
              "8  A11OTLEDSW8ZXD          44     44   \n",
              "9  A11OTLEDSW8ZXD          44     44   \n",
              "\n",
              "                                              review  \\\n",
              "0  I have always been a fan of the Lewis and Clar...   \n",
              "1  I started reading this book during a three-wee...   \n",
              "2  This cable is well-made and feels sturdier tha...   \n",
              "3  This kibble is expensive, but the cats like it...   \n",
              "4  This device is exactly what we needed for our ...   \n",
              "5  These beef hides are quite the treat.  I like ...   \n",
              "6  Reading this memoir was quite a surprise.  It ...   \n",
              "7  Being a born Hoosier and having graduated from...   \n",
              "8  This is a surprisingly good first novel.  Whil...   \n",
              "9  My first impression of this lens was its weigh...   \n",
              "\n",
              "                        product_domain  overall  #words  \n",
              "0                        books.json.gz      5.0     529  \n",
              "1                        books.json.gz      4.0     193  \n",
              "2  cell_phones_and_accessories.json.gz      4.0     109  \n",
              "3                 pet_supplies.json.gz      5.0     100  \n",
              "4                  electronics.json.gz      4.0     197  \n",
              "5                 pet_supplies.json.gz      5.0     130  \n",
              "6                        books.json.gz      4.0     393  \n",
              "7                        books.json.gz      4.0     382  \n",
              "8                        books.json.gz      5.0     140  \n",
              "9                  electronics.json.gz      3.0     348  "
            ],
            "text/html": [
              "\n",
              "  <div id=\"df-c2f05f15-7d8c-494b-a23b-10ea7ee9e26e\">\n",
              "    <div class=\"colab-df-container\">\n",
              "      <div>\n",
              "<style scoped>\n",
              "    .dataframe tbody tr th:only-of-type {\n",
              "        vertical-align: middle;\n",
              "    }\n",
              "\n",
              "    .dataframe tbody tr th {\n",
              "        vertical-align: top;\n",
              "    }\n",
              "\n",
              "    .dataframe thead th {\n",
              "        text-align: right;\n",
              "    }\n",
              "</style>\n",
              "<table border=\"1\" class=\"dataframe\">\n",
              "  <thead>\n",
              "    <tr style=\"text-align: right;\">\n",
              "      <th></th>\n",
              "      <th>author</th>\n",
              "      <th>real_label</th>\n",
              "      <th>label</th>\n",
              "      <th>review</th>\n",
              "      <th>product_domain</th>\n",
              "      <th>overall</th>\n",
              "      <th>#words</th>\n",
              "    </tr>\n",
              "  </thead>\n",
              "  <tbody>\n",
              "    <tr>\n",
              "      <th>0</th>\n",
              "      <td>A11OTLEDSW8ZXD</td>\n",
              "      <td>44</td>\n",
              "      <td>44</td>\n",
              "      <td>I have always been a fan of the Lewis and Clar...</td>\n",
              "      <td>books.json.gz</td>\n",
              "      <td>5.0</td>\n",
              "      <td>529</td>\n",
              "    </tr>\n",
              "    <tr>\n",
              "      <th>1</th>\n",
              "      <td>A11OTLEDSW8ZXD</td>\n",
              "      <td>44</td>\n",
              "      <td>44</td>\n",
              "      <td>I started reading this book during a three-wee...</td>\n",
              "      <td>books.json.gz</td>\n",
              "      <td>4.0</td>\n",
              "      <td>193</td>\n",
              "    </tr>\n",
              "    <tr>\n",
              "      <th>2</th>\n",
              "      <td>A11OTLEDSW8ZXD</td>\n",
              "      <td>44</td>\n",
              "      <td>44</td>\n",
              "      <td>This cable is well-made and feels sturdier tha...</td>\n",
              "      <td>cell_phones_and_accessories.json.gz</td>\n",
              "      <td>4.0</td>\n",
              "      <td>109</td>\n",
              "    </tr>\n",
              "    <tr>\n",
              "      <th>3</th>\n",
              "      <td>A11OTLEDSW8ZXD</td>\n",
              "      <td>44</td>\n",
              "      <td>44</td>\n",
              "      <td>This kibble is expensive, but the cats like it...</td>\n",
              "      <td>pet_supplies.json.gz</td>\n",
              "      <td>5.0</td>\n",
              "      <td>100</td>\n",
              "    </tr>\n",
              "    <tr>\n",
              "      <th>4</th>\n",
              "      <td>A11OTLEDSW8ZXD</td>\n",
              "      <td>44</td>\n",
              "      <td>44</td>\n",
              "      <td>This device is exactly what we needed for our ...</td>\n",
              "      <td>electronics.json.gz</td>\n",
              "      <td>4.0</td>\n",
              "      <td>197</td>\n",
              "    </tr>\n",
              "    <tr>\n",
              "      <th>5</th>\n",
              "      <td>A11OTLEDSW8ZXD</td>\n",
              "      <td>44</td>\n",
              "      <td>44</td>\n",
              "      <td>These beef hides are quite the treat.  I like ...</td>\n",
              "      <td>pet_supplies.json.gz</td>\n",
              "      <td>5.0</td>\n",
              "      <td>130</td>\n",
              "    </tr>\n",
              "    <tr>\n",
              "      <th>6</th>\n",
              "      <td>A11OTLEDSW8ZXD</td>\n",
              "      <td>44</td>\n",
              "      <td>44</td>\n",
              "      <td>Reading this memoir was quite a surprise.  It ...</td>\n",
              "      <td>books.json.gz</td>\n",
              "      <td>4.0</td>\n",
              "      <td>393</td>\n",
              "    </tr>\n",
              "    <tr>\n",
              "      <th>7</th>\n",
              "      <td>A11OTLEDSW8ZXD</td>\n",
              "      <td>44</td>\n",
              "      <td>44</td>\n",
              "      <td>Being a born Hoosier and having graduated from...</td>\n",
              "      <td>books.json.gz</td>\n",
              "      <td>4.0</td>\n",
              "      <td>382</td>\n",
              "    </tr>\n",
              "    <tr>\n",
              "      <th>8</th>\n",
              "      <td>A11OTLEDSW8ZXD</td>\n",
              "      <td>44</td>\n",
              "      <td>44</td>\n",
              "      <td>This is a surprisingly good first novel.  Whil...</td>\n",
              "      <td>books.json.gz</td>\n",
              "      <td>5.0</td>\n",
              "      <td>140</td>\n",
              "    </tr>\n",
              "    <tr>\n",
              "      <th>9</th>\n",
              "      <td>A11OTLEDSW8ZXD</td>\n",
              "      <td>44</td>\n",
              "      <td>44</td>\n",
              "      <td>My first impression of this lens was its weigh...</td>\n",
              "      <td>electronics.json.gz</td>\n",
              "      <td>3.0</td>\n",
              "      <td>348</td>\n",
              "    </tr>\n",
              "  </tbody>\n",
              "</table>\n",
              "</div>\n",
              "      <button class=\"colab-df-convert\" onclick=\"convertToInteractive('df-c2f05f15-7d8c-494b-a23b-10ea7ee9e26e')\"\n",
              "              title=\"Convert this dataframe to an interactive table.\"\n",
              "              style=\"display:none;\">\n",
              "        \n",
              "  <svg xmlns=\"http://www.w3.org/2000/svg\" height=\"24px\"viewBox=\"0 0 24 24\"\n",
              "       width=\"24px\">\n",
              "    <path d=\"M0 0h24v24H0V0z\" fill=\"none\"/>\n",
              "    <path d=\"M18.56 5.44l.94 2.06.94-2.06 2.06-.94-2.06-.94-.94-2.06-.94 2.06-2.06.94zm-11 1L8.5 8.5l.94-2.06 2.06-.94-2.06-.94L8.5 2.5l-.94 2.06-2.06.94zm10 10l.94 2.06.94-2.06 2.06-.94-2.06-.94-.94-2.06-.94 2.06-2.06.94z\"/><path d=\"M17.41 7.96l-1.37-1.37c-.4-.4-.92-.59-1.43-.59-.52 0-1.04.2-1.43.59L10.3 9.45l-7.72 7.72c-.78.78-.78 2.05 0 2.83L4 21.41c.39.39.9.59 1.41.59.51 0 1.02-.2 1.41-.59l7.78-7.78 2.81-2.81c.8-.78.8-2.07 0-2.86zM5.41 20L4 18.59l7.72-7.72 1.47 1.35L5.41 20z\"/>\n",
              "  </svg>\n",
              "      </button>\n",
              "      \n",
              "  <style>\n",
              "    .colab-df-container {\n",
              "      display:flex;\n",
              "      flex-wrap:wrap;\n",
              "      gap: 12px;\n",
              "    }\n",
              "\n",
              "    .colab-df-convert {\n",
              "      background-color: #E8F0FE;\n",
              "      border: none;\n",
              "      border-radius: 50%;\n",
              "      cursor: pointer;\n",
              "      display: none;\n",
              "      fill: #1967D2;\n",
              "      height: 32px;\n",
              "      padding: 0 0 0 0;\n",
              "      width: 32px;\n",
              "    }\n",
              "\n",
              "    .colab-df-convert:hover {\n",
              "      background-color: #E2EBFA;\n",
              "      box-shadow: 0px 1px 2px rgba(60, 64, 67, 0.3), 0px 1px 3px 1px rgba(60, 64, 67, 0.15);\n",
              "      fill: #174EA6;\n",
              "    }\n",
              "\n",
              "    [theme=dark] .colab-df-convert {\n",
              "      background-color: #3B4455;\n",
              "      fill: #D2E3FC;\n",
              "    }\n",
              "\n",
              "    [theme=dark] .colab-df-convert:hover {\n",
              "      background-color: #434B5C;\n",
              "      box-shadow: 0px 1px 3px 1px rgba(0, 0, 0, 0.15);\n",
              "      filter: drop-shadow(0px 1px 2px rgba(0, 0, 0, 0.3));\n",
              "      fill: #FFFFFF;\n",
              "    }\n",
              "  </style>\n",
              "\n",
              "      <script>\n",
              "        const buttonEl =\n",
              "          document.querySelector('#df-c2f05f15-7d8c-494b-a23b-10ea7ee9e26e button.colab-df-convert');\n",
              "        buttonEl.style.display =\n",
              "          google.colab.kernel.accessAllowed ? 'block' : 'none';\n",
              "\n",
              "        async function convertToInteractive(key) {\n",
              "          const element = document.querySelector('#df-c2f05f15-7d8c-494b-a23b-10ea7ee9e26e');\n",
              "          const dataTable =\n",
              "            await google.colab.kernel.invokeFunction('convertToInteractive',\n",
              "                                                     [key], {});\n",
              "          if (!dataTable) return;\n",
              "\n",
              "          const docLinkHtml = 'Like what you see? Visit the ' +\n",
              "            '<a target=\"_blank\" href=https://colab.research.google.com/notebooks/data_table.ipynb>data table notebook</a>'\n",
              "            + ' to learn more about interactive tables.';\n",
              "          element.innerHTML = '';\n",
              "          dataTable['output_type'] = 'display_data';\n",
              "          await google.colab.output.renderOutput(dataTable, element);\n",
              "          const docLink = document.createElement('div');\n",
              "          docLink.innerHTML = docLinkHtml;\n",
              "          element.appendChild(docLink);\n",
              "        }\n",
              "      </script>\n",
              "    </div>\n",
              "  </div>\n",
              "  "
            ]
          },
          "metadata": {},
          "execution_count": 3
        }
      ],
      "source": [
        "dataset=pd.read_csv(\"/content/drive/MyDrive/ASU/train.csv\")\n",
        "dataset.head(10)\n",
        "\n"
      ]
    },
    {
      "cell_type": "code",
      "execution_count": 4,
      "metadata": {
        "colab": {
          "base_uri": "https://localhost:8080/"
        },
        "id": "B9pq-A70gfgG",
        "outputId": "58c43769-eab4-47c4-dca9-c2df63cefab9"
      },
      "outputs": [
        {
          "output_type": "execute_result",
          "data": {
            "text/plain": [
              "100"
            ]
          },
          "metadata": {},
          "execution_count": 4
        }
      ],
      "source": [
        "len(dataset.real_label.unique())"
      ]
    },
    {
      "cell_type": "code",
      "source": [
        "dataset_filtered=dataset.loc[:,['real_label','review']]"
      ],
      "metadata": {
        "id": "X9mNxmcic6x3"
      },
      "execution_count": 5,
      "outputs": []
    },
    {
      "cell_type": "code",
      "source": [
        "#Input dataset\n",
        "dataset_filtered"
      ],
      "metadata": {
        "colab": {
          "base_uri": "https://localhost:8080/",
          "height": 424
        },
        "id": "jYLP4SFw4JoF",
        "outputId": "7e418e0d-7288-4880-a690-6d96cd72443d"
      },
      "execution_count": 6,
      "outputs": [
        {
          "output_type": "execute_result",
          "data": {
            "text/plain": [
              "       real_label                                             review\n",
              "0              44  I have always been a fan of the Lewis and Clar...\n",
              "1              44  I started reading this book during a three-wee...\n",
              "2              44  This cable is well-made and feels sturdier tha...\n",
              "3              44  This kibble is expensive, but the cats like it...\n",
              "4              44  This device is exactly what we needed for our ...\n",
              "...           ...                                                ...\n",
              "49995          46  Dumbo is one of disney's most beloved and clas...\n",
              "49996          46  I haven't played anygood sport games yet and i...\n",
              "49997          46  This game is loads of fun, i really liked this...\n",
              "49998          46  Gabriel is one of the funniest comedians i've ...\n",
              "49999          46  red tails is about the tuskegee airforce men w...\n",
              "\n",
              "[50000 rows x 2 columns]"
            ],
            "text/html": [
              "\n",
              "  <div id=\"df-335bf5c2-b960-4959-acd0-734d759418d3\">\n",
              "    <div class=\"colab-df-container\">\n",
              "      <div>\n",
              "<style scoped>\n",
              "    .dataframe tbody tr th:only-of-type {\n",
              "        vertical-align: middle;\n",
              "    }\n",
              "\n",
              "    .dataframe tbody tr th {\n",
              "        vertical-align: top;\n",
              "    }\n",
              "\n",
              "    .dataframe thead th {\n",
              "        text-align: right;\n",
              "    }\n",
              "</style>\n",
              "<table border=\"1\" class=\"dataframe\">\n",
              "  <thead>\n",
              "    <tr style=\"text-align: right;\">\n",
              "      <th></th>\n",
              "      <th>real_label</th>\n",
              "      <th>review</th>\n",
              "    </tr>\n",
              "  </thead>\n",
              "  <tbody>\n",
              "    <tr>\n",
              "      <th>0</th>\n",
              "      <td>44</td>\n",
              "      <td>I have always been a fan of the Lewis and Clar...</td>\n",
              "    </tr>\n",
              "    <tr>\n",
              "      <th>1</th>\n",
              "      <td>44</td>\n",
              "      <td>I started reading this book during a three-wee...</td>\n",
              "    </tr>\n",
              "    <tr>\n",
              "      <th>2</th>\n",
              "      <td>44</td>\n",
              "      <td>This cable is well-made and feels sturdier tha...</td>\n",
              "    </tr>\n",
              "    <tr>\n",
              "      <th>3</th>\n",
              "      <td>44</td>\n",
              "      <td>This kibble is expensive, but the cats like it...</td>\n",
              "    </tr>\n",
              "    <tr>\n",
              "      <th>4</th>\n",
              "      <td>44</td>\n",
              "      <td>This device is exactly what we needed for our ...</td>\n",
              "    </tr>\n",
              "    <tr>\n",
              "      <th>...</th>\n",
              "      <td>...</td>\n",
              "      <td>...</td>\n",
              "    </tr>\n",
              "    <tr>\n",
              "      <th>49995</th>\n",
              "      <td>46</td>\n",
              "      <td>Dumbo is one of disney's most beloved and clas...</td>\n",
              "    </tr>\n",
              "    <tr>\n",
              "      <th>49996</th>\n",
              "      <td>46</td>\n",
              "      <td>I haven't played anygood sport games yet and i...</td>\n",
              "    </tr>\n",
              "    <tr>\n",
              "      <th>49997</th>\n",
              "      <td>46</td>\n",
              "      <td>This game is loads of fun, i really liked this...</td>\n",
              "    </tr>\n",
              "    <tr>\n",
              "      <th>49998</th>\n",
              "      <td>46</td>\n",
              "      <td>Gabriel is one of the funniest comedians i've ...</td>\n",
              "    </tr>\n",
              "    <tr>\n",
              "      <th>49999</th>\n",
              "      <td>46</td>\n",
              "      <td>red tails is about the tuskegee airforce men w...</td>\n",
              "    </tr>\n",
              "  </tbody>\n",
              "</table>\n",
              "<p>50000 rows × 2 columns</p>\n",
              "</div>\n",
              "      <button class=\"colab-df-convert\" onclick=\"convertToInteractive('df-335bf5c2-b960-4959-acd0-734d759418d3')\"\n",
              "              title=\"Convert this dataframe to an interactive table.\"\n",
              "              style=\"display:none;\">\n",
              "        \n",
              "  <svg xmlns=\"http://www.w3.org/2000/svg\" height=\"24px\"viewBox=\"0 0 24 24\"\n",
              "       width=\"24px\">\n",
              "    <path d=\"M0 0h24v24H0V0z\" fill=\"none\"/>\n",
              "    <path d=\"M18.56 5.44l.94 2.06.94-2.06 2.06-.94-2.06-.94-.94-2.06-.94 2.06-2.06.94zm-11 1L8.5 8.5l.94-2.06 2.06-.94-2.06-.94L8.5 2.5l-.94 2.06-2.06.94zm10 10l.94 2.06.94-2.06 2.06-.94-2.06-.94-.94-2.06-.94 2.06-2.06.94z\"/><path d=\"M17.41 7.96l-1.37-1.37c-.4-.4-.92-.59-1.43-.59-.52 0-1.04.2-1.43.59L10.3 9.45l-7.72 7.72c-.78.78-.78 2.05 0 2.83L4 21.41c.39.39.9.59 1.41.59.51 0 1.02-.2 1.41-.59l7.78-7.78 2.81-2.81c.8-.78.8-2.07 0-2.86zM5.41 20L4 18.59l7.72-7.72 1.47 1.35L5.41 20z\"/>\n",
              "  </svg>\n",
              "      </button>\n",
              "      \n",
              "  <style>\n",
              "    .colab-df-container {\n",
              "      display:flex;\n",
              "      flex-wrap:wrap;\n",
              "      gap: 12px;\n",
              "    }\n",
              "\n",
              "    .colab-df-convert {\n",
              "      background-color: #E8F0FE;\n",
              "      border: none;\n",
              "      border-radius: 50%;\n",
              "      cursor: pointer;\n",
              "      display: none;\n",
              "      fill: #1967D2;\n",
              "      height: 32px;\n",
              "      padding: 0 0 0 0;\n",
              "      width: 32px;\n",
              "    }\n",
              "\n",
              "    .colab-df-convert:hover {\n",
              "      background-color: #E2EBFA;\n",
              "      box-shadow: 0px 1px 2px rgba(60, 64, 67, 0.3), 0px 1px 3px 1px rgba(60, 64, 67, 0.15);\n",
              "      fill: #174EA6;\n",
              "    }\n",
              "\n",
              "    [theme=dark] .colab-df-convert {\n",
              "      background-color: #3B4455;\n",
              "      fill: #D2E3FC;\n",
              "    }\n",
              "\n",
              "    [theme=dark] .colab-df-convert:hover {\n",
              "      background-color: #434B5C;\n",
              "      box-shadow: 0px 1px 3px 1px rgba(0, 0, 0, 0.15);\n",
              "      filter: drop-shadow(0px 1px 2px rgba(0, 0, 0, 0.3));\n",
              "      fill: #FFFFFF;\n",
              "    }\n",
              "  </style>\n",
              "\n",
              "      <script>\n",
              "        const buttonEl =\n",
              "          document.querySelector('#df-335bf5c2-b960-4959-acd0-734d759418d3 button.colab-df-convert');\n",
              "        buttonEl.style.display =\n",
              "          google.colab.kernel.accessAllowed ? 'block' : 'none';\n",
              "\n",
              "        async function convertToInteractive(key) {\n",
              "          const element = document.querySelector('#df-335bf5c2-b960-4959-acd0-734d759418d3');\n",
              "          const dataTable =\n",
              "            await google.colab.kernel.invokeFunction('convertToInteractive',\n",
              "                                                     [key], {});\n",
              "          if (!dataTable) return;\n",
              "\n",
              "          const docLinkHtml = 'Like what you see? Visit the ' +\n",
              "            '<a target=\"_blank\" href=https://colab.research.google.com/notebooks/data_table.ipynb>data table notebook</a>'\n",
              "            + ' to learn more about interactive tables.';\n",
              "          element.innerHTML = '';\n",
              "          dataTable['output_type'] = 'display_data';\n",
              "          await google.colab.output.renderOutput(dataTable, element);\n",
              "          const docLink = document.createElement('div');\n",
              "          docLink.innerHTML = docLinkHtml;\n",
              "          element.appendChild(docLink);\n",
              "        }\n",
              "      </script>\n",
              "    </div>\n",
              "  </div>\n",
              "  "
            ]
          },
          "metadata": {},
          "execution_count": 6
        }
      ]
    },
    {
      "cell_type": "code",
      "execution_count": 7,
      "metadata": {
        "colab": {
          "base_uri": "https://localhost:8080/"
        },
        "id": "918jkbVoh_Y1",
        "outputId": "a892efc2-b20e-45c0-e6c2-ef1fd73d7157"
      },
      "outputs": [
        {
          "output_type": "stream",
          "name": "stdout",
          "text": [
            "There are 1 GPU(s) available.\n",
            "We will use the GPU: Tesla T4\n"
          ]
        }
      ],
      "source": [
        "import torch\n",
        "\n",
        "# If there's a GPU available...\n",
        "if torch.cuda.is_available():    \n",
        "\n",
        "    # Tell PyTorch to use the GPU.    \n",
        "    device = torch.device(\"cuda\")\n",
        "\n",
        "    print('There are %d GPU(s) available.' % torch.cuda.device_count())\n",
        "    n_gpu=torch.cuda.device_count()\n",
        "\n",
        "    print('We will use the GPU:', torch.cuda.get_device_name(0))\n",
        "\n",
        "# If not...\n",
        "else:\n",
        "    print('No GPU available, using the CPU instead.')\n",
        "    device = torch.device(\"cpu\")"
      ]
    },
    {
      "cell_type": "code",
      "execution_count": 8,
      "metadata": {
        "colab": {
          "base_uri": "https://localhost:8080/"
        },
        "id": "hy-HBiXjiE1g",
        "outputId": "9b3da603-efbf-4595-83ba-6a9936f87434"
      },
      "outputs": [
        {
          "output_type": "stream",
          "name": "stdout",
          "text": [
            "Looking in indexes: https://pypi.org/simple, https://us-python.pkg.dev/colab-wheels/public/simple/\n",
            "Collecting transformers\n",
            "  Downloading transformers-4.24.0-py3-none-any.whl (5.5 MB)\n",
            "\u001b[K     |████████████████████████████████| 5.5 MB 28.3 MB/s \n",
            "\u001b[?25hRequirement already satisfied: numpy>=1.17 in /usr/local/lib/python3.7/dist-packages (from transformers) (1.21.6)\n",
            "Collecting tokenizers!=0.11.3,<0.14,>=0.11.1\n",
            "  Downloading tokenizers-0.13.2-cp37-cp37m-manylinux_2_17_x86_64.manylinux2014_x86_64.whl (7.6 MB)\n",
            "\u001b[K     |████████████████████████████████| 7.6 MB 69.4 MB/s \n",
            "\u001b[?25hRequirement already satisfied: tqdm>=4.27 in /usr/local/lib/python3.7/dist-packages (from transformers) (4.64.1)\n",
            "Requirement already satisfied: filelock in /usr/local/lib/python3.7/dist-packages (from transformers) (3.8.0)\n",
            "Requirement already satisfied: regex!=2019.12.17 in /usr/local/lib/python3.7/dist-packages (from transformers) (2022.6.2)\n",
            "Requirement already satisfied: requests in /usr/local/lib/python3.7/dist-packages (from transformers) (2.23.0)\n",
            "Requirement already satisfied: packaging>=20.0 in /usr/local/lib/python3.7/dist-packages (from transformers) (21.3)\n",
            "Collecting huggingface-hub<1.0,>=0.10.0\n",
            "  Downloading huggingface_hub-0.11.0-py3-none-any.whl (182 kB)\n",
            "\u001b[K     |████████████████████████████████| 182 kB 66.5 MB/s \n",
            "\u001b[?25hRequirement already satisfied: importlib-metadata in /usr/local/lib/python3.7/dist-packages (from transformers) (4.13.0)\n",
            "Requirement already satisfied: pyyaml>=5.1 in /usr/local/lib/python3.7/dist-packages (from transformers) (6.0)\n",
            "Requirement already satisfied: typing-extensions>=3.7.4.3 in /usr/local/lib/python3.7/dist-packages (from huggingface-hub<1.0,>=0.10.0->transformers) (4.1.1)\n",
            "Requirement already satisfied: pyparsing!=3.0.5,>=2.0.2 in /usr/local/lib/python3.7/dist-packages (from packaging>=20.0->transformers) (3.0.9)\n",
            "Requirement already satisfied: zipp>=0.5 in /usr/local/lib/python3.7/dist-packages (from importlib-metadata->transformers) (3.10.0)\n",
            "Requirement already satisfied: urllib3!=1.25.0,!=1.25.1,<1.26,>=1.21.1 in /usr/local/lib/python3.7/dist-packages (from requests->transformers) (1.24.3)\n",
            "Requirement already satisfied: idna<3,>=2.5 in /usr/local/lib/python3.7/dist-packages (from requests->transformers) (2.10)\n",
            "Requirement already satisfied: certifi>=2017.4.17 in /usr/local/lib/python3.7/dist-packages (from requests->transformers) (2022.9.24)\n",
            "Requirement already satisfied: chardet<4,>=3.0.2 in /usr/local/lib/python3.7/dist-packages (from requests->transformers) (3.0.4)\n",
            "Installing collected packages: tokenizers, huggingface-hub, transformers\n",
            "Successfully installed huggingface-hub-0.11.0 tokenizers-0.13.2 transformers-4.24.0\n"
          ]
        }
      ],
      "source": [
        "!pip install transformers"
      ]
    },
    {
      "cell_type": "code",
      "source": [
        "# from transformers import RobertaTokenizer,BertTokenizer, AutoConfig, AutoModelForSequenceClassification, AutoTokenizer\n",
        "# from transformers import (\n",
        "#     AdamW,\n",
        "#     get_linear_schedule_with_warmup\n",
        "# )\n",
        "# \"\"\"\n",
        "# # Load the tokenizer.\n",
        "# print('Loading Roberta tokenizer...')\n",
        "# tokenizer = RobertaTokenizer.from_pretrained('roberta-base', do_lower_case=True)\"\"\"\n",
        "\n",
        "# tokenizer = AutoTokenizer.from_pretrained('bert-base-uncased')\n",
        "# config = AutoConfig.from_pretrained('bert-base-uncased',\n",
        "#                                             num_labels=101,\n",
        "#                                             hidden_dropout_prob=0.15)\n",
        "\n",
        "\n",
        "\n"
      ],
      "metadata": {
        "id": "6BZYtNIG-YG9"
      },
      "execution_count": 9,
      "outputs": []
    },
    {
      "cell_type": "code",
      "source": [
        "\n",
        "from transformers import BertTokenizer, AutoConfig, AutoModelForSequenceClassification, AutoTokenizer\n",
        "from transformers import (\n",
        "    AdamW,\n",
        "    get_linear_schedule_with_warmup\n",
        ")\n",
        "# from transformers import BertForSequenceClassification, AdamW, BertConfig\n",
        "# from transformers import get_linear_schedule_with_warmup\n",
        "\n",
        "\n",
        "output_dir = '/content/drive/MyDrive/ASU/model_save/'\n",
        "\n",
        "tokenizer = AutoTokenizer.from_pretrained(output_dir+'tokenizer/')\n",
        "model = AutoModelForSequenceClassification.from_pretrained(output_dir)\n",
        "\n",
        "\n",
        "# Copy the model to the GPU.\n",
        "model.to(device)"
      ],
      "metadata": {
        "colab": {
          "base_uri": "https://localhost:8080/"
        },
        "id": "-71E7Ju8Kfdr",
        "outputId": "9ec673ff-3a5e-40ad-b685-cb388e603605"
      },
      "execution_count": 10,
      "outputs": [
        {
          "output_type": "execute_result",
          "data": {
            "text/plain": [
              "BertForSequenceClassification(\n",
              "  (bert): BertModel(\n",
              "    (embeddings): BertEmbeddings(\n",
              "      (word_embeddings): Embedding(30522, 768, padding_idx=0)\n",
              "      (position_embeddings): Embedding(512, 768)\n",
              "      (token_type_embeddings): Embedding(2, 768)\n",
              "      (LayerNorm): LayerNorm((768,), eps=1e-12, elementwise_affine=True)\n",
              "      (dropout): Dropout(p=0.15, inplace=False)\n",
              "    )\n",
              "    (encoder): BertEncoder(\n",
              "      (layer): ModuleList(\n",
              "        (0): BertLayer(\n",
              "          (attention): BertAttention(\n",
              "            (self): BertSelfAttention(\n",
              "              (query): Linear(in_features=768, out_features=768, bias=True)\n",
              "              (key): Linear(in_features=768, out_features=768, bias=True)\n",
              "              (value): Linear(in_features=768, out_features=768, bias=True)\n",
              "              (dropout): Dropout(p=0.1, inplace=False)\n",
              "            )\n",
              "            (output): BertSelfOutput(\n",
              "              (dense): Linear(in_features=768, out_features=768, bias=True)\n",
              "              (LayerNorm): LayerNorm((768,), eps=1e-12, elementwise_affine=True)\n",
              "              (dropout): Dropout(p=0.15, inplace=False)\n",
              "            )\n",
              "          )\n",
              "          (intermediate): BertIntermediate(\n",
              "            (dense): Linear(in_features=768, out_features=3072, bias=True)\n",
              "            (intermediate_act_fn): GELUActivation()\n",
              "          )\n",
              "          (output): BertOutput(\n",
              "            (dense): Linear(in_features=3072, out_features=768, bias=True)\n",
              "            (LayerNorm): LayerNorm((768,), eps=1e-12, elementwise_affine=True)\n",
              "            (dropout): Dropout(p=0.15, inplace=False)\n",
              "          )\n",
              "        )\n",
              "        (1): BertLayer(\n",
              "          (attention): BertAttention(\n",
              "            (self): BertSelfAttention(\n",
              "              (query): Linear(in_features=768, out_features=768, bias=True)\n",
              "              (key): Linear(in_features=768, out_features=768, bias=True)\n",
              "              (value): Linear(in_features=768, out_features=768, bias=True)\n",
              "              (dropout): Dropout(p=0.1, inplace=False)\n",
              "            )\n",
              "            (output): BertSelfOutput(\n",
              "              (dense): Linear(in_features=768, out_features=768, bias=True)\n",
              "              (LayerNorm): LayerNorm((768,), eps=1e-12, elementwise_affine=True)\n",
              "              (dropout): Dropout(p=0.15, inplace=False)\n",
              "            )\n",
              "          )\n",
              "          (intermediate): BertIntermediate(\n",
              "            (dense): Linear(in_features=768, out_features=3072, bias=True)\n",
              "            (intermediate_act_fn): GELUActivation()\n",
              "          )\n",
              "          (output): BertOutput(\n",
              "            (dense): Linear(in_features=3072, out_features=768, bias=True)\n",
              "            (LayerNorm): LayerNorm((768,), eps=1e-12, elementwise_affine=True)\n",
              "            (dropout): Dropout(p=0.15, inplace=False)\n",
              "          )\n",
              "        )\n",
              "        (2): BertLayer(\n",
              "          (attention): BertAttention(\n",
              "            (self): BertSelfAttention(\n",
              "              (query): Linear(in_features=768, out_features=768, bias=True)\n",
              "              (key): Linear(in_features=768, out_features=768, bias=True)\n",
              "              (value): Linear(in_features=768, out_features=768, bias=True)\n",
              "              (dropout): Dropout(p=0.1, inplace=False)\n",
              "            )\n",
              "            (output): BertSelfOutput(\n",
              "              (dense): Linear(in_features=768, out_features=768, bias=True)\n",
              "              (LayerNorm): LayerNorm((768,), eps=1e-12, elementwise_affine=True)\n",
              "              (dropout): Dropout(p=0.15, inplace=False)\n",
              "            )\n",
              "          )\n",
              "          (intermediate): BertIntermediate(\n",
              "            (dense): Linear(in_features=768, out_features=3072, bias=True)\n",
              "            (intermediate_act_fn): GELUActivation()\n",
              "          )\n",
              "          (output): BertOutput(\n",
              "            (dense): Linear(in_features=3072, out_features=768, bias=True)\n",
              "            (LayerNorm): LayerNorm((768,), eps=1e-12, elementwise_affine=True)\n",
              "            (dropout): Dropout(p=0.15, inplace=False)\n",
              "          )\n",
              "        )\n",
              "        (3): BertLayer(\n",
              "          (attention): BertAttention(\n",
              "            (self): BertSelfAttention(\n",
              "              (query): Linear(in_features=768, out_features=768, bias=True)\n",
              "              (key): Linear(in_features=768, out_features=768, bias=True)\n",
              "              (value): Linear(in_features=768, out_features=768, bias=True)\n",
              "              (dropout): Dropout(p=0.1, inplace=False)\n",
              "            )\n",
              "            (output): BertSelfOutput(\n",
              "              (dense): Linear(in_features=768, out_features=768, bias=True)\n",
              "              (LayerNorm): LayerNorm((768,), eps=1e-12, elementwise_affine=True)\n",
              "              (dropout): Dropout(p=0.15, inplace=False)\n",
              "            )\n",
              "          )\n",
              "          (intermediate): BertIntermediate(\n",
              "            (dense): Linear(in_features=768, out_features=3072, bias=True)\n",
              "            (intermediate_act_fn): GELUActivation()\n",
              "          )\n",
              "          (output): BertOutput(\n",
              "            (dense): Linear(in_features=3072, out_features=768, bias=True)\n",
              "            (LayerNorm): LayerNorm((768,), eps=1e-12, elementwise_affine=True)\n",
              "            (dropout): Dropout(p=0.15, inplace=False)\n",
              "          )\n",
              "        )\n",
              "        (4): BertLayer(\n",
              "          (attention): BertAttention(\n",
              "            (self): BertSelfAttention(\n",
              "              (query): Linear(in_features=768, out_features=768, bias=True)\n",
              "              (key): Linear(in_features=768, out_features=768, bias=True)\n",
              "              (value): Linear(in_features=768, out_features=768, bias=True)\n",
              "              (dropout): Dropout(p=0.1, inplace=False)\n",
              "            )\n",
              "            (output): BertSelfOutput(\n",
              "              (dense): Linear(in_features=768, out_features=768, bias=True)\n",
              "              (LayerNorm): LayerNorm((768,), eps=1e-12, elementwise_affine=True)\n",
              "              (dropout): Dropout(p=0.15, inplace=False)\n",
              "            )\n",
              "          )\n",
              "          (intermediate): BertIntermediate(\n",
              "            (dense): Linear(in_features=768, out_features=3072, bias=True)\n",
              "            (intermediate_act_fn): GELUActivation()\n",
              "          )\n",
              "          (output): BertOutput(\n",
              "            (dense): Linear(in_features=3072, out_features=768, bias=True)\n",
              "            (LayerNorm): LayerNorm((768,), eps=1e-12, elementwise_affine=True)\n",
              "            (dropout): Dropout(p=0.15, inplace=False)\n",
              "          )\n",
              "        )\n",
              "        (5): BertLayer(\n",
              "          (attention): BertAttention(\n",
              "            (self): BertSelfAttention(\n",
              "              (query): Linear(in_features=768, out_features=768, bias=True)\n",
              "              (key): Linear(in_features=768, out_features=768, bias=True)\n",
              "              (value): Linear(in_features=768, out_features=768, bias=True)\n",
              "              (dropout): Dropout(p=0.1, inplace=False)\n",
              "            )\n",
              "            (output): BertSelfOutput(\n",
              "              (dense): Linear(in_features=768, out_features=768, bias=True)\n",
              "              (LayerNorm): LayerNorm((768,), eps=1e-12, elementwise_affine=True)\n",
              "              (dropout): Dropout(p=0.15, inplace=False)\n",
              "            )\n",
              "          )\n",
              "          (intermediate): BertIntermediate(\n",
              "            (dense): Linear(in_features=768, out_features=3072, bias=True)\n",
              "            (intermediate_act_fn): GELUActivation()\n",
              "          )\n",
              "          (output): BertOutput(\n",
              "            (dense): Linear(in_features=3072, out_features=768, bias=True)\n",
              "            (LayerNorm): LayerNorm((768,), eps=1e-12, elementwise_affine=True)\n",
              "            (dropout): Dropout(p=0.15, inplace=False)\n",
              "          )\n",
              "        )\n",
              "        (6): BertLayer(\n",
              "          (attention): BertAttention(\n",
              "            (self): BertSelfAttention(\n",
              "              (query): Linear(in_features=768, out_features=768, bias=True)\n",
              "              (key): Linear(in_features=768, out_features=768, bias=True)\n",
              "              (value): Linear(in_features=768, out_features=768, bias=True)\n",
              "              (dropout): Dropout(p=0.1, inplace=False)\n",
              "            )\n",
              "            (output): BertSelfOutput(\n",
              "              (dense): Linear(in_features=768, out_features=768, bias=True)\n",
              "              (LayerNorm): LayerNorm((768,), eps=1e-12, elementwise_affine=True)\n",
              "              (dropout): Dropout(p=0.15, inplace=False)\n",
              "            )\n",
              "          )\n",
              "          (intermediate): BertIntermediate(\n",
              "            (dense): Linear(in_features=768, out_features=3072, bias=True)\n",
              "            (intermediate_act_fn): GELUActivation()\n",
              "          )\n",
              "          (output): BertOutput(\n",
              "            (dense): Linear(in_features=3072, out_features=768, bias=True)\n",
              "            (LayerNorm): LayerNorm((768,), eps=1e-12, elementwise_affine=True)\n",
              "            (dropout): Dropout(p=0.15, inplace=False)\n",
              "          )\n",
              "        )\n",
              "        (7): BertLayer(\n",
              "          (attention): BertAttention(\n",
              "            (self): BertSelfAttention(\n",
              "              (query): Linear(in_features=768, out_features=768, bias=True)\n",
              "              (key): Linear(in_features=768, out_features=768, bias=True)\n",
              "              (value): Linear(in_features=768, out_features=768, bias=True)\n",
              "              (dropout): Dropout(p=0.1, inplace=False)\n",
              "            )\n",
              "            (output): BertSelfOutput(\n",
              "              (dense): Linear(in_features=768, out_features=768, bias=True)\n",
              "              (LayerNorm): LayerNorm((768,), eps=1e-12, elementwise_affine=True)\n",
              "              (dropout): Dropout(p=0.15, inplace=False)\n",
              "            )\n",
              "          )\n",
              "          (intermediate): BertIntermediate(\n",
              "            (dense): Linear(in_features=768, out_features=3072, bias=True)\n",
              "            (intermediate_act_fn): GELUActivation()\n",
              "          )\n",
              "          (output): BertOutput(\n",
              "            (dense): Linear(in_features=3072, out_features=768, bias=True)\n",
              "            (LayerNorm): LayerNorm((768,), eps=1e-12, elementwise_affine=True)\n",
              "            (dropout): Dropout(p=0.15, inplace=False)\n",
              "          )\n",
              "        )\n",
              "        (8): BertLayer(\n",
              "          (attention): BertAttention(\n",
              "            (self): BertSelfAttention(\n",
              "              (query): Linear(in_features=768, out_features=768, bias=True)\n",
              "              (key): Linear(in_features=768, out_features=768, bias=True)\n",
              "              (value): Linear(in_features=768, out_features=768, bias=True)\n",
              "              (dropout): Dropout(p=0.1, inplace=False)\n",
              "            )\n",
              "            (output): BertSelfOutput(\n",
              "              (dense): Linear(in_features=768, out_features=768, bias=True)\n",
              "              (LayerNorm): LayerNorm((768,), eps=1e-12, elementwise_affine=True)\n",
              "              (dropout): Dropout(p=0.15, inplace=False)\n",
              "            )\n",
              "          )\n",
              "          (intermediate): BertIntermediate(\n",
              "            (dense): Linear(in_features=768, out_features=3072, bias=True)\n",
              "            (intermediate_act_fn): GELUActivation()\n",
              "          )\n",
              "          (output): BertOutput(\n",
              "            (dense): Linear(in_features=3072, out_features=768, bias=True)\n",
              "            (LayerNorm): LayerNorm((768,), eps=1e-12, elementwise_affine=True)\n",
              "            (dropout): Dropout(p=0.15, inplace=False)\n",
              "          )\n",
              "        )\n",
              "        (9): BertLayer(\n",
              "          (attention): BertAttention(\n",
              "            (self): BertSelfAttention(\n",
              "              (query): Linear(in_features=768, out_features=768, bias=True)\n",
              "              (key): Linear(in_features=768, out_features=768, bias=True)\n",
              "              (value): Linear(in_features=768, out_features=768, bias=True)\n",
              "              (dropout): Dropout(p=0.1, inplace=False)\n",
              "            )\n",
              "            (output): BertSelfOutput(\n",
              "              (dense): Linear(in_features=768, out_features=768, bias=True)\n",
              "              (LayerNorm): LayerNorm((768,), eps=1e-12, elementwise_affine=True)\n",
              "              (dropout): Dropout(p=0.15, inplace=False)\n",
              "            )\n",
              "          )\n",
              "          (intermediate): BertIntermediate(\n",
              "            (dense): Linear(in_features=768, out_features=3072, bias=True)\n",
              "            (intermediate_act_fn): GELUActivation()\n",
              "          )\n",
              "          (output): BertOutput(\n",
              "            (dense): Linear(in_features=3072, out_features=768, bias=True)\n",
              "            (LayerNorm): LayerNorm((768,), eps=1e-12, elementwise_affine=True)\n",
              "            (dropout): Dropout(p=0.15, inplace=False)\n",
              "          )\n",
              "        )\n",
              "        (10): BertLayer(\n",
              "          (attention): BertAttention(\n",
              "            (self): BertSelfAttention(\n",
              "              (query): Linear(in_features=768, out_features=768, bias=True)\n",
              "              (key): Linear(in_features=768, out_features=768, bias=True)\n",
              "              (value): Linear(in_features=768, out_features=768, bias=True)\n",
              "              (dropout): Dropout(p=0.1, inplace=False)\n",
              "            )\n",
              "            (output): BertSelfOutput(\n",
              "              (dense): Linear(in_features=768, out_features=768, bias=True)\n",
              "              (LayerNorm): LayerNorm((768,), eps=1e-12, elementwise_affine=True)\n",
              "              (dropout): Dropout(p=0.15, inplace=False)\n",
              "            )\n",
              "          )\n",
              "          (intermediate): BertIntermediate(\n",
              "            (dense): Linear(in_features=768, out_features=3072, bias=True)\n",
              "            (intermediate_act_fn): GELUActivation()\n",
              "          )\n",
              "          (output): BertOutput(\n",
              "            (dense): Linear(in_features=3072, out_features=768, bias=True)\n",
              "            (LayerNorm): LayerNorm((768,), eps=1e-12, elementwise_affine=True)\n",
              "            (dropout): Dropout(p=0.15, inplace=False)\n",
              "          )\n",
              "        )\n",
              "        (11): BertLayer(\n",
              "          (attention): BertAttention(\n",
              "            (self): BertSelfAttention(\n",
              "              (query): Linear(in_features=768, out_features=768, bias=True)\n",
              "              (key): Linear(in_features=768, out_features=768, bias=True)\n",
              "              (value): Linear(in_features=768, out_features=768, bias=True)\n",
              "              (dropout): Dropout(p=0.1, inplace=False)\n",
              "            )\n",
              "            (output): BertSelfOutput(\n",
              "              (dense): Linear(in_features=768, out_features=768, bias=True)\n",
              "              (LayerNorm): LayerNorm((768,), eps=1e-12, elementwise_affine=True)\n",
              "              (dropout): Dropout(p=0.15, inplace=False)\n",
              "            )\n",
              "          )\n",
              "          (intermediate): BertIntermediate(\n",
              "            (dense): Linear(in_features=768, out_features=3072, bias=True)\n",
              "            (intermediate_act_fn): GELUActivation()\n",
              "          )\n",
              "          (output): BertOutput(\n",
              "            (dense): Linear(in_features=3072, out_features=768, bias=True)\n",
              "            (LayerNorm): LayerNorm((768,), eps=1e-12, elementwise_affine=True)\n",
              "            (dropout): Dropout(p=0.15, inplace=False)\n",
              "          )\n",
              "        )\n",
              "      )\n",
              "    )\n",
              "    (pooler): BertPooler(\n",
              "      (dense): Linear(in_features=768, out_features=768, bias=True)\n",
              "      (activation): Tanh()\n",
              "    )\n",
              "  )\n",
              "  (dropout): Dropout(p=0.15, inplace=False)\n",
              "  (classifier): Linear(in_features=768, out_features=101, bias=True)\n",
              ")"
            ]
          },
          "metadata": {},
          "execution_count": 10
        }
      ]
    },
    {
      "cell_type": "code",
      "execution_count": 11,
      "metadata": {
        "colab": {
          "base_uri": "https://localhost:8080/"
        },
        "id": "F1qImgeyib35",
        "outputId": "fbc335f3-a717-4354-f6e5-22ed5b153bb3"
      },
      "outputs": [
        {
          "output_type": "stream",
          "name": "stderr",
          "text": [
            "Token indices sequence length is longer than the specified maximum sequence length for this model (646 > 512). Running this sequence through the model will result in indexing errors\n"
          ]
        },
        {
          "output_type": "stream",
          "name": "stdout",
          "text": [
            "Max sentence length in training data:  7283\n"
          ]
        }
      ],
      "source": [
        "#Max length\n",
        "\n",
        "max_len = 0\n",
        "len_list=[]\n",
        "# For every sentence...\n",
        "for r in dataset_filtered.values:\n",
        "    #print(r)\n",
        "\n",
        "    # Tokenize the text and add `[CLS]` and `[SEP]` tokens.\n",
        "    input_ids = tokenizer.encode(r[1], add_special_tokens=True)\n",
        "    len_list.append([r[0],len(input_ids)])\n",
        "    \n",
        "    # Update the maximum sentence length.\n",
        "    max_len = max(max_len, len(input_ids))\n",
        "\n",
        "print('Max sentence length in training data: ', max_len)"
      ]
    },
    {
      "cell_type": "code",
      "execution_count": 12,
      "metadata": {
        "id": "TJH5YBtl2TOY"
      },
      "outputs": [],
      "source": [
        "labels = dataset_filtered.real_label.values\n",
        "sentences=dataset_filtered.review.values"
      ]
    },
    {
      "cell_type": "code",
      "source": [
        "np.unique(dataset_filtered.real_label.values)\n"
      ],
      "metadata": {
        "colab": {
          "base_uri": "https://localhost:8080/"
        },
        "id": "oI8AQwQo9hYz",
        "outputId": "4553f376-903d-4057-f698-36fe24e5c673"
      },
      "execution_count": 13,
      "outputs": [
        {
          "output_type": "execute_result",
          "data": {
            "text/plain": [
              "array([ 0,  1,  2,  3,  4,  5,  6,  7,  8,  9, 10, 11, 12, 13, 14, 15, 16,\n",
              "       17, 18, 19, 20, 21, 22, 23, 24, 25, 26, 27, 28, 29, 30, 31, 32, 33,\n",
              "       34, 35, 36, 37, 38, 39, 40, 41, 42, 43, 44, 45, 46, 47, 48, 49, 50,\n",
              "       51, 52, 53, 54, 55, 56, 57, 58, 59, 60, 61, 62, 63, 64, 65, 66, 67,\n",
              "       68, 69, 70, 71, 72, 73, 74, 75, 76, 77, 78, 79, 80, 81, 82, 83, 84,\n",
              "       85, 86, 87, 88, 89, 90, 91, 92, 93, 94, 95, 96, 97, 98, 99])"
            ]
          },
          "metadata": {},
          "execution_count": 13
        }
      ]
    },
    {
      "cell_type": "code",
      "source": [
        "#labels = torch.tensor(labels)"
      ],
      "metadata": {
        "id": "pvL9x0Nz9IA7"
      },
      "execution_count": 14,
      "outputs": []
    },
    {
      "cell_type": "code",
      "source": [
        "#labels = torch.nn.functional.one_hot(labels, num_classes = 100).to(torch.float)\n",
        "#print(labels)"
      ],
      "metadata": {
        "id": "oNK487VO9Ms9"
      },
      "execution_count": 15,
      "outputs": []
    },
    {
      "cell_type": "code",
      "source": [
        "# Print the original sentence.\n",
        "print(' Original: ', sentences[0])\n",
        "\n",
        "# Print the sentence split into tokens.\n",
        "print('Tokenized: ', tokenizer.tokenize(sentences[0]))\n",
        "\n",
        "# Print the sentence mapped to token ids.\n",
        "print('Token IDs: ', tokenizer.convert_tokens_to_ids(tokenizer.tokenize(sentences[0])))"
      ],
      "metadata": {
        "colab": {
          "base_uri": "https://localhost:8080/"
        },
        "id": "J8csXCK7-eXp",
        "outputId": "6625cd9b-c7a3-458d-d0fc-b3a55e85b5ee"
      },
      "execution_count": 16,
      "outputs": [
        {
          "output_type": "stream",
          "name": "stdout",
          "text": [
            " Original:  I have always been a fan of the Lewis and Clark (L&C) expedition and have read numerous books on that era.  I even road tripped along the Missouri River to the river's source in Montana (bypassing North Dakota and eastern Montana due to repeated tornadoes that summer), stopping along all the historical signs.  I'm a fan because I understand the courage it took to explore unknown lands with potential violent inhabitants, but I also understand the significance of American expansion to the Pacific via the Northwest passage.  Opening up these lands is one of Jefferson's biggest legacies as president.\n",
            "\n",
            "What Julie Fenster does here is not just summarize the L&C expedition, though.  She describes the young America at the turn of the 19th century.  Pioneers were moving westward, but Spain controlled the western lands. She gives short biographies of the players, the governors, kings and explorers of the era.  It was a time of great hostilities.  Fenster portrays Jefferson as a man fighting off the John Adams supporters; all was not going so well for Jefferson when he first became president.\n",
            "\n",
            "What readers get out of this very readable account is that the L&C expedition was not the only expedition going on at the time.  It's interesting to note that there were other courageous explorers willing to report back to Jefferson what the Spanish-held lands were like, and Fenster describes these in relation to the L&C expedition  The Hunter & Dunbar expedition was as valuable to Jefferson as the L&C one was, or the oft-plagued expedition of Zebulon Pike, or the courage of Thomas Freeman or Peter Custis.  All these men deserve their fifteen minutes of fame, and Fenster delivers a fast-paced narrative to tell the more complete story of a young America restless to explore and dominate its western boundaries.  If it hadn't been for the expense of the Napoleonic wars in western Europe, France and Spain may have had different visions of their mission in the New World.\n",
            "\n",
            "For those who are well-versed in the L&C expedition, it's well-known among those scholars that Lewis and Clark were not the first white men to traverse\n",
            "the Missouri River.  There were many French trappers and a few lone Spaniards who had made contact with the native tribes, and who unknowingly spread communicable diseases to these vulnerable people and decimated entire villages.  Fenster tries to bring this into perspective here, as L&C did not meet any hostile natives until they came among the Mandan.  Entire villages south of them were abandoned due to diseases the white settlers had brought to the region.\n",
            "\n",
            "This is a very readable narrative of Jefferson's goal to get the western lands explored.  There are a lot of names dropped early on to give the curious reader a perspective.  Spain and the young United States almost went to war over the status of New Orleans and the Louisiana territory, but the Napoleonic wars sidetracked the kings in Europe.  Many of the explorers in this book fall along the wayside in American history, but Fenster gives credit to all these men and help the history buff see that L&C were not the only expedition exploring unchartered waters.\n",
            "Tokenized:  ['i', 'have', 'always', 'been', 'a', 'fan', 'of', 'the', 'lewis', 'and', 'clark', '(', 'l', '&', 'c', ')', 'expedition', 'and', 'have', 'read', 'numerous', 'books', 'on', 'that', 'era', '.', 'i', 'even', 'road', 'tripped', 'along', 'the', 'missouri', 'river', 'to', 'the', 'river', \"'\", 's', 'source', 'in', 'montana', '(', 'bypass', '##ing', 'north', 'dakota', 'and', 'eastern', 'montana', 'due', 'to', 'repeated', 'tornadoes', 'that', 'summer', ')', ',', 'stopping', 'along', 'all', 'the', 'historical', 'signs', '.', 'i', \"'\", 'm', 'a', 'fan', 'because', 'i', 'understand', 'the', 'courage', 'it', 'took', 'to', 'explore', 'unknown', 'lands', 'with', 'potential', 'violent', 'inhabitants', ',', 'but', 'i', 'also', 'understand', 'the', 'significance', 'of', 'american', 'expansion', 'to', 'the', 'pacific', 'via', 'the', 'northwest', 'passage', '.', 'opening', 'up', 'these', 'lands', 'is', 'one', 'of', 'jefferson', \"'\", 's', 'biggest', 'leg', '##acies', 'as', 'president', '.', 'what', 'julie', 'fen', '##ster', 'does', 'here', 'is', 'not', 'just', 'sum', '##mar', '##ize', 'the', 'l', '&', 'c', 'expedition', ',', 'though', '.', 'she', 'describes', 'the', 'young', 'america', 'at', 'the', 'turn', 'of', 'the', '19th', 'century', '.', 'pioneers', 'were', 'moving', 'westward', ',', 'but', 'spain', 'controlled', 'the', 'western', 'lands', '.', 'she', 'gives', 'short', 'biographies', 'of', 'the', 'players', ',', 'the', 'governors', ',', 'kings', 'and', 'explorers', 'of', 'the', 'era', '.', 'it', 'was', 'a', 'time', 'of', 'great', 'hostilities', '.', 'fen', '##ster', 'portrays', 'jefferson', 'as', 'a', 'man', 'fighting', 'off', 'the', 'john', 'adams', 'supporters', ';', 'all', 'was', 'not', 'going', 'so', 'well', 'for', 'jefferson', 'when', 'he', 'first', 'became', 'president', '.', 'what', 'readers', 'get', 'out', 'of', 'this', 'very', 'read', '##able', 'account', 'is', 'that', 'the', 'l', '&', 'c', 'expedition', 'was', 'not', 'the', 'only', 'expedition', 'going', 'on', 'at', 'the', 'time', '.', 'it', \"'\", 's', 'interesting', 'to', 'note', 'that', 'there', 'were', 'other', 'courageous', 'explorers', 'willing', 'to', 'report', 'back', 'to', 'jefferson', 'what', 'the', 'spanish', '-', 'held', 'lands', 'were', 'like', ',', 'and', 'fen', '##ster', 'describes', 'these', 'in', 'relation', 'to', 'the', 'l', '&', 'c', 'expedition', 'the', 'hunter', '&', 'dunbar', 'expedition', 'was', 'as', 'valuable', 'to', 'jefferson', 'as', 'the', 'l', '&', 'c', 'one', 'was', ',', 'or', 'the', 'of', '##t', '-', 'plagued', 'expedition', 'of', 'ze', '##bu', '##lon', 'pike', ',', 'or', 'the', 'courage', 'of', 'thomas', 'freeman', 'or', 'peter', 'cu', '##stis', '.', 'all', 'these', 'men', 'deserve', 'their', 'fifteen', 'minutes', 'of', 'fame', ',', 'and', 'fen', '##ster', 'delivers', 'a', 'fast', '-', 'paced', 'narrative', 'to', 'tell', 'the', 'more', 'complete', 'story', 'of', 'a', 'young', 'america', 'restless', 'to', 'explore', 'and', 'dominate', 'its', 'western', 'boundaries', '.', 'if', 'it', 'hadn', \"'\", 't', 'been', 'for', 'the', 'expense', 'of', 'the', 'napoleonic', 'wars', 'in', 'western', 'europe', ',', 'france', 'and', 'spain', 'may', 'have', 'had', 'different', 'visions', 'of', 'their', 'mission', 'in', 'the', 'new', 'world', '.', 'for', 'those', 'who', 'are', 'well', '-', 'verse', '##d', 'in', 'the', 'l', '&', 'c', 'expedition', ',', 'it', \"'\", 's', 'well', '-', 'known', 'among', 'those', 'scholars', 'that', 'lewis', 'and', 'clark', 'were', 'not', 'the', 'first', 'white', 'men', 'to', 'traverse', 'the', 'missouri', 'river', '.', 'there', 'were', 'many', 'french', 'trap', '##pers', 'and', 'a', 'few', 'lone', 'spaniards', 'who', 'had', 'made', 'contact', 'with', 'the', 'native', 'tribes', ',', 'and', 'who', 'un', '##k', '##now', '##ingly', 'spread', 'com', '##mun', '##ica', '##ble', 'diseases', 'to', 'these', 'vulnerable', 'people', 'and', 'dec', '##imated', 'entire', 'villages', '.', 'fen', '##ster', 'tries', 'to', 'bring', 'this', 'into', 'perspective', 'here', ',', 'as', 'l', '&', 'c', 'did', 'not', 'meet', 'any', 'hostile', 'natives', 'until', 'they', 'came', 'among', 'the', 'man', '##dan', '.', 'entire', 'villages', 'south', 'of', 'them', 'were', 'abandoned', 'due', 'to', 'diseases', 'the', 'white', 'settlers', 'had', 'brought', 'to', 'the', 'region', '.', 'this', 'is', 'a', 'very', 'read', '##able', 'narrative', 'of', 'jefferson', \"'\", 's', 'goal', 'to', 'get', 'the', 'western', 'lands', 'explored', '.', 'there', 'are', 'a', 'lot', 'of', 'names', 'dropped', 'early', 'on', 'to', 'give', 'the', 'curious', 'reader', 'a', 'perspective', '.', 'spain', 'and', 'the', 'young', 'united', 'states', 'almost', 'went', 'to', 'war', 'over', 'the', 'status', 'of', 'new', 'orleans', 'and', 'the', 'louisiana', 'territory', ',', 'but', 'the', 'napoleonic', 'wars', 'side', '##tra', '##cked', 'the', 'kings', 'in', 'europe', '.', 'many', 'of', 'the', 'explorers', 'in', 'this', 'book', 'fall', 'along', 'the', 'ways', '##ide', 'in', 'american', 'history', ',', 'but', 'fen', '##ster', 'gives', 'credit', 'to', 'all', 'these', 'men', 'and', 'help', 'the', 'history', 'buff', 'see', 'that', 'l', '&', 'c', 'were', 'not', 'the', 'only', 'expedition', 'exploring', 'un', '##cha', '##rter', '##ed', 'waters', '.']\n",
            "Token IDs:  [1045, 2031, 2467, 2042, 1037, 5470, 1997, 1996, 4572, 1998, 5215, 1006, 1048, 1004, 1039, 1007, 5590, 1998, 2031, 3191, 3365, 2808, 2006, 2008, 3690, 1012, 1045, 2130, 2346, 21129, 2247, 1996, 5284, 2314, 2000, 1996, 2314, 1005, 1055, 3120, 1999, 8124, 1006, 11826, 2075, 2167, 7734, 1998, 2789, 8124, 2349, 2000, 5567, 22668, 2008, 2621, 1007, 1010, 7458, 2247, 2035, 1996, 3439, 5751, 1012, 1045, 1005, 1049, 1037, 5470, 2138, 1045, 3305, 1996, 8424, 2009, 2165, 2000, 8849, 4242, 4915, 2007, 4022, 6355, 4864, 1010, 2021, 1045, 2036, 3305, 1996, 7784, 1997, 2137, 4935, 2000, 1996, 3534, 3081, 1996, 4514, 6019, 1012, 3098, 2039, 2122, 4915, 2003, 2028, 1997, 7625, 1005, 1055, 5221, 4190, 20499, 2004, 2343, 1012, 2054, 7628, 21713, 6238, 2515, 2182, 2003, 2025, 2074, 7680, 7849, 4697, 1996, 1048, 1004, 1039, 5590, 1010, 2295, 1012, 2016, 5577, 1996, 2402, 2637, 2012, 1996, 2735, 1997, 1996, 3708, 2301, 1012, 13200, 2020, 3048, 15165, 1010, 2021, 3577, 4758, 1996, 2530, 4915, 1012, 2016, 3957, 2460, 22056, 1997, 1996, 2867, 1010, 1996, 11141, 1010, 5465, 1998, 19264, 1997, 1996, 3690, 1012, 2009, 2001, 1037, 2051, 1997, 2307, 17601, 1012, 21713, 6238, 17509, 7625, 2004, 1037, 2158, 3554, 2125, 1996, 2198, 5922, 6793, 1025, 2035, 2001, 2025, 2183, 2061, 2092, 2005, 7625, 2043, 2002, 2034, 2150, 2343, 1012, 2054, 8141, 2131, 2041, 1997, 2023, 2200, 3191, 3085, 4070, 2003, 2008, 1996, 1048, 1004, 1039, 5590, 2001, 2025, 1996, 2069, 5590, 2183, 2006, 2012, 1996, 2051, 1012, 2009, 1005, 1055, 5875, 2000, 3602, 2008, 2045, 2020, 2060, 26103, 19264, 5627, 2000, 3189, 2067, 2000, 7625, 2054, 1996, 3009, 1011, 2218, 4915, 2020, 2066, 1010, 1998, 21713, 6238, 5577, 2122, 1999, 7189, 2000, 1996, 1048, 1004, 1039, 5590, 1996, 4477, 1004, 23034, 5590, 2001, 2004, 7070, 2000, 7625, 2004, 1996, 1048, 1004, 1039, 2028, 2001, 1010, 2030, 1996, 1997, 2102, 1011, 17808, 5590, 1997, 27838, 8569, 7811, 12694, 1010, 2030, 1996, 8424, 1997, 2726, 11462, 2030, 2848, 12731, 29472, 1012, 2035, 2122, 2273, 10107, 2037, 5417, 2781, 1997, 4476, 1010, 1998, 21713, 6238, 18058, 1037, 3435, 1011, 13823, 7984, 2000, 2425, 1996, 2062, 3143, 2466, 1997, 1037, 2402, 2637, 15035, 2000, 8849, 1998, 16083, 2049, 2530, 7372, 1012, 2065, 2009, 2910, 1005, 1056, 2042, 2005, 1996, 10961, 1997, 1996, 18813, 5233, 1999, 2530, 2885, 1010, 2605, 1998, 3577, 2089, 2031, 2018, 2367, 12018, 1997, 2037, 3260, 1999, 1996, 2047, 2088, 1012, 2005, 2216, 2040, 2024, 2092, 1011, 7893, 2094, 1999, 1996, 1048, 1004, 1039, 5590, 1010, 2009, 1005, 1055, 2092, 1011, 2124, 2426, 2216, 5784, 2008, 4572, 1998, 5215, 2020, 2025, 1996, 2034, 2317, 2273, 2000, 20811, 1996, 5284, 2314, 1012, 2045, 2020, 2116, 2413, 8132, 7347, 1998, 1037, 2261, 10459, 20999, 2040, 2018, 2081, 3967, 2007, 1996, 3128, 6946, 1010, 1998, 2040, 4895, 2243, 19779, 15787, 3659, 4012, 23041, 5555, 3468, 7870, 2000, 2122, 8211, 2111, 1998, 11703, 20592, 2972, 4731, 1012, 21713, 6238, 5363, 2000, 3288, 2023, 2046, 7339, 2182, 1010, 2004, 1048, 1004, 1039, 2106, 2025, 3113, 2151, 10420, 12493, 2127, 2027, 2234, 2426, 1996, 2158, 7847, 1012, 2972, 4731, 2148, 1997, 2068, 2020, 4704, 2349, 2000, 7870, 1996, 2317, 7322, 2018, 2716, 2000, 1996, 2555, 1012, 2023, 2003, 1037, 2200, 3191, 3085, 7984, 1997, 7625, 1005, 1055, 3125, 2000, 2131, 1996, 2530, 4915, 10641, 1012, 2045, 2024, 1037, 2843, 1997, 3415, 3333, 2220, 2006, 2000, 2507, 1996, 8025, 8068, 1037, 7339, 1012, 3577, 1998, 1996, 2402, 2142, 2163, 2471, 2253, 2000, 2162, 2058, 1996, 3570, 1997, 2047, 5979, 1998, 1996, 5773, 3700, 1010, 2021, 1996, 18813, 5233, 2217, 6494, 18141, 1996, 5465, 1999, 2885, 1012, 2116, 1997, 1996, 19264, 1999, 2023, 2338, 2991, 2247, 1996, 3971, 5178, 1999, 2137, 2381, 1010, 2021, 21713, 6238, 3957, 4923, 2000, 2035, 2122, 2273, 1998, 2393, 1996, 2381, 23176, 2156, 2008, 1048, 1004, 1039, 2020, 2025, 1996, 2069, 5590, 11131, 4895, 7507, 19418, 2098, 5380, 1012]\n"
          ]
        }
      ]
    },
    {
      "cell_type": "code",
      "execution_count": 17,
      "metadata": {
        "id": "6LWSQnh-UGQn"
      },
      "outputs": [],
      "source": [
        "input_ids = []\n",
        "attention_masks = []\n",
        "\n",
        "# For every sentence...\n",
        "for s in sentences:\n",
        "    # `encode_plus` will:\n",
        "    #   (1) Tokenize the sentence.\n",
        "    #   (2) Prepend the `[CLS]` token to the start.\n",
        "    #   (3) Append the `[SEP]` token to the end.\n",
        "    #   (4) Map tokens to their IDs.\n",
        "    #   (5) Pad or truncate the sentence to `max_length`\n",
        "    #   (6) Create attention masks for [PAD] tokens.\n",
        "    encoded_dict = tokenizer.encode_plus(\n",
        "                        s,                      # Sentence to encode.\n",
        "                        truncation=True,\n",
        "                        add_special_tokens = True, # Add '[CLS]' and '[SEP]'\n",
        "                        max_length = 512,           # Pad & truncate all sentences.\n",
        "                        padding='max_length',\n",
        "                        return_attention_mask = True,   # Construct attn. masks.\n",
        "                        return_tensors = 'pt',     # Return pytorch tensors.\n",
        "                        return_overflowing_tokens=False,\n",
        "                   )\n",
        "    \n",
        "    # Add the encoded sentence to the list.    \n",
        "    input_ids.append(encoded_dict['input_ids'])\n",
        "    \n",
        "    # And its attention mask (simply differentiates padding from non-padding).\n",
        "    attention_masks.append(encoded_dict['attention_mask'])\n",
        "\n",
        "# Convert the lists into tensors.\n",
        "input_ids = torch.cat(input_ids, dim=0)\n",
        "attention_masks = torch.cat(attention_masks, dim=0)\n",
        "labels = torch.tensor(labels)\n"
      ]
    },
    {
      "cell_type": "code",
      "source": [
        "input_ids[0]"
      ],
      "metadata": {
        "colab": {
          "base_uri": "https://localhost:8080/"
        },
        "id": "94sqHr36CdtB",
        "outputId": "620b232b-0796-438c-cd95-3581ac07ec4a"
      },
      "execution_count": 18,
      "outputs": [
        {
          "output_type": "execute_result",
          "data": {
            "text/plain": [
              "tensor([  101,  1045,  2031,  2467,  2042,  1037,  5470,  1997,  1996,  4572,\n",
              "         1998,  5215,  1006,  1048,  1004,  1039,  1007,  5590,  1998,  2031,\n",
              "         3191,  3365,  2808,  2006,  2008,  3690,  1012,  1045,  2130,  2346,\n",
              "        21129,  2247,  1996,  5284,  2314,  2000,  1996,  2314,  1005,  1055,\n",
              "         3120,  1999,  8124,  1006, 11826,  2075,  2167,  7734,  1998,  2789,\n",
              "         8124,  2349,  2000,  5567, 22668,  2008,  2621,  1007,  1010,  7458,\n",
              "         2247,  2035,  1996,  3439,  5751,  1012,  1045,  1005,  1049,  1037,\n",
              "         5470,  2138,  1045,  3305,  1996,  8424,  2009,  2165,  2000,  8849,\n",
              "         4242,  4915,  2007,  4022,  6355,  4864,  1010,  2021,  1045,  2036,\n",
              "         3305,  1996,  7784,  1997,  2137,  4935,  2000,  1996,  3534,  3081,\n",
              "         1996,  4514,  6019,  1012,  3098,  2039,  2122,  4915,  2003,  2028,\n",
              "         1997,  7625,  1005,  1055,  5221,  4190, 20499,  2004,  2343,  1012,\n",
              "         2054,  7628, 21713,  6238,  2515,  2182,  2003,  2025,  2074,  7680,\n",
              "         7849,  4697,  1996,  1048,  1004,  1039,  5590,  1010,  2295,  1012,\n",
              "         2016,  5577,  1996,  2402,  2637,  2012,  1996,  2735,  1997,  1996,\n",
              "         3708,  2301,  1012, 13200,  2020,  3048, 15165,  1010,  2021,  3577,\n",
              "         4758,  1996,  2530,  4915,  1012,  2016,  3957,  2460, 22056,  1997,\n",
              "         1996,  2867,  1010,  1996, 11141,  1010,  5465,  1998, 19264,  1997,\n",
              "         1996,  3690,  1012,  2009,  2001,  1037,  2051,  1997,  2307, 17601,\n",
              "         1012, 21713,  6238, 17509,  7625,  2004,  1037,  2158,  3554,  2125,\n",
              "         1996,  2198,  5922,  6793,  1025,  2035,  2001,  2025,  2183,  2061,\n",
              "         2092,  2005,  7625,  2043,  2002,  2034,  2150,  2343,  1012,  2054,\n",
              "         8141,  2131,  2041,  1997,  2023,  2200,  3191,  3085,  4070,  2003,\n",
              "         2008,  1996,  1048,  1004,  1039,  5590,  2001,  2025,  1996,  2069,\n",
              "         5590,  2183,  2006,  2012,  1996,  2051,  1012,  2009,  1005,  1055,\n",
              "         5875,  2000,  3602,  2008,  2045,  2020,  2060, 26103, 19264,  5627,\n",
              "         2000,  3189,  2067,  2000,  7625,  2054,  1996,  3009,  1011,  2218,\n",
              "         4915,  2020,  2066,  1010,  1998, 21713,  6238,  5577,  2122,  1999,\n",
              "         7189,  2000,  1996,  1048,  1004,  1039,  5590,  1996,  4477,  1004,\n",
              "        23034,  5590,  2001,  2004,  7070,  2000,  7625,  2004,  1996,  1048,\n",
              "         1004,  1039,  2028,  2001,  1010,  2030,  1996,  1997,  2102,  1011,\n",
              "        17808,  5590,  1997, 27838,  8569,  7811, 12694,  1010,  2030,  1996,\n",
              "         8424,  1997,  2726, 11462,  2030,  2848, 12731, 29472,  1012,  2035,\n",
              "         2122,  2273, 10107,  2037,  5417,  2781,  1997,  4476,  1010,  1998,\n",
              "        21713,  6238, 18058,  1037,  3435,  1011, 13823,  7984,  2000,  2425,\n",
              "         1996,  2062,  3143,  2466,  1997,  1037,  2402,  2637, 15035,  2000,\n",
              "         8849,  1998, 16083,  2049,  2530,  7372,  1012,  2065,  2009,  2910,\n",
              "         1005,  1056,  2042,  2005,  1996, 10961,  1997,  1996, 18813,  5233,\n",
              "         1999,  2530,  2885,  1010,  2605,  1998,  3577,  2089,  2031,  2018,\n",
              "         2367, 12018,  1997,  2037,  3260,  1999,  1996,  2047,  2088,  1012,\n",
              "         2005,  2216,  2040,  2024,  2092,  1011,  7893,  2094,  1999,  1996,\n",
              "         1048,  1004,  1039,  5590,  1010,  2009,  1005,  1055,  2092,  1011,\n",
              "         2124,  2426,  2216,  5784,  2008,  4572,  1998,  5215,  2020,  2025,\n",
              "         1996,  2034,  2317,  2273,  2000, 20811,  1996,  5284,  2314,  1012,\n",
              "         2045,  2020,  2116,  2413,  8132,  7347,  1998,  1037,  2261, 10459,\n",
              "        20999,  2040,  2018,  2081,  3967,  2007,  1996,  3128,  6946,  1010,\n",
              "         1998,  2040,  4895,  2243, 19779, 15787,  3659,  4012, 23041,  5555,\n",
              "         3468,  7870,  2000,  2122,  8211,  2111,  1998, 11703, 20592,  2972,\n",
              "         4731,  1012, 21713,  6238,  5363,  2000,  3288,  2023,  2046,  7339,\n",
              "         2182,  1010,  2004,  1048,  1004,  1039,  2106,  2025,  3113,  2151,\n",
              "        10420, 12493,  2127,  2027,  2234,  2426,  1996,  2158,  7847,  1012,\n",
              "         2972,   102])"
            ]
          },
          "metadata": {},
          "execution_count": 18
        }
      ]
    },
    {
      "cell_type": "code",
      "source": [
        "attention_masks[0]"
      ],
      "metadata": {
        "colab": {
          "base_uri": "https://localhost:8080/"
        },
        "id": "xlyteN-zJGuU",
        "outputId": "8fa4f4ef-70f2-4dca-83ad-ee32df7abb3f"
      },
      "execution_count": 19,
      "outputs": [
        {
          "output_type": "execute_result",
          "data": {
            "text/plain": [
              "tensor([1, 1, 1, 1, 1, 1, 1, 1, 1, 1, 1, 1, 1, 1, 1, 1, 1, 1, 1, 1, 1, 1, 1, 1,\n",
              "        1, 1, 1, 1, 1, 1, 1, 1, 1, 1, 1, 1, 1, 1, 1, 1, 1, 1, 1, 1, 1, 1, 1, 1,\n",
              "        1, 1, 1, 1, 1, 1, 1, 1, 1, 1, 1, 1, 1, 1, 1, 1, 1, 1, 1, 1, 1, 1, 1, 1,\n",
              "        1, 1, 1, 1, 1, 1, 1, 1, 1, 1, 1, 1, 1, 1, 1, 1, 1, 1, 1, 1, 1, 1, 1, 1,\n",
              "        1, 1, 1, 1, 1, 1, 1, 1, 1, 1, 1, 1, 1, 1, 1, 1, 1, 1, 1, 1, 1, 1, 1, 1,\n",
              "        1, 1, 1, 1, 1, 1, 1, 1, 1, 1, 1, 1, 1, 1, 1, 1, 1, 1, 1, 1, 1, 1, 1, 1,\n",
              "        1, 1, 1, 1, 1, 1, 1, 1, 1, 1, 1, 1, 1, 1, 1, 1, 1, 1, 1, 1, 1, 1, 1, 1,\n",
              "        1, 1, 1, 1, 1, 1, 1, 1, 1, 1, 1, 1, 1, 1, 1, 1, 1, 1, 1, 1, 1, 1, 1, 1,\n",
              "        1, 1, 1, 1, 1, 1, 1, 1, 1, 1, 1, 1, 1, 1, 1, 1, 1, 1, 1, 1, 1, 1, 1, 1,\n",
              "        1, 1, 1, 1, 1, 1, 1, 1, 1, 1, 1, 1, 1, 1, 1, 1, 1, 1, 1, 1, 1, 1, 1, 1,\n",
              "        1, 1, 1, 1, 1, 1, 1, 1, 1, 1, 1, 1, 1, 1, 1, 1, 1, 1, 1, 1, 1, 1, 1, 1,\n",
              "        1, 1, 1, 1, 1, 1, 1, 1, 1, 1, 1, 1, 1, 1, 1, 1, 1, 1, 1, 1, 1, 1, 1, 1,\n",
              "        1, 1, 1, 1, 1, 1, 1, 1, 1, 1, 1, 1, 1, 1, 1, 1, 1, 1, 1, 1, 1, 1, 1, 1,\n",
              "        1, 1, 1, 1, 1, 1, 1, 1, 1, 1, 1, 1, 1, 1, 1, 1, 1, 1, 1, 1, 1, 1, 1, 1,\n",
              "        1, 1, 1, 1, 1, 1, 1, 1, 1, 1, 1, 1, 1, 1, 1, 1, 1, 1, 1, 1, 1, 1, 1, 1,\n",
              "        1, 1, 1, 1, 1, 1, 1, 1, 1, 1, 1, 1, 1, 1, 1, 1, 1, 1, 1, 1, 1, 1, 1, 1,\n",
              "        1, 1, 1, 1, 1, 1, 1, 1, 1, 1, 1, 1, 1, 1, 1, 1, 1, 1, 1, 1, 1, 1, 1, 1,\n",
              "        1, 1, 1, 1, 1, 1, 1, 1, 1, 1, 1, 1, 1, 1, 1, 1, 1, 1, 1, 1, 1, 1, 1, 1,\n",
              "        1, 1, 1, 1, 1, 1, 1, 1, 1, 1, 1, 1, 1, 1, 1, 1, 1, 1, 1, 1, 1, 1, 1, 1,\n",
              "        1, 1, 1, 1, 1, 1, 1, 1, 1, 1, 1, 1, 1, 1, 1, 1, 1, 1, 1, 1, 1, 1, 1, 1,\n",
              "        1, 1, 1, 1, 1, 1, 1, 1, 1, 1, 1, 1, 1, 1, 1, 1, 1, 1, 1, 1, 1, 1, 1, 1,\n",
              "        1, 1, 1, 1, 1, 1, 1, 1])"
            ]
          },
          "metadata": {},
          "execution_count": 19
        }
      ]
    },
    {
      "cell_type": "code",
      "execution_count": 20,
      "metadata": {
        "id": "vPrzId6-VHRr",
        "colab": {
          "base_uri": "https://localhost:8080/"
        },
        "outputId": "6fdff302-e3ea-4e40-e1cd-12eb5b90ef65"
      },
      "outputs": [
        {
          "output_type": "stream",
          "name": "stdout",
          "text": [
            "45,000 training samples\n",
            "5,000 validation samples\n"
          ]
        }
      ],
      "source": [
        "from torch.utils.data import TensorDataset, random_split\n",
        "\n",
        "# Combine the training inputs into a TensorDataset.\n",
        "dataset = TensorDataset(input_ids, attention_masks, labels)\n",
        "\n",
        "# Create a 90-10 train-validation split.\n",
        "\n",
        "# Calculate the number of samples to include in each set.\n",
        "train_size = int(0.9 * len(dataset))\n",
        "val_size = len(dataset) - train_size\n",
        "\n",
        "generator = torch.Generator()\n",
        "generator.manual_seed(44)\n",
        "\n",
        "# Divide the dataset by randomly selecting samples.\n",
        "train_dataset, val_dataset = random_split(dataset, [train_size, val_size], generator=generator)\n",
        "\n",
        "print('{:>5,} training samples'.format(train_size))\n",
        "print('{:>5,} validation samples'.format(val_size))"
      ]
    },
    {
      "cell_type": "code",
      "source": [
        "from torch.utils.data import DataLoader, RandomSampler, SequentialSampler\n",
        "\n",
        "# The DataLoader needs to know our batch size for training, so we specify it \n",
        "# here. For fine-tuning BERT on a specific task, the authors recommend a batch \n",
        "# size of 16 or 32.\n",
        "batch_size = 16\n",
        "\n",
        "# Create the DataLoaders for our training and validation sets.\n",
        "# We'll take training samples in random order. \n",
        "train_dataloader = DataLoader(\n",
        "            train_dataset,  # The training samples.\n",
        "            sampler = RandomSampler(train_dataset), # Select batches randomly\n",
        "            batch_size = batch_size, # Trains with this batch size.\n",
        "            num_workers=2\n",
        "        )\n",
        "\n",
        "# For validation the order doesn't matter, so we'll just read them sequentially.\n",
        "validation_dataloader = DataLoader(\n",
        "            val_dataset, # The validation samples.\n",
        "            sampler = SequentialSampler(val_dataset), # Pull out batches sequentially.\n",
        "            batch_size = batch_size, # Evaluate with this batch size.\n",
        "            num_workers=2\n",
        "        )"
      ],
      "metadata": {
        "id": "S28rl4_sW-Tg"
      },
      "execution_count": 21,
      "outputs": []
    },
    {
      "cell_type": "code",
      "source": [
        "# from transformers import RobertaForSequenceClassification,BertForSequenceClassification, AdamW, BertConfig\n",
        "\n",
        "# # Load BertForSequenceClassification, the pretrained BERT model with a single \n",
        "# # linear classification layer on top. \n",
        "\n",
        "# model = AutoModelForSequenceClassification.from_pretrained('bert-base-uncased', config=config)\n",
        "\n",
        "# \"\"\"\n",
        "# model = RobertaForSequenceClassification.from_pretrained(\n",
        "#     \"roberta-base\", # Use the 12-layer BERT model, with an uncased vocab.\n",
        "#     num_labels = 100, # The number of output labels--2 for binary classification.\n",
        "#              # You can increase this for multi-class tasks.   \n",
        "#     output_attentions = False, # Whether the model returns attentions weights.\n",
        "#     output_hidden_states = True, # Whether the model returns all hidden-states.\n",
        "# )\"\"\"\n",
        "\n",
        "# # Tell pytorch to run this model on the GPU.\n",
        "# model.to(device)"
      ],
      "metadata": {
        "id": "FFC8OPPtXj-o"
      },
      "execution_count": 22,
      "outputs": []
    },
    {
      "cell_type": "code",
      "source": [
        "# Note: AdamW is a class from the huggingface library (as opposed to pytorch) \n",
        "# I believe the 'W' stands for 'Weight Decay fix\"\n",
        "optimizer = AdamW(model.parameters(),\n",
        "                  lr = 5e-5, # args.learning_rate - default is 5e-5, our notebook had 2e-5\n",
        "                  eps = 1e-8 # args.adam_epsilon  - default is 1e-8.\n",
        "                )\n"
      ],
      "metadata": {
        "colab": {
          "base_uri": "https://localhost:8080/"
        },
        "id": "tyfOCEN1Xryv",
        "outputId": "1b06684d-9ae4-4fe8-8eed-a0654fdf2fef"
      },
      "execution_count": 23,
      "outputs": [
        {
          "output_type": "stream",
          "name": "stderr",
          "text": [
            "/usr/local/lib/python3.7/dist-packages/transformers/optimization.py:310: FutureWarning: This implementation of AdamW is deprecated and will be removed in a future version. Use the PyTorch implementation torch.optim.AdamW instead, or set `no_deprecation_warning=True` to disable this warning\n",
            "  FutureWarning,\n"
          ]
        }
      ]
    },
    {
      "cell_type": "code",
      "source": [
        "from transformers import get_linear_schedule_with_warmup\n",
        "\n",
        "# Number of training epochs. The BERT authors recommend between 2 and 4. \n",
        "# We chose to run for 4, but we'll see later that this may be over-fitting the\n",
        "# training data.\n",
        "epochs = 2\n",
        "\n",
        "# Total number of training steps is [number of batches] x [number of epochs]. \n",
        "# (Note that this is not the same as the number of training samples).\n",
        "#total_steps = len(train_dataloader) * epochs\n",
        "gradient_accumulation_steps=1\n",
        "n_gpu=1\n",
        "#total_steps= ((len(train_dataloader) // (batch_size * max(1, n_gpu)))// gradient_accumulation_steps* float(epochs))\n",
        "total_steps = len(train_dataloader) * epochs\n",
        "\n",
        "# Create the learning rate scheduler.\n",
        "scheduler = get_linear_schedule_with_warmup(optimizer, \n",
        "                                            num_warmup_steps = 0, # Default value in run_glue.py\n",
        "                                            num_training_steps = total_steps)"
      ],
      "metadata": {
        "id": "0w5GFlvKYPSt"
      },
      "execution_count": 24,
      "outputs": []
    },
    {
      "cell_type": "code",
      "source": [
        "import numpy as np\n",
        "\n",
        "# Function to calculate the accuracy of our predictions vs labels\n",
        "def flat_accuracy(preds, labels):\n",
        "    pred_flat = np.argmax(preds, axis=1).flatten()\n",
        "    labels_flat = labels.flatten()\n",
        "    return np.sum(pred_flat == labels_flat) / len(labels_flat)"
      ],
      "metadata": {
        "id": "Kw9o2H90ZOV6"
      },
      "execution_count": 25,
      "outputs": []
    },
    {
      "cell_type": "code",
      "source": [
        "import time\n",
        "import datetime\n",
        "\n",
        "def format_time(elapsed):\n",
        "    '''\n",
        "    Takes a time in seconds and returns a string hh:mm:ss\n",
        "    '''\n",
        "    # Round to the nearest second.\n",
        "    elapsed_rounded = int(round((elapsed)))\n",
        "    \n",
        "    # Format as hh:mm:ss\n",
        "    return str(datetime.timedelta(seconds=elapsed_rounded))\n"
      ],
      "metadata": {
        "id": "ETl2dVFAZRQ9"
      },
      "execution_count": 26,
      "outputs": []
    },
    {
      "cell_type": "code",
      "source": [],
      "metadata": {
        "id": "g3VSWJY-BIEQ"
      },
      "execution_count": 26,
      "outputs": []
    },
    {
      "cell_type": "code",
      "source": [],
      "metadata": {
        "id": "66SqB6uMBIHx"
      },
      "execution_count": 26,
      "outputs": []
    },
    {
      "cell_type": "code",
      "source": [],
      "metadata": {
        "id": "zrxmddWgA4cS"
      },
      "execution_count": 26,
      "outputs": []
    },
    {
      "cell_type": "code",
      "source": [
        "# x = torch.randn(1)"
      ],
      "metadata": {
        "id": "5H4s_OnkA4e0"
      },
      "execution_count": 27,
      "outputs": []
    },
    {
      "cell_type": "code",
      "source": [
        "# x"
      ],
      "metadata": {
        "id": "NNBdfXbKBFq4"
      },
      "execution_count": 28,
      "outputs": []
    },
    {
      "cell_type": "code",
      "source": [
        "# r =nn.ReLU()"
      ],
      "metadata": {
        "id": "gCQMjgO9bSt0"
      },
      "execution_count": 29,
      "outputs": []
    },
    {
      "cell_type": "code",
      "source": [
        "# r(x)"
      ],
      "metadata": {
        "id": "JNl5tVWibUK5"
      },
      "execution_count": 30,
      "outputs": []
    },
    {
      "cell_type": "code",
      "source": [
        "# torch.cat((x, x, x), 0)"
      ],
      "metadata": {
        "id": "v7OfPiRtA4hE"
      },
      "execution_count": 31,
      "outputs": []
    },
    {
      "cell_type": "code",
      "source": [
        "#  eps = 1e-07\n",
        "#  print(eps)"
      ],
      "metadata": {
        "id": "0RLH0u9jaqMm"
      },
      "execution_count": 32,
      "outputs": []
    },
    {
      "cell_type": "code",
      "source": [],
      "metadata": {
        "id": "ZXgwP-TPaqRy"
      },
      "execution_count": 32,
      "outputs": []
    },
    {
      "cell_type": "code",
      "source": [],
      "metadata": {
        "id": "iBTEnFlRaqTt"
      },
      "execution_count": 32,
      "outputs": []
    },
    {
      "cell_type": "code",
      "source": [],
      "metadata": {
        "id": "OLkwap5waqXB"
      },
      "execution_count": 32,
      "outputs": []
    },
    {
      "cell_type": "code",
      "source": [],
      "metadata": {
        "id": "z5rW50TJBHaX"
      },
      "execution_count": 32,
      "outputs": []
    },
    {
      "cell_type": "code",
      "source": [
        "import torch.nn as nn"
      ],
      "metadata": {
        "id": "kGPX_c8JBHdy"
      },
      "execution_count": 33,
      "outputs": []
    },
    {
      "cell_type": "code",
      "source": [
        "import random\n",
        "seed_val = 44\n",
        "\n",
        "random.seed(seed_val)\n",
        "np.random.seed(seed_val)\n",
        "torch.manual_seed(seed_val)\n",
        "torch.cuda.manual_seed_all(seed_val)"
      ],
      "metadata": {
        "id": "RLrdCbDju7W_"
      },
      "execution_count": 34,
      "outputs": []
    },
    {
      "cell_type": "code",
      "source": [
        "import random\n",
        "import numpy as np\n",
        "\n",
        "# This training code is based on the `run_glue.py` script here:\n",
        "# https://github.com/huggingface/transformers/blob/5bfcd0485ece086ebcbed2d008813037968a9e58/examples/run_glue.py#L128\n",
        "\n",
        "# Set the seed value all over the place to make this reproducible.\n",
        "seed_val = 44\n",
        "\n",
        "random.seed(seed_val)\n",
        "np.random.seed(seed_val)\n",
        "torch.manual_seed(seed_val)\n",
        "torch.cuda.manual_seed_all(seed_val)\n",
        "\n",
        "# We'll store a number of quantities such as training and validation loss, \n",
        "# validation accuracy, and timings.\n",
        "training_stats = []\n",
        "\n",
        "# Measure the total training time for the whole run.\n",
        "total_t0 = time.time()\n",
        "\n",
        "# For each epoch...\n",
        "for epoch_i in range(0, epochs):\n",
        "    \n",
        "    # ========================================\n",
        "    #               Training\n",
        "    # ========================================\n",
        "    \n",
        "    # Perform one full pass over the training set.\n",
        "\n",
        "    print(\"\")\n",
        "    print('======== Epoch {:} / {:} ========'.format(epoch_i + 1, epochs))\n",
        "    print('Training...')\n",
        "\n",
        "    # Measure how long the training epoch takes.\n",
        "    t0 = time.time()\n",
        "\n",
        "    # Reset the total loss for this epoch.\n",
        "    total_train_loss = 0\n",
        "\n",
        "    # Put the model into training mode. Don't be mislead--the call to \n",
        "    # `train` just changes the *mode*, it doesn't *perform* the training.\n",
        "    # `dropout` and `batchnorm` layers behave differently during training\n",
        "    # vs. test (source: https://stackoverflow.com/questions/51433378/what-does-model-train-do-in-pytorch)\n",
        "    model.train()\n",
        "\n",
        "    # For each batch of training data...\n",
        "    for step, batch in enumerate(train_dataloader):\n",
        "\n",
        "        # Progress update every 40 batches.\n",
        "        if step % 40 == 0 and not step == 0:\n",
        "            # Calculate elapsed time in minutes.\n",
        "            elapsed = format_time(time.time() - t0)\n",
        "            \n",
        "            # Report progress.\n",
        "            print('  Batch {:>5,}  of  {:>5,}.    Elapsed: {:}.'.format(step, len(train_dataloader), elapsed))\n",
        "\n",
        "        # Unpack this training batch from our dataloader. \n",
        "        #\n",
        "        # As we unpack the batch, we'll also copy each tensor to the GPU using the \n",
        "        # `to` method.\n",
        "        #\n",
        "        # `batch` contains three pytorch tensors:\n",
        "        #   [0]: input ids \n",
        "        #   [1]: attention masks\n",
        "        #   [2]: labels \n",
        "        b_input_ids = batch[0].to(device)\n",
        "        b_input_mask = batch[1].to(device)\n",
        "        b_labels = batch[2].to(device)\n",
        "      #  print(b_input_ids)\n",
        "      #  print(b_input_mask)\n",
        "      #  print(b_labels)\n",
        "        arr_ind=[i for i in range(len(b_labels))]\n",
        "      #  print(arr_ind)\n",
        "        counter = 0\n",
        "        ########\n",
        "        b_lables_pair_l2 = []\n",
        "        while(1):\n",
        "          ind2=np.random.choice(arr_ind)\n",
        "          ind1=np.random.choice(arr_ind)\n",
        "          counter =counter + 1\n",
        "          if(b_labels[ind1].item()!=b_labels[ind2].item() and [ind1,ind2] not in b_lables_pair_l2):\n",
        "         #    print(ind1,ind2)\n",
        "             #print(b_labels[ind1].item(),b_labels[ind2].item())\n",
        "            # arr_ind.remove(ind1)\n",
        "             arr_ind.remove(ind2)\n",
        "             b_lables_pair_l2.append([ind1,ind2])\n",
        "          if(counter>75 or len(arr_ind)<=8):\n",
        "         #   print(arr_ind)\n",
        "            break\n",
        "        #arr_ind = [i for i in range(8)]\n",
        "        # print(b_labels)\n",
        "        # print(\"b_lables_pair_l2\",b_lables_pair_l2)\n",
        "        # print(\"b_lables_pair_l2\",len(b_lables_pair_l2))\n",
        "        # print(\"arr_ind\",arr_ind)\n",
        "        # print(\"arr_ind\",len(arr_ind))\n",
        "        b_input_ids_l1 = torch.cat(tuple([batch[0][ind:ind+1] for ind in arr_ind])).to(device)\n",
        "        b_input_mask_l1 = torch.cat(tuple([batch[1][ind:ind+1] for ind in arr_ind])).to(device)\n",
        "        b_labels_l1 = torch.cat(tuple([batch[2][ind:ind+1] for ind in arr_ind])).to(device)\n",
        "        # print(b_input_ids)\n",
        "        # print(b_input_ids_l1)\n",
        "\n",
        "        # print(\"******\")\n",
        "        # print(batch[0][0:1])\n",
        "        # print(batch[0][1:2])\n",
        "        # sum_pair = np.ceil((batch[0][0:1]+batch[0][1:2])/2)\n",
        "        # avg_pair=sum_pair.type(torch.int64)\n",
        "        # print(avg_pair)\n",
        "        b_input_ids_l2=[]\n",
        "        b_input_mask_l2=[]\n",
        "        b_labels_l2=[]\n",
        "\n",
        "        for ind_pair in b_lables_pair_l2:\n",
        "          i=ind_pair[0]\n",
        "          j=ind_pair[1]\n",
        "\n",
        "          sum_pair=np.ceil((batch[0][i:i+1]+batch[0][j:j+1])/2)\n",
        "          avg_pair=sum_pair.type(torch.int64)\n",
        "          b_input_ids_l2.append(avg_pair)\n",
        "\n",
        "\n",
        "\n",
        "          sum_pair_mask=np.ceil((batch[1][i:i+1]+batch[1][j:j+1])/2)\n",
        "          avg_pair_mask=sum_pair_mask.type(torch.int64)\n",
        "\n",
        "          b_input_mask_l2.append(avg_pair_mask)\n",
        "\n",
        "          b_labels_l2.append(torch.tensor([100]))\n",
        "\n",
        "        b_labels_l2 = torch.cat(tuple(b_labels_l2)).to(device)\n",
        "        b_input_mask_l2 = torch.cat(tuple(b_input_mask_l2)).to(device)\n",
        "        b_input_ids_l2 = torch.cat(tuple(b_input_ids_l2)).to(device)\n",
        "        # print(\"b_labels_l1\",b_labels_l1)\n",
        "        # print(\"len(b_labels_l1)\",len(b_labels_l1))\n",
        "        # print(\"b_labels_l2\",b_labels_l2)\n",
        "        # print(\"len(b_labels_l2)\",len(b_labels_l2))\n",
        "       \n",
        "\n",
        "        # Always clear any previously calculated gradients before performing a\n",
        "        # backward pass. PyTorch doesn't do this automatically because \n",
        "        # accumulating the gradients is \"convenient while training RNNs\". \n",
        "        # (source: https://stackoverflow.com/questions/48001598/why-do-we-need-to-call-zero-grad-in-pytorch)\n",
        "        model.zero_grad()        \n",
        "\n",
        "        # Perform a forward pass (evaluate the model on this training batch).\n",
        "        # In PyTorch, calling `model` will in turn call the model's `forward` \n",
        "        # function and pass down the arguments. The `forward` function is \n",
        "        # documented here: \n",
        "        # https://huggingface.co/transformers/model_doc/bert.html#bertforsequenceclassification\n",
        "        # The results are returned in a results object, documented here:\n",
        "        # https://huggingface.co/transformers/main_classes/output.html#transformers.modeling_outputs.SequenceClassifierOutput\n",
        "        # Specifically, we'll get the loss (because we provided labels) and the\n",
        "        # \"logits\"--the model outputs prior to activation.\n",
        "        result1 = model(b_input_ids_l1, \n",
        "                       token_type_ids=None, \n",
        "                       attention_mask=b_input_mask_l1, \n",
        "                       labels=b_labels_l1,\n",
        "                       return_dict=True)\n",
        "        \n",
        "        result2 = model(b_input_ids_l2, \n",
        "                       token_type_ids=None, \n",
        "                       attention_mask=b_input_mask_l2, \n",
        "                       labels=b_labels_l2,\n",
        "                       return_dict=True)\n",
        "        \n",
        " \n",
        "\n",
        " \n",
        "        loss1 = result1.loss\n",
        "        loss2 = result2.loss\n",
        "        \n",
        "\n",
        "        logits1 = result1.logits\n",
        "        logits2 = result2.logits\n",
        "\n",
        "        eps = 1e-7\n",
        "        # t = F.relu()\n",
        "        # t = torch.log(t +eps)\n",
        "\n",
        "        kthlogits1 = logits1[: , len(logits1[0])-1:len(logits1[0])].clone()\n",
        "        kthlogits2 = logits2[: , len(logits2[0])-1:len(logits2[0])].clone()\n",
        "      #  print(\"kthlogits before Relu   \",kthlogits1)\n",
        "        ReLU = nn.ReLU()\n",
        "        kthlogits1 = ReLU(kthlogits1)\n",
        "      #  print(\"kthlogits after Relu   \",kthlogits1)\n",
        "        kthloss1 = -1 * torch.log(kthlogits1 + eps)\n",
        "       # print(\"kthloss  \",kthloss1)\n",
        "        kthloss1 = torch.sum(kthloss1)\n",
        "        kthloss1 = torch.sum(kthloss1)/len(b_labels_l1)\n",
        "       # print(\"kthloss  \",kthloss1)\n",
        "        #print(\"logits : \",logits)\n",
        "        #print(len(logits))\n",
        "        kthlogits2 = ReLU(kthlogits2)\n",
        "        kthloss2 = -1 * torch.log(kthlogits2 + eps)\n",
        "        kthloss2 = torch.sum(kthloss2)/len(b_labels_l2)\n",
        "        loss = (2 * loss2) + kthloss2 + loss1 + (0.4 * kthloss1) \n",
        "\n",
        "        # Accumulate the training loss over all of the batches so that we can\n",
        "        # calculate the average loss at the end. `loss` is a Tensor containing a\n",
        "        # single value; the `.item()` function just returns the Python value \n",
        "        # from the tensor.\n",
        "        total_train_loss += loss.item()\n",
        "\n",
        "        # Perform a backward pass to calculate the gradients.\n",
        "        loss.backward()\n",
        "\n",
        "        # Clip the norm of the gradients to 1.0.\n",
        "        # This is to help prevent the \"exploding gradients\" problem.\n",
        "        torch.nn.utils.clip_grad_norm_(model.parameters(), 1.0)\n",
        "\n",
        "        # Update parameters and take a step using the computed gradient.\n",
        "        # The optimizer dictates the \"update rule\"--how the parameters are\n",
        "        # modified based on their gradients, the learning rate, etc.\n",
        "        optimizer.step()\n",
        "\n",
        "        # Update the learning rate.\n",
        "        scheduler.step()\n",
        "        \n",
        "\n",
        "    # Calculate the average loss over all of the batches.\n",
        "    avg_train_loss = total_train_loss / len(train_dataloader)            \n",
        "    \n",
        "    # Measure how long this epoch took.\n",
        "    training_time = format_time(time.time() - t0)\n",
        "\n",
        "    print(\"\")\n",
        "    print(\"  Average training loss: {0:.2f}\".format(avg_train_loss))\n",
        "    print(\"  Training epcoh took: {:}\".format(training_time))\n",
        "        \n",
        "    # ========================================\n",
        "    #               Validation\n",
        "    # ========================================\n",
        "    # After the completion of each training epoch, measure our performance on\n",
        "    # our validation set.\n",
        "\n",
        "    print(\"\")\n",
        "    print(\"Running Validation...\")\n",
        "\n",
        "    t0 = time.time()\n",
        "\n",
        "    # Put the model in evaluation mode--the dropout layers behave differently\n",
        "    # during evaluation.\n",
        "    model.eval()\n",
        "\n",
        "    # Tracking variables \n",
        "    total_eval_accuracy = 0\n",
        "    total_eval_loss = 0\n",
        "    nb_eval_steps = 0\n",
        "\n",
        "    # Evaluate data for one epoch\n",
        "    for batch in validation_dataloader:\n",
        "        \n",
        "        # Unpack this training batch from our dataloader. \n",
        "        #\n",
        "        # As we unpack the batch, we'll also copy each tensor to the GPU using \n",
        "        # the `to` method.\n",
        "        #\n",
        "        # `batch` contains three pytorch tensors:\n",
        "        #   [0]: input ids \n",
        "        #   [1]: attention masks\n",
        "        #   [2]: labels \n",
        "        b_input_ids = batch[0].to(device)\n",
        "        b_input_mask = batch[1].to(device)\n",
        "        b_labels = batch[2].to(device)\n",
        "\n",
        "        \n",
        "        # Tell pytorch not to bother with constructing the compute graph during\n",
        "        # the forward pass, since this is only needed for backprop (training).\n",
        "        with torch.no_grad():        \n",
        "\n",
        "            # Forward pass, calculate logit predictions.\n",
        "            # token_type_ids is the same as the \"segment ids\", which \n",
        "            # differentiates sentence 1 and 2 in 2-sentence tasks.\n",
        "            result = model(b_input_ids, \n",
        "                           token_type_ids=None, \n",
        "                           attention_mask=b_input_mask,\n",
        "                           labels=b_labels,\n",
        "                           return_dict=True)\n",
        "\n",
        "        # Get the loss and \"logits\" output by the model. The \"logits\" are the \n",
        "        # output values prior to applying an activation function like the \n",
        "        # softmax.\n",
        "        loss = result.loss\n",
        "        logits = result.logits\n",
        "       # print(logits)\n",
        "        \n",
        "        # Accumulate the validation loss.\n",
        "        total_eval_loss += loss.item()\n",
        "\n",
        "        # Move logits and labels to CPU\n",
        "        logits = logits.detach().cpu().numpy()\n",
        "        label_ids = b_labels.to('cpu').numpy()\n",
        "      #  print(label_ids) \n",
        "        # Calculate the accuracy for this batch of test sentences, and\n",
        "        # accumulate it over all batches.\n",
        "        total_eval_accuracy += flat_accuracy(logits, label_ids)\n",
        "        \n",
        "\n",
        "    # Report the final accuracy for this validation run.\n",
        "    avg_val_accuracy = total_eval_accuracy / len(validation_dataloader)\n",
        "    print(\"  Accuracy: {0:.2f}\".format(avg_val_accuracy))\n",
        "\n",
        "    # Calculate the average loss over all of the batches.\n",
        "    avg_val_loss = total_eval_loss / len(validation_dataloader)\n",
        "    \n",
        "    # Measure how long the validation run took.\n",
        "    validation_time = format_time(time.time() - t0)\n",
        "    \n",
        "    print(\"  Validation Loss: {0:.2f}\".format(avg_val_loss))\n",
        "    print(\"  Validation took: {:}\".format(validation_time))\n",
        "\n",
        "    # Record all statistics from this epoch.\n",
        "    training_stats.append(\n",
        "        {\n",
        "            'epoch': epoch_i + 1,\n",
        "            'Training Loss': avg_train_loss,\n",
        "            'Valid. Loss': avg_val_loss,\n",
        "            'Valid. Accur.': avg_val_accuracy,\n",
        "            'Training Time': training_time,\n",
        "            'Validation Time': validation_time\n",
        "        }\n",
        "    )\n",
        "\n",
        "print(\"\")\n",
        "print(\"Training complete!\")\n",
        "\n",
        "print(\"Total training took {:} (h:mm:ss)\".format(format_time(time.time()-total_t0)))"
      ],
      "metadata": {
        "colab": {
          "base_uri": "https://localhost:8080/"
        },
        "id": "CX-FmXpBZfoX",
        "outputId": "f352d4f8-d7cd-410e-f378-928d199e1eae"
      },
      "execution_count": null,
      "outputs": [
        {
          "output_type": "stream",
          "name": "stdout",
          "text": [
            "\n",
            "======== Epoch 1 / 2 ========\n",
            "Training...\n",
            "  Batch    40  of  2,813.    Elapsed: 0:01:00.\n",
            "  Batch    80  of  2,813.    Elapsed: 0:02:03.\n",
            "  Batch   120  of  2,813.    Elapsed: 0:03:05.\n",
            "  Batch   160  of  2,813.    Elapsed: 0:04:08.\n",
            "  Batch   200  of  2,813.    Elapsed: 0:05:12.\n",
            "  Batch   240  of  2,813.    Elapsed: 0:06:14.\n",
            "  Batch   280  of  2,813.    Elapsed: 0:07:17.\n",
            "  Batch   320  of  2,813.    Elapsed: 0:08:20.\n",
            "  Batch   360  of  2,813.    Elapsed: 0:09:23.\n",
            "  Batch   400  of  2,813.    Elapsed: 0:10:26.\n",
            "  Batch   440  of  2,813.    Elapsed: 0:11:29.\n",
            "  Batch   480  of  2,813.    Elapsed: 0:12:31.\n",
            "  Batch   520  of  2,813.    Elapsed: 0:13:34.\n",
            "  Batch   560  of  2,813.    Elapsed: 0:14:37.\n",
            "  Batch   600  of  2,813.    Elapsed: 0:15:40.\n",
            "  Batch   640  of  2,813.    Elapsed: 0:16:43.\n",
            "  Batch   680  of  2,813.    Elapsed: 0:17:46.\n",
            "  Batch   720  of  2,813.    Elapsed: 0:18:49.\n",
            "  Batch   760  of  2,813.    Elapsed: 0:19:52.\n",
            "  Batch   800  of  2,813.    Elapsed: 0:20:54.\n",
            "  Batch   840  of  2,813.    Elapsed: 0:21:58.\n",
            "  Batch   880  of  2,813.    Elapsed: 0:23:01.\n",
            "  Batch   920  of  2,813.    Elapsed: 0:24:03.\n",
            "  Batch   960  of  2,813.    Elapsed: 0:25:06.\n",
            "  Batch 1,000  of  2,813.    Elapsed: 0:26:09.\n",
            "  Batch 1,040  of  2,813.    Elapsed: 0:27:12.\n",
            "  Batch 1,080  of  2,813.    Elapsed: 0:28:15.\n",
            "  Batch 1,120  of  2,813.    Elapsed: 0:29:18.\n",
            "  Batch 1,160  of  2,813.    Elapsed: 0:30:21.\n",
            "  Batch 1,200  of  2,813.    Elapsed: 0:31:24.\n",
            "  Batch 1,240  of  2,813.    Elapsed: 0:32:27.\n",
            "  Batch 1,280  of  2,813.    Elapsed: 0:33:29.\n",
            "  Batch 1,320  of  2,813.    Elapsed: 0:34:32.\n",
            "  Batch 1,360  of  2,813.    Elapsed: 0:35:35.\n",
            "  Batch 1,400  of  2,813.    Elapsed: 0:36:38.\n",
            "  Batch 1,440  of  2,813.    Elapsed: 0:37:40.\n",
            "  Batch 1,480  of  2,813.    Elapsed: 0:38:43.\n",
            "  Batch 1,520  of  2,813.    Elapsed: 0:39:46.\n",
            "  Batch 1,560  of  2,813.    Elapsed: 0:40:50.\n",
            "  Batch 1,600  of  2,813.    Elapsed: 0:41:53.\n",
            "  Batch 1,640  of  2,813.    Elapsed: 0:42:56.\n",
            "  Batch 1,680  of  2,813.    Elapsed: 0:43:58.\n",
            "  Batch 1,720  of  2,813.    Elapsed: 0:45:01.\n",
            "  Batch 1,760  of  2,813.    Elapsed: 0:46:04.\n",
            "  Batch 1,800  of  2,813.    Elapsed: 0:47:07.\n",
            "  Batch 1,840  of  2,813.    Elapsed: 0:48:10.\n",
            "  Batch 1,880  of  2,813.    Elapsed: 0:49:12.\n",
            "  Batch 1,920  of  2,813.    Elapsed: 0:50:15.\n",
            "  Batch 1,960  of  2,813.    Elapsed: 0:51:18.\n",
            "  Batch 2,000  of  2,813.    Elapsed: 0:52:20.\n",
            "  Batch 2,040  of  2,813.    Elapsed: 0:53:23.\n",
            "  Batch 2,080  of  2,813.    Elapsed: 0:54:26.\n",
            "  Batch 2,120  of  2,813.    Elapsed: 0:55:29.\n",
            "  Batch 2,160  of  2,813.    Elapsed: 0:56:32.\n",
            "  Batch 2,200  of  2,813.    Elapsed: 0:57:34.\n",
            "  Batch 2,240  of  2,813.    Elapsed: 0:58:37.\n",
            "  Batch 2,280  of  2,813.    Elapsed: 0:59:40.\n",
            "  Batch 2,320  of  2,813.    Elapsed: 1:00:43.\n",
            "  Batch 2,360  of  2,813.    Elapsed: 1:01:45.\n",
            "  Batch 2,400  of  2,813.    Elapsed: 1:02:48.\n",
            "  Batch 2,440  of  2,813.    Elapsed: 1:03:51.\n",
            "  Batch 2,480  of  2,813.    Elapsed: 1:04:53.\n",
            "  Batch 2,520  of  2,813.    Elapsed: 1:05:56.\n",
            "  Batch 2,560  of  2,813.    Elapsed: 1:06:59.\n",
            "  Batch 2,600  of  2,813.    Elapsed: 1:08:02.\n",
            "  Batch 2,640  of  2,813.    Elapsed: 1:09:05.\n",
            "  Batch 2,680  of  2,813.    Elapsed: 1:10:08.\n",
            "  Batch 2,720  of  2,813.    Elapsed: 1:11:10.\n",
            "  Batch 2,760  of  2,813.    Elapsed: 1:12:13.\n",
            "  Batch 2,800  of  2,813.    Elapsed: 1:13:16.\n",
            "\n",
            "  Average training loss: -5.99\n",
            "  Training epcoh took: 1:13:36\n",
            "\n",
            "Running Validation...\n",
            "  Accuracy: 0.90\n",
            "  Validation Loss: 1.28\n",
            "  Validation took: 0:03:00\n",
            "\n",
            "======== Epoch 2 / 2 ========\n",
            "Training...\n",
            "  Batch    40  of  2,813.    Elapsed: 0:01:03.\n",
            "  Batch    80  of  2,813.    Elapsed: 0:02:06.\n",
            "  Batch   120  of  2,813.    Elapsed: 0:03:08.\n",
            "  Batch   160  of  2,813.    Elapsed: 0:04:11.\n",
            "  Batch   200  of  2,813.    Elapsed: 0:05:14.\n",
            "  Batch   240  of  2,813.    Elapsed: 0:06:16.\n",
            "  Batch   280  of  2,813.    Elapsed: 0:07:19.\n",
            "  Batch   320  of  2,813.    Elapsed: 0:08:22.\n",
            "  Batch   360  of  2,813.    Elapsed: 0:09:25.\n",
            "  Batch   400  of  2,813.    Elapsed: 0:10:28.\n",
            "  Batch   440  of  2,813.    Elapsed: 0:11:31.\n",
            "  Batch   480  of  2,813.    Elapsed: 0:12:34.\n",
            "  Batch   520  of  2,813.    Elapsed: 0:13:37.\n",
            "  Batch   560  of  2,813.    Elapsed: 0:14:40.\n",
            "  Batch   600  of  2,813.    Elapsed: 0:15:42.\n",
            "  Batch   640  of  2,813.    Elapsed: 0:16:45.\n",
            "  Batch   680  of  2,813.    Elapsed: 0:17:48.\n",
            "  Batch   720  of  2,813.    Elapsed: 0:18:51.\n",
            "  Batch   760  of  2,813.    Elapsed: 0:19:54.\n",
            "  Batch   800  of  2,813.    Elapsed: 0:20:56.\n",
            "  Batch   840  of  2,813.    Elapsed: 0:21:59.\n",
            "  Batch   880  of  2,813.    Elapsed: 0:23:02.\n",
            "  Batch   920  of  2,813.    Elapsed: 0:24:05.\n",
            "  Batch   960  of  2,813.    Elapsed: 0:25:08.\n",
            "  Batch 1,000  of  2,813.    Elapsed: 0:26:10.\n",
            "  Batch 1,040  of  2,813.    Elapsed: 0:27:13.\n",
            "  Batch 1,080  of  2,813.    Elapsed: 0:28:16.\n",
            "  Batch 1,120  of  2,813.    Elapsed: 0:29:19.\n",
            "  Batch 1,160  of  2,813.    Elapsed: 0:30:22.\n",
            "  Batch 1,200  of  2,813.    Elapsed: 0:31:24.\n",
            "  Batch 1,240  of  2,813.    Elapsed: 0:32:27.\n",
            "  Batch 1,280  of  2,813.    Elapsed: 0:33:29.\n",
            "  Batch 1,320  of  2,813.    Elapsed: 0:34:32.\n",
            "  Batch 1,360  of  2,813.    Elapsed: 0:35:35.\n",
            "  Batch 1,400  of  2,813.    Elapsed: 0:36:37.\n",
            "  Batch 1,440  of  2,813.    Elapsed: 0:37:40.\n",
            "  Batch 1,480  of  2,813.    Elapsed: 0:38:42.\n",
            "  Batch 1,520  of  2,813.    Elapsed: 0:39:45.\n",
            "  Batch 1,560  of  2,813.    Elapsed: 0:40:48.\n",
            "  Batch 1,600  of  2,813.    Elapsed: 0:41:50.\n",
            "  Batch 1,640  of  2,813.    Elapsed: 0:42:53.\n",
            "  Batch 1,680  of  2,813.    Elapsed: 0:43:56.\n",
            "  Batch 1,720  of  2,813.    Elapsed: 0:45:00.\n",
            "  Batch 1,760  of  2,813.    Elapsed: 0:46:03.\n",
            "  Batch 1,800  of  2,813.    Elapsed: 0:47:05.\n",
            "  Batch 1,840  of  2,813.    Elapsed: 0:48:08.\n",
            "  Batch 1,880  of  2,813.    Elapsed: 0:49:11.\n",
            "  Batch 1,920  of  2,813.    Elapsed: 0:50:14.\n",
            "  Batch 1,960  of  2,813.    Elapsed: 0:51:17.\n",
            "  Batch 2,000  of  2,813.    Elapsed: 0:52:20.\n",
            "  Batch 2,040  of  2,813.    Elapsed: 0:53:23.\n",
            "  Batch 2,080  of  2,813.    Elapsed: 0:54:26.\n",
            "  Batch 2,120  of  2,813.    Elapsed: 0:55:29.\n",
            "  Batch 2,160  of  2,813.    Elapsed: 0:56:31.\n",
            "  Batch 2,200  of  2,813.    Elapsed: 0:57:34.\n",
            "  Batch 2,240  of  2,813.    Elapsed: 0:58:37.\n",
            "  Batch 2,280  of  2,813.    Elapsed: 0:59:40.\n",
            "  Batch 2,320  of  2,813.    Elapsed: 1:00:43.\n",
            "  Batch 2,360  of  2,813.    Elapsed: 1:01:46.\n",
            "  Batch 2,400  of  2,813.    Elapsed: 1:02:49.\n",
            "  Batch 2,440  of  2,813.    Elapsed: 1:03:51.\n",
            "  Batch 2,480  of  2,813.    Elapsed: 1:04:54.\n",
            "  Batch 2,520  of  2,813.    Elapsed: 1:05:57.\n",
            "  Batch 2,560  of  2,813.    Elapsed: 1:07:00.\n",
            "  Batch 2,600  of  2,813.    Elapsed: 1:08:03.\n",
            "  Batch 2,640  of  2,813.    Elapsed: 1:09:05.\n",
            "  Batch 2,680  of  2,813.    Elapsed: 1:10:08.\n",
            "  Batch 2,720  of  2,813.    Elapsed: 1:11:11.\n",
            "  Batch 2,760  of  2,813.    Elapsed: 1:12:14.\n",
            "  Batch 2,800  of  2,813.    Elapsed: 1:13:17.\n",
            "\n",
            "  Average training loss: -6.30\n",
            "  Training epcoh took: 1:13:36\n",
            "\n",
            "Running Validation...\n",
            "  Accuracy: 0.91\n",
            "  Validation Loss: 1.22\n",
            "  Validation took: 0:03:01\n",
            "\n",
            "Training complete!\n",
            "Total training took 2:33:13 (h:mm:ss)\n"
          ]
        }
      ]
    },
    {
      "cell_type": "markdown",
      "source": [],
      "metadata": {
        "id": "lUfA0mzOZki_"
      }
    },
    {
      "cell_type": "code",
      "source": [
        "import os\n",
        "\n",
        "# Saving best-practices: if you use defaults names for the model, you can reload it using from_pretrained()\n",
        "\n",
        "output_dir = '/content/drive/MyDrive/ASU/model_save/'\n",
        "\n",
        "# Create output directory if needed\n",
        "if not os.path.exists(output_dir):\n",
        "    os.makedirs(output_dir)\n",
        "if not os.path.exists(output_dir+'tokenizer/'):\n",
        "    os.makedirs(output_dir+'tokenizer/')\n",
        "\n",
        "print(\"Saving model to %s\" % output_dir)\n",
        "\n",
        "# Save a trained model, configuration and tokenizer using `save_pretrained()`.\n",
        "# They can then be reloaded using `from_pretrained()`\n",
        "model_to_save = model.module if hasattr(model, 'module') else model  # Take care of distributed/parallel training\n",
        "model_to_save.save_pretrained(output_dir)\n",
        "tokenizer.save_pretrained(output_dir+'tokenizer/')\n",
        "\n",
        "# Good practice: save your training arguments together with the trained model\n",
        "# torch.save(args, os.path.join(output_dir, 'training_args.bin'))\n"
      ],
      "metadata": {
        "id": "xFET0qIiPdk7",
        "colab": {
          "base_uri": "https://localhost:8080/"
        },
        "outputId": "6955f9ab-697b-49a9-d087-5c380f6b8e8d"
      },
      "execution_count": null,
      "outputs": [
        {
          "output_type": "stream",
          "name": "stdout",
          "text": [
            "Saving model to /content/drive/MyDrive/ASU/model_save/\n"
          ]
        },
        {
          "output_type": "execute_result",
          "data": {
            "text/plain": [
              "('/content/drive/MyDrive/ASU/model_save/tokenizer/tokenizer_config.json',\n",
              " '/content/drive/MyDrive/ASU/model_save/tokenizer/special_tokens_map.json',\n",
              " '/content/drive/MyDrive/ASU/model_save/tokenizer/vocab.txt',\n",
              " '/content/drive/MyDrive/ASU/model_save/tokenizer/added_tokens.json',\n",
              " '/content/drive/MyDrive/ASU/model_save/tokenizer/tokenizer.json')"
            ]
          },
          "metadata": {},
          "execution_count": 36
        }
      ]
    },
    {
      "cell_type": "code",
      "source": [],
      "metadata": {
        "id": "2RIsX_1VuuO4"
      },
      "execution_count": null,
      "outputs": []
    },
    {
      "cell_type": "code",
      "source": [],
      "metadata": {
        "id": "B-aozXuiuuSt"
      },
      "execution_count": null,
      "outputs": []
    },
    {
      "cell_type": "code",
      "source": [
        "# print(\"Running Validation...\")\n",
        "\n",
        "# t0 = time.time()\n",
        "\n",
        "# # Put the model in evaluation mode--the dropout layers behave differently\n",
        "# # during evaluation.\n",
        "# model.eval()\n",
        "\n",
        "# # Tracking variables \n",
        "# total_eval_accuracy = 0\n",
        "# total_eval_loss = 0\n",
        "# nb_eval_steps = 0\n",
        "\n",
        "# predictions , true_labels = [], []\n",
        "# count = 1\n",
        "# # Evaluate data for one epoch\n",
        "# for batch in validation_dataloader:\n",
        "    \n",
        "#     # Unpack this training batch from our dataloader. \n",
        "#     #\n",
        "#     # As we unpack the batch, we'll also copy each tensor to the GPU using \n",
        "#     # the `to` method.\n",
        "#     #\n",
        "#     # `batch` contains three pytorch tensors:\n",
        "#     #   [0]: input ids \n",
        "#     #   [1]: attention masks\n",
        "#     #   [2]: labels \n",
        "#     b_input_ids = batch[0].to(device)\n",
        "#     b_input_mask = batch[1].to(device)\n",
        "#     b_labels = batch[2].to(device)\n",
        "\n",
        "    \n",
        "#     # Tell pytorch not to bother with constructing the compute graph during\n",
        "#     # the forward pass, since this is only needed for backprop (training).\n",
        "#     with torch.no_grad():        \n",
        "\n",
        "#         # Forward pass, calculate logit predictions.\n",
        "#         # token_type_ids is the same as the \"segment ids\", which \n",
        "#         # differentiates sentence 1 and 2 in 2-sentence tasks.\n",
        "#         result = model(b_input_ids, \n",
        "#                         token_type_ids=None, \n",
        "#                         attention_mask=b_input_mask,\n",
        "#                         labels=b_labels,\n",
        "#                         return_dict=True)\n",
        "\n",
        "#     # Get the loss and \"logits\" output by the model. The \"logits\" are the \n",
        "#     # output values prior to applying an activation function like the \n",
        "#     # softmax.\n",
        "#     loss = result.loss\n",
        "#     logits = result.logits\n",
        "#     # print(logits)\n",
        "    \n",
        "#     # Accumulate the validation loss.\n",
        "#     total_eval_loss += loss.item()\n",
        "\n",
        "#     # Move logits and labels to CPU\n",
        "#     logits = logits.detach().cpu().numpy()\n",
        "#     logits[:,100] = logits[:,100] + 3\n",
        "#     label_ids = b_labels.to('cpu').numpy()\n",
        "#     pred_labels = np.argmax(logits, axis=1)\n",
        "#   #  print(label_ids) \n",
        "#     # Calculate the accuracy for this batch of test sentences, and\n",
        "#     # accumulate it over all batches.\n",
        "\n",
        "#     total_eval_accuracy += flat_accuracy(logits, label_ids)\n",
        "\n",
        "#       # Store predictions and true labels\n",
        "#     predictions.extend(pred_labels.tolist())\n",
        "#     true_labels.extend(label_ids.tolist())\n",
        "#     # if(count == 1):\n",
        "#     #   break\n",
        "#     count = count +1\n",
        "\n",
        "    \n",
        "\n",
        "# # Report the final accuracy for this validation run.\n",
        "# avg_val_accuracy = total_eval_accuracy / len(validation_dataloader)\n",
        "# print(\"  Accuracy: {0:.2f}\".format(avg_val_accuracy))\n",
        "\n",
        "# # Calculate the average loss over all of the batches.\n",
        "# avg_val_loss = total_eval_loss / len(validation_dataloader)\n",
        "\n",
        "# # Measure how long the validation run took.\n",
        "# validation_time = format_time(time.time() - t0)\n",
        "\n",
        "# print(\"  Validation Loss: {0:.2f}\".format(avg_val_loss))\n",
        "# print(\"  Validation took: {:}\".format(validation_time))"
      ],
      "metadata": {
        "id": "MJ5XI85DuuVJ"
      },
      "execution_count": null,
      "outputs": []
    },
    {
      "cell_type": "markdown",
      "source": [
        "bias ........................                      percentage\n",
        "\n",
        "   4   .........................                    .58"
      ],
      "metadata": {
        "id": "jUxaOGAP_yu1"
      }
    },
    {
      "cell_type": "code",
      "source": [
        "# from sklearn.metrics import classification_report\n",
        "\n",
        "# result_report= classification_report(true_labels, predictions, digits=3, output_dict=False)\n",
        "# print(result_report)"
      ],
      "metadata": {
        "id": "GlDwxTqb9I_I"
      },
      "execution_count": null,
      "outputs": []
    },
    {
      "cell_type": "code",
      "source": [
        "# len(predictions)"
      ],
      "metadata": {
        "id": "OppISe6t9UGj"
      },
      "execution_count": null,
      "outputs": []
    },
    {
      "cell_type": "code",
      "source": [
        "# predictions.count(100)"
      ],
      "metadata": {
        "id": "3daDRx3u_ijx"
      },
      "execution_count": null,
      "outputs": []
    },
    {
      "cell_type": "code",
      "source": [
        "# predictions.count(100)/len(predictions)"
      ],
      "metadata": {
        "id": "CcADTQZC_mBt"
      },
      "execution_count": null,
      "outputs": []
    },
    {
      "cell_type": "code",
      "source": [
        "# len(true_labels)"
      ],
      "metadata": {
        "id": "2cLiXR-d8dGm"
      },
      "execution_count": null,
      "outputs": []
    },
    {
      "cell_type": "code",
      "source": [
        "# import numpy as np\n",
        "\n",
        "# # Function to calculate the accuracy of our predictions vs labels\n",
        "# def flat_accuracy(preds, labels):\n",
        "#     pred_flat = np.argmax(preds, axis=1).flatten()\n",
        "#     labels_flat = labels.flatten()\n",
        "#     return np.sum(pred_flat == labels_flat) / len(labels_flat)"
      ],
      "metadata": {
        "id": "a5gkpsd7wsTx"
      },
      "execution_count": null,
      "outputs": []
    },
    {
      "cell_type": "code",
      "source": [
        "# label_ids"
      ],
      "metadata": {
        "id": "T20tqWtKwsdm"
      },
      "execution_count": null,
      "outputs": []
    },
    {
      "cell_type": "code",
      "source": [
        "# index = np.argmax(logits, axis=1).flatten()"
      ],
      "metadata": {
        "id": "0W3X60iSwsmF"
      },
      "execution_count": null,
      "outputs": []
    },
    {
      "cell_type": "code",
      "source": [
        "# A = np.max(logits, axis=1).flatten()"
      ],
      "metadata": {
        "id": "YFoZh2hUyOjK"
      },
      "execution_count": null,
      "outputs": []
    },
    {
      "cell_type": "code",
      "source": [
        "# A"
      ],
      "metadata": {
        "id": "W_Tbcqae4INZ"
      },
      "execution_count": null,
      "outputs": []
    },
    {
      "cell_type": "code",
      "source": [
        "# logits[0]"
      ],
      "metadata": {
        "id": "DKLjJg0t9uFm"
      },
      "execution_count": null,
      "outputs": []
    },
    {
      "cell_type": "code",
      "source": [
        "# logits[:,100].flatten()"
      ],
      "metadata": {
        "id": "fKoIwTyR5rQa"
      },
      "execution_count": null,
      "outputs": []
    },
    {
      "cell_type": "code",
      "source": [
        "# logits[:,100]"
      ],
      "metadata": {
        "id": "P4c_nsyj-DWl"
      },
      "execution_count": null,
      "outputs": []
    },
    {
      "cell_type": "code",
      "source": [
        "# logits[:,100] = logits[:,100] +10"
      ],
      "metadata": {
        "id": "_8GrOzoD9yCH"
      },
      "execution_count": null,
      "outputs": []
    },
    {
      "cell_type": "code",
      "source": [
        "# logits[0]"
      ],
      "metadata": {
        "id": "ZwtiSFBG95Ds"
      },
      "execution_count": null,
      "outputs": []
    },
    {
      "cell_type": "code",
      "source": [
        "# B = logits[:,100].flatten()+5"
      ],
      "metadata": {
        "id": "pgBa2Rgg2xHY"
      },
      "execution_count": null,
      "outputs": []
    },
    {
      "cell_type": "code",
      "source": [
        "# B"
      ],
      "metadata": {
        "id": "N1SF2OxN4JUd"
      },
      "execution_count": null,
      "outputs": []
    },
    {
      "cell_type": "code",
      "source": [
        "# B - A"
      ],
      "metadata": {
        "id": "Qeu_pCuL3RLE"
      },
      "execution_count": null,
      "outputs": []
    },
    {
      "cell_type": "code",
      "source": [
        "# logits[0]"
      ],
      "metadata": {
        "id": "sQY7kD5NzUQn"
      },
      "execution_count": null,
      "outputs": []
    },
    {
      "cell_type": "code",
      "source": [
        "# logits[:,100].flatten()"
      ],
      "metadata": {
        "id": "zhx-17rfuvMJ"
      },
      "execution_count": null,
      "outputs": []
    },
    {
      "cell_type": "code",
      "source": [
        "# #print(logits)\n",
        "# for i in logits:\n",
        "#   print(i[100])"
      ],
      "metadata": {
        "id": "NkrxioAluvPg"
      },
      "execution_count": null,
      "outputs": []
    },
    {
      "cell_type": "code",
      "source": [
        "# import pandas as pd\n",
        "\n",
        "# # Display floats with two decimal places.\n",
        "# pd.set_option('precision', 2)\n",
        "\n",
        "# # Create a DataFrame from our training statistics.\n",
        "# df_stats = pd.DataFrame(data=training_stats)\n",
        "\n",
        "# # Use the 'epoch' as the row index.\n",
        "# df_stats = df_stats.set_index('epoch')\n",
        "\n",
        "# # A hack to force the column headers to wrap.\n",
        "# #df = df.style.set_table_styles([dict(selector=\"th\",props=[('max-width', '70px')])])\n",
        "\n",
        "# # Display the table.\n",
        "# df_stats"
      ],
      "metadata": {
        "id": "Tv4UlVXfHU5h"
      },
      "execution_count": null,
      "outputs": []
    },
    {
      "cell_type": "code",
      "source": [
        "# import matplotlib.pyplot as plt\n",
        "# %matplotlib inline\n",
        "\n",
        "# import seaborn as sns\n",
        "\n",
        "# # Use plot styling from seaborn.\n",
        "# sns.set(style='darkgrid')\n",
        "\n",
        "# # Increase the plot size and font size.\n",
        "# sns.set(font_scale=1.5)\n",
        "# plt.rcParams[\"figure.figsize\"] = (12,6)\n",
        "\n",
        "# # Plot the learning curve.\n",
        "# plt.plot(df_stats['Training Loss'], 'b-o', label=\"Training\")\n",
        "# plt.plot(df_stats['Valid. Loss'], 'g-o', label=\"Validation\")\n",
        "\n",
        "# # Label the plot.\n",
        "# plt.title(\"Training & Validation Loss\")\n",
        "# plt.xlabel(\"Epoch\")\n",
        "# plt.ylabel(\"Loss\")\n",
        "# plt.legend()\n",
        "# plt.xticks([1, 2, 3, 4])\n",
        "\n",
        "# plt.show()"
      ],
      "metadata": {
        "id": "iweBagNKHVLU"
      },
      "execution_count": null,
      "outputs": []
    },
    {
      "cell_type": "code",
      "source": [],
      "metadata": {
        "id": "8asac3Vx9C_k"
      },
      "execution_count": null,
      "outputs": []
    },
    {
      "cell_type": "code",
      "source": [
        "import pandas as pd\n",
        "import regex as re\n",
        "\n",
        "# Load the dataset into a pandas dataframe.\n",
        "#df = pd.read_csv(\"/content/drive/MyDrive/ASU/ood_test_data_small.csv\")\n",
        "\n",
        "\n",
        "df = pd.read_csv(\"/content/drive/MyDrive/ASU/stage1_eval_data_ds2.csv\")\n",
        "\n",
        "#df = pd.read_csv(\"/content/drive/MyDrive/ASU/stage1_eval_data_ds3.csv\")"
      ],
      "metadata": {
        "id": "nUAlH28vHYuN"
      },
      "execution_count": 35,
      "outputs": []
    },
    {
      "cell_type": "code",
      "source": [
        "# df['flag']=df.loc[:,['real_label','review']].apply(lambda x: re.match(\"UPDATE*\",x['review']),axis=1 )\n",
        "# #removing updated records\n",
        "\n",
        "# df=df.loc[:,['real_label','review','flag']].loc[df['flag'].isin([None])]\n",
        "# df.drop('flag',axis=1,inplace=True)"
      ],
      "metadata": {
        "id": "rAII-BpSKeSC"
      },
      "execution_count": 36,
      "outputs": []
    },
    {
      "cell_type": "code",
      "source": [
        "df = df[['real_label','review']]"
      ],
      "metadata": {
        "id": "JjfsmaGSL38f"
      },
      "execution_count": 37,
      "outputs": []
    },
    {
      "cell_type": "code",
      "source": [
        "df"
      ],
      "metadata": {
        "colab": {
          "base_uri": "https://localhost:8080/",
          "height": 424
        },
        "id": "K-B8p3KL7bTS",
        "outputId": "9b70e293-1802-4a14-d78e-e06d62415c7c"
      },
      "execution_count": 38,
      "outputs": [
        {
          "output_type": "execute_result",
          "data": {
            "text/plain": [
              "       real_label                                             review\n",
              "0              44  I bought this battery charger a year ago, when...\n",
              "1              44  I bought this because with four geriatric vehi...\n",
              "2              44  I was a tad skeptical of the outcome after see...\n",
              "3              44  I insist on every one of my vehicles to have a...\n",
              "4              44  This is a very well-made top grain cow leather...\n",
              "...           ...                                                ...\n",
              "39995         175  PB has written a novel of the near future abou...\n",
              "39996         175  JHC had written of big money in the Keys of Ke...\n",
              "39997         175  SGB has written a unique SyFy novel of a young...\n",
              "39998         175  TM has written a SyFy novel of a furture where...\n",
              "39999         175  AJS has lived or researched the east coast of ...\n",
              "\n",
              "[40000 rows x 2 columns]"
            ],
            "text/html": [
              "\n",
              "  <div id=\"df-153f48cc-9b76-499d-9398-3d40669a67eb\">\n",
              "    <div class=\"colab-df-container\">\n",
              "      <div>\n",
              "<style scoped>\n",
              "    .dataframe tbody tr th:only-of-type {\n",
              "        vertical-align: middle;\n",
              "    }\n",
              "\n",
              "    .dataframe tbody tr th {\n",
              "        vertical-align: top;\n",
              "    }\n",
              "\n",
              "    .dataframe thead th {\n",
              "        text-align: right;\n",
              "    }\n",
              "</style>\n",
              "<table border=\"1\" class=\"dataframe\">\n",
              "  <thead>\n",
              "    <tr style=\"text-align: right;\">\n",
              "      <th></th>\n",
              "      <th>real_label</th>\n",
              "      <th>review</th>\n",
              "    </tr>\n",
              "  </thead>\n",
              "  <tbody>\n",
              "    <tr>\n",
              "      <th>0</th>\n",
              "      <td>44</td>\n",
              "      <td>I bought this battery charger a year ago, when...</td>\n",
              "    </tr>\n",
              "    <tr>\n",
              "      <th>1</th>\n",
              "      <td>44</td>\n",
              "      <td>I bought this because with four geriatric vehi...</td>\n",
              "    </tr>\n",
              "    <tr>\n",
              "      <th>2</th>\n",
              "      <td>44</td>\n",
              "      <td>I was a tad skeptical of the outcome after see...</td>\n",
              "    </tr>\n",
              "    <tr>\n",
              "      <th>3</th>\n",
              "      <td>44</td>\n",
              "      <td>I insist on every one of my vehicles to have a...</td>\n",
              "    </tr>\n",
              "    <tr>\n",
              "      <th>4</th>\n",
              "      <td>44</td>\n",
              "      <td>This is a very well-made top grain cow leather...</td>\n",
              "    </tr>\n",
              "    <tr>\n",
              "      <th>...</th>\n",
              "      <td>...</td>\n",
              "      <td>...</td>\n",
              "    </tr>\n",
              "    <tr>\n",
              "      <th>39995</th>\n",
              "      <td>175</td>\n",
              "      <td>PB has written a novel of the near future abou...</td>\n",
              "    </tr>\n",
              "    <tr>\n",
              "      <th>39996</th>\n",
              "      <td>175</td>\n",
              "      <td>JHC had written of big money in the Keys of Ke...</td>\n",
              "    </tr>\n",
              "    <tr>\n",
              "      <th>39997</th>\n",
              "      <td>175</td>\n",
              "      <td>SGB has written a unique SyFy novel of a young...</td>\n",
              "    </tr>\n",
              "    <tr>\n",
              "      <th>39998</th>\n",
              "      <td>175</td>\n",
              "      <td>TM has written a SyFy novel of a furture where...</td>\n",
              "    </tr>\n",
              "    <tr>\n",
              "      <th>39999</th>\n",
              "      <td>175</td>\n",
              "      <td>AJS has lived or researched the east coast of ...</td>\n",
              "    </tr>\n",
              "  </tbody>\n",
              "</table>\n",
              "<p>40000 rows × 2 columns</p>\n",
              "</div>\n",
              "      <button class=\"colab-df-convert\" onclick=\"convertToInteractive('df-153f48cc-9b76-499d-9398-3d40669a67eb')\"\n",
              "              title=\"Convert this dataframe to an interactive table.\"\n",
              "              style=\"display:none;\">\n",
              "        \n",
              "  <svg xmlns=\"http://www.w3.org/2000/svg\" height=\"24px\"viewBox=\"0 0 24 24\"\n",
              "       width=\"24px\">\n",
              "    <path d=\"M0 0h24v24H0V0z\" fill=\"none\"/>\n",
              "    <path d=\"M18.56 5.44l.94 2.06.94-2.06 2.06-.94-2.06-.94-.94-2.06-.94 2.06-2.06.94zm-11 1L8.5 8.5l.94-2.06 2.06-.94-2.06-.94L8.5 2.5l-.94 2.06-2.06.94zm10 10l.94 2.06.94-2.06 2.06-.94-2.06-.94-.94-2.06-.94 2.06-2.06.94z\"/><path d=\"M17.41 7.96l-1.37-1.37c-.4-.4-.92-.59-1.43-.59-.52 0-1.04.2-1.43.59L10.3 9.45l-7.72 7.72c-.78.78-.78 2.05 0 2.83L4 21.41c.39.39.9.59 1.41.59.51 0 1.02-.2 1.41-.59l7.78-7.78 2.81-2.81c.8-.78.8-2.07 0-2.86zM5.41 20L4 18.59l7.72-7.72 1.47 1.35L5.41 20z\"/>\n",
              "  </svg>\n",
              "      </button>\n",
              "      \n",
              "  <style>\n",
              "    .colab-df-container {\n",
              "      display:flex;\n",
              "      flex-wrap:wrap;\n",
              "      gap: 12px;\n",
              "    }\n",
              "\n",
              "    .colab-df-convert {\n",
              "      background-color: #E8F0FE;\n",
              "      border: none;\n",
              "      border-radius: 50%;\n",
              "      cursor: pointer;\n",
              "      display: none;\n",
              "      fill: #1967D2;\n",
              "      height: 32px;\n",
              "      padding: 0 0 0 0;\n",
              "      width: 32px;\n",
              "    }\n",
              "\n",
              "    .colab-df-convert:hover {\n",
              "      background-color: #E2EBFA;\n",
              "      box-shadow: 0px 1px 2px rgba(60, 64, 67, 0.3), 0px 1px 3px 1px rgba(60, 64, 67, 0.15);\n",
              "      fill: #174EA6;\n",
              "    }\n",
              "\n",
              "    [theme=dark] .colab-df-convert {\n",
              "      background-color: #3B4455;\n",
              "      fill: #D2E3FC;\n",
              "    }\n",
              "\n",
              "    [theme=dark] .colab-df-convert:hover {\n",
              "      background-color: #434B5C;\n",
              "      box-shadow: 0px 1px 3px 1px rgba(0, 0, 0, 0.15);\n",
              "      filter: drop-shadow(0px 1px 2px rgba(0, 0, 0, 0.3));\n",
              "      fill: #FFFFFF;\n",
              "    }\n",
              "  </style>\n",
              "\n",
              "      <script>\n",
              "        const buttonEl =\n",
              "          document.querySelector('#df-153f48cc-9b76-499d-9398-3d40669a67eb button.colab-df-convert');\n",
              "        buttonEl.style.display =\n",
              "          google.colab.kernel.accessAllowed ? 'block' : 'none';\n",
              "\n",
              "        async function convertToInteractive(key) {\n",
              "          const element = document.querySelector('#df-153f48cc-9b76-499d-9398-3d40669a67eb');\n",
              "          const dataTable =\n",
              "            await google.colab.kernel.invokeFunction('convertToInteractive',\n",
              "                                                     [key], {});\n",
              "          if (!dataTable) return;\n",
              "\n",
              "          const docLinkHtml = 'Like what you see? Visit the ' +\n",
              "            '<a target=\"_blank\" href=https://colab.research.google.com/notebooks/data_table.ipynb>data table notebook</a>'\n",
              "            + ' to learn more about interactive tables.';\n",
              "          element.innerHTML = '';\n",
              "          dataTable['output_type'] = 'display_data';\n",
              "          await google.colab.output.renderOutput(dataTable, element);\n",
              "          const docLink = document.createElement('div');\n",
              "          docLink.innerHTML = docLinkHtml;\n",
              "          element.appendChild(docLink);\n",
              "        }\n",
              "      </script>\n",
              "    </div>\n",
              "  </div>\n",
              "  "
            ]
          },
          "metadata": {},
          "execution_count": 38
        }
      ]
    },
    {
      "cell_type": "code",
      "source": [
        "arr_real_labels = [i for i in range(100,10000)]"
      ],
      "metadata": {
        "id": "ZIBmhuYisehN"
      },
      "execution_count": 39,
      "outputs": []
    },
    {
      "cell_type": "code",
      "source": [
        "arr_real_labels"
      ],
      "metadata": {
        "colab": {
          "base_uri": "https://localhost:8080/"
        },
        "id": "bkEsbxpisl0i",
        "outputId": "f70f5966-2e27-47e9-e9e1-2cabbe86081a"
      },
      "execution_count": 40,
      "outputs": [
        {
          "output_type": "execute_result",
          "data": {
            "text/plain": [
              "[100,\n",
              " 101,\n",
              " 102,\n",
              " 103,\n",
              " 104,\n",
              " 105,\n",
              " 106,\n",
              " 107,\n",
              " 108,\n",
              " 109,\n",
              " 110,\n",
              " 111,\n",
              " 112,\n",
              " 113,\n",
              " 114,\n",
              " 115,\n",
              " 116,\n",
              " 117,\n",
              " 118,\n",
              " 119,\n",
              " 120,\n",
              " 121,\n",
              " 122,\n",
              " 123,\n",
              " 124,\n",
              " 125,\n",
              " 126,\n",
              " 127,\n",
              " 128,\n",
              " 129,\n",
              " 130,\n",
              " 131,\n",
              " 132,\n",
              " 133,\n",
              " 134,\n",
              " 135,\n",
              " 136,\n",
              " 137,\n",
              " 138,\n",
              " 139,\n",
              " 140,\n",
              " 141,\n",
              " 142,\n",
              " 143,\n",
              " 144,\n",
              " 145,\n",
              " 146,\n",
              " 147,\n",
              " 148,\n",
              " 149,\n",
              " 150,\n",
              " 151,\n",
              " 152,\n",
              " 153,\n",
              " 154,\n",
              " 155,\n",
              " 156,\n",
              " 157,\n",
              " 158,\n",
              " 159,\n",
              " 160,\n",
              " 161,\n",
              " 162,\n",
              " 163,\n",
              " 164,\n",
              " 165,\n",
              " 166,\n",
              " 167,\n",
              " 168,\n",
              " 169,\n",
              " 170,\n",
              " 171,\n",
              " 172,\n",
              " 173,\n",
              " 174,\n",
              " 175,\n",
              " 176,\n",
              " 177,\n",
              " 178,\n",
              " 179,\n",
              " 180,\n",
              " 181,\n",
              " 182,\n",
              " 183,\n",
              " 184,\n",
              " 185,\n",
              " 186,\n",
              " 187,\n",
              " 188,\n",
              " 189,\n",
              " 190,\n",
              " 191,\n",
              " 192,\n",
              " 193,\n",
              " 194,\n",
              " 195,\n",
              " 196,\n",
              " 197,\n",
              " 198,\n",
              " 199,\n",
              " 200,\n",
              " 201,\n",
              " 202,\n",
              " 203,\n",
              " 204,\n",
              " 205,\n",
              " 206,\n",
              " 207,\n",
              " 208,\n",
              " 209,\n",
              " 210,\n",
              " 211,\n",
              " 212,\n",
              " 213,\n",
              " 214,\n",
              " 215,\n",
              " 216,\n",
              " 217,\n",
              " 218,\n",
              " 219,\n",
              " 220,\n",
              " 221,\n",
              " 222,\n",
              " 223,\n",
              " 224,\n",
              " 225,\n",
              " 226,\n",
              " 227,\n",
              " 228,\n",
              " 229,\n",
              " 230,\n",
              " 231,\n",
              " 232,\n",
              " 233,\n",
              " 234,\n",
              " 235,\n",
              " 236,\n",
              " 237,\n",
              " 238,\n",
              " 239,\n",
              " 240,\n",
              " 241,\n",
              " 242,\n",
              " 243,\n",
              " 244,\n",
              " 245,\n",
              " 246,\n",
              " 247,\n",
              " 248,\n",
              " 249,\n",
              " 250,\n",
              " 251,\n",
              " 252,\n",
              " 253,\n",
              " 254,\n",
              " 255,\n",
              " 256,\n",
              " 257,\n",
              " 258,\n",
              " 259,\n",
              " 260,\n",
              " 261,\n",
              " 262,\n",
              " 263,\n",
              " 264,\n",
              " 265,\n",
              " 266,\n",
              " 267,\n",
              " 268,\n",
              " 269,\n",
              " 270,\n",
              " 271,\n",
              " 272,\n",
              " 273,\n",
              " 274,\n",
              " 275,\n",
              " 276,\n",
              " 277,\n",
              " 278,\n",
              " 279,\n",
              " 280,\n",
              " 281,\n",
              " 282,\n",
              " 283,\n",
              " 284,\n",
              " 285,\n",
              " 286,\n",
              " 287,\n",
              " 288,\n",
              " 289,\n",
              " 290,\n",
              " 291,\n",
              " 292,\n",
              " 293,\n",
              " 294,\n",
              " 295,\n",
              " 296,\n",
              " 297,\n",
              " 298,\n",
              " 299,\n",
              " 300,\n",
              " 301,\n",
              " 302,\n",
              " 303,\n",
              " 304,\n",
              " 305,\n",
              " 306,\n",
              " 307,\n",
              " 308,\n",
              " 309,\n",
              " 310,\n",
              " 311,\n",
              " 312,\n",
              " 313,\n",
              " 314,\n",
              " 315,\n",
              " 316,\n",
              " 317,\n",
              " 318,\n",
              " 319,\n",
              " 320,\n",
              " 321,\n",
              " 322,\n",
              " 323,\n",
              " 324,\n",
              " 325,\n",
              " 326,\n",
              " 327,\n",
              " 328,\n",
              " 329,\n",
              " 330,\n",
              " 331,\n",
              " 332,\n",
              " 333,\n",
              " 334,\n",
              " 335,\n",
              " 336,\n",
              " 337,\n",
              " 338,\n",
              " 339,\n",
              " 340,\n",
              " 341,\n",
              " 342,\n",
              " 343,\n",
              " 344,\n",
              " 345,\n",
              " 346,\n",
              " 347,\n",
              " 348,\n",
              " 349,\n",
              " 350,\n",
              " 351,\n",
              " 352,\n",
              " 353,\n",
              " 354,\n",
              " 355,\n",
              " 356,\n",
              " 357,\n",
              " 358,\n",
              " 359,\n",
              " 360,\n",
              " 361,\n",
              " 362,\n",
              " 363,\n",
              " 364,\n",
              " 365,\n",
              " 366,\n",
              " 367,\n",
              " 368,\n",
              " 369,\n",
              " 370,\n",
              " 371,\n",
              " 372,\n",
              " 373,\n",
              " 374,\n",
              " 375,\n",
              " 376,\n",
              " 377,\n",
              " 378,\n",
              " 379,\n",
              " 380,\n",
              " 381,\n",
              " 382,\n",
              " 383,\n",
              " 384,\n",
              " 385,\n",
              " 386,\n",
              " 387,\n",
              " 388,\n",
              " 389,\n",
              " 390,\n",
              " 391,\n",
              " 392,\n",
              " 393,\n",
              " 394,\n",
              " 395,\n",
              " 396,\n",
              " 397,\n",
              " 398,\n",
              " 399,\n",
              " 400,\n",
              " 401,\n",
              " 402,\n",
              " 403,\n",
              " 404,\n",
              " 405,\n",
              " 406,\n",
              " 407,\n",
              " 408,\n",
              " 409,\n",
              " 410,\n",
              " 411,\n",
              " 412,\n",
              " 413,\n",
              " 414,\n",
              " 415,\n",
              " 416,\n",
              " 417,\n",
              " 418,\n",
              " 419,\n",
              " 420,\n",
              " 421,\n",
              " 422,\n",
              " 423,\n",
              " 424,\n",
              " 425,\n",
              " 426,\n",
              " 427,\n",
              " 428,\n",
              " 429,\n",
              " 430,\n",
              " 431,\n",
              " 432,\n",
              " 433,\n",
              " 434,\n",
              " 435,\n",
              " 436,\n",
              " 437,\n",
              " 438,\n",
              " 439,\n",
              " 440,\n",
              " 441,\n",
              " 442,\n",
              " 443,\n",
              " 444,\n",
              " 445,\n",
              " 446,\n",
              " 447,\n",
              " 448,\n",
              " 449,\n",
              " 450,\n",
              " 451,\n",
              " 452,\n",
              " 453,\n",
              " 454,\n",
              " 455,\n",
              " 456,\n",
              " 457,\n",
              " 458,\n",
              " 459,\n",
              " 460,\n",
              " 461,\n",
              " 462,\n",
              " 463,\n",
              " 464,\n",
              " 465,\n",
              " 466,\n",
              " 467,\n",
              " 468,\n",
              " 469,\n",
              " 470,\n",
              " 471,\n",
              " 472,\n",
              " 473,\n",
              " 474,\n",
              " 475,\n",
              " 476,\n",
              " 477,\n",
              " 478,\n",
              " 479,\n",
              " 480,\n",
              " 481,\n",
              " 482,\n",
              " 483,\n",
              " 484,\n",
              " 485,\n",
              " 486,\n",
              " 487,\n",
              " 488,\n",
              " 489,\n",
              " 490,\n",
              " 491,\n",
              " 492,\n",
              " 493,\n",
              " 494,\n",
              " 495,\n",
              " 496,\n",
              " 497,\n",
              " 498,\n",
              " 499,\n",
              " 500,\n",
              " 501,\n",
              " 502,\n",
              " 503,\n",
              " 504,\n",
              " 505,\n",
              " 506,\n",
              " 507,\n",
              " 508,\n",
              " 509,\n",
              " 510,\n",
              " 511,\n",
              " 512,\n",
              " 513,\n",
              " 514,\n",
              " 515,\n",
              " 516,\n",
              " 517,\n",
              " 518,\n",
              " 519,\n",
              " 520,\n",
              " 521,\n",
              " 522,\n",
              " 523,\n",
              " 524,\n",
              " 525,\n",
              " 526,\n",
              " 527,\n",
              " 528,\n",
              " 529,\n",
              " 530,\n",
              " 531,\n",
              " 532,\n",
              " 533,\n",
              " 534,\n",
              " 535,\n",
              " 536,\n",
              " 537,\n",
              " 538,\n",
              " 539,\n",
              " 540,\n",
              " 541,\n",
              " 542,\n",
              " 543,\n",
              " 544,\n",
              " 545,\n",
              " 546,\n",
              " 547,\n",
              " 548,\n",
              " 549,\n",
              " 550,\n",
              " 551,\n",
              " 552,\n",
              " 553,\n",
              " 554,\n",
              " 555,\n",
              " 556,\n",
              " 557,\n",
              " 558,\n",
              " 559,\n",
              " 560,\n",
              " 561,\n",
              " 562,\n",
              " 563,\n",
              " 564,\n",
              " 565,\n",
              " 566,\n",
              " 567,\n",
              " 568,\n",
              " 569,\n",
              " 570,\n",
              " 571,\n",
              " 572,\n",
              " 573,\n",
              " 574,\n",
              " 575,\n",
              " 576,\n",
              " 577,\n",
              " 578,\n",
              " 579,\n",
              " 580,\n",
              " 581,\n",
              " 582,\n",
              " 583,\n",
              " 584,\n",
              " 585,\n",
              " 586,\n",
              " 587,\n",
              " 588,\n",
              " 589,\n",
              " 590,\n",
              " 591,\n",
              " 592,\n",
              " 593,\n",
              " 594,\n",
              " 595,\n",
              " 596,\n",
              " 597,\n",
              " 598,\n",
              " 599,\n",
              " 600,\n",
              " 601,\n",
              " 602,\n",
              " 603,\n",
              " 604,\n",
              " 605,\n",
              " 606,\n",
              " 607,\n",
              " 608,\n",
              " 609,\n",
              " 610,\n",
              " 611,\n",
              " 612,\n",
              " 613,\n",
              " 614,\n",
              " 615,\n",
              " 616,\n",
              " 617,\n",
              " 618,\n",
              " 619,\n",
              " 620,\n",
              " 621,\n",
              " 622,\n",
              " 623,\n",
              " 624,\n",
              " 625,\n",
              " 626,\n",
              " 627,\n",
              " 628,\n",
              " 629,\n",
              " 630,\n",
              " 631,\n",
              " 632,\n",
              " 633,\n",
              " 634,\n",
              " 635,\n",
              " 636,\n",
              " 637,\n",
              " 638,\n",
              " 639,\n",
              " 640,\n",
              " 641,\n",
              " 642,\n",
              " 643,\n",
              " 644,\n",
              " 645,\n",
              " 646,\n",
              " 647,\n",
              " 648,\n",
              " 649,\n",
              " 650,\n",
              " 651,\n",
              " 652,\n",
              " 653,\n",
              " 654,\n",
              " 655,\n",
              " 656,\n",
              " 657,\n",
              " 658,\n",
              " 659,\n",
              " 660,\n",
              " 661,\n",
              " 662,\n",
              " 663,\n",
              " 664,\n",
              " 665,\n",
              " 666,\n",
              " 667,\n",
              " 668,\n",
              " 669,\n",
              " 670,\n",
              " 671,\n",
              " 672,\n",
              " 673,\n",
              " 674,\n",
              " 675,\n",
              " 676,\n",
              " 677,\n",
              " 678,\n",
              " 679,\n",
              " 680,\n",
              " 681,\n",
              " 682,\n",
              " 683,\n",
              " 684,\n",
              " 685,\n",
              " 686,\n",
              " 687,\n",
              " 688,\n",
              " 689,\n",
              " 690,\n",
              " 691,\n",
              " 692,\n",
              " 693,\n",
              " 694,\n",
              " 695,\n",
              " 696,\n",
              " 697,\n",
              " 698,\n",
              " 699,\n",
              " 700,\n",
              " 701,\n",
              " 702,\n",
              " 703,\n",
              " 704,\n",
              " 705,\n",
              " 706,\n",
              " 707,\n",
              " 708,\n",
              " 709,\n",
              " 710,\n",
              " 711,\n",
              " 712,\n",
              " 713,\n",
              " 714,\n",
              " 715,\n",
              " 716,\n",
              " 717,\n",
              " 718,\n",
              " 719,\n",
              " 720,\n",
              " 721,\n",
              " 722,\n",
              " 723,\n",
              " 724,\n",
              " 725,\n",
              " 726,\n",
              " 727,\n",
              " 728,\n",
              " 729,\n",
              " 730,\n",
              " 731,\n",
              " 732,\n",
              " 733,\n",
              " 734,\n",
              " 735,\n",
              " 736,\n",
              " 737,\n",
              " 738,\n",
              " 739,\n",
              " 740,\n",
              " 741,\n",
              " 742,\n",
              " 743,\n",
              " 744,\n",
              " 745,\n",
              " 746,\n",
              " 747,\n",
              " 748,\n",
              " 749,\n",
              " 750,\n",
              " 751,\n",
              " 752,\n",
              " 753,\n",
              " 754,\n",
              " 755,\n",
              " 756,\n",
              " 757,\n",
              " 758,\n",
              " 759,\n",
              " 760,\n",
              " 761,\n",
              " 762,\n",
              " 763,\n",
              " 764,\n",
              " 765,\n",
              " 766,\n",
              " 767,\n",
              " 768,\n",
              " 769,\n",
              " 770,\n",
              " 771,\n",
              " 772,\n",
              " 773,\n",
              " 774,\n",
              " 775,\n",
              " 776,\n",
              " 777,\n",
              " 778,\n",
              " 779,\n",
              " 780,\n",
              " 781,\n",
              " 782,\n",
              " 783,\n",
              " 784,\n",
              " 785,\n",
              " 786,\n",
              " 787,\n",
              " 788,\n",
              " 789,\n",
              " 790,\n",
              " 791,\n",
              " 792,\n",
              " 793,\n",
              " 794,\n",
              " 795,\n",
              " 796,\n",
              " 797,\n",
              " 798,\n",
              " 799,\n",
              " 800,\n",
              " 801,\n",
              " 802,\n",
              " 803,\n",
              " 804,\n",
              " 805,\n",
              " 806,\n",
              " 807,\n",
              " 808,\n",
              " 809,\n",
              " 810,\n",
              " 811,\n",
              " 812,\n",
              " 813,\n",
              " 814,\n",
              " 815,\n",
              " 816,\n",
              " 817,\n",
              " 818,\n",
              " 819,\n",
              " 820,\n",
              " 821,\n",
              " 822,\n",
              " 823,\n",
              " 824,\n",
              " 825,\n",
              " 826,\n",
              " 827,\n",
              " 828,\n",
              " 829,\n",
              " 830,\n",
              " 831,\n",
              " 832,\n",
              " 833,\n",
              " 834,\n",
              " 835,\n",
              " 836,\n",
              " 837,\n",
              " 838,\n",
              " 839,\n",
              " 840,\n",
              " 841,\n",
              " 842,\n",
              " 843,\n",
              " 844,\n",
              " 845,\n",
              " 846,\n",
              " 847,\n",
              " 848,\n",
              " 849,\n",
              " 850,\n",
              " 851,\n",
              " 852,\n",
              " 853,\n",
              " 854,\n",
              " 855,\n",
              " 856,\n",
              " 857,\n",
              " 858,\n",
              " 859,\n",
              " 860,\n",
              " 861,\n",
              " 862,\n",
              " 863,\n",
              " 864,\n",
              " 865,\n",
              " 866,\n",
              " 867,\n",
              " 868,\n",
              " 869,\n",
              " 870,\n",
              " 871,\n",
              " 872,\n",
              " 873,\n",
              " 874,\n",
              " 875,\n",
              " 876,\n",
              " 877,\n",
              " 878,\n",
              " 879,\n",
              " 880,\n",
              " 881,\n",
              " 882,\n",
              " 883,\n",
              " 884,\n",
              " 885,\n",
              " 886,\n",
              " 887,\n",
              " 888,\n",
              " 889,\n",
              " 890,\n",
              " 891,\n",
              " 892,\n",
              " 893,\n",
              " 894,\n",
              " 895,\n",
              " 896,\n",
              " 897,\n",
              " 898,\n",
              " 899,\n",
              " 900,\n",
              " 901,\n",
              " 902,\n",
              " 903,\n",
              " 904,\n",
              " 905,\n",
              " 906,\n",
              " 907,\n",
              " 908,\n",
              " 909,\n",
              " 910,\n",
              " 911,\n",
              " 912,\n",
              " 913,\n",
              " 914,\n",
              " 915,\n",
              " 916,\n",
              " 917,\n",
              " 918,\n",
              " 919,\n",
              " 920,\n",
              " 921,\n",
              " 922,\n",
              " 923,\n",
              " 924,\n",
              " 925,\n",
              " 926,\n",
              " 927,\n",
              " 928,\n",
              " 929,\n",
              " 930,\n",
              " 931,\n",
              " 932,\n",
              " 933,\n",
              " 934,\n",
              " 935,\n",
              " 936,\n",
              " 937,\n",
              " 938,\n",
              " 939,\n",
              " 940,\n",
              " 941,\n",
              " 942,\n",
              " 943,\n",
              " 944,\n",
              " 945,\n",
              " 946,\n",
              " 947,\n",
              " 948,\n",
              " 949,\n",
              " 950,\n",
              " 951,\n",
              " 952,\n",
              " 953,\n",
              " 954,\n",
              " 955,\n",
              " 956,\n",
              " 957,\n",
              " 958,\n",
              " 959,\n",
              " 960,\n",
              " 961,\n",
              " 962,\n",
              " 963,\n",
              " 964,\n",
              " 965,\n",
              " 966,\n",
              " 967,\n",
              " 968,\n",
              " 969,\n",
              " 970,\n",
              " 971,\n",
              " 972,\n",
              " 973,\n",
              " 974,\n",
              " 975,\n",
              " 976,\n",
              " 977,\n",
              " 978,\n",
              " 979,\n",
              " 980,\n",
              " 981,\n",
              " 982,\n",
              " 983,\n",
              " 984,\n",
              " 985,\n",
              " 986,\n",
              " 987,\n",
              " 988,\n",
              " 989,\n",
              " 990,\n",
              " 991,\n",
              " 992,\n",
              " 993,\n",
              " 994,\n",
              " 995,\n",
              " 996,\n",
              " 997,\n",
              " 998,\n",
              " 999,\n",
              " 1000,\n",
              " 1001,\n",
              " 1002,\n",
              " 1003,\n",
              " 1004,\n",
              " 1005,\n",
              " 1006,\n",
              " 1007,\n",
              " 1008,\n",
              " 1009,\n",
              " 1010,\n",
              " 1011,\n",
              " 1012,\n",
              " 1013,\n",
              " 1014,\n",
              " 1015,\n",
              " 1016,\n",
              " 1017,\n",
              " 1018,\n",
              " 1019,\n",
              " 1020,\n",
              " 1021,\n",
              " 1022,\n",
              " 1023,\n",
              " 1024,\n",
              " 1025,\n",
              " 1026,\n",
              " 1027,\n",
              " 1028,\n",
              " 1029,\n",
              " 1030,\n",
              " 1031,\n",
              " 1032,\n",
              " 1033,\n",
              " 1034,\n",
              " 1035,\n",
              " 1036,\n",
              " 1037,\n",
              " 1038,\n",
              " 1039,\n",
              " 1040,\n",
              " 1041,\n",
              " 1042,\n",
              " 1043,\n",
              " 1044,\n",
              " 1045,\n",
              " 1046,\n",
              " 1047,\n",
              " 1048,\n",
              " 1049,\n",
              " 1050,\n",
              " 1051,\n",
              " 1052,\n",
              " 1053,\n",
              " 1054,\n",
              " 1055,\n",
              " 1056,\n",
              " 1057,\n",
              " 1058,\n",
              " 1059,\n",
              " 1060,\n",
              " 1061,\n",
              " 1062,\n",
              " 1063,\n",
              " 1064,\n",
              " 1065,\n",
              " 1066,\n",
              " 1067,\n",
              " 1068,\n",
              " 1069,\n",
              " 1070,\n",
              " 1071,\n",
              " 1072,\n",
              " 1073,\n",
              " 1074,\n",
              " 1075,\n",
              " 1076,\n",
              " 1077,\n",
              " 1078,\n",
              " 1079,\n",
              " 1080,\n",
              " 1081,\n",
              " 1082,\n",
              " 1083,\n",
              " 1084,\n",
              " 1085,\n",
              " 1086,\n",
              " 1087,\n",
              " 1088,\n",
              " 1089,\n",
              " 1090,\n",
              " 1091,\n",
              " 1092,\n",
              " 1093,\n",
              " 1094,\n",
              " 1095,\n",
              " 1096,\n",
              " 1097,\n",
              " 1098,\n",
              " 1099,\n",
              " ...]"
            ]
          },
          "metadata": {},
          "execution_count": 40
        }
      ]
    },
    {
      "cell_type": "code",
      "source": [
        "df['real_label'] = df['real_label'].replace(arr_real_labels,100)"
      ],
      "metadata": {
        "id": "KNe-aZ9SsZ-4"
      },
      "execution_count": 41,
      "outputs": []
    },
    {
      "cell_type": "code",
      "source": [
        "df=df.loc[df.real_label.values<=100]"
      ],
      "metadata": {
        "id": "mApZpnbpMN10"
      },
      "execution_count": 42,
      "outputs": []
    },
    {
      "cell_type": "code",
      "source": [
        "df"
      ],
      "metadata": {
        "colab": {
          "base_uri": "https://localhost:8080/",
          "height": 424
        },
        "id": "h35MYT2I7JTp",
        "outputId": "0db013d5-b6f6-4601-b9bd-b10c8f40fb23"
      },
      "execution_count": 43,
      "outputs": [
        {
          "output_type": "execute_result",
          "data": {
            "text/plain": [
              "       real_label                                             review\n",
              "0              44  I bought this battery charger a year ago, when...\n",
              "1              44  I bought this because with four geriatric vehi...\n",
              "2              44  I was a tad skeptical of the outcome after see...\n",
              "3              44  I insist on every one of my vehicles to have a...\n",
              "4              44  This is a very well-made top grain cow leather...\n",
              "...           ...                                                ...\n",
              "39995         100  PB has written a novel of the near future abou...\n",
              "39996         100  JHC had written of big money in the Keys of Ke...\n",
              "39997         100  SGB has written a unique SyFy novel of a young...\n",
              "39998         100  TM has written a SyFy novel of a furture where...\n",
              "39999         100  AJS has lived or researched the east coast of ...\n",
              "\n",
              "[40000 rows x 2 columns]"
            ],
            "text/html": [
              "\n",
              "  <div id=\"df-b3b30902-df7f-4722-b030-81ef170ee94a\">\n",
              "    <div class=\"colab-df-container\">\n",
              "      <div>\n",
              "<style scoped>\n",
              "    .dataframe tbody tr th:only-of-type {\n",
              "        vertical-align: middle;\n",
              "    }\n",
              "\n",
              "    .dataframe tbody tr th {\n",
              "        vertical-align: top;\n",
              "    }\n",
              "\n",
              "    .dataframe thead th {\n",
              "        text-align: right;\n",
              "    }\n",
              "</style>\n",
              "<table border=\"1\" class=\"dataframe\">\n",
              "  <thead>\n",
              "    <tr style=\"text-align: right;\">\n",
              "      <th></th>\n",
              "      <th>real_label</th>\n",
              "      <th>review</th>\n",
              "    </tr>\n",
              "  </thead>\n",
              "  <tbody>\n",
              "    <tr>\n",
              "      <th>0</th>\n",
              "      <td>44</td>\n",
              "      <td>I bought this battery charger a year ago, when...</td>\n",
              "    </tr>\n",
              "    <tr>\n",
              "      <th>1</th>\n",
              "      <td>44</td>\n",
              "      <td>I bought this because with four geriatric vehi...</td>\n",
              "    </tr>\n",
              "    <tr>\n",
              "      <th>2</th>\n",
              "      <td>44</td>\n",
              "      <td>I was a tad skeptical of the outcome after see...</td>\n",
              "    </tr>\n",
              "    <tr>\n",
              "      <th>3</th>\n",
              "      <td>44</td>\n",
              "      <td>I insist on every one of my vehicles to have a...</td>\n",
              "    </tr>\n",
              "    <tr>\n",
              "      <th>4</th>\n",
              "      <td>44</td>\n",
              "      <td>This is a very well-made top grain cow leather...</td>\n",
              "    </tr>\n",
              "    <tr>\n",
              "      <th>...</th>\n",
              "      <td>...</td>\n",
              "      <td>...</td>\n",
              "    </tr>\n",
              "    <tr>\n",
              "      <th>39995</th>\n",
              "      <td>100</td>\n",
              "      <td>PB has written a novel of the near future abou...</td>\n",
              "    </tr>\n",
              "    <tr>\n",
              "      <th>39996</th>\n",
              "      <td>100</td>\n",
              "      <td>JHC had written of big money in the Keys of Ke...</td>\n",
              "    </tr>\n",
              "    <tr>\n",
              "      <th>39997</th>\n",
              "      <td>100</td>\n",
              "      <td>SGB has written a unique SyFy novel of a young...</td>\n",
              "    </tr>\n",
              "    <tr>\n",
              "      <th>39998</th>\n",
              "      <td>100</td>\n",
              "      <td>TM has written a SyFy novel of a furture where...</td>\n",
              "    </tr>\n",
              "    <tr>\n",
              "      <th>39999</th>\n",
              "      <td>100</td>\n",
              "      <td>AJS has lived or researched the east coast of ...</td>\n",
              "    </tr>\n",
              "  </tbody>\n",
              "</table>\n",
              "<p>40000 rows × 2 columns</p>\n",
              "</div>\n",
              "      <button class=\"colab-df-convert\" onclick=\"convertToInteractive('df-b3b30902-df7f-4722-b030-81ef170ee94a')\"\n",
              "              title=\"Convert this dataframe to an interactive table.\"\n",
              "              style=\"display:none;\">\n",
              "        \n",
              "  <svg xmlns=\"http://www.w3.org/2000/svg\" height=\"24px\"viewBox=\"0 0 24 24\"\n",
              "       width=\"24px\">\n",
              "    <path d=\"M0 0h24v24H0V0z\" fill=\"none\"/>\n",
              "    <path d=\"M18.56 5.44l.94 2.06.94-2.06 2.06-.94-2.06-.94-.94-2.06-.94 2.06-2.06.94zm-11 1L8.5 8.5l.94-2.06 2.06-.94-2.06-.94L8.5 2.5l-.94 2.06-2.06.94zm10 10l.94 2.06.94-2.06 2.06-.94-2.06-.94-.94-2.06-.94 2.06-2.06.94z\"/><path d=\"M17.41 7.96l-1.37-1.37c-.4-.4-.92-.59-1.43-.59-.52 0-1.04.2-1.43.59L10.3 9.45l-7.72 7.72c-.78.78-.78 2.05 0 2.83L4 21.41c.39.39.9.59 1.41.59.51 0 1.02-.2 1.41-.59l7.78-7.78 2.81-2.81c.8-.78.8-2.07 0-2.86zM5.41 20L4 18.59l7.72-7.72 1.47 1.35L5.41 20z\"/>\n",
              "  </svg>\n",
              "      </button>\n",
              "      \n",
              "  <style>\n",
              "    .colab-df-container {\n",
              "      display:flex;\n",
              "      flex-wrap:wrap;\n",
              "      gap: 12px;\n",
              "    }\n",
              "\n",
              "    .colab-df-convert {\n",
              "      background-color: #E8F0FE;\n",
              "      border: none;\n",
              "      border-radius: 50%;\n",
              "      cursor: pointer;\n",
              "      display: none;\n",
              "      fill: #1967D2;\n",
              "      height: 32px;\n",
              "      padding: 0 0 0 0;\n",
              "      width: 32px;\n",
              "    }\n",
              "\n",
              "    .colab-df-convert:hover {\n",
              "      background-color: #E2EBFA;\n",
              "      box-shadow: 0px 1px 2px rgba(60, 64, 67, 0.3), 0px 1px 3px 1px rgba(60, 64, 67, 0.15);\n",
              "      fill: #174EA6;\n",
              "    }\n",
              "\n",
              "    [theme=dark] .colab-df-convert {\n",
              "      background-color: #3B4455;\n",
              "      fill: #D2E3FC;\n",
              "    }\n",
              "\n",
              "    [theme=dark] .colab-df-convert:hover {\n",
              "      background-color: #434B5C;\n",
              "      box-shadow: 0px 1px 3px 1px rgba(0, 0, 0, 0.15);\n",
              "      filter: drop-shadow(0px 1px 2px rgba(0, 0, 0, 0.3));\n",
              "      fill: #FFFFFF;\n",
              "    }\n",
              "  </style>\n",
              "\n",
              "      <script>\n",
              "        const buttonEl =\n",
              "          document.querySelector('#df-b3b30902-df7f-4722-b030-81ef170ee94a button.colab-df-convert');\n",
              "        buttonEl.style.display =\n",
              "          google.colab.kernel.accessAllowed ? 'block' : 'none';\n",
              "\n",
              "        async function convertToInteractive(key) {\n",
              "          const element = document.querySelector('#df-b3b30902-df7f-4722-b030-81ef170ee94a');\n",
              "          const dataTable =\n",
              "            await google.colab.kernel.invokeFunction('convertToInteractive',\n",
              "                                                     [key], {});\n",
              "          if (!dataTable) return;\n",
              "\n",
              "          const docLinkHtml = 'Like what you see? Visit the ' +\n",
              "            '<a target=\"_blank\" href=https://colab.research.google.com/notebooks/data_table.ipynb>data table notebook</a>'\n",
              "            + ' to learn more about interactive tables.';\n",
              "          element.innerHTML = '';\n",
              "          dataTable['output_type'] = 'display_data';\n",
              "          await google.colab.output.renderOutput(dataTable, element);\n",
              "          const docLink = document.createElement('div');\n",
              "          docLink.innerHTML = docLinkHtml;\n",
              "          element.appendChild(docLink);\n",
              "        }\n",
              "      </script>\n",
              "    </div>\n",
              "  </div>\n",
              "  "
            ]
          },
          "metadata": {},
          "execution_count": 43
        }
      ]
    },
    {
      "cell_type": "code",
      "source": [
        "df.groupby(by='real_label').count()"
      ],
      "metadata": {
        "colab": {
          "base_uri": "https://localhost:8080/",
          "height": 455
        },
        "id": "XikERaqQLOiG",
        "outputId": "6362d218-d974-433c-cc7c-4403877432d8"
      },
      "execution_count": 44,
      "outputs": [
        {
          "output_type": "execute_result",
          "data": {
            "text/plain": [
              "            review\n",
              "real_label        \n",
              "0              200\n",
              "1              200\n",
              "2              200\n",
              "3              200\n",
              "4              200\n",
              "...            ...\n",
              "96             200\n",
              "97             200\n",
              "98             200\n",
              "99             200\n",
              "100          20000\n",
              "\n",
              "[101 rows x 1 columns]"
            ],
            "text/html": [
              "\n",
              "  <div id=\"df-ba3aecda-a46c-46f4-9203-1cb7fc022c38\">\n",
              "    <div class=\"colab-df-container\">\n",
              "      <div>\n",
              "<style scoped>\n",
              "    .dataframe tbody tr th:only-of-type {\n",
              "        vertical-align: middle;\n",
              "    }\n",
              "\n",
              "    .dataframe tbody tr th {\n",
              "        vertical-align: top;\n",
              "    }\n",
              "\n",
              "    .dataframe thead th {\n",
              "        text-align: right;\n",
              "    }\n",
              "</style>\n",
              "<table border=\"1\" class=\"dataframe\">\n",
              "  <thead>\n",
              "    <tr style=\"text-align: right;\">\n",
              "      <th></th>\n",
              "      <th>review</th>\n",
              "    </tr>\n",
              "    <tr>\n",
              "      <th>real_label</th>\n",
              "      <th></th>\n",
              "    </tr>\n",
              "  </thead>\n",
              "  <tbody>\n",
              "    <tr>\n",
              "      <th>0</th>\n",
              "      <td>200</td>\n",
              "    </tr>\n",
              "    <tr>\n",
              "      <th>1</th>\n",
              "      <td>200</td>\n",
              "    </tr>\n",
              "    <tr>\n",
              "      <th>2</th>\n",
              "      <td>200</td>\n",
              "    </tr>\n",
              "    <tr>\n",
              "      <th>3</th>\n",
              "      <td>200</td>\n",
              "    </tr>\n",
              "    <tr>\n",
              "      <th>4</th>\n",
              "      <td>200</td>\n",
              "    </tr>\n",
              "    <tr>\n",
              "      <th>...</th>\n",
              "      <td>...</td>\n",
              "    </tr>\n",
              "    <tr>\n",
              "      <th>96</th>\n",
              "      <td>200</td>\n",
              "    </tr>\n",
              "    <tr>\n",
              "      <th>97</th>\n",
              "      <td>200</td>\n",
              "    </tr>\n",
              "    <tr>\n",
              "      <th>98</th>\n",
              "      <td>200</td>\n",
              "    </tr>\n",
              "    <tr>\n",
              "      <th>99</th>\n",
              "      <td>200</td>\n",
              "    </tr>\n",
              "    <tr>\n",
              "      <th>100</th>\n",
              "      <td>20000</td>\n",
              "    </tr>\n",
              "  </tbody>\n",
              "</table>\n",
              "<p>101 rows × 1 columns</p>\n",
              "</div>\n",
              "      <button class=\"colab-df-convert\" onclick=\"convertToInteractive('df-ba3aecda-a46c-46f4-9203-1cb7fc022c38')\"\n",
              "              title=\"Convert this dataframe to an interactive table.\"\n",
              "              style=\"display:none;\">\n",
              "        \n",
              "  <svg xmlns=\"http://www.w3.org/2000/svg\" height=\"24px\"viewBox=\"0 0 24 24\"\n",
              "       width=\"24px\">\n",
              "    <path d=\"M0 0h24v24H0V0z\" fill=\"none\"/>\n",
              "    <path d=\"M18.56 5.44l.94 2.06.94-2.06 2.06-.94-2.06-.94-.94-2.06-.94 2.06-2.06.94zm-11 1L8.5 8.5l.94-2.06 2.06-.94-2.06-.94L8.5 2.5l-.94 2.06-2.06.94zm10 10l.94 2.06.94-2.06 2.06-.94-2.06-.94-.94-2.06-.94 2.06-2.06.94z\"/><path d=\"M17.41 7.96l-1.37-1.37c-.4-.4-.92-.59-1.43-.59-.52 0-1.04.2-1.43.59L10.3 9.45l-7.72 7.72c-.78.78-.78 2.05 0 2.83L4 21.41c.39.39.9.59 1.41.59.51 0 1.02-.2 1.41-.59l7.78-7.78 2.81-2.81c.8-.78.8-2.07 0-2.86zM5.41 20L4 18.59l7.72-7.72 1.47 1.35L5.41 20z\"/>\n",
              "  </svg>\n",
              "      </button>\n",
              "      \n",
              "  <style>\n",
              "    .colab-df-container {\n",
              "      display:flex;\n",
              "      flex-wrap:wrap;\n",
              "      gap: 12px;\n",
              "    }\n",
              "\n",
              "    .colab-df-convert {\n",
              "      background-color: #E8F0FE;\n",
              "      border: none;\n",
              "      border-radius: 50%;\n",
              "      cursor: pointer;\n",
              "      display: none;\n",
              "      fill: #1967D2;\n",
              "      height: 32px;\n",
              "      padding: 0 0 0 0;\n",
              "      width: 32px;\n",
              "    }\n",
              "\n",
              "    .colab-df-convert:hover {\n",
              "      background-color: #E2EBFA;\n",
              "      box-shadow: 0px 1px 2px rgba(60, 64, 67, 0.3), 0px 1px 3px 1px rgba(60, 64, 67, 0.15);\n",
              "      fill: #174EA6;\n",
              "    }\n",
              "\n",
              "    [theme=dark] .colab-df-convert {\n",
              "      background-color: #3B4455;\n",
              "      fill: #D2E3FC;\n",
              "    }\n",
              "\n",
              "    [theme=dark] .colab-df-convert:hover {\n",
              "      background-color: #434B5C;\n",
              "      box-shadow: 0px 1px 3px 1px rgba(0, 0, 0, 0.15);\n",
              "      filter: drop-shadow(0px 1px 2px rgba(0, 0, 0, 0.3));\n",
              "      fill: #FFFFFF;\n",
              "    }\n",
              "  </style>\n",
              "\n",
              "      <script>\n",
              "        const buttonEl =\n",
              "          document.querySelector('#df-ba3aecda-a46c-46f4-9203-1cb7fc022c38 button.colab-df-convert');\n",
              "        buttonEl.style.display =\n",
              "          google.colab.kernel.accessAllowed ? 'block' : 'none';\n",
              "\n",
              "        async function convertToInteractive(key) {\n",
              "          const element = document.querySelector('#df-ba3aecda-a46c-46f4-9203-1cb7fc022c38');\n",
              "          const dataTable =\n",
              "            await google.colab.kernel.invokeFunction('convertToInteractive',\n",
              "                                                     [key], {});\n",
              "          if (!dataTable) return;\n",
              "\n",
              "          const docLinkHtml = 'Like what you see? Visit the ' +\n",
              "            '<a target=\"_blank\" href=https://colab.research.google.com/notebooks/data_table.ipynb>data table notebook</a>'\n",
              "            + ' to learn more about interactive tables.';\n",
              "          element.innerHTML = '';\n",
              "          dataTable['output_type'] = 'display_data';\n",
              "          await google.colab.output.renderOutput(dataTable, element);\n",
              "          const docLink = document.createElement('div');\n",
              "          docLink.innerHTML = docLinkHtml;\n",
              "          element.appendChild(docLink);\n",
              "        }\n",
              "      </script>\n",
              "    </div>\n",
              "  </div>\n",
              "  "
            ]
          },
          "metadata": {},
          "execution_count": 44
        }
      ]
    },
    {
      "cell_type": "code",
      "source": [
        "labels_list_0 = df['real_label'].tolist()"
      ],
      "metadata": {
        "id": "Agx9NhAu7ssX"
      },
      "execution_count": 45,
      "outputs": []
    },
    {
      "cell_type": "code",
      "source": [
        "# for i in range(101):\n",
        "#   print(i, \"     \",c.count(i))"
      ],
      "metadata": {
        "id": "M-7HsHE270Ve"
      },
      "execution_count": 46,
      "outputs": []
    },
    {
      "cell_type": "code",
      "source": [
        "\n",
        "# Create sentence and label lists\n",
        "#\n",
        "labels = df.real_label.values\n",
        "sentence1 = df.review.values\n",
        "#sentence1=sentences\n",
        "#labels = dataset_filtered.real_label.values\n",
        "\n",
        "# Tokenize all of the sentences and map the tokens to thier word IDs.\n",
        "input_ids = []\n",
        "attention_masks = []\n",
        "\n",
        "# For every sentence...\n",
        "for sent1 in zip(sentence1):\n",
        "    # `encode_plus` will:\n",
        "    #   (1) Tokenize the sentence.\n",
        "    #   (2) Prepend the `[CLS]` token to the start.\n",
        "    #   (3) Append the `[SEP]` token to the end.\n",
        "    #   (4) Map tokens to their IDs.\n",
        "    #   (5) Pad or truncate the sentence to `max_length`\n",
        "    #   (6) Create attention masks for [PAD] tokens.\n",
        "    #print(sent1)\n",
        "    encoded_dict = tokenizer.encode_plus(\n",
        "                        sent1[0],# Sentence to encode.\n",
        "                        truncation=True,\n",
        "                        add_special_tokens = True, # Add '[CLS]' and '[SEP]'\n",
        "                        max_length = 512,           # Pad & truncate all sentences.\n",
        "                        padding='max_length',\n",
        "                        return_attention_mask = True,   # Construct attn. masks.\n",
        "                        return_tensors = 'pt',     # Return pytorch tensors.\n",
        "                        return_overflowing_tokens=False,\n",
        "                   )\n",
        "    \n",
        "    # Add the encoded sentence to the list.    \n",
        "    input_ids.append(encoded_dict['input_ids'])\n",
        "    \n",
        "    # And its attention mask (simply differentiates padding from non-padding).\n",
        "    attention_masks.append(encoded_dict['attention_mask'])\n",
        "\n",
        "# Convert the lists into tensors.\n",
        "input_ids = torch.cat(input_ids, dim=0)\n",
        "attention_masks = torch.cat(attention_masks, dim=0)\n",
        "labels = torch.tensor(labels)\n",
        "\n",
        "\n",
        "\n",
        "# Set the batch size.  \n",
        "batch_size = 16\n",
        "\n",
        "# Create the DataLoader.\n",
        "prediction_data = TensorDataset(input_ids, attention_masks, labels)\n",
        "prediction_sampler = SequentialSampler(prediction_data)\n",
        "prediction_dataloader = DataLoader(prediction_data, sampler=prediction_sampler, batch_size=batch_size)"
      ],
      "metadata": {
        "id": "r9dPsWLsKHFH"
      },
      "execution_count": 47,
      "outputs": []
    },
    {
      "cell_type": "code",
      "source": [
        "# Prediction on test set\n",
        "\n",
        "print('Predicting labels for {:,} test sentences...'.format(len(input_ids)))\n",
        "\n",
        "# Put model in evaluation mode\n",
        "model.eval()\n",
        "\n",
        "# Tracking variables \n",
        "predictions , true_labels = [], []\n",
        "logits_arr=[]\n",
        "max_logits_arr=[]\n",
        "logits_total_array = []\n",
        "\n",
        "# Predict \n",
        "for batch in prediction_dataloader:\n",
        "  # Add batch to GPU\n",
        "  batch = tuple(t.to(device) for t in batch)\n",
        "  \n",
        "  # Unpack the inputs from our dataloader\n",
        "  b_input_ids, b_input_mask, b_labels = batch\n",
        "  \n",
        "  # Telling the model not to compute or store gradients, saving memory and \n",
        "  # speeding up prediction\n",
        "  with torch.no_grad():\n",
        "      # Forward pass, calculate logit predictions.\n",
        "      result = model(b_input_ids, \n",
        "                     token_type_ids=None, \n",
        "                     attention_mask=b_input_mask,\n",
        "                     return_dict=True)\n",
        "\n",
        "  logits = result.logits\n",
        "\n",
        "  # Move logits and labels to CPU\n",
        "  logits = logits.detach().cpu().numpy()\n",
        "  logits_total_array.extend(logits.tolist())\n",
        "  #logits[:,100] = logits[:,100] + 2.5\n",
        "  pred_labels = np.argmax(logits, axis=1)\n",
        "  label_ids = b_labels.to('cpu').numpy()\n",
        "  max_logits = np.max(logits[:,:100], axis=1)\n",
        "  # Store predictions and true labels\n",
        "  predictions.extend(pred_labels.tolist())\n",
        "  true_labels.extend(label_ids.tolist())\n",
        "  logits_arr.extend(logits[:,100].tolist())\n",
        "  max_logits_arr.extend(max_logits.tolist())\n",
        "\n",
        "print('    DONE.')"
      ],
      "metadata": {
        "colab": {
          "base_uri": "https://localhost:8080/"
        },
        "id": "NJTEXHAzM3pK",
        "outputId": "a1e573e3-9c8f-4851-db01-15e85a99119a"
      },
      "execution_count": 48,
      "outputs": [
        {
          "output_type": "stream",
          "name": "stdout",
          "text": [
            "Predicting labels for 40,000 test sentences...\n",
            "    DONE.\n"
          ]
        }
      ]
    },
    {
      "cell_type": "code",
      "source": [
        "d1_predictions = predictions\n",
        "d1_true_labels = true_labels\n",
        "d1_logits_arr = logits_arr\n",
        "d1_max_logits_arr = max_logits_arr"
      ],
      "metadata": {
        "id": "JduRTmVjgvF4"
      },
      "execution_count": 49,
      "outputs": []
    },
    {
      "cell_type": "code",
      "source": [
        "d1_predictions.count(100)"
      ],
      "metadata": {
        "colab": {
          "base_uri": "https://localhost:8080/"
        },
        "id": "JzO-PlR8gzTJ",
        "outputId": "d16b849e-9fc3-4bbe-ac2a-b9b9e22c92fc"
      },
      "execution_count": 50,
      "outputs": [
        {
          "output_type": "execute_result",
          "data": {
            "text/plain": [
              "8153"
            ]
          },
          "metadata": {},
          "execution_count": 50
        }
      ]
    },
    {
      "cell_type": "code",
      "source": [
        "tic = 40000"
      ],
      "metadata": {
        "id": "vK0WdBARDtN6"
      },
      "execution_count": 51,
      "outputs": []
    },
    {
      "cell_type": "code",
      "source": [
        "d1_closed_logits=[]\n",
        "d1_open_logits=[]\n",
        "d1_max_closed_logits=[]\n",
        "d1_max_open_logits=[]\n",
        "d1_predictions_open=[]\n",
        "d1_predictions_closed=[]\n",
        "for i in range(tic):\n",
        "  if(true_labels[i]==100):\n",
        "    d1_open_logits.append(d1_logits_arr[i])\n",
        "    d1_max_open_logits.append(d1_max_logits_arr[i])\n",
        "    d1_predictions_open.append(d1_predictions[i])\n",
        "  else:\n",
        "    d1_closed_logits.append(d1_logits_arr[i])\n",
        "    d1_max_closed_logits.append(d1_max_logits_arr[i])\n",
        "    d1_predictions_closed.append(d1_predictions[i])"
      ],
      "metadata": {
        "id": "HF9DB-DemIKP"
      },
      "execution_count": 52,
      "outputs": []
    },
    {
      "cell_type": "code",
      "source": [
        "print(d1_predictions_open.count(100))\n",
        "print(d1_predictions_closed.count(100))"
      ],
      "metadata": {
        "colab": {
          "base_uri": "https://localhost:8080/"
        },
        "id": "84tnHddMmWJR",
        "outputId": "98b7ccd4-2545-443c-b28c-b14785979358"
      },
      "execution_count": 53,
      "outputs": [
        {
          "output_type": "stream",
          "name": "stdout",
          "text": [
            "7085\n",
            "1068\n"
          ]
        }
      ]
    },
    {
      "cell_type": "code",
      "source": [
        "diff_closed1=[]\n",
        "for i in range(int(tic/2)):\n",
        "  diff_closed1.append(5.08 + d1_closed_logits[i] - d1_max_closed_logits[i])\n",
        "diff_open1=[]\n",
        "for i in range(int(tic/2)):\n",
        "  diff_open1.append(5.08 + d1_open_logits[i] - d1_max_open_logits[i])\n"
      ],
      "metadata": {
        "id": "AJKUqDnigzWJ"
      },
      "execution_count": 54,
      "outputs": []
    },
    {
      "cell_type": "code",
      "source": [
        "print(sum(diff_closed1))\n",
        "print(sorted(diff_closed1)[int(tic/4)])"
      ],
      "metadata": {
        "colab": {
          "base_uri": "https://localhost:8080/"
        },
        "id": "RhqT2HTlm_TE",
        "outputId": "bec29d5e-c4a8-42d0-bc80-8917bea972a9"
      },
      "execution_count": 55,
      "outputs": [
        {
          "output_type": "stream",
          "name": "stdout",
          "text": [
            "-8280.234992028441\n",
            "-1.1338404846191423\n"
          ]
        }
      ]
    },
    {
      "cell_type": "code",
      "source": [
        "print(sum(diff_open1))\n",
        "print(sorted(diff_open1)[int(tic/4)])"
      ],
      "metadata": {
        "colab": {
          "base_uri": "https://localhost:8080/"
        },
        "id": "LDkynl8Dm9JD",
        "outputId": "eb7a7b84-cca3-40ff-f1ef-79a07fb122f3"
      },
      "execution_count": 56,
      "outputs": [
        {
          "output_type": "stream",
          "name": "stdout",
          "text": [
            "71363.67977574278\n",
            "2.7320748138427717\n"
          ]
        }
      ]
    },
    {
      "cell_type": "code",
      "source": [
        "pos_count = 0 \n",
        "neg_count = 0\n",
        "for num in diff_closed1:\n",
        "    # checking condition\n",
        "    if num >= 0:\n",
        "        pos_count += 1\n",
        "    else:\n",
        "        neg_count += 1"
      ],
      "metadata": {
        "id": "v0apfC4egzaF"
      },
      "execution_count": 57,
      "outputs": []
    },
    {
      "cell_type": "code",
      "source": [
        "print(pos_count)\n",
        "print(neg_count)"
      ],
      "metadata": {
        "colab": {
          "base_uri": "https://localhost:8080/"
        },
        "id": "3x9rO68TrJHu",
        "outputId": "8aa698d9-84bd-443a-9b08-8fee18e28946"
      },
      "execution_count": 58,
      "outputs": [
        {
          "output_type": "stream",
          "name": "stdout",
          "text": [
            "3124\n",
            "16876\n"
          ]
        }
      ]
    },
    {
      "cell_type": "code",
      "source": [
        "pos_count = 0 \n",
        "neg_count = 0\n",
        "for num in diff_open1:\n",
        "    # checking condition\n",
        "    if num >= 0:\n",
        "        pos_count += 1\n",
        "    else:\n",
        "        neg_count += 1"
      ],
      "metadata": {
        "id": "7vSa0cdQrJKh"
      },
      "execution_count": 59,
      "outputs": []
    },
    {
      "cell_type": "code",
      "source": [
        "print(pos_count)\n",
        "print(neg_count)"
      ],
      "metadata": {
        "colab": {
          "base_uri": "https://localhost:8080/"
        },
        "id": "m_h6UCBRrWez",
        "outputId": "f808a8f1-2642-44c9-d636-11f27e9238e3"
      },
      "execution_count": 60,
      "outputs": [
        {
          "output_type": "stream",
          "name": "stdout",
          "text": [
            "13909\n",
            "6091\n"
          ]
        }
      ]
    },
    {
      "cell_type": "code",
      "source": [
        "logits_total_array_o =logits_total_array"
      ],
      "metadata": {
        "id": "1hB56XGe8cZo"
      },
      "execution_count": 61,
      "outputs": []
    },
    {
      "cell_type": "code",
      "source": [
        "logits_total_array_o = np.array(logits_total_array_o)"
      ],
      "metadata": {
        "id": "a2diGuJb3ygL"
      },
      "execution_count": 62,
      "outputs": []
    },
    {
      "cell_type": "code",
      "source": [
        "logits_total_array_o[:,100] = logits_total_array_o[:,100] + 5.08"
      ],
      "metadata": {
        "id": "_uCPD-_2-Z5E"
      },
      "execution_count": 63,
      "outputs": []
    },
    {
      "cell_type": "code",
      "source": [
        "predictions_ = np.argmax(logits_total_array_o , axis=1)"
      ],
      "metadata": {
        "id": "KwsZhlfB-bLp"
      },
      "execution_count": 64,
      "outputs": []
    },
    {
      "cell_type": "code",
      "source": [
        "np.count_nonzero(predictions_ == 100)"
      ],
      "metadata": {
        "colab": {
          "base_uri": "https://localhost:8080/"
        },
        "id": "Ukz8yyc7-1aj",
        "outputId": "9a216e77-44be-48b2-d8ce-d2eb09b89c9b"
      },
      "execution_count": 65,
      "outputs": [
        {
          "output_type": "execute_result",
          "data": {
            "text/plain": [
              "17033"
            ]
          },
          "metadata": {},
          "execution_count": 65
        }
      ]
    },
    {
      "cell_type": "code",
      "source": [
        "from sklearn.metrics import classification_report\n",
        "\n",
        "result_report= classification_report(true_labels, predictions_, digits=3, output_dict=False)\n",
        "print(result_report)"
      ],
      "metadata": {
        "colab": {
          "base_uri": "https://localhost:8080/"
        },
        "id": "e0hf4NBQ-bPF",
        "outputId": "98e946ba-f081-45cb-fb65-83a83f88894b"
      },
      "execution_count": 66,
      "outputs": [
        {
          "output_type": "stream",
          "name": "stdout",
          "text": [
            "              precision    recall  f1-score   support\n",
            "\n",
            "           0      0.820     0.820     0.820       200\n",
            "           1      0.947     0.895     0.920       200\n",
            "           2      0.684     0.900     0.778       200\n",
            "           3      0.907     0.980     0.942       200\n",
            "           4      0.485     0.495     0.490       200\n",
            "           5      0.585     0.685     0.631       200\n",
            "           6      0.667     0.470     0.551       200\n",
            "           7      0.847     0.970     0.904       200\n",
            "           8      0.879     0.875     0.877       200\n",
            "           9      0.700     0.840     0.764       200\n",
            "          10      0.964     0.935     0.949       200\n",
            "          11      0.691     0.715     0.703       200\n",
            "          12      0.624     0.930     0.747       200\n",
            "          13      0.906     0.870     0.888       200\n",
            "          14      0.667     0.710     0.688       200\n",
            "          15      0.912     0.930     0.921       200\n",
            "          16      0.983     0.860     0.917       200\n",
            "          17      0.918     0.895     0.906       200\n",
            "          18      0.866     0.905     0.885       200\n",
            "          19      0.588     0.670     0.626       200\n",
            "          20      0.978     0.880     0.926       200\n",
            "          21      0.710     0.745     0.727       200\n",
            "          22      0.593     0.430     0.499       200\n",
            "          23      0.635     0.765     0.694       200\n",
            "          24      0.626     0.710     0.665       200\n",
            "          25      0.680     0.925     0.784       200\n",
            "          26      0.804     0.985     0.885       200\n",
            "          27      0.503     0.790     0.615       200\n",
            "          28      0.639     0.780     0.703       200\n",
            "          29      0.636     0.960     0.765       200\n",
            "          30      0.801     0.865     0.832       200\n",
            "          31      0.871     0.875     0.873       200\n",
            "          32      0.408     0.830     0.547       200\n",
            "          33      0.486     0.445     0.465       200\n",
            "          34      0.854     0.645     0.735       200\n",
            "          35      0.812     0.605     0.693       200\n",
            "          36      0.762     0.720     0.740       200\n",
            "          37      0.823     0.930     0.873       200\n",
            "          38      0.911     0.925     0.918       200\n",
            "          39      0.564     0.865     0.682       200\n",
            "          40      0.622     0.610     0.616       200\n",
            "          41      0.615     0.975     0.754       200\n",
            "          42      0.922     0.825     0.871       200\n",
            "          43      0.533     0.765     0.628       200\n",
            "          44      0.812     0.670     0.734       200\n",
            "          45      0.970     0.800     0.877       200\n",
            "          46      0.906     0.965     0.935       200\n",
            "          47      0.528     0.895     0.664       200\n",
            "          48      0.797     0.960     0.871       200\n",
            "          49      0.841     0.950     0.892       200\n",
            "          50      0.427     0.770     0.549       200\n",
            "          51      0.809     0.890     0.848       200\n",
            "          52      0.648     0.755     0.697       200\n",
            "          53      0.628     0.710     0.667       200\n",
            "          54      0.882     0.785     0.831       200\n",
            "          55      0.649     0.750     0.696       200\n",
            "          56      0.808     0.965     0.879       200\n",
            "          57      0.827     0.935     0.878       200\n",
            "          58      0.806     0.790     0.798       200\n",
            "          59      0.651     0.875     0.746       200\n",
            "          60      0.729     0.780     0.754       200\n",
            "          61      0.577     0.690     0.629       200\n",
            "          62      0.584     0.900     0.709       200\n",
            "          63      0.944     0.835     0.886       200\n",
            "          64      0.949     0.835     0.888       200\n",
            "          65      0.819     0.925     0.869       200\n",
            "          66      0.915     0.910     0.912       200\n",
            "          67      0.843     0.860     0.851       200\n",
            "          68      0.568     0.540     0.554       200\n",
            "          69      0.806     0.705     0.752       200\n",
            "          70      0.735     0.735     0.735       200\n",
            "          71      0.510     0.800     0.623       200\n",
            "          72      0.922     1.000     0.959       200\n",
            "          73      0.494     0.620     0.550       200\n",
            "          74      0.892     0.950     0.920       200\n",
            "          75      0.984     0.600     0.745       200\n",
            "          76      0.869     0.925     0.896       200\n",
            "          77      0.714     0.860     0.780       200\n",
            "          78      0.495     0.730     0.590       200\n",
            "          79      0.970     0.980     0.975       200\n",
            "          80      0.529     0.990     0.690       200\n",
            "          81      0.408     0.875     0.556       200\n",
            "          82      0.809     0.870     0.839       200\n",
            "          83      0.974     0.955     0.965       200\n",
            "          84      0.888     0.750     0.813       200\n",
            "          85      0.485     0.895     0.629       200\n",
            "          86      0.564     0.900     0.694       200\n",
            "          87      0.607     0.555     0.580       200\n",
            "          88      0.609     0.770     0.680       200\n",
            "          89      0.435     0.790     0.561       200\n",
            "          90      0.668     0.695     0.681       200\n",
            "          91      0.884     0.650     0.749       200\n",
            "          92      0.659     0.975     0.786       200\n",
            "          93      0.957     0.900     0.928       200\n",
            "          94      0.648     0.885     0.748       200\n",
            "          95      0.981     0.775     0.866       200\n",
            "          96      0.667     0.920     0.773       200\n",
            "          97      0.884     0.765     0.820       200\n",
            "          98      0.814     0.875     0.843       200\n",
            "          99      0.803     0.955     0.872       200\n",
            "         100      0.817     0.695     0.751     20000\n",
            "\n",
            "    accuracy                          0.756     40000\n",
            "   macro avg      0.741     0.815     0.766     40000\n",
            "weighted avg      0.778     0.756     0.759     40000\n",
            "\n"
          ]
        }
      ]
    },
    {
      "cell_type": "code",
      "source": [
        "#df2 = pd.read_csv(\"/content/drive/MyDrive/ASU/ood_test_data_small.csv\")\n",
        "df2 = pd.read_csv(\"/content/drive/MyDrive/ASU/stage1_eval_data_ds3.csv\")\n"
      ],
      "metadata": {
        "id": "-vot8mV--bUD"
      },
      "execution_count": 67,
      "outputs": []
    },
    {
      "cell_type": "code",
      "source": [],
      "metadata": {
        "id": "6BolYknPTQ5_"
      },
      "execution_count": null,
      "outputs": []
    },
    {
      "cell_type": "code",
      "source": [
        "df2 = pd.read_csv(\"/content/drive/MyDrive/ASU/ood_test_data_small.csv\")"
      ],
      "metadata": {
        "id": "BSnH2uB286su"
      },
      "execution_count": 68,
      "outputs": []
    },
    {
      "cell_type": "code",
      "source": [
        "df2 = pd.read_csv(\"/content/drive/MyDrive/ASU/stage1_eval_data_ds2.csv\")"
      ],
      "metadata": {
        "id": "rs1jtZg1TRlW"
      },
      "execution_count": 68,
      "outputs": []
    },
    {
      "cell_type": "code",
      "source": [
        "df2[\"N_plus_one_prediction\"] = predictions_"
      ],
      "metadata": {
        "id": "P7WmjbQl-iM_"
      },
      "execution_count": 69,
      "outputs": []
    },
    {
      "cell_type": "code",
      "source": [
        "df2.head(10)"
      ],
      "metadata": {
        "colab": {
          "base_uri": "https://localhost:8080/",
          "height": 363
        },
        "id": "BbmRemkT-iPU",
        "outputId": "8c99b463-ae37-4065-bfc2-19b7cb883362"
      },
      "execution_count": 70,
      "outputs": [
        {
          "output_type": "execute_result",
          "data": {
            "text/plain": [
              "           author  real_label  label  \\\n",
              "0  A11OTLEDSW8ZXD          44     44   \n",
              "1  A11OTLEDSW8ZXD          44     44   \n",
              "2  A11OTLEDSW8ZXD          44     44   \n",
              "3  A11OTLEDSW8ZXD          44     44   \n",
              "4  A11OTLEDSW8ZXD          44     44   \n",
              "5  A11OTLEDSW8ZXD          44     44   \n",
              "6  A11OTLEDSW8ZXD          44     44   \n",
              "7  A11OTLEDSW8ZXD          44     44   \n",
              "8  A11OTLEDSW8ZXD          44     44   \n",
              "9  A11OTLEDSW8ZXD          44     44   \n",
              "\n",
              "                                              review      product_domain  \\\n",
              "0  I bought this battery charger a year ago, when...  automotive.json.gz   \n",
              "1  I bought this because with four geriatric vehi...  automotive.json.gz   \n",
              "2  I was a tad skeptical of the outcome after see...  automotive.json.gz   \n",
              "3  I insist on every one of my vehicles to have a...  automotive.json.gz   \n",
              "4  This is a very well-made top grain cow leather...  automotive.json.gz   \n",
              "5  At first I was pleased to get this roller shad...  automotive.json.gz   \n",
              "6  This strap appears well-made, with inch-thick ...  automotive.json.gz   \n",
              "7  For a quick, overall shine on chrome and plast...  automotive.json.gz   \n",
              "8  This balaclava comes in a small, bubble-wrap p...  automotive.json.gz   \n",
              "9  This is an impressive car jump battery pack wi...  automotive.json.gz   \n",
              "\n",
              "   overall  #words  N_plus_one_prediction  \n",
              "0      5.0     330                    100  \n",
              "1      5.0     170                    100  \n",
              "2      4.0     315                     44  \n",
              "3      5.0     167                     44  \n",
              "4      5.0     191                     44  \n",
              "5      4.0     137                    100  \n",
              "6      4.0      84                     44  \n",
              "7      4.0     110                    100  \n",
              "8      5.0     161                     44  \n",
              "9      5.0     317                     44  "
            ],
            "text/html": [
              "\n",
              "  <div id=\"df-198a6506-1054-4a82-867e-a6fa5affa522\">\n",
              "    <div class=\"colab-df-container\">\n",
              "      <div>\n",
              "<style scoped>\n",
              "    .dataframe tbody tr th:only-of-type {\n",
              "        vertical-align: middle;\n",
              "    }\n",
              "\n",
              "    .dataframe tbody tr th {\n",
              "        vertical-align: top;\n",
              "    }\n",
              "\n",
              "    .dataframe thead th {\n",
              "        text-align: right;\n",
              "    }\n",
              "</style>\n",
              "<table border=\"1\" class=\"dataframe\">\n",
              "  <thead>\n",
              "    <tr style=\"text-align: right;\">\n",
              "      <th></th>\n",
              "      <th>author</th>\n",
              "      <th>real_label</th>\n",
              "      <th>label</th>\n",
              "      <th>review</th>\n",
              "      <th>product_domain</th>\n",
              "      <th>overall</th>\n",
              "      <th>#words</th>\n",
              "      <th>N_plus_one_prediction</th>\n",
              "    </tr>\n",
              "  </thead>\n",
              "  <tbody>\n",
              "    <tr>\n",
              "      <th>0</th>\n",
              "      <td>A11OTLEDSW8ZXD</td>\n",
              "      <td>44</td>\n",
              "      <td>44</td>\n",
              "      <td>I bought this battery charger a year ago, when...</td>\n",
              "      <td>automotive.json.gz</td>\n",
              "      <td>5.0</td>\n",
              "      <td>330</td>\n",
              "      <td>100</td>\n",
              "    </tr>\n",
              "    <tr>\n",
              "      <th>1</th>\n",
              "      <td>A11OTLEDSW8ZXD</td>\n",
              "      <td>44</td>\n",
              "      <td>44</td>\n",
              "      <td>I bought this because with four geriatric vehi...</td>\n",
              "      <td>automotive.json.gz</td>\n",
              "      <td>5.0</td>\n",
              "      <td>170</td>\n",
              "      <td>100</td>\n",
              "    </tr>\n",
              "    <tr>\n",
              "      <th>2</th>\n",
              "      <td>A11OTLEDSW8ZXD</td>\n",
              "      <td>44</td>\n",
              "      <td>44</td>\n",
              "      <td>I was a tad skeptical of the outcome after see...</td>\n",
              "      <td>automotive.json.gz</td>\n",
              "      <td>4.0</td>\n",
              "      <td>315</td>\n",
              "      <td>44</td>\n",
              "    </tr>\n",
              "    <tr>\n",
              "      <th>3</th>\n",
              "      <td>A11OTLEDSW8ZXD</td>\n",
              "      <td>44</td>\n",
              "      <td>44</td>\n",
              "      <td>I insist on every one of my vehicles to have a...</td>\n",
              "      <td>automotive.json.gz</td>\n",
              "      <td>5.0</td>\n",
              "      <td>167</td>\n",
              "      <td>44</td>\n",
              "    </tr>\n",
              "    <tr>\n",
              "      <th>4</th>\n",
              "      <td>A11OTLEDSW8ZXD</td>\n",
              "      <td>44</td>\n",
              "      <td>44</td>\n",
              "      <td>This is a very well-made top grain cow leather...</td>\n",
              "      <td>automotive.json.gz</td>\n",
              "      <td>5.0</td>\n",
              "      <td>191</td>\n",
              "      <td>44</td>\n",
              "    </tr>\n",
              "    <tr>\n",
              "      <th>5</th>\n",
              "      <td>A11OTLEDSW8ZXD</td>\n",
              "      <td>44</td>\n",
              "      <td>44</td>\n",
              "      <td>At first I was pleased to get this roller shad...</td>\n",
              "      <td>automotive.json.gz</td>\n",
              "      <td>4.0</td>\n",
              "      <td>137</td>\n",
              "      <td>100</td>\n",
              "    </tr>\n",
              "    <tr>\n",
              "      <th>6</th>\n",
              "      <td>A11OTLEDSW8ZXD</td>\n",
              "      <td>44</td>\n",
              "      <td>44</td>\n",
              "      <td>This strap appears well-made, with inch-thick ...</td>\n",
              "      <td>automotive.json.gz</td>\n",
              "      <td>4.0</td>\n",
              "      <td>84</td>\n",
              "      <td>44</td>\n",
              "    </tr>\n",
              "    <tr>\n",
              "      <th>7</th>\n",
              "      <td>A11OTLEDSW8ZXD</td>\n",
              "      <td>44</td>\n",
              "      <td>44</td>\n",
              "      <td>For a quick, overall shine on chrome and plast...</td>\n",
              "      <td>automotive.json.gz</td>\n",
              "      <td>4.0</td>\n",
              "      <td>110</td>\n",
              "      <td>100</td>\n",
              "    </tr>\n",
              "    <tr>\n",
              "      <th>8</th>\n",
              "      <td>A11OTLEDSW8ZXD</td>\n",
              "      <td>44</td>\n",
              "      <td>44</td>\n",
              "      <td>This balaclava comes in a small, bubble-wrap p...</td>\n",
              "      <td>automotive.json.gz</td>\n",
              "      <td>5.0</td>\n",
              "      <td>161</td>\n",
              "      <td>44</td>\n",
              "    </tr>\n",
              "    <tr>\n",
              "      <th>9</th>\n",
              "      <td>A11OTLEDSW8ZXD</td>\n",
              "      <td>44</td>\n",
              "      <td>44</td>\n",
              "      <td>This is an impressive car jump battery pack wi...</td>\n",
              "      <td>automotive.json.gz</td>\n",
              "      <td>5.0</td>\n",
              "      <td>317</td>\n",
              "      <td>44</td>\n",
              "    </tr>\n",
              "  </tbody>\n",
              "</table>\n",
              "</div>\n",
              "      <button class=\"colab-df-convert\" onclick=\"convertToInteractive('df-198a6506-1054-4a82-867e-a6fa5affa522')\"\n",
              "              title=\"Convert this dataframe to an interactive table.\"\n",
              "              style=\"display:none;\">\n",
              "        \n",
              "  <svg xmlns=\"http://www.w3.org/2000/svg\" height=\"24px\"viewBox=\"0 0 24 24\"\n",
              "       width=\"24px\">\n",
              "    <path d=\"M0 0h24v24H0V0z\" fill=\"none\"/>\n",
              "    <path d=\"M18.56 5.44l.94 2.06.94-2.06 2.06-.94-2.06-.94-.94-2.06-.94 2.06-2.06.94zm-11 1L8.5 8.5l.94-2.06 2.06-.94-2.06-.94L8.5 2.5l-.94 2.06-2.06.94zm10 10l.94 2.06.94-2.06 2.06-.94-2.06-.94-.94-2.06-.94 2.06-2.06.94z\"/><path d=\"M17.41 7.96l-1.37-1.37c-.4-.4-.92-.59-1.43-.59-.52 0-1.04.2-1.43.59L10.3 9.45l-7.72 7.72c-.78.78-.78 2.05 0 2.83L4 21.41c.39.39.9.59 1.41.59.51 0 1.02-.2 1.41-.59l7.78-7.78 2.81-2.81c.8-.78.8-2.07 0-2.86zM5.41 20L4 18.59l7.72-7.72 1.47 1.35L5.41 20z\"/>\n",
              "  </svg>\n",
              "      </button>\n",
              "      \n",
              "  <style>\n",
              "    .colab-df-container {\n",
              "      display:flex;\n",
              "      flex-wrap:wrap;\n",
              "      gap: 12px;\n",
              "    }\n",
              "\n",
              "    .colab-df-convert {\n",
              "      background-color: #E8F0FE;\n",
              "      border: none;\n",
              "      border-radius: 50%;\n",
              "      cursor: pointer;\n",
              "      display: none;\n",
              "      fill: #1967D2;\n",
              "      height: 32px;\n",
              "      padding: 0 0 0 0;\n",
              "      width: 32px;\n",
              "    }\n",
              "\n",
              "    .colab-df-convert:hover {\n",
              "      background-color: #E2EBFA;\n",
              "      box-shadow: 0px 1px 2px rgba(60, 64, 67, 0.3), 0px 1px 3px 1px rgba(60, 64, 67, 0.15);\n",
              "      fill: #174EA6;\n",
              "    }\n",
              "\n",
              "    [theme=dark] .colab-df-convert {\n",
              "      background-color: #3B4455;\n",
              "      fill: #D2E3FC;\n",
              "    }\n",
              "\n",
              "    [theme=dark] .colab-df-convert:hover {\n",
              "      background-color: #434B5C;\n",
              "      box-shadow: 0px 1px 3px 1px rgba(0, 0, 0, 0.15);\n",
              "      filter: drop-shadow(0px 1px 2px rgba(0, 0, 0, 0.3));\n",
              "      fill: #FFFFFF;\n",
              "    }\n",
              "  </style>\n",
              "\n",
              "      <script>\n",
              "        const buttonEl =\n",
              "          document.querySelector('#df-198a6506-1054-4a82-867e-a6fa5affa522 button.colab-df-convert');\n",
              "        buttonEl.style.display =\n",
              "          google.colab.kernel.accessAllowed ? 'block' : 'none';\n",
              "\n",
              "        async function convertToInteractive(key) {\n",
              "          const element = document.querySelector('#df-198a6506-1054-4a82-867e-a6fa5affa522');\n",
              "          const dataTable =\n",
              "            await google.colab.kernel.invokeFunction('convertToInteractive',\n",
              "                                                     [key], {});\n",
              "          if (!dataTable) return;\n",
              "\n",
              "          const docLinkHtml = 'Like what you see? Visit the ' +\n",
              "            '<a target=\"_blank\" href=https://colab.research.google.com/notebooks/data_table.ipynb>data table notebook</a>'\n",
              "            + ' to learn more about interactive tables.';\n",
              "          element.innerHTML = '';\n",
              "          dataTable['output_type'] = 'display_data';\n",
              "          await google.colab.output.renderOutput(dataTable, element);\n",
              "          const docLink = document.createElement('div');\n",
              "          docLink.innerHTML = docLinkHtml;\n",
              "          element.appendChild(docLink);\n",
              "        }\n",
              "      </script>\n",
              "    </div>\n",
              "  </div>\n",
              "  "
            ]
          },
          "metadata": {},
          "execution_count": 70
        }
      ]
    },
    {
      "cell_type": "code",
      "source": [
        "df2['N_plus_one_prediction'] = df2['N_plus_one_prediction'].replace([100], 'OOD')"
      ],
      "metadata": {
        "id": "UTollU5t-iRi"
      },
      "execution_count": 71,
      "outputs": []
    },
    {
      "cell_type": "code",
      "source": [
        "df2.head(10)"
      ],
      "metadata": {
        "colab": {
          "base_uri": "https://localhost:8080/",
          "height": 363
        },
        "id": "TsMt3Qs1-iTa",
        "outputId": "b015f4cb-73d8-4532-c943-e6cb6be14847"
      },
      "execution_count": 72,
      "outputs": [
        {
          "output_type": "execute_result",
          "data": {
            "text/plain": [
              "           author  real_label  label  \\\n",
              "0  A11OTLEDSW8ZXD          44     44   \n",
              "1  A11OTLEDSW8ZXD          44     44   \n",
              "2  A11OTLEDSW8ZXD          44     44   \n",
              "3  A11OTLEDSW8ZXD          44     44   \n",
              "4  A11OTLEDSW8ZXD          44     44   \n",
              "5  A11OTLEDSW8ZXD          44     44   \n",
              "6  A11OTLEDSW8ZXD          44     44   \n",
              "7  A11OTLEDSW8ZXD          44     44   \n",
              "8  A11OTLEDSW8ZXD          44     44   \n",
              "9  A11OTLEDSW8ZXD          44     44   \n",
              "\n",
              "                                              review      product_domain  \\\n",
              "0  I bought this battery charger a year ago, when...  automotive.json.gz   \n",
              "1  I bought this because with four geriatric vehi...  automotive.json.gz   \n",
              "2  I was a tad skeptical of the outcome after see...  automotive.json.gz   \n",
              "3  I insist on every one of my vehicles to have a...  automotive.json.gz   \n",
              "4  This is a very well-made top grain cow leather...  automotive.json.gz   \n",
              "5  At first I was pleased to get this roller shad...  automotive.json.gz   \n",
              "6  This strap appears well-made, with inch-thick ...  automotive.json.gz   \n",
              "7  For a quick, overall shine on chrome and plast...  automotive.json.gz   \n",
              "8  This balaclava comes in a small, bubble-wrap p...  automotive.json.gz   \n",
              "9  This is an impressive car jump battery pack wi...  automotive.json.gz   \n",
              "\n",
              "   overall  #words N_plus_one_prediction  \n",
              "0      5.0     330                   OOD  \n",
              "1      5.0     170                   OOD  \n",
              "2      4.0     315                    44  \n",
              "3      5.0     167                    44  \n",
              "4      5.0     191                    44  \n",
              "5      4.0     137                   OOD  \n",
              "6      4.0      84                    44  \n",
              "7      4.0     110                   OOD  \n",
              "8      5.0     161                    44  \n",
              "9      5.0     317                    44  "
            ],
            "text/html": [
              "\n",
              "  <div id=\"df-c09823e9-8aa2-4bdf-aac1-030cd52cdb72\">\n",
              "    <div class=\"colab-df-container\">\n",
              "      <div>\n",
              "<style scoped>\n",
              "    .dataframe tbody tr th:only-of-type {\n",
              "        vertical-align: middle;\n",
              "    }\n",
              "\n",
              "    .dataframe tbody tr th {\n",
              "        vertical-align: top;\n",
              "    }\n",
              "\n",
              "    .dataframe thead th {\n",
              "        text-align: right;\n",
              "    }\n",
              "</style>\n",
              "<table border=\"1\" class=\"dataframe\">\n",
              "  <thead>\n",
              "    <tr style=\"text-align: right;\">\n",
              "      <th></th>\n",
              "      <th>author</th>\n",
              "      <th>real_label</th>\n",
              "      <th>label</th>\n",
              "      <th>review</th>\n",
              "      <th>product_domain</th>\n",
              "      <th>overall</th>\n",
              "      <th>#words</th>\n",
              "      <th>N_plus_one_prediction</th>\n",
              "    </tr>\n",
              "  </thead>\n",
              "  <tbody>\n",
              "    <tr>\n",
              "      <th>0</th>\n",
              "      <td>A11OTLEDSW8ZXD</td>\n",
              "      <td>44</td>\n",
              "      <td>44</td>\n",
              "      <td>I bought this battery charger a year ago, when...</td>\n",
              "      <td>automotive.json.gz</td>\n",
              "      <td>5.0</td>\n",
              "      <td>330</td>\n",
              "      <td>OOD</td>\n",
              "    </tr>\n",
              "    <tr>\n",
              "      <th>1</th>\n",
              "      <td>A11OTLEDSW8ZXD</td>\n",
              "      <td>44</td>\n",
              "      <td>44</td>\n",
              "      <td>I bought this because with four geriatric vehi...</td>\n",
              "      <td>automotive.json.gz</td>\n",
              "      <td>5.0</td>\n",
              "      <td>170</td>\n",
              "      <td>OOD</td>\n",
              "    </tr>\n",
              "    <tr>\n",
              "      <th>2</th>\n",
              "      <td>A11OTLEDSW8ZXD</td>\n",
              "      <td>44</td>\n",
              "      <td>44</td>\n",
              "      <td>I was a tad skeptical of the outcome after see...</td>\n",
              "      <td>automotive.json.gz</td>\n",
              "      <td>4.0</td>\n",
              "      <td>315</td>\n",
              "      <td>44</td>\n",
              "    </tr>\n",
              "    <tr>\n",
              "      <th>3</th>\n",
              "      <td>A11OTLEDSW8ZXD</td>\n",
              "      <td>44</td>\n",
              "      <td>44</td>\n",
              "      <td>I insist on every one of my vehicles to have a...</td>\n",
              "      <td>automotive.json.gz</td>\n",
              "      <td>5.0</td>\n",
              "      <td>167</td>\n",
              "      <td>44</td>\n",
              "    </tr>\n",
              "    <tr>\n",
              "      <th>4</th>\n",
              "      <td>A11OTLEDSW8ZXD</td>\n",
              "      <td>44</td>\n",
              "      <td>44</td>\n",
              "      <td>This is a very well-made top grain cow leather...</td>\n",
              "      <td>automotive.json.gz</td>\n",
              "      <td>5.0</td>\n",
              "      <td>191</td>\n",
              "      <td>44</td>\n",
              "    </tr>\n",
              "    <tr>\n",
              "      <th>5</th>\n",
              "      <td>A11OTLEDSW8ZXD</td>\n",
              "      <td>44</td>\n",
              "      <td>44</td>\n",
              "      <td>At first I was pleased to get this roller shad...</td>\n",
              "      <td>automotive.json.gz</td>\n",
              "      <td>4.0</td>\n",
              "      <td>137</td>\n",
              "      <td>OOD</td>\n",
              "    </tr>\n",
              "    <tr>\n",
              "      <th>6</th>\n",
              "      <td>A11OTLEDSW8ZXD</td>\n",
              "      <td>44</td>\n",
              "      <td>44</td>\n",
              "      <td>This strap appears well-made, with inch-thick ...</td>\n",
              "      <td>automotive.json.gz</td>\n",
              "      <td>4.0</td>\n",
              "      <td>84</td>\n",
              "      <td>44</td>\n",
              "    </tr>\n",
              "    <tr>\n",
              "      <th>7</th>\n",
              "      <td>A11OTLEDSW8ZXD</td>\n",
              "      <td>44</td>\n",
              "      <td>44</td>\n",
              "      <td>For a quick, overall shine on chrome and plast...</td>\n",
              "      <td>automotive.json.gz</td>\n",
              "      <td>4.0</td>\n",
              "      <td>110</td>\n",
              "      <td>OOD</td>\n",
              "    </tr>\n",
              "    <tr>\n",
              "      <th>8</th>\n",
              "      <td>A11OTLEDSW8ZXD</td>\n",
              "      <td>44</td>\n",
              "      <td>44</td>\n",
              "      <td>This balaclava comes in a small, bubble-wrap p...</td>\n",
              "      <td>automotive.json.gz</td>\n",
              "      <td>5.0</td>\n",
              "      <td>161</td>\n",
              "      <td>44</td>\n",
              "    </tr>\n",
              "    <tr>\n",
              "      <th>9</th>\n",
              "      <td>A11OTLEDSW8ZXD</td>\n",
              "      <td>44</td>\n",
              "      <td>44</td>\n",
              "      <td>This is an impressive car jump battery pack wi...</td>\n",
              "      <td>automotive.json.gz</td>\n",
              "      <td>5.0</td>\n",
              "      <td>317</td>\n",
              "      <td>44</td>\n",
              "    </tr>\n",
              "  </tbody>\n",
              "</table>\n",
              "</div>\n",
              "      <button class=\"colab-df-convert\" onclick=\"convertToInteractive('df-c09823e9-8aa2-4bdf-aac1-030cd52cdb72')\"\n",
              "              title=\"Convert this dataframe to an interactive table.\"\n",
              "              style=\"display:none;\">\n",
              "        \n",
              "  <svg xmlns=\"http://www.w3.org/2000/svg\" height=\"24px\"viewBox=\"0 0 24 24\"\n",
              "       width=\"24px\">\n",
              "    <path d=\"M0 0h24v24H0V0z\" fill=\"none\"/>\n",
              "    <path d=\"M18.56 5.44l.94 2.06.94-2.06 2.06-.94-2.06-.94-.94-2.06-.94 2.06-2.06.94zm-11 1L8.5 8.5l.94-2.06 2.06-.94-2.06-.94L8.5 2.5l-.94 2.06-2.06.94zm10 10l.94 2.06.94-2.06 2.06-.94-2.06-.94-.94-2.06-.94 2.06-2.06.94z\"/><path d=\"M17.41 7.96l-1.37-1.37c-.4-.4-.92-.59-1.43-.59-.52 0-1.04.2-1.43.59L10.3 9.45l-7.72 7.72c-.78.78-.78 2.05 0 2.83L4 21.41c.39.39.9.59 1.41.59.51 0 1.02-.2 1.41-.59l7.78-7.78 2.81-2.81c.8-.78.8-2.07 0-2.86zM5.41 20L4 18.59l7.72-7.72 1.47 1.35L5.41 20z\"/>\n",
              "  </svg>\n",
              "      </button>\n",
              "      \n",
              "  <style>\n",
              "    .colab-df-container {\n",
              "      display:flex;\n",
              "      flex-wrap:wrap;\n",
              "      gap: 12px;\n",
              "    }\n",
              "\n",
              "    .colab-df-convert {\n",
              "      background-color: #E8F0FE;\n",
              "      border: none;\n",
              "      border-radius: 50%;\n",
              "      cursor: pointer;\n",
              "      display: none;\n",
              "      fill: #1967D2;\n",
              "      height: 32px;\n",
              "      padding: 0 0 0 0;\n",
              "      width: 32px;\n",
              "    }\n",
              "\n",
              "    .colab-df-convert:hover {\n",
              "      background-color: #E2EBFA;\n",
              "      box-shadow: 0px 1px 2px rgba(60, 64, 67, 0.3), 0px 1px 3px 1px rgba(60, 64, 67, 0.15);\n",
              "      fill: #174EA6;\n",
              "    }\n",
              "\n",
              "    [theme=dark] .colab-df-convert {\n",
              "      background-color: #3B4455;\n",
              "      fill: #D2E3FC;\n",
              "    }\n",
              "\n",
              "    [theme=dark] .colab-df-convert:hover {\n",
              "      background-color: #434B5C;\n",
              "      box-shadow: 0px 1px 3px 1px rgba(0, 0, 0, 0.15);\n",
              "      filter: drop-shadow(0px 1px 2px rgba(0, 0, 0, 0.3));\n",
              "      fill: #FFFFFF;\n",
              "    }\n",
              "  </style>\n",
              "\n",
              "      <script>\n",
              "        const buttonEl =\n",
              "          document.querySelector('#df-c09823e9-8aa2-4bdf-aac1-030cd52cdb72 button.colab-df-convert');\n",
              "        buttonEl.style.display =\n",
              "          google.colab.kernel.accessAllowed ? 'block' : 'none';\n",
              "\n",
              "        async function convertToInteractive(key) {\n",
              "          const element = document.querySelector('#df-c09823e9-8aa2-4bdf-aac1-030cd52cdb72');\n",
              "          const dataTable =\n",
              "            await google.colab.kernel.invokeFunction('convertToInteractive',\n",
              "                                                     [key], {});\n",
              "          if (!dataTable) return;\n",
              "\n",
              "          const docLinkHtml = 'Like what you see? Visit the ' +\n",
              "            '<a target=\"_blank\" href=https://colab.research.google.com/notebooks/data_table.ipynb>data table notebook</a>'\n",
              "            + ' to learn more about interactive tables.';\n",
              "          element.innerHTML = '';\n",
              "          dataTable['output_type'] = 'display_data';\n",
              "          await google.colab.output.renderOutput(dataTable, element);\n",
              "          const docLink = document.createElement('div');\n",
              "          docLink.innerHTML = docLinkHtml;\n",
              "          element.appendChild(docLink);\n",
              "        }\n",
              "      </script>\n",
              "    </div>\n",
              "  </div>\n",
              "  "
            ]
          },
          "metadata": {},
          "execution_count": 72
        }
      ]
    },
    {
      "cell_type": "code",
      "source": [
        "combined_df = df2\n",
        "number_of_known_labels = 100"
      ],
      "metadata": {
        "id": "X9-pwo0C-iVi"
      },
      "execution_count": 73,
      "outputs": []
    },
    {
      "cell_type": "code",
      "source": [
        "\n",
        "def compute_precision_recall_for_known_classes(given_label):\n",
        "    TP = combined_df[(combined_df[\"real_label\"] == given_label) & (combined_df[\"N_plus_one_prediction\"] == given_label)].shape[0]\n",
        "    FP = combined_df[(combined_df[\"real_label\"] != given_label) & (combined_df[\"N_plus_one_prediction\"] == given_label)].shape[0]\n",
        "    FN = combined_df[(combined_df[\"real_label\"] == given_label) & (combined_df[\"N_plus_one_prediction\"] != given_label)].shape[0]\n",
        "    if(TP == 0):\n",
        "        P = 0\n",
        "        R = 0\n",
        "    else:\n",
        "        P = round(100*TP/(TP + FP), 2)\n",
        "        R = round(100*TP/(TP + FN),2)\n",
        "    return P, R"
      ],
      "metadata": {
        "id": "3jcrJZ-P-iXX"
      },
      "execution_count": 74,
      "outputs": []
    },
    {
      "cell_type": "code",
      "source": [
        "def compute_precision_recall_for_OOD():\n",
        "    TP = combined_df[(combined_df[\"real_label\"] >= number_of_known_labels) & (combined_df[\"N_plus_one_prediction\"] == \"OOD\")].shape[0]\n",
        "    FP = combined_df[(combined_df[\"real_label\"] < number_of_known_labels) & (combined_df[\"N_plus_one_prediction\"] == \"OOD\")].shape[0]\n",
        "    FN = combined_df[(combined_df[\"real_label\"] >= number_of_known_labels) & (combined_df[\"N_plus_one_prediction\"] != \"OOD\")].shape[0]\n",
        "    if(TP == 0):\n",
        "        P = 0\n",
        "        R = 0\n",
        "    else:\n",
        "        P = 100*TP/(TP + FP)\n",
        "        R = 100*TP/(TP + FN)\n",
        "    return P, R"
      ],
      "metadata": {
        "id": "7sESXHpY-iZw"
      },
      "execution_count": 75,
      "outputs": []
    },
    {
      "cell_type": "code",
      "source": [
        "\n",
        "\n",
        "\n",
        "\n",
        "def compute_performance_metrics():\n",
        "    from statistics import mean\n",
        "    \n",
        "    precisions = []\n",
        "    recalls = []\n",
        "    for known_label in range(number_of_known_labels):\n",
        "        p, r = compute_precision_recall_for_known_classes(known_label)\n",
        "        precisions.append(p)\n",
        "        recalls.append(r)\n",
        "    \n",
        "    precision_known, recall_known = round(mean(precisions),2), round(mean(recalls),2)\n",
        "    f1_known = round(2*precision_known*recall_known/(precision_known + recall_known),2)\n",
        "    \n",
        "    precision_ood, recall_ood = compute_precision_recall_for_OOD()\n",
        "    f1_ood = round(2*precision_ood*recall_ood/(precision_ood + recall_ood),2)\n",
        "    \n",
        "    precisions.append(precision_ood)\n",
        "    recalls.append(recall_ood)\n",
        "    \n",
        "    precision, recall = round(mean(precisions),2), round(mean(recalls),2)\n",
        "    f1 = round(2*precision*recall/(precision + recall),2)\n",
        "    \n",
        "    return {\n",
        "        \"known\": {\n",
        "            \"precision\": precision_known,\n",
        "            \"recall\": recall_known,\n",
        "            \"f1\": f1_known,\n",
        "        },\n",
        "        \"ood\": {\n",
        "            \"precision\": round(precision_ood,2),\n",
        "            \"recall\": round(recall_ood,2),\n",
        "            \"f1\": f1_ood,\n",
        "        },\n",
        "        \"overall\": {\n",
        "            \"precision\": precision,\n",
        "            \"recall\": recall,\n",
        "            \"f1\": f1,\n",
        "        }\n",
        "        \n",
        "    }"
      ],
      "metadata": {
        "id": "-Yr1nnP--idV"
      },
      "execution_count": 76,
      "outputs": []
    },
    {
      "cell_type": "code",
      "source": [
        "def print_performance_metrics():\n",
        "    performance_dict = compute_performance_metrics()\n",
        "    print(performance_dict[\"known\"][\"precision\"],performance_dict[\"known\"][\"recall\"],performance_dict[\"known\"][\"f1\"], end = \" \")\n",
        "    print(performance_dict[\"ood\"][\"precision\"],performance_dict[\"ood\"][\"recall\"],performance_dict[\"ood\"][\"f1\"], end = \" \")\n",
        "    print(performance_dict[\"overall\"][\"precision\"],performance_dict[\"overall\"][\"recall\"],performance_dict[\"overall\"][\"f1\"], end = \" \")\n",
        "    return performance_dict[\"overall\"][\"f1\"]"
      ],
      "metadata": {
        "id": "F6szCJEH-bWm"
      },
      "execution_count": 77,
      "outputs": []
    },
    {
      "cell_type": "code",
      "source": [
        "print_performance_metrics()"
      ],
      "metadata": {
        "colab": {
          "base_uri": "https://localhost:8080/"
        },
        "id": "6rI1vF-5-yOe",
        "outputId": "9742e9b0-2068-48a0-cdaa-acd74c8c358c"
      },
      "execution_count": 78,
      "outputs": [
        {
          "output_type": "stream",
          "name": "stdout",
          "text": [
            "74.01 81.59 77.62 81.66 69.55 75.12 74.08 81.47 77.6 "
          ]
        },
        {
          "output_type": "execute_result",
          "data": {
            "text/plain": [
              "77.6"
            ]
          },
          "metadata": {},
          "execution_count": 78
        }
      ]
    },
    {
      "cell_type": "code",
      "source": [
        "list_of_f1=[]\n",
        "for i in range(100,401):\n",
        "  logits_total_array_o =logits_total_array\n",
        "  logits_total_array_o = np.array(logits_total_array_o)\n",
        "  logits_total_array_o[:,100] = logits_total_array_o[:,100] + (i/100)\n",
        "  predictions_ = np.argmax(logits_total_array_o , axis=1)\n",
        "  df2[\"N_plus_one_prediction\"] = predictions_\n",
        "  df2['N_plus_one_prediction'] = df2['N_plus_one_prediction'].replace([100], 'OOD')\n",
        "  print(\"\\n\",i/100,\"    \",end=\"\")\n",
        "  list_of_f1.append(print_performance_metrics())\n",
        " # print_performance_metrics()\n"
      ],
      "metadata": {
        "colab": {
          "base_uri": "https://localhost:8080/"
        },
        "id": "b5wWYlQ_-yRB",
        "outputId": "ed966fe0-7622-40a7-a904-e4747a028d27"
      },
      "execution_count": 79,
      "outputs": [
        {
          "output_type": "stream",
          "name": "stdout",
          "text": [
            "\n",
            " 1.0     62.21 86.89 72.51 86.21 41.62 56.13 62.45 86.44 72.51 \n",
            " 1.01     62.23 86.88 72.52 86.18 41.65 56.16 62.46 86.43 72.52 \n",
            " 1.02     62.25 86.86 72.52 86.16 41.73 56.22 62.49 86.42 72.53 \n",
            " 1.03     62.27 86.86 72.54 86.16 41.79 56.28 62.5 86.41 72.54 \n",
            " 1.04     62.29 86.86 72.55 86.16 41.85 56.34 62.53 86.41 72.56 \n",
            " 1.05     62.31 86.84 72.56 86.13 41.91 56.38 62.55 86.4 72.57 \n",
            " 1.06     62.33 86.83 72.57 86.1 41.98 56.44 62.57 86.38 72.57 \n",
            " 1.07     62.35 86.82 72.58 86.09 42.02 56.47 62.58 86.38 72.58 \n",
            " 1.08     62.37 86.82 72.59 86.1 42.08 56.53 62.6 86.38 72.59 \n",
            " 1.09     62.39 86.81 72.6 86.08 42.16 56.6 62.62 86.36 72.6 \n",
            " 1.1     62.4 86.8 72.6 86.08 42.19 56.63 62.64 86.36 72.61 \n",
            " 1.11     62.41 86.8 72.61 86.08 42.23 56.66 62.65 86.35 72.62 \n",
            " 1.12     62.45 86.78 72.63 86.02 42.28 56.7 62.68 86.33 72.63 \n",
            " 1.13     62.47 86.78 72.65 86.05 42.36 56.77 62.7 86.34 72.65 \n",
            " 1.14     62.48 86.77 72.65 86.04 42.4 56.8 62.72 86.33 72.66 \n",
            " 1.15     62.51 86.77 72.67 86.05 42.47 56.87 62.74 86.33 72.67 \n",
            " 1.16     62.53 86.77 72.68 86.05 42.54 56.93 62.76 86.33 72.68 \n",
            " 1.17     62.55 86.75 72.69 86.03 42.59 56.97 62.78 86.32 72.69 \n",
            " 1.18     62.56 86.75 72.7 86.02 42.64 57.02 62.8 86.31 72.7 \n",
            " 1.19     62.57 86.73 72.7 85.99 42.66 57.03 62.8 86.29 72.69 \n",
            " 1.2     62.59 86.71 72.7 85.98 42.74 57.1 62.82 86.27 72.7 \n",
            " 1.21     62.61 86.7 72.71 85.94 42.79 57.13 62.84 86.27 72.71 \n",
            " 1.22     62.63 86.69 72.72 85.91 42.84 57.17 62.86 86.25 72.72 \n",
            " 1.23     62.67 86.69 72.75 85.92 42.94 57.26 62.9 86.25 72.75 \n",
            " 1.24     62.7 86.69 72.77 85.92 43.02 57.33 62.93 86.25 72.77 \n",
            " 1.25     62.72 86.68 72.78 85.91 43.06 57.37 62.95 86.25 72.78 \n",
            " 1.26     62.75 86.67 72.8 85.91 43.16 57.45 62.98 86.24 72.8 \n",
            " 1.27     62.77 86.67 72.81 85.9 43.23 57.51 63.0 86.23 72.81 \n",
            " 1.28     62.79 86.67 72.82 85.91 43.27 57.56 63.02 86.24 72.82 \n",
            " 1.29     62.82 86.67 72.84 85.92 43.34 57.62 63.05 86.24 72.84 \n",
            " 1.3     62.86 86.67 72.87 85.91 43.41 57.68 63.08 86.24 72.86 \n",
            " 1.31     62.88 86.67 72.88 85.92 43.47 57.73 63.11 86.24 72.88 \n",
            " 1.32     62.9 86.67 72.9 85.9 43.5 57.75 63.13 86.24 72.9 \n",
            " 1.33     62.92 86.66 72.91 85.89 43.56 57.8 63.15 86.23 72.91 \n",
            " 1.34     62.94 86.65 72.92 85.88 43.62 57.86 63.17 86.22 72.92 \n",
            " 1.35     62.96 86.64 72.93 85.84 43.66 57.88 63.19 86.21 72.93 \n",
            " 1.36     63.0 86.63 72.95 85.84 43.77 57.97 63.22 86.21 72.95 \n",
            " 1.37     63.03 86.62 72.97 85.84 43.85 58.05 63.26 86.2 72.97 \n",
            " 1.38     63.05 86.61 72.98 85.82 43.93 58.11 63.28 86.19 72.98 \n",
            " 1.39     63.07 86.61 72.99 85.82 43.99 58.16 63.3 86.19 72.99 \n",
            " 1.4     63.09 86.61 73.0 85.82 44.03 58.2 63.32 86.19 73.01 \n",
            " 1.41     63.12 86.61 73.02 85.78 44.09 58.24 63.35 86.19 73.03 \n",
            " 1.42     63.15 86.6 73.04 85.77 44.13 58.28 63.37 86.18 73.04 \n",
            " 1.43     63.18 86.6 73.06 85.77 44.2 58.33 63.4 86.18 73.06 \n",
            " 1.44     63.21 86.59 73.08 85.79 44.3 58.43 63.44 86.18 73.08 \n",
            " 1.45     63.25 86.59 73.1 85.78 44.38 58.49 63.47 86.18 73.1 \n",
            " 1.46     63.28 86.59 73.12 85.77 44.44 58.55 63.5 86.18 73.12 \n",
            " 1.47     63.3 86.59 73.14 85.78 44.52 58.61 63.52 86.18 73.13 \n",
            " 1.48     63.32 86.59 73.15 85.78 44.55 58.64 63.54 86.18 73.15 \n",
            " 1.49     63.34 86.58 73.16 85.77 44.62 58.7 63.56 86.17 73.16 \n",
            " 1.5     63.36 86.58 73.17 85.77 44.68 58.75 63.58 86.17 73.17 \n",
            " 1.51     63.37 86.57 73.18 85.75 44.72 58.78 63.59 86.16 73.17 \n",
            " 1.52     63.39 86.56 73.18 85.75 44.8 58.85 63.61 86.14 73.18 \n",
            " 1.53     63.43 86.56 73.21 85.75 44.88 58.92 63.65 86.14 73.21 \n",
            " 1.54     63.45 86.55 73.22 85.75 44.94 58.97 63.67 86.14 73.22 \n",
            " 1.55     63.47 86.54 73.23 85.74 44.98 59.01 63.69 86.13 73.23 \n",
            " 1.56     63.49 86.53 73.24 85.74 45.05 59.07 63.71 86.12 73.24 \n",
            " 1.57     63.51 86.53 73.25 85.72 45.11 59.11 63.73 86.11 73.25 \n",
            " 1.58     63.54 86.53 73.27 85.72 45.16 59.15 63.76 86.12 73.27 \n",
            " 1.59     63.57 86.51 73.29 85.7 45.24 59.22 63.79 86.1 73.28 \n",
            " 1.6     63.59 86.5 73.3 85.69 45.31 59.28 63.81 86.09 73.29 \n",
            " 1.61     63.61 86.5 73.31 85.68 45.36 59.32 63.83 86.09 73.31 \n",
            " 1.62     63.63 86.49 73.32 85.69 45.41 59.36 63.85 86.08 73.32 \n",
            " 1.63     63.67 86.47 73.34 85.67 45.48 59.42 63.88 86.07 73.33 \n",
            " 1.64     63.69 86.47 73.35 85.65 45.54 59.46 63.9 86.06 73.34 \n",
            " 1.65     63.71 86.45 73.36 85.62 45.61 59.52 63.93 86.05 73.36 \n",
            " 1.66     63.72 86.44 73.36 85.57 45.65 59.53 63.94 86.04 73.36 \n",
            " 1.67     63.76 86.44 73.39 85.56 45.74 59.61 63.98 86.03 73.38 \n",
            " 1.68     63.78 86.43 73.4 85.54 45.8 59.65 64.0 86.03 73.4 \n",
            " 1.69     63.82 86.42 73.42 85.54 45.87 59.72 64.03 86.02 73.41 \n",
            " 1.7     63.84 86.41 73.43 85.53 45.92 59.76 64.05 86.01 73.42 \n",
            " 1.71     63.87 86.41 73.45 85.51 45.98 59.81 64.08 86.0 73.44 \n",
            " 1.72     63.89 86.39 73.46 85.51 46.04 59.85 64.1 86.0 73.45 \n",
            " 1.73     63.91 86.39 73.47 85.5 46.11 59.91 64.13 85.99 73.47 \n",
            " 1.74     63.93 86.39 73.48 85.5 46.16 59.95 64.15 85.99 73.48 \n",
            " 1.75     63.96 86.38 73.5 85.49 46.23 60.01 64.17 85.98 73.49 \n",
            " 1.76     63.99 86.37 73.51 85.49 46.3 60.07 64.2 85.97 73.51 \n",
            " 1.77     64.0 86.36 73.52 85.49 46.34 60.11 64.22 85.97 73.52 \n",
            " 1.78     64.03 86.36 73.54 85.49 46.41 60.17 64.24 85.96 73.53 \n",
            " 1.79     64.06 86.34 73.55 85.44 46.48 60.2 64.27 85.95 73.55 \n",
            " 1.8     64.08 86.34 73.56 85.42 46.52 60.23 64.29 85.95 73.56 \n",
            " 1.81     64.1 86.33 73.57 85.4 46.56 60.26 64.31 85.94 73.57 \n",
            " 1.82     64.12 86.33 73.59 85.39 46.6 60.29 64.33 85.94 73.58 \n",
            " 1.83     64.15 86.33 73.61 85.4 46.69 60.37 64.36 85.94 73.6 \n",
            " 1.84     64.18 86.33 73.63 85.42 46.76 60.44 64.39 85.94 73.62 \n",
            " 1.85     64.21 86.32 73.64 85.43 46.9 60.55 64.42 85.93 73.64 \n",
            " 1.86     64.26 86.3 73.67 85.42 47.01 60.64 64.46 85.91 73.66 \n",
            " 1.87     64.29 86.29 73.68 85.42 47.1 60.72 64.5 85.9 73.68 \n",
            " 1.88     64.31 86.28 73.69 85.4 47.16 60.76 64.52 85.9 73.69 \n",
            " 1.89     64.34 86.28 73.71 85.4 47.22 60.81 64.54 85.9 73.7 \n",
            " 1.9     64.35 86.28 73.72 85.39 47.27 60.85 64.56 85.89 73.71 \n",
            " 1.91     64.37 86.27 73.73 85.37 47.31 60.88 64.57 85.88 73.72 \n",
            " 1.92     64.39 86.27 73.74 85.37 47.38 60.94 64.6 85.88 73.74 \n",
            " 1.93     64.4 86.25 73.74 85.35 47.41 60.96 64.6 85.87 73.73 \n",
            " 1.94     64.41 86.25 73.75 85.35 47.45 60.99 64.62 85.87 73.74 \n",
            " 1.95     64.43 86.25 73.76 85.35 47.5 61.03 64.64 85.87 73.76 \n",
            " 1.96     64.46 86.25 73.78 85.34 47.55 61.08 64.66 85.86 73.77 \n",
            " 1.97     64.49 86.24 73.8 85.32 47.62 61.12 64.69 85.86 73.79 \n",
            " 1.98     64.51 86.23 73.81 85.3 47.66 61.15 64.71 85.85 73.8 \n",
            " 1.99     64.51 86.22 73.8 85.28 47.69 61.17 64.72 85.83 73.79 \n",
            " 2.0     64.53 86.22 73.81 85.26 47.73 61.2 64.74 85.83 73.81 \n",
            " 2.01     64.56 86.2 73.83 85.26 47.8 61.26 64.76 85.82 73.82 \n",
            " 2.02     64.59 86.2 73.85 85.26 47.88 61.32 64.8 85.82 73.84 \n",
            " 2.03     64.63 86.2 73.87 85.28 47.95 61.39 64.83 85.82 73.86 \n",
            " 2.04     64.65 86.19 73.88 85.28 48.02 61.44 64.85 85.82 73.88 \n",
            " 2.05     64.68 86.19 73.9 85.29 48.08 61.5 64.89 85.82 73.9 \n",
            " 2.06     64.71 86.19 73.92 85.27 48.12 61.52 64.91 85.82 73.91 \n",
            " 2.07     64.73 86.18 73.93 85.26 48.2 61.58 64.93 85.8 73.92 \n",
            " 2.08     64.74 86.17 73.93 85.26 48.26 61.63 64.95 85.79 73.93 \n",
            " 2.09     64.76 86.16 73.94 85.26 48.31 61.68 64.96 85.79 73.94 \n",
            " 2.1     64.76 86.14 73.94 85.24 48.34 61.7 64.97 85.77 73.93 \n",
            " 2.11     64.8 86.14 73.96 85.25 48.41 61.75 65.0 85.77 73.95 \n",
            " 2.12     64.82 86.14 73.97 85.25 48.48 61.8 65.03 85.76 73.97 \n",
            " 2.13     64.85 86.12 73.99 85.24 48.54 61.86 65.05 85.75 73.98 \n",
            " 2.14     64.88 86.12 74.01 85.25 48.62 61.92 65.08 85.75 74.0 \n",
            " 2.15     64.91 86.11 74.02 85.25 48.71 62.0 65.11 85.74 74.01 \n",
            " 2.16     64.93 86.11 74.03 85.24 48.77 62.04 65.13 85.74 74.03 \n",
            " 2.17     64.94 86.09 74.03 85.24 48.82 62.08 65.14 85.73 74.03 \n",
            " 2.18     64.96 86.08 74.04 85.23 48.88 62.12 65.16 85.72 74.04 \n",
            " 2.19     64.97 86.06 74.04 85.2 48.92 62.15 65.17 85.69 74.03 \n",
            " 2.2     64.99 86.05 74.05 85.2 48.98 62.2 65.19 85.68 74.04 \n",
            " 2.21     65.02 86.04 74.07 85.2 49.05 62.26 65.22 85.67 74.06 \n",
            " 2.22     65.05 86.03 74.08 85.17 49.12 62.31 65.25 85.66 74.07 \n",
            " 2.23     65.08 86.01 74.1 85.13 49.18 62.34 65.28 85.65 74.09 \n",
            " 2.24     65.09 86.0 74.1 85.1 49.2 62.36 65.28 85.63 74.08 \n",
            " 2.25     65.13 85.99 74.12 85.09 49.28 62.42 65.32 85.63 74.11 \n",
            " 2.26     65.15 85.97 74.13 85.06 49.35 62.46 65.35 85.61 74.12 \n",
            " 2.27     65.17 85.96 74.14 85.02 49.4 62.49 65.37 85.6 74.13 \n",
            " 2.28     65.2 85.95 74.15 85.03 49.47 62.54 65.39 85.59 74.14 \n",
            " 2.29     65.25 85.95 74.18 85.03 49.57 62.63 65.44 85.59 74.17 \n",
            " 2.3     65.28 85.94 74.2 85.04 49.63 62.68 65.47 85.59 74.19 \n",
            " 2.31     65.32 85.93 74.22 85.01 49.74 62.76 65.52 85.57 74.21 \n",
            " 2.32     65.35 85.92 74.24 84.99 49.81 62.81 65.54 85.56 74.22 \n",
            " 2.33     65.37 85.91 74.25 84.97 49.86 62.84 65.56 85.55 74.23 \n",
            " 2.34     65.41 85.91 74.27 84.96 49.94 62.9 65.6 85.55 74.26 \n",
            " 2.35     65.44 85.91 74.29 84.96 50.01 62.96 65.63 85.55 74.28 \n",
            " 2.36     65.47 85.91 74.31 84.97 50.08 63.02 65.67 85.56 74.31 \n",
            " 2.37     65.5 85.91 74.33 84.95 50.13 63.05 65.69 85.55 74.32 \n",
            " 2.38     65.52 85.9 74.34 84.95 50.19 63.1 65.72 85.55 74.34 \n",
            " 2.39     65.54 85.9 74.35 84.95 50.23 63.13 65.73 85.55 74.34 \n",
            " 2.4     65.57 85.89 74.37 84.96 50.32 63.2 65.76 85.54 74.36 \n",
            " 2.41     65.59 85.89 74.38 84.97 50.38 63.26 65.78 85.54 74.37 \n",
            " 2.42     65.61 85.88 74.39 84.95 50.44 63.3 65.8 85.53 74.38 \n",
            " 2.43     65.64 85.88 74.41 84.94 50.52 63.36 65.83 85.53 74.4 \n",
            " 2.44     65.67 85.86 74.42 84.9 50.61 63.42 65.86 85.51 74.41 \n",
            " 2.45     65.71 85.86 74.45 84.9 50.7 63.49 65.9 85.51 74.44 \n",
            " 2.46     65.72 85.84 74.44 84.9 50.74 63.52 65.91 85.5 74.44 \n",
            " 2.47     65.76 85.83 74.47 84.89 50.83 63.59 65.95 85.49 74.46 \n",
            " 2.48     65.77 85.83 74.47 84.89 50.87 63.62 65.96 85.48 74.46 \n",
            " 2.49     65.81 85.81 74.49 84.88 50.95 63.68 66.0 85.46 74.48 \n",
            " 2.5     65.84 85.81 74.51 84.89 51.02 63.74 66.03 85.47 74.5 \n",
            " 2.51     65.89 85.81 74.54 84.87 51.13 63.82 66.08 85.46 74.53 \n",
            " 2.52     65.92 85.8 74.56 84.87 51.2 63.87 66.11 85.46 74.55 \n",
            " 2.53     65.95 85.8 74.58 84.87 51.26 63.92 66.13 85.45 74.56 \n",
            " 2.54     65.97 85.8 74.59 84.88 51.33 63.97 66.16 85.45 74.58 \n",
            " 2.55     66.0 85.78 74.6 84.87 51.41 64.03 66.19 85.43 74.59 \n",
            " 2.56     66.03 85.77 74.62 84.88 51.49 64.1 66.21 85.43 74.6 \n",
            " 2.57     66.05 85.76 74.63 84.88 51.57 64.16 66.23 85.42 74.61 \n",
            " 2.58     66.09 85.76 74.65 84.9 51.66 64.23 66.28 85.42 74.64 \n",
            " 2.59     66.11 85.76 74.66 84.91 51.72 64.28 66.3 85.42 74.66 \n",
            " 2.6     66.14 85.74 74.68 84.88 51.81 64.34 66.33 85.4 74.67 \n",
            " 2.61     66.18 85.73 74.7 84.85 51.88 64.39 66.36 85.4 74.69 \n",
            " 2.62     66.21 85.72 74.71 84.85 51.97 64.46 66.39 85.39 74.7 \n",
            " 2.63     66.24 85.72 74.73 84.84 52.03 64.51 66.42 85.39 74.72 \n",
            " 2.64     66.26 85.72 74.74 84.84 52.09 64.55 66.44 85.38 74.73 \n",
            " 2.65     66.29 85.7 74.76 84.83 52.19 64.62 66.48 85.37 74.75 \n",
            " 2.66     66.33 85.69 74.78 84.8 52.26 64.67 66.51 85.36 74.77 \n",
            " 2.67     66.36 85.69 74.8 84.79 52.34 64.73 66.55 85.35 74.79 \n",
            " 2.68     66.39 85.69 74.82 84.81 52.42 64.79 66.57 85.36 74.8 \n",
            " 2.69     66.41 85.68 74.82 84.8 52.48 64.83 66.59 85.35 74.81 \n",
            " 2.7     66.43 85.66 74.83 84.77 52.53 64.87 66.61 85.33 74.82 \n",
            " 2.71     66.47 85.65 74.85 84.78 52.62 64.94 66.65 85.32 74.84 \n",
            " 2.72     66.51 85.63 74.87 84.73 52.7 64.98 66.69 85.3 74.86 \n",
            " 2.73     66.54 85.63 74.89 84.75 52.77 65.04 66.72 85.3 74.87 \n",
            " 2.74     66.57 85.61 74.9 84.75 52.86 65.11 66.75 85.29 74.89 \n",
            " 2.75     66.6 85.61 74.92 84.76 52.95 65.18 66.78 85.29 74.91 \n",
            " 2.76     66.63 85.61 74.94 84.77 53.01 65.23 66.81 85.28 74.92 \n",
            " 2.77     66.65 85.6 74.95 84.77 53.06 65.27 66.83 85.28 74.94 \n",
            " 2.78     66.67 85.59 74.95 84.75 53.12 65.31 66.85 85.27 74.94 \n",
            " 2.79     66.7 85.58 74.97 84.75 53.19 65.36 66.88 85.26 74.96 \n",
            " 2.8     66.72 85.58 74.98 84.74 53.24 65.39 66.89 85.26 74.97 \n",
            " 2.81     66.74 85.57 74.99 84.73 53.31 65.45 66.92 85.25 74.98 \n",
            " 2.82     66.77 85.56 75.01 84.74 53.4 65.51 66.95 85.24 75.0 \n",
            " 2.83     66.81 85.55 75.03 84.74 53.48 65.58 66.98 85.23 75.01 \n",
            " 2.84     66.85 85.55 75.05 84.74 53.58 65.65 67.03 85.23 75.04 \n",
            " 2.85     66.88 85.53 75.06 84.72 53.66 65.7 67.06 85.22 75.06 \n",
            " 2.86     66.9 85.53 75.08 84.72 53.7 65.74 67.08 85.21 75.07 \n",
            " 2.87     66.94 85.52 75.1 84.72 53.8 65.81 67.11 85.21 75.08 \n",
            " 2.88     66.97 85.5 75.11 84.7 53.87 65.86 67.15 85.19 75.1 \n",
            " 2.89     66.98 85.48 75.11 84.68 53.91 65.87 67.16 85.17 75.1 \n",
            " 2.9     67.01 85.47 75.12 84.64 53.97 65.91 67.19 85.15 75.11 \n",
            " 2.91     67.03 85.44 75.12 84.61 54.03 65.95 67.21 85.12 75.11 \n",
            " 2.92     67.05 85.42 75.13 84.59 54.09 65.98 67.22 85.11 75.11 \n",
            " 2.93     67.06 85.42 75.13 84.59 54.11 66.0 67.23 85.11 75.12 \n",
            " 2.94     67.09 85.41 75.15 84.58 54.17 66.04 67.26 85.1 75.14 \n",
            " 2.95     67.11 85.39 75.15 84.57 54.23 66.08 67.28 85.09 75.14 \n",
            " 2.96     67.12 85.39 75.16 84.57 54.27 66.11 67.29 85.08 75.15 \n",
            " 2.97     67.14 85.38 75.17 84.57 54.34 66.16 67.32 85.07 75.16 \n",
            " 2.98     67.16 85.36 75.17 84.55 54.38 66.19 67.33 85.05 75.16 \n",
            " 2.99     67.19 85.34 75.19 84.54 54.48 66.26 67.37 85.04 75.18 \n",
            " 3.0     67.22 85.33 75.2 84.53 54.54 66.3 67.39 85.03 75.19 \n",
            " 3.01     67.25 85.31 75.21 84.49 54.6 66.34 67.42 85.01 75.2 \n",
            " 3.02     67.28 85.31 75.23 84.48 54.69 66.39 67.45 85.01 75.22 \n",
            " 3.03     67.3 85.31 75.24 84.46 54.73 66.42 67.47 85.0 75.23 \n",
            " 3.04     67.32 85.28 75.24 84.44 54.8 66.46 67.49 84.98 75.23 \n",
            " 3.05     67.35 85.28 75.26 84.43 54.85 66.5 67.52 84.97 75.25 \n",
            " 3.06     67.38 85.27 75.28 84.43 54.94 66.57 67.55 84.96 75.26 \n",
            " 3.07     67.4 85.25 75.28 84.38 54.98 66.58 67.57 84.95 75.27 \n",
            " 3.08     67.42 85.23 75.29 84.37 55.05 66.62 67.59 84.93 75.27 \n",
            " 3.09     67.45 85.22 75.3 84.35 55.09 66.65 67.62 84.93 75.29 \n",
            " 3.1     67.48 85.19 75.31 84.32 55.16 66.69 67.65 84.9 75.3 \n",
            " 3.11     67.51 85.19 75.33 84.3 55.24 66.75 67.68 84.89 75.31 \n",
            " 3.12     67.54 85.18 75.34 84.31 55.3 66.79 67.7 84.88 75.32 \n",
            " 3.13     67.57 85.17 75.36 84.28 55.38 66.84 67.74 84.87 75.34 \n",
            " 3.14     67.61 85.16 75.38 84.27 55.45 66.89 67.78 84.86 75.36 \n",
            " 3.15     67.63 85.14 75.38 84.25 55.51 66.93 67.8 84.85 75.37 \n",
            " 3.16     67.65 85.13 75.39 84.23 55.56 66.96 67.82 84.84 75.38 \n",
            " 3.17     67.7 85.12 75.42 84.24 55.66 67.03 67.87 84.83 75.41 \n",
            " 3.18     67.72 85.12 75.43 84.25 55.72 67.08 67.89 84.83 75.42 \n",
            " 3.19     67.74 85.11 75.44 84.23 55.75 67.09 67.9 84.82 75.42 \n",
            " 3.2     67.78 85.1 75.46 84.23 55.84 67.16 67.94 84.81 75.44 \n",
            " 3.21     67.8 85.09 75.47 84.23 55.88 67.19 67.96 84.8 75.45 \n",
            " 3.22     67.82 85.09 75.48 84.23 55.94 67.23 67.98 84.8 75.46 \n",
            " 3.23     67.85 85.08 75.49 84.23 55.99 67.27 68.02 84.8 75.49 \n",
            " 3.24     67.88 85.08 75.51 84.24 56.06 67.32 68.04 84.8 75.5 \n",
            " 3.25     67.88 85.06 75.51 84.22 56.08 67.32 68.05 84.78 75.5 \n",
            " 3.26     67.93 85.06 75.54 84.22 56.18 67.4 68.09 84.77 75.52 \n",
            " 3.27     67.97 85.05 75.56 84.21 56.27 67.46 68.13 84.76 75.54 \n",
            " 3.28     68.0 85.04 75.57 84.22 56.34 67.52 68.16 84.76 75.56 \n",
            " 3.29     68.04 85.03 75.59 84.22 56.42 67.57 68.2 84.75 75.58 \n",
            " 3.3     68.08 85.03 75.62 84.21 56.48 67.61 68.24 84.74 75.6 \n",
            " 3.31     68.11 85.02 75.63 84.2 56.55 67.66 68.27 84.73 75.61 \n",
            " 3.32     68.14 84.98 75.63 84.17 56.62 67.7 68.3 84.7 75.62 \n",
            " 3.33     68.16 84.97 75.64 84.17 56.67 67.73 68.32 84.69 75.63 \n",
            " 3.34     68.17 84.97 75.65 84.17 56.7 67.76 68.33 84.69 75.64 \n",
            " 3.35     68.2 84.95 75.66 84.16 56.78 67.81 68.36 84.67 75.65 \n",
            " 3.36     68.23 84.94 75.67 84.13 56.84 67.85 68.39 84.66 75.66 \n",
            " 3.37     68.27 84.94 75.7 84.13 56.92 67.91 68.43 84.66 75.68 \n",
            " 3.38     68.31 84.94 75.72 84.13 57.0 67.96 68.47 84.66 75.71 \n",
            " 3.39     68.34 84.92 75.73 84.12 57.07 68.01 68.49 84.64 75.71 \n",
            " 3.4     68.37 84.92 75.75 84.11 57.13 68.04 68.53 84.64 75.74 \n",
            " 3.41     68.42 84.92 75.78 84.12 57.23 68.12 68.57 84.64 75.76 \n",
            " 3.42     68.47 84.92 75.81 84.13 57.34 68.2 68.62 84.64 75.79 \n",
            " 3.43     68.49 84.91 75.82 84.14 57.4 68.24 68.64 84.64 75.8 \n",
            " 3.44     68.51 84.9 75.83 84.14 57.47 68.29 68.67 84.63 75.82 \n",
            " 3.45     68.54 84.88 75.84 84.14 57.54 68.34 68.7 84.61 75.83 \n",
            " 3.46     68.58 84.84 75.85 84.12 57.64 68.41 68.73 84.58 75.84 \n",
            " 3.47     68.62 84.84 75.87 84.13 57.72 68.47 68.77 84.58 75.86 \n",
            " 3.48     68.64 84.83 75.88 84.13 57.78 68.51 68.8 84.57 75.87 \n",
            " 3.49     68.66 84.83 75.89 84.14 57.84 68.56 68.82 84.56 75.88 \n",
            " 3.5     68.7 84.81 75.91 84.11 57.92 68.6 68.85 84.54 75.89 \n",
            " 3.51     68.71 84.78 75.9 84.08 57.98 68.63 68.87 84.51 75.89 \n",
            " 3.52     68.73 84.78 75.92 84.09 58.05 68.68 68.89 84.51 75.9 \n",
            " 3.53     68.76 84.77 75.93 84.09 58.09 68.71 68.91 84.5 75.91 \n",
            " 3.54     68.79 84.76 75.94 84.09 58.16 68.76 68.94 84.5 75.93 \n",
            " 3.55     68.82 84.73 75.95 84.07 58.22 68.8 68.97 84.47 75.94 \n",
            " 3.56     68.84 84.73 75.96 84.07 58.27 68.83 68.99 84.47 75.95 \n",
            " 3.57     68.86 84.72 75.97 84.04 58.31 68.85 69.01 84.45 75.95 \n",
            " 3.58     68.89 84.71 75.99 84.05 58.38 68.9 69.04 84.45 75.97 \n",
            " 3.59     68.9 84.69 75.98 84.02 58.41 68.91 69.05 84.43 75.97 \n",
            " 3.6     68.94 84.69 76.01 84.01 58.49 68.97 69.09 84.43 75.99 \n",
            " 3.61     68.98 84.67 76.02 84.01 58.57 69.02 69.13 84.42 76.01 \n",
            " 3.62     68.99 84.66 76.03 83.99 58.61 69.04 69.13 84.4 76.01 \n",
            " 3.63     69.02 84.64 76.04 83.98 58.68 69.09 69.16 84.38 76.02 \n",
            " 3.64     69.04 84.63 76.04 83.97 58.73 69.12 69.19 84.37 76.03 \n",
            " 3.65     69.06 84.6 76.04 83.93 58.8 69.15 69.21 84.34 76.03 \n",
            " 3.66     69.09 84.59 76.06 83.93 58.87 69.2 69.23 84.34 76.04 \n",
            " 3.67     69.11 84.58 76.07 83.92 58.94 69.24 69.26 84.33 76.06 \n",
            " 3.68     69.13 84.57 76.07 83.9 58.98 69.27 69.27 84.32 76.06 \n",
            " 3.69     69.17 84.56 76.09 83.88 59.06 69.32 69.32 84.3 76.08 \n",
            " 3.7     69.2 84.54 76.1 83.87 59.14 69.37 69.35 84.29 76.09 \n",
            " 3.71     69.25 84.53 76.13 83.85 59.23 69.43 69.4 84.27 76.12 \n",
            " 3.72     69.28 84.53 76.15 83.86 59.3 69.47 69.43 84.28 76.14 \n",
            " 3.73     69.31 84.52 76.16 83.86 59.35 69.51 69.45 84.27 76.15 \n",
            " 3.74     69.34 84.51 76.18 83.86 59.42 69.55 69.48 84.26 76.16 \n",
            " 3.75     69.38 84.49 76.19 83.84 59.49 69.6 69.52 84.24 76.18 \n",
            " 3.76     69.41 84.48 76.21 83.83 59.55 69.63 69.55 84.24 76.19 \n",
            " 3.77     69.44 84.47 76.22 83.82 59.62 69.68 69.58 84.23 76.21 \n",
            " 3.78     69.46 84.44 76.22 83.79 59.68 69.71 69.6 84.19 76.2 \n",
            " 3.79     69.49 84.44 76.24 83.79 59.74 69.75 69.63 84.2 76.23 \n",
            " 3.8     69.53 84.42 76.25 83.78 59.8 69.79 69.67 84.18 76.24 \n",
            " 3.81     69.56 84.42 76.27 83.77 59.87 69.83 69.7 84.17 76.25 \n",
            " 3.82     69.59 84.39 76.28 83.75 59.94 69.87 69.73 84.15 76.26 \n",
            " 3.83     69.62 84.38 76.29 83.73 59.99 69.9 69.76 84.14 76.28 \n",
            " 3.84     69.65 84.37 76.31 83.72 60.06 69.95 69.78 84.13 76.29 \n",
            " 3.85     69.67 84.36 76.31 83.71 60.12 69.98 69.81 84.12 76.3 \n",
            " 3.86     69.7 84.35 76.33 83.72 60.2 70.04 69.84 84.11 76.31 \n",
            " 3.87     69.72 84.34 76.34 83.71 60.24 70.06 69.86 84.1 76.32 \n",
            " 3.88     69.75 84.33 76.35 83.71 60.29 70.1 69.89 84.1 76.34 \n",
            " 3.89     69.78 84.32 76.36 83.7 60.38 70.15 69.92 84.08 76.35 \n",
            " 3.9     69.8 84.32 76.38 83.7 60.43 70.19 69.93 84.08 76.35 \n",
            " 3.91     69.82 84.32 76.39 83.71 60.48 70.23 69.96 84.08 76.37 \n",
            " 3.92     69.86 84.31 76.41 83.72 60.57 70.29 70.0 84.07 76.39 \n",
            " 3.93     69.9 84.3 76.43 83.71 60.65 70.34 70.03 84.07 76.41 \n",
            " 3.94     69.92 84.28 76.43 83.7 60.7 70.37 70.06 84.05 76.42 \n",
            " 3.95     69.95 84.28 76.45 83.7 60.78 70.42 70.09 84.04 76.43 \n",
            " 3.96     69.98 84.26 76.46 83.7 60.84 70.46 70.12 84.03 76.45 \n",
            " 3.97     70.02 84.25 76.48 83.7 60.94 70.52 70.16 84.02 76.47 \n",
            " 3.98     70.05 84.23 76.49 83.65 60.98 70.54 70.18 84.0 76.47 \n",
            " 3.99     70.07 84.2 76.49 83.64 61.05 70.58 70.2 83.98 76.47 \n",
            " 4.0     70.1 84.19 76.5 83.62 61.1 70.61 70.24 83.97 76.49 "
          ]
        }
      ]
    },
    {
      "cell_type": "code",
      "source": [
        "max(list_of_f1)"
      ],
      "metadata": {
        "colab": {
          "base_uri": "https://localhost:8080/"
        },
        "id": "Yo4xzFN_-yUf",
        "outputId": "85f87c88-0bb4-489e-e52e-c469fecb5bca"
      },
      "execution_count": 80,
      "outputs": [
        {
          "output_type": "execute_result",
          "data": {
            "text/plain": [
              "76.49"
            ]
          },
          "metadata": {},
          "execution_count": 80
        }
      ]
    },
    {
      "cell_type": "code",
      "source": [
        "list_of_f1=[]\n",
        "for i in range(400,501):\n",
        "  logits_total_array_o =logits_total_array\n",
        "  logits_total_array_o = np.array(logits_total_array_o)\n",
        "  logits_total_array_o[:,100] = logits_total_array_o[:,100] + (i/100)\n",
        "  predictions_ = np.argmax(logits_total_array_o , axis=1)\n",
        "  df2[\"N_plus_one_prediction\"] = predictions_\n",
        "  df2['N_plus_one_prediction'] = df2['N_plus_one_prediction'].replace([100], 'OOD')\n",
        "  print(\"\\n\",i/100,\"    \",end=\"\")\n",
        "  list_of_f1.append(print_performance_metrics())\n",
        " # print_performance_metrics()"
      ],
      "metadata": {
        "colab": {
          "base_uri": "https://localhost:8080/"
        },
        "id": "OWD_a7_GYnj1",
        "outputId": "c6730a50-a284-4742-d6d5-24300928b7e8"
      },
      "execution_count": 81,
      "outputs": [
        {
          "output_type": "stream",
          "name": "stdout",
          "text": [
            "\n",
            " 4.0     70.1 84.19 76.5 83.62 61.1 70.61 70.24 83.97 76.49 \n",
            " 4.01     70.13 84.18 76.52 83.61 61.18 70.66 70.26 83.95 76.5 \n",
            " 4.02     70.17 84.16 76.53 83.6 61.27 70.71 70.3 83.93 76.51 \n",
            " 4.03     70.19 84.15 76.54 83.59 61.31 70.74 70.32 83.92 76.52 \n",
            " 4.04     70.22 84.14 76.55 83.59 61.38 70.79 70.35 83.91 76.53 \n",
            " 4.05     70.25 84.12 76.56 83.57 61.45 70.82 70.38 83.9 76.55 \n",
            " 4.06     70.28 84.11 76.58 83.57 61.51 70.86 70.41 83.89 76.56 \n",
            " 4.07     70.34 84.11 76.61 83.58 61.65 70.96 70.47 83.89 76.6 \n",
            " 4.08     70.36 84.09 76.61 83.57 61.71 71.0 70.49 83.87 76.6 \n",
            " 4.09     70.38 84.08 76.62 83.56 61.77 71.03 70.51 83.85 76.6 \n",
            " 4.1     70.41 84.06 76.63 83.53 61.82 71.05 70.54 83.84 76.62 \n",
            " 4.11     70.43 84.03 76.63 83.5 61.88 71.08 70.56 83.82 76.62 \n",
            " 4.12     70.48 84.03 76.66 83.52 61.97 71.15 70.61 83.81 76.65 \n",
            " 4.13     70.49 84.01 76.66 83.51 62.02 71.18 70.62 83.79 76.64 \n",
            " 4.14     70.51 83.99 76.66 83.49 62.07 71.2 70.64 83.77 76.65 \n",
            " 4.15     70.55 83.97 76.68 83.49 62.16 71.26 70.68 83.75 76.66 \n",
            " 4.16     70.58 83.97 76.69 83.48 62.23 71.3 70.71 83.75 76.68 \n",
            " 4.17     70.62 83.95 76.71 83.46 62.3 71.34 70.75 83.74 76.7 \n",
            " 4.18     70.63 83.93 76.71 83.44 62.33 71.35 70.76 83.72 76.7 \n",
            " 4.19     70.65 83.91 76.71 83.42 62.37 71.37 70.78 83.7 76.7 \n",
            " 4.2     70.68 83.9 76.72 83.4 62.41 71.4 70.81 83.69 76.71 \n",
            " 4.21     70.71 83.89 76.74 83.4 62.48 71.44 70.83 83.68 76.72 \n",
            " 4.22     70.74 83.87 76.75 83.39 62.56 71.49 70.87 83.66 76.74 \n",
            " 4.23     70.77 83.84 76.75 83.38 62.65 71.54 70.89 83.64 76.74 \n",
            " 4.24     70.79 83.81 76.75 83.33 62.7 71.56 70.91 83.6 76.73 \n",
            " 4.25     70.81 83.78 76.75 83.32 62.77 71.6 70.93 83.58 76.74 \n",
            " 4.26     70.85 83.75 76.76 83.27 62.84 71.63 70.98 83.54 76.75 \n",
            " 4.27     70.89 83.73 76.78 83.26 62.93 71.68 71.01 83.53 76.76 \n",
            " 4.28     70.92 83.71 76.79 83.23 62.99 71.71 71.05 83.5 76.77 \n",
            " 4.29     70.94 83.69 76.79 83.21 63.05 71.74 71.07 83.48 76.78 \n",
            " 4.3     70.98 83.67 76.8 83.2 63.14 71.8 71.1 83.46 76.79 \n",
            " 4.31     71.02 83.64 76.82 83.18 63.22 71.84 71.14 83.44 76.8 \n",
            " 4.32     71.07 83.61 76.83 83.14 63.31 71.88 71.19 83.4 76.81 \n",
            " 4.33     71.1 83.58 76.84 83.13 63.38 71.92 71.22 83.38 76.82 \n",
            " 4.34     71.15 83.58 76.87 83.14 63.49 72.0 71.27 83.38 76.85 \n",
            " 4.35     71.17 83.56 76.87 83.12 63.53 72.02 71.28 83.37 76.85 \n",
            " 4.36     71.19 83.55 76.88 83.09 63.6 72.05 71.31 83.35 76.86 \n",
            " 4.37     71.22 83.53 76.89 83.08 63.67 72.09 71.34 83.33 76.87 \n",
            " 4.38     71.25 83.49 76.89 83.06 63.73 72.12 71.36 83.29 76.86 \n",
            " 4.39     71.27 83.45 76.88 83.01 63.8 72.15 71.38 83.26 76.86 \n",
            " 4.4     71.3 83.43 76.89 83.0 63.85 72.18 71.41 83.24 76.87 \n",
            " 4.41     71.32 83.41 76.89 82.99 63.92 72.22 71.44 83.22 76.88 \n",
            " 4.42     71.34 83.38 76.89 82.96 63.98 72.24 71.46 83.18 76.88 \n",
            " 4.43     71.4 83.34 76.91 82.93 64.08 72.3 71.51 83.15 76.89 \n",
            " 4.44     71.44 83.33 76.93 82.93 64.18 72.36 71.56 83.15 76.92 \n",
            " 4.45     71.49 83.31 76.95 82.91 64.27 72.41 71.6 83.13 76.94 \n",
            " 4.46     71.51 83.28 76.95 82.89 64.34 72.44 71.63 83.1 76.94 \n",
            " 4.47     71.57 83.28 76.98 82.88 64.44 72.5 71.68 83.09 76.96 \n",
            " 4.48     71.61 83.25 76.99 82.86 64.53 72.55 71.72 83.06 76.97 \n",
            " 4.49     71.65 83.22 77.0 82.84 64.61 72.6 71.76 83.04 76.99 \n",
            " 4.5     71.68 83.21 77.02 82.84 64.68 72.64 71.79 83.03 77.0 \n",
            " 4.51     71.72 83.18 77.03 82.81 64.75 72.68 71.83 83.0 77.01 \n",
            " 4.52     71.78 83.17 77.06 82.81 64.87 72.75 71.88 82.98 77.03 \n",
            " 4.53     71.81 83.14 77.06 82.8 64.96 72.8 71.92 82.96 77.05 \n",
            " 4.54     71.87 83.12 77.09 82.8 65.06 72.87 71.98 82.95 77.08 \n",
            " 4.55     71.93 83.11 77.12 82.79 65.16 72.92 72.03 82.94 77.1 \n",
            " 4.56     71.96 83.08 77.12 82.75 65.23 72.95 72.07 82.9 77.11 \n",
            " 4.57     71.99 83.04 77.12 82.72 65.31 72.99 72.1 82.86 77.11 \n",
            " 4.58     72.05 83.03 77.15 82.71 65.41 73.05 72.15 82.86 77.14 \n",
            " 4.59     72.08 83.02 77.16 82.68 65.45 73.07 72.18 82.84 77.14 \n",
            " 4.6     72.11 82.98 77.16 82.65 65.51 73.09 72.21 82.81 77.15 \n",
            " 4.61     72.14 82.97 77.18 82.62 65.57 73.12 72.24 82.79 77.16 \n",
            " 4.62     72.17 82.94 77.18 82.62 65.64 73.16 72.27 82.77 77.16 \n",
            " 4.63     72.2 82.92 77.19 82.59 65.73 73.2 72.3 82.74 77.17 \n",
            " 4.64     72.22 82.89 77.19 82.56 65.78 73.22 72.32 82.72 77.17 \n",
            " 4.65     72.24 82.88 77.2 82.56 65.84 73.26 72.34 82.71 77.18 \n",
            " 4.66     72.26 82.85 77.19 82.55 65.9 73.29 72.36 82.68 77.18 \n",
            " 4.67     72.27 82.81 77.18 82.51 65.93 73.29 72.38 82.65 77.17 \n",
            " 4.68     72.32 82.78 77.2 82.49 66.02 73.34 72.42 82.62 77.18 \n",
            " 4.69     72.36 82.76 77.21 82.48 66.1 73.39 72.46 82.6 77.2 \n",
            " 4.7     72.4 82.73 77.22 82.46 66.18 73.43 72.5 82.57 77.21 \n",
            " 4.71     72.42 82.69 77.22 82.42 66.23 73.44 72.52 82.53 77.2 \n",
            " 4.72     72.45 82.68 77.23 82.41 66.3 73.48 72.55 82.52 77.21 \n",
            " 4.73     72.52 82.67 77.26 82.42 66.44 73.57 72.62 82.5 77.25 \n",
            " 4.74     72.59 82.64 77.29 82.41 66.56 73.64 72.69 82.49 77.28 \n",
            " 4.75     72.65 82.63 77.32 82.41 66.66 73.7 72.75 82.47 77.31 \n",
            " 4.76     72.69 82.61 77.33 82.4 66.75 73.75 72.78 82.45 77.31 \n",
            " 4.77     72.73 82.59 77.35 82.39 66.84 73.81 72.82 82.44 77.33 \n",
            " 4.78     72.75 82.56 77.35 82.37 66.91 73.84 72.85 82.41 77.34 \n",
            " 4.79     72.8 82.55 77.37 82.37 67.03 73.91 72.9 82.39 77.36 \n",
            " 4.8     72.84 82.53 77.38 82.35 67.1 73.95 72.94 82.38 77.37 \n",
            " 4.81     72.86 82.51 77.39 82.33 67.16 73.98 72.96 82.36 77.38 \n",
            " 4.82     72.9 82.48 77.39 82.31 67.22 74.0 72.99 82.33 77.38 \n",
            " 4.83     72.94 82.47 77.41 82.29 67.29 74.04 73.03 82.32 77.4 \n",
            " 4.84     72.98 82.45 77.43 82.28 67.37 74.08 73.07 82.31 77.42 \n",
            " 4.85     73.01 82.42 77.43 82.27 67.46 74.13 73.1 82.27 77.41 \n",
            " 4.86     73.06 82.37 77.44 82.24 67.56 74.18 73.15 82.22 77.42 \n",
            " 4.87     73.11 82.33 77.45 82.2 67.66 74.23 73.2 82.18 77.43 \n",
            " 4.88     73.15 82.28 77.45 82.18 67.75 74.27 73.24 82.14 77.44 \n",
            " 4.89     73.21 82.25 77.47 82.17 67.89 74.35 73.3 82.1 77.45 \n",
            " 4.9     73.25 82.22 77.48 82.15 67.97 74.39 73.34 82.07 77.46 \n",
            " 4.91     73.28 82.19 77.48 82.14 68.03 74.42 73.36 82.05 77.46 \n",
            " 4.92     73.32 82.19 77.5 82.14 68.11 74.47 73.41 82.05 77.49 \n",
            " 4.93     73.37 82.14 77.51 82.1 68.22 74.52 73.46 82.0 77.5 \n",
            " 4.94     73.43 82.11 77.53 82.09 68.33 74.58 73.51 81.97 77.51 \n",
            " 4.95     73.47 82.05 77.52 82.04 68.42 74.61 73.55 81.92 77.51 \n",
            " 4.96     73.52 82.0 77.53 81.98 68.51 74.64 73.6 81.87 77.52 \n",
            " 4.97     73.59 81.98 77.56 81.96 68.64 74.71 73.67 81.85 77.54 \n",
            " 4.98     73.62 81.95 77.56 81.95 68.72 74.75 73.71 81.82 77.55 \n",
            " 4.99     73.68 81.92 77.58 81.94 68.83 74.82 73.76 81.8 77.57 \n",
            " 5.0     73.71 81.9 77.59 81.91 68.89 74.84 73.79 81.77 77.58 "
          ]
        }
      ]
    },
    {
      "cell_type": "code",
      "source": [
        "max(list_of_f1)"
      ],
      "metadata": {
        "colab": {
          "base_uri": "https://localhost:8080/"
        },
        "id": "F4VDavo6YvCY",
        "outputId": "a800fa95-d6b0-48a2-ea41-9137d407b31a"
      },
      "execution_count": 82,
      "outputs": [
        {
          "output_type": "execute_result",
          "data": {
            "text/plain": [
              "77.58"
            ]
          },
          "metadata": {},
          "execution_count": 82
        }
      ]
    },
    {
      "cell_type": "code",
      "source": [
        "print(\"done\")"
      ],
      "metadata": {
        "id": "KVHH0umR-bY6",
        "colab": {
          "base_uri": "https://localhost:8080/"
        },
        "outputId": "f5a2e8b7-9dc0-420f-cb27-92f7a970344d"
      },
      "execution_count": 83,
      "outputs": [
        {
          "output_type": "stream",
          "name": "stdout",
          "text": [
            "done\n"
          ]
        }
      ]
    },
    {
      "cell_type": "code",
      "source": [
        "list_of_f1=[]\n",
        "for i in range(500,701):\n",
        "  logits_total_array_o =logits_total_array\n",
        "  logits_total_array_o = np.array(logits_total_array_o)\n",
        "  logits_total_array_o[:,100] = logits_total_array_o[:,100] + (i/100)\n",
        "  predictions_ = np.argmax(logits_total_array_o , axis=1)\n",
        "  df2[\"N_plus_one_prediction\"] = predictions_\n",
        "  df2['N_plus_one_prediction'] = df2['N_plus_one_prediction'].replace([100], 'OOD')\n",
        "  print(\"\\n\",i/100,\"    \",end=\"\")\n",
        "  list_of_f1.append(print_performance_metrics())\n",
        " # print_performance_metrics()"
      ],
      "metadata": {
        "colab": {
          "base_uri": "https://localhost:8080/"
        },
        "id": "TB4wLNIKgeH5",
        "outputId": "d167d6df-c7c3-4e67-f5b5-8759bf7f8412"
      },
      "execution_count": 84,
      "outputs": [
        {
          "output_type": "stream",
          "name": "stdout",
          "text": [
            "\n",
            " 5.0     73.71 81.9 77.59 81.91 68.89 74.84 73.79 81.77 77.58 \n",
            " 5.01     73.73 81.88 77.59 81.89 68.93 74.85 73.81 81.75 77.58 \n",
            " 5.02     73.76 81.86 77.6 81.89 69.0 74.9 73.84 81.73 77.58 \n",
            " 5.03     73.8 81.82 77.6 81.86 69.11 74.95 73.88 81.69 77.59 \n",
            " 5.04     73.84 81.78 77.61 81.82 69.18 74.97 73.92 81.66 77.6 \n",
            " 5.05     73.87 81.71 77.59 81.76 69.27 75.0 73.95 81.59 77.58 \n",
            " 5.06     73.91 81.65 77.59 81.71 69.36 75.03 73.99 81.53 77.58 \n",
            " 5.07     73.97 81.62 77.61 81.68 69.46 75.08 74.04 81.5 77.59 \n",
            " 5.08     74.01 81.59 77.62 81.66 69.55 75.12 74.08 81.47 77.6 \n",
            " 5.09     74.02 81.55 77.6 81.62 69.58 75.12 74.09 81.43 77.59 \n",
            " 5.1     74.07 81.5 77.61 81.59 69.67 75.16 74.14 81.38 77.59 \n",
            " 5.11     74.12 81.46 77.62 81.57 69.77 75.21 74.19 81.34 77.6 \n",
            " 5.12     74.18 81.42 77.63 81.54 69.89 75.26 74.26 81.3 77.62 \n",
            " 5.13     74.22 81.36 77.63 81.51 69.97 75.3 74.29 81.25 77.61 \n",
            " 5.14     74.28 81.33 77.65 81.49 70.08 75.36 74.35 81.22 77.63 \n",
            " 5.15     74.34 81.31 77.67 81.47 70.17 75.4 74.41 81.2 77.66 \n",
            " 5.16     74.38 81.26 77.67 81.43 70.25 75.43 74.45 81.15 77.66 \n",
            " 5.17     74.42 81.19 77.66 81.38 70.35 75.46 74.49 81.09 77.65 \n",
            " 5.18     74.47 81.17 77.68 81.36 70.44 75.51 74.54 81.06 77.66 \n",
            " 5.19     74.52 81.11 77.68 81.34 70.58 75.58 74.59 81.01 77.67 \n",
            " 5.2     74.56 81.05 77.67 81.3 70.67 75.61 74.63 80.95 77.66 \n",
            " 5.21     74.59 80.96 77.64 81.23 70.8 75.65 74.66 80.86 77.64 \n",
            " 5.22     74.63 80.91 77.64 81.19 70.86 75.68 74.69 80.81 77.63 \n",
            " 5.23     74.69 80.86 77.65 81.16 71.0 75.74 74.76 80.76 77.64 \n",
            " 5.24     74.73 80.8 77.65 81.11 71.08 75.77 74.8 80.7 77.64 \n",
            " 5.25     74.78 80.75 77.65 81.08 71.19 75.81 74.84 80.65 77.64 \n",
            " 5.26     74.84 80.69 77.65 81.05 71.32 75.87 74.91 80.59 77.65 \n",
            " 5.27     74.89 80.63 77.65 81.01 71.42 75.92 74.95 80.54 77.64 \n",
            " 5.28     74.94 80.55 77.64 80.94 71.53 75.95 75.0 80.46 77.63 \n",
            " 5.29     74.99 80.5 77.65 80.91 71.64 75.99 75.05 80.42 77.64 \n",
            " 5.3     75.01 80.42 77.62 80.85 71.71 76.01 75.06 80.34 77.61 \n",
            " 5.31     75.03 80.34 77.59 80.79 71.8 76.03 75.08 80.26 77.58 \n",
            " 5.32     75.08 80.28 77.59 80.76 71.92 76.09 75.14 80.2 77.59 \n",
            " 5.33     75.11 80.19 77.57 80.69 72.02 76.11 75.16 80.11 77.56 \n",
            " 5.34     75.17 80.13 77.57 80.67 72.14 76.16 75.23 80.05 77.57 \n",
            " 5.35     75.22 80.05 77.56 80.6 72.25 76.2 75.27 79.97 77.55 \n",
            " 5.36     75.29 79.98 77.56 80.57 72.39 76.26 75.34 79.9 77.55 \n",
            " 5.37     75.3 79.89 77.53 80.5 72.47 76.27 75.35 79.81 77.52 \n",
            " 5.38     75.36 79.81 77.52 80.44 72.58 76.3 75.41 79.74 77.51 \n",
            " 5.39     75.41 79.76 77.52 80.41 72.7 76.36 75.46 79.69 77.52 \n",
            " 5.4     75.47 79.69 77.52 80.36 72.82 76.41 75.52 79.62 77.52 \n",
            " 5.41     75.49 79.58 77.48 80.29 72.9 76.42 75.54 79.52 77.48 \n",
            " 5.42     75.53 79.53 77.48 80.24 72.97 76.43 75.57 79.47 77.47 \n",
            " 5.43     75.56 79.44 77.45 80.17 73.06 76.45 75.6 79.37 77.44 \n",
            " 5.44     75.6 79.35 77.43 80.11 73.17 76.48 75.65 79.29 77.43 \n",
            " 5.45     75.64 79.26 77.41 80.03 73.28 76.51 75.69 79.2 77.41 \n",
            " 5.46     75.69 79.16 77.39 79.97 73.4 76.54 75.73 79.1 77.38 \n",
            " 5.47     75.74 79.06 77.36 79.91 73.53 76.58 75.79 79.01 77.37 \n",
            " 5.48     75.79 78.94 77.33 79.8 73.64 76.6 75.83 78.89 77.33 \n",
            " 5.49     75.85 78.83 77.31 79.74 73.79 76.65 75.89 78.79 77.31 \n",
            " 5.5     75.88 78.74 77.28 79.67 73.88 76.66 75.91 78.69 77.28 \n",
            " 5.51     75.93 78.64 77.26 79.61 74.0 76.7 75.97 78.6 77.26 \n",
            " 5.52     75.96 78.55 77.23 79.54 74.09 76.72 76.0 78.51 77.23 \n",
            " 5.53     76.0 78.41 77.19 79.44 74.2 76.73 76.03 78.37 77.18 \n",
            " 5.54     76.06 78.32 77.17 79.39 74.34 76.78 76.09 78.28 77.17 \n",
            " 5.55     76.06 78.14 77.09 79.26 74.43 76.77 76.09 78.11 77.09 \n",
            " 5.56     76.12 78.0 77.05 79.15 74.58 76.79 76.15 77.97 77.05 \n",
            " 5.57     76.14 77.89 77.01 79.07 74.66 76.8 76.17 77.86 77.01 \n",
            " 5.58     76.22 77.76 76.98 78.97 74.83 76.85 76.24 77.73 76.98 \n",
            " 5.59     76.27 77.63 76.94 78.88 74.97 76.87 76.3 77.6 76.94 \n",
            " 5.6     76.29 77.44 76.86 78.73 75.06 76.85 76.32 77.42 76.87 \n",
            " 5.61     76.34 77.27 76.8 78.6 75.19 76.86 76.36 77.25 76.8 \n",
            " 5.62     76.4 77.09 76.74 78.48 75.34 76.88 76.42 77.08 76.75 \n",
            " 5.63     76.43 76.88 76.65 78.33 75.5 76.89 76.45 76.86 76.65 \n",
            " 5.64     76.43 76.7 76.56 78.21 75.58 76.87 76.45 76.69 76.57 \n",
            " 5.65     76.46 76.5 76.48 78.05 75.69 76.85 76.47 76.5 76.48 \n",
            " 5.66     76.5 76.3 76.4 77.9 75.83 76.86 76.51 76.3 76.4 \n",
            " 5.67     76.53 76.08 76.3 77.75 75.97 76.85 76.54 76.08 76.31 \n",
            " 5.68     76.57 75.95 76.26 77.65 76.08 76.86 76.58 75.95 76.26 \n",
            " 5.69     76.57 75.73 76.15 77.5 76.19 76.84 76.58 75.73 76.15 \n",
            " 5.7     76.55 75.46 76.0 77.3 76.3 76.8 76.56 75.47 76.01 \n",
            " 5.71     76.58 75.2 75.88 77.12 76.42 76.77 76.58 75.22 75.89 \n",
            " 5.72     76.55 74.96 75.75 76.93 76.5 76.71 76.55 74.98 75.76 \n",
            " 5.73     76.55 74.69 75.61 76.74 76.62 76.68 76.55 74.71 75.62 \n",
            " 5.74     76.59 74.45 75.5 76.57 76.77 76.67 76.59 74.47 75.52 \n",
            " 5.75     76.61 74.23 75.4 76.43 76.9 76.66 76.61 74.26 75.42 \n",
            " 5.76     76.59 73.89 75.22 76.19 77.03 76.61 76.59 73.92 75.23 \n",
            " 5.77     76.57 73.64 75.08 76.03 77.14 76.58 76.57 73.68 75.1 \n",
            " 5.78     76.58 73.33 74.92 75.82 77.29 76.55 76.58 73.37 74.94 \n",
            " 5.79     76.56 73.03 74.75 75.63 77.44 76.52 76.56 73.08 74.78 \n",
            " 5.8     76.57 72.66 74.56 75.38 77.6 76.48 76.56 72.71 74.59 \n",
            " 5.81     76.5 72.29 74.34 75.13 77.7 76.4 76.49 72.34 74.36 \n",
            " 5.82     76.47 71.87 74.1 74.86 77.85 76.33 76.46 71.93 74.13 \n",
            " 5.83     76.44 71.49 73.88 74.61 77.98 76.26 76.42 71.55 73.9 \n",
            " 5.84     76.46 71.08 73.67 74.35 78.17 76.21 76.44 71.15 73.7 \n",
            " 5.85     76.4 70.69 73.43 74.09 78.29 76.13 76.37 70.76 73.46 \n",
            " 5.86     76.4 70.31 73.23 73.86 78.44 76.08 76.37 70.39 73.26 \n",
            " 5.87     76.36 69.9 72.99 73.59 78.56 75.99 76.34 69.99 73.03 \n",
            " 5.88     76.29 69.45 72.71 73.31 78.69 75.9 76.26 69.55 72.75 \n",
            " 5.89     76.27 68.99 72.45 73.04 78.89 75.85 76.23 69.09 72.48 \n",
            " 5.9     76.19 68.42 72.1 72.68 79.03 75.72 76.16 68.53 72.14 \n",
            " 5.91     76.17 67.92 71.81 72.39 79.25 75.66 76.13 68.03 71.85 \n",
            " 5.92     76.15 67.48 71.55 72.14 79.42 75.6 76.11 67.6 71.6 \n",
            " 5.93     76.07 66.92 71.2 71.81 79.58 75.49 76.03 67.05 71.26 \n",
            " 5.94     75.97 66.23 70.77 71.39 79.72 75.32 75.93 66.37 70.83 \n",
            " 5.95     75.95 65.65 70.43 71.05 79.91 75.22 75.9 65.79 70.48 \n",
            " 5.96     75.83 64.99 69.99 70.68 80.06 75.08 75.78 65.14 70.06 \n",
            " 5.97     75.68 64.33 69.54 70.3 80.21 74.93 75.63 64.49 69.62 \n",
            " 5.98     75.65 63.73 69.18 69.98 80.42 74.84 75.59 63.9 69.26 \n",
            " 5.99     75.52 63.08 68.74 69.62 80.58 74.7 75.46 63.25 68.82 \n",
            " 6.0     75.47 62.43 68.33 69.27 80.76 74.58 75.4 62.61 68.41 \n",
            " 6.01     75.32 61.83 67.91 68.95 80.89 74.44 75.26 62.02 68.0 \n",
            " 6.02     75.24 61.34 67.58 68.7 81.05 74.36 75.17 61.54 67.68 \n",
            " 6.03     75.11 60.7 67.14 68.37 81.23 74.25 75.04 60.91 67.24 \n",
            " 6.04     74.95 60.01 66.65 68.0 81.4 74.1 74.88 60.22 66.75 \n",
            " 6.05     74.86 59.41 66.25 67.71 81.57 73.99 74.79 59.63 66.36 \n",
            " 6.06     74.66 58.79 65.78 67.39 81.72 73.87 74.59 59.02 65.9 \n",
            " 6.07     74.52 58.09 65.29 67.03 81.89 73.72 74.44 58.33 65.41 \n",
            " 6.08     74.42 57.55 64.91 66.78 82.08 73.64 74.35 57.79 65.03 \n",
            " 6.09     74.22 56.92 64.43 66.48 82.23 73.52 74.15 57.18 64.57 \n",
            " 6.1     74.01 56.29 63.95 66.18 82.39 73.4 73.93 56.55 64.08 \n",
            " 6.11     73.68 55.64 63.4 65.88 82.55 73.28 73.61 55.91 63.55 \n",
            " 6.12     73.53 55.04 62.96 65.62 82.77 73.2 73.45 55.31 63.1 \n",
            " 6.13     73.18 54.31 62.35 65.26 82.88 73.02 73.11 54.59 62.51 \n",
            " 6.14     72.87 53.59 61.76 64.94 83.08 72.9 72.79 53.88 61.92 \n",
            " 6.15     72.61 52.95 61.24 64.66 83.2 72.77 72.53 53.25 61.41 \n",
            " 6.16     72.37 52.27 60.7 64.35 83.39 72.65 72.29 52.57 60.87 \n",
            " 6.17     72.16 51.56 60.14 64.05 83.57 72.52 72.07 51.88 60.33 \n",
            " 6.18     71.96 50.88 59.61 63.76 83.77 72.41 71.88 51.2 59.8 \n",
            " 6.19     71.62 50.08 58.94 63.41 83.94 72.24 71.54 50.41 59.14 \n",
            " 6.2     71.48 49.48 58.48 63.19 84.16 72.18 71.4 49.83 58.7 \n",
            " 6.21     71.24 48.84 57.95 62.92 84.3 72.05 71.16 49.19 58.17 \n",
            " 6.22     71.03 47.99 57.28 62.57 84.47 71.89 70.95 48.35 57.51 \n",
            " 6.23     70.79 47.3 56.71 62.3 84.67 71.79 70.71 47.67 56.95 \n",
            " 6.24     70.52 46.59 56.11 62.01 84.81 71.64 70.44 46.97 56.36 \n",
            " 6.25     70.2 45.91 55.51 61.73 84.95 71.51 70.11 46.3 55.77 \n",
            " 6.26     69.9 45.17 54.88 61.45 85.12 71.37 69.82 45.57 55.15 \n",
            " 6.27     69.67 44.44 54.27 61.16 85.28 71.24 69.58 44.84 54.54 \n",
            " 6.28     69.47 43.76 53.7 60.9 85.44 71.11 69.38 44.17 53.98 \n",
            " 6.29     69.18 42.99 53.03 60.62 85.64 70.99 69.09 43.42 53.33 \n",
            " 6.3     68.97 42.27 52.42 60.36 85.81 70.87 68.89 42.71 52.73 \n",
            " 6.31     68.64 41.56 51.77 60.1 85.97 70.75 68.56 42.0 52.09 \n",
            " 6.32     68.21 40.77 51.04 59.83 86.17 70.62 68.13 41.22 51.36 \n",
            " 6.33     68.01 40.09 50.44 59.59 86.36 70.52 67.93 40.55 50.78 \n",
            " 6.34     67.68 39.41 49.81 59.36 86.55 70.42 67.6 39.88 50.17 \n",
            " 6.35     67.44 38.69 49.17 59.11 86.72 70.3 67.36 39.17 49.54 \n",
            " 6.36     67.28 38.03 48.59 58.88 86.84 70.18 67.2 38.52 48.97 \n",
            " 6.37     67.01 37.38 47.99 58.65 86.97 70.06 66.92 37.87 48.37 \n",
            " 6.38     66.46 36.64 47.24 58.4 87.11 69.92 66.38 37.14 47.63 \n",
            " 6.39     65.81 35.93 46.48 58.16 87.27 69.8 65.74 36.44 46.89 \n",
            " 6.4     65.23 35.14 45.67 57.9 87.41 69.65 65.16 35.66 46.09 \n",
            " 6.41     64.92 34.31 44.89 57.62 87.58 69.51 64.84 34.84 45.33 \n",
            " 6.42     64.62 33.63 44.24 57.41 87.73 69.4 64.55 34.17 44.69 \n",
            " 6.43     64.32 32.96 43.59 57.18 87.83 69.27 64.25 33.5 44.04 \n",
            " 6.44     64.05 32.29 42.93 56.96 87.95 69.14 63.98 32.84 43.4 \n",
            " 6.45     63.86 31.68 42.35 56.77 88.09 69.04 63.79 32.24 42.83 \n",
            " 6.46     63.6 31.03 41.71 56.57 88.24 68.94 63.53 31.6 42.21 \n",
            " 6.47     63.49 30.31 41.03 56.34 88.38 68.81 63.42 30.88 41.54 \n",
            " 6.48     63.13 29.59 40.29 56.11 88.5 68.68 63.06 30.17 40.81 \n",
            " 6.49     62.88 28.93 39.63 55.91 88.64 68.57 62.81 29.52 40.16 \n",
            " 6.5     62.48 28.16 38.82 55.68 88.78 68.44 62.41 28.76 39.38 \n",
            " 6.51     62.21 27.45 38.09 55.47 88.94 68.33 62.15 28.06 38.66 \n",
            " 6.52     61.8 26.66 37.25 55.24 89.12 68.21 61.74 27.28 37.84 \n",
            " 6.53     61.41 25.88 36.41 55.01 89.23 68.06 61.34 26.51 37.02 \n",
            " 6.54     60.95 25.19 35.65 54.8 89.37 67.94 60.89 25.83 36.27 \n",
            " 6.55     60.62 24.55 34.95 54.62 89.5 67.84 60.56 25.19 35.58 \n",
            " 6.56     60.34 23.98 34.32 54.45 89.56 67.72 60.28 24.62 34.96 \n",
            " 6.57     59.86 23.41 33.66 54.29 89.66 67.63 59.81 24.07 34.33 \n",
            " 6.58     59.55 22.73 32.9 54.09 89.79 67.51 59.49 23.39 33.58 \n",
            " 6.59     58.99 22.05 32.1 53.9 89.91 67.4 58.94 22.73 32.81 \n",
            " 6.6     58.41 21.41 31.33 53.72 90.0 67.28 58.37 22.09 32.05 \n",
            " 6.61     57.98 20.75 30.56 53.52 90.09 67.15 57.94 21.44 31.3 \n",
            " 6.62     57.43 20.16 29.84 53.37 90.23 67.07 57.38 20.85 30.59 \n",
            " 6.63     56.89 19.52 29.07 53.2 90.34 66.96 56.86 20.22 29.83 \n",
            " 6.64     56.66 18.98 28.43 53.06 90.48 66.9 56.62 19.68 29.21 \n",
            " 6.65     56.13 18.41 27.73 52.92 90.62 66.82 56.1 19.12 28.52 \n",
            " 6.66     55.84 17.91 27.12 52.8 90.73 66.75 55.81 18.63 27.93 \n",
            " 6.67     55.59 17.37 26.47 52.67 90.88 66.69 55.56 18.1 27.3 \n",
            " 6.68     55.07 16.83 25.78 52.54 91.0 66.62 55.05 17.56 26.63 \n",
            " 6.69     54.74 16.23 25.04 52.4 91.16 66.54 54.72 16.97 25.91 \n",
            " 6.7     54.5 15.74 24.43 52.28 91.27 66.48 54.48 16.49 25.32 \n",
            " 6.71     54.28 15.19 23.74 52.14 91.4 66.4 54.26 15.94 24.64 \n",
            " 6.72     54.0 14.78 23.21 52.04 91.5 66.35 53.98 15.53 24.12 \n",
            " 6.73     53.63 14.29 22.57 51.92 91.59 66.28 53.61 15.06 23.51 \n",
            " 6.74     53.52 13.76 21.89 51.8 91.72 66.21 53.51 14.53 22.85 \n",
            " 6.75     53.45 13.33 21.34 51.71 91.88 66.18 53.43 14.11 22.32 \n",
            " 6.76     53.06 12.9 20.75 51.61 91.95 66.11 53.04 13.69 21.76 \n",
            " 6.77     52.79 12.49 20.2 51.5 92.02 66.04 52.78 13.28 21.22 \n",
            " 6.78     52.31 12.12 19.68 51.41 92.09 65.98 52.3 12.91 20.71 \n",
            " 6.79     51.89 11.73 19.13 51.32 92.17 65.93 51.89 12.53 20.19 \n",
            " 6.8     51.33 11.37 18.62 51.23 92.26 65.88 51.33 12.17 19.68 \n",
            " 6.81     50.96 11.05 18.16 51.18 92.41 65.88 50.96 11.86 19.24 \n",
            " 6.82     50.46 10.7 17.66 51.11 92.52 65.85 50.46 11.51 18.74 \n",
            " 6.83     49.83 10.35 17.14 51.05 92.68 65.84 49.84 11.16 18.24 \n",
            " 6.84     49.07 9.94 16.53 50.97 92.81 65.8 49.09 10.76 17.65 \n",
            " 6.85     48.63 9.69 16.16 50.92 92.89 65.78 48.65 10.51 17.29 \n",
            " 6.86     48.16 9.36 15.67 50.84 92.97 65.74 48.19 10.18 16.81 \n",
            " 6.87     47.8 9.13 15.33 50.8 93.03 65.72 47.83 9.97 16.5 \n",
            " 6.88     47.38 8.88 14.96 50.74 93.11 65.69 47.42 9.71 16.12 \n",
            " 6.89     46.97 8.58 14.51 50.67 93.17 65.64 47.0 9.42 15.69 \n",
            " 6.9     46.01 8.31 14.08 50.62 93.27 65.63 46.06 9.15 15.27 \n",
            " 6.91     45.7 8.09 13.75 50.58 93.33 65.6 45.75 8.93 14.94 \n",
            " 6.92     45.33 7.82 13.34 50.51 93.39 65.56 45.38 8.67 14.56 \n",
            " 6.93     45.06 7.58 12.98 50.47 93.5 65.56 45.11 8.43 14.21 \n",
            " 6.94     44.82 7.38 12.67 50.44 93.58 65.55 44.87 8.23 13.91 \n",
            " 6.95     44.3 7.17 12.34 50.41 93.69 65.55 44.36 8.03 13.6 \n",
            " 6.96     43.9 6.98 12.04 50.37 93.75 65.54 43.96 7.84 13.31 \n",
            " 6.97     43.74 6.8 11.77 50.35 93.84 65.53 43.81 7.67 13.05 \n",
            " 6.98     43.63 6.59 11.45 50.32 93.95 65.54 43.69 7.46 12.74 \n",
            " 6.99     43.01 6.36 11.08 50.3 94.11 65.56 43.08 7.22 12.37 \n",
            " 7.0     42.61 6.14 10.73 50.26 94.22 65.55 42.68 7.01 12.04 "
          ]
        }
      ]
    },
    {
      "cell_type": "code",
      "source": [
        "max(list_of_f1)"
      ],
      "metadata": {
        "colab": {
          "base_uri": "https://localhost:8080/"
        },
        "id": "azDWzCSEgfn7",
        "outputId": "dcf92bbe-3214-43b8-b1a8-7ec62a4b7ab3"
      },
      "execution_count": 85,
      "outputs": [
        {
          "output_type": "execute_result",
          "data": {
            "text/plain": [
              "77.67"
            ]
          },
          "metadata": {},
          "execution_count": 85
        }
      ]
    },
    {
      "cell_type": "code",
      "source": [
        "print(\"done epochs 7 8 varun 2\")"
      ],
      "metadata": {
        "id": "cXt01765-bco",
        "colab": {
          "base_uri": "https://localhost:8080/"
        },
        "outputId": "5aaf4f84-ae93-464c-f7d5-14b5f5ce6233"
      },
      "execution_count": 86,
      "outputs": [
        {
          "output_type": "stream",
          "name": "stdout",
          "text": [
            "done epochs 7 8 varun 2\n"
          ]
        }
      ]
    },
    {
      "cell_type": "code",
      "source": [
        "logits_total_array_o = logits_total_array_o.tolist()"
      ],
      "metadata": {
        "id": "NuTlFFINBGn6"
      },
      "execution_count": 87,
      "outputs": []
    },
    {
      "cell_type": "code",
      "source": [
        "df2['logits'] = logits_total_array_o"
      ],
      "metadata": {
        "id": "yVZxmx4WgjIp"
      },
      "execution_count": 88,
      "outputs": []
    },
    {
      "cell_type": "code",
      "source": [
        "df2.to_csv(\"/content/sample_data/logits_2_varun.csv\")"
      ],
      "metadata": {
        "id": "vM5lRsvBgjLa"
      },
      "execution_count": 89,
      "outputs": []
    },
    {
      "cell_type": "code",
      "source": [],
      "metadata": {
        "id": "-1hx52wZgjN-"
      },
      "execution_count": null,
      "outputs": []
    },
    {
      "cell_type": "code",
      "source": [],
      "metadata": {
        "id": "0WFMU6uCgjRh"
      },
      "execution_count": null,
      "outputs": []
    },
    {
      "cell_type": "code",
      "source": [
        "predictions_ = np.argmax(logits_total_array , axis=1)"
      ],
      "metadata": {
        "id": "y0_XJTTH3yre"
      },
      "execution_count": null,
      "outputs": []
    },
    {
      "cell_type": "code",
      "source": [
        "len(logits_total_array)"
      ],
      "metadata": {
        "colab": {
          "base_uri": "https://localhost:8080/"
        },
        "id": "v0l7hXGV4Y18",
        "outputId": "18d7fae1-a355-4b5a-f861-f3bc38cf4bef"
      },
      "execution_count": null,
      "outputs": [
        {
          "output_type": "execute_result",
          "data": {
            "text/plain": [
              "20000"
            ]
          },
          "metadata": {},
          "execution_count": 188
        }
      ]
    },
    {
      "cell_type": "code",
      "source": [
        "from sklearn.metrics import classification_report\n",
        "\n",
        "result_report= classification_report(true_labels, predictions, digits=3, output_dict=False)\n",
        "print(result_report)"
      ],
      "metadata": {
        "colab": {
          "base_uri": "https://localhost:8080/"
        },
        "id": "gL2zuabXyCoa",
        "outputId": "1115f5cf-617b-4566-a984-985f1b870d8d"
      },
      "execution_count": null,
      "outputs": [
        {
          "output_type": "stream",
          "name": "stdout",
          "text": [
            "              precision    recall  f1-score   support\n",
            "\n",
            "           0      0.530     0.790     0.635       100\n",
            "           1      0.959     0.930     0.944       100\n",
            "           2      0.802     0.850     0.825       100\n",
            "           3      0.960     0.970     0.965       100\n",
            "           4      0.676     0.460     0.548       100\n",
            "           5      0.824     0.700     0.757       100\n",
            "           6      0.889     0.400     0.552       100\n",
            "           7      0.790     0.980     0.875       100\n",
            "           8      0.803     0.940     0.866       100\n",
            "           9      0.631     0.820     0.713       100\n",
            "          10      0.960     0.950     0.955       100\n",
            "          11      0.690     0.800     0.741       100\n",
            "          12      0.990     0.970     0.980       100\n",
            "          13      0.954     0.830     0.888       100\n",
            "          14      0.519     0.670     0.585       100\n",
            "          15      0.913     0.950     0.931       100\n",
            "          16      0.895     0.940     0.917       100\n",
            "          17      0.843     0.910     0.875       100\n",
            "          18      0.866     0.840     0.853       100\n",
            "          19      0.833     0.700     0.761       100\n",
            "          20      0.970     0.960     0.965       100\n",
            "          21      0.816     0.800     0.808       100\n",
            "          22      0.810     0.470     0.595       100\n",
            "          23      0.654     0.700     0.676       100\n",
            "          24      0.821     0.640     0.719       100\n",
            "          25      0.989     0.870     0.926       100\n",
            "          26      0.822     0.970     0.890       100\n",
            "          27      0.904     0.750     0.820       100\n",
            "          28      0.781     0.820     0.800       100\n",
            "          29      0.832     0.940     0.883       100\n",
            "          30      0.796     0.820     0.808       100\n",
            "          31      0.902     0.830     0.865       100\n",
            "          32      0.637     0.930     0.756       100\n",
            "          33      0.769     0.600     0.674       100\n",
            "          34      0.698     0.670     0.684       100\n",
            "          35      0.875     0.350     0.500       100\n",
            "          36      0.930     0.800     0.860       100\n",
            "          37      0.940     0.940     0.940       100\n",
            "          38      0.988     0.830     0.902       100\n",
            "          39      0.669     0.890     0.764       100\n",
            "          40      0.551     0.700     0.617       100\n",
            "          41      0.860     0.980     0.916       100\n",
            "          42      0.877     0.710     0.785       100\n",
            "          43      1.000     0.550     0.710       100\n",
            "          44      0.861     0.680     0.760       100\n",
            "          45      0.978     0.900     0.938       100\n",
            "          46      0.980     0.980     0.980       100\n",
            "          47      0.978     0.910     0.943       100\n",
            "          48      0.978     0.900     0.938       100\n",
            "          49      0.969     0.940     0.954       100\n",
            "          50      1.000     0.810     0.895       100\n",
            "          51      0.931     0.810     0.866       100\n",
            "          52      0.796     0.740     0.767       100\n",
            "          53      0.474     0.830     0.604       100\n",
            "          54      0.909     0.800     0.851       100\n",
            "          55      0.743     0.840     0.789       100\n",
            "          56      0.925     0.990     0.957       100\n",
            "          57      0.750     0.900     0.818       100\n",
            "          58      0.870     0.870     0.870       100\n",
            "          59      1.000     0.910     0.953       100\n",
            "          60      0.788     0.820     0.804       100\n",
            "          61      0.696     0.640     0.667       100\n",
            "          62      0.902     0.830     0.865       100\n",
            "          63      0.872     0.820     0.845       100\n",
            "          64      0.924     0.850     0.885       100\n",
            "          65      0.958     0.910     0.933       100\n",
            "          66      0.965     0.820     0.886       100\n",
            "          67      0.954     0.830     0.888       100\n",
            "          68      0.898     0.440     0.591       100\n",
            "          69      0.825     0.800     0.812       100\n",
            "          70      0.800     0.760     0.779       100\n",
            "          71      0.958     0.680     0.795       100\n",
            "          72      1.000     1.000     1.000       100\n",
            "          73      0.908     0.690     0.784       100\n",
            "          74      0.979     0.930     0.954       100\n",
            "          75      1.000     0.600     0.750       100\n",
            "          76      0.990     0.970     0.980       100\n",
            "          77      0.848     0.840     0.844       100\n",
            "          78      0.895     0.680     0.773       100\n",
            "          79      1.000     0.970     0.985       100\n",
            "          80      1.000     1.000     1.000       100\n",
            "          81      0.903     0.930     0.916       100\n",
            "          82      0.832     0.790     0.810       100\n",
            "          83      0.961     0.990     0.975       100\n",
            "          84      0.988     0.810     0.890       100\n",
            "          85      0.989     0.900     0.942       100\n",
            "          86      0.688     0.970     0.805       100\n",
            "          87      0.897     0.610     0.726       100\n",
            "          88      0.929     0.790     0.854       100\n",
            "          89      0.748     0.770     0.759       100\n",
            "          90      0.712     0.740     0.725       100\n",
            "          91      0.885     0.770     0.824       100\n",
            "          92      1.000     0.960     0.980       100\n",
            "          93      0.989     0.860     0.920       100\n",
            "          94      0.977     0.860     0.915       100\n",
            "          95      1.000     0.590     0.742       100\n",
            "          96      0.864     0.950     0.905       100\n",
            "          97      0.907     0.490     0.636       100\n",
            "          98      0.978     0.910     0.943       100\n",
            "          99      0.967     0.880     0.921       100\n",
            "         100      0.000     0.000     0.000         0\n",
            "\n",
            "    accuracy                          0.812     10000\n",
            "   macro avg      0.859     0.804     0.821     10000\n",
            "weighted avg      0.867     0.812     0.829     10000\n",
            "\n"
          ]
        },
        {
          "output_type": "stream",
          "name": "stderr",
          "text": [
            "/usr/local/lib/python3.7/dist-packages/sklearn/metrics/_classification.py:1318: UndefinedMetricWarning: Recall and F-score are ill-defined and being set to 0.0 in labels with no true samples. Use `zero_division` parameter to control this behavior.\n",
            "  _warn_prf(average, modifier, msg_start, len(result))\n",
            "/usr/local/lib/python3.7/dist-packages/sklearn/metrics/_classification.py:1318: UndefinedMetricWarning: Recall and F-score are ill-defined and being set to 0.0 in labels with no true samples. Use `zero_division` parameter to control this behavior.\n",
            "  _warn_prf(average, modifier, msg_start, len(result))\n",
            "/usr/local/lib/python3.7/dist-packages/sklearn/metrics/_classification.py:1318: UndefinedMetricWarning: Recall and F-score are ill-defined and being set to 0.0 in labels with no true samples. Use `zero_division` parameter to control this behavior.\n",
            "  _warn_prf(average, modifier, msg_start, len(result))\n"
          ]
        }
      ]
    },
    {
      "cell_type": "code",
      "source": [],
      "metadata": {
        "id": "Va56XFGayCvG"
      },
      "execution_count": null,
      "outputs": []
    },
    {
      "cell_type": "code",
      "source": [],
      "metadata": {
        "id": "GSLMVQ6myCxn"
      },
      "execution_count": null,
      "outputs": []
    },
    {
      "cell_type": "code",
      "source": [],
      "metadata": {
        "id": "KhREp7jlyCz_"
      },
      "execution_count": null,
      "outputs": []
    },
    {
      "cell_type": "code",
      "source": [],
      "metadata": {
        "id": "wfVTC6PUyC2S"
      },
      "execution_count": null,
      "outputs": []
    },
    {
      "cell_type": "code",
      "source": [],
      "metadata": {
        "id": "D3jf7LLYyC4v"
      },
      "execution_count": null,
      "outputs": []
    },
    {
      "cell_type": "code",
      "source": [],
      "metadata": {
        "id": "YnHMVh5CyC8F"
      },
      "execution_count": null,
      "outputs": []
    },
    {
      "cell_type": "code",
      "source": [
        "d_predictions = predictions\n",
        "d_true_labels = true_labels\n",
        "d_logits_arr = logits_arr\n",
        "d_max_logits_arr = max_logits_arr"
      ],
      "metadata": {
        "id": "F3HjyBiKJUpU"
      },
      "execution_count": null,
      "outputs": []
    },
    {
      "cell_type": "code",
      "source": [
        "d_logits_arr\n",
        "d_threshold_arr=[]\n",
        "for i in range(len(d_logits_arr)):\n",
        "  if(d_logits_arr[i]>1):\n",
        "    d_threshold_arr.append(d_true_labels[i])"
      ],
      "metadata": {
        "id": "eQdqyyG9AQZZ"
      },
      "execution_count": null,
      "outputs": []
    },
    {
      "cell_type": "code",
      "source": [
        "len(d_threshold_arr)"
      ],
      "metadata": {
        "colab": {
          "base_uri": "https://localhost:8080/"
        },
        "id": "tPafsXORA5m3",
        "outputId": "50f5ab2e-6c17-4b60-df2c-65d6f1b560a0"
      },
      "execution_count": null,
      "outputs": [
        {
          "output_type": "execute_result",
          "data": {
            "text/plain": [
              "1499"
            ]
          },
          "metadata": {},
          "execution_count": 62
        }
      ]
    },
    {
      "cell_type": "code",
      "source": [
        "d_threshold_arr.count(100)"
      ],
      "metadata": {
        "colab": {
          "base_uri": "https://localhost:8080/"
        },
        "id": "On5-EmBNA-8X",
        "outputId": "ddcfb86e-af7e-467f-af9e-d29b7ed55cd0"
      },
      "execution_count": null,
      "outputs": [
        {
          "output_type": "execute_result",
          "data": {
            "text/plain": [
              "471"
            ]
          },
          "metadata": {},
          "execution_count": 63
        }
      ]
    },
    {
      "cell_type": "code",
      "source": [
        "np.unique(d_predictions)"
      ],
      "metadata": {
        "id": "6Uo5Q2CMsC2_",
        "colab": {
          "base_uri": "https://localhost:8080/"
        },
        "outputId": "ee3117a4-eafe-4777-abe2-fe60f09d011f"
      },
      "execution_count": null,
      "outputs": [
        {
          "output_type": "execute_result",
          "data": {
            "text/plain": [
              "array([  0,   1,   2,   3,   4,   5,   6,   7,   8,   9,  10,  11,  12,\n",
              "        13,  14,  15,  16,  17,  18,  19,  20,  21,  22,  23,  24,  25,\n",
              "        26,  27,  28,  29,  30,  31,  32,  33,  34,  35,  36,  37,  38,\n",
              "        39,  40,  41,  42,  43,  44,  45,  46,  47,  48,  49,  50,  51,\n",
              "        52,  53,  54,  55,  56,  57,  58,  59,  60,  61,  62,  63,  64,\n",
              "        65,  66,  67,  68,  69,  70,  71,  72,  73,  74,  75,  76,  77,\n",
              "        78,  79,  80,  81,  82,  83,  84,  85,  86,  87,  88,  89,  90,\n",
              "        91,  92,  93,  94,  95,  96,  97,  98,  99, 100])"
            ]
          },
          "metadata": {},
          "execution_count": 55
        }
      ]
    },
    {
      "cell_type": "code",
      "source": [
        "np.unique(d_true_labels)"
      ],
      "metadata": {
        "id": "04Gb-rS0sFPa",
        "colab": {
          "base_uri": "https://localhost:8080/"
        },
        "outputId": "b648837f-614b-4a41-dd0b-cd4982149885"
      },
      "execution_count": null,
      "outputs": [
        {
          "output_type": "execute_result",
          "data": {
            "text/plain": [
              "array([  0,   1,   2,   3,   4,   5,   6,   7,   8,   9,  10,  11,  12,\n",
              "        13,  14,  15,  16,  17,  18,  19,  20,  21,  22,  23,  24,  25,\n",
              "        26,  27,  28,  29,  30,  31,  32,  33,  34,  35,  36,  37,  38,\n",
              "        39,  40,  41,  42,  43,  44,  45,  46,  47,  48,  49,  50,  51,\n",
              "        52,  53,  54,  55,  56,  57,  58,  59,  60,  61,  62,  63,  64,\n",
              "        65,  66,  67,  68,  69,  70,  71,  72,  73,  74,  75,  76,  77,\n",
              "        78,  79,  80,  81,  82,  83,  84,  85,  86,  87,  88,  89,  90,\n",
              "        91,  92,  93,  94,  95,  96,  97,  98,  99, 100])"
            ]
          },
          "metadata": {},
          "execution_count": 56
        }
      ]
    },
    {
      "cell_type": "code",
      "source": [
        "len(d_logits_arr)"
      ],
      "metadata": {
        "colab": {
          "base_uri": "https://localhost:8080/"
        },
        "id": "RhOn8LZsDN_C",
        "outputId": "dacd8a20-f341-4a24-8827-b3ac2fc11f30"
      },
      "execution_count": null,
      "outputs": [
        {
          "output_type": "execute_result",
          "data": {
            "text/plain": [
              "20000"
            ]
          },
          "metadata": {},
          "execution_count": 57
        }
      ]
    },
    {
      "cell_type": "code",
      "source": [
        "len(d_predictions)"
      ],
      "metadata": {
        "id": "ISe3fy7CAden",
        "colab": {
          "base_uri": "https://localhost:8080/"
        },
        "outputId": "07c40581-cae6-4894-bee4-36b4c283008e"
      },
      "execution_count": null,
      "outputs": [
        {
          "output_type": "execute_result",
          "data": {
            "text/plain": [
              "20000"
            ]
          },
          "metadata": {},
          "execution_count": 57
        }
      ]
    },
    {
      "cell_type": "code",
      "source": [
        "d_predictions.count(100)"
      ],
      "metadata": {
        "colab": {
          "base_uri": "https://localhost:8080/"
        },
        "id": "kubLwA5dDipj",
        "outputId": "2f0d832a-ea49-4437-f2ec-09964f4cbcd2"
      },
      "execution_count": null,
      "outputs": [
        {
          "output_type": "execute_result",
          "data": {
            "text/plain": [
              "9327"
            ]
          },
          "metadata": {},
          "execution_count": 52
        }
      ]
    },
    {
      "cell_type": "code",
      "source": [
        "d_true_labels == labels_list_0"
      ],
      "metadata": {
        "colab": {
          "base_uri": "https://localhost:8080/"
        },
        "id": "ZPcWkb1s_DmG",
        "outputId": "40c4a076-03ce-42cc-f23d-71e0bac612b9"
      },
      "execution_count": null,
      "outputs": [
        {
          "output_type": "execute_result",
          "data": {
            "text/plain": [
              "True"
            ]
          },
          "metadata": {},
          "execution_count": 59
        }
      ]
    },
    {
      "cell_type": "code",
      "source": [
        "d_predictions.count(100)/10000"
      ],
      "metadata": {
        "colab": {
          "base_uri": "https://localhost:8080/"
        },
        "id": "RjJqO75QDkd1",
        "outputId": "e2371ac3-f655-4476-b23d-ccac443ea004"
      },
      "execution_count": null,
      "outputs": [
        {
          "output_type": "execute_result",
          "data": {
            "text/plain": [
              "0.9327"
            ]
          },
          "metadata": {},
          "execution_count": 53
        }
      ]
    },
    {
      "cell_type": "code",
      "source": [
        "#all classes\n",
        "from sklearn.metrics import classification_report\n",
        "\n",
        "result_report= classification_report(true_labels, predictions, digits=3, output_dict=False)\n",
        "print(result_report)"
      ],
      "metadata": {
        "colab": {
          "base_uri": "https://localhost:8080/"
        },
        "id": "3k95Dcn9hCT0",
        "outputId": "86d13ae2-f65b-4113-a510-417b40432871"
      },
      "execution_count": null,
      "outputs": [
        {
          "output_type": "stream",
          "name": "stdout",
          "text": [
            "              precision    recall  f1-score   support\n",
            "\n",
            "           0      0.607     0.680     0.642       100\n",
            "           1      0.821     0.870     0.845       100\n",
            "           2      0.532     0.830     0.648       100\n",
            "           3      0.904     0.940     0.922       100\n",
            "           4      0.221     0.300     0.254       100\n",
            "           5      0.722     0.570     0.637       100\n",
            "           6      0.611     0.330     0.429       100\n",
            "           7      0.853     0.930     0.890       100\n",
            "           8      0.729     0.940     0.821       100\n",
            "           9      0.663     0.690     0.676       100\n",
            "          10      0.887     0.940     0.913       100\n",
            "          11      0.615     0.750     0.676       100\n",
            "          12      0.687     0.920     0.786       100\n",
            "          13      0.830     0.780     0.804       100\n",
            "          14      0.519     0.560     0.538       100\n",
            "          15      0.908     0.790     0.845       100\n",
            "          16      0.895     0.850     0.872       100\n",
            "          17      0.868     0.790     0.827       100\n",
            "          18      0.722     0.780     0.750       100\n",
            "          19      0.712     0.470     0.566       100\n",
            "          20      0.926     0.870     0.897       100\n",
            "          21      0.573     0.670     0.618       100\n",
            "          22      0.684     0.390     0.497       100\n",
            "          23      0.500     0.360     0.419       100\n",
            "          24      0.445     0.530     0.484       100\n",
            "          25      0.706     0.840     0.767       100\n",
            "          26      0.814     0.920     0.864       100\n",
            "          27      0.443     0.540     0.486       100\n",
            "          28      0.533     0.730     0.616       100\n",
            "          29      0.784     0.870     0.825       100\n",
            "          30      0.776     0.660     0.714       100\n",
            "          31      0.708     0.680     0.694       100\n",
            "          32      0.358     0.780     0.491       100\n",
            "          33      0.426     0.400     0.412       100\n",
            "          34      0.702     0.590     0.641       100\n",
            "          35      0.875     0.280     0.424       100\n",
            "          36      0.765     0.520     0.619       100\n",
            "          37      0.796     0.780     0.788       100\n",
            "          38      0.929     0.790     0.854       100\n",
            "          39      0.452     0.800     0.578       100\n",
            "          40      0.545     0.540     0.543       100\n",
            "          41      0.629     0.950     0.757       100\n",
            "          42      0.894     0.590     0.711       100\n",
            "          43      0.452     0.560     0.500       100\n",
            "          44      0.548     0.510     0.528       100\n",
            "          45      0.934     0.710     0.807       100\n",
            "          46      0.884     0.990     0.934       100\n",
            "          47      0.566     0.860     0.683       100\n",
            "          48      0.846     0.770     0.806       100\n",
            "          49      0.882     0.900     0.891       100\n",
            "          50      0.287     0.640     0.396       100\n",
            "          51      0.904     0.660     0.763       100\n",
            "          52      0.547     0.520     0.533       100\n",
            "          53      0.510     0.530     0.520       100\n",
            "          54      0.840     0.630     0.720       100\n",
            "          55      0.409     0.740     0.527       100\n",
            "          56      0.860     0.920     0.889       100\n",
            "          57      0.692     0.720     0.706       100\n",
            "          58      0.784     0.760     0.772       100\n",
            "          59      0.647     0.880     0.746       100\n",
            "          60      0.695     0.730     0.712       100\n",
            "          61      0.462     0.300     0.364       100\n",
            "          62      0.494     0.770     0.602       100\n",
            "          63      0.879     0.800     0.838       100\n",
            "          64      0.838     0.830     0.834       100\n",
            "          65      0.875     0.770     0.819       100\n",
            "          66      0.947     0.720     0.818       100\n",
            "          67      0.798     0.710     0.751       100\n",
            "          68      0.540     0.270     0.360       100\n",
            "          69      0.707     0.650     0.677       100\n",
            "          70      0.581     0.610     0.595       100\n",
            "          71      0.577     0.560     0.569       100\n",
            "          72      0.847     1.000     0.917       100\n",
            "          73      0.431     0.530     0.475       100\n",
            "          74      0.662     0.920     0.770       100\n",
            "          75      0.975     0.390     0.557       100\n",
            "          76      0.922     0.940     0.931       100\n",
            "          77      0.750     0.600     0.667       100\n",
            "          78      0.667     0.520     0.584       100\n",
            "          79      1.000     0.970     0.985       100\n",
            "          80      1.000     1.000     1.000       100\n",
            "          81      0.400     0.860     0.546       100\n",
            "          82      0.602     0.680     0.638       100\n",
            "          83      0.873     0.960     0.914       100\n",
            "          84      0.819     0.680     0.743       100\n",
            "          85      0.529     0.830     0.646       100\n",
            "          86      0.359     0.970     0.524       100\n",
            "          87      0.564     0.440     0.494       100\n",
            "          88      0.563     0.670     0.612       100\n",
            "          89      0.517     0.620     0.564       100\n",
            "          90      0.509     0.570     0.538       100\n",
            "          91      0.818     0.450     0.581       100\n",
            "          92      0.842     0.960     0.897       100\n",
            "          93      0.928     0.770     0.842       100\n",
            "          94      0.522     0.720     0.605       100\n",
            "          95      0.983     0.570     0.722       100\n",
            "          96      0.641     0.930     0.759       100\n",
            "          97      0.660     0.350     0.458       100\n",
            "          98      0.767     0.690     0.726       100\n",
            "          99      0.748     0.830     0.787       100\n",
            "         100      0.741     0.691     0.715     10000\n",
            "\n",
            "    accuracy                          0.697     20000\n",
            "   macro avg      0.695     0.702     0.682     20000\n",
            "weighted avg      0.718     0.697     0.699     20000\n",
            "\n"
          ]
        }
      ]
    },
    {
      "cell_type": "code",
      "source": [
        "#all classes\n",
        "from sklearn.metrics import classification_report\n",
        "\n",
        "result_report= classification_report(true_labels, predictions, digits=3, output_dict=False)\n",
        "print(result_report)"
      ],
      "metadata": {
        "id": "FCeZuz9vAdhB",
        "colab": {
          "base_uri": "https://localhost:8080/"
        },
        "outputId": "e06801ad-98d0-4b37-de62-6a44cace33f9"
      },
      "execution_count": null,
      "outputs": [
        {
          "output_type": "stream",
          "name": "stdout",
          "text": [
            "              precision    recall  f1-score   support\n",
            "\n",
            "           0      0.507     0.730     0.598       100\n",
            "           1      0.744     0.930     0.827       100\n",
            "           2      0.483     0.830     0.610       100\n",
            "           3      0.839     0.940     0.887       100\n",
            "           4      0.193     0.340     0.246       100\n",
            "           5      0.637     0.580     0.607       100\n",
            "           6      0.576     0.340     0.428       100\n",
            "           7      0.785     0.950     0.860       100\n",
            "           8      0.655     0.950     0.776       100\n",
            "           9      0.592     0.740     0.658       100\n",
            "          10      0.895     0.940     0.917       100\n",
            "          11      0.588     0.770     0.667       100\n",
            "          12      0.625     0.950     0.754       100\n",
            "          13      0.767     0.890     0.824       100\n",
            "          14      0.522     0.590     0.554       100\n",
            "          15      0.890     0.890     0.890       100\n",
            "          16      0.923     0.840     0.880       100\n",
            "          17      0.779     0.880     0.826       100\n",
            "          18      0.664     0.770     0.713       100\n",
            "          19      0.569     0.410     0.477       100\n",
            "          20      0.956     0.870     0.911       100\n",
            "          21      0.507     0.720     0.595       100\n",
            "          22      0.485     0.320     0.386       100\n",
            "          23      0.439     0.430     0.434       100\n",
            "          24      0.377     0.610     0.466       100\n",
            "          25      0.632     0.840     0.721       100\n",
            "          26      0.845     0.870     0.857       100\n",
            "          27      0.371     0.520     0.433       100\n",
            "          28      0.423     0.800     0.554       100\n",
            "          29      0.832     0.890     0.860       100\n",
            "          30      0.756     0.680     0.716       100\n",
            "          31      0.619     0.780     0.690       100\n",
            "          32      0.305     0.760     0.436       100\n",
            "          33      0.330     0.380     0.353       100\n",
            "          34      0.638     0.600     0.619       100\n",
            "          35      0.714     0.300     0.423       100\n",
            "          36      0.742     0.490     0.590       100\n",
            "          37      0.702     0.850     0.769       100\n",
            "          38      0.856     0.770     0.811       100\n",
            "          39      0.403     0.870     0.551       100\n",
            "          40      0.487     0.550     0.516       100\n",
            "          41      0.543     0.940     0.689       100\n",
            "          42      0.838     0.570     0.679       100\n",
            "          43      0.419     0.520     0.464       100\n",
            "          44      0.496     0.630     0.555       100\n",
            "          45      0.905     0.570     0.699       100\n",
            "          46      0.876     0.990     0.930       100\n",
            "          47      0.575     0.840     0.683       100\n",
            "          48      0.699     0.790     0.742       100\n",
            "          49      0.849     0.900     0.874       100\n",
            "          50      0.246     0.670     0.360       100\n",
            "          51      0.800     0.720     0.758       100\n",
            "          52      0.533     0.650     0.586       100\n",
            "          53      0.409     0.520     0.458       100\n",
            "          54      0.855     0.650     0.739       100\n",
            "          55      0.367     0.770     0.497       100\n",
            "          56      0.785     0.950     0.860       100\n",
            "          57      0.606     0.770     0.678       100\n",
            "          58      0.661     0.840     0.740       100\n",
            "          59      0.567     0.890     0.693       100\n",
            "          60      0.676     0.730     0.702       100\n",
            "          61      0.451     0.410     0.429       100\n",
            "          62      0.513     0.780     0.619       100\n",
            "          63      0.873     0.690     0.771       100\n",
            "          64      0.901     0.820     0.859       100\n",
            "          65      0.738     0.760     0.749       100\n",
            "          66      0.962     0.750     0.843       100\n",
            "          67      0.647     0.770     0.703       100\n",
            "          68      0.508     0.330     0.400       100\n",
            "          69      0.593     0.670     0.629       100\n",
            "          70      0.565     0.650     0.605       100\n",
            "          71      0.436     0.610     0.508       100\n",
            "          72      0.775     1.000     0.873       100\n",
            "          73      0.330     0.580     0.420       100\n",
            "          74      0.662     0.920     0.770       100\n",
            "          75      0.976     0.410     0.577       100\n",
            "          76      0.931     0.950     0.941       100\n",
            "          77      0.707     0.700     0.704       100\n",
            "          78      0.617     0.580     0.598       100\n",
            "          79      0.990     0.970     0.980       100\n",
            "          80      0.833     1.000     0.909       100\n",
            "          81      0.436     0.850     0.576       100\n",
            "          82      0.514     0.720     0.600       100\n",
            "          83      0.810     0.980     0.887       100\n",
            "          84      0.821     0.780     0.800       100\n",
            "          85      0.473     0.880     0.615       100\n",
            "          86      0.320     0.950     0.479       100\n",
            "          87      0.463     0.380     0.418       100\n",
            "          88      0.475     0.770     0.588       100\n",
            "          89      0.492     0.600     0.541       100\n",
            "          90      0.405     0.640     0.496       100\n",
            "          91      0.806     0.500     0.617       100\n",
            "          92      0.713     0.970     0.822       100\n",
            "          93      0.928     0.770     0.842       100\n",
            "          94      0.580     0.760     0.658       100\n",
            "          95      0.983     0.570     0.722       100\n",
            "          96      0.574     0.930     0.710       100\n",
            "          97      0.460     0.290     0.356       100\n",
            "          98      0.688     0.660     0.673       100\n",
            "          99      0.824     0.890     0.856       100\n",
            "         100      0.743     0.587     0.655     10000\n",
            "\n",
            "    accuracy                          0.655     20000\n",
            "   macro avg      0.642     0.722     0.662     20000\n",
            "weighted avg      0.692     0.655     0.659     20000\n",
            "\n"
          ]
        }
      ]
    },
    {
      "cell_type": "code",
      "source": [
        "d_closed_logits=[]\n",
        "d_open_logits=[]\n",
        "d_max_closed_logits=[]\n",
        "d_max_open_logits=[]\n",
        "d_predictions_open=[]\n",
        "d_predictions_closed=[]\n",
        "for i in range(20000):\n",
        "  if(true_labels[i]==100):\n",
        "    d_open_logits.append(logits_arr[i])\n",
        "    d_max_open_logits.append(d_max_logits_arr[i])\n",
        "    d_predictions_open.append(d_predictions[i])\n",
        "  else:\n",
        "    d_closed_logits.append(logits_arr[i])\n",
        "    d_max_closed_logits.append(d_max_logits_arr[i])\n",
        "    d_predictions_closed.append(d_predictions[i])"
      ],
      "metadata": {
        "id": "CIWN9I0xEqa8"
      },
      "execution_count": null,
      "outputs": []
    },
    {
      "cell_type": "code",
      "source": [
        "print(d_predictions_closed[800])\n",
        "print(d_max_closed_logits[800])\n",
        "print(d_closed_logits[800])"
      ],
      "metadata": {
        "colab": {
          "base_uri": "https://localhost:8080/"
        },
        "id": "syeclbw8SpH3",
        "outputId": "31dbfd84-25cc-43d1-f631-1fd193b9d9e0"
      },
      "execution_count": null,
      "outputs": [
        {
          "output_type": "stream",
          "name": "stdout",
          "text": [
            "100\n",
            "10.72829532623291\n",
            "10.966748237609863\n"
          ]
        }
      ]
    },
    {
      "cell_type": "code",
      "source": [
        "d_predictions_open.count(100)"
      ],
      "metadata": {
        "colab": {
          "base_uri": "https://localhost:8080/"
        },
        "id": "XUFYeKmHdd2C",
        "outputId": "91793a8d-a016-4c4c-c4b9-9958d716af24"
      },
      "execution_count": null,
      "outputs": [
        {
          "output_type": "execute_result",
          "data": {
            "text/plain": [
              "5865"
            ]
          },
          "metadata": {},
          "execution_count": 79
        }
      ]
    },
    {
      "cell_type": "code",
      "source": [
        "true_labels[0]"
      ],
      "metadata": {
        "colab": {
          "base_uri": "https://localhost:8080/"
        },
        "id": "ZACs_-OKR_JC",
        "outputId": "7a038837-8cea-4d6a-a843-47c5da4ec750"
      },
      "execution_count": null,
      "outputs": [
        {
          "output_type": "execute_result",
          "data": {
            "text/plain": [
              "44"
            ]
          },
          "metadata": {},
          "execution_count": 49
        }
      ]
    },
    {
      "cell_type": "code",
      "source": [
        "sum(d_closed_logits)/10000"
      ],
      "metadata": {
        "colab": {
          "base_uri": "https://localhost:8080/"
        },
        "id": "OfqmD5nSFRHK",
        "outputId": "def23b88-f832-4e46-81ea-963682e174a1"
      },
      "execution_count": null,
      "outputs": [
        {
          "output_type": "execute_result",
          "data": {
            "text/plain": [
              "-0.4986603997487575"
            ]
          },
          "metadata": {},
          "execution_count": 50
        }
      ]
    },
    {
      "cell_type": "code",
      "source": [
        "sum(d_open_logits)/10000"
      ],
      "metadata": {
        "colab": {
          "base_uri": "https://localhost:8080/"
        },
        "id": "xhFcF_J8FkgU",
        "outputId": "0d171e90-6e08-4d61-8744-5b59c7ad6d4b"
      },
      "execution_count": null,
      "outputs": [
        {
          "output_type": "execute_result",
          "data": {
            "text/plain": [
              "-0.6508012606155127"
            ]
          },
          "metadata": {},
          "execution_count": 51
        }
      ]
    },
    {
      "cell_type": "code",
      "source": [
        "sum(d_max_closed_logits)/10000"
      ],
      "metadata": {
        "colab": {
          "base_uri": "https://localhost:8080/"
        },
        "id": "Peg9XRf4LKJ3",
        "outputId": "396307d6-ae8b-4797-ae3a-68f525e2649b"
      },
      "execution_count": null,
      "outputs": [
        {
          "output_type": "execute_result",
          "data": {
            "text/plain": [
              "9.227002764344215"
            ]
          },
          "metadata": {},
          "execution_count": 52
        }
      ]
    },
    {
      "cell_type": "code",
      "source": [
        "sum(d_max_open_logits)/10000"
      ],
      "metadata": {
        "colab": {
          "base_uri": "https://localhost:8080/"
        },
        "id": "q9qeEfQdLTrm",
        "outputId": "ba53b345-d173-4d87-9864-179029f056fd"
      },
      "execution_count": null,
      "outputs": [
        {
          "output_type": "execute_result",
          "data": {
            "text/plain": [
              "7.152337114357948"
            ]
          },
          "metadata": {},
          "execution_count": 53
        }
      ]
    },
    {
      "cell_type": "code",
      "source": [
        "d_open_logits[0]"
      ],
      "metadata": {
        "id": "SvgsP1BYQvKn"
      },
      "execution_count": null,
      "outputs": []
    },
    {
      "cell_type": "code",
      "source": [
        "d_max_open_logits[0]"
      ],
      "metadata": {
        "id": "eK6kQe6YQyW7"
      },
      "execution_count": null,
      "outputs": []
    },
    {
      "cell_type": "code",
      "source": [
        "diff_open=[]\n",
        "for i in range(10000):\n",
        "  diff_open.append(d_max_open_logits[i]-d_open_logits[i])\n",
        "diff_closed=[]\n",
        "for i in range(10000):\n",
        "  diff_closed.append(d_max_closed_logits[i]-d_closed_logits[i])"
      ],
      "metadata": {
        "id": "_XmMqhpLL77b"
      },
      "execution_count": null,
      "outputs": []
    },
    {
      "cell_type": "code",
      "source": [
        "sum(diff_open)"
      ],
      "metadata": {
        "colab": {
          "base_uri": "https://localhost:8080/"
        },
        "id": "eYbEiRg7MPnZ",
        "outputId": "810d6e96-8384-4395-8629-5e1dda186eab"
      },
      "execution_count": null,
      "outputs": [
        {
          "output_type": "execute_result",
          "data": {
            "text/plain": [
              "78031.38374973461"
            ]
          },
          "metadata": {},
          "execution_count": 55
        }
      ]
    },
    {
      "cell_type": "code",
      "source": [
        "sum(diff_closed)"
      ],
      "metadata": {
        "colab": {
          "base_uri": "https://localhost:8080/"
        },
        "id": "4gqg-VvNMTG2",
        "outputId": "fa5a4611-2586-4849-d894-005d818a01ef"
      },
      "execution_count": null,
      "outputs": [
        {
          "output_type": "execute_result",
          "data": {
            "text/plain": [
              "97256.63164092973"
            ]
          },
          "metadata": {},
          "execution_count": 56
        }
      ]
    },
    {
      "cell_type": "code",
      "source": [
        "closed_logits.sort()\n"
      ],
      "metadata": {
        "id": "xKbdEs7FGbOg"
      },
      "execution_count": null,
      "outputs": []
    },
    {
      "cell_type": "code",
      "source": [
        "len(closed_logits)"
      ],
      "metadata": {
        "id": "nfvsQdVnG06u"
      },
      "execution_count": null,
      "outputs": []
    },
    {
      "cell_type": "code",
      "source": [
        "closed_logits[7500]"
      ],
      "metadata": {
        "id": "E87kj0fTGqj1"
      },
      "execution_count": null,
      "outputs": []
    },
    {
      "cell_type": "code",
      "source": [
        "open_logits.sort()"
      ],
      "metadata": {
        "id": "1ZrE1dC1FVRM"
      },
      "execution_count": null,
      "outputs": []
    },
    {
      "cell_type": "code",
      "source": [
        "open_logits[7500]"
      ],
      "metadata": {
        "id": "Vf26bM7fG_MH"
      },
      "execution_count": null,
      "outputs": []
    },
    {
      "cell_type": "code",
      "source": [
        "df2 = pd.read_csv(\"/content/drive/MyDrive/ASU/ood_test_data_small.csv\")"
      ],
      "metadata": {
        "id": "F2RVrY9bEqiz"
      },
      "execution_count": null,
      "outputs": []
    },
    {
      "cell_type": "code",
      "source": [
        "df2[\"N_plus_one_prediction\"] = predictions"
      ],
      "metadata": {
        "id": "BW69RUlREqlW"
      },
      "execution_count": null,
      "outputs": []
    },
    {
      "cell_type": "code",
      "source": [
        "df2.head(10)"
      ],
      "metadata": {
        "id": "2fBN-gGAEqns",
        "colab": {
          "base_uri": "https://localhost:8080/",
          "height": 363
        },
        "outputId": "c073f5a8-3122-47f6-a6e4-db953b7be7bd"
      },
      "execution_count": null,
      "outputs": [
        {
          "output_type": "execute_result",
          "data": {
            "text/plain": [
              "           author  real_label  label  \\\n",
              "0  A11OTLEDSW8ZXD          44     44   \n",
              "1  A11OTLEDSW8ZXD          44     44   \n",
              "2  A11OTLEDSW8ZXD          44     44   \n",
              "3  A11OTLEDSW8ZXD          44     44   \n",
              "4  A11OTLEDSW8ZXD          44     44   \n",
              "5  A11OTLEDSW8ZXD          44     44   \n",
              "6  A11OTLEDSW8ZXD          44     44   \n",
              "7  A11OTLEDSW8ZXD          44     44   \n",
              "8  A11OTLEDSW8ZXD          44     44   \n",
              "9  A11OTLEDSW8ZXD          44     44   \n",
              "\n",
              "                                              review      product_domain  \\\n",
              "0  I bought this battery charger a year ago, when...  automotive.json.gz   \n",
              "1  I bought this because with four geriatric vehi...  automotive.json.gz   \n",
              "2  I was a tad skeptical of the outcome after see...  automotive.json.gz   \n",
              "3  I insist on every one of my vehicles to have a...  automotive.json.gz   \n",
              "4  This is a very well-made top grain cow leather...  automotive.json.gz   \n",
              "5  At first I was pleased to get this roller shad...  automotive.json.gz   \n",
              "6  This strap appears well-made, with inch-thick ...  automotive.json.gz   \n",
              "7  For a quick, overall shine on chrome and plast...  automotive.json.gz   \n",
              "8  This balaclava comes in a small, bubble-wrap p...  automotive.json.gz   \n",
              "9  This is an impressive car jump battery pack wi...  automotive.json.gz   \n",
              "\n",
              "   overall  #words  N_plus_one_prediction  \n",
              "0      5.0     330                    100  \n",
              "1      5.0     170                     44  \n",
              "2      4.0     315                     44  \n",
              "3      5.0     167                     44  \n",
              "4      5.0     191                     44  \n",
              "5      4.0     137                     90  \n",
              "6      4.0      84                     44  \n",
              "7      4.0     110                     44  \n",
              "8      5.0     161                     44  \n",
              "9      5.0     317                     44  "
            ],
            "text/html": [
              "\n",
              "  <div id=\"df-40384ec9-9279-47e7-af25-e634df9ebd49\">\n",
              "    <div class=\"colab-df-container\">\n",
              "      <div>\n",
              "<style scoped>\n",
              "    .dataframe tbody tr th:only-of-type {\n",
              "        vertical-align: middle;\n",
              "    }\n",
              "\n",
              "    .dataframe tbody tr th {\n",
              "        vertical-align: top;\n",
              "    }\n",
              "\n",
              "    .dataframe thead th {\n",
              "        text-align: right;\n",
              "    }\n",
              "</style>\n",
              "<table border=\"1\" class=\"dataframe\">\n",
              "  <thead>\n",
              "    <tr style=\"text-align: right;\">\n",
              "      <th></th>\n",
              "      <th>author</th>\n",
              "      <th>real_label</th>\n",
              "      <th>label</th>\n",
              "      <th>review</th>\n",
              "      <th>product_domain</th>\n",
              "      <th>overall</th>\n",
              "      <th>#words</th>\n",
              "      <th>N_plus_one_prediction</th>\n",
              "    </tr>\n",
              "  </thead>\n",
              "  <tbody>\n",
              "    <tr>\n",
              "      <th>0</th>\n",
              "      <td>A11OTLEDSW8ZXD</td>\n",
              "      <td>44</td>\n",
              "      <td>44</td>\n",
              "      <td>I bought this battery charger a year ago, when...</td>\n",
              "      <td>automotive.json.gz</td>\n",
              "      <td>5.0</td>\n",
              "      <td>330</td>\n",
              "      <td>100</td>\n",
              "    </tr>\n",
              "    <tr>\n",
              "      <th>1</th>\n",
              "      <td>A11OTLEDSW8ZXD</td>\n",
              "      <td>44</td>\n",
              "      <td>44</td>\n",
              "      <td>I bought this because with four geriatric vehi...</td>\n",
              "      <td>automotive.json.gz</td>\n",
              "      <td>5.0</td>\n",
              "      <td>170</td>\n",
              "      <td>44</td>\n",
              "    </tr>\n",
              "    <tr>\n",
              "      <th>2</th>\n",
              "      <td>A11OTLEDSW8ZXD</td>\n",
              "      <td>44</td>\n",
              "      <td>44</td>\n",
              "      <td>I was a tad skeptical of the outcome after see...</td>\n",
              "      <td>automotive.json.gz</td>\n",
              "      <td>4.0</td>\n",
              "      <td>315</td>\n",
              "      <td>44</td>\n",
              "    </tr>\n",
              "    <tr>\n",
              "      <th>3</th>\n",
              "      <td>A11OTLEDSW8ZXD</td>\n",
              "      <td>44</td>\n",
              "      <td>44</td>\n",
              "      <td>I insist on every one of my vehicles to have a...</td>\n",
              "      <td>automotive.json.gz</td>\n",
              "      <td>5.0</td>\n",
              "      <td>167</td>\n",
              "      <td>44</td>\n",
              "    </tr>\n",
              "    <tr>\n",
              "      <th>4</th>\n",
              "      <td>A11OTLEDSW8ZXD</td>\n",
              "      <td>44</td>\n",
              "      <td>44</td>\n",
              "      <td>This is a very well-made top grain cow leather...</td>\n",
              "      <td>automotive.json.gz</td>\n",
              "      <td>5.0</td>\n",
              "      <td>191</td>\n",
              "      <td>44</td>\n",
              "    </tr>\n",
              "    <tr>\n",
              "      <th>5</th>\n",
              "      <td>A11OTLEDSW8ZXD</td>\n",
              "      <td>44</td>\n",
              "      <td>44</td>\n",
              "      <td>At first I was pleased to get this roller shad...</td>\n",
              "      <td>automotive.json.gz</td>\n",
              "      <td>4.0</td>\n",
              "      <td>137</td>\n",
              "      <td>90</td>\n",
              "    </tr>\n",
              "    <tr>\n",
              "      <th>6</th>\n",
              "      <td>A11OTLEDSW8ZXD</td>\n",
              "      <td>44</td>\n",
              "      <td>44</td>\n",
              "      <td>This strap appears well-made, with inch-thick ...</td>\n",
              "      <td>automotive.json.gz</td>\n",
              "      <td>4.0</td>\n",
              "      <td>84</td>\n",
              "      <td>44</td>\n",
              "    </tr>\n",
              "    <tr>\n",
              "      <th>7</th>\n",
              "      <td>A11OTLEDSW8ZXD</td>\n",
              "      <td>44</td>\n",
              "      <td>44</td>\n",
              "      <td>For a quick, overall shine on chrome and plast...</td>\n",
              "      <td>automotive.json.gz</td>\n",
              "      <td>4.0</td>\n",
              "      <td>110</td>\n",
              "      <td>44</td>\n",
              "    </tr>\n",
              "    <tr>\n",
              "      <th>8</th>\n",
              "      <td>A11OTLEDSW8ZXD</td>\n",
              "      <td>44</td>\n",
              "      <td>44</td>\n",
              "      <td>This balaclava comes in a small, bubble-wrap p...</td>\n",
              "      <td>automotive.json.gz</td>\n",
              "      <td>5.0</td>\n",
              "      <td>161</td>\n",
              "      <td>44</td>\n",
              "    </tr>\n",
              "    <tr>\n",
              "      <th>9</th>\n",
              "      <td>A11OTLEDSW8ZXD</td>\n",
              "      <td>44</td>\n",
              "      <td>44</td>\n",
              "      <td>This is an impressive car jump battery pack wi...</td>\n",
              "      <td>automotive.json.gz</td>\n",
              "      <td>5.0</td>\n",
              "      <td>317</td>\n",
              "      <td>44</td>\n",
              "    </tr>\n",
              "  </tbody>\n",
              "</table>\n",
              "</div>\n",
              "      <button class=\"colab-df-convert\" onclick=\"convertToInteractive('df-40384ec9-9279-47e7-af25-e634df9ebd49')\"\n",
              "              title=\"Convert this dataframe to an interactive table.\"\n",
              "              style=\"display:none;\">\n",
              "        \n",
              "  <svg xmlns=\"http://www.w3.org/2000/svg\" height=\"24px\"viewBox=\"0 0 24 24\"\n",
              "       width=\"24px\">\n",
              "    <path d=\"M0 0h24v24H0V0z\" fill=\"none\"/>\n",
              "    <path d=\"M18.56 5.44l.94 2.06.94-2.06 2.06-.94-2.06-.94-.94-2.06-.94 2.06-2.06.94zm-11 1L8.5 8.5l.94-2.06 2.06-.94-2.06-.94L8.5 2.5l-.94 2.06-2.06.94zm10 10l.94 2.06.94-2.06 2.06-.94-2.06-.94-.94-2.06-.94 2.06-2.06.94z\"/><path d=\"M17.41 7.96l-1.37-1.37c-.4-.4-.92-.59-1.43-.59-.52 0-1.04.2-1.43.59L10.3 9.45l-7.72 7.72c-.78.78-.78 2.05 0 2.83L4 21.41c.39.39.9.59 1.41.59.51 0 1.02-.2 1.41-.59l7.78-7.78 2.81-2.81c.8-.78.8-2.07 0-2.86zM5.41 20L4 18.59l7.72-7.72 1.47 1.35L5.41 20z\"/>\n",
              "  </svg>\n",
              "      </button>\n",
              "      \n",
              "  <style>\n",
              "    .colab-df-container {\n",
              "      display:flex;\n",
              "      flex-wrap:wrap;\n",
              "      gap: 12px;\n",
              "    }\n",
              "\n",
              "    .colab-df-convert {\n",
              "      background-color: #E8F0FE;\n",
              "      border: none;\n",
              "      border-radius: 50%;\n",
              "      cursor: pointer;\n",
              "      display: none;\n",
              "      fill: #1967D2;\n",
              "      height: 32px;\n",
              "      padding: 0 0 0 0;\n",
              "      width: 32px;\n",
              "    }\n",
              "\n",
              "    .colab-df-convert:hover {\n",
              "      background-color: #E2EBFA;\n",
              "      box-shadow: 0px 1px 2px rgba(60, 64, 67, 0.3), 0px 1px 3px 1px rgba(60, 64, 67, 0.15);\n",
              "      fill: #174EA6;\n",
              "    }\n",
              "\n",
              "    [theme=dark] .colab-df-convert {\n",
              "      background-color: #3B4455;\n",
              "      fill: #D2E3FC;\n",
              "    }\n",
              "\n",
              "    [theme=dark] .colab-df-convert:hover {\n",
              "      background-color: #434B5C;\n",
              "      box-shadow: 0px 1px 3px 1px rgba(0, 0, 0, 0.15);\n",
              "      filter: drop-shadow(0px 1px 2px rgba(0, 0, 0, 0.3));\n",
              "      fill: #FFFFFF;\n",
              "    }\n",
              "  </style>\n",
              "\n",
              "      <script>\n",
              "        const buttonEl =\n",
              "          document.querySelector('#df-40384ec9-9279-47e7-af25-e634df9ebd49 button.colab-df-convert');\n",
              "        buttonEl.style.display =\n",
              "          google.colab.kernel.accessAllowed ? 'block' : 'none';\n",
              "\n",
              "        async function convertToInteractive(key) {\n",
              "          const element = document.querySelector('#df-40384ec9-9279-47e7-af25-e634df9ebd49');\n",
              "          const dataTable =\n",
              "            await google.colab.kernel.invokeFunction('convertToInteractive',\n",
              "                                                     [key], {});\n",
              "          if (!dataTable) return;\n",
              "\n",
              "          const docLinkHtml = 'Like what you see? Visit the ' +\n",
              "            '<a target=\"_blank\" href=https://colab.research.google.com/notebooks/data_table.ipynb>data table notebook</a>'\n",
              "            + ' to learn more about interactive tables.';\n",
              "          element.innerHTML = '';\n",
              "          dataTable['output_type'] = 'display_data';\n",
              "          await google.colab.output.renderOutput(dataTable, element);\n",
              "          const docLink = document.createElement('div');\n",
              "          docLink.innerHTML = docLinkHtml;\n",
              "          element.appendChild(docLink);\n",
              "        }\n",
              "      </script>\n",
              "    </div>\n",
              "  </div>\n",
              "  "
            ]
          },
          "metadata": {},
          "execution_count": 57
        }
      ]
    },
    {
      "cell_type": "code",
      "source": [
        "df2['N_plus_one_prediction'] = df2['N_plus_one_prediction'].replace([100], 'OOD')"
      ],
      "metadata": {
        "id": "wBKF73DMDBRe"
      },
      "execution_count": null,
      "outputs": []
    },
    {
      "cell_type": "code",
      "source": [
        "df2.head(10)"
      ],
      "metadata": {
        "id": "jJouIT3XDBT_",
        "colab": {
          "base_uri": "https://localhost:8080/",
          "height": 363
        },
        "outputId": "201627d6-7db9-460b-c528-0b0a87cd33bd"
      },
      "execution_count": null,
      "outputs": [
        {
          "output_type": "execute_result",
          "data": {
            "text/plain": [
              "           author  real_label  label  \\\n",
              "0  A11OTLEDSW8ZXD          44     44   \n",
              "1  A11OTLEDSW8ZXD          44     44   \n",
              "2  A11OTLEDSW8ZXD          44     44   \n",
              "3  A11OTLEDSW8ZXD          44     44   \n",
              "4  A11OTLEDSW8ZXD          44     44   \n",
              "5  A11OTLEDSW8ZXD          44     44   \n",
              "6  A11OTLEDSW8ZXD          44     44   \n",
              "7  A11OTLEDSW8ZXD          44     44   \n",
              "8  A11OTLEDSW8ZXD          44     44   \n",
              "9  A11OTLEDSW8ZXD          44     44   \n",
              "\n",
              "                                              review      product_domain  \\\n",
              "0  I bought this battery charger a year ago, when...  automotive.json.gz   \n",
              "1  I bought this because with four geriatric vehi...  automotive.json.gz   \n",
              "2  I was a tad skeptical of the outcome after see...  automotive.json.gz   \n",
              "3  I insist on every one of my vehicles to have a...  automotive.json.gz   \n",
              "4  This is a very well-made top grain cow leather...  automotive.json.gz   \n",
              "5  At first I was pleased to get this roller shad...  automotive.json.gz   \n",
              "6  This strap appears well-made, with inch-thick ...  automotive.json.gz   \n",
              "7  For a quick, overall shine on chrome and plast...  automotive.json.gz   \n",
              "8  This balaclava comes in a small, bubble-wrap p...  automotive.json.gz   \n",
              "9  This is an impressive car jump battery pack wi...  automotive.json.gz   \n",
              "\n",
              "   overall  #words N_plus_one_prediction  \n",
              "0      5.0     330                   OOD  \n",
              "1      5.0     170                    44  \n",
              "2      4.0     315                    44  \n",
              "3      5.0     167                    44  \n",
              "4      5.0     191                    44  \n",
              "5      4.0     137                    90  \n",
              "6      4.0      84                    44  \n",
              "7      4.0     110                    44  \n",
              "8      5.0     161                    44  \n",
              "9      5.0     317                    44  "
            ],
            "text/html": [
              "\n",
              "  <div id=\"df-99ca19e0-8289-4132-b956-d29916e2c3d6\">\n",
              "    <div class=\"colab-df-container\">\n",
              "      <div>\n",
              "<style scoped>\n",
              "    .dataframe tbody tr th:only-of-type {\n",
              "        vertical-align: middle;\n",
              "    }\n",
              "\n",
              "    .dataframe tbody tr th {\n",
              "        vertical-align: top;\n",
              "    }\n",
              "\n",
              "    .dataframe thead th {\n",
              "        text-align: right;\n",
              "    }\n",
              "</style>\n",
              "<table border=\"1\" class=\"dataframe\">\n",
              "  <thead>\n",
              "    <tr style=\"text-align: right;\">\n",
              "      <th></th>\n",
              "      <th>author</th>\n",
              "      <th>real_label</th>\n",
              "      <th>label</th>\n",
              "      <th>review</th>\n",
              "      <th>product_domain</th>\n",
              "      <th>overall</th>\n",
              "      <th>#words</th>\n",
              "      <th>N_plus_one_prediction</th>\n",
              "    </tr>\n",
              "  </thead>\n",
              "  <tbody>\n",
              "    <tr>\n",
              "      <th>0</th>\n",
              "      <td>A11OTLEDSW8ZXD</td>\n",
              "      <td>44</td>\n",
              "      <td>44</td>\n",
              "      <td>I bought this battery charger a year ago, when...</td>\n",
              "      <td>automotive.json.gz</td>\n",
              "      <td>5.0</td>\n",
              "      <td>330</td>\n",
              "      <td>OOD</td>\n",
              "    </tr>\n",
              "    <tr>\n",
              "      <th>1</th>\n",
              "      <td>A11OTLEDSW8ZXD</td>\n",
              "      <td>44</td>\n",
              "      <td>44</td>\n",
              "      <td>I bought this because with four geriatric vehi...</td>\n",
              "      <td>automotive.json.gz</td>\n",
              "      <td>5.0</td>\n",
              "      <td>170</td>\n",
              "      <td>44</td>\n",
              "    </tr>\n",
              "    <tr>\n",
              "      <th>2</th>\n",
              "      <td>A11OTLEDSW8ZXD</td>\n",
              "      <td>44</td>\n",
              "      <td>44</td>\n",
              "      <td>I was a tad skeptical of the outcome after see...</td>\n",
              "      <td>automotive.json.gz</td>\n",
              "      <td>4.0</td>\n",
              "      <td>315</td>\n",
              "      <td>44</td>\n",
              "    </tr>\n",
              "    <tr>\n",
              "      <th>3</th>\n",
              "      <td>A11OTLEDSW8ZXD</td>\n",
              "      <td>44</td>\n",
              "      <td>44</td>\n",
              "      <td>I insist on every one of my vehicles to have a...</td>\n",
              "      <td>automotive.json.gz</td>\n",
              "      <td>5.0</td>\n",
              "      <td>167</td>\n",
              "      <td>44</td>\n",
              "    </tr>\n",
              "    <tr>\n",
              "      <th>4</th>\n",
              "      <td>A11OTLEDSW8ZXD</td>\n",
              "      <td>44</td>\n",
              "      <td>44</td>\n",
              "      <td>This is a very well-made top grain cow leather...</td>\n",
              "      <td>automotive.json.gz</td>\n",
              "      <td>5.0</td>\n",
              "      <td>191</td>\n",
              "      <td>44</td>\n",
              "    </tr>\n",
              "    <tr>\n",
              "      <th>5</th>\n",
              "      <td>A11OTLEDSW8ZXD</td>\n",
              "      <td>44</td>\n",
              "      <td>44</td>\n",
              "      <td>At first I was pleased to get this roller shad...</td>\n",
              "      <td>automotive.json.gz</td>\n",
              "      <td>4.0</td>\n",
              "      <td>137</td>\n",
              "      <td>90</td>\n",
              "    </tr>\n",
              "    <tr>\n",
              "      <th>6</th>\n",
              "      <td>A11OTLEDSW8ZXD</td>\n",
              "      <td>44</td>\n",
              "      <td>44</td>\n",
              "      <td>This strap appears well-made, with inch-thick ...</td>\n",
              "      <td>automotive.json.gz</td>\n",
              "      <td>4.0</td>\n",
              "      <td>84</td>\n",
              "      <td>44</td>\n",
              "    </tr>\n",
              "    <tr>\n",
              "      <th>7</th>\n",
              "      <td>A11OTLEDSW8ZXD</td>\n",
              "      <td>44</td>\n",
              "      <td>44</td>\n",
              "      <td>For a quick, overall shine on chrome and plast...</td>\n",
              "      <td>automotive.json.gz</td>\n",
              "      <td>4.0</td>\n",
              "      <td>110</td>\n",
              "      <td>44</td>\n",
              "    </tr>\n",
              "    <tr>\n",
              "      <th>8</th>\n",
              "      <td>A11OTLEDSW8ZXD</td>\n",
              "      <td>44</td>\n",
              "      <td>44</td>\n",
              "      <td>This balaclava comes in a small, bubble-wrap p...</td>\n",
              "      <td>automotive.json.gz</td>\n",
              "      <td>5.0</td>\n",
              "      <td>161</td>\n",
              "      <td>44</td>\n",
              "    </tr>\n",
              "    <tr>\n",
              "      <th>9</th>\n",
              "      <td>A11OTLEDSW8ZXD</td>\n",
              "      <td>44</td>\n",
              "      <td>44</td>\n",
              "      <td>This is an impressive car jump battery pack wi...</td>\n",
              "      <td>automotive.json.gz</td>\n",
              "      <td>5.0</td>\n",
              "      <td>317</td>\n",
              "      <td>44</td>\n",
              "    </tr>\n",
              "  </tbody>\n",
              "</table>\n",
              "</div>\n",
              "      <button class=\"colab-df-convert\" onclick=\"convertToInteractive('df-99ca19e0-8289-4132-b956-d29916e2c3d6')\"\n",
              "              title=\"Convert this dataframe to an interactive table.\"\n",
              "              style=\"display:none;\">\n",
              "        \n",
              "  <svg xmlns=\"http://www.w3.org/2000/svg\" height=\"24px\"viewBox=\"0 0 24 24\"\n",
              "       width=\"24px\">\n",
              "    <path d=\"M0 0h24v24H0V0z\" fill=\"none\"/>\n",
              "    <path d=\"M18.56 5.44l.94 2.06.94-2.06 2.06-.94-2.06-.94-.94-2.06-.94 2.06-2.06.94zm-11 1L8.5 8.5l.94-2.06 2.06-.94-2.06-.94L8.5 2.5l-.94 2.06-2.06.94zm10 10l.94 2.06.94-2.06 2.06-.94-2.06-.94-.94-2.06-.94 2.06-2.06.94z\"/><path d=\"M17.41 7.96l-1.37-1.37c-.4-.4-.92-.59-1.43-.59-.52 0-1.04.2-1.43.59L10.3 9.45l-7.72 7.72c-.78.78-.78 2.05 0 2.83L4 21.41c.39.39.9.59 1.41.59.51 0 1.02-.2 1.41-.59l7.78-7.78 2.81-2.81c.8-.78.8-2.07 0-2.86zM5.41 20L4 18.59l7.72-7.72 1.47 1.35L5.41 20z\"/>\n",
              "  </svg>\n",
              "      </button>\n",
              "      \n",
              "  <style>\n",
              "    .colab-df-container {\n",
              "      display:flex;\n",
              "      flex-wrap:wrap;\n",
              "      gap: 12px;\n",
              "    }\n",
              "\n",
              "    .colab-df-convert {\n",
              "      background-color: #E8F0FE;\n",
              "      border: none;\n",
              "      border-radius: 50%;\n",
              "      cursor: pointer;\n",
              "      display: none;\n",
              "      fill: #1967D2;\n",
              "      height: 32px;\n",
              "      padding: 0 0 0 0;\n",
              "      width: 32px;\n",
              "    }\n",
              "\n",
              "    .colab-df-convert:hover {\n",
              "      background-color: #E2EBFA;\n",
              "      box-shadow: 0px 1px 2px rgba(60, 64, 67, 0.3), 0px 1px 3px 1px rgba(60, 64, 67, 0.15);\n",
              "      fill: #174EA6;\n",
              "    }\n",
              "\n",
              "    [theme=dark] .colab-df-convert {\n",
              "      background-color: #3B4455;\n",
              "      fill: #D2E3FC;\n",
              "    }\n",
              "\n",
              "    [theme=dark] .colab-df-convert:hover {\n",
              "      background-color: #434B5C;\n",
              "      box-shadow: 0px 1px 3px 1px rgba(0, 0, 0, 0.15);\n",
              "      filter: drop-shadow(0px 1px 2px rgba(0, 0, 0, 0.3));\n",
              "      fill: #FFFFFF;\n",
              "    }\n",
              "  </style>\n",
              "\n",
              "      <script>\n",
              "        const buttonEl =\n",
              "          document.querySelector('#df-99ca19e0-8289-4132-b956-d29916e2c3d6 button.colab-df-convert');\n",
              "        buttonEl.style.display =\n",
              "          google.colab.kernel.accessAllowed ? 'block' : 'none';\n",
              "\n",
              "        async function convertToInteractive(key) {\n",
              "          const element = document.querySelector('#df-99ca19e0-8289-4132-b956-d29916e2c3d6');\n",
              "          const dataTable =\n",
              "            await google.colab.kernel.invokeFunction('convertToInteractive',\n",
              "                                                     [key], {});\n",
              "          if (!dataTable) return;\n",
              "\n",
              "          const docLinkHtml = 'Like what you see? Visit the ' +\n",
              "            '<a target=\"_blank\" href=https://colab.research.google.com/notebooks/data_table.ipynb>data table notebook</a>'\n",
              "            + ' to learn more about interactive tables.';\n",
              "          element.innerHTML = '';\n",
              "          dataTable['output_type'] = 'display_data';\n",
              "          await google.colab.output.renderOutput(dataTable, element);\n",
              "          const docLink = document.createElement('div');\n",
              "          docLink.innerHTML = docLinkHtml;\n",
              "          element.appendChild(docLink);\n",
              "        }\n",
              "      </script>\n",
              "    </div>\n",
              "  </div>\n",
              "  "
            ]
          },
          "metadata": {},
          "execution_count": 59
        }
      ]
    },
    {
      "cell_type": "code",
      "source": [
        "combined_df = df2\n",
        "number_of_known_labels = 100"
      ],
      "metadata": {
        "id": "SM5dK89wE3vJ"
      },
      "execution_count": null,
      "outputs": []
    },
    {
      "cell_type": "code",
      "source": [
        "\n",
        "def compute_precision_recall_for_known_classes(given_label):\n",
        "    TP = combined_df[(combined_df[\"real_label\"] == given_label) & (combined_df[\"N_plus_one_prediction\"] == given_label)].shape[0]\n",
        "    FP = combined_df[(combined_df[\"real_label\"] != given_label) & (combined_df[\"N_plus_one_prediction\"] == given_label)].shape[0]\n",
        "    FN = combined_df[(combined_df[\"real_label\"] == given_label) & (combined_df[\"N_plus_one_prediction\"] != given_label)].shape[0]\n",
        "    if(TP == 0):\n",
        "        P = 0\n",
        "        R = 0\n",
        "    else:\n",
        "        P = round(100*TP/(TP + FP), 2)\n",
        "        R = round(100*TP/(TP + FN),2)\n",
        "    return P, R"
      ],
      "metadata": {
        "id": "qh14Qz0BE6Nb"
      },
      "execution_count": null,
      "outputs": []
    },
    {
      "cell_type": "code",
      "source": [
        "def compute_precision_recall_for_OOD():\n",
        "    TP = combined_df[(combined_df[\"real_label\"] >= number_of_known_labels) & (combined_df[\"N_plus_one_prediction\"] == \"OOD\")].shape[0]\n",
        "    FP = combined_df[(combined_df[\"real_label\"] < number_of_known_labels) & (combined_df[\"N_plus_one_prediction\"] == \"OOD\")].shape[0]\n",
        "    FN = combined_df[(combined_df[\"real_label\"] >= number_of_known_labels) & (combined_df[\"N_plus_one_prediction\"] != \"OOD\")].shape[0]\n",
        "    if(TP == 0):\n",
        "        P = 0\n",
        "        R = 0\n",
        "    else:\n",
        "        P = 100*TP/(TP + FP)\n",
        "        R = 100*TP/(TP + FN)\n",
        "    return P, R"
      ],
      "metadata": {
        "id": "8j-SbwRhE8pv"
      },
      "execution_count": null,
      "outputs": []
    },
    {
      "cell_type": "code",
      "source": [
        "\n",
        "\n",
        "\n",
        "\n",
        "def compute_performance_metrics():\n",
        "    from statistics import mean\n",
        "    \n",
        "    precisions = []\n",
        "    recalls = []\n",
        "    for known_label in range(number_of_known_labels):\n",
        "        p, r = compute_precision_recall_for_known_classes(known_label)\n",
        "        precisions.append(p)\n",
        "        recalls.append(r)\n",
        "    \n",
        "    precision_known, recall_known = round(mean(precisions),2), round(mean(recalls),2)\n",
        "    f1_known = round(2*precision_known*recall_known/(precision_known + recall_known),2)\n",
        "    \n",
        "    precision_ood, recall_ood = compute_precision_recall_for_OOD()\n",
        "    f1_ood = round(2*precision_ood*recall_ood/(precision_ood + recall_ood),2)\n",
        "    \n",
        "    precisions.append(precision_ood)\n",
        "    recalls.append(recall_ood)\n",
        "    \n",
        "    precision, recall = round(mean(precisions),2), round(mean(recalls),2)\n",
        "    f1 = round(2*precision*recall/(precision + recall),2)\n",
        "    \n",
        "    return {\n",
        "        \"known\": {\n",
        "            \"precision\": precision_known,\n",
        "            \"recall\": recall_known,\n",
        "            \"f1\": f1_known,\n",
        "        },\n",
        "        \"ood\": {\n",
        "            \"precision\": round(precision_ood,2),\n",
        "            \"recall\": round(recall_ood,2),\n",
        "            \"f1\": f1_ood,\n",
        "        },\n",
        "        \"overall\": {\n",
        "            \"precision\": precision,\n",
        "            \"recall\": recall,\n",
        "            \"f1\": f1,\n",
        "        }\n",
        "        \n",
        "    }"
      ],
      "metadata": {
        "id": "dcm1s1L9DBWj"
      },
      "execution_count": null,
      "outputs": []
    },
    {
      "cell_type": "code",
      "source": [
        "def print_performance_metrics():\n",
        "    performance_dict = compute_performance_metrics()\n",
        "    print(performance_dict[\"known\"][\"precision\"],performance_dict[\"known\"][\"recall\"],performance_dict[\"known\"][\"f1\"], end = \" \")\n",
        "    print(performance_dict[\"ood\"][\"precision\"],performance_dict[\"ood\"][\"recall\"],performance_dict[\"ood\"][\"f1\"], end = \" \")\n",
        "    print(performance_dict[\"overall\"][\"precision\"],performance_dict[\"overall\"][\"recall\"],performance_dict[\"overall\"][\"f1\"], end = \" \")"
      ],
      "metadata": {
        "id": "u_qJq3p1FAfp"
      },
      "execution_count": null,
      "outputs": []
    },
    {
      "cell_type": "code",
      "source": [
        "print_performance_metrics()"
      ],
      "metadata": {
        "id": "6lf4Y5uADBY7",
        "colab": {
          "base_uri": "https://localhost:8080/"
        },
        "outputId": "0a9d8981-f28c-4077-97cc-5988121b4089"
      },
      "execution_count": null,
      "outputs": [
        {
          "output_type": "stream",
          "name": "stdout",
          "text": [
            "69.45 70.23 69.84 74.12 69.13 71.54 69.49 70.22 69.85 "
          ]
        }
      ]
    },
    {
      "cell_type": "code",
      "source": [
        "   macro avg      0.517     0.797     0.607     20000\n",
        "weighted avg      0.684     0.506     0.473     20000"
      ],
      "metadata": {
        "id": "JFej9rsIDBg0"
      },
      "execution_count": null,
      "outputs": []
    },
    {
      "cell_type": "code",
      "source": [
        "np.unique(predictions)"
      ],
      "metadata": {
        "id": "bKDOI2t9EqrL"
      },
      "execution_count": null,
      "outputs": []
    },
    {
      "cell_type": "code",
      "source": [
        "np.unique(true_labels)"
      ],
      "metadata": {
        "id": "egodBhBSEtpc"
      },
      "execution_count": null,
      "outputs": []
    },
    {
      "cell_type": "code",
      "source": [
        "len(predictions)"
      ],
      "metadata": {
        "id": "0HKrQAksEwKW"
      },
      "execution_count": null,
      "outputs": []
    },
    {
      "cell_type": "code",
      "source": [
        "predictions.count(100)"
      ],
      "metadata": {
        "id": "wBbavERSEyLz"
      },
      "execution_count": null,
      "outputs": []
    },
    {
      "cell_type": "code",
      "source": [
        "predictions.count(100)/len(predictions)"
      ],
      "metadata": {
        "id": "JRtw9ANqE0Wf"
      },
      "execution_count": null,
      "outputs": []
    },
    {
      "cell_type": "code",
      "source": [
        "#known classes\n",
        "from sklearn.metrics import classification_report\n",
        "\n",
        "result_report= classification_report(true_labels, predictions, digits=3, output_dict=False)\n",
        "print(result_report)"
      ],
      "metadata": {
        "id": "KlC333pBAdmX"
      },
      "execution_count": null,
      "outputs": []
    },
    {
      "cell_type": "code",
      "source": [
        "#unknown classes\n",
        "from sklearn.metrics import classification_report\n",
        "\n",
        "result_report= classification_report(true_labels, predictions, digits=3, output_dict=False)\n",
        "print(result_report)"
      ],
      "metadata": {
        "id": "pYFZ2ppkjaNI"
      },
      "execution_count": null,
      "outputs": []
    },
    {
      "cell_type": "code",
      "source": [],
      "metadata": {
        "id": "caVFv6ShYsbv"
      },
      "execution_count": null,
      "outputs": []
    },
    {
      "cell_type": "code",
      "source": [],
      "metadata": {
        "id": "aIxAXegHYzBu"
      },
      "execution_count": null,
      "outputs": []
    },
    {
      "cell_type": "code",
      "source": [],
      "metadata": {
        "id": "vW7Ch9PyYzEe"
      },
      "execution_count": null,
      "outputs": []
    },
    {
      "cell_type": "code",
      "source": [],
      "metadata": {
        "id": "893z078eYzG_"
      },
      "execution_count": null,
      "outputs": []
    },
    {
      "cell_type": "code",
      "source": [],
      "metadata": {
        "id": "yQSlpEx2YzKe"
      },
      "execution_count": null,
      "outputs": []
    },
    {
      "cell_type": "code",
      "source": [
        "import json\n",
        "your_json_string = result_report\n",
        "json_object = json.dumps(your_json_string, indent=4, ensure_ascii=False)\n",
        "\n",
        "with open(\"results_1222715130.json\", \"w\") as outfile:\n",
        "    outfile.write(json_object)"
      ],
      "metadata": {
        "id": "yCI-Fs67AdpI"
      },
      "execution_count": null,
      "outputs": []
    },
    {
      "cell_type": "code",
      "source": [],
      "metadata": {
        "id": "CMuNjK5gAdre"
      },
      "execution_count": null,
      "outputs": []
    },
    {
      "cell_type": "code",
      "source": [
        "\n",
        "predictions_ , true_labels_ = [], []\n",
        "for batch in prediction_dataloader:\n",
        "  # Add batch to GPU\n",
        "  batch = tuple(t.to(device) for t in batch)\n",
        "  \n",
        "  # Unpack the inputs from our dataloader\n",
        "  b_input_ids, b_input_mask, b_labels = batch\n",
        "  \n",
        "  # Telling the model not to compute or store gradients, saving memory and \n",
        "  # speeding up prediction\n",
        "  with torch.no_grad():\n",
        "      # Forward pass, calculate logit predictions.\n",
        "      result = model(b_input_ids, \n",
        "                     token_type_ids=None, \n",
        "                     attention_mask=b_input_mask,\n",
        "                     return_dict=True)\n",
        "\n",
        "  logits = result.logits\n",
        "\n",
        "  # Move logits and labels to CPU\n",
        "  logits = logits.detach().cpu().numpy()\n",
        "  print(logits[1])\n",
        "  pred_labels = np.argmax(logits, axis=1)\n",
        "  label_ids = b_labels.to('cpu').numpy()\n",
        "  \n",
        "  # Store predictions and true labels\n",
        "  predictions_.extend(pred_labels.tolist())\n",
        "  true_labels_.extend(label_ids.tolist())\n",
        "  print(predictions_)\n",
        "  print(true_labels_)\n",
        "  break"
      ],
      "metadata": {
        "id": "aUrkK-CzAdt8"
      },
      "execution_count": null,
      "outputs": []
    },
    {
      "cell_type": "code",
      "source": [],
      "metadata": {
        "id": "yD3m4p8WAdwW"
      },
      "execution_count": null,
      "outputs": []
    },
    {
      "cell_type": "code",
      "source": [],
      "metadata": {
        "id": "DvjCbMVDAdzr"
      },
      "execution_count": null,
      "outputs": []
    },
    {
      "cell_type": "code",
      "source": [],
      "metadata": {
        "id": "HToeHyo5_0J6"
      },
      "execution_count": null,
      "outputs": []
    },
    {
      "cell_type": "code",
      "source": [
        "from sklearn.metrics import classification_report\n",
        "\n",
        "result_report= classification_report(true_labels, predictions, digits=3)\n",
        "print(result_report)"
      ],
      "metadata": {
        "id": "CYNPK2cnM9FX"
      },
      "execution_count": null,
      "outputs": []
    },
    {
      "cell_type": "code",
      "source": [
        "import os\n",
        "\n",
        "# Saving best-practices: if you use defaults names for the model, you can reload it using from_pretrained()\n",
        "\n",
        "output_dir = '/content/drive/MyDrive/ASU/model_save/'\n",
        "\n",
        "# Create output directory if needed\n",
        "if not os.path.exists(output_dir):\n",
        "    os.makedirs(output_dir)\n",
        "\n",
        "print(\"Saving model to %s\" % output_dir)\n",
        "\n",
        "# Save a trained model, configuration and tokenizer using `save_pretrained()`.\n",
        "# They can then be reloaded using `from_pretrained()`\n",
        "model_to_save = model.module if hasattr(model, 'module') else model  # Take care of distributed/parallel training\n",
        "model_to_save.save_pretrained(output_dir)\n",
        "tokenizer.save_pretrained(output_dir)\n",
        "\n",
        "# Good practice: save your training arguments together with the trained model\n",
        "# torch.save(args, os.path.join(output_dir, 'training_args.bin'))\n"
      ],
      "metadata": {
        "id": "55TGwUWdM92G"
      },
      "execution_count": null,
      "outputs": []
    },
    {
      "cell_type": "code",
      "source": [
        "!ls -l --block-size=K /content/drive/MyDrive/ASU/model_save/"
      ],
      "metadata": {
        "id": "Wup4eBSGNAnC"
      },
      "execution_count": null,
      "outputs": []
    },
    {
      "cell_type": "code",
      "source": [
        "!ls -l --block-size=M /content/drive/MyDrive/ASU/model_save/pytorch_model.bin"
      ],
      "metadata": {
        "id": "AwSPmLacNFlA"
      },
      "execution_count": null,
      "outputs": []
    },
    {
      "cell_type": "code",
      "source": [
        "!pip install transformers\n",
        "from transformers import BertTokenizer, AutoConfig, AutoModelForSequenceClassification, AutoTokenizer\n",
        "from transformers import (\n",
        "    AdamW,\n",
        "    get_linear_schedule_with_warmup\n",
        ")\n",
        "from transformers import BertForSequenceClassification, AdamW, BertConfig\n",
        "from transformers import get_linear_schedule_with_warmup"
      ],
      "metadata": {
        "id": "mCrOKj_3eFJW"
      },
      "execution_count": null,
      "outputs": []
    },
    {
      "cell_type": "code",
      "source": [
        "from torch.utils.data import TensorDataset, random_split\n",
        "from torch.utils.data import DataLoader, RandomSampler, SequentialSampler"
      ],
      "metadata": {
        "id": "XJLCdjSR6O5E"
      },
      "execution_count": null,
      "outputs": []
    },
    {
      "cell_type": "code",
      "source": [
        "# Load a trained model and vocabulary that you have fine-tuned\n",
        "#model = RobertaForSequenceClassification.from_pretrained(output_dir)\n",
        "#tokenizer = RobertaForSequenceClassification.from_pretrained(output_dir)\n",
        "\n",
        "\n",
        "output_dir = '/content/drive/MyDrive/ASU/model_save/'\n",
        "\n",
        "tokenizer = AutoTokenizer.from_pretrained(output_dir+'tokenizer/')\n",
        "model = AutoModelForSequenceClassification.from_pretrained(output_dir)\n",
        "\n",
        "\n",
        "# Copy the model to the GPU.\n",
        "model.to(device)"
      ],
      "metadata": {
        "id": "nvMN56oGNtjo"
      },
      "execution_count": null,
      "outputs": []
    },
    {
      "cell_type": "code",
      "source": [
        "from google.colab import drive\n",
        "drive.mount('/content/drive')"
      ],
      "metadata": {
        "id": "wA8r4uk9PPkj"
      },
      "execution_count": null,
      "outputs": []
    },
    {
      "cell_type": "code",
      "source": [],
      "metadata": {
        "id": "Trz1nxZCPQjv"
      },
      "execution_count": null,
      "outputs": []
    }
  ],
  "metadata": {
    "accelerator": "GPU",
    "colab": {
      "provenance": []
    },
    "kernelspec": {
      "display_name": "Python 3",
      "name": "python3"
    },
    "language_info": {
      "name": "python"
    },
    "gpuClass": "standard"
  },
  "nbformat": 4,
  "nbformat_minor": 0
}