{
  "cells": [
    {
      "cell_type": "code",
      "execution_count": 1,
      "metadata": {
        "id": "hiCdiTWzgKeG"
      },
      "outputs": [],
      "source": [
        "import pandas as pd\n",
        "import numpy as np\n",
        "#pd.set_option('display.max_rows', 50000)/"
      ]
    },
    {
      "cell_type": "code",
      "execution_count": 2,
      "metadata": {
        "colab": {
          "base_uri": "https://localhost:8080/"
        },
        "id": "oq68oD37gl7e",
        "outputId": "7ca89451-241c-4136-99b9-30edafe99cc3"
      },
      "outputs": [
        {
          "name": "stdout",
          "output_type": "stream",
          "text": [
            "Mounted at /content/drive\n"
          ]
        }
      ],
      "source": [
        "from google.colab import drive\n",
        "drive.mount('/content/drive')"
      ]
    },
    {
      "cell_type": "code",
      "execution_count": 3,
      "metadata": {
        "colab": {
          "base_uri": "https://localhost:8080/",
          "height": 363
        },
        "id": "IWe3lgvZgZTb",
        "outputId": "bac3aadc-d6d1-4eb7-bd85-2f3f11be2985"
      },
      "outputs": [
        {
          "data": {
            "text/html": [
              "\n",
              "  <div id=\"df-86c98b56-0781-4143-b8c4-a4ba118cd080\">\n",
              "    <div class=\"colab-df-container\">\n",
              "      <div>\n",
              "<style scoped>\n",
              "    .dataframe tbody tr th:only-of-type {\n",
              "        vertical-align: middle;\n",
              "    }\n",
              "\n",
              "    .dataframe tbody tr th {\n",
              "        vertical-align: top;\n",
              "    }\n",
              "\n",
              "    .dataframe thead th {\n",
              "        text-align: right;\n",
              "    }\n",
              "</style>\n",
              "<table border=\"1\" class=\"dataframe\">\n",
              "  <thead>\n",
              "    <tr style=\"text-align: right;\">\n",
              "      <th></th>\n",
              "      <th>author</th>\n",
              "      <th>real_label</th>\n",
              "      <th>label</th>\n",
              "      <th>review</th>\n",
              "      <th>product_domain</th>\n",
              "      <th>overall</th>\n",
              "      <th>#words</th>\n",
              "    </tr>\n",
              "  </thead>\n",
              "  <tbody>\n",
              "    <tr>\n",
              "      <th>0</th>\n",
              "      <td>A11OTLEDSW8ZXD</td>\n",
              "      <td>44</td>\n",
              "      <td>44</td>\n",
              "      <td>I have always been a fan of the Lewis and Clar...</td>\n",
              "      <td>books.json.gz</td>\n",
              "      <td>5.0</td>\n",
              "      <td>529</td>\n",
              "    </tr>\n",
              "    <tr>\n",
              "      <th>1</th>\n",
              "      <td>A11OTLEDSW8ZXD</td>\n",
              "      <td>44</td>\n",
              "      <td>44</td>\n",
              "      <td>I started reading this book during a three-wee...</td>\n",
              "      <td>books.json.gz</td>\n",
              "      <td>4.0</td>\n",
              "      <td>193</td>\n",
              "    </tr>\n",
              "    <tr>\n",
              "      <th>2</th>\n",
              "      <td>A11OTLEDSW8ZXD</td>\n",
              "      <td>44</td>\n",
              "      <td>44</td>\n",
              "      <td>This cable is well-made and feels sturdier tha...</td>\n",
              "      <td>cell_phones_and_accessories.json.gz</td>\n",
              "      <td>4.0</td>\n",
              "      <td>109</td>\n",
              "    </tr>\n",
              "    <tr>\n",
              "      <th>3</th>\n",
              "      <td>A11OTLEDSW8ZXD</td>\n",
              "      <td>44</td>\n",
              "      <td>44</td>\n",
              "      <td>This kibble is expensive, but the cats like it...</td>\n",
              "      <td>pet_supplies.json.gz</td>\n",
              "      <td>5.0</td>\n",
              "      <td>100</td>\n",
              "    </tr>\n",
              "    <tr>\n",
              "      <th>4</th>\n",
              "      <td>A11OTLEDSW8ZXD</td>\n",
              "      <td>44</td>\n",
              "      <td>44</td>\n",
              "      <td>This device is exactly what we needed for our ...</td>\n",
              "      <td>electronics.json.gz</td>\n",
              "      <td>4.0</td>\n",
              "      <td>197</td>\n",
              "    </tr>\n",
              "    <tr>\n",
              "      <th>5</th>\n",
              "      <td>A11OTLEDSW8ZXD</td>\n",
              "      <td>44</td>\n",
              "      <td>44</td>\n",
              "      <td>These beef hides are quite the treat.  I like ...</td>\n",
              "      <td>pet_supplies.json.gz</td>\n",
              "      <td>5.0</td>\n",
              "      <td>130</td>\n",
              "    </tr>\n",
              "    <tr>\n",
              "      <th>6</th>\n",
              "      <td>A11OTLEDSW8ZXD</td>\n",
              "      <td>44</td>\n",
              "      <td>44</td>\n",
              "      <td>Reading this memoir was quite a surprise.  It ...</td>\n",
              "      <td>books.json.gz</td>\n",
              "      <td>4.0</td>\n",
              "      <td>393</td>\n",
              "    </tr>\n",
              "    <tr>\n",
              "      <th>7</th>\n",
              "      <td>A11OTLEDSW8ZXD</td>\n",
              "      <td>44</td>\n",
              "      <td>44</td>\n",
              "      <td>Being a born Hoosier and having graduated from...</td>\n",
              "      <td>books.json.gz</td>\n",
              "      <td>4.0</td>\n",
              "      <td>382</td>\n",
              "    </tr>\n",
              "    <tr>\n",
              "      <th>8</th>\n",
              "      <td>A11OTLEDSW8ZXD</td>\n",
              "      <td>44</td>\n",
              "      <td>44</td>\n",
              "      <td>This is a surprisingly good first novel.  Whil...</td>\n",
              "      <td>books.json.gz</td>\n",
              "      <td>5.0</td>\n",
              "      <td>140</td>\n",
              "    </tr>\n",
              "    <tr>\n",
              "      <th>9</th>\n",
              "      <td>A11OTLEDSW8ZXD</td>\n",
              "      <td>44</td>\n",
              "      <td>44</td>\n",
              "      <td>My first impression of this lens was its weigh...</td>\n",
              "      <td>electronics.json.gz</td>\n",
              "      <td>3.0</td>\n",
              "      <td>348</td>\n",
              "    </tr>\n",
              "  </tbody>\n",
              "</table>\n",
              "</div>\n",
              "      <button class=\"colab-df-convert\" onclick=\"convertToInteractive('df-86c98b56-0781-4143-b8c4-a4ba118cd080')\"\n",
              "              title=\"Convert this dataframe to an interactive table.\"\n",
              "              style=\"display:none;\">\n",
              "        \n",
              "  <svg xmlns=\"http://www.w3.org/2000/svg\" height=\"24px\"viewBox=\"0 0 24 24\"\n",
              "       width=\"24px\">\n",
              "    <path d=\"M0 0h24v24H0V0z\" fill=\"none\"/>\n",
              "    <path d=\"M18.56 5.44l.94 2.06.94-2.06 2.06-.94-2.06-.94-.94-2.06-.94 2.06-2.06.94zm-11 1L8.5 8.5l.94-2.06 2.06-.94-2.06-.94L8.5 2.5l-.94 2.06-2.06.94zm10 10l.94 2.06.94-2.06 2.06-.94-2.06-.94-.94-2.06-.94 2.06-2.06.94z\"/><path d=\"M17.41 7.96l-1.37-1.37c-.4-.4-.92-.59-1.43-.59-.52 0-1.04.2-1.43.59L10.3 9.45l-7.72 7.72c-.78.78-.78 2.05 0 2.83L4 21.41c.39.39.9.59 1.41.59.51 0 1.02-.2 1.41-.59l7.78-7.78 2.81-2.81c.8-.78.8-2.07 0-2.86zM5.41 20L4 18.59l7.72-7.72 1.47 1.35L5.41 20z\"/>\n",
              "  </svg>\n",
              "      </button>\n",
              "      \n",
              "  <style>\n",
              "    .colab-df-container {\n",
              "      display:flex;\n",
              "      flex-wrap:wrap;\n",
              "      gap: 12px;\n",
              "    }\n",
              "\n",
              "    .colab-df-convert {\n",
              "      background-color: #E8F0FE;\n",
              "      border: none;\n",
              "      border-radius: 50%;\n",
              "      cursor: pointer;\n",
              "      display: none;\n",
              "      fill: #1967D2;\n",
              "      height: 32px;\n",
              "      padding: 0 0 0 0;\n",
              "      width: 32px;\n",
              "    }\n",
              "\n",
              "    .colab-df-convert:hover {\n",
              "      background-color: #E2EBFA;\n",
              "      box-shadow: 0px 1px 2px rgba(60, 64, 67, 0.3), 0px 1px 3px 1px rgba(60, 64, 67, 0.15);\n",
              "      fill: #174EA6;\n",
              "    }\n",
              "\n",
              "    [theme=dark] .colab-df-convert {\n",
              "      background-color: #3B4455;\n",
              "      fill: #D2E3FC;\n",
              "    }\n",
              "\n",
              "    [theme=dark] .colab-df-convert:hover {\n",
              "      background-color: #434B5C;\n",
              "      box-shadow: 0px 1px 3px 1px rgba(0, 0, 0, 0.15);\n",
              "      filter: drop-shadow(0px 1px 2px rgba(0, 0, 0, 0.3));\n",
              "      fill: #FFFFFF;\n",
              "    }\n",
              "  </style>\n",
              "\n",
              "      <script>\n",
              "        const buttonEl =\n",
              "          document.querySelector('#df-86c98b56-0781-4143-b8c4-a4ba118cd080 button.colab-df-convert');\n",
              "        buttonEl.style.display =\n",
              "          google.colab.kernel.accessAllowed ? 'block' : 'none';\n",
              "\n",
              "        async function convertToInteractive(key) {\n",
              "          const element = document.querySelector('#df-86c98b56-0781-4143-b8c4-a4ba118cd080');\n",
              "          const dataTable =\n",
              "            await google.colab.kernel.invokeFunction('convertToInteractive',\n",
              "                                                     [key], {});\n",
              "          if (!dataTable) return;\n",
              "\n",
              "          const docLinkHtml = 'Like what you see? Visit the ' +\n",
              "            '<a target=\"_blank\" href=https://colab.research.google.com/notebooks/data_table.ipynb>data table notebook</a>'\n",
              "            + ' to learn more about interactive tables.';\n",
              "          element.innerHTML = '';\n",
              "          dataTable['output_type'] = 'display_data';\n",
              "          await google.colab.output.renderOutput(dataTable, element);\n",
              "          const docLink = document.createElement('div');\n",
              "          docLink.innerHTML = docLinkHtml;\n",
              "          element.appendChild(docLink);\n",
              "        }\n",
              "      </script>\n",
              "    </div>\n",
              "  </div>\n",
              "  "
            ],
            "text/plain": [
              "           author  real_label  label  \\\n",
              "0  A11OTLEDSW8ZXD          44     44   \n",
              "1  A11OTLEDSW8ZXD          44     44   \n",
              "2  A11OTLEDSW8ZXD          44     44   \n",
              "3  A11OTLEDSW8ZXD          44     44   \n",
              "4  A11OTLEDSW8ZXD          44     44   \n",
              "5  A11OTLEDSW8ZXD          44     44   \n",
              "6  A11OTLEDSW8ZXD          44     44   \n",
              "7  A11OTLEDSW8ZXD          44     44   \n",
              "8  A11OTLEDSW8ZXD          44     44   \n",
              "9  A11OTLEDSW8ZXD          44     44   \n",
              "\n",
              "                                              review  \\\n",
              "0  I have always been a fan of the Lewis and Clar...   \n",
              "1  I started reading this book during a three-wee...   \n",
              "2  This cable is well-made and feels sturdier tha...   \n",
              "3  This kibble is expensive, but the cats like it...   \n",
              "4  This device is exactly what we needed for our ...   \n",
              "5  These beef hides are quite the treat.  I like ...   \n",
              "6  Reading this memoir was quite a surprise.  It ...   \n",
              "7  Being a born Hoosier and having graduated from...   \n",
              "8  This is a surprisingly good first novel.  Whil...   \n",
              "9  My first impression of this lens was its weigh...   \n",
              "\n",
              "                        product_domain  overall  #words  \n",
              "0                        books.json.gz      5.0     529  \n",
              "1                        books.json.gz      4.0     193  \n",
              "2  cell_phones_and_accessories.json.gz      4.0     109  \n",
              "3                 pet_supplies.json.gz      5.0     100  \n",
              "4                  electronics.json.gz      4.0     197  \n",
              "5                 pet_supplies.json.gz      5.0     130  \n",
              "6                        books.json.gz      4.0     393  \n",
              "7                        books.json.gz      4.0     382  \n",
              "8                        books.json.gz      5.0     140  \n",
              "9                  electronics.json.gz      3.0     348  "
            ]
          },
          "execution_count": 3,
          "metadata": {},
          "output_type": "execute_result"
        }
      ],
      "source": [
        "dataset=pd.read_csv(\"/content/drive/MyDrive/ASU/train.csv\")\n",
        "dataset.head(10)\n",
        "\n"
      ]
    },
    {
      "cell_type": "code",
      "execution_count": 4,
      "metadata": {
        "colab": {
          "base_uri": "https://localhost:8080/"
        },
        "id": "B9pq-A70gfgG",
        "outputId": "31bcfd8f-20a8-4efe-f9fb-95d1abafce17"
      },
      "outputs": [
        {
          "data": {
            "text/plain": [
              "100"
            ]
          },
          "execution_count": 4,
          "metadata": {},
          "output_type": "execute_result"
        }
      ],
      "source": [
        "len(dataset.real_label.unique())"
      ]
    },
    {
      "cell_type": "code",
      "execution_count": 5,
      "metadata": {
        "id": "X9mNxmcic6x3"
      },
      "outputs": [],
      "source": [
        "dataset_filtered=dataset.loc[:,['real_label','review']]"
      ]
    },
    {
      "cell_type": "code",
      "execution_count": 6,
      "metadata": {
        "colab": {
          "base_uri": "https://localhost:8080/",
          "height": 424
        },
        "id": "jYLP4SFw4JoF",
        "outputId": "7ca1e007-de56-4378-c05c-71c2c5fd89b7"
      },
      "outputs": [
        {
          "data": {
            "text/html": [
              "\n",
              "  <div id=\"df-80a23f1c-d083-4dc6-8f16-c4e56a852f98\">\n",
              "    <div class=\"colab-df-container\">\n",
              "      <div>\n",
              "<style scoped>\n",
              "    .dataframe tbody tr th:only-of-type {\n",
              "        vertical-align: middle;\n",
              "    }\n",
              "\n",
              "    .dataframe tbody tr th {\n",
              "        vertical-align: top;\n",
              "    }\n",
              "\n",
              "    .dataframe thead th {\n",
              "        text-align: right;\n",
              "    }\n",
              "</style>\n",
              "<table border=\"1\" class=\"dataframe\">\n",
              "  <thead>\n",
              "    <tr style=\"text-align: right;\">\n",
              "      <th></th>\n",
              "      <th>real_label</th>\n",
              "      <th>review</th>\n",
              "    </tr>\n",
              "  </thead>\n",
              "  <tbody>\n",
              "    <tr>\n",
              "      <th>0</th>\n",
              "      <td>44</td>\n",
              "      <td>I have always been a fan of the Lewis and Clar...</td>\n",
              "    </tr>\n",
              "    <tr>\n",
              "      <th>1</th>\n",
              "      <td>44</td>\n",
              "      <td>I started reading this book during a three-wee...</td>\n",
              "    </tr>\n",
              "    <tr>\n",
              "      <th>2</th>\n",
              "      <td>44</td>\n",
              "      <td>This cable is well-made and feels sturdier tha...</td>\n",
              "    </tr>\n",
              "    <tr>\n",
              "      <th>3</th>\n",
              "      <td>44</td>\n",
              "      <td>This kibble is expensive, but the cats like it...</td>\n",
              "    </tr>\n",
              "    <tr>\n",
              "      <th>4</th>\n",
              "      <td>44</td>\n",
              "      <td>This device is exactly what we needed for our ...</td>\n",
              "    </tr>\n",
              "    <tr>\n",
              "      <th>...</th>\n",
              "      <td>...</td>\n",
              "      <td>...</td>\n",
              "    </tr>\n",
              "    <tr>\n",
              "      <th>49995</th>\n",
              "      <td>46</td>\n",
              "      <td>Dumbo is one of disney's most beloved and clas...</td>\n",
              "    </tr>\n",
              "    <tr>\n",
              "      <th>49996</th>\n",
              "      <td>46</td>\n",
              "      <td>I haven't played anygood sport games yet and i...</td>\n",
              "    </tr>\n",
              "    <tr>\n",
              "      <th>49997</th>\n",
              "      <td>46</td>\n",
              "      <td>This game is loads of fun, i really liked this...</td>\n",
              "    </tr>\n",
              "    <tr>\n",
              "      <th>49998</th>\n",
              "      <td>46</td>\n",
              "      <td>Gabriel is one of the funniest comedians i've ...</td>\n",
              "    </tr>\n",
              "    <tr>\n",
              "      <th>49999</th>\n",
              "      <td>46</td>\n",
              "      <td>red tails is about the tuskegee airforce men w...</td>\n",
              "    </tr>\n",
              "  </tbody>\n",
              "</table>\n",
              "<p>50000 rows × 2 columns</p>\n",
              "</div>\n",
              "      <button class=\"colab-df-convert\" onclick=\"convertToInteractive('df-80a23f1c-d083-4dc6-8f16-c4e56a852f98')\"\n",
              "              title=\"Convert this dataframe to an interactive table.\"\n",
              "              style=\"display:none;\">\n",
              "        \n",
              "  <svg xmlns=\"http://www.w3.org/2000/svg\" height=\"24px\"viewBox=\"0 0 24 24\"\n",
              "       width=\"24px\">\n",
              "    <path d=\"M0 0h24v24H0V0z\" fill=\"none\"/>\n",
              "    <path d=\"M18.56 5.44l.94 2.06.94-2.06 2.06-.94-2.06-.94-.94-2.06-.94 2.06-2.06.94zm-11 1L8.5 8.5l.94-2.06 2.06-.94-2.06-.94L8.5 2.5l-.94 2.06-2.06.94zm10 10l.94 2.06.94-2.06 2.06-.94-2.06-.94-.94-2.06-.94 2.06-2.06.94z\"/><path d=\"M17.41 7.96l-1.37-1.37c-.4-.4-.92-.59-1.43-.59-.52 0-1.04.2-1.43.59L10.3 9.45l-7.72 7.72c-.78.78-.78 2.05 0 2.83L4 21.41c.39.39.9.59 1.41.59.51 0 1.02-.2 1.41-.59l7.78-7.78 2.81-2.81c.8-.78.8-2.07 0-2.86zM5.41 20L4 18.59l7.72-7.72 1.47 1.35L5.41 20z\"/>\n",
              "  </svg>\n",
              "      </button>\n",
              "      \n",
              "  <style>\n",
              "    .colab-df-container {\n",
              "      display:flex;\n",
              "      flex-wrap:wrap;\n",
              "      gap: 12px;\n",
              "    }\n",
              "\n",
              "    .colab-df-convert {\n",
              "      background-color: #E8F0FE;\n",
              "      border: none;\n",
              "      border-radius: 50%;\n",
              "      cursor: pointer;\n",
              "      display: none;\n",
              "      fill: #1967D2;\n",
              "      height: 32px;\n",
              "      padding: 0 0 0 0;\n",
              "      width: 32px;\n",
              "    }\n",
              "\n",
              "    .colab-df-convert:hover {\n",
              "      background-color: #E2EBFA;\n",
              "      box-shadow: 0px 1px 2px rgba(60, 64, 67, 0.3), 0px 1px 3px 1px rgba(60, 64, 67, 0.15);\n",
              "      fill: #174EA6;\n",
              "    }\n",
              "\n",
              "    [theme=dark] .colab-df-convert {\n",
              "      background-color: #3B4455;\n",
              "      fill: #D2E3FC;\n",
              "    }\n",
              "\n",
              "    [theme=dark] .colab-df-convert:hover {\n",
              "      background-color: #434B5C;\n",
              "      box-shadow: 0px 1px 3px 1px rgba(0, 0, 0, 0.15);\n",
              "      filter: drop-shadow(0px 1px 2px rgba(0, 0, 0, 0.3));\n",
              "      fill: #FFFFFF;\n",
              "    }\n",
              "  </style>\n",
              "\n",
              "      <script>\n",
              "        const buttonEl =\n",
              "          document.querySelector('#df-80a23f1c-d083-4dc6-8f16-c4e56a852f98 button.colab-df-convert');\n",
              "        buttonEl.style.display =\n",
              "          google.colab.kernel.accessAllowed ? 'block' : 'none';\n",
              "\n",
              "        async function convertToInteractive(key) {\n",
              "          const element = document.querySelector('#df-80a23f1c-d083-4dc6-8f16-c4e56a852f98');\n",
              "          const dataTable =\n",
              "            await google.colab.kernel.invokeFunction('convertToInteractive',\n",
              "                                                     [key], {});\n",
              "          if (!dataTable) return;\n",
              "\n",
              "          const docLinkHtml = 'Like what you see? Visit the ' +\n",
              "            '<a target=\"_blank\" href=https://colab.research.google.com/notebooks/data_table.ipynb>data table notebook</a>'\n",
              "            + ' to learn more about interactive tables.';\n",
              "          element.innerHTML = '';\n",
              "          dataTable['output_type'] = 'display_data';\n",
              "          await google.colab.output.renderOutput(dataTable, element);\n",
              "          const docLink = document.createElement('div');\n",
              "          docLink.innerHTML = docLinkHtml;\n",
              "          element.appendChild(docLink);\n",
              "        }\n",
              "      </script>\n",
              "    </div>\n",
              "  </div>\n",
              "  "
            ],
            "text/plain": [
              "       real_label                                             review\n",
              "0              44  I have always been a fan of the Lewis and Clar...\n",
              "1              44  I started reading this book during a three-wee...\n",
              "2              44  This cable is well-made and feels sturdier tha...\n",
              "3              44  This kibble is expensive, but the cats like it...\n",
              "4              44  This device is exactly what we needed for our ...\n",
              "...           ...                                                ...\n",
              "49995          46  Dumbo is one of disney's most beloved and clas...\n",
              "49996          46  I haven't played anygood sport games yet and i...\n",
              "49997          46  This game is loads of fun, i really liked this...\n",
              "49998          46  Gabriel is one of the funniest comedians i've ...\n",
              "49999          46  red tails is about the tuskegee airforce men w...\n",
              "\n",
              "[50000 rows x 2 columns]"
            ]
          },
          "execution_count": 6,
          "metadata": {},
          "output_type": "execute_result"
        }
      ],
      "source": [
        "#Input dataset\n",
        "dataset_filtered"
      ]
    },
    {
      "cell_type": "code",
      "execution_count": 7,
      "metadata": {
        "colab": {
          "base_uri": "https://localhost:8080/"
        },
        "id": "918jkbVoh_Y1",
        "outputId": "54c605a7-3a04-4f41-a456-63517d9916eb"
      },
      "outputs": [
        {
          "name": "stdout",
          "output_type": "stream",
          "text": [
            "There are 1 GPU(s) available.\n",
            "We will use the GPU: Tesla T4\n"
          ]
        }
      ],
      "source": [
        "import torch\n",
        "\n",
        "# If there's a GPU available...\n",
        "if torch.cuda.is_available():    \n",
        "\n",
        "    # Tell PyTorch to use the GPU.    \n",
        "    device = torch.device(\"cuda\")\n",
        "\n",
        "    print('There are %d GPU(s) available.' % torch.cuda.device_count())\n",
        "    n_gpu=torch.cuda.device_count()\n",
        "\n",
        "    print('We will use the GPU:', torch.cuda.get_device_name(0))\n",
        "\n",
        "# If not...\n",
        "else:\n",
        "    print('No GPU available, using the CPU instead.')\n",
        "    device = torch.device(\"cpu\")"
      ]
    },
    {
      "cell_type": "code",
      "execution_count": 8,
      "metadata": {
        "colab": {
          "base_uri": "https://localhost:8080/"
        },
        "id": "hy-HBiXjiE1g",
        "outputId": "045e274a-fb9e-4526-f2de-75b79cc8fb3a"
      },
      "outputs": [
        {
          "name": "stdout",
          "output_type": "stream",
          "text": [
            "Looking in indexes: https://pypi.org/simple, https://us-python.pkg.dev/colab-wheels/public/simple/\n",
            "Collecting transformers\n",
            "  Downloading transformers-4.24.0-py3-none-any.whl (5.5 MB)\n",
            "\u001b[K     |████████████████████████████████| 5.5 MB 15.1 MB/s \n",
            "\u001b[?25hRequirement already satisfied: packaging>=20.0 in /usr/local/lib/python3.7/dist-packages (from transformers) (21.3)\n",
            "Collecting tokenizers!=0.11.3,<0.14,>=0.11.1\n",
            "  Downloading tokenizers-0.13.2-cp37-cp37m-manylinux_2_17_x86_64.manylinux2014_x86_64.whl (7.6 MB)\n",
            "\u001b[K     |████████████████████████████████| 7.6 MB 46.9 MB/s \n",
            "\u001b[?25hRequirement already satisfied: numpy>=1.17 in /usr/local/lib/python3.7/dist-packages (from transformers) (1.21.6)\n",
            "Requirement already satisfied: requests in /usr/local/lib/python3.7/dist-packages (from transformers) (2.23.0)\n",
            "Requirement already satisfied: regex!=2019.12.17 in /usr/local/lib/python3.7/dist-packages (from transformers) (2022.6.2)\n",
            "Collecting huggingface-hub<1.0,>=0.10.0\n",
            "  Downloading huggingface_hub-0.11.0-py3-none-any.whl (182 kB)\n",
            "\u001b[K     |████████████████████████████████| 182 kB 76.4 MB/s \n",
            "\u001b[?25hRequirement already satisfied: tqdm>=4.27 in /usr/local/lib/python3.7/dist-packages (from transformers) (4.64.1)\n",
            "Requirement already satisfied: importlib-metadata in /usr/local/lib/python3.7/dist-packages (from transformers) (4.13.0)\n",
            "Requirement already satisfied: pyyaml>=5.1 in /usr/local/lib/python3.7/dist-packages (from transformers) (6.0)\n",
            "Requirement already satisfied: filelock in /usr/local/lib/python3.7/dist-packages (from transformers) (3.8.0)\n",
            "Requirement already satisfied: typing-extensions>=3.7.4.3 in /usr/local/lib/python3.7/dist-packages (from huggingface-hub<1.0,>=0.10.0->transformers) (4.1.1)\n",
            "Requirement already satisfied: pyparsing!=3.0.5,>=2.0.2 in /usr/local/lib/python3.7/dist-packages (from packaging>=20.0->transformers) (3.0.9)\n",
            "Requirement already satisfied: zipp>=0.5 in /usr/local/lib/python3.7/dist-packages (from importlib-metadata->transformers) (3.10.0)\n",
            "Requirement already satisfied: chardet<4,>=3.0.2 in /usr/local/lib/python3.7/dist-packages (from requests->transformers) (3.0.4)\n",
            "Requirement already satisfied: idna<3,>=2.5 in /usr/local/lib/python3.7/dist-packages (from requests->transformers) (2.10)\n",
            "Requirement already satisfied: certifi>=2017.4.17 in /usr/local/lib/python3.7/dist-packages (from requests->transformers) (2022.9.24)\n",
            "Requirement already satisfied: urllib3!=1.25.0,!=1.25.1,<1.26,>=1.21.1 in /usr/local/lib/python3.7/dist-packages (from requests->transformers) (1.24.3)\n",
            "Installing collected packages: tokenizers, huggingface-hub, transformers\n",
            "Successfully installed huggingface-hub-0.11.0 tokenizers-0.13.2 transformers-4.24.0\n"
          ]
        }
      ],
      "source": [
        "!pip install transformers"
      ]
    },
    {
      "cell_type": "code",
      "execution_count": 9,
      "metadata": {
        "id": "6BZYtNIG-YG9"
      },
      "outputs": [],
      "source": [
        "# from transformers import RobertaTokenizer,BertTokenizer, AutoConfig, AutoModelForSequenceClassification, AutoTokenizer\n",
        "# from transformers import (\n",
        "#     AdamW,\n",
        "#     get_linear_schedule_with_warmup\n",
        "# )\n",
        "# \"\"\"\n",
        "# # Load the tokenizer.\n",
        "# print('Loading Roberta tokenizer...')\n",
        "# tokenizer = RobertaTokenizer.from_pretrained('roberta-base', do_lower_case=True)\"\"\"\n",
        "\n",
        "# tokenizer = AutoTokenizer.from_pretrained('bert-base-uncased')\n",
        "# config = AutoConfig.from_pretrained('bert-base-uncased',\n",
        "#                                             num_labels=101,\n",
        "#                                             hidden_dropout_prob=0.15)\n",
        "\n",
        "\n",
        "\n"
      ]
    },
    {
      "cell_type": "code",
      "execution_count": 10,
      "metadata": {
        "colab": {
          "base_uri": "https://localhost:8080/"
        },
        "id": "-71E7Ju8Kfdr",
        "outputId": "4f0e59cf-d918-40fa-e5a4-5695a8f03a1c"
      },
      "outputs": [
        {
          "data": {
            "text/plain": [
              "BertForSequenceClassification(\n",
              "  (bert): BertModel(\n",
              "    (embeddings): BertEmbeddings(\n",
              "      (word_embeddings): Embedding(30522, 768, padding_idx=0)\n",
              "      (position_embeddings): Embedding(512, 768)\n",
              "      (token_type_embeddings): Embedding(2, 768)\n",
              "      (LayerNorm): LayerNorm((768,), eps=1e-12, elementwise_affine=True)\n",
              "      (dropout): Dropout(p=0.15, inplace=False)\n",
              "    )\n",
              "    (encoder): BertEncoder(\n",
              "      (layer): ModuleList(\n",
              "        (0): BertLayer(\n",
              "          (attention): BertAttention(\n",
              "            (self): BertSelfAttention(\n",
              "              (query): Linear(in_features=768, out_features=768, bias=True)\n",
              "              (key): Linear(in_features=768, out_features=768, bias=True)\n",
              "              (value): Linear(in_features=768, out_features=768, bias=True)\n",
              "              (dropout): Dropout(p=0.1, inplace=False)\n",
              "            )\n",
              "            (output): BertSelfOutput(\n",
              "              (dense): Linear(in_features=768, out_features=768, bias=True)\n",
              "              (LayerNorm): LayerNorm((768,), eps=1e-12, elementwise_affine=True)\n",
              "              (dropout): Dropout(p=0.15, inplace=False)\n",
              "            )\n",
              "          )\n",
              "          (intermediate): BertIntermediate(\n",
              "            (dense): Linear(in_features=768, out_features=3072, bias=True)\n",
              "            (intermediate_act_fn): GELUActivation()\n",
              "          )\n",
              "          (output): BertOutput(\n",
              "            (dense): Linear(in_features=3072, out_features=768, bias=True)\n",
              "            (LayerNorm): LayerNorm((768,), eps=1e-12, elementwise_affine=True)\n",
              "            (dropout): Dropout(p=0.15, inplace=False)\n",
              "          )\n",
              "        )\n",
              "        (1): BertLayer(\n",
              "          (attention): BertAttention(\n",
              "            (self): BertSelfAttention(\n",
              "              (query): Linear(in_features=768, out_features=768, bias=True)\n",
              "              (key): Linear(in_features=768, out_features=768, bias=True)\n",
              "              (value): Linear(in_features=768, out_features=768, bias=True)\n",
              "              (dropout): Dropout(p=0.1, inplace=False)\n",
              "            )\n",
              "            (output): BertSelfOutput(\n",
              "              (dense): Linear(in_features=768, out_features=768, bias=True)\n",
              "              (LayerNorm): LayerNorm((768,), eps=1e-12, elementwise_affine=True)\n",
              "              (dropout): Dropout(p=0.15, inplace=False)\n",
              "            )\n",
              "          )\n",
              "          (intermediate): BertIntermediate(\n",
              "            (dense): Linear(in_features=768, out_features=3072, bias=True)\n",
              "            (intermediate_act_fn): GELUActivation()\n",
              "          )\n",
              "          (output): BertOutput(\n",
              "            (dense): Linear(in_features=3072, out_features=768, bias=True)\n",
              "            (LayerNorm): LayerNorm((768,), eps=1e-12, elementwise_affine=True)\n",
              "            (dropout): Dropout(p=0.15, inplace=False)\n",
              "          )\n",
              "        )\n",
              "        (2): BertLayer(\n",
              "          (attention): BertAttention(\n",
              "            (self): BertSelfAttention(\n",
              "              (query): Linear(in_features=768, out_features=768, bias=True)\n",
              "              (key): Linear(in_features=768, out_features=768, bias=True)\n",
              "              (value): Linear(in_features=768, out_features=768, bias=True)\n",
              "              (dropout): Dropout(p=0.1, inplace=False)\n",
              "            )\n",
              "            (output): BertSelfOutput(\n",
              "              (dense): Linear(in_features=768, out_features=768, bias=True)\n",
              "              (LayerNorm): LayerNorm((768,), eps=1e-12, elementwise_affine=True)\n",
              "              (dropout): Dropout(p=0.15, inplace=False)\n",
              "            )\n",
              "          )\n",
              "          (intermediate): BertIntermediate(\n",
              "            (dense): Linear(in_features=768, out_features=3072, bias=True)\n",
              "            (intermediate_act_fn): GELUActivation()\n",
              "          )\n",
              "          (output): BertOutput(\n",
              "            (dense): Linear(in_features=3072, out_features=768, bias=True)\n",
              "            (LayerNorm): LayerNorm((768,), eps=1e-12, elementwise_affine=True)\n",
              "            (dropout): Dropout(p=0.15, inplace=False)\n",
              "          )\n",
              "        )\n",
              "        (3): BertLayer(\n",
              "          (attention): BertAttention(\n",
              "            (self): BertSelfAttention(\n",
              "              (query): Linear(in_features=768, out_features=768, bias=True)\n",
              "              (key): Linear(in_features=768, out_features=768, bias=True)\n",
              "              (value): Linear(in_features=768, out_features=768, bias=True)\n",
              "              (dropout): Dropout(p=0.1, inplace=False)\n",
              "            )\n",
              "            (output): BertSelfOutput(\n",
              "              (dense): Linear(in_features=768, out_features=768, bias=True)\n",
              "              (LayerNorm): LayerNorm((768,), eps=1e-12, elementwise_affine=True)\n",
              "              (dropout): Dropout(p=0.15, inplace=False)\n",
              "            )\n",
              "          )\n",
              "          (intermediate): BertIntermediate(\n",
              "            (dense): Linear(in_features=768, out_features=3072, bias=True)\n",
              "            (intermediate_act_fn): GELUActivation()\n",
              "          )\n",
              "          (output): BertOutput(\n",
              "            (dense): Linear(in_features=3072, out_features=768, bias=True)\n",
              "            (LayerNorm): LayerNorm((768,), eps=1e-12, elementwise_affine=True)\n",
              "            (dropout): Dropout(p=0.15, inplace=False)\n",
              "          )\n",
              "        )\n",
              "        (4): BertLayer(\n",
              "          (attention): BertAttention(\n",
              "            (self): BertSelfAttention(\n",
              "              (query): Linear(in_features=768, out_features=768, bias=True)\n",
              "              (key): Linear(in_features=768, out_features=768, bias=True)\n",
              "              (value): Linear(in_features=768, out_features=768, bias=True)\n",
              "              (dropout): Dropout(p=0.1, inplace=False)\n",
              "            )\n",
              "            (output): BertSelfOutput(\n",
              "              (dense): Linear(in_features=768, out_features=768, bias=True)\n",
              "              (LayerNorm): LayerNorm((768,), eps=1e-12, elementwise_affine=True)\n",
              "              (dropout): Dropout(p=0.15, inplace=False)\n",
              "            )\n",
              "          )\n",
              "          (intermediate): BertIntermediate(\n",
              "            (dense): Linear(in_features=768, out_features=3072, bias=True)\n",
              "            (intermediate_act_fn): GELUActivation()\n",
              "          )\n",
              "          (output): BertOutput(\n",
              "            (dense): Linear(in_features=3072, out_features=768, bias=True)\n",
              "            (LayerNorm): LayerNorm((768,), eps=1e-12, elementwise_affine=True)\n",
              "            (dropout): Dropout(p=0.15, inplace=False)\n",
              "          )\n",
              "        )\n",
              "        (5): BertLayer(\n",
              "          (attention): BertAttention(\n",
              "            (self): BertSelfAttention(\n",
              "              (query): Linear(in_features=768, out_features=768, bias=True)\n",
              "              (key): Linear(in_features=768, out_features=768, bias=True)\n",
              "              (value): Linear(in_features=768, out_features=768, bias=True)\n",
              "              (dropout): Dropout(p=0.1, inplace=False)\n",
              "            )\n",
              "            (output): BertSelfOutput(\n",
              "              (dense): Linear(in_features=768, out_features=768, bias=True)\n",
              "              (LayerNorm): LayerNorm((768,), eps=1e-12, elementwise_affine=True)\n",
              "              (dropout): Dropout(p=0.15, inplace=False)\n",
              "            )\n",
              "          )\n",
              "          (intermediate): BertIntermediate(\n",
              "            (dense): Linear(in_features=768, out_features=3072, bias=True)\n",
              "            (intermediate_act_fn): GELUActivation()\n",
              "          )\n",
              "          (output): BertOutput(\n",
              "            (dense): Linear(in_features=3072, out_features=768, bias=True)\n",
              "            (LayerNorm): LayerNorm((768,), eps=1e-12, elementwise_affine=True)\n",
              "            (dropout): Dropout(p=0.15, inplace=False)\n",
              "          )\n",
              "        )\n",
              "        (6): BertLayer(\n",
              "          (attention): BertAttention(\n",
              "            (self): BertSelfAttention(\n",
              "              (query): Linear(in_features=768, out_features=768, bias=True)\n",
              "              (key): Linear(in_features=768, out_features=768, bias=True)\n",
              "              (value): Linear(in_features=768, out_features=768, bias=True)\n",
              "              (dropout): Dropout(p=0.1, inplace=False)\n",
              "            )\n",
              "            (output): BertSelfOutput(\n",
              "              (dense): Linear(in_features=768, out_features=768, bias=True)\n",
              "              (LayerNorm): LayerNorm((768,), eps=1e-12, elementwise_affine=True)\n",
              "              (dropout): Dropout(p=0.15, inplace=False)\n",
              "            )\n",
              "          )\n",
              "          (intermediate): BertIntermediate(\n",
              "            (dense): Linear(in_features=768, out_features=3072, bias=True)\n",
              "            (intermediate_act_fn): GELUActivation()\n",
              "          )\n",
              "          (output): BertOutput(\n",
              "            (dense): Linear(in_features=3072, out_features=768, bias=True)\n",
              "            (LayerNorm): LayerNorm((768,), eps=1e-12, elementwise_affine=True)\n",
              "            (dropout): Dropout(p=0.15, inplace=False)\n",
              "          )\n",
              "        )\n",
              "        (7): BertLayer(\n",
              "          (attention): BertAttention(\n",
              "            (self): BertSelfAttention(\n",
              "              (query): Linear(in_features=768, out_features=768, bias=True)\n",
              "              (key): Linear(in_features=768, out_features=768, bias=True)\n",
              "              (value): Linear(in_features=768, out_features=768, bias=True)\n",
              "              (dropout): Dropout(p=0.1, inplace=False)\n",
              "            )\n",
              "            (output): BertSelfOutput(\n",
              "              (dense): Linear(in_features=768, out_features=768, bias=True)\n",
              "              (LayerNorm): LayerNorm((768,), eps=1e-12, elementwise_affine=True)\n",
              "              (dropout): Dropout(p=0.15, inplace=False)\n",
              "            )\n",
              "          )\n",
              "          (intermediate): BertIntermediate(\n",
              "            (dense): Linear(in_features=768, out_features=3072, bias=True)\n",
              "            (intermediate_act_fn): GELUActivation()\n",
              "          )\n",
              "          (output): BertOutput(\n",
              "            (dense): Linear(in_features=3072, out_features=768, bias=True)\n",
              "            (LayerNorm): LayerNorm((768,), eps=1e-12, elementwise_affine=True)\n",
              "            (dropout): Dropout(p=0.15, inplace=False)\n",
              "          )\n",
              "        )\n",
              "        (8): BertLayer(\n",
              "          (attention): BertAttention(\n",
              "            (self): BertSelfAttention(\n",
              "              (query): Linear(in_features=768, out_features=768, bias=True)\n",
              "              (key): Linear(in_features=768, out_features=768, bias=True)\n",
              "              (value): Linear(in_features=768, out_features=768, bias=True)\n",
              "              (dropout): Dropout(p=0.1, inplace=False)\n",
              "            )\n",
              "            (output): BertSelfOutput(\n",
              "              (dense): Linear(in_features=768, out_features=768, bias=True)\n",
              "              (LayerNorm): LayerNorm((768,), eps=1e-12, elementwise_affine=True)\n",
              "              (dropout): Dropout(p=0.15, inplace=False)\n",
              "            )\n",
              "          )\n",
              "          (intermediate): BertIntermediate(\n",
              "            (dense): Linear(in_features=768, out_features=3072, bias=True)\n",
              "            (intermediate_act_fn): GELUActivation()\n",
              "          )\n",
              "          (output): BertOutput(\n",
              "            (dense): Linear(in_features=3072, out_features=768, bias=True)\n",
              "            (LayerNorm): LayerNorm((768,), eps=1e-12, elementwise_affine=True)\n",
              "            (dropout): Dropout(p=0.15, inplace=False)\n",
              "          )\n",
              "        )\n",
              "        (9): BertLayer(\n",
              "          (attention): BertAttention(\n",
              "            (self): BertSelfAttention(\n",
              "              (query): Linear(in_features=768, out_features=768, bias=True)\n",
              "              (key): Linear(in_features=768, out_features=768, bias=True)\n",
              "              (value): Linear(in_features=768, out_features=768, bias=True)\n",
              "              (dropout): Dropout(p=0.1, inplace=False)\n",
              "            )\n",
              "            (output): BertSelfOutput(\n",
              "              (dense): Linear(in_features=768, out_features=768, bias=True)\n",
              "              (LayerNorm): LayerNorm((768,), eps=1e-12, elementwise_affine=True)\n",
              "              (dropout): Dropout(p=0.15, inplace=False)\n",
              "            )\n",
              "          )\n",
              "          (intermediate): BertIntermediate(\n",
              "            (dense): Linear(in_features=768, out_features=3072, bias=True)\n",
              "            (intermediate_act_fn): GELUActivation()\n",
              "          )\n",
              "          (output): BertOutput(\n",
              "            (dense): Linear(in_features=3072, out_features=768, bias=True)\n",
              "            (LayerNorm): LayerNorm((768,), eps=1e-12, elementwise_affine=True)\n",
              "            (dropout): Dropout(p=0.15, inplace=False)\n",
              "          )\n",
              "        )\n",
              "        (10): BertLayer(\n",
              "          (attention): BertAttention(\n",
              "            (self): BertSelfAttention(\n",
              "              (query): Linear(in_features=768, out_features=768, bias=True)\n",
              "              (key): Linear(in_features=768, out_features=768, bias=True)\n",
              "              (value): Linear(in_features=768, out_features=768, bias=True)\n",
              "              (dropout): Dropout(p=0.1, inplace=False)\n",
              "            )\n",
              "            (output): BertSelfOutput(\n",
              "              (dense): Linear(in_features=768, out_features=768, bias=True)\n",
              "              (LayerNorm): LayerNorm((768,), eps=1e-12, elementwise_affine=True)\n",
              "              (dropout): Dropout(p=0.15, inplace=False)\n",
              "            )\n",
              "          )\n",
              "          (intermediate): BertIntermediate(\n",
              "            (dense): Linear(in_features=768, out_features=3072, bias=True)\n",
              "            (intermediate_act_fn): GELUActivation()\n",
              "          )\n",
              "          (output): BertOutput(\n",
              "            (dense): Linear(in_features=3072, out_features=768, bias=True)\n",
              "            (LayerNorm): LayerNorm((768,), eps=1e-12, elementwise_affine=True)\n",
              "            (dropout): Dropout(p=0.15, inplace=False)\n",
              "          )\n",
              "        )\n",
              "        (11): BertLayer(\n",
              "          (attention): BertAttention(\n",
              "            (self): BertSelfAttention(\n",
              "              (query): Linear(in_features=768, out_features=768, bias=True)\n",
              "              (key): Linear(in_features=768, out_features=768, bias=True)\n",
              "              (value): Linear(in_features=768, out_features=768, bias=True)\n",
              "              (dropout): Dropout(p=0.1, inplace=False)\n",
              "            )\n",
              "            (output): BertSelfOutput(\n",
              "              (dense): Linear(in_features=768, out_features=768, bias=True)\n",
              "              (LayerNorm): LayerNorm((768,), eps=1e-12, elementwise_affine=True)\n",
              "              (dropout): Dropout(p=0.15, inplace=False)\n",
              "            )\n",
              "          )\n",
              "          (intermediate): BertIntermediate(\n",
              "            (dense): Linear(in_features=768, out_features=3072, bias=True)\n",
              "            (intermediate_act_fn): GELUActivation()\n",
              "          )\n",
              "          (output): BertOutput(\n",
              "            (dense): Linear(in_features=3072, out_features=768, bias=True)\n",
              "            (LayerNorm): LayerNorm((768,), eps=1e-12, elementwise_affine=True)\n",
              "            (dropout): Dropout(p=0.15, inplace=False)\n",
              "          )\n",
              "        )\n",
              "      )\n",
              "    )\n",
              "    (pooler): BertPooler(\n",
              "      (dense): Linear(in_features=768, out_features=768, bias=True)\n",
              "      (activation): Tanh()\n",
              "    )\n",
              "  )\n",
              "  (dropout): Dropout(p=0.15, inplace=False)\n",
              "  (classifier): Linear(in_features=768, out_features=101, bias=True)\n",
              ")"
            ]
          },
          "execution_count": 10,
          "metadata": {},
          "output_type": "execute_result"
        }
      ],
      "source": [
        "\n",
        "from transformers import BertTokenizer, AutoConfig, AutoModelForSequenceClassification, AutoTokenizer\n",
        "from transformers import (\n",
        "    AdamW,\n",
        "    get_linear_schedule_with_warmup\n",
        ")\n",
        "# from transformers import BertForSequenceClassification, AdamW, BertConfig\n",
        "# from transformers import get_linear_schedule_with_warmup\n",
        "\n",
        "\n",
        "output_dir = '/content/drive/MyDrive/ASU/model_save/'\n",
        "\n",
        "tokenizer = AutoTokenizer.from_pretrained(output_dir+'tokenizer/')\n",
        "model = AutoModelForSequenceClassification.from_pretrained(output_dir)\n",
        "\n",
        "\n",
        "# Copy the model to the GPU.\n",
        "model.to(device)"
      ]
    },
    {
      "cell_type": "code",
      "execution_count": 11,
      "metadata": {
        "colab": {
          "base_uri": "https://localhost:8080/"
        },
        "id": "F1qImgeyib35",
        "outputId": "3ffdefa4-71c2-48ba-e5a8-8e924364bab2"
      },
      "outputs": [
        {
          "name": "stderr",
          "output_type": "stream",
          "text": [
            "Token indices sequence length is longer than the specified maximum sequence length for this model (646 > 512). Running this sequence through the model will result in indexing errors\n"
          ]
        },
        {
          "name": "stdout",
          "output_type": "stream",
          "text": [
            "Max sentence length in training data:  7283\n"
          ]
        }
      ],
      "source": [
        "#Max length\n",
        "\n",
        "max_len = 0\n",
        "len_list=[]\n",
        "# For every sentence...\n",
        "for r in dataset_filtered.values:\n",
        "    #print(r)\n",
        "\n",
        "    # Tokenize the text and add `[CLS]` and `[SEP]` tokens.\n",
        "    input_ids = tokenizer.encode(r[1], add_special_tokens=True)\n",
        "    len_list.append([r[0],len(input_ids)])\n",
        "    \n",
        "    # Update the maximum sentence length.\n",
        "    max_len = max(max_len, len(input_ids))\n",
        "\n",
        "print('Max sentence length in training data: ', max_len)"
      ]
    },
    {
      "cell_type": "code",
      "execution_count": 12,
      "metadata": {
        "id": "TJH5YBtl2TOY"
      },
      "outputs": [],
      "source": [
        "labels = dataset_filtered.real_label.values\n",
        "sentences=dataset_filtered.review.values"
      ]
    },
    {
      "cell_type": "code",
      "execution_count": 13,
      "metadata": {
        "colab": {
          "base_uri": "https://localhost:8080/"
        },
        "id": "oI8AQwQo9hYz",
        "outputId": "e4510ead-722c-4439-f7b8-edc87912cef3"
      },
      "outputs": [
        {
          "data": {
            "text/plain": [
              "array([ 0,  1,  2,  3,  4,  5,  6,  7,  8,  9, 10, 11, 12, 13, 14, 15, 16,\n",
              "       17, 18, 19, 20, 21, 22, 23, 24, 25, 26, 27, 28, 29, 30, 31, 32, 33,\n",
              "       34, 35, 36, 37, 38, 39, 40, 41, 42, 43, 44, 45, 46, 47, 48, 49, 50,\n",
              "       51, 52, 53, 54, 55, 56, 57, 58, 59, 60, 61, 62, 63, 64, 65, 66, 67,\n",
              "       68, 69, 70, 71, 72, 73, 74, 75, 76, 77, 78, 79, 80, 81, 82, 83, 84,\n",
              "       85, 86, 87, 88, 89, 90, 91, 92, 93, 94, 95, 96, 97, 98, 99])"
            ]
          },
          "execution_count": 13,
          "metadata": {},
          "output_type": "execute_result"
        }
      ],
      "source": [
        "np.unique(dataset_filtered.real_label.values)\n"
      ]
    },
    {
      "cell_type": "code",
      "execution_count": 14,
      "metadata": {
        "id": "pvL9x0Nz9IA7"
      },
      "outputs": [],
      "source": [
        "#labels = torch.tensor(labels)"
      ]
    },
    {
      "cell_type": "code",
      "execution_count": 15,
      "metadata": {
        "id": "oNK487VO9Ms9"
      },
      "outputs": [],
      "source": [
        "#labels = torch.nn.functional.one_hot(labels, num_classes = 100).to(torch.float)\n",
        "#print(labels)"
      ]
    },
    {
      "cell_type": "code",
      "execution_count": 16,
      "metadata": {
        "colab": {
          "base_uri": "https://localhost:8080/"
        },
        "id": "J8csXCK7-eXp",
        "outputId": "c4555a26-87c4-4e69-c1db-544410aec9b9"
      },
      "outputs": [
        {
          "name": "stdout",
          "output_type": "stream",
          "text": [
            " Original:  I have always been a fan of the Lewis and Clark (L&C) expedition and have read numerous books on that era.  I even road tripped along the Missouri River to the river's source in Montana (bypassing North Dakota and eastern Montana due to repeated tornadoes that summer), stopping along all the historical signs.  I'm a fan because I understand the courage it took to explore unknown lands with potential violent inhabitants, but I also understand the significance of American expansion to the Pacific via the Northwest passage.  Opening up these lands is one of Jefferson's biggest legacies as president.\n",
            "\n",
            "What Julie Fenster does here is not just summarize the L&C expedition, though.  She describes the young America at the turn of the 19th century.  Pioneers were moving westward, but Spain controlled the western lands. She gives short biographies of the players, the governors, kings and explorers of the era.  It was a time of great hostilities.  Fenster portrays Jefferson as a man fighting off the John Adams supporters; all was not going so well for Jefferson when he first became president.\n",
            "\n",
            "What readers get out of this very readable account is that the L&C expedition was not the only expedition going on at the time.  It's interesting to note that there were other courageous explorers willing to report back to Jefferson what the Spanish-held lands were like, and Fenster describes these in relation to the L&C expedition  The Hunter & Dunbar expedition was as valuable to Jefferson as the L&C one was, or the oft-plagued expedition of Zebulon Pike, or the courage of Thomas Freeman or Peter Custis.  All these men deserve their fifteen minutes of fame, and Fenster delivers a fast-paced narrative to tell the more complete story of a young America restless to explore and dominate its western boundaries.  If it hadn't been for the expense of the Napoleonic wars in western Europe, France and Spain may have had different visions of their mission in the New World.\n",
            "\n",
            "For those who are well-versed in the L&C expedition, it's well-known among those scholars that Lewis and Clark were not the first white men to traverse\n",
            "the Missouri River.  There were many French trappers and a few lone Spaniards who had made contact with the native tribes, and who unknowingly spread communicable diseases to these vulnerable people and decimated entire villages.  Fenster tries to bring this into perspective here, as L&C did not meet any hostile natives until they came among the Mandan.  Entire villages south of them were abandoned due to diseases the white settlers had brought to the region.\n",
            "\n",
            "This is a very readable narrative of Jefferson's goal to get the western lands explored.  There are a lot of names dropped early on to give the curious reader a perspective.  Spain and the young United States almost went to war over the status of New Orleans and the Louisiana territory, but the Napoleonic wars sidetracked the kings in Europe.  Many of the explorers in this book fall along the wayside in American history, but Fenster gives credit to all these men and help the history buff see that L&C were not the only expedition exploring unchartered waters.\n",
            "Tokenized:  ['i', 'have', 'always', 'been', 'a', 'fan', 'of', 'the', 'lewis', 'and', 'clark', '(', 'l', '&', 'c', ')', 'expedition', 'and', 'have', 'read', 'numerous', 'books', 'on', 'that', 'era', '.', 'i', 'even', 'road', 'tripped', 'along', 'the', 'missouri', 'river', 'to', 'the', 'river', \"'\", 's', 'source', 'in', 'montana', '(', 'bypass', '##ing', 'north', 'dakota', 'and', 'eastern', 'montana', 'due', 'to', 'repeated', 'tornadoes', 'that', 'summer', ')', ',', 'stopping', 'along', 'all', 'the', 'historical', 'signs', '.', 'i', \"'\", 'm', 'a', 'fan', 'because', 'i', 'understand', 'the', 'courage', 'it', 'took', 'to', 'explore', 'unknown', 'lands', 'with', 'potential', 'violent', 'inhabitants', ',', 'but', 'i', 'also', 'understand', 'the', 'significance', 'of', 'american', 'expansion', 'to', 'the', 'pacific', 'via', 'the', 'northwest', 'passage', '.', 'opening', 'up', 'these', 'lands', 'is', 'one', 'of', 'jefferson', \"'\", 's', 'biggest', 'leg', '##acies', 'as', 'president', '.', 'what', 'julie', 'fen', '##ster', 'does', 'here', 'is', 'not', 'just', 'sum', '##mar', '##ize', 'the', 'l', '&', 'c', 'expedition', ',', 'though', '.', 'she', 'describes', 'the', 'young', 'america', 'at', 'the', 'turn', 'of', 'the', '19th', 'century', '.', 'pioneers', 'were', 'moving', 'westward', ',', 'but', 'spain', 'controlled', 'the', 'western', 'lands', '.', 'she', 'gives', 'short', 'biographies', 'of', 'the', 'players', ',', 'the', 'governors', ',', 'kings', 'and', 'explorers', 'of', 'the', 'era', '.', 'it', 'was', 'a', 'time', 'of', 'great', 'hostilities', '.', 'fen', '##ster', 'portrays', 'jefferson', 'as', 'a', 'man', 'fighting', 'off', 'the', 'john', 'adams', 'supporters', ';', 'all', 'was', 'not', 'going', 'so', 'well', 'for', 'jefferson', 'when', 'he', 'first', 'became', 'president', '.', 'what', 'readers', 'get', 'out', 'of', 'this', 'very', 'read', '##able', 'account', 'is', 'that', 'the', 'l', '&', 'c', 'expedition', 'was', 'not', 'the', 'only', 'expedition', 'going', 'on', 'at', 'the', 'time', '.', 'it', \"'\", 's', 'interesting', 'to', 'note', 'that', 'there', 'were', 'other', 'courageous', 'explorers', 'willing', 'to', 'report', 'back', 'to', 'jefferson', 'what', 'the', 'spanish', '-', 'held', 'lands', 'were', 'like', ',', 'and', 'fen', '##ster', 'describes', 'these', 'in', 'relation', 'to', 'the', 'l', '&', 'c', 'expedition', 'the', 'hunter', '&', 'dunbar', 'expedition', 'was', 'as', 'valuable', 'to', 'jefferson', 'as', 'the', 'l', '&', 'c', 'one', 'was', ',', 'or', 'the', 'of', '##t', '-', 'plagued', 'expedition', 'of', 'ze', '##bu', '##lon', 'pike', ',', 'or', 'the', 'courage', 'of', 'thomas', 'freeman', 'or', 'peter', 'cu', '##stis', '.', 'all', 'these', 'men', 'deserve', 'their', 'fifteen', 'minutes', 'of', 'fame', ',', 'and', 'fen', '##ster', 'delivers', 'a', 'fast', '-', 'paced', 'narrative', 'to', 'tell', 'the', 'more', 'complete', 'story', 'of', 'a', 'young', 'america', 'restless', 'to', 'explore', 'and', 'dominate', 'its', 'western', 'boundaries', '.', 'if', 'it', 'hadn', \"'\", 't', 'been', 'for', 'the', 'expense', 'of', 'the', 'napoleonic', 'wars', 'in', 'western', 'europe', ',', 'france', 'and', 'spain', 'may', 'have', 'had', 'different', 'visions', 'of', 'their', 'mission', 'in', 'the', 'new', 'world', '.', 'for', 'those', 'who', 'are', 'well', '-', 'verse', '##d', 'in', 'the', 'l', '&', 'c', 'expedition', ',', 'it', \"'\", 's', 'well', '-', 'known', 'among', 'those', 'scholars', 'that', 'lewis', 'and', 'clark', 'were', 'not', 'the', 'first', 'white', 'men', 'to', 'traverse', 'the', 'missouri', 'river', '.', 'there', 'were', 'many', 'french', 'trap', '##pers', 'and', 'a', 'few', 'lone', 'spaniards', 'who', 'had', 'made', 'contact', 'with', 'the', 'native', 'tribes', ',', 'and', 'who', 'un', '##k', '##now', '##ingly', 'spread', 'com', '##mun', '##ica', '##ble', 'diseases', 'to', 'these', 'vulnerable', 'people', 'and', 'dec', '##imated', 'entire', 'villages', '.', 'fen', '##ster', 'tries', 'to', 'bring', 'this', 'into', 'perspective', 'here', ',', 'as', 'l', '&', 'c', 'did', 'not', 'meet', 'any', 'hostile', 'natives', 'until', 'they', 'came', 'among', 'the', 'man', '##dan', '.', 'entire', 'villages', 'south', 'of', 'them', 'were', 'abandoned', 'due', 'to', 'diseases', 'the', 'white', 'settlers', 'had', 'brought', 'to', 'the', 'region', '.', 'this', 'is', 'a', 'very', 'read', '##able', 'narrative', 'of', 'jefferson', \"'\", 's', 'goal', 'to', 'get', 'the', 'western', 'lands', 'explored', '.', 'there', 'are', 'a', 'lot', 'of', 'names', 'dropped', 'early', 'on', 'to', 'give', 'the', 'curious', 'reader', 'a', 'perspective', '.', 'spain', 'and', 'the', 'young', 'united', 'states', 'almost', 'went', 'to', 'war', 'over', 'the', 'status', 'of', 'new', 'orleans', 'and', 'the', 'louisiana', 'territory', ',', 'but', 'the', 'napoleonic', 'wars', 'side', '##tra', '##cked', 'the', 'kings', 'in', 'europe', '.', 'many', 'of', 'the', 'explorers', 'in', 'this', 'book', 'fall', 'along', 'the', 'ways', '##ide', 'in', 'american', 'history', ',', 'but', 'fen', '##ster', 'gives', 'credit', 'to', 'all', 'these', 'men', 'and', 'help', 'the', 'history', 'buff', 'see', 'that', 'l', '&', 'c', 'were', 'not', 'the', 'only', 'expedition', 'exploring', 'un', '##cha', '##rter', '##ed', 'waters', '.']\n",
            "Token IDs:  [1045, 2031, 2467, 2042, 1037, 5470, 1997, 1996, 4572, 1998, 5215, 1006, 1048, 1004, 1039, 1007, 5590, 1998, 2031, 3191, 3365, 2808, 2006, 2008, 3690, 1012, 1045, 2130, 2346, 21129, 2247, 1996, 5284, 2314, 2000, 1996, 2314, 1005, 1055, 3120, 1999, 8124, 1006, 11826, 2075, 2167, 7734, 1998, 2789, 8124, 2349, 2000, 5567, 22668, 2008, 2621, 1007, 1010, 7458, 2247, 2035, 1996, 3439, 5751, 1012, 1045, 1005, 1049, 1037, 5470, 2138, 1045, 3305, 1996, 8424, 2009, 2165, 2000, 8849, 4242, 4915, 2007, 4022, 6355, 4864, 1010, 2021, 1045, 2036, 3305, 1996, 7784, 1997, 2137, 4935, 2000, 1996, 3534, 3081, 1996, 4514, 6019, 1012, 3098, 2039, 2122, 4915, 2003, 2028, 1997, 7625, 1005, 1055, 5221, 4190, 20499, 2004, 2343, 1012, 2054, 7628, 21713, 6238, 2515, 2182, 2003, 2025, 2074, 7680, 7849, 4697, 1996, 1048, 1004, 1039, 5590, 1010, 2295, 1012, 2016, 5577, 1996, 2402, 2637, 2012, 1996, 2735, 1997, 1996, 3708, 2301, 1012, 13200, 2020, 3048, 15165, 1010, 2021, 3577, 4758, 1996, 2530, 4915, 1012, 2016, 3957, 2460, 22056, 1997, 1996, 2867, 1010, 1996, 11141, 1010, 5465, 1998, 19264, 1997, 1996, 3690, 1012, 2009, 2001, 1037, 2051, 1997, 2307, 17601, 1012, 21713, 6238, 17509, 7625, 2004, 1037, 2158, 3554, 2125, 1996, 2198, 5922, 6793, 1025, 2035, 2001, 2025, 2183, 2061, 2092, 2005, 7625, 2043, 2002, 2034, 2150, 2343, 1012, 2054, 8141, 2131, 2041, 1997, 2023, 2200, 3191, 3085, 4070, 2003, 2008, 1996, 1048, 1004, 1039, 5590, 2001, 2025, 1996, 2069, 5590, 2183, 2006, 2012, 1996, 2051, 1012, 2009, 1005, 1055, 5875, 2000, 3602, 2008, 2045, 2020, 2060, 26103, 19264, 5627, 2000, 3189, 2067, 2000, 7625, 2054, 1996, 3009, 1011, 2218, 4915, 2020, 2066, 1010, 1998, 21713, 6238, 5577, 2122, 1999, 7189, 2000, 1996, 1048, 1004, 1039, 5590, 1996, 4477, 1004, 23034, 5590, 2001, 2004, 7070, 2000, 7625, 2004, 1996, 1048, 1004, 1039, 2028, 2001, 1010, 2030, 1996, 1997, 2102, 1011, 17808, 5590, 1997, 27838, 8569, 7811, 12694, 1010, 2030, 1996, 8424, 1997, 2726, 11462, 2030, 2848, 12731, 29472, 1012, 2035, 2122, 2273, 10107, 2037, 5417, 2781, 1997, 4476, 1010, 1998, 21713, 6238, 18058, 1037, 3435, 1011, 13823, 7984, 2000, 2425, 1996, 2062, 3143, 2466, 1997, 1037, 2402, 2637, 15035, 2000, 8849, 1998, 16083, 2049, 2530, 7372, 1012, 2065, 2009, 2910, 1005, 1056, 2042, 2005, 1996, 10961, 1997, 1996, 18813, 5233, 1999, 2530, 2885, 1010, 2605, 1998, 3577, 2089, 2031, 2018, 2367, 12018, 1997, 2037, 3260, 1999, 1996, 2047, 2088, 1012, 2005, 2216, 2040, 2024, 2092, 1011, 7893, 2094, 1999, 1996, 1048, 1004, 1039, 5590, 1010, 2009, 1005, 1055, 2092, 1011, 2124, 2426, 2216, 5784, 2008, 4572, 1998, 5215, 2020, 2025, 1996, 2034, 2317, 2273, 2000, 20811, 1996, 5284, 2314, 1012, 2045, 2020, 2116, 2413, 8132, 7347, 1998, 1037, 2261, 10459, 20999, 2040, 2018, 2081, 3967, 2007, 1996, 3128, 6946, 1010, 1998, 2040, 4895, 2243, 19779, 15787, 3659, 4012, 23041, 5555, 3468, 7870, 2000, 2122, 8211, 2111, 1998, 11703, 20592, 2972, 4731, 1012, 21713, 6238, 5363, 2000, 3288, 2023, 2046, 7339, 2182, 1010, 2004, 1048, 1004, 1039, 2106, 2025, 3113, 2151, 10420, 12493, 2127, 2027, 2234, 2426, 1996, 2158, 7847, 1012, 2972, 4731, 2148, 1997, 2068, 2020, 4704, 2349, 2000, 7870, 1996, 2317, 7322, 2018, 2716, 2000, 1996, 2555, 1012, 2023, 2003, 1037, 2200, 3191, 3085, 7984, 1997, 7625, 1005, 1055, 3125, 2000, 2131, 1996, 2530, 4915, 10641, 1012, 2045, 2024, 1037, 2843, 1997, 3415, 3333, 2220, 2006, 2000, 2507, 1996, 8025, 8068, 1037, 7339, 1012, 3577, 1998, 1996, 2402, 2142, 2163, 2471, 2253, 2000, 2162, 2058, 1996, 3570, 1997, 2047, 5979, 1998, 1996, 5773, 3700, 1010, 2021, 1996, 18813, 5233, 2217, 6494, 18141, 1996, 5465, 1999, 2885, 1012, 2116, 1997, 1996, 19264, 1999, 2023, 2338, 2991, 2247, 1996, 3971, 5178, 1999, 2137, 2381, 1010, 2021, 21713, 6238, 3957, 4923, 2000, 2035, 2122, 2273, 1998, 2393, 1996, 2381, 23176, 2156, 2008, 1048, 1004, 1039, 2020, 2025, 1996, 2069, 5590, 11131, 4895, 7507, 19418, 2098, 5380, 1012]\n"
          ]
        }
      ],
      "source": [
        "# Print the original sentence.\n",
        "print(' Original: ', sentences[0])\n",
        "\n",
        "# Print the sentence split into tokens.\n",
        "print('Tokenized: ', tokenizer.tokenize(sentences[0]))\n",
        "\n",
        "# Print the sentence mapped to token ids.\n",
        "print('Token IDs: ', tokenizer.convert_tokens_to_ids(tokenizer.tokenize(sentences[0])))"
      ]
    },
    {
      "cell_type": "code",
      "execution_count": 17,
      "metadata": {
        "id": "6LWSQnh-UGQn"
      },
      "outputs": [],
      "source": [
        "input_ids = []\n",
        "attention_masks = []\n",
        "\n",
        "# For every sentence...\n",
        "for s in sentences:\n",
        "    # `encode_plus` will:\n",
        "    #   (1) Tokenize the sentence.\n",
        "    #   (2) Prepend the `[CLS]` token to the start.\n",
        "    #   (3) Append the `[SEP]` token to the end.\n",
        "    #   (4) Map tokens to their IDs.\n",
        "    #   (5) Pad or truncate the sentence to `max_length`\n",
        "    #   (6) Create attention masks for [PAD] tokens.\n",
        "    encoded_dict = tokenizer.encode_plus(\n",
        "                        s,                      # Sentence to encode.\n",
        "                        truncation=True,\n",
        "                        add_special_tokens = True, # Add '[CLS]' and '[SEP]'\n",
        "                        max_length = 512,           # Pad & truncate all sentences.\n",
        "                        padding='max_length',\n",
        "                        return_attention_mask = True,   # Construct attn. masks.\n",
        "                        return_tensors = 'pt',     # Return pytorch tensors.\n",
        "                        return_overflowing_tokens=False,\n",
        "                   )\n",
        "    \n",
        "    # Add the encoded sentence to the list.    \n",
        "    input_ids.append(encoded_dict['input_ids'])\n",
        "    \n",
        "    # And its attention mask (simply differentiates padding from non-padding).\n",
        "    attention_masks.append(encoded_dict['attention_mask'])\n",
        "\n",
        "# Convert the lists into tensors.\n",
        "input_ids = torch.cat(input_ids, dim=0)\n",
        "attention_masks = torch.cat(attention_masks, dim=0)\n",
        "labels = torch.tensor(labels)\n"
      ]
    },
    {
      "cell_type": "code",
      "execution_count": 18,
      "metadata": {
        "colab": {
          "base_uri": "https://localhost:8080/"
        },
        "id": "94sqHr36CdtB",
        "outputId": "5f0bdcfc-a75f-4048-890d-4a6a0b924ef5"
      },
      "outputs": [
        {
          "data": {
            "text/plain": [
              "tensor([  101,  1045,  2031,  2467,  2042,  1037,  5470,  1997,  1996,  4572,\n",
              "         1998,  5215,  1006,  1048,  1004,  1039,  1007,  5590,  1998,  2031,\n",
              "         3191,  3365,  2808,  2006,  2008,  3690,  1012,  1045,  2130,  2346,\n",
              "        21129,  2247,  1996,  5284,  2314,  2000,  1996,  2314,  1005,  1055,\n",
              "         3120,  1999,  8124,  1006, 11826,  2075,  2167,  7734,  1998,  2789,\n",
              "         8124,  2349,  2000,  5567, 22668,  2008,  2621,  1007,  1010,  7458,\n",
              "         2247,  2035,  1996,  3439,  5751,  1012,  1045,  1005,  1049,  1037,\n",
              "         5470,  2138,  1045,  3305,  1996,  8424,  2009,  2165,  2000,  8849,\n",
              "         4242,  4915,  2007,  4022,  6355,  4864,  1010,  2021,  1045,  2036,\n",
              "         3305,  1996,  7784,  1997,  2137,  4935,  2000,  1996,  3534,  3081,\n",
              "         1996,  4514,  6019,  1012,  3098,  2039,  2122,  4915,  2003,  2028,\n",
              "         1997,  7625,  1005,  1055,  5221,  4190, 20499,  2004,  2343,  1012,\n",
              "         2054,  7628, 21713,  6238,  2515,  2182,  2003,  2025,  2074,  7680,\n",
              "         7849,  4697,  1996,  1048,  1004,  1039,  5590,  1010,  2295,  1012,\n",
              "         2016,  5577,  1996,  2402,  2637,  2012,  1996,  2735,  1997,  1996,\n",
              "         3708,  2301,  1012, 13200,  2020,  3048, 15165,  1010,  2021,  3577,\n",
              "         4758,  1996,  2530,  4915,  1012,  2016,  3957,  2460, 22056,  1997,\n",
              "         1996,  2867,  1010,  1996, 11141,  1010,  5465,  1998, 19264,  1997,\n",
              "         1996,  3690,  1012,  2009,  2001,  1037,  2051,  1997,  2307, 17601,\n",
              "         1012, 21713,  6238, 17509,  7625,  2004,  1037,  2158,  3554,  2125,\n",
              "         1996,  2198,  5922,  6793,  1025,  2035,  2001,  2025,  2183,  2061,\n",
              "         2092,  2005,  7625,  2043,  2002,  2034,  2150,  2343,  1012,  2054,\n",
              "         8141,  2131,  2041,  1997,  2023,  2200,  3191,  3085,  4070,  2003,\n",
              "         2008,  1996,  1048,  1004,  1039,  5590,  2001,  2025,  1996,  2069,\n",
              "         5590,  2183,  2006,  2012,  1996,  2051,  1012,  2009,  1005,  1055,\n",
              "         5875,  2000,  3602,  2008,  2045,  2020,  2060, 26103, 19264,  5627,\n",
              "         2000,  3189,  2067,  2000,  7625,  2054,  1996,  3009,  1011,  2218,\n",
              "         4915,  2020,  2066,  1010,  1998, 21713,  6238,  5577,  2122,  1999,\n",
              "         7189,  2000,  1996,  1048,  1004,  1039,  5590,  1996,  4477,  1004,\n",
              "        23034,  5590,  2001,  2004,  7070,  2000,  7625,  2004,  1996,  1048,\n",
              "         1004,  1039,  2028,  2001,  1010,  2030,  1996,  1997,  2102,  1011,\n",
              "        17808,  5590,  1997, 27838,  8569,  7811, 12694,  1010,  2030,  1996,\n",
              "         8424,  1997,  2726, 11462,  2030,  2848, 12731, 29472,  1012,  2035,\n",
              "         2122,  2273, 10107,  2037,  5417,  2781,  1997,  4476,  1010,  1998,\n",
              "        21713,  6238, 18058,  1037,  3435,  1011, 13823,  7984,  2000,  2425,\n",
              "         1996,  2062,  3143,  2466,  1997,  1037,  2402,  2637, 15035,  2000,\n",
              "         8849,  1998, 16083,  2049,  2530,  7372,  1012,  2065,  2009,  2910,\n",
              "         1005,  1056,  2042,  2005,  1996, 10961,  1997,  1996, 18813,  5233,\n",
              "         1999,  2530,  2885,  1010,  2605,  1998,  3577,  2089,  2031,  2018,\n",
              "         2367, 12018,  1997,  2037,  3260,  1999,  1996,  2047,  2088,  1012,\n",
              "         2005,  2216,  2040,  2024,  2092,  1011,  7893,  2094,  1999,  1996,\n",
              "         1048,  1004,  1039,  5590,  1010,  2009,  1005,  1055,  2092,  1011,\n",
              "         2124,  2426,  2216,  5784,  2008,  4572,  1998,  5215,  2020,  2025,\n",
              "         1996,  2034,  2317,  2273,  2000, 20811,  1996,  5284,  2314,  1012,\n",
              "         2045,  2020,  2116,  2413,  8132,  7347,  1998,  1037,  2261, 10459,\n",
              "        20999,  2040,  2018,  2081,  3967,  2007,  1996,  3128,  6946,  1010,\n",
              "         1998,  2040,  4895,  2243, 19779, 15787,  3659,  4012, 23041,  5555,\n",
              "         3468,  7870,  2000,  2122,  8211,  2111,  1998, 11703, 20592,  2972,\n",
              "         4731,  1012, 21713,  6238,  5363,  2000,  3288,  2023,  2046,  7339,\n",
              "         2182,  1010,  2004,  1048,  1004,  1039,  2106,  2025,  3113,  2151,\n",
              "        10420, 12493,  2127,  2027,  2234,  2426,  1996,  2158,  7847,  1012,\n",
              "         2972,   102])"
            ]
          },
          "execution_count": 18,
          "metadata": {},
          "output_type": "execute_result"
        }
      ],
      "source": [
        "input_ids[0]"
      ]
    },
    {
      "cell_type": "code",
      "execution_count": 19,
      "metadata": {
        "colab": {
          "base_uri": "https://localhost:8080/"
        },
        "id": "xlyteN-zJGuU",
        "outputId": "9e69e52e-dc31-40f7-cd17-b91658a28479"
      },
      "outputs": [
        {
          "data": {
            "text/plain": [
              "tensor([1, 1, 1, 1, 1, 1, 1, 1, 1, 1, 1, 1, 1, 1, 1, 1, 1, 1, 1, 1, 1, 1, 1, 1,\n",
              "        1, 1, 1, 1, 1, 1, 1, 1, 1, 1, 1, 1, 1, 1, 1, 1, 1, 1, 1, 1, 1, 1, 1, 1,\n",
              "        1, 1, 1, 1, 1, 1, 1, 1, 1, 1, 1, 1, 1, 1, 1, 1, 1, 1, 1, 1, 1, 1, 1, 1,\n",
              "        1, 1, 1, 1, 1, 1, 1, 1, 1, 1, 1, 1, 1, 1, 1, 1, 1, 1, 1, 1, 1, 1, 1, 1,\n",
              "        1, 1, 1, 1, 1, 1, 1, 1, 1, 1, 1, 1, 1, 1, 1, 1, 1, 1, 1, 1, 1, 1, 1, 1,\n",
              "        1, 1, 1, 1, 1, 1, 1, 1, 1, 1, 1, 1, 1, 1, 1, 1, 1, 1, 1, 1, 1, 1, 1, 1,\n",
              "        1, 1, 1, 1, 1, 1, 1, 1, 1, 1, 1, 1, 1, 1, 1, 1, 1, 1, 1, 1, 1, 1, 1, 1,\n",
              "        1, 1, 1, 1, 1, 1, 1, 1, 1, 1, 1, 1, 1, 1, 1, 1, 1, 1, 1, 1, 1, 1, 1, 1,\n",
              "        1, 1, 1, 1, 1, 1, 1, 1, 1, 1, 1, 1, 1, 1, 1, 1, 1, 1, 1, 1, 1, 1, 1, 1,\n",
              "        1, 1, 1, 1, 1, 1, 1, 1, 1, 1, 1, 1, 1, 1, 1, 1, 1, 1, 1, 1, 1, 1, 1, 1,\n",
              "        1, 1, 1, 1, 1, 1, 1, 1, 1, 1, 1, 1, 1, 1, 1, 1, 1, 1, 1, 1, 1, 1, 1, 1,\n",
              "        1, 1, 1, 1, 1, 1, 1, 1, 1, 1, 1, 1, 1, 1, 1, 1, 1, 1, 1, 1, 1, 1, 1, 1,\n",
              "        1, 1, 1, 1, 1, 1, 1, 1, 1, 1, 1, 1, 1, 1, 1, 1, 1, 1, 1, 1, 1, 1, 1, 1,\n",
              "        1, 1, 1, 1, 1, 1, 1, 1, 1, 1, 1, 1, 1, 1, 1, 1, 1, 1, 1, 1, 1, 1, 1, 1,\n",
              "        1, 1, 1, 1, 1, 1, 1, 1, 1, 1, 1, 1, 1, 1, 1, 1, 1, 1, 1, 1, 1, 1, 1, 1,\n",
              "        1, 1, 1, 1, 1, 1, 1, 1, 1, 1, 1, 1, 1, 1, 1, 1, 1, 1, 1, 1, 1, 1, 1, 1,\n",
              "        1, 1, 1, 1, 1, 1, 1, 1, 1, 1, 1, 1, 1, 1, 1, 1, 1, 1, 1, 1, 1, 1, 1, 1,\n",
              "        1, 1, 1, 1, 1, 1, 1, 1, 1, 1, 1, 1, 1, 1, 1, 1, 1, 1, 1, 1, 1, 1, 1, 1,\n",
              "        1, 1, 1, 1, 1, 1, 1, 1, 1, 1, 1, 1, 1, 1, 1, 1, 1, 1, 1, 1, 1, 1, 1, 1,\n",
              "        1, 1, 1, 1, 1, 1, 1, 1, 1, 1, 1, 1, 1, 1, 1, 1, 1, 1, 1, 1, 1, 1, 1, 1,\n",
              "        1, 1, 1, 1, 1, 1, 1, 1, 1, 1, 1, 1, 1, 1, 1, 1, 1, 1, 1, 1, 1, 1, 1, 1,\n",
              "        1, 1, 1, 1, 1, 1, 1, 1])"
            ]
          },
          "execution_count": 19,
          "metadata": {},
          "output_type": "execute_result"
        }
      ],
      "source": [
        "attention_masks[0]"
      ]
    },
    {
      "cell_type": "code",
      "execution_count": 20,
      "metadata": {
        "colab": {
          "base_uri": "https://localhost:8080/"
        },
        "id": "vPrzId6-VHRr",
        "outputId": "1aa8d233-f239-43b0-9fd7-e44ecc6a265b"
      },
      "outputs": [
        {
          "name": "stdout",
          "output_type": "stream",
          "text": [
            "45,000 training samples\n",
            "5,000 validation samples\n"
          ]
        }
      ],
      "source": [
        "from torch.utils.data import TensorDataset, random_split\n",
        "\n",
        "# Combine the training inputs into a TensorDataset.\n",
        "dataset = TensorDataset(input_ids, attention_masks, labels)\n",
        "\n",
        "# Create a 90-10 train-validation split.\n",
        "\n",
        "# Calculate the number of samples to include in each set.\n",
        "train_size = int(0.9 * len(dataset))\n",
        "val_size = len(dataset) - train_size\n",
        "\n",
        "generator = torch.Generator()\n",
        "generator.manual_seed(44)\n",
        "\n",
        "# Divide the dataset by randomly selecting samples.\n",
        "train_dataset, val_dataset = random_split(dataset, [train_size, val_size], generator=generator)\n",
        "\n",
        "print('{:>5,} training samples'.format(train_size))\n",
        "print('{:>5,} validation samples'.format(val_size))"
      ]
    },
    {
      "cell_type": "code",
      "execution_count": 21,
      "metadata": {
        "id": "S28rl4_sW-Tg"
      },
      "outputs": [],
      "source": [
        "from torch.utils.data import DataLoader, RandomSampler, SequentialSampler\n",
        "\n",
        "# The DataLoader needs to know our batch size for training, so we specify it \n",
        "# here. For fine-tuning BERT on a specific task, the authors recommend a batch \n",
        "# size of 16 or 32.\n",
        "batch_size = 16\n",
        "\n",
        "# Create the DataLoaders for our training and validation sets.\n",
        "# We'll take training samples in random order. \n",
        "train_dataloader = DataLoader(\n",
        "            train_dataset,  # The training samples.\n",
        "            sampler = RandomSampler(train_dataset), # Select batches randomly\n",
        "            batch_size = batch_size, # Trains with this batch size.\n",
        "            num_workers=2\n",
        "        )\n",
        "\n",
        "# For validation the order doesn't matter, so we'll just read them sequentially.\n",
        "validation_dataloader = DataLoader(\n",
        "            val_dataset, # The validation samples.\n",
        "            sampler = SequentialSampler(val_dataset), # Pull out batches sequentially.\n",
        "            batch_size = batch_size, # Evaluate with this batch size.\n",
        "            num_workers=2\n",
        "        )"
      ]
    },
    {
      "cell_type": "code",
      "execution_count": 22,
      "metadata": {
        "id": "FFC8OPPtXj-o"
      },
      "outputs": [],
      "source": [
        "# from transformers import RobertaForSequenceClassification,BertForSequenceClassification, AdamW, BertConfig\n",
        "\n",
        "# # Load BertForSequenceClassification, the pretrained BERT model with a single \n",
        "# # linear classification layer on top. \n",
        "\n",
        "# model = AutoModelForSequenceClassification.from_pretrained('bert-base-uncased', config=config)\n",
        "\n",
        "# \"\"\"\n",
        "# model = RobertaForSequenceClassification.from_pretrained(\n",
        "#     \"roberta-base\", # Use the 12-layer BERT model, with an uncased vocab.\n",
        "#     num_labels = 100, # The number of output labels--2 for binary classification.\n",
        "#              # You can increase this for multi-class tasks.   \n",
        "#     output_attentions = False, # Whether the model returns attentions weights.\n",
        "#     output_hidden_states = True, # Whether the model returns all hidden-states.\n",
        "# )\"\"\"\n",
        "\n",
        "# # Tell pytorch to run this model on the GPU.\n",
        "# model.to(device)"
      ]
    },
    {
      "cell_type": "code",
      "execution_count": 23,
      "metadata": {
        "colab": {
          "base_uri": "https://localhost:8080/"
        },
        "id": "tyfOCEN1Xryv",
        "outputId": "765a700b-5978-44f6-e116-c4d1436c2b4f"
      },
      "outputs": [
        {
          "name": "stderr",
          "output_type": "stream",
          "text": [
            "/usr/local/lib/python3.7/dist-packages/transformers/optimization.py:310: FutureWarning: This implementation of AdamW is deprecated and will be removed in a future version. Use the PyTorch implementation torch.optim.AdamW instead, or set `no_deprecation_warning=True` to disable this warning\n",
            "  FutureWarning,\n"
          ]
        }
      ],
      "source": [
        "# Note: AdamW is a class from the huggingface library (as opposed to pytorch) \n",
        "# I believe the 'W' stands for 'Weight Decay fix\"\n",
        "optimizer = AdamW(model.parameters(),\n",
        "                  lr = 5e-5, # args.learning_rate - default is 5e-5, our notebook had 2e-5\n",
        "                  eps = 1e-8 # args.adam_epsilon  - default is 1e-8.\n",
        "                )\n"
      ]
    },
    {
      "cell_type": "code",
      "execution_count": 24,
      "metadata": {
        "id": "0w5GFlvKYPSt"
      },
      "outputs": [],
      "source": [
        "from transformers import get_linear_schedule_with_warmup\n",
        "\n",
        "# Number of training epochs. The BERT authors recommend between 2 and 4. \n",
        "# We chose to run for 4, but we'll see later that this may be over-fitting the\n",
        "# training data.\n",
        "epochs = 2\n",
        "\n",
        "# Total number of training steps is [number of batches] x [number of epochs]. \n",
        "# (Note that this is not the same as the number of training samples).\n",
        "#total_steps = len(train_dataloader) * epochs\n",
        "gradient_accumulation_steps=1\n",
        "n_gpu=1\n",
        "#total_steps= ((len(train_dataloader) // (batch_size * max(1, n_gpu)))// gradient_accumulation_steps* float(epochs))\n",
        "total_steps = len(train_dataloader) * epochs\n",
        "\n",
        "# Create the learning rate scheduler.\n",
        "scheduler = get_linear_schedule_with_warmup(optimizer, \n",
        "                                            num_warmup_steps = 0, # Default value in run_glue.py\n",
        "                                            num_training_steps = total_steps)"
      ]
    },
    {
      "cell_type": "code",
      "execution_count": 25,
      "metadata": {
        "id": "Kw9o2H90ZOV6"
      },
      "outputs": [],
      "source": [
        "import numpy as np\n",
        "\n",
        "# Function to calculate the accuracy of our predictions vs labels\n",
        "def flat_accuracy(preds, labels):\n",
        "    pred_flat = np.argmax(preds, axis=1).flatten()\n",
        "    labels_flat = labels.flatten()\n",
        "    return np.sum(pred_flat == labels_flat) / len(labels_flat)"
      ]
    },
    {
      "cell_type": "code",
      "execution_count": 26,
      "metadata": {
        "id": "ETl2dVFAZRQ9"
      },
      "outputs": [],
      "source": [
        "import time\n",
        "import datetime\n",
        "\n",
        "def format_time(elapsed):\n",
        "    '''\n",
        "    Takes a time in seconds and returns a string hh:mm:ss\n",
        "    '''\n",
        "    # Round to the nearest second.\n",
        "    elapsed_rounded = int(round((elapsed)))\n",
        "    \n",
        "    # Format as hh:mm:ss\n",
        "    return str(datetime.timedelta(seconds=elapsed_rounded))\n"
      ]
    },
    {
      "cell_type": "code",
      "execution_count": 26,
      "metadata": {
        "id": "g3VSWJY-BIEQ"
      },
      "outputs": [],
      "source": []
    },
    {
      "cell_type": "code",
      "execution_count": 26,
      "metadata": {
        "id": "66SqB6uMBIHx"
      },
      "outputs": [],
      "source": []
    },
    {
      "cell_type": "code",
      "execution_count": 26,
      "metadata": {
        "id": "zrxmddWgA4cS"
      },
      "outputs": [],
      "source": []
    },
    {
      "cell_type": "code",
      "execution_count": 27,
      "metadata": {
        "id": "5H4s_OnkA4e0"
      },
      "outputs": [],
      "source": [
        "# x = torch.randn(1)"
      ]
    },
    {
      "cell_type": "code",
      "execution_count": 28,
      "metadata": {
        "id": "NNBdfXbKBFq4"
      },
      "outputs": [],
      "source": [
        "# x"
      ]
    },
    {
      "cell_type": "code",
      "execution_count": 29,
      "metadata": {
        "id": "gCQMjgO9bSt0"
      },
      "outputs": [],
      "source": [
        "# r =nn.ReLU()"
      ]
    },
    {
      "cell_type": "code",
      "execution_count": 30,
      "metadata": {
        "id": "JNl5tVWibUK5"
      },
      "outputs": [],
      "source": [
        "# r(x)"
      ]
    },
    {
      "cell_type": "code",
      "execution_count": 31,
      "metadata": {
        "id": "v7OfPiRtA4hE"
      },
      "outputs": [],
      "source": [
        "# torch.cat((x, x, x), 0)"
      ]
    },
    {
      "cell_type": "code",
      "execution_count": 32,
      "metadata": {
        "id": "0RLH0u9jaqMm"
      },
      "outputs": [],
      "source": [
        "#  eps = 1e-07\n",
        "#  print(eps)"
      ]
    },
    {
      "cell_type": "code",
      "execution_count": 32,
      "metadata": {
        "id": "ZXgwP-TPaqRy"
      },
      "outputs": [],
      "source": []
    },
    {
      "cell_type": "code",
      "execution_count": 32,
      "metadata": {
        "id": "iBTEnFlRaqTt"
      },
      "outputs": [],
      "source": []
    },
    {
      "cell_type": "code",
      "execution_count": 32,
      "metadata": {
        "id": "OLkwap5waqXB"
      },
      "outputs": [],
      "source": []
    },
    {
      "cell_type": "code",
      "execution_count": 32,
      "metadata": {
        "id": "z5rW50TJBHaX"
      },
      "outputs": [],
      "source": []
    },
    {
      "cell_type": "code",
      "execution_count": 33,
      "metadata": {
        "id": "kGPX_c8JBHdy"
      },
      "outputs": [],
      "source": [
        "import torch.nn as nn"
      ]
    },
    {
      "cell_type": "code",
      "execution_count": 34,
      "metadata": {
        "id": "RLrdCbDju7W_"
      },
      "outputs": [],
      "source": [
        "import random\n",
        "seed_val = 44\n",
        "\n",
        "random.seed(seed_val)\n",
        "np.random.seed(seed_val)\n",
        "torch.manual_seed(seed_val)\n",
        "torch.cuda.manual_seed_all(seed_val)"
      ]
    },
    {
      "cell_type": "code",
      "execution_count": null,
      "metadata": {
        "colab": {
          "base_uri": "https://localhost:8080/"
        },
        "id": "CX-FmXpBZfoX",
        "outputId": "f352d4f8-d7cd-410e-f378-928d199e1eae"
      },
      "outputs": [
        {
          "name": "stdout",
          "output_type": "stream",
          "text": [
            "\n",
            "======== Epoch 1 / 2 ========\n",
            "Training...\n",
            "  Batch    40  of  2,813.    Elapsed: 0:01:00.\n",
            "  Batch    80  of  2,813.    Elapsed: 0:02:03.\n",
            "  Batch   120  of  2,813.    Elapsed: 0:03:05.\n",
            "  Batch   160  of  2,813.    Elapsed: 0:04:08.\n",
            "  Batch   200  of  2,813.    Elapsed: 0:05:12.\n",
            "  Batch   240  of  2,813.    Elapsed: 0:06:14.\n",
            "  Batch   280  of  2,813.    Elapsed: 0:07:17.\n",
            "  Batch   320  of  2,813.    Elapsed: 0:08:20.\n",
            "  Batch   360  of  2,813.    Elapsed: 0:09:23.\n",
            "  Batch   400  of  2,813.    Elapsed: 0:10:26.\n",
            "  Batch   440  of  2,813.    Elapsed: 0:11:29.\n",
            "  Batch   480  of  2,813.    Elapsed: 0:12:31.\n",
            "  Batch   520  of  2,813.    Elapsed: 0:13:34.\n",
            "  Batch   560  of  2,813.    Elapsed: 0:14:37.\n",
            "  Batch   600  of  2,813.    Elapsed: 0:15:40.\n",
            "  Batch   640  of  2,813.    Elapsed: 0:16:43.\n",
            "  Batch   680  of  2,813.    Elapsed: 0:17:46.\n",
            "  Batch   720  of  2,813.    Elapsed: 0:18:49.\n",
            "  Batch   760  of  2,813.    Elapsed: 0:19:52.\n",
            "  Batch   800  of  2,813.    Elapsed: 0:20:54.\n",
            "  Batch   840  of  2,813.    Elapsed: 0:21:58.\n",
            "  Batch   880  of  2,813.    Elapsed: 0:23:01.\n",
            "  Batch   920  of  2,813.    Elapsed: 0:24:03.\n",
            "  Batch   960  of  2,813.    Elapsed: 0:25:06.\n",
            "  Batch 1,000  of  2,813.    Elapsed: 0:26:09.\n",
            "  Batch 1,040  of  2,813.    Elapsed: 0:27:12.\n",
            "  Batch 1,080  of  2,813.    Elapsed: 0:28:15.\n",
            "  Batch 1,120  of  2,813.    Elapsed: 0:29:18.\n",
            "  Batch 1,160  of  2,813.    Elapsed: 0:30:21.\n",
            "  Batch 1,200  of  2,813.    Elapsed: 0:31:24.\n",
            "  Batch 1,240  of  2,813.    Elapsed: 0:32:27.\n",
            "  Batch 1,280  of  2,813.    Elapsed: 0:33:29.\n",
            "  Batch 1,320  of  2,813.    Elapsed: 0:34:32.\n",
            "  Batch 1,360  of  2,813.    Elapsed: 0:35:35.\n",
            "  Batch 1,400  of  2,813.    Elapsed: 0:36:38.\n",
            "  Batch 1,440  of  2,813.    Elapsed: 0:37:40.\n",
            "  Batch 1,480  of  2,813.    Elapsed: 0:38:43.\n",
            "  Batch 1,520  of  2,813.    Elapsed: 0:39:46.\n",
            "  Batch 1,560  of  2,813.    Elapsed: 0:40:50.\n",
            "  Batch 1,600  of  2,813.    Elapsed: 0:41:53.\n",
            "  Batch 1,640  of  2,813.    Elapsed: 0:42:56.\n",
            "  Batch 1,680  of  2,813.    Elapsed: 0:43:58.\n",
            "  Batch 1,720  of  2,813.    Elapsed: 0:45:01.\n",
            "  Batch 1,760  of  2,813.    Elapsed: 0:46:04.\n",
            "  Batch 1,800  of  2,813.    Elapsed: 0:47:07.\n",
            "  Batch 1,840  of  2,813.    Elapsed: 0:48:10.\n",
            "  Batch 1,880  of  2,813.    Elapsed: 0:49:12.\n",
            "  Batch 1,920  of  2,813.    Elapsed: 0:50:15.\n",
            "  Batch 1,960  of  2,813.    Elapsed: 0:51:18.\n",
            "  Batch 2,000  of  2,813.    Elapsed: 0:52:20.\n",
            "  Batch 2,040  of  2,813.    Elapsed: 0:53:23.\n",
            "  Batch 2,080  of  2,813.    Elapsed: 0:54:26.\n",
            "  Batch 2,120  of  2,813.    Elapsed: 0:55:29.\n",
            "  Batch 2,160  of  2,813.    Elapsed: 0:56:32.\n",
            "  Batch 2,200  of  2,813.    Elapsed: 0:57:34.\n",
            "  Batch 2,240  of  2,813.    Elapsed: 0:58:37.\n",
            "  Batch 2,280  of  2,813.    Elapsed: 0:59:40.\n",
            "  Batch 2,320  of  2,813.    Elapsed: 1:00:43.\n",
            "  Batch 2,360  of  2,813.    Elapsed: 1:01:45.\n",
            "  Batch 2,400  of  2,813.    Elapsed: 1:02:48.\n",
            "  Batch 2,440  of  2,813.    Elapsed: 1:03:51.\n",
            "  Batch 2,480  of  2,813.    Elapsed: 1:04:53.\n",
            "  Batch 2,520  of  2,813.    Elapsed: 1:05:56.\n",
            "  Batch 2,560  of  2,813.    Elapsed: 1:06:59.\n",
            "  Batch 2,600  of  2,813.    Elapsed: 1:08:02.\n",
            "  Batch 2,640  of  2,813.    Elapsed: 1:09:05.\n",
            "  Batch 2,680  of  2,813.    Elapsed: 1:10:08.\n",
            "  Batch 2,720  of  2,813.    Elapsed: 1:11:10.\n",
            "  Batch 2,760  of  2,813.    Elapsed: 1:12:13.\n",
            "  Batch 2,800  of  2,813.    Elapsed: 1:13:16.\n",
            "\n",
            "  Average training loss: -5.99\n",
            "  Training epcoh took: 1:13:36\n",
            "\n",
            "Running Validation...\n",
            "  Accuracy: 0.90\n",
            "  Validation Loss: 1.28\n",
            "  Validation took: 0:03:00\n",
            "\n",
            "======== Epoch 2 / 2 ========\n",
            "Training...\n",
            "  Batch    40  of  2,813.    Elapsed: 0:01:03.\n",
            "  Batch    80  of  2,813.    Elapsed: 0:02:06.\n",
            "  Batch   120  of  2,813.    Elapsed: 0:03:08.\n",
            "  Batch   160  of  2,813.    Elapsed: 0:04:11.\n",
            "  Batch   200  of  2,813.    Elapsed: 0:05:14.\n",
            "  Batch   240  of  2,813.    Elapsed: 0:06:16.\n",
            "  Batch   280  of  2,813.    Elapsed: 0:07:19.\n",
            "  Batch   320  of  2,813.    Elapsed: 0:08:22.\n",
            "  Batch   360  of  2,813.    Elapsed: 0:09:25.\n",
            "  Batch   400  of  2,813.    Elapsed: 0:10:28.\n",
            "  Batch   440  of  2,813.    Elapsed: 0:11:31.\n",
            "  Batch   480  of  2,813.    Elapsed: 0:12:34.\n",
            "  Batch   520  of  2,813.    Elapsed: 0:13:37.\n",
            "  Batch   560  of  2,813.    Elapsed: 0:14:40.\n",
            "  Batch   600  of  2,813.    Elapsed: 0:15:42.\n",
            "  Batch   640  of  2,813.    Elapsed: 0:16:45.\n",
            "  Batch   680  of  2,813.    Elapsed: 0:17:48.\n",
            "  Batch   720  of  2,813.    Elapsed: 0:18:51.\n",
            "  Batch   760  of  2,813.    Elapsed: 0:19:54.\n",
            "  Batch   800  of  2,813.    Elapsed: 0:20:56.\n",
            "  Batch   840  of  2,813.    Elapsed: 0:21:59.\n",
            "  Batch   880  of  2,813.    Elapsed: 0:23:02.\n",
            "  Batch   920  of  2,813.    Elapsed: 0:24:05.\n",
            "  Batch   960  of  2,813.    Elapsed: 0:25:08.\n",
            "  Batch 1,000  of  2,813.    Elapsed: 0:26:10.\n",
            "  Batch 1,040  of  2,813.    Elapsed: 0:27:13.\n",
            "  Batch 1,080  of  2,813.    Elapsed: 0:28:16.\n",
            "  Batch 1,120  of  2,813.    Elapsed: 0:29:19.\n",
            "  Batch 1,160  of  2,813.    Elapsed: 0:30:22.\n",
            "  Batch 1,200  of  2,813.    Elapsed: 0:31:24.\n",
            "  Batch 1,240  of  2,813.    Elapsed: 0:32:27.\n",
            "  Batch 1,280  of  2,813.    Elapsed: 0:33:29.\n",
            "  Batch 1,320  of  2,813.    Elapsed: 0:34:32.\n",
            "  Batch 1,360  of  2,813.    Elapsed: 0:35:35.\n",
            "  Batch 1,400  of  2,813.    Elapsed: 0:36:37.\n",
            "  Batch 1,440  of  2,813.    Elapsed: 0:37:40.\n",
            "  Batch 1,480  of  2,813.    Elapsed: 0:38:42.\n",
            "  Batch 1,520  of  2,813.    Elapsed: 0:39:45.\n",
            "  Batch 1,560  of  2,813.    Elapsed: 0:40:48.\n",
            "  Batch 1,600  of  2,813.    Elapsed: 0:41:50.\n",
            "  Batch 1,640  of  2,813.    Elapsed: 0:42:53.\n",
            "  Batch 1,680  of  2,813.    Elapsed: 0:43:56.\n",
            "  Batch 1,720  of  2,813.    Elapsed: 0:45:00.\n",
            "  Batch 1,760  of  2,813.    Elapsed: 0:46:03.\n",
            "  Batch 1,800  of  2,813.    Elapsed: 0:47:05.\n",
            "  Batch 1,840  of  2,813.    Elapsed: 0:48:08.\n",
            "  Batch 1,880  of  2,813.    Elapsed: 0:49:11.\n",
            "  Batch 1,920  of  2,813.    Elapsed: 0:50:14.\n",
            "  Batch 1,960  of  2,813.    Elapsed: 0:51:17.\n",
            "  Batch 2,000  of  2,813.    Elapsed: 0:52:20.\n",
            "  Batch 2,040  of  2,813.    Elapsed: 0:53:23.\n",
            "  Batch 2,080  of  2,813.    Elapsed: 0:54:26.\n",
            "  Batch 2,120  of  2,813.    Elapsed: 0:55:29.\n",
            "  Batch 2,160  of  2,813.    Elapsed: 0:56:31.\n",
            "  Batch 2,200  of  2,813.    Elapsed: 0:57:34.\n",
            "  Batch 2,240  of  2,813.    Elapsed: 0:58:37.\n",
            "  Batch 2,280  of  2,813.    Elapsed: 0:59:40.\n",
            "  Batch 2,320  of  2,813.    Elapsed: 1:00:43.\n",
            "  Batch 2,360  of  2,813.    Elapsed: 1:01:46.\n",
            "  Batch 2,400  of  2,813.    Elapsed: 1:02:49.\n",
            "  Batch 2,440  of  2,813.    Elapsed: 1:03:51.\n",
            "  Batch 2,480  of  2,813.    Elapsed: 1:04:54.\n",
            "  Batch 2,520  of  2,813.    Elapsed: 1:05:57.\n",
            "  Batch 2,560  of  2,813.    Elapsed: 1:07:00.\n",
            "  Batch 2,600  of  2,813.    Elapsed: 1:08:03.\n",
            "  Batch 2,640  of  2,813.    Elapsed: 1:09:05.\n",
            "  Batch 2,680  of  2,813.    Elapsed: 1:10:08.\n",
            "  Batch 2,720  of  2,813.    Elapsed: 1:11:11.\n",
            "  Batch 2,760  of  2,813.    Elapsed: 1:12:14.\n",
            "  Batch 2,800  of  2,813.    Elapsed: 1:13:17.\n",
            "\n",
            "  Average training loss: -6.30\n",
            "  Training epcoh took: 1:13:36\n",
            "\n",
            "Running Validation...\n",
            "  Accuracy: 0.91\n",
            "  Validation Loss: 1.22\n",
            "  Validation took: 0:03:01\n",
            "\n",
            "Training complete!\n",
            "Total training took 2:33:13 (h:mm:ss)\n"
          ]
        }
      ],
      "source": [
        "import random\n",
        "import numpy as np\n",
        "\n",
        "# This training code is based on the `run_glue.py` script here:\n",
        "# https://github.com/huggingface/transformers/blob/5bfcd0485ece086ebcbed2d008813037968a9e58/examples/run_glue.py#L128\n",
        "\n",
        "# Set the seed value all over the place to make this reproducible.\n",
        "seed_val = 44\n",
        "\n",
        "random.seed(seed_val)\n",
        "np.random.seed(seed_val)\n",
        "torch.manual_seed(seed_val)\n",
        "torch.cuda.manual_seed_all(seed_val)\n",
        "\n",
        "# We'll store a number of quantities such as training and validation loss, \n",
        "# validation accuracy, and timings.\n",
        "training_stats = []\n",
        "\n",
        "# Measure the total training time for the whole run.\n",
        "total_t0 = time.time()\n",
        "\n",
        "# For each epoch...\n",
        "for epoch_i in range(0, epochs):\n",
        "    \n",
        "    # ========================================\n",
        "    #               Training\n",
        "    # ========================================\n",
        "    \n",
        "    # Perform one full pass over the training set.\n",
        "\n",
        "    print(\"\")\n",
        "    print('======== Epoch {:} / {:} ========'.format(epoch_i + 1, epochs))\n",
        "    print('Training...')\n",
        "\n",
        "    # Measure how long the training epoch takes.\n",
        "    t0 = time.time()\n",
        "\n",
        "    # Reset the total loss for this epoch.\n",
        "    total_train_loss = 0\n",
        "\n",
        "    # Put the model into training mode. Don't be mislead--the call to \n",
        "    # `train` just changes the *mode*, it doesn't *perform* the training.\n",
        "    # `dropout` and `batchnorm` layers behave differently during training\n",
        "    # vs. test (source: https://stackoverflow.com/questions/51433378/what-does-model-train-do-in-pytorch)\n",
        "    model.train()\n",
        "\n",
        "    # For each batch of training data...\n",
        "    for step, batch in enumerate(train_dataloader):\n",
        "\n",
        "        # Progress update every 40 batches.\n",
        "        if step % 40 == 0 and not step == 0:\n",
        "            # Calculate elapsed time in minutes.\n",
        "            elapsed = format_time(time.time() - t0)\n",
        "            \n",
        "            # Report progress.\n",
        "            print('  Batch {:>5,}  of  {:>5,}.    Elapsed: {:}.'.format(step, len(train_dataloader), elapsed))\n",
        "\n",
        "        # Unpack this training batch from our dataloader. \n",
        "        #\n",
        "        # As we unpack the batch, we'll also copy each tensor to the GPU using the \n",
        "        # `to` method.\n",
        "        #\n",
        "        # `batch` contains three pytorch tensors:\n",
        "        #   [0]: input ids \n",
        "        #   [1]: attention masks\n",
        "        #   [2]: labels \n",
        "        b_input_ids = batch[0].to(device)\n",
        "        b_input_mask = batch[1].to(device)\n",
        "        b_labels = batch[2].to(device)\n",
        "      #  print(b_input_ids)\n",
        "      #  print(b_input_mask)\n",
        "      #  print(b_labels)\n",
        "        arr_ind=[i for i in range(len(b_labels))]\n",
        "      #  print(arr_ind)\n",
        "        counter = 0\n",
        "        ########\n",
        "        b_lables_pair_l2 = []\n",
        "        while(1):\n",
        "          ind2=np.random.choice(arr_ind)\n",
        "          ind1=np.random.choice(arr_ind)\n",
        "          counter =counter + 1\n",
        "          if(b_labels[ind1].item()!=b_labels[ind2].item() and [ind1,ind2] not in b_lables_pair_l2):\n",
        "         #    print(ind1,ind2)\n",
        "             #print(b_labels[ind1].item(),b_labels[ind2].item())\n",
        "            # arr_ind.remove(ind1)\n",
        "             arr_ind.remove(ind2)\n",
        "             b_lables_pair_l2.append([ind1,ind2])\n",
        "          if(counter>75 or len(arr_ind)<=8):\n",
        "         #   print(arr_ind)\n",
        "            break\n",
        "        #arr_ind = [i for i in range(8)]\n",
        "        # print(b_labels)\n",
        "        # print(\"b_lables_pair_l2\",b_lables_pair_l2)\n",
        "        # print(\"b_lables_pair_l2\",len(b_lables_pair_l2))\n",
        "        # print(\"arr_ind\",arr_ind)\n",
        "        # print(\"arr_ind\",len(arr_ind))\n",
        "        b_input_ids_l1 = torch.cat(tuple([batch[0][ind:ind+1] for ind in arr_ind])).to(device)\n",
        "        b_input_mask_l1 = torch.cat(tuple([batch[1][ind:ind+1] for ind in arr_ind])).to(device)\n",
        "        b_labels_l1 = torch.cat(tuple([batch[2][ind:ind+1] for ind in arr_ind])).to(device)\n",
        "        # print(b_input_ids)\n",
        "        # print(b_input_ids_l1)\n",
        "\n",
        "        # print(\"******\")\n",
        "        # print(batch[0][0:1])\n",
        "        # print(batch[0][1:2])\n",
        "        # sum_pair = np.ceil((batch[0][0:1]+batch[0][1:2])/2)\n",
        "        # avg_pair=sum_pair.type(torch.int64)\n",
        "        # print(avg_pair)\n",
        "        b_input_ids_l2=[]\n",
        "        b_input_mask_l2=[]\n",
        "        b_labels_l2=[]\n",
        "\n",
        "        for ind_pair in b_lables_pair_l2:\n",
        "          i=ind_pair[0]\n",
        "          j=ind_pair[1]\n",
        "\n",
        "          sum_pair=np.ceil((batch[0][i:i+1]+batch[0][j:j+1])/2)\n",
        "          avg_pair=sum_pair.type(torch.int64)\n",
        "          b_input_ids_l2.append(avg_pair)\n",
        "\n",
        "\n",
        "\n",
        "          sum_pair_mask=np.ceil((batch[1][i:i+1]+batch[1][j:j+1])/2)\n",
        "          avg_pair_mask=sum_pair_mask.type(torch.int64)\n",
        "\n",
        "          b_input_mask_l2.append(avg_pair_mask)\n",
        "\n",
        "          b_labels_l2.append(torch.tensor([100]))\n",
        "\n",
        "        b_labels_l2 = torch.cat(tuple(b_labels_l2)).to(device)\n",
        "        b_input_mask_l2 = torch.cat(tuple(b_input_mask_l2)).to(device)\n",
        "        b_input_ids_l2 = torch.cat(tuple(b_input_ids_l2)).to(device)\n",
        "        # print(\"b_labels_l1\",b_labels_l1)\n",
        "        # print(\"len(b_labels_l1)\",len(b_labels_l1))\n",
        "        # print(\"b_labels_l2\",b_labels_l2)\n",
        "        # print(\"len(b_labels_l2)\",len(b_labels_l2))\n",
        "       \n",
        "\n",
        "        # Always clear any previously calculated gradients before performing a\n",
        "        # backward pass. PyTorch doesn't do this automatically because \n",
        "        # accumulating the gradients is \"convenient while training RNNs\". \n",
        "        # (source: https://stackoverflow.com/questions/48001598/why-do-we-need-to-call-zero-grad-in-pytorch)\n",
        "        model.zero_grad()        \n",
        "\n",
        "        # Perform a forward pass (evaluate the model on this training batch).\n",
        "        # In PyTorch, calling `model` will in turn call the model's `forward` \n",
        "        # function and pass down the arguments. The `forward` function is \n",
        "        # documented here: \n",
        "        # https://huggingface.co/transformers/model_doc/bert.html#bertforsequenceclassification\n",
        "        # The results are returned in a results object, documented here:\n",
        "        # https://huggingface.co/transformers/main_classes/output.html#transformers.modeling_outputs.SequenceClassifierOutput\n",
        "        # Specifically, we'll get the loss (because we provided labels) and the\n",
        "        # \"logits\"--the model outputs prior to activation.\n",
        "        result1 = model(b_input_ids_l1, \n",
        "                       token_type_ids=None, \n",
        "                       attention_mask=b_input_mask_l1, \n",
        "                       labels=b_labels_l1,\n",
        "                       return_dict=True)\n",
        "        \n",
        "        result2 = model(b_input_ids_l2, \n",
        "                       token_type_ids=None, \n",
        "                       attention_mask=b_input_mask_l2, \n",
        "                       labels=b_labels_l2,\n",
        "                       return_dict=True)\n",
        "        \n",
        " \n",
        "\n",
        " \n",
        "        loss1 = result1.loss\n",
        "        loss2 = result2.loss\n",
        "        \n",
        "\n",
        "        logits1 = result1.logits\n",
        "        logits2 = result2.logits\n",
        "\n",
        "        eps = 1e-7\n",
        "        # t = F.relu()\n",
        "        # t = torch.log(t +eps)\n",
        "\n",
        "        kthlogits1 = logits1[: , len(logits1[0])-1:len(logits1[0])].clone()\n",
        "        kthlogits2 = logits2[: , len(logits2[0])-1:len(logits2[0])].clone()\n",
        "      #  print(\"kthlogits before Relu   \",kthlogits1)\n",
        "        ReLU = nn.ReLU()\n",
        "        kthlogits1 = ReLU(kthlogits1)\n",
        "      #  print(\"kthlogits after Relu   \",kthlogits1)\n",
        "        kthloss1 = -1 * torch.log(kthlogits1 + eps)\n",
        "       # print(\"kthloss  \",kthloss1)\n",
        "        kthloss1 = torch.sum(kthloss1)\n",
        "        kthloss1 = torch.sum(kthloss1)/len(b_labels_l1)\n",
        "       # print(\"kthloss  \",kthloss1)\n",
        "        #print(\"logits : \",logits)\n",
        "        #print(len(logits))\n",
        "        kthlogits2 = ReLU(kthlogits2)\n",
        "        kthloss2 = -1 * torch.log(kthlogits2 + eps)\n",
        "        kthloss2 = torch.sum(kthloss2)/len(b_labels_l2)\n",
        "        loss = (2 * loss2) + kthloss2 + loss1 + (0.4 * kthloss1) \n",
        "\n",
        "        # Accumulate the training loss over all of the batches so that we can\n",
        "        # calculate the average loss at the end. `loss` is a Tensor containing a\n",
        "        # single value; the `.item()` function just returns the Python value \n",
        "        # from the tensor.\n",
        "        total_train_loss += loss.item()\n",
        "\n",
        "        # Perform a backward pass to calculate the gradients.\n",
        "        loss.backward()\n",
        "\n",
        "        # Clip the norm of the gradients to 1.0.\n",
        "        # This is to help prevent the \"exploding gradients\" problem.\n",
        "        torch.nn.utils.clip_grad_norm_(model.parameters(), 1.0)\n",
        "\n",
        "        # Update parameters and take a step using the computed gradient.\n",
        "        # The optimizer dictates the \"update rule\"--how the parameters are\n",
        "        # modified based on their gradients, the learning rate, etc.\n",
        "        optimizer.step()\n",
        "\n",
        "        # Update the learning rate.\n",
        "        scheduler.step()\n",
        "        \n",
        "\n",
        "    # Calculate the average loss over all of the batches.\n",
        "    avg_train_loss = total_train_loss / len(train_dataloader)            \n",
        "    \n",
        "    # Measure how long this epoch took.\n",
        "    training_time = format_time(time.time() - t0)\n",
        "\n",
        "    print(\"\")\n",
        "    print(\"  Average training loss: {0:.2f}\".format(avg_train_loss))\n",
        "    print(\"  Training epcoh took: {:}\".format(training_time))\n",
        "        \n",
        "    # ========================================\n",
        "    #               Validation\n",
        "    # ========================================\n",
        "    # After the completion of each training epoch, measure our performance on\n",
        "    # our validation set.\n",
        "\n",
        "    print(\"\")\n",
        "    print(\"Running Validation...\")\n",
        "\n",
        "    t0 = time.time()\n",
        "\n",
        "    # Put the model in evaluation mode--the dropout layers behave differently\n",
        "    # during evaluation.\n",
        "    model.eval()\n",
        "\n",
        "    # Tracking variables \n",
        "    total_eval_accuracy = 0\n",
        "    total_eval_loss = 0\n",
        "    nb_eval_steps = 0\n",
        "\n",
        "    # Evaluate data for one epoch\n",
        "    for batch in validation_dataloader:\n",
        "        \n",
        "        # Unpack this training batch from our dataloader. \n",
        "        #\n",
        "        # As we unpack the batch, we'll also copy each tensor to the GPU using \n",
        "        # the `to` method.\n",
        "        #\n",
        "        # `batch` contains three pytorch tensors:\n",
        "        #   [0]: input ids \n",
        "        #   [1]: attention masks\n",
        "        #   [2]: labels \n",
        "        b_input_ids = batch[0].to(device)\n",
        "        b_input_mask = batch[1].to(device)\n",
        "        b_labels = batch[2].to(device)\n",
        "\n",
        "        \n",
        "        # Tell pytorch not to bother with constructing the compute graph during\n",
        "        # the forward pass, since this is only needed for backprop (training).\n",
        "        with torch.no_grad():        \n",
        "\n",
        "            # Forward pass, calculate logit predictions.\n",
        "            # token_type_ids is the same as the \"segment ids\", which \n",
        "            # differentiates sentence 1 and 2 in 2-sentence tasks.\n",
        "            result = model(b_input_ids, \n",
        "                           token_type_ids=None, \n",
        "                           attention_mask=b_input_mask,\n",
        "                           labels=b_labels,\n",
        "                           return_dict=True)\n",
        "\n",
        "        # Get the loss and \"logits\" output by the model. The \"logits\" are the \n",
        "        # output values prior to applying an activation function like the \n",
        "        # softmax.\n",
        "        loss = result.loss\n",
        "        logits = result.logits\n",
        "       # print(logits)\n",
        "        \n",
        "        # Accumulate the validation loss.\n",
        "        total_eval_loss += loss.item()\n",
        "\n",
        "        # Move logits and labels to CPU\n",
        "        logits = logits.detach().cpu().numpy()\n",
        "        label_ids = b_labels.to('cpu').numpy()\n",
        "      #  print(label_ids) \n",
        "        # Calculate the accuracy for this batch of test sentences, and\n",
        "        # accumulate it over all batches.\n",
        "        total_eval_accuracy += flat_accuracy(logits, label_ids)\n",
        "        \n",
        "\n",
        "    # Report the final accuracy for this validation run.\n",
        "    avg_val_accuracy = total_eval_accuracy / len(validation_dataloader)\n",
        "    print(\"  Accuracy: {0:.2f}\".format(avg_val_accuracy))\n",
        "\n",
        "    # Calculate the average loss over all of the batches.\n",
        "    avg_val_loss = total_eval_loss / len(validation_dataloader)\n",
        "    \n",
        "    # Measure how long the validation run took.\n",
        "    validation_time = format_time(time.time() - t0)\n",
        "    \n",
        "    print(\"  Validation Loss: {0:.2f}\".format(avg_val_loss))\n",
        "    print(\"  Validation took: {:}\".format(validation_time))\n",
        "\n",
        "    # Record all statistics from this epoch.\n",
        "    training_stats.append(\n",
        "        {\n",
        "            'epoch': epoch_i + 1,\n",
        "            'Training Loss': avg_train_loss,\n",
        "            'Valid. Loss': avg_val_loss,\n",
        "            'Valid. Accur.': avg_val_accuracy,\n",
        "            'Training Time': training_time,\n",
        "            'Validation Time': validation_time\n",
        "        }\n",
        "    )\n",
        "\n",
        "print(\"\")\n",
        "print(\"Training complete!\")\n",
        "\n",
        "print(\"Total training took {:} (h:mm:ss)\".format(format_time(time.time()-total_t0)))"
      ]
    },
    {
      "cell_type": "markdown",
      "metadata": {
        "id": "lUfA0mzOZki_"
      },
      "source": []
    },
    {
      "cell_type": "code",
      "execution_count": null,
      "metadata": {
        "colab": {
          "base_uri": "https://localhost:8080/"
        },
        "id": "xFET0qIiPdk7",
        "outputId": "6955f9ab-697b-49a9-d087-5c380f6b8e8d"
      },
      "outputs": [
        {
          "name": "stdout",
          "output_type": "stream",
          "text": [
            "Saving model to /content/drive/MyDrive/ASU/model_save/\n"
          ]
        },
        {
          "data": {
            "text/plain": [
              "('/content/drive/MyDrive/ASU/model_save/tokenizer/tokenizer_config.json',\n",
              " '/content/drive/MyDrive/ASU/model_save/tokenizer/special_tokens_map.json',\n",
              " '/content/drive/MyDrive/ASU/model_save/tokenizer/vocab.txt',\n",
              " '/content/drive/MyDrive/ASU/model_save/tokenizer/added_tokens.json',\n",
              " '/content/drive/MyDrive/ASU/model_save/tokenizer/tokenizer.json')"
            ]
          },
          "execution_count": 36,
          "metadata": {},
          "output_type": "execute_result"
        }
      ],
      "source": [
        "import os\n",
        "\n",
        "# Saving best-practices: if you use defaults names for the model, you can reload it using from_pretrained()\n",
        "\n",
        "output_dir = '/content/drive/MyDrive/ASU/model_save/'\n",
        "\n",
        "# Create output directory if needed\n",
        "if not os.path.exists(output_dir):\n",
        "    os.makedirs(output_dir)\n",
        "if not os.path.exists(output_dir+'tokenizer/'):\n",
        "    os.makedirs(output_dir+'tokenizer/')\n",
        "\n",
        "print(\"Saving model to %s\" % output_dir)\n",
        "\n",
        "# Save a trained model, configuration and tokenizer using `save_pretrained()`.\n",
        "# They can then be reloaded using `from_pretrained()`\n",
        "model_to_save = model.module if hasattr(model, 'module') else model  # Take care of distributed/parallel training\n",
        "model_to_save.save_pretrained(output_dir)\n",
        "tokenizer.save_pretrained(output_dir+'tokenizer/')\n",
        "\n",
        "# Good practice: save your training arguments together with the trained model\n",
        "# torch.save(args, os.path.join(output_dir, 'training_args.bin'))\n"
      ]
    },
    {
      "cell_type": "code",
      "execution_count": null,
      "metadata": {
        "id": "2RIsX_1VuuO4"
      },
      "outputs": [],
      "source": []
    },
    {
      "cell_type": "code",
      "execution_count": null,
      "metadata": {
        "id": "B-aozXuiuuSt"
      },
      "outputs": [],
      "source": []
    },
    {
      "cell_type": "code",
      "execution_count": null,
      "metadata": {
        "id": "MJ5XI85DuuVJ"
      },
      "outputs": [],
      "source": [
        "# print(\"Running Validation...\")\n",
        "\n",
        "# t0 = time.time()\n",
        "\n",
        "# # Put the model in evaluation mode--the dropout layers behave differently\n",
        "# # during evaluation.\n",
        "# model.eval()\n",
        "\n",
        "# # Tracking variables \n",
        "# total_eval_accuracy = 0\n",
        "# total_eval_loss = 0\n",
        "# nb_eval_steps = 0\n",
        "\n",
        "# predictions , true_labels = [], []\n",
        "# count = 1\n",
        "# # Evaluate data for one epoch\n",
        "# for batch in validation_dataloader:\n",
        "    \n",
        "#     # Unpack this training batch from our dataloader. \n",
        "#     #\n",
        "#     # As we unpack the batch, we'll also copy each tensor to the GPU using \n",
        "#     # the `to` method.\n",
        "#     #\n",
        "#     # `batch` contains three pytorch tensors:\n",
        "#     #   [0]: input ids \n",
        "#     #   [1]: attention masks\n",
        "#     #   [2]: labels \n",
        "#     b_input_ids = batch[0].to(device)\n",
        "#     b_input_mask = batch[1].to(device)\n",
        "#     b_labels = batch[2].to(device)\n",
        "\n",
        "    \n",
        "#     # Tell pytorch not to bother with constructing the compute graph during\n",
        "#     # the forward pass, since this is only needed for backprop (training).\n",
        "#     with torch.no_grad():        \n",
        "\n",
        "#         # Forward pass, calculate logit predictions.\n",
        "#         # token_type_ids is the same as the \"segment ids\", which \n",
        "#         # differentiates sentence 1 and 2 in 2-sentence tasks.\n",
        "#         result = model(b_input_ids, \n",
        "#                         token_type_ids=None, \n",
        "#                         attention_mask=b_input_mask,\n",
        "#                         labels=b_labels,\n",
        "#                         return_dict=True)\n",
        "\n",
        "#     # Get the loss and \"logits\" output by the model. The \"logits\" are the \n",
        "#     # output values prior to applying an activation function like the \n",
        "#     # softmax.\n",
        "#     loss = result.loss\n",
        "#     logits = result.logits\n",
        "#     # print(logits)\n",
        "    \n",
        "#     # Accumulate the validation loss.\n",
        "#     total_eval_loss += loss.item()\n",
        "\n",
        "#     # Move logits and labels to CPU\n",
        "#     logits = logits.detach().cpu().numpy()\n",
        "#     logits[:,100] = logits[:,100] + 3\n",
        "#     label_ids = b_labels.to('cpu').numpy()\n",
        "#     pred_labels = np.argmax(logits, axis=1)\n",
        "#   #  print(label_ids) \n",
        "#     # Calculate the accuracy for this batch of test sentences, and\n",
        "#     # accumulate it over all batches.\n",
        "\n",
        "#     total_eval_accuracy += flat_accuracy(logits, label_ids)\n",
        "\n",
        "#       # Store predictions and true labels\n",
        "#     predictions.extend(pred_labels.tolist())\n",
        "#     true_labels.extend(label_ids.tolist())\n",
        "#     # if(count == 1):\n",
        "#     #   break\n",
        "#     count = count +1\n",
        "\n",
        "    \n",
        "\n",
        "# # Report the final accuracy for this validation run.\n",
        "# avg_val_accuracy = total_eval_accuracy / len(validation_dataloader)\n",
        "# print(\"  Accuracy: {0:.2f}\".format(avg_val_accuracy))\n",
        "\n",
        "# # Calculate the average loss over all of the batches.\n",
        "# avg_val_loss = total_eval_loss / len(validation_dataloader)\n",
        "\n",
        "# # Measure how long the validation run took.\n",
        "# validation_time = format_time(time.time() - t0)\n",
        "\n",
        "# print(\"  Validation Loss: {0:.2f}\".format(avg_val_loss))\n",
        "# print(\"  Validation took: {:}\".format(validation_time))"
      ]
    },
    {
      "cell_type": "markdown",
      "metadata": {
        "id": "jUxaOGAP_yu1"
      },
      "source": [
        "bias ........................                      percentage\n",
        "\n",
        "   4   .........................                    .58"
      ]
    },
    {
      "cell_type": "code",
      "execution_count": null,
      "metadata": {
        "id": "GlDwxTqb9I_I"
      },
      "outputs": [],
      "source": [
        "# from sklearn.metrics import classification_report\n",
        "\n",
        "# result_report= classification_report(true_labels, predictions, digits=3, output_dict=False)\n",
        "# print(result_report)"
      ]
    },
    {
      "cell_type": "code",
      "execution_count": null,
      "metadata": {
        "id": "OppISe6t9UGj"
      },
      "outputs": [],
      "source": [
        "# len(predictions)"
      ]
    },
    {
      "cell_type": "code",
      "execution_count": null,
      "metadata": {
        "id": "3daDRx3u_ijx"
      },
      "outputs": [],
      "source": [
        "# predictions.count(100)"
      ]
    },
    {
      "cell_type": "code",
      "execution_count": null,
      "metadata": {
        "id": "CcADTQZC_mBt"
      },
      "outputs": [],
      "source": [
        "# predictions.count(100)/len(predictions)"
      ]
    },
    {
      "cell_type": "code",
      "execution_count": null,
      "metadata": {
        "id": "2cLiXR-d8dGm"
      },
      "outputs": [],
      "source": [
        "# len(true_labels)"
      ]
    },
    {
      "cell_type": "code",
      "execution_count": null,
      "metadata": {
        "id": "a5gkpsd7wsTx"
      },
      "outputs": [],
      "source": [
        "# import numpy as np\n",
        "\n",
        "# # Function to calculate the accuracy of our predictions vs labels\n",
        "# def flat_accuracy(preds, labels):\n",
        "#     pred_flat = np.argmax(preds, axis=1).flatten()\n",
        "#     labels_flat = labels.flatten()\n",
        "#     return np.sum(pred_flat == labels_flat) / len(labels_flat)"
      ]
    },
    {
      "cell_type": "code",
      "execution_count": null,
      "metadata": {
        "id": "T20tqWtKwsdm"
      },
      "outputs": [],
      "source": [
        "# label_ids"
      ]
    },
    {
      "cell_type": "code",
      "execution_count": null,
      "metadata": {
        "id": "0W3X60iSwsmF"
      },
      "outputs": [],
      "source": [
        "# index = np.argmax(logits, axis=1).flatten()"
      ]
    },
    {
      "cell_type": "code",
      "execution_count": null,
      "metadata": {
        "id": "YFoZh2hUyOjK"
      },
      "outputs": [],
      "source": [
        "# A = np.max(logits, axis=1).flatten()"
      ]
    },
    {
      "cell_type": "code",
      "execution_count": null,
      "metadata": {
        "id": "W_Tbcqae4INZ"
      },
      "outputs": [],
      "source": [
        "# A"
      ]
    },
    {
      "cell_type": "code",
      "execution_count": null,
      "metadata": {
        "id": "DKLjJg0t9uFm"
      },
      "outputs": [],
      "source": [
        "# logits[0]"
      ]
    },
    {
      "cell_type": "code",
      "execution_count": null,
      "metadata": {
        "id": "fKoIwTyR5rQa"
      },
      "outputs": [],
      "source": [
        "# logits[:,100].flatten()"
      ]
    },
    {
      "cell_type": "code",
      "execution_count": null,
      "metadata": {
        "id": "P4c_nsyj-DWl"
      },
      "outputs": [],
      "source": [
        "# logits[:,100]"
      ]
    },
    {
      "cell_type": "code",
      "execution_count": null,
      "metadata": {
        "id": "_8GrOzoD9yCH"
      },
      "outputs": [],
      "source": [
        "# logits[:,100] = logits[:,100] +10"
      ]
    },
    {
      "cell_type": "code",
      "execution_count": null,
      "metadata": {
        "id": "ZwtiSFBG95Ds"
      },
      "outputs": [],
      "source": [
        "# logits[0]"
      ]
    },
    {
      "cell_type": "code",
      "execution_count": null,
      "metadata": {
        "id": "pgBa2Rgg2xHY"
      },
      "outputs": [],
      "source": [
        "# B = logits[:,100].flatten()+5"
      ]
    },
    {
      "cell_type": "code",
      "execution_count": null,
      "metadata": {
        "id": "N1SF2OxN4JUd"
      },
      "outputs": [],
      "source": [
        "# B"
      ]
    },
    {
      "cell_type": "code",
      "execution_count": null,
      "metadata": {
        "id": "Qeu_pCuL3RLE"
      },
      "outputs": [],
      "source": [
        "# B - A"
      ]
    },
    {
      "cell_type": "code",
      "execution_count": null,
      "metadata": {
        "id": "sQY7kD5NzUQn"
      },
      "outputs": [],
      "source": [
        "# logits[0]"
      ]
    },
    {
      "cell_type": "code",
      "execution_count": null,
      "metadata": {
        "id": "zhx-17rfuvMJ"
      },
      "outputs": [],
      "source": [
        "# logits[:,100].flatten()"
      ]
    },
    {
      "cell_type": "code",
      "execution_count": null,
      "metadata": {
        "id": "NkrxioAluvPg"
      },
      "outputs": [],
      "source": [
        "# #print(logits)\n",
        "# for i in logits:\n",
        "#   print(i[100])"
      ]
    },
    {
      "cell_type": "code",
      "execution_count": null,
      "metadata": {
        "id": "Tv4UlVXfHU5h"
      },
      "outputs": [],
      "source": [
        "# import pandas as pd\n",
        "\n",
        "# # Display floats with two decimal places.\n",
        "# pd.set_option('precision', 2)\n",
        "\n",
        "# # Create a DataFrame from our training statistics.\n",
        "# df_stats = pd.DataFrame(data=training_stats)\n",
        "\n",
        "# # Use the 'epoch' as the row index.\n",
        "# df_stats = df_stats.set_index('epoch')\n",
        "\n",
        "# # A hack to force the column headers to wrap.\n",
        "# #df = df.style.set_table_styles([dict(selector=\"th\",props=[('max-width', '70px')])])\n",
        "\n",
        "# # Display the table.\n",
        "# df_stats"
      ]
    },
    {
      "cell_type": "code",
      "execution_count": null,
      "metadata": {
        "id": "iweBagNKHVLU"
      },
      "outputs": [],
      "source": [
        "# import matplotlib.pyplot as plt\n",
        "# %matplotlib inline\n",
        "\n",
        "# import seaborn as sns\n",
        "\n",
        "# # Use plot styling from seaborn.\n",
        "# sns.set(style='darkgrid')\n",
        "\n",
        "# # Increase the plot size and font size.\n",
        "# sns.set(font_scale=1.5)\n",
        "# plt.rcParams[\"figure.figsize\"] = (12,6)\n",
        "\n",
        "# # Plot the learning curve.\n",
        "# plt.plot(df_stats['Training Loss'], 'b-o', label=\"Training\")\n",
        "# plt.plot(df_stats['Valid. Loss'], 'g-o', label=\"Validation\")\n",
        "\n",
        "# # Label the plot.\n",
        "# plt.title(\"Training & Validation Loss\")\n",
        "# plt.xlabel(\"Epoch\")\n",
        "# plt.ylabel(\"Loss\")\n",
        "# plt.legend()\n",
        "# plt.xticks([1, 2, 3, 4])\n",
        "\n",
        "# plt.show()"
      ]
    },
    {
      "cell_type": "code",
      "execution_count": null,
      "metadata": {
        "id": "8asac3Vx9C_k"
      },
      "outputs": [],
      "source": []
    },
    {
      "cell_type": "code",
      "execution_count": 35,
      "metadata": {
        "id": "nUAlH28vHYuN"
      },
      "outputs": [],
      "source": [
        "import pandas as pd\n",
        "import regex as re\n",
        "\n",
        "# Load the dataset into a pandas dataframe.\n",
        "df = pd.read_csv(\"/content/drive/MyDrive/ASU/ood_test_data_small.csv\")\n",
        "\n",
        "\n",
        "#df = pd.read_csv(\"/content/drive/MyDrive/ASU/stage1_eval_data_ds2.csv\")\n",
        "\n",
        "#df = pd.read_csv(\"/content/drive/MyDrive/ASU/stage1_eval_data_ds3.csv\")"
      ]
    },
    {
      "cell_type": "code",
      "execution_count": 36,
      "metadata": {
        "id": "rAII-BpSKeSC"
      },
      "outputs": [],
      "source": [
        "# df['flag']=df.loc[:,['real_label','review']].apply(lambda x: re.match(\"UPDATE*\",x['review']),axis=1 )\n",
        "# #removing updated records\n",
        "\n",
        "# df=df.loc[:,['real_label','review','flag']].loc[df['flag'].isin([None])]\n",
        "# df.drop('flag',axis=1,inplace=True)"
      ]
    },
    {
      "cell_type": "code",
      "execution_count": 37,
      "metadata": {
        "id": "JjfsmaGSL38f"
      },
      "outputs": [],
      "source": [
        "df = df[['real_label','review']]"
      ]
    },
    {
      "cell_type": "code",
      "execution_count": 38,
      "metadata": {
        "colab": {
          "base_uri": "https://localhost:8080/",
          "height": 424
        },
        "id": "K-B8p3KL7bTS",
        "outputId": "522dee00-f521-4eba-ee78-da3a0af7d1bb"
      },
      "outputs": [
        {
          "data": {
            "text/html": [
              "\n",
              "  <div id=\"df-433c97d8-eebf-4270-a013-2e49044ff2b0\">\n",
              "    <div class=\"colab-df-container\">\n",
              "      <div>\n",
              "<style scoped>\n",
              "    .dataframe tbody tr th:only-of-type {\n",
              "        vertical-align: middle;\n",
              "    }\n",
              "\n",
              "    .dataframe tbody tr th {\n",
              "        vertical-align: top;\n",
              "    }\n",
              "\n",
              "    .dataframe thead th {\n",
              "        text-align: right;\n",
              "    }\n",
              "</style>\n",
              "<table border=\"1\" class=\"dataframe\">\n",
              "  <thead>\n",
              "    <tr style=\"text-align: right;\">\n",
              "      <th></th>\n",
              "      <th>real_label</th>\n",
              "      <th>review</th>\n",
              "    </tr>\n",
              "  </thead>\n",
              "  <tbody>\n",
              "    <tr>\n",
              "      <th>0</th>\n",
              "      <td>44</td>\n",
              "      <td>I bought this battery charger a year ago, when...</td>\n",
              "    </tr>\n",
              "    <tr>\n",
              "      <th>1</th>\n",
              "      <td>44</td>\n",
              "      <td>I bought this because with four geriatric vehi...</td>\n",
              "    </tr>\n",
              "    <tr>\n",
              "      <th>2</th>\n",
              "      <td>44</td>\n",
              "      <td>I was a tad skeptical of the outcome after see...</td>\n",
              "    </tr>\n",
              "    <tr>\n",
              "      <th>3</th>\n",
              "      <td>44</td>\n",
              "      <td>I insist on every one of my vehicles to have a...</td>\n",
              "    </tr>\n",
              "    <tr>\n",
              "      <th>4</th>\n",
              "      <td>44</td>\n",
              "      <td>This is a very well-made top grain cow leather...</td>\n",
              "    </tr>\n",
              "    <tr>\n",
              "      <th>...</th>\n",
              "      <td>...</td>\n",
              "      <td>...</td>\n",
              "    </tr>\n",
              "    <tr>\n",
              "      <th>19995</th>\n",
              "      <td>175</td>\n",
              "      <td>JC - If you have a middle name could you use t...</td>\n",
              "    </tr>\n",
              "    <tr>\n",
              "      <th>19996</th>\n",
              "      <td>175</td>\n",
              "      <td>JTP has written a spy novel of past CIA cold w...</td>\n",
              "    </tr>\n",
              "    <tr>\n",
              "      <th>19997</th>\n",
              "      <td>175</td>\n",
              "      <td>JCG has written a mystery novel about a crazy ...</td>\n",
              "    </tr>\n",
              "    <tr>\n",
              "      <th>19998</th>\n",
              "      <td>175</td>\n",
              "      <td>AK writes a storyline about people who are fig...</td>\n",
              "    </tr>\n",
              "    <tr>\n",
              "      <th>19999</th>\n",
              "      <td>175</td>\n",
              "      <td>RA has written a novel in real time. It's like...</td>\n",
              "    </tr>\n",
              "  </tbody>\n",
              "</table>\n",
              "<p>20000 rows × 2 columns</p>\n",
              "</div>\n",
              "      <button class=\"colab-df-convert\" onclick=\"convertToInteractive('df-433c97d8-eebf-4270-a013-2e49044ff2b0')\"\n",
              "              title=\"Convert this dataframe to an interactive table.\"\n",
              "              style=\"display:none;\">\n",
              "        \n",
              "  <svg xmlns=\"http://www.w3.org/2000/svg\" height=\"24px\"viewBox=\"0 0 24 24\"\n",
              "       width=\"24px\">\n",
              "    <path d=\"M0 0h24v24H0V0z\" fill=\"none\"/>\n",
              "    <path d=\"M18.56 5.44l.94 2.06.94-2.06 2.06-.94-2.06-.94-.94-2.06-.94 2.06-2.06.94zm-11 1L8.5 8.5l.94-2.06 2.06-.94-2.06-.94L8.5 2.5l-.94 2.06-2.06.94zm10 10l.94 2.06.94-2.06 2.06-.94-2.06-.94-.94-2.06-.94 2.06-2.06.94z\"/><path d=\"M17.41 7.96l-1.37-1.37c-.4-.4-.92-.59-1.43-.59-.52 0-1.04.2-1.43.59L10.3 9.45l-7.72 7.72c-.78.78-.78 2.05 0 2.83L4 21.41c.39.39.9.59 1.41.59.51 0 1.02-.2 1.41-.59l7.78-7.78 2.81-2.81c.8-.78.8-2.07 0-2.86zM5.41 20L4 18.59l7.72-7.72 1.47 1.35L5.41 20z\"/>\n",
              "  </svg>\n",
              "      </button>\n",
              "      \n",
              "  <style>\n",
              "    .colab-df-container {\n",
              "      display:flex;\n",
              "      flex-wrap:wrap;\n",
              "      gap: 12px;\n",
              "    }\n",
              "\n",
              "    .colab-df-convert {\n",
              "      background-color: #E8F0FE;\n",
              "      border: none;\n",
              "      border-radius: 50%;\n",
              "      cursor: pointer;\n",
              "      display: none;\n",
              "      fill: #1967D2;\n",
              "      height: 32px;\n",
              "      padding: 0 0 0 0;\n",
              "      width: 32px;\n",
              "    }\n",
              "\n",
              "    .colab-df-convert:hover {\n",
              "      background-color: #E2EBFA;\n",
              "      box-shadow: 0px 1px 2px rgba(60, 64, 67, 0.3), 0px 1px 3px 1px rgba(60, 64, 67, 0.15);\n",
              "      fill: #174EA6;\n",
              "    }\n",
              "\n",
              "    [theme=dark] .colab-df-convert {\n",
              "      background-color: #3B4455;\n",
              "      fill: #D2E3FC;\n",
              "    }\n",
              "\n",
              "    [theme=dark] .colab-df-convert:hover {\n",
              "      background-color: #434B5C;\n",
              "      box-shadow: 0px 1px 3px 1px rgba(0, 0, 0, 0.15);\n",
              "      filter: drop-shadow(0px 1px 2px rgba(0, 0, 0, 0.3));\n",
              "      fill: #FFFFFF;\n",
              "    }\n",
              "  </style>\n",
              "\n",
              "      <script>\n",
              "        const buttonEl =\n",
              "          document.querySelector('#df-433c97d8-eebf-4270-a013-2e49044ff2b0 button.colab-df-convert');\n",
              "        buttonEl.style.display =\n",
              "          google.colab.kernel.accessAllowed ? 'block' : 'none';\n",
              "\n",
              "        async function convertToInteractive(key) {\n",
              "          const element = document.querySelector('#df-433c97d8-eebf-4270-a013-2e49044ff2b0');\n",
              "          const dataTable =\n",
              "            await google.colab.kernel.invokeFunction('convertToInteractive',\n",
              "                                                     [key], {});\n",
              "          if (!dataTable) return;\n",
              "\n",
              "          const docLinkHtml = 'Like what you see? Visit the ' +\n",
              "            '<a target=\"_blank\" href=https://colab.research.google.com/notebooks/data_table.ipynb>data table notebook</a>'\n",
              "            + ' to learn more about interactive tables.';\n",
              "          element.innerHTML = '';\n",
              "          dataTable['output_type'] = 'display_data';\n",
              "          await google.colab.output.renderOutput(dataTable, element);\n",
              "          const docLink = document.createElement('div');\n",
              "          docLink.innerHTML = docLinkHtml;\n",
              "          element.appendChild(docLink);\n",
              "        }\n",
              "      </script>\n",
              "    </div>\n",
              "  </div>\n",
              "  "
            ],
            "text/plain": [
              "       real_label                                             review\n",
              "0              44  I bought this battery charger a year ago, when...\n",
              "1              44  I bought this because with four geriatric vehi...\n",
              "2              44  I was a tad skeptical of the outcome after see...\n",
              "3              44  I insist on every one of my vehicles to have a...\n",
              "4              44  This is a very well-made top grain cow leather...\n",
              "...           ...                                                ...\n",
              "19995         175  JC - If you have a middle name could you use t...\n",
              "19996         175  JTP has written a spy novel of past CIA cold w...\n",
              "19997         175  JCG has written a mystery novel about a crazy ...\n",
              "19998         175  AK writes a storyline about people who are fig...\n",
              "19999         175  RA has written a novel in real time. It's like...\n",
              "\n",
              "[20000 rows x 2 columns]"
            ]
          },
          "execution_count": 38,
          "metadata": {},
          "output_type": "execute_result"
        }
      ],
      "source": [
        "df"
      ]
    },
    {
      "cell_type": "code",
      "execution_count": 39,
      "metadata": {
        "id": "ZIBmhuYisehN"
      },
      "outputs": [],
      "source": [
        "arr_real_labels = [i for i in range(100,10000)]"
      ]
    },
    {
      "cell_type": "code",
      "execution_count": 40,
      "metadata": {
        "colab": {
          "base_uri": "https://localhost:8080/"
        },
        "id": "bkEsbxpisl0i",
        "outputId": "93eeadb1-9e15-4af1-e470-217feaf0315c"
      },
      "outputs": [
        {
          "data": {
            "text/plain": [
              "[100,\n",
              " 101,\n",
              " 102,\n",
              " 103,\n",
              " 104,\n",
              " 105,\n",
              " 106,\n",
              " 107,\n",
              " 108,\n",
              " 109,\n",
              " 110,\n",
              " 111,\n",
              " 112,\n",
              " 113,\n",
              " 114,\n",
              " 115,\n",
              " 116,\n",
              " 117,\n",
              " 118,\n",
              " 119,\n",
              " 120,\n",
              " 121,\n",
              " 122,\n",
              " 123,\n",
              " 124,\n",
              " 125,\n",
              " 126,\n",
              " 127,\n",
              " 128,\n",
              " 129,\n",
              " 130,\n",
              " 131,\n",
              " 132,\n",
              " 133,\n",
              " 134,\n",
              " 135,\n",
              " 136,\n",
              " 137,\n",
              " 138,\n",
              " 139,\n",
              " 140,\n",
              " 141,\n",
              " 142,\n",
              " 143,\n",
              " 144,\n",
              " 145,\n",
              " 146,\n",
              " 147,\n",
              " 148,\n",
              " 149,\n",
              " 150,\n",
              " 151,\n",
              " 152,\n",
              " 153,\n",
              " 154,\n",
              " 155,\n",
              " 156,\n",
              " 157,\n",
              " 158,\n",
              " 159,\n",
              " 160,\n",
              " 161,\n",
              " 162,\n",
              " 163,\n",
              " 164,\n",
              " 165,\n",
              " 166,\n",
              " 167,\n",
              " 168,\n",
              " 169,\n",
              " 170,\n",
              " 171,\n",
              " 172,\n",
              " 173,\n",
              " 174,\n",
              " 175,\n",
              " 176,\n",
              " 177,\n",
              " 178,\n",
              " 179,\n",
              " 180,\n",
              " 181,\n",
              " 182,\n",
              " 183,\n",
              " 184,\n",
              " 185,\n",
              " 186,\n",
              " 187,\n",
              " 188,\n",
              " 189,\n",
              " 190,\n",
              " 191,\n",
              " 192,\n",
              " 193,\n",
              " 194,\n",
              " 195,\n",
              " 196,\n",
              " 197,\n",
              " 198,\n",
              " 199,\n",
              " 200,\n",
              " 201,\n",
              " 202,\n",
              " 203,\n",
              " 204,\n",
              " 205,\n",
              " 206,\n",
              " 207,\n",
              " 208,\n",
              " 209,\n",
              " 210,\n",
              " 211,\n",
              " 212,\n",
              " 213,\n",
              " 214,\n",
              " 215,\n",
              " 216,\n",
              " 217,\n",
              " 218,\n",
              " 219,\n",
              " 220,\n",
              " 221,\n",
              " 222,\n",
              " 223,\n",
              " 224,\n",
              " 225,\n",
              " 226,\n",
              " 227,\n",
              " 228,\n",
              " 229,\n",
              " 230,\n",
              " 231,\n",
              " 232,\n",
              " 233,\n",
              " 234,\n",
              " 235,\n",
              " 236,\n",
              " 237,\n",
              " 238,\n",
              " 239,\n",
              " 240,\n",
              " 241,\n",
              " 242,\n",
              " 243,\n",
              " 244,\n",
              " 245,\n",
              " 246,\n",
              " 247,\n",
              " 248,\n",
              " 249,\n",
              " 250,\n",
              " 251,\n",
              " 252,\n",
              " 253,\n",
              " 254,\n",
              " 255,\n",
              " 256,\n",
              " 257,\n",
              " 258,\n",
              " 259,\n",
              " 260,\n",
              " 261,\n",
              " 262,\n",
              " 263,\n",
              " 264,\n",
              " 265,\n",
              " 266,\n",
              " 267,\n",
              " 268,\n",
              " 269,\n",
              " 270,\n",
              " 271,\n",
              " 272,\n",
              " 273,\n",
              " 274,\n",
              " 275,\n",
              " 276,\n",
              " 277,\n",
              " 278,\n",
              " 279,\n",
              " 280,\n",
              " 281,\n",
              " 282,\n",
              " 283,\n",
              " 284,\n",
              " 285,\n",
              " 286,\n",
              " 287,\n",
              " 288,\n",
              " 289,\n",
              " 290,\n",
              " 291,\n",
              " 292,\n",
              " 293,\n",
              " 294,\n",
              " 295,\n",
              " 296,\n",
              " 297,\n",
              " 298,\n",
              " 299,\n",
              " 300,\n",
              " 301,\n",
              " 302,\n",
              " 303,\n",
              " 304,\n",
              " 305,\n",
              " 306,\n",
              " 307,\n",
              " 308,\n",
              " 309,\n",
              " 310,\n",
              " 311,\n",
              " 312,\n",
              " 313,\n",
              " 314,\n",
              " 315,\n",
              " 316,\n",
              " 317,\n",
              " 318,\n",
              " 319,\n",
              " 320,\n",
              " 321,\n",
              " 322,\n",
              " 323,\n",
              " 324,\n",
              " 325,\n",
              " 326,\n",
              " 327,\n",
              " 328,\n",
              " 329,\n",
              " 330,\n",
              " 331,\n",
              " 332,\n",
              " 333,\n",
              " 334,\n",
              " 335,\n",
              " 336,\n",
              " 337,\n",
              " 338,\n",
              " 339,\n",
              " 340,\n",
              " 341,\n",
              " 342,\n",
              " 343,\n",
              " 344,\n",
              " 345,\n",
              " 346,\n",
              " 347,\n",
              " 348,\n",
              " 349,\n",
              " 350,\n",
              " 351,\n",
              " 352,\n",
              " 353,\n",
              " 354,\n",
              " 355,\n",
              " 356,\n",
              " 357,\n",
              " 358,\n",
              " 359,\n",
              " 360,\n",
              " 361,\n",
              " 362,\n",
              " 363,\n",
              " 364,\n",
              " 365,\n",
              " 366,\n",
              " 367,\n",
              " 368,\n",
              " 369,\n",
              " 370,\n",
              " 371,\n",
              " 372,\n",
              " 373,\n",
              " 374,\n",
              " 375,\n",
              " 376,\n",
              " 377,\n",
              " 378,\n",
              " 379,\n",
              " 380,\n",
              " 381,\n",
              " 382,\n",
              " 383,\n",
              " 384,\n",
              " 385,\n",
              " 386,\n",
              " 387,\n",
              " 388,\n",
              " 389,\n",
              " 390,\n",
              " 391,\n",
              " 392,\n",
              " 393,\n",
              " 394,\n",
              " 395,\n",
              " 396,\n",
              " 397,\n",
              " 398,\n",
              " 399,\n",
              " 400,\n",
              " 401,\n",
              " 402,\n",
              " 403,\n",
              " 404,\n",
              " 405,\n",
              " 406,\n",
              " 407,\n",
              " 408,\n",
              " 409,\n",
              " 410,\n",
              " 411,\n",
              " 412,\n",
              " 413,\n",
              " 414,\n",
              " 415,\n",
              " 416,\n",
              " 417,\n",
              " 418,\n",
              " 419,\n",
              " 420,\n",
              " 421,\n",
              " 422,\n",
              " 423,\n",
              " 424,\n",
              " 425,\n",
              " 426,\n",
              " 427,\n",
              " 428,\n",
              " 429,\n",
              " 430,\n",
              " 431,\n",
              " 432,\n",
              " 433,\n",
              " 434,\n",
              " 435,\n",
              " 436,\n",
              " 437,\n",
              " 438,\n",
              " 439,\n",
              " 440,\n",
              " 441,\n",
              " 442,\n",
              " 443,\n",
              " 444,\n",
              " 445,\n",
              " 446,\n",
              " 447,\n",
              " 448,\n",
              " 449,\n",
              " 450,\n",
              " 451,\n",
              " 452,\n",
              " 453,\n",
              " 454,\n",
              " 455,\n",
              " 456,\n",
              " 457,\n",
              " 458,\n",
              " 459,\n",
              " 460,\n",
              " 461,\n",
              " 462,\n",
              " 463,\n",
              " 464,\n",
              " 465,\n",
              " 466,\n",
              " 467,\n",
              " 468,\n",
              " 469,\n",
              " 470,\n",
              " 471,\n",
              " 472,\n",
              " 473,\n",
              " 474,\n",
              " 475,\n",
              " 476,\n",
              " 477,\n",
              " 478,\n",
              " 479,\n",
              " 480,\n",
              " 481,\n",
              " 482,\n",
              " 483,\n",
              " 484,\n",
              " 485,\n",
              " 486,\n",
              " 487,\n",
              " 488,\n",
              " 489,\n",
              " 490,\n",
              " 491,\n",
              " 492,\n",
              " 493,\n",
              " 494,\n",
              " 495,\n",
              " 496,\n",
              " 497,\n",
              " 498,\n",
              " 499,\n",
              " 500,\n",
              " 501,\n",
              " 502,\n",
              " 503,\n",
              " 504,\n",
              " 505,\n",
              " 506,\n",
              " 507,\n",
              " 508,\n",
              " 509,\n",
              " 510,\n",
              " 511,\n",
              " 512,\n",
              " 513,\n",
              " 514,\n",
              " 515,\n",
              " 516,\n",
              " 517,\n",
              " 518,\n",
              " 519,\n",
              " 520,\n",
              " 521,\n",
              " 522,\n",
              " 523,\n",
              " 524,\n",
              " 525,\n",
              " 526,\n",
              " 527,\n",
              " 528,\n",
              " 529,\n",
              " 530,\n",
              " 531,\n",
              " 532,\n",
              " 533,\n",
              " 534,\n",
              " 535,\n",
              " 536,\n",
              " 537,\n",
              " 538,\n",
              " 539,\n",
              " 540,\n",
              " 541,\n",
              " 542,\n",
              " 543,\n",
              " 544,\n",
              " 545,\n",
              " 546,\n",
              " 547,\n",
              " 548,\n",
              " 549,\n",
              " 550,\n",
              " 551,\n",
              " 552,\n",
              " 553,\n",
              " 554,\n",
              " 555,\n",
              " 556,\n",
              " 557,\n",
              " 558,\n",
              " 559,\n",
              " 560,\n",
              " 561,\n",
              " 562,\n",
              " 563,\n",
              " 564,\n",
              " 565,\n",
              " 566,\n",
              " 567,\n",
              " 568,\n",
              " 569,\n",
              " 570,\n",
              " 571,\n",
              " 572,\n",
              " 573,\n",
              " 574,\n",
              " 575,\n",
              " 576,\n",
              " 577,\n",
              " 578,\n",
              " 579,\n",
              " 580,\n",
              " 581,\n",
              " 582,\n",
              " 583,\n",
              " 584,\n",
              " 585,\n",
              " 586,\n",
              " 587,\n",
              " 588,\n",
              " 589,\n",
              " 590,\n",
              " 591,\n",
              " 592,\n",
              " 593,\n",
              " 594,\n",
              " 595,\n",
              " 596,\n",
              " 597,\n",
              " 598,\n",
              " 599,\n",
              " 600,\n",
              " 601,\n",
              " 602,\n",
              " 603,\n",
              " 604,\n",
              " 605,\n",
              " 606,\n",
              " 607,\n",
              " 608,\n",
              " 609,\n",
              " 610,\n",
              " 611,\n",
              " 612,\n",
              " 613,\n",
              " 614,\n",
              " 615,\n",
              " 616,\n",
              " 617,\n",
              " 618,\n",
              " 619,\n",
              " 620,\n",
              " 621,\n",
              " 622,\n",
              " 623,\n",
              " 624,\n",
              " 625,\n",
              " 626,\n",
              " 627,\n",
              " 628,\n",
              " 629,\n",
              " 630,\n",
              " 631,\n",
              " 632,\n",
              " 633,\n",
              " 634,\n",
              " 635,\n",
              " 636,\n",
              " 637,\n",
              " 638,\n",
              " 639,\n",
              " 640,\n",
              " 641,\n",
              " 642,\n",
              " 643,\n",
              " 644,\n",
              " 645,\n",
              " 646,\n",
              " 647,\n",
              " 648,\n",
              " 649,\n",
              " 650,\n",
              " 651,\n",
              " 652,\n",
              " 653,\n",
              " 654,\n",
              " 655,\n",
              " 656,\n",
              " 657,\n",
              " 658,\n",
              " 659,\n",
              " 660,\n",
              " 661,\n",
              " 662,\n",
              " 663,\n",
              " 664,\n",
              " 665,\n",
              " 666,\n",
              " 667,\n",
              " 668,\n",
              " 669,\n",
              " 670,\n",
              " 671,\n",
              " 672,\n",
              " 673,\n",
              " 674,\n",
              " 675,\n",
              " 676,\n",
              " 677,\n",
              " 678,\n",
              " 679,\n",
              " 680,\n",
              " 681,\n",
              " 682,\n",
              " 683,\n",
              " 684,\n",
              " 685,\n",
              " 686,\n",
              " 687,\n",
              " 688,\n",
              " 689,\n",
              " 690,\n",
              " 691,\n",
              " 692,\n",
              " 693,\n",
              " 694,\n",
              " 695,\n",
              " 696,\n",
              " 697,\n",
              " 698,\n",
              " 699,\n",
              " 700,\n",
              " 701,\n",
              " 702,\n",
              " 703,\n",
              " 704,\n",
              " 705,\n",
              " 706,\n",
              " 707,\n",
              " 708,\n",
              " 709,\n",
              " 710,\n",
              " 711,\n",
              " 712,\n",
              " 713,\n",
              " 714,\n",
              " 715,\n",
              " 716,\n",
              " 717,\n",
              " 718,\n",
              " 719,\n",
              " 720,\n",
              " 721,\n",
              " 722,\n",
              " 723,\n",
              " 724,\n",
              " 725,\n",
              " 726,\n",
              " 727,\n",
              " 728,\n",
              " 729,\n",
              " 730,\n",
              " 731,\n",
              " 732,\n",
              " 733,\n",
              " 734,\n",
              " 735,\n",
              " 736,\n",
              " 737,\n",
              " 738,\n",
              " 739,\n",
              " 740,\n",
              " 741,\n",
              " 742,\n",
              " 743,\n",
              " 744,\n",
              " 745,\n",
              " 746,\n",
              " 747,\n",
              " 748,\n",
              " 749,\n",
              " 750,\n",
              " 751,\n",
              " 752,\n",
              " 753,\n",
              " 754,\n",
              " 755,\n",
              " 756,\n",
              " 757,\n",
              " 758,\n",
              " 759,\n",
              " 760,\n",
              " 761,\n",
              " 762,\n",
              " 763,\n",
              " 764,\n",
              " 765,\n",
              " 766,\n",
              " 767,\n",
              " 768,\n",
              " 769,\n",
              " 770,\n",
              " 771,\n",
              " 772,\n",
              " 773,\n",
              " 774,\n",
              " 775,\n",
              " 776,\n",
              " 777,\n",
              " 778,\n",
              " 779,\n",
              " 780,\n",
              " 781,\n",
              " 782,\n",
              " 783,\n",
              " 784,\n",
              " 785,\n",
              " 786,\n",
              " 787,\n",
              " 788,\n",
              " 789,\n",
              " 790,\n",
              " 791,\n",
              " 792,\n",
              " 793,\n",
              " 794,\n",
              " 795,\n",
              " 796,\n",
              " 797,\n",
              " 798,\n",
              " 799,\n",
              " 800,\n",
              " 801,\n",
              " 802,\n",
              " 803,\n",
              " 804,\n",
              " 805,\n",
              " 806,\n",
              " 807,\n",
              " 808,\n",
              " 809,\n",
              " 810,\n",
              " 811,\n",
              " 812,\n",
              " 813,\n",
              " 814,\n",
              " 815,\n",
              " 816,\n",
              " 817,\n",
              " 818,\n",
              " 819,\n",
              " 820,\n",
              " 821,\n",
              " 822,\n",
              " 823,\n",
              " 824,\n",
              " 825,\n",
              " 826,\n",
              " 827,\n",
              " 828,\n",
              " 829,\n",
              " 830,\n",
              " 831,\n",
              " 832,\n",
              " 833,\n",
              " 834,\n",
              " 835,\n",
              " 836,\n",
              " 837,\n",
              " 838,\n",
              " 839,\n",
              " 840,\n",
              " 841,\n",
              " 842,\n",
              " 843,\n",
              " 844,\n",
              " 845,\n",
              " 846,\n",
              " 847,\n",
              " 848,\n",
              " 849,\n",
              " 850,\n",
              " 851,\n",
              " 852,\n",
              " 853,\n",
              " 854,\n",
              " 855,\n",
              " 856,\n",
              " 857,\n",
              " 858,\n",
              " 859,\n",
              " 860,\n",
              " 861,\n",
              " 862,\n",
              " 863,\n",
              " 864,\n",
              " 865,\n",
              " 866,\n",
              " 867,\n",
              " 868,\n",
              " 869,\n",
              " 870,\n",
              " 871,\n",
              " 872,\n",
              " 873,\n",
              " 874,\n",
              " 875,\n",
              " 876,\n",
              " 877,\n",
              " 878,\n",
              " 879,\n",
              " 880,\n",
              " 881,\n",
              " 882,\n",
              " 883,\n",
              " 884,\n",
              " 885,\n",
              " 886,\n",
              " 887,\n",
              " 888,\n",
              " 889,\n",
              " 890,\n",
              " 891,\n",
              " 892,\n",
              " 893,\n",
              " 894,\n",
              " 895,\n",
              " 896,\n",
              " 897,\n",
              " 898,\n",
              " 899,\n",
              " 900,\n",
              " 901,\n",
              " 902,\n",
              " 903,\n",
              " 904,\n",
              " 905,\n",
              " 906,\n",
              " 907,\n",
              " 908,\n",
              " 909,\n",
              " 910,\n",
              " 911,\n",
              " 912,\n",
              " 913,\n",
              " 914,\n",
              " 915,\n",
              " 916,\n",
              " 917,\n",
              " 918,\n",
              " 919,\n",
              " 920,\n",
              " 921,\n",
              " 922,\n",
              " 923,\n",
              " 924,\n",
              " 925,\n",
              " 926,\n",
              " 927,\n",
              " 928,\n",
              " 929,\n",
              " 930,\n",
              " 931,\n",
              " 932,\n",
              " 933,\n",
              " 934,\n",
              " 935,\n",
              " 936,\n",
              " 937,\n",
              " 938,\n",
              " 939,\n",
              " 940,\n",
              " 941,\n",
              " 942,\n",
              " 943,\n",
              " 944,\n",
              " 945,\n",
              " 946,\n",
              " 947,\n",
              " 948,\n",
              " 949,\n",
              " 950,\n",
              " 951,\n",
              " 952,\n",
              " 953,\n",
              " 954,\n",
              " 955,\n",
              " 956,\n",
              " 957,\n",
              " 958,\n",
              " 959,\n",
              " 960,\n",
              " 961,\n",
              " 962,\n",
              " 963,\n",
              " 964,\n",
              " 965,\n",
              " 966,\n",
              " 967,\n",
              " 968,\n",
              " 969,\n",
              " 970,\n",
              " 971,\n",
              " 972,\n",
              " 973,\n",
              " 974,\n",
              " 975,\n",
              " 976,\n",
              " 977,\n",
              " 978,\n",
              " 979,\n",
              " 980,\n",
              " 981,\n",
              " 982,\n",
              " 983,\n",
              " 984,\n",
              " 985,\n",
              " 986,\n",
              " 987,\n",
              " 988,\n",
              " 989,\n",
              " 990,\n",
              " 991,\n",
              " 992,\n",
              " 993,\n",
              " 994,\n",
              " 995,\n",
              " 996,\n",
              " 997,\n",
              " 998,\n",
              " 999,\n",
              " 1000,\n",
              " 1001,\n",
              " 1002,\n",
              " 1003,\n",
              " 1004,\n",
              " 1005,\n",
              " 1006,\n",
              " 1007,\n",
              " 1008,\n",
              " 1009,\n",
              " 1010,\n",
              " 1011,\n",
              " 1012,\n",
              " 1013,\n",
              " 1014,\n",
              " 1015,\n",
              " 1016,\n",
              " 1017,\n",
              " 1018,\n",
              " 1019,\n",
              " 1020,\n",
              " 1021,\n",
              " 1022,\n",
              " 1023,\n",
              " 1024,\n",
              " 1025,\n",
              " 1026,\n",
              " 1027,\n",
              " 1028,\n",
              " 1029,\n",
              " 1030,\n",
              " 1031,\n",
              " 1032,\n",
              " 1033,\n",
              " 1034,\n",
              " 1035,\n",
              " 1036,\n",
              " 1037,\n",
              " 1038,\n",
              " 1039,\n",
              " 1040,\n",
              " 1041,\n",
              " 1042,\n",
              " 1043,\n",
              " 1044,\n",
              " 1045,\n",
              " 1046,\n",
              " 1047,\n",
              " 1048,\n",
              " 1049,\n",
              " 1050,\n",
              " 1051,\n",
              " 1052,\n",
              " 1053,\n",
              " 1054,\n",
              " 1055,\n",
              " 1056,\n",
              " 1057,\n",
              " 1058,\n",
              " 1059,\n",
              " 1060,\n",
              " 1061,\n",
              " 1062,\n",
              " 1063,\n",
              " 1064,\n",
              " 1065,\n",
              " 1066,\n",
              " 1067,\n",
              " 1068,\n",
              " 1069,\n",
              " 1070,\n",
              " 1071,\n",
              " 1072,\n",
              " 1073,\n",
              " 1074,\n",
              " 1075,\n",
              " 1076,\n",
              " 1077,\n",
              " 1078,\n",
              " 1079,\n",
              " 1080,\n",
              " 1081,\n",
              " 1082,\n",
              " 1083,\n",
              " 1084,\n",
              " 1085,\n",
              " 1086,\n",
              " 1087,\n",
              " 1088,\n",
              " 1089,\n",
              " 1090,\n",
              " 1091,\n",
              " 1092,\n",
              " 1093,\n",
              " 1094,\n",
              " 1095,\n",
              " 1096,\n",
              " 1097,\n",
              " 1098,\n",
              " 1099,\n",
              " ...]"
            ]
          },
          "execution_count": 40,
          "metadata": {},
          "output_type": "execute_result"
        }
      ],
      "source": [
        "arr_real_labels"
      ]
    },
    {
      "cell_type": "code",
      "execution_count": 41,
      "metadata": {
        "id": "KNe-aZ9SsZ-4"
      },
      "outputs": [],
      "source": [
        "df['real_label'] = df['real_label'].replace(arr_real_labels,100)"
      ]
    },
    {
      "cell_type": "code",
      "execution_count": 42,
      "metadata": {
        "id": "mApZpnbpMN10"
      },
      "outputs": [],
      "source": [
        "df=df.loc[df.real_label.values<=100]"
      ]
    },
    {
      "cell_type": "code",
      "execution_count": 43,
      "metadata": {
        "colab": {
          "base_uri": "https://localhost:8080/",
          "height": 424
        },
        "id": "h35MYT2I7JTp",
        "outputId": "89b74037-af67-425f-92ef-49d0d114369e"
      },
      "outputs": [
        {
          "data": {
            "text/html": [
              "\n",
              "  <div id=\"df-ea345654-8134-4023-95a9-ef2f37bcba79\">\n",
              "    <div class=\"colab-df-container\">\n",
              "      <div>\n",
              "<style scoped>\n",
              "    .dataframe tbody tr th:only-of-type {\n",
              "        vertical-align: middle;\n",
              "    }\n",
              "\n",
              "    .dataframe tbody tr th {\n",
              "        vertical-align: top;\n",
              "    }\n",
              "\n",
              "    .dataframe thead th {\n",
              "        text-align: right;\n",
              "    }\n",
              "</style>\n",
              "<table border=\"1\" class=\"dataframe\">\n",
              "  <thead>\n",
              "    <tr style=\"text-align: right;\">\n",
              "      <th></th>\n",
              "      <th>real_label</th>\n",
              "      <th>review</th>\n",
              "    </tr>\n",
              "  </thead>\n",
              "  <tbody>\n",
              "    <tr>\n",
              "      <th>0</th>\n",
              "      <td>44</td>\n",
              "      <td>I bought this battery charger a year ago, when...</td>\n",
              "    </tr>\n",
              "    <tr>\n",
              "      <th>1</th>\n",
              "      <td>44</td>\n",
              "      <td>I bought this because with four geriatric vehi...</td>\n",
              "    </tr>\n",
              "    <tr>\n",
              "      <th>2</th>\n",
              "      <td>44</td>\n",
              "      <td>I was a tad skeptical of the outcome after see...</td>\n",
              "    </tr>\n",
              "    <tr>\n",
              "      <th>3</th>\n",
              "      <td>44</td>\n",
              "      <td>I insist on every one of my vehicles to have a...</td>\n",
              "    </tr>\n",
              "    <tr>\n",
              "      <th>4</th>\n",
              "      <td>44</td>\n",
              "      <td>This is a very well-made top grain cow leather...</td>\n",
              "    </tr>\n",
              "    <tr>\n",
              "      <th>...</th>\n",
              "      <td>...</td>\n",
              "      <td>...</td>\n",
              "    </tr>\n",
              "    <tr>\n",
              "      <th>19995</th>\n",
              "      <td>100</td>\n",
              "      <td>JC - If you have a middle name could you use t...</td>\n",
              "    </tr>\n",
              "    <tr>\n",
              "      <th>19996</th>\n",
              "      <td>100</td>\n",
              "      <td>JTP has written a spy novel of past CIA cold w...</td>\n",
              "    </tr>\n",
              "    <tr>\n",
              "      <th>19997</th>\n",
              "      <td>100</td>\n",
              "      <td>JCG has written a mystery novel about a crazy ...</td>\n",
              "    </tr>\n",
              "    <tr>\n",
              "      <th>19998</th>\n",
              "      <td>100</td>\n",
              "      <td>AK writes a storyline about people who are fig...</td>\n",
              "    </tr>\n",
              "    <tr>\n",
              "      <th>19999</th>\n",
              "      <td>100</td>\n",
              "      <td>RA has written a novel in real time. It's like...</td>\n",
              "    </tr>\n",
              "  </tbody>\n",
              "</table>\n",
              "<p>20000 rows × 2 columns</p>\n",
              "</div>\n",
              "      <button class=\"colab-df-convert\" onclick=\"convertToInteractive('df-ea345654-8134-4023-95a9-ef2f37bcba79')\"\n",
              "              title=\"Convert this dataframe to an interactive table.\"\n",
              "              style=\"display:none;\">\n",
              "        \n",
              "  <svg xmlns=\"http://www.w3.org/2000/svg\" height=\"24px\"viewBox=\"0 0 24 24\"\n",
              "       width=\"24px\">\n",
              "    <path d=\"M0 0h24v24H0V0z\" fill=\"none\"/>\n",
              "    <path d=\"M18.56 5.44l.94 2.06.94-2.06 2.06-.94-2.06-.94-.94-2.06-.94 2.06-2.06.94zm-11 1L8.5 8.5l.94-2.06 2.06-.94-2.06-.94L8.5 2.5l-.94 2.06-2.06.94zm10 10l.94 2.06.94-2.06 2.06-.94-2.06-.94-.94-2.06-.94 2.06-2.06.94z\"/><path d=\"M17.41 7.96l-1.37-1.37c-.4-.4-.92-.59-1.43-.59-.52 0-1.04.2-1.43.59L10.3 9.45l-7.72 7.72c-.78.78-.78 2.05 0 2.83L4 21.41c.39.39.9.59 1.41.59.51 0 1.02-.2 1.41-.59l7.78-7.78 2.81-2.81c.8-.78.8-2.07 0-2.86zM5.41 20L4 18.59l7.72-7.72 1.47 1.35L5.41 20z\"/>\n",
              "  </svg>\n",
              "      </button>\n",
              "      \n",
              "  <style>\n",
              "    .colab-df-container {\n",
              "      display:flex;\n",
              "      flex-wrap:wrap;\n",
              "      gap: 12px;\n",
              "    }\n",
              "\n",
              "    .colab-df-convert {\n",
              "      background-color: #E8F0FE;\n",
              "      border: none;\n",
              "      border-radius: 50%;\n",
              "      cursor: pointer;\n",
              "      display: none;\n",
              "      fill: #1967D2;\n",
              "      height: 32px;\n",
              "      padding: 0 0 0 0;\n",
              "      width: 32px;\n",
              "    }\n",
              "\n",
              "    .colab-df-convert:hover {\n",
              "      background-color: #E2EBFA;\n",
              "      box-shadow: 0px 1px 2px rgba(60, 64, 67, 0.3), 0px 1px 3px 1px rgba(60, 64, 67, 0.15);\n",
              "      fill: #174EA6;\n",
              "    }\n",
              "\n",
              "    [theme=dark] .colab-df-convert {\n",
              "      background-color: #3B4455;\n",
              "      fill: #D2E3FC;\n",
              "    }\n",
              "\n",
              "    [theme=dark] .colab-df-convert:hover {\n",
              "      background-color: #434B5C;\n",
              "      box-shadow: 0px 1px 3px 1px rgba(0, 0, 0, 0.15);\n",
              "      filter: drop-shadow(0px 1px 2px rgba(0, 0, 0, 0.3));\n",
              "      fill: #FFFFFF;\n",
              "    }\n",
              "  </style>\n",
              "\n",
              "      <script>\n",
              "        const buttonEl =\n",
              "          document.querySelector('#df-ea345654-8134-4023-95a9-ef2f37bcba79 button.colab-df-convert');\n",
              "        buttonEl.style.display =\n",
              "          google.colab.kernel.accessAllowed ? 'block' : 'none';\n",
              "\n",
              "        async function convertToInteractive(key) {\n",
              "          const element = document.querySelector('#df-ea345654-8134-4023-95a9-ef2f37bcba79');\n",
              "          const dataTable =\n",
              "            await google.colab.kernel.invokeFunction('convertToInteractive',\n",
              "                                                     [key], {});\n",
              "          if (!dataTable) return;\n",
              "\n",
              "          const docLinkHtml = 'Like what you see? Visit the ' +\n",
              "            '<a target=\"_blank\" href=https://colab.research.google.com/notebooks/data_table.ipynb>data table notebook</a>'\n",
              "            + ' to learn more about interactive tables.';\n",
              "          element.innerHTML = '';\n",
              "          dataTable['output_type'] = 'display_data';\n",
              "          await google.colab.output.renderOutput(dataTable, element);\n",
              "          const docLink = document.createElement('div');\n",
              "          docLink.innerHTML = docLinkHtml;\n",
              "          element.appendChild(docLink);\n",
              "        }\n",
              "      </script>\n",
              "    </div>\n",
              "  </div>\n",
              "  "
            ],
            "text/plain": [
              "       real_label                                             review\n",
              "0              44  I bought this battery charger a year ago, when...\n",
              "1              44  I bought this because with four geriatric vehi...\n",
              "2              44  I was a tad skeptical of the outcome after see...\n",
              "3              44  I insist on every one of my vehicles to have a...\n",
              "4              44  This is a very well-made top grain cow leather...\n",
              "...           ...                                                ...\n",
              "19995         100  JC - If you have a middle name could you use t...\n",
              "19996         100  JTP has written a spy novel of past CIA cold w...\n",
              "19997         100  JCG has written a mystery novel about a crazy ...\n",
              "19998         100  AK writes a storyline about people who are fig...\n",
              "19999         100  RA has written a novel in real time. It's like...\n",
              "\n",
              "[20000 rows x 2 columns]"
            ]
          },
          "execution_count": 43,
          "metadata": {},
          "output_type": "execute_result"
        }
      ],
      "source": [
        "df"
      ]
    },
    {
      "cell_type": "code",
      "execution_count": 44,
      "metadata": {
        "colab": {
          "base_uri": "https://localhost:8080/",
          "height": 455
        },
        "id": "XikERaqQLOiG",
        "outputId": "77f10216-96d9-42f3-ed06-749dcd355e6e"
      },
      "outputs": [
        {
          "data": {
            "text/html": [
              "\n",
              "  <div id=\"df-fe9a847a-7a4b-4a77-8b03-ea7e13ff64ff\">\n",
              "    <div class=\"colab-df-container\">\n",
              "      <div>\n",
              "<style scoped>\n",
              "    .dataframe tbody tr th:only-of-type {\n",
              "        vertical-align: middle;\n",
              "    }\n",
              "\n",
              "    .dataframe tbody tr th {\n",
              "        vertical-align: top;\n",
              "    }\n",
              "\n",
              "    .dataframe thead th {\n",
              "        text-align: right;\n",
              "    }\n",
              "</style>\n",
              "<table border=\"1\" class=\"dataframe\">\n",
              "  <thead>\n",
              "    <tr style=\"text-align: right;\">\n",
              "      <th></th>\n",
              "      <th>review</th>\n",
              "    </tr>\n",
              "    <tr>\n",
              "      <th>real_label</th>\n",
              "      <th></th>\n",
              "    </tr>\n",
              "  </thead>\n",
              "  <tbody>\n",
              "    <tr>\n",
              "      <th>0</th>\n",
              "      <td>100</td>\n",
              "    </tr>\n",
              "    <tr>\n",
              "      <th>1</th>\n",
              "      <td>100</td>\n",
              "    </tr>\n",
              "    <tr>\n",
              "      <th>2</th>\n",
              "      <td>100</td>\n",
              "    </tr>\n",
              "    <tr>\n",
              "      <th>3</th>\n",
              "      <td>100</td>\n",
              "    </tr>\n",
              "    <tr>\n",
              "      <th>4</th>\n",
              "      <td>100</td>\n",
              "    </tr>\n",
              "    <tr>\n",
              "      <th>...</th>\n",
              "      <td>...</td>\n",
              "    </tr>\n",
              "    <tr>\n",
              "      <th>96</th>\n",
              "      <td>100</td>\n",
              "    </tr>\n",
              "    <tr>\n",
              "      <th>97</th>\n",
              "      <td>100</td>\n",
              "    </tr>\n",
              "    <tr>\n",
              "      <th>98</th>\n",
              "      <td>100</td>\n",
              "    </tr>\n",
              "    <tr>\n",
              "      <th>99</th>\n",
              "      <td>100</td>\n",
              "    </tr>\n",
              "    <tr>\n",
              "      <th>100</th>\n",
              "      <td>10000</td>\n",
              "    </tr>\n",
              "  </tbody>\n",
              "</table>\n",
              "<p>101 rows × 1 columns</p>\n",
              "</div>\n",
              "      <button class=\"colab-df-convert\" onclick=\"convertToInteractive('df-fe9a847a-7a4b-4a77-8b03-ea7e13ff64ff')\"\n",
              "              title=\"Convert this dataframe to an interactive table.\"\n",
              "              style=\"display:none;\">\n",
              "        \n",
              "  <svg xmlns=\"http://www.w3.org/2000/svg\" height=\"24px\"viewBox=\"0 0 24 24\"\n",
              "       width=\"24px\">\n",
              "    <path d=\"M0 0h24v24H0V0z\" fill=\"none\"/>\n",
              "    <path d=\"M18.56 5.44l.94 2.06.94-2.06 2.06-.94-2.06-.94-.94-2.06-.94 2.06-2.06.94zm-11 1L8.5 8.5l.94-2.06 2.06-.94-2.06-.94L8.5 2.5l-.94 2.06-2.06.94zm10 10l.94 2.06.94-2.06 2.06-.94-2.06-.94-.94-2.06-.94 2.06-2.06.94z\"/><path d=\"M17.41 7.96l-1.37-1.37c-.4-.4-.92-.59-1.43-.59-.52 0-1.04.2-1.43.59L10.3 9.45l-7.72 7.72c-.78.78-.78 2.05 0 2.83L4 21.41c.39.39.9.59 1.41.59.51 0 1.02-.2 1.41-.59l7.78-7.78 2.81-2.81c.8-.78.8-2.07 0-2.86zM5.41 20L4 18.59l7.72-7.72 1.47 1.35L5.41 20z\"/>\n",
              "  </svg>\n",
              "      </button>\n",
              "      \n",
              "  <style>\n",
              "    .colab-df-container {\n",
              "      display:flex;\n",
              "      flex-wrap:wrap;\n",
              "      gap: 12px;\n",
              "    }\n",
              "\n",
              "    .colab-df-convert {\n",
              "      background-color: #E8F0FE;\n",
              "      border: none;\n",
              "      border-radius: 50%;\n",
              "      cursor: pointer;\n",
              "      display: none;\n",
              "      fill: #1967D2;\n",
              "      height: 32px;\n",
              "      padding: 0 0 0 0;\n",
              "      width: 32px;\n",
              "    }\n",
              "\n",
              "    .colab-df-convert:hover {\n",
              "      background-color: #E2EBFA;\n",
              "      box-shadow: 0px 1px 2px rgba(60, 64, 67, 0.3), 0px 1px 3px 1px rgba(60, 64, 67, 0.15);\n",
              "      fill: #174EA6;\n",
              "    }\n",
              "\n",
              "    [theme=dark] .colab-df-convert {\n",
              "      background-color: #3B4455;\n",
              "      fill: #D2E3FC;\n",
              "    }\n",
              "\n",
              "    [theme=dark] .colab-df-convert:hover {\n",
              "      background-color: #434B5C;\n",
              "      box-shadow: 0px 1px 3px 1px rgba(0, 0, 0, 0.15);\n",
              "      filter: drop-shadow(0px 1px 2px rgba(0, 0, 0, 0.3));\n",
              "      fill: #FFFFFF;\n",
              "    }\n",
              "  </style>\n",
              "\n",
              "      <script>\n",
              "        const buttonEl =\n",
              "          document.querySelector('#df-fe9a847a-7a4b-4a77-8b03-ea7e13ff64ff button.colab-df-convert');\n",
              "        buttonEl.style.display =\n",
              "          google.colab.kernel.accessAllowed ? 'block' : 'none';\n",
              "\n",
              "        async function convertToInteractive(key) {\n",
              "          const element = document.querySelector('#df-fe9a847a-7a4b-4a77-8b03-ea7e13ff64ff');\n",
              "          const dataTable =\n",
              "            await google.colab.kernel.invokeFunction('convertToInteractive',\n",
              "                                                     [key], {});\n",
              "          if (!dataTable) return;\n",
              "\n",
              "          const docLinkHtml = 'Like what you see? Visit the ' +\n",
              "            '<a target=\"_blank\" href=https://colab.research.google.com/notebooks/data_table.ipynb>data table notebook</a>'\n",
              "            + ' to learn more about interactive tables.';\n",
              "          element.innerHTML = '';\n",
              "          dataTable['output_type'] = 'display_data';\n",
              "          await google.colab.output.renderOutput(dataTable, element);\n",
              "          const docLink = document.createElement('div');\n",
              "          docLink.innerHTML = docLinkHtml;\n",
              "          element.appendChild(docLink);\n",
              "        }\n",
              "      </script>\n",
              "    </div>\n",
              "  </div>\n",
              "  "
            ],
            "text/plain": [
              "            review\n",
              "real_label        \n",
              "0              100\n",
              "1              100\n",
              "2              100\n",
              "3              100\n",
              "4              100\n",
              "...            ...\n",
              "96             100\n",
              "97             100\n",
              "98             100\n",
              "99             100\n",
              "100          10000\n",
              "\n",
              "[101 rows x 1 columns]"
            ]
          },
          "execution_count": 44,
          "metadata": {},
          "output_type": "execute_result"
        }
      ],
      "source": [
        "df.groupby(by='real_label').count()"
      ]
    },
    {
      "cell_type": "code",
      "execution_count": 45,
      "metadata": {
        "id": "Agx9NhAu7ssX"
      },
      "outputs": [],
      "source": [
        "labels_list_0 = df['real_label'].tolist()"
      ]
    },
    {
      "cell_type": "code",
      "execution_count": 46,
      "metadata": {
        "id": "M-7HsHE270Ve"
      },
      "outputs": [],
      "source": [
        "# for i in range(101):\n",
        "#   print(i, \"     \",c.count(i))"
      ]
    },
    {
      "cell_type": "code",
      "execution_count": 47,
      "metadata": {
        "id": "r9dPsWLsKHFH"
      },
      "outputs": [],
      "source": [
        "\n",
        "# Create sentence and label lists\n",
        "#\n",
        "labels = df.real_label.values\n",
        "sentence1 = df.review.values\n",
        "#sentence1=sentences\n",
        "#labels = dataset_filtered.real_label.values\n",
        "\n",
        "# Tokenize all of the sentences and map the tokens to thier word IDs.\n",
        "input_ids = []\n",
        "attention_masks = []\n",
        "\n",
        "# For every sentence...\n",
        "for sent1 in zip(sentence1):\n",
        "    # `encode_plus` will:\n",
        "    #   (1) Tokenize the sentence.\n",
        "    #   (2) Prepend the `[CLS]` token to the start.\n",
        "    #   (3) Append the `[SEP]` token to the end.\n",
        "    #   (4) Map tokens to their IDs.\n",
        "    #   (5) Pad or truncate the sentence to `max_length`\n",
        "    #   (6) Create attention masks for [PAD] tokens.\n",
        "    #print(sent1)\n",
        "    encoded_dict = tokenizer.encode_plus(\n",
        "                        sent1[0],# Sentence to encode.\n",
        "                        truncation=True,\n",
        "                        add_special_tokens = True, # Add '[CLS]' and '[SEP]'\n",
        "                        max_length = 512,           # Pad & truncate all sentences.\n",
        "                        padding='max_length',\n",
        "                        return_attention_mask = True,   # Construct attn. masks.\n",
        "                        return_tensors = 'pt',     # Return pytorch tensors.\n",
        "                        return_overflowing_tokens=False,\n",
        "                   )\n",
        "    \n",
        "    # Add the encoded sentence to the list.    \n",
        "    input_ids.append(encoded_dict['input_ids'])\n",
        "    \n",
        "    # And its attention mask (simply differentiates padding from non-padding).\n",
        "    attention_masks.append(encoded_dict['attention_mask'])\n",
        "\n",
        "# Convert the lists into tensors.\n",
        "input_ids = torch.cat(input_ids, dim=0)\n",
        "attention_masks = torch.cat(attention_masks, dim=0)\n",
        "labels = torch.tensor(labels)\n",
        "\n",
        "\n",
        "\n",
        "# Set the batch size.  \n",
        "batch_size = 16\n",
        "\n",
        "# Create the DataLoader.\n",
        "prediction_data = TensorDataset(input_ids, attention_masks, labels)\n",
        "prediction_sampler = SequentialSampler(prediction_data)\n",
        "prediction_dataloader = DataLoader(prediction_data, sampler=prediction_sampler, batch_size=batch_size)"
      ]
    },
    {
      "cell_type": "code",
      "execution_count": 48,
      "metadata": {
        "colab": {
          "base_uri": "https://localhost:8080/"
        },
        "id": "NJTEXHAzM3pK",
        "outputId": "6c1cfe7d-2843-4467-9f7a-d338fcbef70c"
      },
      "outputs": [
        {
          "name": "stdout",
          "output_type": "stream",
          "text": [
            "Predicting labels for 20,000 test sentences...\n",
            "    DONE.\n"
          ]
        }
      ],
      "source": [
        "# Prediction on test set\n",
        "\n",
        "print('Predicting labels for {:,} test sentences...'.format(len(input_ids)))\n",
        "\n",
        "# Put model in evaluation mode\n",
        "model.eval()\n",
        "\n",
        "# Tracking variables \n",
        "predictions , true_labels = [], []\n",
        "logits_arr=[]\n",
        "max_logits_arr=[]\n",
        "logits_total_array = []\n",
        "\n",
        "# Predict \n",
        "for batch in prediction_dataloader:\n",
        "  # Add batch to GPU\n",
        "  batch = tuple(t.to(device) for t in batch)\n",
        "  \n",
        "  # Unpack the inputs from our dataloader\n",
        "  b_input_ids, b_input_mask, b_labels = batch\n",
        "  \n",
        "  # Telling the model not to compute or store gradients, saving memory and \n",
        "  # speeding up prediction\n",
        "  with torch.no_grad():\n",
        "      # Forward pass, calculate logit predictions.\n",
        "      result = model(b_input_ids, \n",
        "                     token_type_ids=None, \n",
        "                     attention_mask=b_input_mask,\n",
        "                     return_dict=True)\n",
        "\n",
        "  logits = result.logits\n",
        "\n",
        "  # Move logits and labels to CPU\n",
        "  logits = logits.detach().cpu().numpy()\n",
        "  logits_total_array.extend(logits.tolist())\n",
        "  #logits[:,100] = logits[:,100] + 2.5\n",
        "  pred_labels = np.argmax(logits, axis=1)\n",
        "  label_ids = b_labels.to('cpu').numpy()\n",
        "  max_logits = np.max(logits[:,:100], axis=1)\n",
        "  # Store predictions and true labels\n",
        "  predictions.extend(pred_labels.tolist())\n",
        "  true_labels.extend(label_ids.tolist())\n",
        "  logits_arr.extend(logits[:,100].tolist())\n",
        "  max_logits_arr.extend(max_logits.tolist())\n",
        "\n",
        "print('    DONE.')"
      ]
    },
    {
      "cell_type": "code",
      "execution_count": 49,
      "metadata": {
        "id": "JduRTmVjgvF4"
      },
      "outputs": [],
      "source": [
        "d1_predictions = predictions\n",
        "d1_true_labels = true_labels\n",
        "d1_logits_arr = logits_arr\n",
        "d1_max_logits_arr = max_logits_arr"
      ]
    },
    {
      "cell_type": "code",
      "execution_count": 50,
      "metadata": {
        "colab": {
          "base_uri": "https://localhost:8080/"
        },
        "id": "JzO-PlR8gzTJ",
        "outputId": "3e7b9ae4-c00b-45db-e82b-60cacf0cf9b0"
      },
      "outputs": [
        {
          "data": {
            "text/plain": [
              "4098"
            ]
          },
          "execution_count": 50,
          "metadata": {},
          "output_type": "execute_result"
        }
      ],
      "source": [
        "d1_predictions.count(100)"
      ]
    },
    {
      "cell_type": "code",
      "execution_count": 51,
      "metadata": {
        "id": "vK0WdBARDtN6"
      },
      "outputs": [],
      "source": [
        "tic = 20000"
      ]
    },
    {
      "cell_type": "code",
      "execution_count": 52,
      "metadata": {
        "id": "HF9DB-DemIKP"
      },
      "outputs": [],
      "source": [
        "d1_closed_logits=[]\n",
        "d1_open_logits=[]\n",
        "d1_max_closed_logits=[]\n",
        "d1_max_open_logits=[]\n",
        "d1_predictions_open=[]\n",
        "d1_predictions_closed=[]\n",
        "for i in range(tic):\n",
        "  if(true_labels[i]==100):\n",
        "    d1_open_logits.append(d1_logits_arr[i])\n",
        "    d1_max_open_logits.append(d1_max_logits_arr[i])\n",
        "    d1_predictions_open.append(d1_predictions[i])\n",
        "  else:\n",
        "    d1_closed_logits.append(d1_logits_arr[i])\n",
        "    d1_max_closed_logits.append(d1_max_logits_arr[i])\n",
        "    d1_predictions_closed.append(d1_predictions[i])"
      ]
    },
    {
      "cell_type": "code",
      "execution_count": 53,
      "metadata": {
        "colab": {
          "base_uri": "https://localhost:8080/"
        },
        "id": "84tnHddMmWJR",
        "outputId": "ac6b6f97-2808-415c-a2ee-99d84edb1126"
      },
      "outputs": [
        {
          "name": "stdout",
          "output_type": "stream",
          "text": [
            "3491\n",
            "607\n"
          ]
        }
      ],
      "source": [
        "print(d1_predictions_open.count(100))\n",
        "print(d1_predictions_closed.count(100))"
      ]
    },
    {
      "cell_type": "code",
      "execution_count": 54,
      "metadata": {
        "id": "AJKUqDnigzWJ"
      },
      "outputs": [],
      "source": [
        "diff_closed1=[]\n",
        "for i in range(int(tic/2)):\n",
        "  diff_closed1.append(5.08 + d1_closed_logits[i] - d1_max_closed_logits[i])\n",
        "diff_open1=[]\n",
        "for i in range(int(tic/2)):\n",
        "  diff_open1.append(5.08 + d1_open_logits[i] - d1_max_open_logits[i])\n"
      ]
    },
    {
      "cell_type": "code",
      "execution_count": 55,
      "metadata": {
        "colab": {
          "base_uri": "https://localhost:8080/"
        },
        "id": "RhqT2HTlm_TE",
        "outputId": "b012cfe6-f0e3-4377-e038-e7d940633128"
      },
      "outputs": [
        {
          "name": "stdout",
          "output_type": "stream",
          "text": [
            "-3086.2729911807287\n",
            "-1.1266841125488298\n"
          ]
        }
      ],
      "source": [
        "print(sum(diff_closed1))\n",
        "print(sorted(diff_closed1)[int(tic/4)])"
      ]
    },
    {
      "cell_type": "code",
      "execution_count": 56,
      "metadata": {
        "colab": {
          "base_uri": "https://localhost:8080/"
        },
        "id": "LDkynl8Dm9JD",
        "outputId": "56027c18-ad95-41f3-c307-47f5058008e1"
      },
      "outputs": [
        {
          "name": "stdout",
          "output_type": "stream",
          "text": [
            "35293.34922934502\n",
            "2.6951828765869124\n"
          ]
        }
      ],
      "source": [
        "print(sum(diff_open1))\n",
        "print(sorted(diff_open1)[int(tic/4)])"
      ]
    },
    {
      "cell_type": "code",
      "execution_count": 57,
      "metadata": {
        "id": "v0apfC4egzaF"
      },
      "outputs": [],
      "source": [
        "pos_count = 0 \n",
        "neg_count = 0\n",
        "for num in diff_closed1:\n",
        "    # checking condition\n",
        "    if num >= 0:\n",
        "        pos_count += 1\n",
        "    else:\n",
        "        neg_count += 1"
      ]
    },
    {
      "cell_type": "code",
      "execution_count": 58,
      "metadata": {
        "colab": {
          "base_uri": "https://localhost:8080/"
        },
        "id": "3x9rO68TrJHu",
        "outputId": "e8f51482-b867-4ba3-b6a7-50e995e0cd1d"
      },
      "outputs": [
        {
          "name": "stdout",
          "output_type": "stream",
          "text": [
            "1793\n",
            "8207\n"
          ]
        }
      ],
      "source": [
        "print(pos_count)\n",
        "print(neg_count)"
      ]
    },
    {
      "cell_type": "code",
      "execution_count": 59,
      "metadata": {
        "id": "7vSa0cdQrJKh"
      },
      "outputs": [],
      "source": [
        "pos_count = 0 \n",
        "neg_count = 0\n",
        "for num in diff_open1:\n",
        "    # checking condition\n",
        "    if num >= 0:\n",
        "        pos_count += 1\n",
        "    else:\n",
        "        neg_count += 1"
      ]
    },
    {
      "cell_type": "code",
      "execution_count": 60,
      "metadata": {
        "colab": {
          "base_uri": "https://localhost:8080/"
        },
        "id": "m_h6UCBRrWez",
        "outputId": "70f87c88-e361-42cb-925b-c2268fee59e8"
      },
      "outputs": [
        {
          "name": "stdout",
          "output_type": "stream",
          "text": [
            "6961\n",
            "3039\n"
          ]
        }
      ],
      "source": [
        "print(pos_count)\n",
        "print(neg_count)"
      ]
    },
    {
      "cell_type": "code",
      "execution_count": 61,
      "metadata": {
        "id": "1hB56XGe8cZo"
      },
      "outputs": [],
      "source": [
        "logits_total_array_o =logits_total_array"
      ]
    },
    {
      "cell_type": "code",
      "execution_count": 62,
      "metadata": {
        "id": "a2diGuJb3ygL"
      },
      "outputs": [],
      "source": [
        "logits_total_array_o = np.array(logits_total_array_o)"
      ]
    },
    {
      "cell_type": "code",
      "execution_count": 63,
      "metadata": {
        "id": "_uCPD-_2-Z5E"
      },
      "outputs": [],
      "source": [
        "logits_total_array_o[:,100] = logits_total_array_o[:,100] + 5.08"
      ]
    },
    {
      "cell_type": "code",
      "execution_count": 64,
      "metadata": {
        "id": "KwsZhlfB-bLp"
      },
      "outputs": [],
      "source": [
        "predictions_ = np.argmax(logits_total_array_o , axis=1)"
      ]
    },
    {
      "cell_type": "code",
      "execution_count": 65,
      "metadata": {
        "colab": {
          "base_uri": "https://localhost:8080/"
        },
        "id": "Ukz8yyc7-1aj",
        "outputId": "48695bbb-cdd1-450d-ba83-67b5820501ed"
      },
      "outputs": [
        {
          "data": {
            "text/plain": [
              "8754"
            ]
          },
          "execution_count": 65,
          "metadata": {},
          "output_type": "execute_result"
        }
      ],
      "source": [
        "np.count_nonzero(predictions_ == 100)"
      ]
    },
    {
      "cell_type": "code",
      "execution_count": 66,
      "metadata": {
        "colab": {
          "base_uri": "https://localhost:8080/"
        },
        "id": "e0hf4NBQ-bPF",
        "outputId": "4b51d998-78e1-4c36-960e-4deeed263ae8"
      },
      "outputs": [
        {
          "name": "stdout",
          "output_type": "stream",
          "text": [
            "              precision    recall  f1-score   support\n",
            "\n",
            "           0      0.796     0.740     0.767       100\n",
            "           1      0.934     0.850     0.890       100\n",
            "           2      0.675     0.850     0.752       100\n",
            "           3      0.874     0.970     0.919       100\n",
            "           4      0.478     0.440     0.458       100\n",
            "           5      0.573     0.670     0.618       100\n",
            "           6      0.647     0.440     0.524       100\n",
            "           7      0.810     0.980     0.887       100\n",
            "           8      0.844     0.920     0.880       100\n",
            "           9      0.640     0.800     0.711       100\n",
            "          10      0.959     0.940     0.949       100\n",
            "          11      0.615     0.720     0.664       100\n",
            "          12      0.588     0.940     0.723       100\n",
            "          13      0.878     0.860     0.869       100\n",
            "          14      0.667     0.680     0.673       100\n",
            "          15      0.887     0.940     0.913       100\n",
            "          16      0.965     0.830     0.892       100\n",
            "          17      0.897     0.870     0.883       100\n",
            "          18      0.840     0.890     0.864       100\n",
            "          19      0.563     0.670     0.612       100\n",
            "          20      0.989     0.890     0.937       100\n",
            "          21      0.689     0.820     0.749       100\n",
            "          22      0.613     0.460     0.526       100\n",
            "          23      0.580     0.690     0.630       100\n",
            "          24      0.574     0.660     0.614       100\n",
            "          25      0.669     0.890     0.764       100\n",
            "          26      0.770     0.970     0.858       100\n",
            "          27      0.443     0.620     0.517       100\n",
            "          28      0.571     0.840     0.680       100\n",
            "          29      0.669     0.950     0.785       100\n",
            "          30      0.764     0.840     0.800       100\n",
            "          31      0.874     0.830     0.851       100\n",
            "          32      0.413     0.810     0.547       100\n",
            "          33      0.426     0.430     0.428       100\n",
            "          34      0.838     0.620     0.713       100\n",
            "          35      0.727     0.320     0.444       100\n",
            "          36      0.745     0.700     0.722       100\n",
            "          37      0.821     0.920     0.868       100\n",
            "          38      0.944     0.850     0.895       100\n",
            "          39      0.519     0.820     0.636       100\n",
            "          40      0.518     0.570     0.543       100\n",
            "          41      0.619     0.960     0.753       100\n",
            "          42      0.922     0.710     0.802       100\n",
            "          43      0.496     0.580     0.535       100\n",
            "          44      0.803     0.610     0.693       100\n",
            "          45      1.000     0.800     0.889       100\n",
            "          46      0.917     0.990     0.952       100\n",
            "          47      0.546     0.890     0.677       100\n",
            "          48      0.767     0.920     0.836       100\n",
            "          49      0.866     0.970     0.915       100\n",
            "          50      0.384     0.710     0.498       100\n",
            "          51      0.812     0.820     0.816       100\n",
            "          52      0.676     0.750     0.711       100\n",
            "          53      0.578     0.670     0.620       100\n",
            "          54      0.885     0.770     0.824       100\n",
            "          55      0.608     0.760     0.676       100\n",
            "          56      0.810     0.980     0.887       100\n",
            "          57      0.805     0.910     0.854       100\n",
            "          58      0.845     0.870     0.857       100\n",
            "          59      0.652     0.920     0.763       100\n",
            "          60      0.730     0.840     0.781       100\n",
            "          61      0.581     0.680     0.627       100\n",
            "          62      0.527     0.890     0.662       100\n",
            "          63      0.948     0.730     0.825       100\n",
            "          64      0.954     0.830     0.888       100\n",
            "          65      0.822     0.880     0.850       100\n",
            "          66      0.879     0.870     0.874       100\n",
            "          67      0.844     0.760     0.800       100\n",
            "          68      0.513     0.390     0.443       100\n",
            "          69      0.784     0.760     0.772       100\n",
            "          70      0.723     0.680     0.701       100\n",
            "          71      0.460     0.640     0.536       100\n",
            "          72      0.917     1.000     0.957       100\n",
            "          73      0.530     0.700     0.603       100\n",
            "          74      0.857     0.900     0.878       100\n",
            "          75      1.000     0.620     0.765       100\n",
            "          76      0.873     0.960     0.914       100\n",
            "          77      0.750     0.780     0.765       100\n",
            "          78      0.544     0.680     0.604       100\n",
            "          79      0.980     0.980     0.980       100\n",
            "          80      0.571     1.000     0.727       100\n",
            "          81      0.403     0.890     0.555       100\n",
            "          82      0.811     0.770     0.790       100\n",
            "          83      1.000     0.970     0.985       100\n",
            "          84      0.831     0.640     0.723       100\n",
            "          85      0.520     0.900     0.659       100\n",
            "          86      0.586     0.920     0.716       100\n",
            "          87      0.621     0.640     0.631       100\n",
            "          88      0.640     0.800     0.711       100\n",
            "          89      0.448     0.740     0.558       100\n",
            "          90      0.655     0.570     0.610       100\n",
            "          91      0.819     0.590     0.686       100\n",
            "          92      0.669     0.970     0.792       100\n",
            "          93      0.942     0.810     0.871       100\n",
            "          94      0.733     0.850     0.787       100\n",
            "          95      1.000     0.680     0.810       100\n",
            "          96      0.712     0.940     0.810       100\n",
            "          97      0.847     0.610     0.709       100\n",
            "          98      0.796     0.860     0.827       100\n",
            "          99      0.791     0.910     0.847       100\n",
            "         100      0.795     0.696     0.742     10000\n",
            "\n",
            "    accuracy                          0.742     20000\n",
            "   macro avg      0.730     0.786     0.745     20000\n",
            "weighted avg      0.762     0.742     0.744     20000\n",
            "\n"
          ]
        }
      ],
      "source": [
        "from sklearn.metrics import classification_report\n",
        "\n",
        "result_report= classification_report(true_labels, predictions_, digits=3, output_dict=False)\n",
        "print(result_report)"
      ]
    },
    {
      "cell_type": "code",
      "execution_count": 67,
      "metadata": {
        "id": "-vot8mV--bUD"
      },
      "outputs": [],
      "source": [
        "#df2 = pd.read_csv(\"/content/drive/MyDrive/ASU/ood_test_data_small.csv\")\n",
        "df2 = pd.read_csv(\"/content/drive/MyDrive/ASU/stage1_eval_data_ds3.csv\")\n"
      ]
    },
    {
      "cell_type": "code",
      "execution_count": 68,
      "metadata": {
        "id": "BSnH2uB286su"
      },
      "outputs": [],
      "source": [
        "df2 = pd.read_csv(\"/content/drive/MyDrive/ASU/ood_test_data_small.csv\")"
      ]
    },
    {
      "cell_type": "code",
      "execution_count": 69,
      "metadata": {
        "id": "P7WmjbQl-iM_"
      },
      "outputs": [],
      "source": [
        "df2[\"N_plus_one_prediction\"] = predictions_"
      ]
    },
    {
      "cell_type": "code",
      "execution_count": 70,
      "metadata": {
        "colab": {
          "base_uri": "https://localhost:8080/",
          "height": 363
        },
        "id": "BbmRemkT-iPU",
        "outputId": "465fd5d2-fbfe-4798-b8ce-1087d35961d9"
      },
      "outputs": [
        {
          "data": {
            "text/html": [
              "\n",
              "  <div id=\"df-4ae99aa6-d638-4397-9537-0fd7ddcd2e6d\">\n",
              "    <div class=\"colab-df-container\">\n",
              "      <div>\n",
              "<style scoped>\n",
              "    .dataframe tbody tr th:only-of-type {\n",
              "        vertical-align: middle;\n",
              "    }\n",
              "\n",
              "    .dataframe tbody tr th {\n",
              "        vertical-align: top;\n",
              "    }\n",
              "\n",
              "    .dataframe thead th {\n",
              "        text-align: right;\n",
              "    }\n",
              "</style>\n",
              "<table border=\"1\" class=\"dataframe\">\n",
              "  <thead>\n",
              "    <tr style=\"text-align: right;\">\n",
              "      <th></th>\n",
              "      <th>author</th>\n",
              "      <th>real_label</th>\n",
              "      <th>label</th>\n",
              "      <th>review</th>\n",
              "      <th>product_domain</th>\n",
              "      <th>overall</th>\n",
              "      <th>#words</th>\n",
              "      <th>N_plus_one_prediction</th>\n",
              "    </tr>\n",
              "  </thead>\n",
              "  <tbody>\n",
              "    <tr>\n",
              "      <th>0</th>\n",
              "      <td>A11OTLEDSW8ZXD</td>\n",
              "      <td>44</td>\n",
              "      <td>44</td>\n",
              "      <td>I bought this battery charger a year ago, when...</td>\n",
              "      <td>automotive.json.gz</td>\n",
              "      <td>5.0</td>\n",
              "      <td>330</td>\n",
              "      <td>100</td>\n",
              "    </tr>\n",
              "    <tr>\n",
              "      <th>1</th>\n",
              "      <td>A11OTLEDSW8ZXD</td>\n",
              "      <td>44</td>\n",
              "      <td>44</td>\n",
              "      <td>I bought this because with four geriatric vehi...</td>\n",
              "      <td>automotive.json.gz</td>\n",
              "      <td>5.0</td>\n",
              "      <td>170</td>\n",
              "      <td>100</td>\n",
              "    </tr>\n",
              "    <tr>\n",
              "      <th>2</th>\n",
              "      <td>A11OTLEDSW8ZXD</td>\n",
              "      <td>44</td>\n",
              "      <td>44</td>\n",
              "      <td>I was a tad skeptical of the outcome after see...</td>\n",
              "      <td>automotive.json.gz</td>\n",
              "      <td>4.0</td>\n",
              "      <td>315</td>\n",
              "      <td>44</td>\n",
              "    </tr>\n",
              "    <tr>\n",
              "      <th>3</th>\n",
              "      <td>A11OTLEDSW8ZXD</td>\n",
              "      <td>44</td>\n",
              "      <td>44</td>\n",
              "      <td>I insist on every one of my vehicles to have a...</td>\n",
              "      <td>automotive.json.gz</td>\n",
              "      <td>5.0</td>\n",
              "      <td>167</td>\n",
              "      <td>44</td>\n",
              "    </tr>\n",
              "    <tr>\n",
              "      <th>4</th>\n",
              "      <td>A11OTLEDSW8ZXD</td>\n",
              "      <td>44</td>\n",
              "      <td>44</td>\n",
              "      <td>This is a very well-made top grain cow leather...</td>\n",
              "      <td>automotive.json.gz</td>\n",
              "      <td>5.0</td>\n",
              "      <td>191</td>\n",
              "      <td>44</td>\n",
              "    </tr>\n",
              "    <tr>\n",
              "      <th>5</th>\n",
              "      <td>A11OTLEDSW8ZXD</td>\n",
              "      <td>44</td>\n",
              "      <td>44</td>\n",
              "      <td>At first I was pleased to get this roller shad...</td>\n",
              "      <td>automotive.json.gz</td>\n",
              "      <td>4.0</td>\n",
              "      <td>137</td>\n",
              "      <td>100</td>\n",
              "    </tr>\n",
              "    <tr>\n",
              "      <th>6</th>\n",
              "      <td>A11OTLEDSW8ZXD</td>\n",
              "      <td>44</td>\n",
              "      <td>44</td>\n",
              "      <td>This strap appears well-made, with inch-thick ...</td>\n",
              "      <td>automotive.json.gz</td>\n",
              "      <td>4.0</td>\n",
              "      <td>84</td>\n",
              "      <td>44</td>\n",
              "    </tr>\n",
              "    <tr>\n",
              "      <th>7</th>\n",
              "      <td>A11OTLEDSW8ZXD</td>\n",
              "      <td>44</td>\n",
              "      <td>44</td>\n",
              "      <td>For a quick, overall shine on chrome and plast...</td>\n",
              "      <td>automotive.json.gz</td>\n",
              "      <td>4.0</td>\n",
              "      <td>110</td>\n",
              "      <td>100</td>\n",
              "    </tr>\n",
              "    <tr>\n",
              "      <th>8</th>\n",
              "      <td>A11OTLEDSW8ZXD</td>\n",
              "      <td>44</td>\n",
              "      <td>44</td>\n",
              "      <td>This balaclava comes in a small, bubble-wrap p...</td>\n",
              "      <td>automotive.json.gz</td>\n",
              "      <td>5.0</td>\n",
              "      <td>161</td>\n",
              "      <td>44</td>\n",
              "    </tr>\n",
              "    <tr>\n",
              "      <th>9</th>\n",
              "      <td>A11OTLEDSW8ZXD</td>\n",
              "      <td>44</td>\n",
              "      <td>44</td>\n",
              "      <td>This is an impressive car jump battery pack wi...</td>\n",
              "      <td>automotive.json.gz</td>\n",
              "      <td>5.0</td>\n",
              "      <td>317</td>\n",
              "      <td>44</td>\n",
              "    </tr>\n",
              "  </tbody>\n",
              "</table>\n",
              "</div>\n",
              "      <button class=\"colab-df-convert\" onclick=\"convertToInteractive('df-4ae99aa6-d638-4397-9537-0fd7ddcd2e6d')\"\n",
              "              title=\"Convert this dataframe to an interactive table.\"\n",
              "              style=\"display:none;\">\n",
              "        \n",
              "  <svg xmlns=\"http://www.w3.org/2000/svg\" height=\"24px\"viewBox=\"0 0 24 24\"\n",
              "       width=\"24px\">\n",
              "    <path d=\"M0 0h24v24H0V0z\" fill=\"none\"/>\n",
              "    <path d=\"M18.56 5.44l.94 2.06.94-2.06 2.06-.94-2.06-.94-.94-2.06-.94 2.06-2.06.94zm-11 1L8.5 8.5l.94-2.06 2.06-.94-2.06-.94L8.5 2.5l-.94 2.06-2.06.94zm10 10l.94 2.06.94-2.06 2.06-.94-2.06-.94-.94-2.06-.94 2.06-2.06.94z\"/><path d=\"M17.41 7.96l-1.37-1.37c-.4-.4-.92-.59-1.43-.59-.52 0-1.04.2-1.43.59L10.3 9.45l-7.72 7.72c-.78.78-.78 2.05 0 2.83L4 21.41c.39.39.9.59 1.41.59.51 0 1.02-.2 1.41-.59l7.78-7.78 2.81-2.81c.8-.78.8-2.07 0-2.86zM5.41 20L4 18.59l7.72-7.72 1.47 1.35L5.41 20z\"/>\n",
              "  </svg>\n",
              "      </button>\n",
              "      \n",
              "  <style>\n",
              "    .colab-df-container {\n",
              "      display:flex;\n",
              "      flex-wrap:wrap;\n",
              "      gap: 12px;\n",
              "    }\n",
              "\n",
              "    .colab-df-convert {\n",
              "      background-color: #E8F0FE;\n",
              "      border: none;\n",
              "      border-radius: 50%;\n",
              "      cursor: pointer;\n",
              "      display: none;\n",
              "      fill: #1967D2;\n",
              "      height: 32px;\n",
              "      padding: 0 0 0 0;\n",
              "      width: 32px;\n",
              "    }\n",
              "\n",
              "    .colab-df-convert:hover {\n",
              "      background-color: #E2EBFA;\n",
              "      box-shadow: 0px 1px 2px rgba(60, 64, 67, 0.3), 0px 1px 3px 1px rgba(60, 64, 67, 0.15);\n",
              "      fill: #174EA6;\n",
              "    }\n",
              "\n",
              "    [theme=dark] .colab-df-convert {\n",
              "      background-color: #3B4455;\n",
              "      fill: #D2E3FC;\n",
              "    }\n",
              "\n",
              "    [theme=dark] .colab-df-convert:hover {\n",
              "      background-color: #434B5C;\n",
              "      box-shadow: 0px 1px 3px 1px rgba(0, 0, 0, 0.15);\n",
              "      filter: drop-shadow(0px 1px 2px rgba(0, 0, 0, 0.3));\n",
              "      fill: #FFFFFF;\n",
              "    }\n",
              "  </style>\n",
              "\n",
              "      <script>\n",
              "        const buttonEl =\n",
              "          document.querySelector('#df-4ae99aa6-d638-4397-9537-0fd7ddcd2e6d button.colab-df-convert');\n",
              "        buttonEl.style.display =\n",
              "          google.colab.kernel.accessAllowed ? 'block' : 'none';\n",
              "\n",
              "        async function convertToInteractive(key) {\n",
              "          const element = document.querySelector('#df-4ae99aa6-d638-4397-9537-0fd7ddcd2e6d');\n",
              "          const dataTable =\n",
              "            await google.colab.kernel.invokeFunction('convertToInteractive',\n",
              "                                                     [key], {});\n",
              "          if (!dataTable) return;\n",
              "\n",
              "          const docLinkHtml = 'Like what you see? Visit the ' +\n",
              "            '<a target=\"_blank\" href=https://colab.research.google.com/notebooks/data_table.ipynb>data table notebook</a>'\n",
              "            + ' to learn more about interactive tables.';\n",
              "          element.innerHTML = '';\n",
              "          dataTable['output_type'] = 'display_data';\n",
              "          await google.colab.output.renderOutput(dataTable, element);\n",
              "          const docLink = document.createElement('div');\n",
              "          docLink.innerHTML = docLinkHtml;\n",
              "          element.appendChild(docLink);\n",
              "        }\n",
              "      </script>\n",
              "    </div>\n",
              "  </div>\n",
              "  "
            ],
            "text/plain": [
              "           author  real_label  label  \\\n",
              "0  A11OTLEDSW8ZXD          44     44   \n",
              "1  A11OTLEDSW8ZXD          44     44   \n",
              "2  A11OTLEDSW8ZXD          44     44   \n",
              "3  A11OTLEDSW8ZXD          44     44   \n",
              "4  A11OTLEDSW8ZXD          44     44   \n",
              "5  A11OTLEDSW8ZXD          44     44   \n",
              "6  A11OTLEDSW8ZXD          44     44   \n",
              "7  A11OTLEDSW8ZXD          44     44   \n",
              "8  A11OTLEDSW8ZXD          44     44   \n",
              "9  A11OTLEDSW8ZXD          44     44   \n",
              "\n",
              "                                              review      product_domain  \\\n",
              "0  I bought this battery charger a year ago, when...  automotive.json.gz   \n",
              "1  I bought this because with four geriatric vehi...  automotive.json.gz   \n",
              "2  I was a tad skeptical of the outcome after see...  automotive.json.gz   \n",
              "3  I insist on every one of my vehicles to have a...  automotive.json.gz   \n",
              "4  This is a very well-made top grain cow leather...  automotive.json.gz   \n",
              "5  At first I was pleased to get this roller shad...  automotive.json.gz   \n",
              "6  This strap appears well-made, with inch-thick ...  automotive.json.gz   \n",
              "7  For a quick, overall shine on chrome and plast...  automotive.json.gz   \n",
              "8  This balaclava comes in a small, bubble-wrap p...  automotive.json.gz   \n",
              "9  This is an impressive car jump battery pack wi...  automotive.json.gz   \n",
              "\n",
              "   overall  #words  N_plus_one_prediction  \n",
              "0      5.0     330                    100  \n",
              "1      5.0     170                    100  \n",
              "2      4.0     315                     44  \n",
              "3      5.0     167                     44  \n",
              "4      5.0     191                     44  \n",
              "5      4.0     137                    100  \n",
              "6      4.0      84                     44  \n",
              "7      4.0     110                    100  \n",
              "8      5.0     161                     44  \n",
              "9      5.0     317                     44  "
            ]
          },
          "execution_count": 70,
          "metadata": {},
          "output_type": "execute_result"
        }
      ],
      "source": [
        "df2.head(10)"
      ]
    },
    {
      "cell_type": "code",
      "execution_count": 71,
      "metadata": {
        "id": "UTollU5t-iRi"
      },
      "outputs": [],
      "source": [
        "df2['N_plus_one_prediction'] = df2['N_plus_one_prediction'].replace([100], 'OOD')"
      ]
    },
    {
      "cell_type": "code",
      "execution_count": 72,
      "metadata": {
        "colab": {
          "base_uri": "https://localhost:8080/",
          "height": 363
        },
        "id": "TsMt3Qs1-iTa",
        "outputId": "46318514-b67b-4b4e-9820-4959e12faae6"
      },
      "outputs": [
        {
          "data": {
            "text/html": [
              "\n",
              "  <div id=\"df-a78a00fa-dcc4-470b-97a5-c601b2aefc7e\">\n",
              "    <div class=\"colab-df-container\">\n",
              "      <div>\n",
              "<style scoped>\n",
              "    .dataframe tbody tr th:only-of-type {\n",
              "        vertical-align: middle;\n",
              "    }\n",
              "\n",
              "    .dataframe tbody tr th {\n",
              "        vertical-align: top;\n",
              "    }\n",
              "\n",
              "    .dataframe thead th {\n",
              "        text-align: right;\n",
              "    }\n",
              "</style>\n",
              "<table border=\"1\" class=\"dataframe\">\n",
              "  <thead>\n",
              "    <tr style=\"text-align: right;\">\n",
              "      <th></th>\n",
              "      <th>author</th>\n",
              "      <th>real_label</th>\n",
              "      <th>label</th>\n",
              "      <th>review</th>\n",
              "      <th>product_domain</th>\n",
              "      <th>overall</th>\n",
              "      <th>#words</th>\n",
              "      <th>N_plus_one_prediction</th>\n",
              "    </tr>\n",
              "  </thead>\n",
              "  <tbody>\n",
              "    <tr>\n",
              "      <th>0</th>\n",
              "      <td>A11OTLEDSW8ZXD</td>\n",
              "      <td>44</td>\n",
              "      <td>44</td>\n",
              "      <td>I bought this battery charger a year ago, when...</td>\n",
              "      <td>automotive.json.gz</td>\n",
              "      <td>5.0</td>\n",
              "      <td>330</td>\n",
              "      <td>OOD</td>\n",
              "    </tr>\n",
              "    <tr>\n",
              "      <th>1</th>\n",
              "      <td>A11OTLEDSW8ZXD</td>\n",
              "      <td>44</td>\n",
              "      <td>44</td>\n",
              "      <td>I bought this because with four geriatric vehi...</td>\n",
              "      <td>automotive.json.gz</td>\n",
              "      <td>5.0</td>\n",
              "      <td>170</td>\n",
              "      <td>OOD</td>\n",
              "    </tr>\n",
              "    <tr>\n",
              "      <th>2</th>\n",
              "      <td>A11OTLEDSW8ZXD</td>\n",
              "      <td>44</td>\n",
              "      <td>44</td>\n",
              "      <td>I was a tad skeptical of the outcome after see...</td>\n",
              "      <td>automotive.json.gz</td>\n",
              "      <td>4.0</td>\n",
              "      <td>315</td>\n",
              "      <td>44</td>\n",
              "    </tr>\n",
              "    <tr>\n",
              "      <th>3</th>\n",
              "      <td>A11OTLEDSW8ZXD</td>\n",
              "      <td>44</td>\n",
              "      <td>44</td>\n",
              "      <td>I insist on every one of my vehicles to have a...</td>\n",
              "      <td>automotive.json.gz</td>\n",
              "      <td>5.0</td>\n",
              "      <td>167</td>\n",
              "      <td>44</td>\n",
              "    </tr>\n",
              "    <tr>\n",
              "      <th>4</th>\n",
              "      <td>A11OTLEDSW8ZXD</td>\n",
              "      <td>44</td>\n",
              "      <td>44</td>\n",
              "      <td>This is a very well-made top grain cow leather...</td>\n",
              "      <td>automotive.json.gz</td>\n",
              "      <td>5.0</td>\n",
              "      <td>191</td>\n",
              "      <td>44</td>\n",
              "    </tr>\n",
              "    <tr>\n",
              "      <th>5</th>\n",
              "      <td>A11OTLEDSW8ZXD</td>\n",
              "      <td>44</td>\n",
              "      <td>44</td>\n",
              "      <td>At first I was pleased to get this roller shad...</td>\n",
              "      <td>automotive.json.gz</td>\n",
              "      <td>4.0</td>\n",
              "      <td>137</td>\n",
              "      <td>OOD</td>\n",
              "    </tr>\n",
              "    <tr>\n",
              "      <th>6</th>\n",
              "      <td>A11OTLEDSW8ZXD</td>\n",
              "      <td>44</td>\n",
              "      <td>44</td>\n",
              "      <td>This strap appears well-made, with inch-thick ...</td>\n",
              "      <td>automotive.json.gz</td>\n",
              "      <td>4.0</td>\n",
              "      <td>84</td>\n",
              "      <td>44</td>\n",
              "    </tr>\n",
              "    <tr>\n",
              "      <th>7</th>\n",
              "      <td>A11OTLEDSW8ZXD</td>\n",
              "      <td>44</td>\n",
              "      <td>44</td>\n",
              "      <td>For a quick, overall shine on chrome and plast...</td>\n",
              "      <td>automotive.json.gz</td>\n",
              "      <td>4.0</td>\n",
              "      <td>110</td>\n",
              "      <td>OOD</td>\n",
              "    </tr>\n",
              "    <tr>\n",
              "      <th>8</th>\n",
              "      <td>A11OTLEDSW8ZXD</td>\n",
              "      <td>44</td>\n",
              "      <td>44</td>\n",
              "      <td>This balaclava comes in a small, bubble-wrap p...</td>\n",
              "      <td>automotive.json.gz</td>\n",
              "      <td>5.0</td>\n",
              "      <td>161</td>\n",
              "      <td>44</td>\n",
              "    </tr>\n",
              "    <tr>\n",
              "      <th>9</th>\n",
              "      <td>A11OTLEDSW8ZXD</td>\n",
              "      <td>44</td>\n",
              "      <td>44</td>\n",
              "      <td>This is an impressive car jump battery pack wi...</td>\n",
              "      <td>automotive.json.gz</td>\n",
              "      <td>5.0</td>\n",
              "      <td>317</td>\n",
              "      <td>44</td>\n",
              "    </tr>\n",
              "  </tbody>\n",
              "</table>\n",
              "</div>\n",
              "      <button class=\"colab-df-convert\" onclick=\"convertToInteractive('df-a78a00fa-dcc4-470b-97a5-c601b2aefc7e')\"\n",
              "              title=\"Convert this dataframe to an interactive table.\"\n",
              "              style=\"display:none;\">\n",
              "        \n",
              "  <svg xmlns=\"http://www.w3.org/2000/svg\" height=\"24px\"viewBox=\"0 0 24 24\"\n",
              "       width=\"24px\">\n",
              "    <path d=\"M0 0h24v24H0V0z\" fill=\"none\"/>\n",
              "    <path d=\"M18.56 5.44l.94 2.06.94-2.06 2.06-.94-2.06-.94-.94-2.06-.94 2.06-2.06.94zm-11 1L8.5 8.5l.94-2.06 2.06-.94-2.06-.94L8.5 2.5l-.94 2.06-2.06.94zm10 10l.94 2.06.94-2.06 2.06-.94-2.06-.94-.94-2.06-.94 2.06-2.06.94z\"/><path d=\"M17.41 7.96l-1.37-1.37c-.4-.4-.92-.59-1.43-.59-.52 0-1.04.2-1.43.59L10.3 9.45l-7.72 7.72c-.78.78-.78 2.05 0 2.83L4 21.41c.39.39.9.59 1.41.59.51 0 1.02-.2 1.41-.59l7.78-7.78 2.81-2.81c.8-.78.8-2.07 0-2.86zM5.41 20L4 18.59l7.72-7.72 1.47 1.35L5.41 20z\"/>\n",
              "  </svg>\n",
              "      </button>\n",
              "      \n",
              "  <style>\n",
              "    .colab-df-container {\n",
              "      display:flex;\n",
              "      flex-wrap:wrap;\n",
              "      gap: 12px;\n",
              "    }\n",
              "\n",
              "    .colab-df-convert {\n",
              "      background-color: #E8F0FE;\n",
              "      border: none;\n",
              "      border-radius: 50%;\n",
              "      cursor: pointer;\n",
              "      display: none;\n",
              "      fill: #1967D2;\n",
              "      height: 32px;\n",
              "      padding: 0 0 0 0;\n",
              "      width: 32px;\n",
              "    }\n",
              "\n",
              "    .colab-df-convert:hover {\n",
              "      background-color: #E2EBFA;\n",
              "      box-shadow: 0px 1px 2px rgba(60, 64, 67, 0.3), 0px 1px 3px 1px rgba(60, 64, 67, 0.15);\n",
              "      fill: #174EA6;\n",
              "    }\n",
              "\n",
              "    [theme=dark] .colab-df-convert {\n",
              "      background-color: #3B4455;\n",
              "      fill: #D2E3FC;\n",
              "    }\n",
              "\n",
              "    [theme=dark] .colab-df-convert:hover {\n",
              "      background-color: #434B5C;\n",
              "      box-shadow: 0px 1px 3px 1px rgba(0, 0, 0, 0.15);\n",
              "      filter: drop-shadow(0px 1px 2px rgba(0, 0, 0, 0.3));\n",
              "      fill: #FFFFFF;\n",
              "    }\n",
              "  </style>\n",
              "\n",
              "      <script>\n",
              "        const buttonEl =\n",
              "          document.querySelector('#df-a78a00fa-dcc4-470b-97a5-c601b2aefc7e button.colab-df-convert');\n",
              "        buttonEl.style.display =\n",
              "          google.colab.kernel.accessAllowed ? 'block' : 'none';\n",
              "\n",
              "        async function convertToInteractive(key) {\n",
              "          const element = document.querySelector('#df-a78a00fa-dcc4-470b-97a5-c601b2aefc7e');\n",
              "          const dataTable =\n",
              "            await google.colab.kernel.invokeFunction('convertToInteractive',\n",
              "                                                     [key], {});\n",
              "          if (!dataTable) return;\n",
              "\n",
              "          const docLinkHtml = 'Like what you see? Visit the ' +\n",
              "            '<a target=\"_blank\" href=https://colab.research.google.com/notebooks/data_table.ipynb>data table notebook</a>'\n",
              "            + ' to learn more about interactive tables.';\n",
              "          element.innerHTML = '';\n",
              "          dataTable['output_type'] = 'display_data';\n",
              "          await google.colab.output.renderOutput(dataTable, element);\n",
              "          const docLink = document.createElement('div');\n",
              "          docLink.innerHTML = docLinkHtml;\n",
              "          element.appendChild(docLink);\n",
              "        }\n",
              "      </script>\n",
              "    </div>\n",
              "  </div>\n",
              "  "
            ],
            "text/plain": [
              "           author  real_label  label  \\\n",
              "0  A11OTLEDSW8ZXD          44     44   \n",
              "1  A11OTLEDSW8ZXD          44     44   \n",
              "2  A11OTLEDSW8ZXD          44     44   \n",
              "3  A11OTLEDSW8ZXD          44     44   \n",
              "4  A11OTLEDSW8ZXD          44     44   \n",
              "5  A11OTLEDSW8ZXD          44     44   \n",
              "6  A11OTLEDSW8ZXD          44     44   \n",
              "7  A11OTLEDSW8ZXD          44     44   \n",
              "8  A11OTLEDSW8ZXD          44     44   \n",
              "9  A11OTLEDSW8ZXD          44     44   \n",
              "\n",
              "                                              review      product_domain  \\\n",
              "0  I bought this battery charger a year ago, when...  automotive.json.gz   \n",
              "1  I bought this because with four geriatric vehi...  automotive.json.gz   \n",
              "2  I was a tad skeptical of the outcome after see...  automotive.json.gz   \n",
              "3  I insist on every one of my vehicles to have a...  automotive.json.gz   \n",
              "4  This is a very well-made top grain cow leather...  automotive.json.gz   \n",
              "5  At first I was pleased to get this roller shad...  automotive.json.gz   \n",
              "6  This strap appears well-made, with inch-thick ...  automotive.json.gz   \n",
              "7  For a quick, overall shine on chrome and plast...  automotive.json.gz   \n",
              "8  This balaclava comes in a small, bubble-wrap p...  automotive.json.gz   \n",
              "9  This is an impressive car jump battery pack wi...  automotive.json.gz   \n",
              "\n",
              "   overall  #words N_plus_one_prediction  \n",
              "0      5.0     330                   OOD  \n",
              "1      5.0     170                   OOD  \n",
              "2      4.0     315                    44  \n",
              "3      5.0     167                    44  \n",
              "4      5.0     191                    44  \n",
              "5      4.0     137                   OOD  \n",
              "6      4.0      84                    44  \n",
              "7      4.0     110                   OOD  \n",
              "8      5.0     161                    44  \n",
              "9      5.0     317                    44  "
            ]
          },
          "execution_count": 72,
          "metadata": {},
          "output_type": "execute_result"
        }
      ],
      "source": [
        "df2.head(10)"
      ]
    },
    {
      "cell_type": "code",
      "execution_count": 73,
      "metadata": {
        "id": "X9-pwo0C-iVi"
      },
      "outputs": [],
      "source": [
        "combined_df = df2\n",
        "number_of_known_labels = 100"
      ]
    },
    {
      "cell_type": "code",
      "execution_count": 74,
      "metadata": {
        "id": "3jcrJZ-P-iXX"
      },
      "outputs": [],
      "source": [
        "\n",
        "def compute_precision_recall_for_known_classes(given_label):\n",
        "    TP = combined_df[(combined_df[\"real_label\"] == given_label) & (combined_df[\"N_plus_one_prediction\"] == given_label)].shape[0]\n",
        "    FP = combined_df[(combined_df[\"real_label\"] != given_label) & (combined_df[\"N_plus_one_prediction\"] == given_label)].shape[0]\n",
        "    FN = combined_df[(combined_df[\"real_label\"] == given_label) & (combined_df[\"N_plus_one_prediction\"] != given_label)].shape[0]\n",
        "    if(TP == 0):\n",
        "        P = 0\n",
        "        R = 0\n",
        "    else:\n",
        "        P = round(100*TP/(TP + FP), 2)\n",
        "        R = round(100*TP/(TP + FN),2)\n",
        "    return P, R"
      ]
    },
    {
      "cell_type": "code",
      "execution_count": 75,
      "metadata": {
        "id": "7sESXHpY-iZw"
      },
      "outputs": [],
      "source": [
        "def compute_precision_recall_for_OOD():\n",
        "    TP = combined_df[(combined_df[\"real_label\"] >= number_of_known_labels) & (combined_df[\"N_plus_one_prediction\"] == \"OOD\")].shape[0]\n",
        "    FP = combined_df[(combined_df[\"real_label\"] < number_of_known_labels) & (combined_df[\"N_plus_one_prediction\"] == \"OOD\")].shape[0]\n",
        "    FN = combined_df[(combined_df[\"real_label\"] >= number_of_known_labels) & (combined_df[\"N_plus_one_prediction\"] != \"OOD\")].shape[0]\n",
        "    if(TP == 0):\n",
        "        P = 0\n",
        "        R = 0\n",
        "    else:\n",
        "        P = 100*TP/(TP + FP)\n",
        "        R = 100*TP/(TP + FN)\n",
        "    return P, R"
      ]
    },
    {
      "cell_type": "code",
      "execution_count": 76,
      "metadata": {
        "id": "-Yr1nnP--idV"
      },
      "outputs": [],
      "source": [
        "\n",
        "\n",
        "\n",
        "\n",
        "def compute_performance_metrics():\n",
        "    from statistics import mean\n",
        "    \n",
        "    precisions = []\n",
        "    recalls = []\n",
        "    for known_label in range(number_of_known_labels):\n",
        "        p, r = compute_precision_recall_for_known_classes(known_label)\n",
        "        precisions.append(p)\n",
        "        recalls.append(r)\n",
        "    \n",
        "    precision_known, recall_known = round(mean(precisions),2), round(mean(recalls),2)\n",
        "    f1_known = round(2*precision_known*recall_known/(precision_known + recall_known),2)\n",
        "    \n",
        "    precision_ood, recall_ood = compute_precision_recall_for_OOD()\n",
        "    f1_ood = round(2*precision_ood*recall_ood/(precision_ood + recall_ood),2)\n",
        "    \n",
        "    precisions.append(precision_ood)\n",
        "    recalls.append(recall_ood)\n",
        "    \n",
        "    precision, recall = round(mean(precisions),2), round(mean(recalls),2)\n",
        "    f1 = round(2*precision*recall/(precision + recall),2)\n",
        "    \n",
        "    return {\n",
        "        \"known\": {\n",
        "            \"precision\": precision_known,\n",
        "            \"recall\": recall_known,\n",
        "            \"f1\": f1_known,\n",
        "        },\n",
        "        \"ood\": {\n",
        "            \"precision\": round(precision_ood,2),\n",
        "            \"recall\": round(recall_ood,2),\n",
        "            \"f1\": f1_ood,\n",
        "        },\n",
        "        \"overall\": {\n",
        "            \"precision\": precision,\n",
        "            \"recall\": recall,\n",
        "            \"f1\": f1,\n",
        "        }\n",
        "        \n",
        "    }"
      ]
    },
    {
      "cell_type": "code",
      "execution_count": 77,
      "metadata": {
        "id": "F6szCJEH-bWm"
      },
      "outputs": [],
      "source": [
        "def print_performance_metrics():\n",
        "    performance_dict = compute_performance_metrics()\n",
        "    print(performance_dict[\"known\"][\"precision\"],performance_dict[\"known\"][\"recall\"],performance_dict[\"known\"][\"f1\"], end = \" \")\n",
        "    print(performance_dict[\"ood\"][\"precision\"],performance_dict[\"ood\"][\"recall\"],performance_dict[\"ood\"][\"f1\"], end = \" \")\n",
        "    print(performance_dict[\"overall\"][\"precision\"],performance_dict[\"overall\"][\"recall\"],performance_dict[\"overall\"][\"f1\"], end = \" \")\n",
        "    return performance_dict[\"overall\"][\"f1\"]"
      ]
    },
    {
      "cell_type": "code",
      "execution_count": 78,
      "metadata": {
        "colab": {
          "base_uri": "https://localhost:8080/"
        },
        "id": "6rI1vF-5-yOe",
        "outputId": "b15366cf-3b13-424b-b700-d39dc2f07b4a"
      },
      "outputs": [
        {
          "name": "stdout",
          "output_type": "stream",
          "text": [
            "72.89 78.72 75.69 79.52 69.61 74.23 72.95 78.63 75.68 "
          ]
        },
        {
          "data": {
            "text/plain": [
              "75.68"
            ]
          },
          "execution_count": 78,
          "metadata": {},
          "output_type": "execute_result"
        }
      ],
      "source": [
        "print_performance_metrics()"
      ]
    },
    {
      "cell_type": "code",
      "execution_count": 79,
      "metadata": {
        "colab": {
          "base_uri": "https://localhost:8080/"
        },
        "id": "b5wWYlQ_-yRB",
        "outputId": "8ef7fae0-7f76-4568-8526-d779ccadaa08"
      },
      "outputs": [
        {
          "name": "stdout",
          "output_type": "stream",
          "text": [
            "\n",
            " 1.0     60.87 84.63 70.81 84.49 41.24 55.43 61.1 84.2 70.81 \n",
            " 1.01     60.88 84.61 70.81 84.45 41.28 55.45 61.12 84.18 70.82 \n",
            " 1.02     60.91 84.6 70.83 84.45 41.34 55.51 61.14 84.17 70.83 \n",
            " 1.03     60.93 84.59 70.84 84.46 41.41 55.57 61.16 84.16 70.84 \n",
            " 1.04     60.97 84.59 70.86 84.46 41.51 55.66 61.2 84.16 70.87 \n",
            " 1.05     60.99 84.59 70.88 84.45 41.54 55.69 61.22 84.16 70.88 \n",
            " 1.06     61.0 84.57 70.88 84.44 41.62 55.76 61.24 84.14 70.89 \n",
            " 1.07     61.01 84.56 70.88 84.4 41.65 55.78 61.24 84.14 70.89 \n",
            " 1.08     61.04 84.56 70.9 84.41 41.73 55.85 61.27 84.14 70.91 \n",
            " 1.09     61.07 84.56 70.92 84.43 41.82 55.94 61.3 84.14 70.93 \n",
            " 1.1     61.08 84.56 70.93 84.45 41.86 55.97 61.31 84.14 70.93 \n",
            " 1.11     61.1 84.56 70.94 84.44 41.89 56.0 61.33 84.14 70.95 \n",
            " 1.12     61.14 84.55 70.96 84.37 41.94 56.03 61.37 84.13 70.97 \n",
            " 1.13     61.16 84.55 70.98 84.39 42.01 56.1 61.39 84.13 70.98 \n",
            " 1.14     61.18 84.55 70.99 84.4 42.04 56.12 61.41 84.13 71.0 \n",
            " 1.15     61.21 84.55 71.01 84.43 42.13 56.21 61.44 84.13 71.02 \n",
            " 1.16     61.23 84.55 71.02 84.45 42.2 56.28 61.46 84.13 71.03 \n",
            " 1.17     61.24 84.54 71.03 84.45 42.24 56.31 61.47 84.12 71.03 \n",
            " 1.18     61.24 84.52 71.02 84.43 42.3 56.36 61.47 84.1 71.03 \n",
            " 1.19     61.25 84.51 71.02 84.42 42.31 56.37 61.47 84.09 71.02 \n",
            " 1.2     61.26 84.47 71.02 84.38 42.39 56.43 61.49 84.05 71.02 \n",
            " 1.21     61.28 84.46 71.03 84.31 42.41 56.43 61.5 84.04 71.02 \n",
            " 1.22     61.3 84.46 71.04 84.32 42.47 56.49 61.53 84.04 71.04 \n",
            " 1.23     61.35 84.46 71.07 84.32 42.59 56.59 61.58 84.05 71.08 \n",
            " 1.24     61.38 84.46 71.09 84.29 42.66 56.65 61.61 84.05 71.1 \n",
            " 1.25     61.4 84.46 71.11 84.3 42.7 56.69 61.63 84.05 71.11 \n",
            " 1.26     61.43 84.45 71.12 84.29 42.8 56.77 61.66 84.04 71.13 \n",
            " 1.27     61.44 84.45 71.13 84.29 42.83 56.8 61.67 84.04 71.14 \n",
            " 1.28     61.46 84.45 71.14 84.29 42.86 56.82 61.68 84.04 71.14 \n",
            " 1.29     61.49 84.45 71.16 84.29 42.93 56.89 61.72 84.04 71.17 \n",
            " 1.3     61.53 84.45 71.19 84.26 42.99 56.93 61.76 84.04 71.2 \n",
            " 1.31     61.56 84.45 71.21 84.26 43.05 56.99 61.78 84.04 71.21 \n",
            " 1.32     61.59 84.45 71.23 84.25 43.11 57.04 61.81 84.04 71.23 \n",
            " 1.33     61.61 84.44 71.24 84.24 43.18 57.09 61.83 84.03 71.24 \n",
            " 1.34     61.61 84.42 71.23 84.19 43.2 57.1 61.84 84.01 71.24 \n",
            " 1.35     61.64 84.41 71.25 84.15 43.26 57.14 61.87 84.0 71.26 \n",
            " 1.36     61.68 84.39 71.27 84.13 43.36 57.23 61.9 83.98 71.27 \n",
            " 1.37     61.71 84.39 71.29 84.16 43.46 57.32 61.94 83.98 71.3 \n",
            " 1.38     61.75 84.38 71.31 84.1 43.54 57.38 61.97 83.98 71.32 \n",
            " 1.39     61.77 84.38 71.33 84.11 43.62 57.45 62.0 83.98 71.34 \n",
            " 1.4     61.79 84.38 71.34 84.1 43.65 57.47 62.01 83.98 71.34 \n",
            " 1.41     61.84 84.38 71.37 84.04 43.71 57.51 62.06 83.98 71.37 \n",
            " 1.42     61.86 84.37 71.38 84.04 43.77 57.56 62.08 83.97 71.38 \n",
            " 1.43     61.9 84.37 71.41 84.06 43.87 57.65 62.12 83.97 71.41 \n",
            " 1.44     61.93 84.36 71.43 84.07 43.95 57.72 62.14 83.96 71.42 \n",
            " 1.45     61.97 84.36 71.45 84.08 44.05 57.81 62.19 83.96 71.45 \n",
            " 1.46     61.98 84.36 71.46 84.08 44.11 57.86 62.2 83.96 71.46 \n",
            " 1.47     62.0 84.36 71.47 84.09 44.17 57.92 62.22 83.96 71.47 \n",
            " 1.48     62.02 84.36 71.49 84.08 44.2 57.94 62.23 83.96 71.48 \n",
            " 1.49     62.03 84.35 71.49 84.08 44.26 57.99 62.25 83.95 71.49 \n",
            " 1.5     62.05 84.35 71.5 84.07 44.32 58.04 62.27 83.95 71.5 \n",
            " 1.51     62.07 84.33 71.51 84.04 44.4 58.1 62.29 83.93 71.51 \n",
            " 1.52     62.09 84.32 71.52 84.05 44.46 58.16 62.31 83.93 71.52 \n",
            " 1.53     62.13 84.32 71.54 84.04 44.54 58.22 62.35 83.93 71.55 \n",
            " 1.54     62.16 84.31 71.56 84.04 44.61 58.28 62.37 83.92 71.56 \n",
            " 1.55     62.17 84.29 71.56 84.01 44.65 58.31 62.39 83.9 71.56 \n",
            " 1.56     62.19 84.28 71.57 83.98 44.71 58.35 62.41 83.89 71.57 \n",
            " 1.57     62.22 84.26 71.58 83.97 44.79 58.42 62.43 83.87 71.58 \n",
            " 1.58     62.25 84.26 71.6 83.96 44.85 58.47 62.46 83.87 71.6 \n",
            " 1.59     62.31 84.25 71.64 83.96 44.98 58.58 62.52 83.86 71.63 \n",
            " 1.6     62.33 84.23 71.64 83.94 45.04 58.62 62.54 83.84 71.64 \n",
            " 1.61     62.35 84.23 71.66 83.92 45.09 58.66 62.56 83.84 71.65 \n",
            " 1.62     62.39 84.23 71.68 83.94 45.16 58.73 62.61 83.84 71.69 \n",
            " 1.63     62.41 84.21 71.69 83.9 45.22 58.77 62.62 83.82 71.69 \n",
            " 1.64     62.44 84.2 71.71 83.87 45.28 58.81 62.66 83.81 71.71 \n",
            " 1.65     62.46 84.19 71.72 83.86 45.37 58.88 62.67 83.81 71.71 \n",
            " 1.66     62.48 84.19 71.73 83.83 45.4 58.9 62.69 83.81 71.73 \n",
            " 1.67     62.53 84.19 71.76 83.82 45.52 59.0 62.74 83.81 71.76 \n",
            " 1.68     62.56 84.18 71.78 83.78 45.56 59.02 62.77 83.8 71.78 \n",
            " 1.69     62.62 84.17 71.81 83.78 45.66 59.11 62.83 83.79 71.81 \n",
            " 1.7     62.63 84.17 71.82 83.78 45.71 59.15 62.84 83.79 71.82 \n",
            " 1.71     62.68 84.17 71.85 83.75 45.78 59.2 62.89 83.79 71.85 \n",
            " 1.72     62.7 84.17 71.87 83.77 45.84 59.26 62.91 83.79 71.86 \n",
            " 1.73     62.74 84.16 71.89 83.75 45.92 59.32 62.94 83.78 71.88 \n",
            " 1.74     62.75 84.16 71.89 83.75 45.96 59.35 62.96 83.78 71.89 \n",
            " 1.75     62.78 84.15 71.91 83.76 46.06 59.44 62.99 83.77 71.91 \n",
            " 1.76     62.82 84.14 71.93 83.75 46.13 59.49 63.02 83.76 71.92 \n",
            " 1.77     62.84 84.14 71.95 83.76 46.17 59.53 63.04 83.76 71.94 \n",
            " 1.78     62.86 84.13 71.96 83.77 46.23 59.58 63.07 83.75 71.95 \n",
            " 1.79     62.89 84.12 71.97 83.73 46.3 59.63 63.1 83.75 71.97 \n",
            " 1.8     62.91 84.11 71.98 83.71 46.34 59.65 63.12 83.74 71.98 \n",
            " 1.81     62.91 84.1 71.98 83.68 46.36 59.67 63.12 83.73 71.98 \n",
            " 1.82     62.95 84.1 72.0 83.65 46.41 59.7 63.15 83.73 72.0 \n",
            " 1.83     62.98 84.1 72.02 83.68 46.51 59.79 63.19 83.73 72.02 \n",
            " 1.84     63.01 84.1 72.04 83.71 46.61 59.88 63.22 83.73 72.04 \n",
            " 1.85     63.04 84.08 72.06 83.68 46.72 59.96 63.25 83.71 72.06 \n",
            " 1.86     63.07 84.05 72.06 83.67 46.82 60.04 63.28 83.68 72.06 \n",
            " 1.87     63.11 84.05 72.09 83.68 46.9 60.11 63.31 83.68 72.08 \n",
            " 1.88     63.13 84.04 72.1 83.66 46.96 60.15 63.33 83.67 72.09 \n",
            " 1.89     63.15 84.04 72.11 83.67 47.02 60.2 63.35 83.67 72.11 \n",
            " 1.9     63.16 84.03 72.12 83.64 47.05 60.22 63.36 83.66 72.11 \n",
            " 1.91     63.17 84.02 72.12 83.63 47.1 60.26 63.37 83.65 72.11 \n",
            " 1.92     63.2 84.02 72.14 83.64 47.18 60.33 63.4 83.66 72.13 \n",
            " 1.93     63.21 84.02 72.14 83.63 47.21 60.35 63.42 83.66 72.15 \n",
            " 1.94     63.23 84.01 72.15 83.63 47.26 60.39 63.43 83.65 72.15 \n",
            " 1.95     63.25 84.01 72.17 83.63 47.32 60.44 63.45 83.65 72.16 \n",
            " 1.96     63.27 84.01 72.18 83.64 47.39 60.5 63.48 83.65 72.18 \n",
            " 1.97     63.29 84.0 72.19 83.6 47.42 60.52 63.49 83.64 72.19 \n",
            " 1.98     63.31 84.0 72.2 83.59 47.46 60.54 63.52 83.64 72.2 \n",
            " 1.99     63.32 83.99 72.2 83.58 47.49 60.57 63.52 83.63 72.2 \n",
            " 2.0     63.33 83.99 72.21 83.56 47.52 60.59 63.53 83.63 72.21 \n",
            " 2.01     63.37 83.97 72.23 83.54 47.62 60.66 63.56 83.61 72.22 \n",
            " 2.02     63.4 83.97 72.25 83.56 47.69 60.72 63.6 83.61 72.25 \n",
            " 2.03     63.42 83.97 72.26 83.58 47.75 60.78 63.62 83.61 72.26 \n",
            " 2.04     63.44 83.97 72.28 83.6 47.8 60.82 63.64 83.61 72.27 \n",
            " 2.05     63.49 83.97 72.31 83.6 47.87 60.88 63.68 83.61 72.3 \n",
            " 2.06     63.52 83.97 72.33 83.57 47.91 60.9 63.72 83.61 72.32 \n",
            " 2.07     63.53 83.95 72.33 83.55 48.0 60.97 63.73 83.59 72.32 \n",
            " 2.08     63.56 83.94 72.34 83.55 48.06 61.02 63.76 83.58 72.34 \n",
            " 2.09     63.57 83.94 72.35 83.56 48.09 61.05 63.76 83.59 72.34 \n",
            " 2.1     63.57 83.91 72.34 83.53 48.14 61.08 63.77 83.56 72.34 \n",
            " 2.11     63.62 83.91 72.37 83.56 48.22 61.15 63.81 83.56 72.36 \n",
            " 2.12     63.64 83.9 72.38 83.53 48.27 61.18 63.83 83.55 72.37 \n",
            " 2.13     63.65 83.89 72.38 83.52 48.31 61.21 63.84 83.54 72.37 \n",
            " 2.14     63.69 83.88 72.4 83.52 48.41 61.29 63.88 83.53 72.4 \n",
            " 2.15     63.72 83.87 72.42 83.53 48.54 61.4 63.92 83.52 72.42 \n",
            " 2.16     63.75 83.87 72.44 83.53 48.6 61.45 63.94 83.52 72.43 \n",
            " 2.17     63.76 83.85 72.44 83.53 48.68 61.51 63.96 83.5 72.44 \n",
            " 2.18     63.78 83.84 72.45 83.51 48.71 61.53 63.98 83.49 72.44 \n",
            " 2.19     63.8 83.83 72.46 83.51 48.77 61.58 64.0 83.48 72.45 \n",
            " 2.2     63.83 83.82 72.47 83.52 48.85 61.64 64.02 83.47 72.46 \n",
            " 2.21     63.86 83.82 72.49 83.52 48.9 61.68 64.05 83.47 72.48 \n",
            " 2.22     63.88 83.81 72.5 83.51 48.97 61.74 64.08 83.47 72.5 \n",
            " 2.23     63.89 83.79 72.5 83.46 48.99 61.74 64.08 83.45 72.49 \n",
            " 2.24     63.89 83.76 72.49 83.42 49.04 61.77 64.08 83.42 72.48 \n",
            " 2.25     63.93 83.76 72.51 83.41 49.12 61.83 64.13 83.42 72.51 \n",
            " 2.26     63.95 83.74 72.52 83.38 49.17 61.86 64.14 83.4 72.51 \n",
            " 2.27     63.95 83.72 72.51 83.33 49.18 61.85 64.15 83.38 72.51 \n",
            " 2.28     63.98 83.72 72.53 83.33 49.25 61.91 64.17 83.38 72.52 \n",
            " 2.29     64.02 83.71 72.55 83.32 49.34 61.98 64.21 83.37 72.55 \n",
            " 2.3     64.04 83.7 72.56 83.31 49.38 62.01 64.23 83.36 72.56 \n",
            " 2.31     64.1 83.7 72.6 83.3 49.49 62.09 64.29 83.36 72.59 \n",
            " 2.32     64.13 83.69 72.62 83.29 49.56 62.14 64.32 83.35 72.61 \n",
            " 2.33     64.14 83.68 72.62 83.25 49.6 62.16 64.33 83.34 72.61 \n",
            " 2.34     64.17 83.68 72.64 83.24 49.66 62.21 64.36 83.34 72.63 \n",
            " 2.35     64.22 83.68 72.67 83.24 49.75 62.28 64.41 83.34 72.66 \n",
            " 2.36     64.26 83.68 72.7 83.24 49.82 62.33 64.45 83.34 72.69 \n",
            " 2.37     64.3 83.68 72.72 83.25 49.9 62.4 64.49 83.35 72.72 \n",
            " 2.38     64.33 83.67 72.74 83.24 49.97 62.45 64.51 83.34 72.73 \n",
            " 2.39     64.35 83.67 72.75 83.24 50.01 62.48 64.53 83.34 72.74 \n",
            " 2.4     64.38 83.67 72.77 83.26 50.12 62.57 64.57 83.34 72.76 \n",
            " 2.41     64.4 83.67 72.78 83.26 50.2 62.64 64.59 83.34 72.78 \n",
            " 2.42     64.44 83.65 72.8 83.25 50.29 62.7 64.63 83.32 72.79 \n",
            " 2.43     64.47 83.65 72.82 83.23 50.37 62.76 64.65 83.32 72.81 \n",
            " 2.44     64.49 83.62 72.82 83.18 50.45 62.81 64.67 83.29 72.81 \n",
            " 2.45     64.53 83.61 72.84 83.18 50.55 62.88 64.72 83.28 72.84 \n",
            " 2.46     64.54 83.6 72.84 83.17 50.56 62.89 64.72 83.27 72.83 \n",
            " 2.47     64.59 83.59 72.87 83.17 50.64 62.95 64.77 83.26 72.86 \n",
            " 2.48     64.6 83.57 72.87 83.15 50.68 62.98 64.78 83.24 72.86 \n",
            " 2.49     64.64 83.55 72.89 83.13 50.8 63.06 64.82 83.23 72.88 \n",
            " 2.5     64.68 83.55 72.91 83.16 50.9 63.15 64.87 83.23 72.91 \n",
            " 2.51     64.74 83.54 72.95 83.12 51.02 63.23 64.93 83.22 72.95 \n",
            " 2.52     64.77 83.54 72.97 83.14 51.1 63.3 64.95 83.22 72.96 \n",
            " 2.53     64.81 83.54 72.99 83.16 51.2 63.38 65.0 83.22 72.99 \n",
            " 2.54     64.85 83.54 73.02 83.18 51.29 63.45 65.03 83.22 73.01 \n",
            " 2.55     64.88 83.52 73.03 83.17 51.38 63.52 65.06 83.2 73.02 \n",
            " 2.56     64.91 83.51 73.04 83.16 51.47 63.59 65.09 83.19 73.04 \n",
            " 2.57     64.92 83.49 73.04 83.16 51.54 63.64 65.1 83.17 73.03 \n",
            " 2.58     64.97 83.49 73.07 83.17 51.63 63.71 65.15 83.17 73.07 \n",
            " 2.59     64.99 83.49 73.09 83.17 51.7 63.76 65.17 83.18 73.08 \n",
            " 2.6     65.01 83.45 73.08 83.12 51.79 63.82 65.19 83.14 73.08 \n",
            " 2.61     65.05 83.44 73.11 83.09 51.89 63.88 65.23 83.13 73.1 \n",
            " 2.62     65.07 83.42 73.11 83.08 51.94 63.92 65.24 83.11 73.1 \n",
            " 2.63     65.1 83.42 73.13 83.07 52.0 63.96 65.28 83.11 73.12 \n",
            " 2.64     65.12 83.41 73.14 83.06 52.07 64.01 65.29 83.1 73.13 \n",
            " 2.65     65.16 83.39 73.16 83.03 52.21 64.11 65.34 83.08 73.15 \n",
            " 2.66     65.19 83.37 73.17 82.98 52.28 64.15 65.37 83.06 73.16 \n",
            " 2.67     65.23 83.36 73.19 82.97 52.37 64.21 65.41 83.05 73.18 \n",
            " 2.68     65.26 83.36 73.21 83.0 52.47 64.29 65.43 83.05 73.19 \n",
            " 2.69     65.28 83.36 73.22 83.0 52.54 64.35 65.46 83.05 73.21 \n",
            " 2.7     65.31 83.32 73.22 82.94 52.62 64.39 65.48 83.02 73.21 \n",
            " 2.71     65.34 83.32 73.24 82.97 52.7 64.46 65.52 83.02 73.24 \n",
            " 2.72     65.38 83.29 73.26 82.89 52.75 64.47 65.55 82.99 73.25 \n",
            " 2.73     65.41 83.29 73.28 82.91 52.82 64.53 65.58 82.99 73.26 \n",
            " 2.74     65.42 83.27 73.27 82.9 52.89 64.58 65.6 82.97 73.27 \n",
            " 2.75     65.45 83.26 73.29 82.9 52.97 64.64 65.62 82.96 73.28 \n",
            " 2.76     65.48 83.26 73.31 82.91 53.04 64.69 65.65 82.96 73.3 \n",
            " 2.77     65.5 83.25 73.32 82.92 53.1 64.74 65.67 82.95 73.31 \n",
            " 2.78     65.52 83.24 73.32 82.91 53.17 64.79 65.69 82.94 73.31 \n",
            " 2.79     65.53 83.24 73.33 82.92 53.2 64.81 65.7 82.94 73.32 \n",
            " 2.8     65.56 83.23 73.35 82.88 53.27 64.86 65.73 82.93 73.33 \n",
            " 2.81     65.57 83.21 73.34 82.87 53.33 64.9 65.75 82.91 73.34 \n",
            " 2.82     65.61 83.2 73.37 82.89 53.42 64.97 65.78 82.91 73.36 \n",
            " 2.83     65.64 83.2 73.38 82.89 53.48 65.01 65.81 82.91 73.38 \n",
            " 2.84     65.69 83.2 73.42 82.88 53.58 65.08 65.86 82.91 73.41 \n",
            " 2.85     65.73 83.2 73.44 82.89 53.68 65.16 65.9 82.91 73.43 \n",
            " 2.86     65.73 83.18 73.43 82.87 53.7 65.17 65.9 82.89 73.42 \n",
            " 2.87     65.78 83.18 73.46 82.87 53.81 65.25 65.95 82.89 73.46 \n",
            " 2.88     65.82 83.16 73.48 82.86 53.89 65.31 65.99 82.87 73.47 \n",
            " 2.89     65.83 83.15 73.48 82.84 53.92 65.32 66.0 82.86 73.48 \n",
            " 2.9     65.85 83.13 73.49 82.8 53.98 65.36 66.02 82.84 73.48 \n",
            " 2.91     65.86 83.08 73.47 82.75 54.07 65.4 66.03 82.79 73.47 \n",
            " 2.92     65.87 83.07 73.48 82.75 54.12 65.44 66.04 82.78 73.47 \n",
            " 2.93     65.88 83.06 73.48 82.73 54.13 65.44 66.04 82.77 73.46 \n",
            " 2.94     65.91 83.05 73.49 82.72 54.18 65.47 66.08 82.76 73.49 \n",
            " 2.95     65.93 83.03 73.5 82.72 54.27 65.54 66.1 82.75 73.49 \n",
            " 2.96     65.95 83.03 73.51 82.73 54.31 65.57 66.11 82.75 73.5 \n",
            " 2.97     65.97 83.03 73.52 82.74 54.39 65.63 66.14 82.75 73.52 \n",
            " 2.98     65.99 83.0 73.52 82.7 54.43 65.65 66.16 82.72 73.52 \n",
            " 2.99     66.01 82.97 73.52 82.66 54.49 65.68 66.18 82.69 73.52 \n",
            " 3.0     66.04 82.95 73.54 82.65 54.59 65.75 66.21 82.67 73.53 \n",
            " 3.01     66.07 82.92 73.54 82.59 54.66 65.78 66.23 82.64 73.53 \n",
            " 3.02     66.1 82.92 73.56 82.57 54.72 65.82 66.26 82.64 73.55 \n",
            " 3.03     66.11 82.91 73.56 82.54 54.74 65.82 66.27 82.63 73.55 \n",
            " 3.04     66.14 82.88 73.57 82.52 54.84 65.89 66.31 82.6 73.56 \n",
            " 3.05     66.17 82.87 73.58 82.52 54.9 65.93 66.33 82.59 73.57 \n",
            " 3.06     66.22 82.85 73.61 82.51 55.0 66.0 66.38 82.57 73.6 \n",
            " 3.07     66.25 82.83 73.62 82.44 55.04 66.01 66.41 82.55 73.61 \n",
            " 3.08     66.27 82.81 73.62 82.42 55.1 66.05 66.43 82.54 73.61 \n",
            " 3.09     66.31 82.81 73.65 82.39 55.15 66.07 66.47 82.54 73.64 \n",
            " 3.1     66.34 82.78 73.65 82.36 55.23 66.12 66.5 82.51 73.64 \n",
            " 3.11     66.37 82.77 73.67 82.35 55.3 66.17 66.53 82.5 73.66 \n",
            " 3.12     66.41 82.75 73.69 82.35 55.37 66.22 66.56 82.48 73.67 \n",
            " 3.13     66.43 82.72 73.69 82.28 55.44 66.24 66.59 82.45 73.68 \n",
            " 3.14     66.47 82.7 73.7 82.26 55.51 66.29 66.62 82.43 73.69 \n",
            " 3.15     66.49 82.68 73.71 82.23 55.57 66.32 66.64 82.41 73.69 \n",
            " 3.16     66.5 82.67 73.71 82.21 55.61 66.34 66.66 82.4 73.7 \n",
            " 3.17     66.54 82.66 73.73 82.22 55.69 66.4 66.69 82.39 73.71 \n",
            " 3.18     66.56 82.66 73.74 82.24 55.74 66.44 66.71 82.39 73.73 \n",
            " 3.19     66.57 82.64 73.74 82.19 55.76 66.44 66.72 82.37 73.72 \n",
            " 3.2     66.6 82.64 73.76 82.22 55.85 66.52 66.75 82.37 73.74 \n",
            " 3.21     66.62 82.62 73.76 82.21 55.91 66.56 66.78 82.36 73.76 \n",
            " 3.22     66.65 82.62 73.78 82.21 55.96 66.59 66.8 82.36 73.77 \n",
            " 3.23     66.67 82.61 73.79 82.2 56.02 66.63 66.83 82.35 73.78 \n",
            " 3.24     66.7 82.61 73.81 82.2 56.08 66.67 66.86 82.35 73.8 \n",
            " 3.25     66.7 82.59 73.8 82.19 56.1 66.68 66.86 82.33 73.79 \n",
            " 3.26     66.74 82.57 73.82 82.17 56.18 66.73 66.89 82.31 73.8 \n",
            " 3.27     66.76 82.55 73.82 82.15 56.25 66.78 66.92 82.29 73.81 \n",
            " 3.28     66.82 82.54 73.85 82.16 56.37 66.86 66.97 82.28 73.84 \n",
            " 3.29     66.84 82.53 73.86 82.16 56.42 66.9 66.99 82.27 73.85 \n",
            " 3.3     66.9 82.52 73.89 82.14 56.51 66.95 67.05 82.26 73.88 \n",
            " 3.31     66.93 82.51 73.91 82.13 56.58 67.0 67.08 82.25 73.89 \n",
            " 3.32     66.95 82.49 73.91 82.12 56.63 67.03 67.1 82.23 73.9 \n",
            " 3.33     66.98 82.47 73.92 82.11 56.68 67.07 67.13 82.21 73.91 \n",
            " 3.34     66.98 82.46 73.92 82.1 56.7 67.08 67.13 82.2 73.9 \n",
            " 3.35     67.01 82.44 73.93 82.08 56.79 67.13 67.16 82.19 73.92 \n",
            " 3.36     67.03 82.44 73.94 82.08 56.83 67.16 67.18 82.19 73.93 \n",
            " 3.37     67.07 82.44 73.96 82.06 56.91 67.21 67.22 82.19 73.96 \n",
            " 3.38     67.13 82.44 74.0 82.08 57.01 67.28 67.28 82.19 73.99 \n",
            " 3.39     67.17 82.43 74.02 82.09 57.11 67.36 67.32 82.18 74.01 \n",
            " 3.4     67.2 82.43 74.04 82.05 57.15 67.37 67.35 82.18 74.03 \n",
            " 3.41     67.24 82.42 74.06 82.06 57.26 67.45 67.39 82.17 74.05 \n",
            " 3.42     67.28 82.42 74.08 82.07 57.34 67.51 67.43 82.17 74.07 \n",
            " 3.43     67.32 82.41 74.1 82.08 57.43 67.58 67.47 82.16 74.09 \n",
            " 3.44     67.33 82.4 74.11 82.08 57.5 67.63 67.48 82.15 74.1 \n",
            " 3.45     67.37 82.38 74.12 82.08 57.59 67.69 67.51 82.13 74.11 \n",
            " 3.46     67.42 82.35 74.14 82.08 57.72 67.78 67.57 82.11 74.13 \n",
            " 3.47     67.46 82.35 74.17 82.09 57.8 67.84 67.6 82.11 74.15 \n",
            " 3.48     67.49 82.34 74.18 82.1 57.87 67.89 67.64 82.1 74.17 \n",
            " 3.49     67.52 82.33 74.19 82.1 57.94 67.94 67.66 82.09 74.18 \n",
            " 3.5     67.57 82.29 74.21 82.06 58.05 68.0 67.71 82.05 74.19 \n",
            " 3.51     67.58 82.26 74.2 82.03 58.11 68.03 67.73 82.02 74.19 \n",
            " 3.52     67.6 82.25 74.21 82.02 58.18 68.07 67.75 82.01 74.2 \n",
            " 3.53     67.63 82.23 74.22 82.02 58.24 68.11 67.77 81.99 74.2 \n",
            " 3.54     67.66 82.22 74.23 82.02 58.3 68.16 67.8 81.98 74.22 \n",
            " 3.55     67.7 82.19 74.24 81.99 58.37 68.19 67.84 81.95 74.23 \n",
            " 3.56     67.72 82.18 74.25 82.0 58.43 68.24 67.86 81.94 74.24 \n",
            " 3.57     67.73 82.15 74.25 81.96 58.48 68.26 67.88 81.92 74.24 \n",
            " 3.58     67.77 82.14 74.27 81.96 58.55 68.3 67.91 81.91 74.26 \n",
            " 3.59     67.79 82.13 74.27 81.96 58.59 68.33 67.93 81.9 74.26 \n",
            " 3.6     67.86 82.12 74.31 81.95 58.7 68.4 68.0 81.89 74.3 \n",
            " 3.61     67.9 82.11 74.33 81.96 58.8 68.48 68.04 81.88 74.32 \n",
            " 3.62     67.91 82.08 74.33 81.93 58.85 68.5 68.05 81.85 74.31 \n",
            " 3.63     67.93 82.07 74.33 81.92 58.9 68.53 68.07 81.84 74.32 \n",
            " 3.64     67.97 82.06 74.35 81.9 58.97 68.57 68.1 81.83 74.34 \n",
            " 3.65     67.97 82.02 74.34 81.87 59.02 68.59 68.11 81.79 74.33 \n",
            " 3.66     67.99 82.01 74.34 81.86 59.08 68.63 68.13 81.78 74.33 \n",
            " 3.67     68.02 82.0 74.36 81.87 59.19 68.71 68.16 81.77 74.35 \n",
            " 3.68     68.03 81.98 74.36 81.84 59.22 68.72 68.17 81.75 74.34 \n",
            " 3.69     68.08 81.95 74.37 81.79 59.29 68.75 68.21 81.73 74.36 \n",
            " 3.7     68.1 81.93 74.38 81.79 59.36 68.79 68.24 81.71 74.37 \n",
            " 3.71     68.15 81.91 74.4 81.76 59.43 68.83 68.28 81.69 74.39 \n",
            " 3.72     68.17 81.91 74.41 81.77 59.48 68.87 68.31 81.69 74.4 \n",
            " 3.73     68.19 81.9 74.42 81.76 59.54 68.9 68.33 81.68 74.41 \n",
            " 3.74     68.23 81.89 74.44 81.74 59.59 68.93 68.36 81.67 74.42 \n",
            " 3.75     68.29 81.88 74.47 81.76 59.7 69.01 68.42 81.66 74.46 \n",
            " 3.76     68.31 81.88 74.48 81.75 59.72 69.02 68.44 81.66 74.47 \n",
            " 3.77     68.34 81.86 74.49 81.72 59.79 69.06 68.47 81.64 74.48 \n",
            " 3.78     68.38 81.85 74.51 81.72 59.86 69.1 68.51 81.63 74.5 \n",
            " 3.79     68.39 81.85 74.52 81.71 59.88 69.11 68.52 81.63 74.5 \n",
            " 3.8     68.43 81.83 74.53 81.69 59.93 69.14 68.56 81.61 74.52 \n",
            " 3.81     68.44 81.83 74.54 81.68 59.96 69.15 68.57 81.61 74.52 \n",
            " 3.82     68.47 81.8 74.54 81.65 60.02 69.18 68.6 81.58 74.53 \n",
            " 3.83     68.5 81.79 74.56 81.63 60.06 69.2 68.63 81.57 74.54 \n",
            " 3.84     68.52 81.78 74.57 81.62 60.12 69.24 68.65 81.57 74.55 \n",
            " 3.85     68.53 81.75 74.56 81.59 60.17 69.26 68.66 81.54 74.55 \n",
            " 3.86     68.56 81.74 74.57 81.6 60.25 69.32 68.69 81.53 74.56 \n",
            " 3.87     68.59 81.74 74.59 81.6 60.3 69.35 68.72 81.53 74.58 \n",
            " 3.88     68.61 81.73 74.6 81.6 60.35 69.38 68.74 81.52 74.59 \n",
            " 3.89     68.65 81.71 74.61 81.59 60.46 69.45 68.78 81.5 74.6 \n",
            " 3.9     68.68 81.71 74.63 81.59 60.53 69.5 68.81 81.5 74.62 \n",
            " 3.91     68.7 81.71 74.64 81.59 60.57 69.52 68.83 81.5 74.63 \n",
            " 3.92     68.75 81.7 74.67 81.6 60.68 69.6 68.87 81.49 74.65 \n",
            " 3.93     68.78 81.69 74.68 81.6 60.75 69.65 68.9 81.48 74.66 \n",
            " 3.94     68.81 81.67 74.69 81.58 60.82 69.69 68.93 81.46 74.67 \n",
            " 3.95     68.84 81.66 74.7 81.58 60.88 69.72 68.97 81.45 74.69 \n",
            " 3.96     68.87 81.65 74.72 81.58 60.94 69.77 68.99 81.44 74.7 \n",
            " 3.97     68.92 81.64 74.74 81.58 61.06 69.84 69.05 81.44 74.73 \n",
            " 3.98     68.95 81.62 74.75 81.55 61.11 69.86 69.07 81.42 74.74 \n",
            " 3.99     68.97 81.61 74.76 81.55 61.18 69.91 69.1 81.41 74.75 \n",
            " 4.0     69.01 81.6 74.78 81.54 61.25 69.95 69.13 81.4 74.76 "
          ]
        }
      ],
      "source": [
        "list_of_f1=[]\n",
        "for i in range(100,401):\n",
        "  logits_total_array_o =logits_total_array\n",
        "  logits_total_array_o = np.array(logits_total_array_o)\n",
        "  logits_total_array_o[:,100] = logits_total_array_o[:,100] + (i/100)\n",
        "  predictions_ = np.argmax(logits_total_array_o , axis=1)\n",
        "  df2[\"N_plus_one_prediction\"] = predictions_\n",
        "  df2['N_plus_one_prediction'] = df2['N_plus_one_prediction'].replace([100], 'OOD')\n",
        "  print(\"\\n\",i/100,\"    \",end=\"\")\n",
        "  list_of_f1.append(print_performance_metrics())\n",
        " # print_performance_metrics()\n"
      ]
    },
    {
      "cell_type": "code",
      "execution_count": 80,
      "metadata": {
        "colab": {
          "base_uri": "https://localhost:8080/"
        },
        "id": "Yo4xzFN_-yUf",
        "outputId": "fbe87372-39a0-4d3e-93e5-a79e4eaf5f86"
      },
      "outputs": [
        {
          "data": {
            "text/plain": [
              "74.76"
            ]
          },
          "execution_count": 80,
          "metadata": {},
          "output_type": "execute_result"
        }
      ],
      "source": [
        "max(list_of_f1)"
      ]
    },
    {
      "cell_type": "code",
      "execution_count": 81,
      "metadata": {
        "colab": {
          "base_uri": "https://localhost:8080/"
        },
        "id": "OWD_a7_GYnj1",
        "outputId": "06c07a4e-22f8-4b28-a502-82524953fe02"
      },
      "outputs": [
        {
          "name": "stdout",
          "output_type": "stream",
          "text": [
            "\n",
            " 4.0     69.01 81.6 74.78 81.54 61.25 69.95 69.13 81.4 74.76 \n",
            " 4.01     69.03 81.58 74.78 81.52 61.32 69.99 69.15 81.38 74.77 \n",
            " 4.02     69.07 81.56 74.8 81.51 61.42 70.05 69.19 81.36 74.78 \n",
            " 4.03     69.1 81.54 74.81 81.5 61.48 70.09 69.22 81.34 74.79 \n",
            " 4.04     69.13 81.53 74.82 81.5 61.56 70.14 69.25 81.33 74.81 \n",
            " 4.05     69.16 81.52 74.83 81.48 61.61 70.17 69.28 81.32 74.82 \n",
            " 4.06     69.16 81.52 74.83 81.49 61.63 70.18 69.28 81.32 74.82 \n",
            " 4.07     69.24 81.52 74.88 81.51 61.79 70.29 69.36 81.32 74.87 \n",
            " 4.08     69.26 81.5 74.88 81.5 61.85 70.33 69.38 81.31 74.87 \n",
            " 4.09     69.28 81.47 74.88 81.47 61.91 70.36 69.4 81.28 74.87 \n",
            " 4.1     69.28 81.45 74.87 81.44 61.93 70.36 69.4 81.26 74.86 \n",
            " 4.11     69.32 81.4 74.88 81.39 61.99 70.38 69.43 81.21 74.86 \n",
            " 4.12     69.37 81.39 74.9 81.41 62.11 70.46 69.49 81.2 74.89 \n",
            " 4.13     69.38 81.36 74.89 81.39 62.16 70.49 69.5 81.17 74.88 \n",
            " 4.14     69.39 81.33 74.89 81.36 62.19 70.49 69.51 81.14 74.88 \n",
            " 4.15     69.45 81.31 74.91 81.37 62.32 70.58 69.57 81.12 74.9 \n",
            " 4.16     69.49 81.31 74.94 81.38 62.41 70.64 69.61 81.12 74.93 \n",
            " 4.17     69.54 81.29 74.96 81.33 62.47 70.66 69.65 81.1 74.94 \n",
            " 4.18     69.55 81.27 74.95 81.31 62.5 70.67 69.66 81.08 74.94 \n",
            " 4.19     69.56 81.25 74.95 81.29 62.53 70.69 69.68 81.06 74.94 \n",
            " 4.2     69.59 81.24 74.97 81.27 62.55 70.69 69.7 81.05 74.95 \n",
            " 4.21     69.64 81.24 74.99 81.28 62.65 70.76 69.75 81.06 74.98 \n",
            " 4.22     69.68 81.21 75.0 81.26 62.73 70.8 69.8 81.03 75.0 \n",
            " 4.23     69.7 81.18 75.0 81.24 62.8 70.84 69.81 81.0 74.99 \n",
            " 4.24     69.71 81.15 75.0 81.2 62.84 70.85 69.83 80.97 74.99 \n",
            " 4.25     69.75 81.13 75.01 81.2 62.92 70.9 69.86 80.95 75.0 \n",
            " 4.26     69.79 81.12 75.03 81.16 62.97 70.92 69.9 80.94 75.02 \n",
            " 4.27     69.82 81.1 75.04 81.14 63.04 70.96 69.93 80.92 75.02 \n",
            " 4.28     69.87 81.06 75.05 81.1 63.14 71.0 69.98 80.88 75.04 \n",
            " 4.29     69.88 81.01 75.03 81.06 63.17 71.01 69.99 80.83 75.02 \n",
            " 4.3     69.91 80.98 75.04 81.05 63.26 71.06 70.02 80.8 75.02 \n",
            " 4.31     69.97 80.95 75.06 81.04 63.37 71.12 70.08 80.78 75.05 \n",
            " 4.32     70.01 80.92 75.07 81.03 63.47 71.18 70.12 80.75 75.06 \n",
            " 4.33     70.04 80.89 75.08 81.0 63.53 71.21 70.15 80.72 75.06 \n",
            " 4.34     70.07 80.88 75.09 81.01 63.62 71.27 70.18 80.71 75.08 \n",
            " 4.35     70.11 80.87 75.11 80.99 63.65 71.28 70.21 80.7 75.09 \n",
            " 4.36     70.12 80.84 75.1 80.94 63.68 71.28 70.23 80.67 75.09 \n",
            " 4.37     70.16 80.82 75.11 80.92 63.75 71.32 70.26 80.65 75.1 \n",
            " 4.38     70.16 80.78 75.1 80.9 63.81 71.34 70.27 80.61 75.09 \n",
            " 4.39     70.19 80.75 75.1 80.87 63.86 71.36 70.29 80.58 75.08 \n",
            " 4.4     70.22 80.74 75.11 80.87 63.92 71.4 70.33 80.57 75.1 \n",
            " 4.41     70.24 80.71 75.11 80.86 63.99 71.44 70.35 80.54 75.1 \n",
            " 4.42     70.27 80.69 75.12 80.85 64.06 71.48 70.37 80.53 75.11 \n",
            " 4.43     70.32 80.65 75.13 80.84 64.17 71.55 70.43 80.49 75.12 \n",
            " 4.44     70.37 80.64 75.16 80.84 64.28 71.61 70.47 80.48 75.14 \n",
            " 4.45     70.4 80.62 75.16 80.82 64.38 71.67 70.51 80.46 75.16 \n",
            " 4.46     70.45 80.59 75.18 80.81 64.46 71.71 70.55 80.43 75.17 \n",
            " 4.47     70.49 80.58 75.2 80.8 64.53 71.76 70.59 80.42 75.19 \n",
            " 4.48     70.53 80.53 75.2 80.77 64.64 71.81 70.64 80.37 75.19 \n",
            " 4.49     70.58 80.52 75.22 80.77 64.73 71.87 70.68 80.36 75.21 \n",
            " 4.5     70.63 80.51 75.25 80.78 64.82 71.93 70.73 80.35 75.23 \n",
            " 4.51     70.67 80.49 75.26 80.75 64.89 71.96 70.77 80.34 75.25 \n",
            " 4.52     70.72 80.46 75.28 80.74 65.01 72.03 70.82 80.31 75.27 \n",
            " 4.53     70.74 80.42 75.27 80.71 65.08 72.06 70.84 80.27 75.26 \n",
            " 4.54     70.8 80.41 75.3 80.72 65.17 72.11 70.89 80.26 75.28 \n",
            " 4.55     70.85 80.4 75.32 80.71 65.25 72.16 70.95 80.25 75.31 \n",
            " 4.56     70.88 80.36 75.32 80.67 65.32 72.19 70.97 80.21 75.31 \n",
            " 4.57     70.9 80.32 75.32 80.64 65.39 72.22 71.0 80.17 75.31 \n",
            " 4.58     70.96 80.31 75.35 80.64 65.51 72.29 71.06 80.16 75.34 \n",
            " 4.59     71.0 80.29 75.36 80.6 65.57 72.31 71.1 80.14 75.35 \n",
            " 4.6     71.03 80.25 75.36 80.56 65.61 72.32 71.12 80.11 75.35 \n",
            " 4.61     71.07 80.24 75.38 80.55 65.69 72.37 71.16 80.1 75.37 \n",
            " 4.62     71.1 80.21 75.38 80.54 65.77 72.41 71.19 80.07 75.37 \n",
            " 4.63     71.12 80.18 75.38 80.51 65.83 72.43 71.21 80.04 75.37 \n",
            " 4.64     71.13 80.15 75.37 80.48 65.88 72.45 71.22 80.01 75.36 \n",
            " 4.65     71.16 80.14 75.38 80.49 65.95 72.5 71.25 80.0 75.37 \n",
            " 4.66     71.18 80.12 75.39 80.48 66.01 72.53 71.28 79.98 75.38 \n",
            " 4.67     71.19 80.08 75.37 80.44 66.03 72.52 71.28 79.94 75.36 \n",
            " 4.68     71.24 80.04 75.38 80.41 66.13 72.57 71.33 79.9 75.37 \n",
            " 4.69     71.28 80.01 75.39 80.39 66.21 72.61 71.37 79.87 75.38 \n",
            " 4.7     71.32 80.0 75.41 80.39 66.27 72.65 71.41 79.86 75.4 \n",
            " 4.71     71.35 79.95 75.41 80.34 66.32 72.66 71.43 79.82 75.39 \n",
            " 4.72     71.37 79.92 75.4 80.32 66.38 72.69 71.45 79.79 75.39 \n",
            " 4.73     71.42 79.91 75.43 80.33 66.49 72.76 71.5 79.78 75.41 \n",
            " 4.74     71.49 79.9 75.46 80.33 66.62 72.84 71.58 79.77 75.45 \n",
            " 4.75     71.54 79.89 75.48 80.33 66.71 72.89 71.63 79.76 75.48 \n",
            " 4.76     71.57 79.86 75.49 80.32 66.81 72.94 71.66 79.73 75.48 \n",
            " 4.77     71.61 79.84 75.5 80.31 66.89 72.99 71.69 79.71 75.49 \n",
            " 4.78     71.64 79.81 75.5 80.31 67.0 73.05 71.73 79.68 75.5 \n",
            " 4.79     71.71 79.8 75.54 80.31 67.12 73.12 71.79 79.67 75.53 \n",
            " 4.8     71.75 79.79 75.56 80.29 67.19 73.16 71.83 79.67 75.55 \n",
            " 4.81     71.75 79.76 75.54 80.27 67.23 73.18 71.84 79.64 75.54 \n",
            " 4.82     71.76 79.71 75.53 80.23 67.26 73.18 71.84 79.59 75.52 \n",
            " 4.83     71.81 79.7 75.55 80.2 67.34 73.21 71.89 79.58 75.54 \n",
            " 4.84     71.84 79.7 75.57 80.21 67.41 73.26 71.92 79.58 75.56 \n",
            " 4.85     71.88 79.67 75.57 80.21 67.52 73.32 71.97 79.55 75.57 \n",
            " 4.86     71.96 79.61 75.59 80.18 67.66 73.39 72.04 79.49 75.58 \n",
            " 4.87     72.0 79.55 75.59 80.13 67.76 73.43 72.08 79.43 75.58 \n",
            " 4.88     72.05 79.51 75.6 80.12 67.87 73.49 72.13 79.39 75.59 \n",
            " 4.89     72.07 79.45 75.58 80.08 67.95 73.52 72.15 79.34 75.57 \n",
            " 4.9     72.12 79.39 75.58 80.04 68.06 73.57 72.2 79.28 75.57 \n",
            " 4.91     72.15 79.35 75.58 80.03 68.15 73.61 72.23 79.24 75.57 \n",
            " 4.92     72.2 79.35 75.61 80.04 68.23 73.66 72.28 79.24 75.6 \n",
            " 4.93     72.23 79.29 75.6 79.99 68.3 73.68 72.31 79.18 75.59 \n",
            " 4.94     72.31 79.25 75.62 79.96 68.45 73.76 72.38 79.14 75.61 \n",
            " 4.95     72.33 79.17 75.6 79.89 68.51 73.76 72.4 79.06 75.58 \n",
            " 4.96     72.37 79.13 75.6 79.84 68.58 73.78 72.44 79.03 75.59 \n",
            " 4.97     72.47 79.11 75.64 79.84 68.74 73.87 72.54 79.01 75.64 \n",
            " 4.98     72.49 79.08 75.64 79.82 68.79 73.9 72.56 78.98 75.63 \n",
            " 4.99     72.54 79.05 75.66 79.8 68.88 73.94 72.61 78.95 75.65 \n",
            " 5.0     72.56 79.04 75.66 79.78 68.91 73.95 72.63 78.94 75.65 "
          ]
        }
      ],
      "source": [
        "list_of_f1=[]\n",
        "for i in range(400,501):\n",
        "  logits_total_array_o =logits_total_array\n",
        "  logits_total_array_o = np.array(logits_total_array_o)\n",
        "  logits_total_array_o[:,100] = logits_total_array_o[:,100] + (i/100)\n",
        "  predictions_ = np.argmax(logits_total_array_o , axis=1)\n",
        "  df2[\"N_plus_one_prediction\"] = predictions_\n",
        "  df2['N_plus_one_prediction'] = df2['N_plus_one_prediction'].replace([100], 'OOD')\n",
        "  print(\"\\n\",i/100,\"    \",end=\"\")\n",
        "  list_of_f1.append(print_performance_metrics())\n",
        " # print_performance_metrics()"
      ]
    },
    {
      "cell_type": "code",
      "execution_count": 82,
      "metadata": {
        "colab": {
          "base_uri": "https://localhost:8080/"
        },
        "id": "F4VDavo6YvCY",
        "outputId": "c94db92e-9a9b-42d8-d746-16f49c95dfc4"
      },
      "outputs": [
        {
          "data": {
            "text/plain": [
              "75.65"
            ]
          },
          "execution_count": 82,
          "metadata": {},
          "output_type": "execute_result"
        }
      ],
      "source": [
        "max(list_of_f1)"
      ]
    },
    {
      "cell_type": "code",
      "execution_count": 83,
      "metadata": {
        "colab": {
          "base_uri": "https://localhost:8080/"
        },
        "id": "KVHH0umR-bY6",
        "outputId": "61bdb66c-f3f9-4307-db2c-5bc479cfcf41"
      },
      "outputs": [
        {
          "name": "stdout",
          "output_type": "stream",
          "text": [
            "done\n"
          ]
        }
      ],
      "source": [
        "print(\"done\")"
      ]
    },
    {
      "cell_type": "code",
      "execution_count": 84,
      "metadata": {
        "colab": {
          "base_uri": "https://localhost:8080/"
        },
        "id": "TB4wLNIKgeH5",
        "outputId": "090ddb95-ba15-4d35-db4a-30d4444a3856"
      },
      "outputs": [
        {
          "name": "stdout",
          "output_type": "stream",
          "text": [
            "\n",
            " 5.0     72.56 79.04 75.66 79.78 68.91 73.95 72.63 78.94 75.65 \n",
            " 5.01     72.57 79.01 75.65 79.76 68.95 73.96 72.64 78.91 75.65 \n",
            " 5.02     72.6 78.99 75.66 79.76 69.03 74.01 72.67 78.89 75.65 \n",
            " 5.03     72.65 78.96 75.67 79.74 69.13 74.06 72.72 78.86 75.67 \n",
            " 5.04     72.72 78.92 75.69 79.69 69.24 74.1 72.79 78.82 75.69 \n",
            " 5.05     72.77 78.86 75.69 79.64 69.35 74.14 72.84 78.77 75.69 \n",
            " 5.06     72.82 78.8 75.69 79.59 69.44 74.17 72.88 78.71 75.68 \n",
            " 5.07     72.85 78.75 75.69 79.54 69.53 74.2 72.91 78.66 75.68 \n",
            " 5.08     72.89 78.72 75.69 79.52 69.61 74.23 72.95 78.63 75.68 \n",
            " 5.09     72.9 78.7 75.69 79.5 69.63 74.24 72.97 78.61 75.69 \n",
            " 5.1     72.93 78.64 75.68 79.46 69.7 74.26 73.0 78.55 75.67 \n",
            " 5.11     72.98 78.6 75.69 79.44 69.78 74.3 73.04 78.51 75.68 \n",
            " 5.12     73.03 78.56 75.69 79.43 69.89 74.36 73.09 78.47 75.68 \n",
            " 5.13     73.07 78.52 75.7 79.41 69.97 74.39 73.13 78.44 75.69 \n",
            " 5.14     73.15 78.5 75.73 79.42 70.12 74.48 73.21 78.42 75.73 \n",
            " 5.15     73.2 78.48 75.75 79.41 70.2 74.52 73.26 78.4 75.74 \n",
            " 5.16     73.26 78.43 75.76 79.38 70.32 74.57 73.32 78.35 75.75 \n",
            " 5.17     73.32 78.4 75.77 79.38 70.43 74.64 73.38 78.32 75.77 \n",
            " 5.18     73.37 78.35 75.78 79.33 70.5 74.65 73.42 78.27 75.77 \n",
            " 5.19     73.4 78.29 75.77 79.3 70.6 74.7 73.46 78.21 75.76 \n",
            " 5.2     73.45 78.22 75.76 79.25 70.71 74.74 73.5 78.15 75.75 \n",
            " 5.21     73.47 78.14 75.73 79.21 70.82 74.78 73.52 78.07 75.73 \n",
            " 5.22     73.48 78.09 75.71 79.16 70.85 74.78 73.53 78.02 75.71 \n",
            " 5.23     73.56 78.04 75.73 79.12 70.99 74.84 73.61 77.97 75.73 \n",
            " 5.24     73.6 77.98 75.73 79.08 71.06 74.86 73.65 77.91 75.72 \n",
            " 5.25     73.64 77.92 75.72 79.05 71.16 74.9 73.7 77.85 75.72 \n",
            " 5.26     73.7 77.87 75.73 79.02 71.28 74.95 73.76 77.8 75.73 \n",
            " 5.27     73.74 77.82 75.73 78.98 71.37 74.98 73.8 77.76 75.73 \n",
            " 5.28     73.78 77.74 75.71 78.92 71.46 75.0 73.83 77.68 75.71 \n",
            " 5.29     73.85 77.71 75.73 78.9 71.57 75.06 73.9 77.65 75.73 \n",
            " 5.3     73.87 77.65 75.71 78.87 71.65 75.09 73.92 77.59 75.71 \n",
            " 5.31     73.86 77.56 75.66 78.8 71.72 75.09 73.91 77.5 75.66 \n",
            " 5.32     73.91 77.48 75.65 78.76 71.86 75.15 73.96 77.42 75.65 \n",
            " 5.33     73.92 77.4 75.62 78.71 71.94 75.17 73.97 77.35 75.62 \n",
            " 5.34     73.98 77.35 75.63 78.69 72.04 75.22 74.02 77.3 75.62 \n",
            " 5.35     74.05 77.3 75.64 78.67 72.18 75.29 74.09 77.25 75.64 \n",
            " 5.36     74.12 77.25 75.65 78.65 72.32 75.35 74.16 77.2 75.65 \n",
            " 5.37     74.13 77.17 75.62 78.6 72.39 75.37 74.17 77.12 75.62 \n",
            " 5.38     74.21 77.11 75.63 78.54 72.48 75.39 74.25 77.06 75.63 \n",
            " 5.39     74.29 77.09 75.66 78.54 72.63 75.47 74.33 77.05 75.67 \n",
            " 5.4     74.35 77.04 75.67 78.52 72.76 75.53 74.4 77.0 75.68 \n",
            " 5.41     74.4 76.94 75.65 78.46 72.88 75.57 74.44 76.9 75.65 \n",
            " 5.42     74.44 76.89 75.65 78.42 72.94 75.58 74.48 76.85 75.65 \n",
            " 5.43     74.48 76.78 75.61 78.34 73.06 75.61 74.52 76.74 75.61 \n",
            " 5.44     74.5 76.68 75.57 78.27 73.15 75.62 74.54 76.65 75.58 \n",
            " 5.45     74.54 76.6 75.56 78.2 73.25 75.64 74.58 76.57 75.56 \n",
            " 5.46     74.6 76.53 75.55 78.17 73.39 75.7 74.64 76.5 75.56 \n",
            " 5.47     74.67 76.47 75.56 78.14 73.52 75.76 74.71 76.44 75.57 \n",
            " 5.48     74.74 76.4 75.56 78.08 73.62 75.78 74.77 76.37 75.56 \n",
            " 5.49     74.78 76.3 75.53 78.02 73.75 75.82 74.81 76.27 75.53 \n",
            " 5.5     74.81 76.21 75.5 77.96 73.84 75.84 74.84 76.19 75.51 \n",
            " 5.51     74.83 76.08 75.45 77.87 73.93 75.85 74.86 76.06 75.46 \n",
            " 5.52     74.86 75.95 75.4 77.77 74.03 75.85 74.89 75.93 75.41 \n",
            " 5.53     74.89 75.83 75.36 77.69 74.13 75.87 74.91 75.81 75.36 \n",
            " 5.54     74.95 75.73 75.34 77.65 74.31 75.94 74.98 75.72 75.35 \n",
            " 5.55     74.95 75.59 75.27 77.55 74.38 75.93 74.97 75.58 75.27 \n",
            " 5.56     75.01 75.4 75.2 77.4 74.53 75.94 75.03 75.39 75.21 \n",
            " 5.57     75.03 75.28 75.15 77.3 74.61 75.93 75.05 75.27 75.16 \n",
            " 5.58     75.1 75.14 75.12 77.2 74.78 75.97 75.12 75.14 75.13 \n",
            " 5.59     75.19 75.05 75.12 77.17 74.97 76.05 75.21 75.05 75.13 \n",
            " 5.6     75.19 74.86 75.02 77.02 75.05 76.02 75.21 74.86 75.03 \n",
            " 5.61     75.27 74.68 74.97 76.89 75.23 76.05 75.29 74.69 74.99 \n",
            " 5.62     75.31 74.48 74.89 76.75 75.35 76.04 75.33 74.49 74.91 \n",
            " 5.63     75.34 74.28 74.81 76.62 75.49 76.05 75.35 74.29 74.82 \n",
            " 5.64     75.35 74.14 74.74 76.53 75.57 76.05 75.36 74.15 74.75 \n",
            " 5.65     75.36 73.92 74.63 76.34 75.65 75.99 75.37 73.94 74.65 \n",
            " 5.66     75.4 73.75 74.57 76.22 75.77 75.99 75.41 73.77 74.58 \n",
            " 5.67     75.42 73.53 74.46 76.07 75.9 75.98 75.43 73.55 74.48 \n",
            " 5.68     75.47 73.41 74.43 75.98 76.02 76.0 75.48 73.44 74.45 \n",
            " 5.69     75.48 73.17 74.31 75.83 76.15 75.99 75.48 73.2 74.32 \n",
            " 5.7     75.5 72.98 74.22 75.71 76.28 76.0 75.5 73.01 74.23 \n",
            " 5.71     75.51 72.74 74.1 75.53 76.38 75.95 75.51 72.78 74.12 \n",
            " 5.72     75.5 72.52 73.98 75.37 76.47 75.92 75.5 72.56 74.0 \n",
            " 5.73     75.5 72.24 73.83 75.18 76.61 75.89 75.49 72.28 73.85 \n",
            " 5.74     75.59 72.08 73.79 75.08 76.79 75.92 75.58 72.13 73.81 \n",
            " 5.75     75.6 71.88 73.69 74.94 76.88 75.9 75.59 71.93 73.71 \n",
            " 5.76     75.62 71.61 73.56 74.77 77.04 75.89 75.62 71.66 73.59 \n",
            " 5.77     75.63 71.3 73.4 74.58 77.2 75.87 75.62 71.36 73.43 \n",
            " 5.78     75.65 70.99 73.25 74.38 77.34 75.83 75.64 71.05 73.27 \n",
            " 5.79     75.66 70.69 73.09 74.2 77.52 75.83 75.64 70.76 73.12 \n",
            " 5.8     75.74 70.47 73.01 74.1 77.73 75.87 75.72 70.54 73.04 \n",
            " 5.81     75.69 70.2 72.84 73.93 77.81 75.82 75.67 70.28 72.88 \n",
            " 5.82     75.68 69.87 72.66 73.73 77.95 75.78 75.66 69.95 72.69 \n",
            " 5.83     75.63 69.46 72.41 73.46 78.07 75.69 75.6 69.55 72.45 \n",
            " 5.84     75.61 69.08 72.2 73.21 78.18 75.61 75.59 69.17 72.24 \n",
            " 5.85     75.58 68.75 72.0 73.01 78.32 75.57 75.55 68.84 72.04 \n",
            " 5.86     75.58 68.39 71.81 72.79 78.47 75.52 75.55 68.49 71.85 \n",
            " 5.87     75.54 68.01 71.58 72.55 78.57 75.44 75.51 68.11 71.62 \n",
            " 5.88     75.48 67.63 71.34 72.33 78.7 75.38 75.45 67.74 71.39 \n",
            " 5.89     75.44 67.23 71.1 72.09 78.86 75.32 75.41 67.35 71.15 \n",
            " 5.9     75.29 66.66 70.71 71.75 78.97 75.18 75.25 66.78 70.76 \n",
            " 5.91     75.28 66.18 70.44 71.49 79.22 75.15 75.24 66.31 70.49 \n",
            " 5.92     75.27 65.74 70.18 71.23 79.39 75.09 75.23 65.88 70.25 \n",
            " 5.93     75.16 65.15 69.8 70.89 79.52 74.96 75.12 65.29 69.86 \n",
            " 5.94     75.04 64.43 69.33 70.46 79.65 74.77 75.0 64.58 69.4 \n",
            " 5.95     75.03 63.92 69.03 70.19 79.86 74.71 74.98 64.08 69.1 \n",
            " 5.96     74.97 63.32 68.65 69.87 80.05 74.61 74.92 63.49 68.73 \n",
            " 5.97     74.84 62.72 68.25 69.55 80.21 74.5 74.79 62.89 68.33 \n",
            " 5.98     74.78 62.17 67.89 69.26 80.43 74.43 74.73 62.35 67.98 \n",
            " 5.99     74.61 61.56 67.46 68.93 80.54 74.28 74.55 61.75 67.55 \n",
            " 6.0     74.59 60.96 67.09 68.6 80.7 74.16 74.53 61.16 67.19 \n",
            " 6.01     74.43 60.36 66.66 68.28 80.82 74.02 74.37 60.56 66.76 \n",
            " 6.02     74.33 59.89 66.33 68.06 81.02 73.98 74.27 60.1 66.44 \n",
            " 6.03     74.27 59.36 65.98 67.82 81.25 73.93 74.2 59.58 66.09 \n",
            " 6.04     74.15 58.64 65.49 67.45 81.45 73.79 74.08 58.87 65.6 \n",
            " 6.05     74.01 58.03 65.05 67.15 81.63 73.69 73.94 58.26 65.17 \n",
            " 6.06     73.85 57.53 64.68 66.91 81.76 73.59 73.78 57.77 64.8 \n",
            " 6.07     73.75 56.93 64.26 66.61 81.95 73.49 73.68 57.18 64.39 \n",
            " 6.08     73.64 56.49 63.93 66.41 82.13 73.44 73.57 56.74 64.07 \n",
            " 6.09     73.49 55.93 63.52 66.15 82.31 73.35 73.42 56.19 63.66 \n",
            " 6.1     73.36 55.37 63.11 65.89 82.48 73.26 73.28 55.64 63.25 \n",
            " 6.11     72.97 54.69 62.52 65.58 82.65 73.13 72.89 54.97 62.67 \n",
            " 6.12     72.85 54.12 62.1 65.34 82.88 73.07 72.78 54.4 62.26 \n",
            " 6.13     72.52 53.47 61.55 65.02 82.98 72.91 72.44 53.76 61.72 \n",
            " 6.14     72.22 52.87 61.05 64.76 83.17 72.82 72.15 53.17 61.22 \n",
            " 6.15     72.04 52.21 60.54 64.46 83.28 72.67 71.97 52.52 60.73 \n",
            " 6.16     71.68 51.42 59.88 64.12 83.46 72.52 71.6 51.74 60.07 \n",
            " 6.17     71.61 50.71 59.37 63.82 83.63 72.39 71.53 51.04 59.57 \n",
            " 6.18     71.47 50.0 58.84 63.5 83.81 72.26 71.39 50.33 59.04 \n",
            " 6.19     71.07 49.19 58.14 63.16 83.99 72.1 70.99 49.53 58.35 \n",
            " 6.2     70.91 48.62 57.69 62.93 84.17 72.02 70.83 48.97 57.91 \n",
            " 6.21     70.74 48.0 57.19 62.68 84.33 71.91 70.66 48.36 57.42 \n",
            " 6.22     70.51 47.24 56.58 62.37 84.47 71.76 70.43 47.61 56.81 \n",
            " 6.23     70.27 46.56 56.01 62.1 84.66 71.65 70.19 46.94 56.26 \n",
            " 6.24     70.02 45.96 55.49 61.85 84.79 71.53 69.94 46.34 55.75 \n",
            " 6.25     69.69 45.26 54.88 61.58 84.94 71.4 69.61 45.65 55.14 \n",
            " 6.26     69.47 44.69 54.39 61.37 85.11 71.31 69.39 45.09 54.66 \n",
            " 6.27     69.22 44.12 53.89 61.15 85.26 71.22 69.14 44.53 54.17 \n",
            " 6.28     69.03 43.5 53.37 60.9 85.36 71.08 68.95 43.91 53.65 \n",
            " 6.29     68.77 42.8 52.76 60.65 85.59 70.99 68.69 43.22 53.06 \n",
            " 6.3     68.61 42.05 52.14 60.37 85.74 70.85 68.53 42.48 52.45 \n",
            " 6.31     68.32 41.41 51.57 60.14 85.9 70.75 68.24 41.85 51.88 \n",
            " 6.32     68.05 40.73 50.96 59.92 86.14 70.68 67.97 41.18 51.29 \n",
            " 6.33     67.88 40.1 50.42 59.7 86.31 70.58 67.8 40.56 50.76 \n",
            " 6.34     67.8 39.56 49.97 59.52 86.47 70.51 67.72 40.02 50.31 \n",
            " 6.35     66.64 38.82 49.06 59.27 86.66 70.4 66.57 39.29 49.41 \n",
            " 6.36     66.38 38.05 48.37 58.98 86.77 70.22 66.3 38.53 48.74 \n",
            " 6.37     66.0 37.31 47.67 58.7 86.84 70.05 65.93 37.8 48.05 \n",
            " 6.38     65.65 36.63 47.02 58.47 86.99 69.93 65.58 37.13 47.41 \n",
            " 6.39     65.05 35.75 46.14 58.16 87.14 69.76 64.98 36.26 46.55 \n",
            " 6.4     64.34 35.01 45.35 57.93 87.33 69.65 64.27 35.53 45.76 \n",
            " 6.41     64.12 34.23 44.63 57.67 87.49 69.52 64.06 34.76 45.07 \n",
            " 6.42     63.83 33.49 43.93 57.44 87.66 69.4 63.76 34.03 44.38 \n",
            " 6.43     63.43 32.8 43.24 57.19 87.72 69.24 63.37 33.34 43.69 \n",
            " 6.44     63.25 32.15 42.63 56.98 87.85 69.13 63.18 32.7 43.1 \n",
            " 6.45     63.11 31.56 42.08 56.8 88.0 69.04 63.05 32.12 42.56 \n",
            " 6.46     62.95 31.0 41.54 56.65 88.19 68.98 62.89 31.57 42.04 \n",
            " 6.47     63.19 30.34 41.0 56.45 88.36 68.89 63.13 30.91 41.5 \n",
            " 6.48     62.99 29.68 40.35 56.24 88.51 68.78 62.92 30.26 40.87 \n",
            " 6.49     63.04 29.01 39.73 56.04 88.66 68.67 62.97 29.6 40.27 \n",
            " 6.5     62.76 28.26 38.97 55.8 88.78 68.53 62.69 28.86 39.52 \n",
            " 6.51     62.46 27.66 38.34 55.63 88.96 68.45 62.39 28.27 38.91 \n",
            " 6.52     62.21 26.94 37.6 55.43 89.14 68.35 62.14 27.56 38.18 \n",
            " 6.53     61.75 26.12 36.71 55.17 89.21 68.17 61.69 26.74 37.31 \n",
            " 6.54     61.61 25.59 36.16 55.03 89.39 68.12 61.55 26.22 36.77 \n",
            " 6.55     61.56 24.97 35.53 54.85 89.52 68.02 61.49 25.61 36.16 \n",
            " 6.56     61.29 24.37 34.87 54.66 89.59 67.9 61.23 25.02 35.52 \n",
            " 6.57     60.96 23.84 34.28 54.51 89.67 67.8 60.89 24.49 34.93 \n",
            " 6.58     60.76 23.15 33.53 54.31 89.81 67.69 60.7 23.81 34.2 \n",
            " 6.59     60.22 22.45 32.71 54.1 89.92 67.56 60.16 23.12 33.4 \n",
            " 6.6     59.95 21.94 32.12 53.95 89.99 67.46 59.89 22.61 32.83 \n",
            " 6.61     59.12 21.31 31.33 53.76 90.07 67.33 59.07 21.99 32.05 \n",
            " 6.62     58.79 20.73 30.65 53.63 90.27 67.29 58.74 21.42 31.39 \n",
            " 6.63     58.19 20.15 29.93 53.47 90.35 67.18 58.14 20.85 30.69 \n",
            " 6.64     58.05 19.69 29.41 53.35 90.49 67.13 58.01 20.39 30.17 \n",
            " 6.65     57.67 19.17 28.77 53.22 90.62 67.06 57.62 19.88 29.56 \n",
            " 6.66     57.27 18.73 28.23 53.11 90.71 66.99 57.23 19.44 29.02 \n",
            " 6.67     57.14 18.28 27.7 53.0 90.83 66.94 57.1 19.0 28.51 \n",
            " 6.68     56.91 17.72 27.03 52.87 90.99 66.88 56.87 18.45 27.86 \n",
            " 6.69     56.58 17.14 26.31 52.72 91.11 66.79 56.54 17.87 27.16 \n",
            " 6.7     56.48 16.69 25.77 52.6 91.2 66.72 56.45 17.43 26.64 \n",
            " 6.71     56.23 16.21 25.17 52.48 91.3 66.65 56.2 16.95 26.04 \n",
            " 6.72     56.09 15.83 24.69 52.38 91.41 66.6 56.05 16.58 25.59 \n",
            " 6.73     55.7 15.24 23.93 52.24 91.54 66.52 55.67 16.0 24.86 \n",
            " 6.74     55.96 14.8 23.41 52.14 91.66 66.47 55.92 15.56 24.35 \n",
            " 6.75     55.94 14.35 22.84 52.04 91.8 66.43 55.91 15.12 23.8 \n",
            " 6.76     55.37 13.96 22.3 51.94 91.88 66.37 55.34 14.73 23.27 \n",
            " 6.77     55.08 13.59 21.8 51.84 91.93 66.29 55.05 14.37 22.79 \n",
            " 6.78     54.61 13.26 21.34 51.75 91.98 66.24 54.59 14.04 22.34 \n",
            " 6.79     54.42 12.87 20.82 51.66 92.08 66.19 54.39 13.65 21.82 \n",
            " 6.8     53.91 12.49 20.28 51.57 92.15 66.13 53.88 13.28 21.31 \n",
            " 6.81     53.57 12.21 19.89 51.53 92.31 66.14 53.55 13.0 20.92 \n",
            " 6.82     53.21 11.81 19.33 51.46 92.47 66.12 53.19 12.61 20.39 \n",
            " 6.83     52.74 11.39 18.73 51.37 92.61 66.09 52.73 12.19 19.8 \n",
            " 6.84     52.27 11.01 18.19 51.3 92.76 66.06 52.26 11.82 19.28 \n",
            " 6.85     51.78 10.73 17.78 51.25 92.89 66.06 51.77 11.54 18.87 \n",
            " 6.86     51.48 10.4 17.3 51.18 92.98 66.02 51.48 11.22 18.42 \n",
            " 6.87     51.28 10.2 17.02 51.15 93.08 66.02 51.28 11.02 18.14 \n",
            " 6.88     50.13 9.9 16.53 51.08 93.14 65.98 50.14 10.72 17.66 \n",
            " 6.89     49.76 9.55 16.02 51.0 93.22 65.93 49.77 10.38 17.18 \n",
            " 6.9     47.94 9.22 15.47 50.94 93.32 65.9 47.97 10.05 16.62 \n",
            " 6.91     47.8 8.98 15.12 50.88 93.37 65.87 47.83 9.82 16.29 \n",
            " 6.92     47.46 8.73 14.75 50.82 93.44 65.84 47.5 9.57 15.93 \n",
            " 6.93     47.36 8.51 14.43 50.79 93.57 65.84 47.4 9.35 15.62 \n",
            " 6.94     46.99 8.21 13.98 50.73 93.65 65.81 47.02 9.06 15.19 \n",
            " 6.95     45.79 7.99 13.61 50.71 93.79 65.83 45.84 8.84 14.82 \n",
            " 6.96     45.34 7.74 13.22 50.66 93.86 65.8 45.4 8.59 14.45 \n",
            " 6.97     45.16 7.57 12.97 50.63 93.93 65.79 45.21 8.43 14.21 \n",
            " 6.98     44.95 7.32 12.59 50.59 94.08 65.8 45.01 8.18 13.84 \n",
            " 6.99     44.69 7.08 12.22 50.57 94.25 65.83 44.75 7.94 13.49 \n",
            " 7.0     44.34 6.86 11.88 50.53 94.34 65.81 44.4 7.73 13.17 "
          ]
        }
      ],
      "source": [
        "list_of_f1=[]\n",
        "for i in range(500,701):\n",
        "  logits_total_array_o =logits_total_array\n",
        "  logits_total_array_o = np.array(logits_total_array_o)\n",
        "  logits_total_array_o[:,100] = logits_total_array_o[:,100] + (i/100)\n",
        "  predictions_ = np.argmax(logits_total_array_o , axis=1)\n",
        "  df2[\"N_plus_one_prediction\"] = predictions_\n",
        "  df2['N_plus_one_prediction'] = df2['N_plus_one_prediction'].replace([100], 'OOD')\n",
        "  print(\"\\n\",i/100,\"    \",end=\"\")\n",
        "  list_of_f1.append(print_performance_metrics())\n",
        " # print_performance_metrics()"
      ]
    },
    {
      "cell_type": "code",
      "execution_count": 85,
      "metadata": {
        "colab": {
          "base_uri": "https://localhost:8080/"
        },
        "id": "azDWzCSEgfn7",
        "outputId": "c273eaf6-c62a-414c-c2aa-0b5af66342f3"
      },
      "outputs": [
        {
          "data": {
            "text/plain": [
              "75.77"
            ]
          },
          "execution_count": 85,
          "metadata": {},
          "output_type": "execute_result"
        }
      ],
      "source": [
        "max(list_of_f1)"
      ]
    },
    {
      "cell_type": "code",
      "execution_count": 87,
      "metadata": {
        "id": "NuTlFFINBGn6"
      },
      "outputs": [],
      "source": [
        "logits_total_array_o = logits_total_array_o.tolist()"
      ]
    },
    {
      "cell_type": "code",
      "execution_count": 88,
      "metadata": {
        "id": "yVZxmx4WgjIp"
      },
      "outputs": [],
      "source": [
        "df2['logits'] = logits_total_array_o"
      ]
    },
    {
      "cell_type": "code",
      "execution_count": 89,
      "metadata": {
        "id": "vM5lRsvBgjLa"
      },
      "outputs": [],
      "source": [
        "df2.to_csv(\"/content/sample_data/logits_1_.csv\")"
      ]
    },
    {
      "cell_type": "code",
      "execution_count": null,
      "metadata": {
        "id": "-1hx52wZgjN-"
      },
      "outputs": [],
      "source": []
    },
    {
      "cell_type": "code",
      "execution_count": null,
      "metadata": {
        "id": "0WFMU6uCgjRh"
      },
      "outputs": [],
      "source": []
    },
    {
      "cell_type": "code",
      "execution_count": null,
      "metadata": {
        "id": "y0_XJTTH3yre"
      },
      "outputs": [],
      "source": [
        "predictions_ = np.argmax(logits_total_array , axis=1)"
      ]
    },
    {
      "cell_type": "code",
      "execution_count": null,
      "metadata": {
        "colab": {
          "base_uri": "https://localhost:8080/"
        },
        "id": "v0l7hXGV4Y18",
        "outputId": "18d7fae1-a355-4b5a-f861-f3bc38cf4bef"
      },
      "outputs": [
        {
          "data": {
            "text/plain": [
              "20000"
            ]
          },
          "execution_count": 188,
          "metadata": {},
          "output_type": "execute_result"
        }
      ],
      "source": [
        "len(logits_total_array)"
      ]
    },
    {
      "cell_type": "code",
      "execution_count": null,
      "metadata": {
        "colab": {
          "base_uri": "https://localhost:8080/"
        },
        "id": "gL2zuabXyCoa",
        "outputId": "1115f5cf-617b-4566-a984-985f1b870d8d"
      },
      "outputs": [
        {
          "name": "stdout",
          "output_type": "stream",
          "text": [
            "              precision    recall  f1-score   support\n",
            "\n",
            "           0      0.530     0.790     0.635       100\n",
            "           1      0.959     0.930     0.944       100\n",
            "           2      0.802     0.850     0.825       100\n",
            "           3      0.960     0.970     0.965       100\n",
            "           4      0.676     0.460     0.548       100\n",
            "           5      0.824     0.700     0.757       100\n",
            "           6      0.889     0.400     0.552       100\n",
            "           7      0.790     0.980     0.875       100\n",
            "           8      0.803     0.940     0.866       100\n",
            "           9      0.631     0.820     0.713       100\n",
            "          10      0.960     0.950     0.955       100\n",
            "          11      0.690     0.800     0.741       100\n",
            "          12      0.990     0.970     0.980       100\n",
            "          13      0.954     0.830     0.888       100\n",
            "          14      0.519     0.670     0.585       100\n",
            "          15      0.913     0.950     0.931       100\n",
            "          16      0.895     0.940     0.917       100\n",
            "          17      0.843     0.910     0.875       100\n",
            "          18      0.866     0.840     0.853       100\n",
            "          19      0.833     0.700     0.761       100\n",
            "          20      0.970     0.960     0.965       100\n",
            "          21      0.816     0.800     0.808       100\n",
            "          22      0.810     0.470     0.595       100\n",
            "          23      0.654     0.700     0.676       100\n",
            "          24      0.821     0.640     0.719       100\n",
            "          25      0.989     0.870     0.926       100\n",
            "          26      0.822     0.970     0.890       100\n",
            "          27      0.904     0.750     0.820       100\n",
            "          28      0.781     0.820     0.800       100\n",
            "          29      0.832     0.940     0.883       100\n",
            "          30      0.796     0.820     0.808       100\n",
            "          31      0.902     0.830     0.865       100\n",
            "          32      0.637     0.930     0.756       100\n",
            "          33      0.769     0.600     0.674       100\n",
            "          34      0.698     0.670     0.684       100\n",
            "          35      0.875     0.350     0.500       100\n",
            "          36      0.930     0.800     0.860       100\n",
            "          37      0.940     0.940     0.940       100\n",
            "          38      0.988     0.830     0.902       100\n",
            "          39      0.669     0.890     0.764       100\n",
            "          40      0.551     0.700     0.617       100\n",
            "          41      0.860     0.980     0.916       100\n",
            "          42      0.877     0.710     0.785       100\n",
            "          43      1.000     0.550     0.710       100\n",
            "          44      0.861     0.680     0.760       100\n",
            "          45      0.978     0.900     0.938       100\n",
            "          46      0.980     0.980     0.980       100\n",
            "          47      0.978     0.910     0.943       100\n",
            "          48      0.978     0.900     0.938       100\n",
            "          49      0.969     0.940     0.954       100\n",
            "          50      1.000     0.810     0.895       100\n",
            "          51      0.931     0.810     0.866       100\n",
            "          52      0.796     0.740     0.767       100\n",
            "          53      0.474     0.830     0.604       100\n",
            "          54      0.909     0.800     0.851       100\n",
            "          55      0.743     0.840     0.789       100\n",
            "          56      0.925     0.990     0.957       100\n",
            "          57      0.750     0.900     0.818       100\n",
            "          58      0.870     0.870     0.870       100\n",
            "          59      1.000     0.910     0.953       100\n",
            "          60      0.788     0.820     0.804       100\n",
            "          61      0.696     0.640     0.667       100\n",
            "          62      0.902     0.830     0.865       100\n",
            "          63      0.872     0.820     0.845       100\n",
            "          64      0.924     0.850     0.885       100\n",
            "          65      0.958     0.910     0.933       100\n",
            "          66      0.965     0.820     0.886       100\n",
            "          67      0.954     0.830     0.888       100\n",
            "          68      0.898     0.440     0.591       100\n",
            "          69      0.825     0.800     0.812       100\n",
            "          70      0.800     0.760     0.779       100\n",
            "          71      0.958     0.680     0.795       100\n",
            "          72      1.000     1.000     1.000       100\n",
            "          73      0.908     0.690     0.784       100\n",
            "          74      0.979     0.930     0.954       100\n",
            "          75      1.000     0.600     0.750       100\n",
            "          76      0.990     0.970     0.980       100\n",
            "          77      0.848     0.840     0.844       100\n",
            "          78      0.895     0.680     0.773       100\n",
            "          79      1.000     0.970     0.985       100\n",
            "          80      1.000     1.000     1.000       100\n",
            "          81      0.903     0.930     0.916       100\n",
            "          82      0.832     0.790     0.810       100\n",
            "          83      0.961     0.990     0.975       100\n",
            "          84      0.988     0.810     0.890       100\n",
            "          85      0.989     0.900     0.942       100\n",
            "          86      0.688     0.970     0.805       100\n",
            "          87      0.897     0.610     0.726       100\n",
            "          88      0.929     0.790     0.854       100\n",
            "          89      0.748     0.770     0.759       100\n",
            "          90      0.712     0.740     0.725       100\n",
            "          91      0.885     0.770     0.824       100\n",
            "          92      1.000     0.960     0.980       100\n",
            "          93      0.989     0.860     0.920       100\n",
            "          94      0.977     0.860     0.915       100\n",
            "          95      1.000     0.590     0.742       100\n",
            "          96      0.864     0.950     0.905       100\n",
            "          97      0.907     0.490     0.636       100\n",
            "          98      0.978     0.910     0.943       100\n",
            "          99      0.967     0.880     0.921       100\n",
            "         100      0.000     0.000     0.000         0\n",
            "\n",
            "    accuracy                          0.812     10000\n",
            "   macro avg      0.859     0.804     0.821     10000\n",
            "weighted avg      0.867     0.812     0.829     10000\n",
            "\n"
          ]
        },
        {
          "name": "stderr",
          "output_type": "stream",
          "text": [
            "/usr/local/lib/python3.7/dist-packages/sklearn/metrics/_classification.py:1318: UndefinedMetricWarning: Recall and F-score are ill-defined and being set to 0.0 in labels with no true samples. Use `zero_division` parameter to control this behavior.\n",
            "  _warn_prf(average, modifier, msg_start, len(result))\n",
            "/usr/local/lib/python3.7/dist-packages/sklearn/metrics/_classification.py:1318: UndefinedMetricWarning: Recall and F-score are ill-defined and being set to 0.0 in labels with no true samples. Use `zero_division` parameter to control this behavior.\n",
            "  _warn_prf(average, modifier, msg_start, len(result))\n",
            "/usr/local/lib/python3.7/dist-packages/sklearn/metrics/_classification.py:1318: UndefinedMetricWarning: Recall and F-score are ill-defined and being set to 0.0 in labels with no true samples. Use `zero_division` parameter to control this behavior.\n",
            "  _warn_prf(average, modifier, msg_start, len(result))\n"
          ]
        }
      ],
      "source": [
        "from sklearn.metrics import classification_report\n",
        "\n",
        "result_report= classification_report(true_labels, predictions, digits=3, output_dict=False)\n",
        "print(result_report)"
      ]
    },
    {
      "cell_type": "code",
      "execution_count": null,
      "metadata": {
        "id": "Va56XFGayCvG"
      },
      "outputs": [],
      "source": []
    },
    {
      "cell_type": "code",
      "execution_count": null,
      "metadata": {
        "id": "GSLMVQ6myCxn"
      },
      "outputs": [],
      "source": []
    },
    {
      "cell_type": "code",
      "execution_count": null,
      "metadata": {
        "id": "KhREp7jlyCz_"
      },
      "outputs": [],
      "source": []
    },
    {
      "cell_type": "code",
      "execution_count": null,
      "metadata": {
        "id": "wfVTC6PUyC2S"
      },
      "outputs": [],
      "source": []
    },
    {
      "cell_type": "code",
      "execution_count": null,
      "metadata": {
        "id": "D3jf7LLYyC4v"
      },
      "outputs": [],
      "source": []
    },
    {
      "cell_type": "code",
      "execution_count": null,
      "metadata": {
        "id": "YnHMVh5CyC8F"
      },
      "outputs": [],
      "source": []
    },
    {
      "cell_type": "code",
      "execution_count": null,
      "metadata": {
        "id": "F3HjyBiKJUpU"
      },
      "outputs": [],
      "source": [
        "d_predictions = predictions\n",
        "d_true_labels = true_labels\n",
        "d_logits_arr = logits_arr\n",
        "d_max_logits_arr = max_logits_arr"
      ]
    },
    {
      "cell_type": "code",
      "execution_count": null,
      "metadata": {
        "id": "eQdqyyG9AQZZ"
      },
      "outputs": [],
      "source": [
        "d_logits_arr\n",
        "d_threshold_arr=[]\n",
        "for i in range(len(d_logits_arr)):\n",
        "  if(d_logits_arr[i]>1):\n",
        "    d_threshold_arr.append(d_true_labels[i])"
      ]
    },
    {
      "cell_type": "code",
      "execution_count": null,
      "metadata": {
        "colab": {
          "base_uri": "https://localhost:8080/"
        },
        "id": "tPafsXORA5m3",
        "outputId": "50f5ab2e-6c17-4b60-df2c-65d6f1b560a0"
      },
      "outputs": [
        {
          "data": {
            "text/plain": [
              "1499"
            ]
          },
          "execution_count": 62,
          "metadata": {},
          "output_type": "execute_result"
        }
      ],
      "source": [
        "len(d_threshold_arr)"
      ]
    },
    {
      "cell_type": "code",
      "execution_count": null,
      "metadata": {
        "colab": {
          "base_uri": "https://localhost:8080/"
        },
        "id": "On5-EmBNA-8X",
        "outputId": "ddcfb86e-af7e-467f-af9e-d29b7ed55cd0"
      },
      "outputs": [
        {
          "data": {
            "text/plain": [
              "471"
            ]
          },
          "execution_count": 63,
          "metadata": {},
          "output_type": "execute_result"
        }
      ],
      "source": [
        "d_threshold_arr.count(100)"
      ]
    },
    {
      "cell_type": "code",
      "execution_count": null,
      "metadata": {
        "colab": {
          "base_uri": "https://localhost:8080/"
        },
        "id": "6Uo5Q2CMsC2_",
        "outputId": "ee3117a4-eafe-4777-abe2-fe60f09d011f"
      },
      "outputs": [
        {
          "data": {
            "text/plain": [
              "array([  0,   1,   2,   3,   4,   5,   6,   7,   8,   9,  10,  11,  12,\n",
              "        13,  14,  15,  16,  17,  18,  19,  20,  21,  22,  23,  24,  25,\n",
              "        26,  27,  28,  29,  30,  31,  32,  33,  34,  35,  36,  37,  38,\n",
              "        39,  40,  41,  42,  43,  44,  45,  46,  47,  48,  49,  50,  51,\n",
              "        52,  53,  54,  55,  56,  57,  58,  59,  60,  61,  62,  63,  64,\n",
              "        65,  66,  67,  68,  69,  70,  71,  72,  73,  74,  75,  76,  77,\n",
              "        78,  79,  80,  81,  82,  83,  84,  85,  86,  87,  88,  89,  90,\n",
              "        91,  92,  93,  94,  95,  96,  97,  98,  99, 100])"
            ]
          },
          "execution_count": 55,
          "metadata": {},
          "output_type": "execute_result"
        }
      ],
      "source": [
        "np.unique(d_predictions)"
      ]
    },
    {
      "cell_type": "code",
      "execution_count": null,
      "metadata": {
        "colab": {
          "base_uri": "https://localhost:8080/"
        },
        "id": "04Gb-rS0sFPa",
        "outputId": "b648837f-614b-4a41-dd0b-cd4982149885"
      },
      "outputs": [
        {
          "data": {
            "text/plain": [
              "array([  0,   1,   2,   3,   4,   5,   6,   7,   8,   9,  10,  11,  12,\n",
              "        13,  14,  15,  16,  17,  18,  19,  20,  21,  22,  23,  24,  25,\n",
              "        26,  27,  28,  29,  30,  31,  32,  33,  34,  35,  36,  37,  38,\n",
              "        39,  40,  41,  42,  43,  44,  45,  46,  47,  48,  49,  50,  51,\n",
              "        52,  53,  54,  55,  56,  57,  58,  59,  60,  61,  62,  63,  64,\n",
              "        65,  66,  67,  68,  69,  70,  71,  72,  73,  74,  75,  76,  77,\n",
              "        78,  79,  80,  81,  82,  83,  84,  85,  86,  87,  88,  89,  90,\n",
              "        91,  92,  93,  94,  95,  96,  97,  98,  99, 100])"
            ]
          },
          "execution_count": 56,
          "metadata": {},
          "output_type": "execute_result"
        }
      ],
      "source": [
        "np.unique(d_true_labels)"
      ]
    },
    {
      "cell_type": "code",
      "execution_count": null,
      "metadata": {
        "colab": {
          "base_uri": "https://localhost:8080/"
        },
        "id": "RhOn8LZsDN_C",
        "outputId": "dacd8a20-f341-4a24-8827-b3ac2fc11f30"
      },
      "outputs": [
        {
          "data": {
            "text/plain": [
              "20000"
            ]
          },
          "execution_count": 57,
          "metadata": {},
          "output_type": "execute_result"
        }
      ],
      "source": [
        "len(d_logits_arr)"
      ]
    },
    {
      "cell_type": "code",
      "execution_count": null,
      "metadata": {
        "colab": {
          "base_uri": "https://localhost:8080/"
        },
        "id": "ISe3fy7CAden",
        "outputId": "07c40581-cae6-4894-bee4-36b4c283008e"
      },
      "outputs": [
        {
          "data": {
            "text/plain": [
              "20000"
            ]
          },
          "execution_count": 57,
          "metadata": {},
          "output_type": "execute_result"
        }
      ],
      "source": [
        "len(d_predictions)"
      ]
    },
    {
      "cell_type": "code",
      "execution_count": null,
      "metadata": {
        "colab": {
          "base_uri": "https://localhost:8080/"
        },
        "id": "kubLwA5dDipj",
        "outputId": "2f0d832a-ea49-4437-f2ec-09964f4cbcd2"
      },
      "outputs": [
        {
          "data": {
            "text/plain": [
              "9327"
            ]
          },
          "execution_count": 52,
          "metadata": {},
          "output_type": "execute_result"
        }
      ],
      "source": [
        "d_predictions.count(100)"
      ]
    },
    {
      "cell_type": "code",
      "execution_count": null,
      "metadata": {
        "colab": {
          "base_uri": "https://localhost:8080/"
        },
        "id": "ZPcWkb1s_DmG",
        "outputId": "40c4a076-03ce-42cc-f23d-71e0bac612b9"
      },
      "outputs": [
        {
          "data": {
            "text/plain": [
              "True"
            ]
          },
          "execution_count": 59,
          "metadata": {},
          "output_type": "execute_result"
        }
      ],
      "source": [
        "d_true_labels == labels_list_0"
      ]
    },
    {
      "cell_type": "code",
      "execution_count": null,
      "metadata": {
        "colab": {
          "base_uri": "https://localhost:8080/"
        },
        "id": "RjJqO75QDkd1",
        "outputId": "e2371ac3-f655-4476-b23d-ccac443ea004"
      },
      "outputs": [
        {
          "data": {
            "text/plain": [
              "0.9327"
            ]
          },
          "execution_count": 53,
          "metadata": {},
          "output_type": "execute_result"
        }
      ],
      "source": [
        "d_predictions.count(100)/10000"
      ]
    },
    {
      "cell_type": "code",
      "execution_count": null,
      "metadata": {
        "colab": {
          "base_uri": "https://localhost:8080/"
        },
        "id": "3k95Dcn9hCT0",
        "outputId": "86d13ae2-f65b-4113-a510-417b40432871"
      },
      "outputs": [
        {
          "name": "stdout",
          "output_type": "stream",
          "text": [
            "              precision    recall  f1-score   support\n",
            "\n",
            "           0      0.607     0.680     0.642       100\n",
            "           1      0.821     0.870     0.845       100\n",
            "           2      0.532     0.830     0.648       100\n",
            "           3      0.904     0.940     0.922       100\n",
            "           4      0.221     0.300     0.254       100\n",
            "           5      0.722     0.570     0.637       100\n",
            "           6      0.611     0.330     0.429       100\n",
            "           7      0.853     0.930     0.890       100\n",
            "           8      0.729     0.940     0.821       100\n",
            "           9      0.663     0.690     0.676       100\n",
            "          10      0.887     0.940     0.913       100\n",
            "          11      0.615     0.750     0.676       100\n",
            "          12      0.687     0.920     0.786       100\n",
            "          13      0.830     0.780     0.804       100\n",
            "          14      0.519     0.560     0.538       100\n",
            "          15      0.908     0.790     0.845       100\n",
            "          16      0.895     0.850     0.872       100\n",
            "          17      0.868     0.790     0.827       100\n",
            "          18      0.722     0.780     0.750       100\n",
            "          19      0.712     0.470     0.566       100\n",
            "          20      0.926     0.870     0.897       100\n",
            "          21      0.573     0.670     0.618       100\n",
            "          22      0.684     0.390     0.497       100\n",
            "          23      0.500     0.360     0.419       100\n",
            "          24      0.445     0.530     0.484       100\n",
            "          25      0.706     0.840     0.767       100\n",
            "          26      0.814     0.920     0.864       100\n",
            "          27      0.443     0.540     0.486       100\n",
            "          28      0.533     0.730     0.616       100\n",
            "          29      0.784     0.870     0.825       100\n",
            "          30      0.776     0.660     0.714       100\n",
            "          31      0.708     0.680     0.694       100\n",
            "          32      0.358     0.780     0.491       100\n",
            "          33      0.426     0.400     0.412       100\n",
            "          34      0.702     0.590     0.641       100\n",
            "          35      0.875     0.280     0.424       100\n",
            "          36      0.765     0.520     0.619       100\n",
            "          37      0.796     0.780     0.788       100\n",
            "          38      0.929     0.790     0.854       100\n",
            "          39      0.452     0.800     0.578       100\n",
            "          40      0.545     0.540     0.543       100\n",
            "          41      0.629     0.950     0.757       100\n",
            "          42      0.894     0.590     0.711       100\n",
            "          43      0.452     0.560     0.500       100\n",
            "          44      0.548     0.510     0.528       100\n",
            "          45      0.934     0.710     0.807       100\n",
            "          46      0.884     0.990     0.934       100\n",
            "          47      0.566     0.860     0.683       100\n",
            "          48      0.846     0.770     0.806       100\n",
            "          49      0.882     0.900     0.891       100\n",
            "          50      0.287     0.640     0.396       100\n",
            "          51      0.904     0.660     0.763       100\n",
            "          52      0.547     0.520     0.533       100\n",
            "          53      0.510     0.530     0.520       100\n",
            "          54      0.840     0.630     0.720       100\n",
            "          55      0.409     0.740     0.527       100\n",
            "          56      0.860     0.920     0.889       100\n",
            "          57      0.692     0.720     0.706       100\n",
            "          58      0.784     0.760     0.772       100\n",
            "          59      0.647     0.880     0.746       100\n",
            "          60      0.695     0.730     0.712       100\n",
            "          61      0.462     0.300     0.364       100\n",
            "          62      0.494     0.770     0.602       100\n",
            "          63      0.879     0.800     0.838       100\n",
            "          64      0.838     0.830     0.834       100\n",
            "          65      0.875     0.770     0.819       100\n",
            "          66      0.947     0.720     0.818       100\n",
            "          67      0.798     0.710     0.751       100\n",
            "          68      0.540     0.270     0.360       100\n",
            "          69      0.707     0.650     0.677       100\n",
            "          70      0.581     0.610     0.595       100\n",
            "          71      0.577     0.560     0.569       100\n",
            "          72      0.847     1.000     0.917       100\n",
            "          73      0.431     0.530     0.475       100\n",
            "          74      0.662     0.920     0.770       100\n",
            "          75      0.975     0.390     0.557       100\n",
            "          76      0.922     0.940     0.931       100\n",
            "          77      0.750     0.600     0.667       100\n",
            "          78      0.667     0.520     0.584       100\n",
            "          79      1.000     0.970     0.985       100\n",
            "          80      1.000     1.000     1.000       100\n",
            "          81      0.400     0.860     0.546       100\n",
            "          82      0.602     0.680     0.638       100\n",
            "          83      0.873     0.960     0.914       100\n",
            "          84      0.819     0.680     0.743       100\n",
            "          85      0.529     0.830     0.646       100\n",
            "          86      0.359     0.970     0.524       100\n",
            "          87      0.564     0.440     0.494       100\n",
            "          88      0.563     0.670     0.612       100\n",
            "          89      0.517     0.620     0.564       100\n",
            "          90      0.509     0.570     0.538       100\n",
            "          91      0.818     0.450     0.581       100\n",
            "          92      0.842     0.960     0.897       100\n",
            "          93      0.928     0.770     0.842       100\n",
            "          94      0.522     0.720     0.605       100\n",
            "          95      0.983     0.570     0.722       100\n",
            "          96      0.641     0.930     0.759       100\n",
            "          97      0.660     0.350     0.458       100\n",
            "          98      0.767     0.690     0.726       100\n",
            "          99      0.748     0.830     0.787       100\n",
            "         100      0.741     0.691     0.715     10000\n",
            "\n",
            "    accuracy                          0.697     20000\n",
            "   macro avg      0.695     0.702     0.682     20000\n",
            "weighted avg      0.718     0.697     0.699     20000\n",
            "\n"
          ]
        }
      ],
      "source": [
        "#all classes\n",
        "from sklearn.metrics import classification_report\n",
        "\n",
        "result_report= classification_report(true_labels, predictions, digits=3, output_dict=False)\n",
        "print(result_report)"
      ]
    },
    {
      "cell_type": "code",
      "execution_count": null,
      "metadata": {
        "colab": {
          "base_uri": "https://localhost:8080/"
        },
        "id": "FCeZuz9vAdhB",
        "outputId": "e06801ad-98d0-4b37-de62-6a44cace33f9"
      },
      "outputs": [
        {
          "name": "stdout",
          "output_type": "stream",
          "text": [
            "              precision    recall  f1-score   support\n",
            "\n",
            "           0      0.507     0.730     0.598       100\n",
            "           1      0.744     0.930     0.827       100\n",
            "           2      0.483     0.830     0.610       100\n",
            "           3      0.839     0.940     0.887       100\n",
            "           4      0.193     0.340     0.246       100\n",
            "           5      0.637     0.580     0.607       100\n",
            "           6      0.576     0.340     0.428       100\n",
            "           7      0.785     0.950     0.860       100\n",
            "           8      0.655     0.950     0.776       100\n",
            "           9      0.592     0.740     0.658       100\n",
            "          10      0.895     0.940     0.917       100\n",
            "          11      0.588     0.770     0.667       100\n",
            "          12      0.625     0.950     0.754       100\n",
            "          13      0.767     0.890     0.824       100\n",
            "          14      0.522     0.590     0.554       100\n",
            "          15      0.890     0.890     0.890       100\n",
            "          16      0.923     0.840     0.880       100\n",
            "          17      0.779     0.880     0.826       100\n",
            "          18      0.664     0.770     0.713       100\n",
            "          19      0.569     0.410     0.477       100\n",
            "          20      0.956     0.870     0.911       100\n",
            "          21      0.507     0.720     0.595       100\n",
            "          22      0.485     0.320     0.386       100\n",
            "          23      0.439     0.430     0.434       100\n",
            "          24      0.377     0.610     0.466       100\n",
            "          25      0.632     0.840     0.721       100\n",
            "          26      0.845     0.870     0.857       100\n",
            "          27      0.371     0.520     0.433       100\n",
            "          28      0.423     0.800     0.554       100\n",
            "          29      0.832     0.890     0.860       100\n",
            "          30      0.756     0.680     0.716       100\n",
            "          31      0.619     0.780     0.690       100\n",
            "          32      0.305     0.760     0.436       100\n",
            "          33      0.330     0.380     0.353       100\n",
            "          34      0.638     0.600     0.619       100\n",
            "          35      0.714     0.300     0.423       100\n",
            "          36      0.742     0.490     0.590       100\n",
            "          37      0.702     0.850     0.769       100\n",
            "          38      0.856     0.770     0.811       100\n",
            "          39      0.403     0.870     0.551       100\n",
            "          40      0.487     0.550     0.516       100\n",
            "          41      0.543     0.940     0.689       100\n",
            "          42      0.838     0.570     0.679       100\n",
            "          43      0.419     0.520     0.464       100\n",
            "          44      0.496     0.630     0.555       100\n",
            "          45      0.905     0.570     0.699       100\n",
            "          46      0.876     0.990     0.930       100\n",
            "          47      0.575     0.840     0.683       100\n",
            "          48      0.699     0.790     0.742       100\n",
            "          49      0.849     0.900     0.874       100\n",
            "          50      0.246     0.670     0.360       100\n",
            "          51      0.800     0.720     0.758       100\n",
            "          52      0.533     0.650     0.586       100\n",
            "          53      0.409     0.520     0.458       100\n",
            "          54      0.855     0.650     0.739       100\n",
            "          55      0.367     0.770     0.497       100\n",
            "          56      0.785     0.950     0.860       100\n",
            "          57      0.606     0.770     0.678       100\n",
            "          58      0.661     0.840     0.740       100\n",
            "          59      0.567     0.890     0.693       100\n",
            "          60      0.676     0.730     0.702       100\n",
            "          61      0.451     0.410     0.429       100\n",
            "          62      0.513     0.780     0.619       100\n",
            "          63      0.873     0.690     0.771       100\n",
            "          64      0.901     0.820     0.859       100\n",
            "          65      0.738     0.760     0.749       100\n",
            "          66      0.962     0.750     0.843       100\n",
            "          67      0.647     0.770     0.703       100\n",
            "          68      0.508     0.330     0.400       100\n",
            "          69      0.593     0.670     0.629       100\n",
            "          70      0.565     0.650     0.605       100\n",
            "          71      0.436     0.610     0.508       100\n",
            "          72      0.775     1.000     0.873       100\n",
            "          73      0.330     0.580     0.420       100\n",
            "          74      0.662     0.920     0.770       100\n",
            "          75      0.976     0.410     0.577       100\n",
            "          76      0.931     0.950     0.941       100\n",
            "          77      0.707     0.700     0.704       100\n",
            "          78      0.617     0.580     0.598       100\n",
            "          79      0.990     0.970     0.980       100\n",
            "          80      0.833     1.000     0.909       100\n",
            "          81      0.436     0.850     0.576       100\n",
            "          82      0.514     0.720     0.600       100\n",
            "          83      0.810     0.980     0.887       100\n",
            "          84      0.821     0.780     0.800       100\n",
            "          85      0.473     0.880     0.615       100\n",
            "          86      0.320     0.950     0.479       100\n",
            "          87      0.463     0.380     0.418       100\n",
            "          88      0.475     0.770     0.588       100\n",
            "          89      0.492     0.600     0.541       100\n",
            "          90      0.405     0.640     0.496       100\n",
            "          91      0.806     0.500     0.617       100\n",
            "          92      0.713     0.970     0.822       100\n",
            "          93      0.928     0.770     0.842       100\n",
            "          94      0.580     0.760     0.658       100\n",
            "          95      0.983     0.570     0.722       100\n",
            "          96      0.574     0.930     0.710       100\n",
            "          97      0.460     0.290     0.356       100\n",
            "          98      0.688     0.660     0.673       100\n",
            "          99      0.824     0.890     0.856       100\n",
            "         100      0.743     0.587     0.655     10000\n",
            "\n",
            "    accuracy                          0.655     20000\n",
            "   macro avg      0.642     0.722     0.662     20000\n",
            "weighted avg      0.692     0.655     0.659     20000\n",
            "\n"
          ]
        }
      ],
      "source": [
        "#all classes\n",
        "from sklearn.metrics import classification_report\n",
        "\n",
        "result_report= classification_report(true_labels, predictions, digits=3, output_dict=False)\n",
        "print(result_report)"
      ]
    },
    {
      "cell_type": "code",
      "execution_count": null,
      "metadata": {
        "id": "CIWN9I0xEqa8"
      },
      "outputs": [],
      "source": [
        "d_closed_logits=[]\n",
        "d_open_logits=[]\n",
        "d_max_closed_logits=[]\n",
        "d_max_open_logits=[]\n",
        "d_predictions_open=[]\n",
        "d_predictions_closed=[]\n",
        "for i in range(20000):\n",
        "  if(true_labels[i]==100):\n",
        "    d_open_logits.append(logits_arr[i])\n",
        "    d_max_open_logits.append(d_max_logits_arr[i])\n",
        "    d_predictions_open.append(d_predictions[i])\n",
        "  else:\n",
        "    d_closed_logits.append(logits_arr[i])\n",
        "    d_max_closed_logits.append(d_max_logits_arr[i])\n",
        "    d_predictions_closed.append(d_predictions[i])"
      ]
    },
    {
      "cell_type": "code",
      "execution_count": null,
      "metadata": {
        "colab": {
          "base_uri": "https://localhost:8080/"
        },
        "id": "syeclbw8SpH3",
        "outputId": "31dbfd84-25cc-43d1-f631-1fd193b9d9e0"
      },
      "outputs": [
        {
          "name": "stdout",
          "output_type": "stream",
          "text": [
            "100\n",
            "10.72829532623291\n",
            "10.966748237609863\n"
          ]
        }
      ],
      "source": [
        "print(d_predictions_closed[800])\n",
        "print(d_max_closed_logits[800])\n",
        "print(d_closed_logits[800])"
      ]
    },
    {
      "cell_type": "code",
      "execution_count": null,
      "metadata": {
        "colab": {
          "base_uri": "https://localhost:8080/"
        },
        "id": "XUFYeKmHdd2C",
        "outputId": "91793a8d-a016-4c4c-c4b9-9958d716af24"
      },
      "outputs": [
        {
          "data": {
            "text/plain": [
              "5865"
            ]
          },
          "execution_count": 79,
          "metadata": {},
          "output_type": "execute_result"
        }
      ],
      "source": [
        "d_predictions_open.count(100)"
      ]
    },
    {
      "cell_type": "code",
      "execution_count": null,
      "metadata": {
        "colab": {
          "base_uri": "https://localhost:8080/"
        },
        "id": "ZACs_-OKR_JC",
        "outputId": "7a038837-8cea-4d6a-a843-47c5da4ec750"
      },
      "outputs": [
        {
          "data": {
            "text/plain": [
              "44"
            ]
          },
          "execution_count": 49,
          "metadata": {},
          "output_type": "execute_result"
        }
      ],
      "source": [
        "true_labels[0]"
      ]
    },
    {
      "cell_type": "code",
      "execution_count": null,
      "metadata": {
        "colab": {
          "base_uri": "https://localhost:8080/"
        },
        "id": "OfqmD5nSFRHK",
        "outputId": "def23b88-f832-4e46-81ea-963682e174a1"
      },
      "outputs": [
        {
          "data": {
            "text/plain": [
              "-0.4986603997487575"
            ]
          },
          "execution_count": 50,
          "metadata": {},
          "output_type": "execute_result"
        }
      ],
      "source": [
        "sum(d_closed_logits)/10000"
      ]
    },
    {
      "cell_type": "code",
      "execution_count": null,
      "metadata": {
        "colab": {
          "base_uri": "https://localhost:8080/"
        },
        "id": "xhFcF_J8FkgU",
        "outputId": "0d171e90-6e08-4d61-8744-5b59c7ad6d4b"
      },
      "outputs": [
        {
          "data": {
            "text/plain": [
              "-0.6508012606155127"
            ]
          },
          "execution_count": 51,
          "metadata": {},
          "output_type": "execute_result"
        }
      ],
      "source": [
        "sum(d_open_logits)/10000"
      ]
    },
    {
      "cell_type": "code",
      "execution_count": null,
      "metadata": {
        "colab": {
          "base_uri": "https://localhost:8080/"
        },
        "id": "Peg9XRf4LKJ3",
        "outputId": "396307d6-ae8b-4797-ae3a-68f525e2649b"
      },
      "outputs": [
        {
          "data": {
            "text/plain": [
              "9.227002764344215"
            ]
          },
          "execution_count": 52,
          "metadata": {},
          "output_type": "execute_result"
        }
      ],
      "source": [
        "sum(d_max_closed_logits)/10000"
      ]
    },
    {
      "cell_type": "code",
      "execution_count": null,
      "metadata": {
        "colab": {
          "base_uri": "https://localhost:8080/"
        },
        "id": "q9qeEfQdLTrm",
        "outputId": "ba53b345-d173-4d87-9864-179029f056fd"
      },
      "outputs": [
        {
          "data": {
            "text/plain": [
              "7.152337114357948"
            ]
          },
          "execution_count": 53,
          "metadata": {},
          "output_type": "execute_result"
        }
      ],
      "source": [
        "sum(d_max_open_logits)/10000"
      ]
    },
    {
      "cell_type": "code",
      "execution_count": null,
      "metadata": {
        "id": "SvgsP1BYQvKn"
      },
      "outputs": [],
      "source": [
        "d_open_logits[0]"
      ]
    },
    {
      "cell_type": "code",
      "execution_count": null,
      "metadata": {
        "id": "eK6kQe6YQyW7"
      },
      "outputs": [],
      "source": [
        "d_max_open_logits[0]"
      ]
    },
    {
      "cell_type": "code",
      "execution_count": null,
      "metadata": {
        "id": "_XmMqhpLL77b"
      },
      "outputs": [],
      "source": [
        "diff_open=[]\n",
        "for i in range(10000):\n",
        "  diff_open.append(d_max_open_logits[i]-d_open_logits[i])\n",
        "diff_closed=[]\n",
        "for i in range(10000):\n",
        "  diff_closed.append(d_max_closed_logits[i]-d_closed_logits[i])"
      ]
    },
    {
      "cell_type": "code",
      "execution_count": null,
      "metadata": {
        "colab": {
          "base_uri": "https://localhost:8080/"
        },
        "id": "eYbEiRg7MPnZ",
        "outputId": "810d6e96-8384-4395-8629-5e1dda186eab"
      },
      "outputs": [
        {
          "data": {
            "text/plain": [
              "78031.38374973461"
            ]
          },
          "execution_count": 55,
          "metadata": {},
          "output_type": "execute_result"
        }
      ],
      "source": [
        "sum(diff_open)"
      ]
    },
    {
      "cell_type": "code",
      "execution_count": null,
      "metadata": {
        "colab": {
          "base_uri": "https://localhost:8080/"
        },
        "id": "4gqg-VvNMTG2",
        "outputId": "fa5a4611-2586-4849-d894-005d818a01ef"
      },
      "outputs": [
        {
          "data": {
            "text/plain": [
              "97256.63164092973"
            ]
          },
          "execution_count": 56,
          "metadata": {},
          "output_type": "execute_result"
        }
      ],
      "source": [
        "sum(diff_closed)"
      ]
    },
    {
      "cell_type": "code",
      "execution_count": null,
      "metadata": {
        "id": "xKbdEs7FGbOg"
      },
      "outputs": [],
      "source": [
        "closed_logits.sort()\n"
      ]
    },
    {
      "cell_type": "code",
      "execution_count": null,
      "metadata": {
        "id": "nfvsQdVnG06u"
      },
      "outputs": [],
      "source": [
        "len(closed_logits)"
      ]
    },
    {
      "cell_type": "code",
      "execution_count": null,
      "metadata": {
        "id": "E87kj0fTGqj1"
      },
      "outputs": [],
      "source": [
        "closed_logits[7500]"
      ]
    },
    {
      "cell_type": "code",
      "execution_count": null,
      "metadata": {
        "id": "1ZrE1dC1FVRM"
      },
      "outputs": [],
      "source": [
        "open_logits.sort()"
      ]
    },
    {
      "cell_type": "code",
      "execution_count": null,
      "metadata": {
        "id": "Vf26bM7fG_MH"
      },
      "outputs": [],
      "source": [
        "open_logits[7500]"
      ]
    },
    {
      "cell_type": "code",
      "execution_count": null,
      "metadata": {
        "id": "F2RVrY9bEqiz"
      },
      "outputs": [],
      "source": [
        "df2 = pd.read_csv(\"/content/drive/MyDrive/ASU/ood_test_data_small.csv\")"
      ]
    },
    {
      "cell_type": "code",
      "execution_count": null,
      "metadata": {
        "id": "BW69RUlREqlW"
      },
      "outputs": [],
      "source": [
        "df2[\"N_plus_one_prediction\"] = predictions"
      ]
    },
    {
      "cell_type": "code",
      "execution_count": null,
      "metadata": {
        "colab": {
          "base_uri": "https://localhost:8080/",
          "height": 363
        },
        "id": "2fBN-gGAEqns",
        "outputId": "c073f5a8-3122-47f6-a6e4-db953b7be7bd"
      },
      "outputs": [
        {
          "data": {
            "text/html": [
              "\n",
              "  <div id=\"df-40384ec9-9279-47e7-af25-e634df9ebd49\">\n",
              "    <div class=\"colab-df-container\">\n",
              "      <div>\n",
              "<style scoped>\n",
              "    .dataframe tbody tr th:only-of-type {\n",
              "        vertical-align: middle;\n",
              "    }\n",
              "\n",
              "    .dataframe tbody tr th {\n",
              "        vertical-align: top;\n",
              "    }\n",
              "\n",
              "    .dataframe thead th {\n",
              "        text-align: right;\n",
              "    }\n",
              "</style>\n",
              "<table border=\"1\" class=\"dataframe\">\n",
              "  <thead>\n",
              "    <tr style=\"text-align: right;\">\n",
              "      <th></th>\n",
              "      <th>author</th>\n",
              "      <th>real_label</th>\n",
              "      <th>label</th>\n",
              "      <th>review</th>\n",
              "      <th>product_domain</th>\n",
              "      <th>overall</th>\n",
              "      <th>#words</th>\n",
              "      <th>N_plus_one_prediction</th>\n",
              "    </tr>\n",
              "  </thead>\n",
              "  <tbody>\n",
              "    <tr>\n",
              "      <th>0</th>\n",
              "      <td>A11OTLEDSW8ZXD</td>\n",
              "      <td>44</td>\n",
              "      <td>44</td>\n",
              "      <td>I bought this battery charger a year ago, when...</td>\n",
              "      <td>automotive.json.gz</td>\n",
              "      <td>5.0</td>\n",
              "      <td>330</td>\n",
              "      <td>100</td>\n",
              "    </tr>\n",
              "    <tr>\n",
              "      <th>1</th>\n",
              "      <td>A11OTLEDSW8ZXD</td>\n",
              "      <td>44</td>\n",
              "      <td>44</td>\n",
              "      <td>I bought this because with four geriatric vehi...</td>\n",
              "      <td>automotive.json.gz</td>\n",
              "      <td>5.0</td>\n",
              "      <td>170</td>\n",
              "      <td>44</td>\n",
              "    </tr>\n",
              "    <tr>\n",
              "      <th>2</th>\n",
              "      <td>A11OTLEDSW8ZXD</td>\n",
              "      <td>44</td>\n",
              "      <td>44</td>\n",
              "      <td>I was a tad skeptical of the outcome after see...</td>\n",
              "      <td>automotive.json.gz</td>\n",
              "      <td>4.0</td>\n",
              "      <td>315</td>\n",
              "      <td>44</td>\n",
              "    </tr>\n",
              "    <tr>\n",
              "      <th>3</th>\n",
              "      <td>A11OTLEDSW8ZXD</td>\n",
              "      <td>44</td>\n",
              "      <td>44</td>\n",
              "      <td>I insist on every one of my vehicles to have a...</td>\n",
              "      <td>automotive.json.gz</td>\n",
              "      <td>5.0</td>\n",
              "      <td>167</td>\n",
              "      <td>44</td>\n",
              "    </tr>\n",
              "    <tr>\n",
              "      <th>4</th>\n",
              "      <td>A11OTLEDSW8ZXD</td>\n",
              "      <td>44</td>\n",
              "      <td>44</td>\n",
              "      <td>This is a very well-made top grain cow leather...</td>\n",
              "      <td>automotive.json.gz</td>\n",
              "      <td>5.0</td>\n",
              "      <td>191</td>\n",
              "      <td>44</td>\n",
              "    </tr>\n",
              "    <tr>\n",
              "      <th>5</th>\n",
              "      <td>A11OTLEDSW8ZXD</td>\n",
              "      <td>44</td>\n",
              "      <td>44</td>\n",
              "      <td>At first I was pleased to get this roller shad...</td>\n",
              "      <td>automotive.json.gz</td>\n",
              "      <td>4.0</td>\n",
              "      <td>137</td>\n",
              "      <td>90</td>\n",
              "    </tr>\n",
              "    <tr>\n",
              "      <th>6</th>\n",
              "      <td>A11OTLEDSW8ZXD</td>\n",
              "      <td>44</td>\n",
              "      <td>44</td>\n",
              "      <td>This strap appears well-made, with inch-thick ...</td>\n",
              "      <td>automotive.json.gz</td>\n",
              "      <td>4.0</td>\n",
              "      <td>84</td>\n",
              "      <td>44</td>\n",
              "    </tr>\n",
              "    <tr>\n",
              "      <th>7</th>\n",
              "      <td>A11OTLEDSW8ZXD</td>\n",
              "      <td>44</td>\n",
              "      <td>44</td>\n",
              "      <td>For a quick, overall shine on chrome and plast...</td>\n",
              "      <td>automotive.json.gz</td>\n",
              "      <td>4.0</td>\n",
              "      <td>110</td>\n",
              "      <td>44</td>\n",
              "    </tr>\n",
              "    <tr>\n",
              "      <th>8</th>\n",
              "      <td>A11OTLEDSW8ZXD</td>\n",
              "      <td>44</td>\n",
              "      <td>44</td>\n",
              "      <td>This balaclava comes in a small, bubble-wrap p...</td>\n",
              "      <td>automotive.json.gz</td>\n",
              "      <td>5.0</td>\n",
              "      <td>161</td>\n",
              "      <td>44</td>\n",
              "    </tr>\n",
              "    <tr>\n",
              "      <th>9</th>\n",
              "      <td>A11OTLEDSW8ZXD</td>\n",
              "      <td>44</td>\n",
              "      <td>44</td>\n",
              "      <td>This is an impressive car jump battery pack wi...</td>\n",
              "      <td>automotive.json.gz</td>\n",
              "      <td>5.0</td>\n",
              "      <td>317</td>\n",
              "      <td>44</td>\n",
              "    </tr>\n",
              "  </tbody>\n",
              "</table>\n",
              "</div>\n",
              "      <button class=\"colab-df-convert\" onclick=\"convertToInteractive('df-40384ec9-9279-47e7-af25-e634df9ebd49')\"\n",
              "              title=\"Convert this dataframe to an interactive table.\"\n",
              "              style=\"display:none;\">\n",
              "        \n",
              "  <svg xmlns=\"http://www.w3.org/2000/svg\" height=\"24px\"viewBox=\"0 0 24 24\"\n",
              "       width=\"24px\">\n",
              "    <path d=\"M0 0h24v24H0V0z\" fill=\"none\"/>\n",
              "    <path d=\"M18.56 5.44l.94 2.06.94-2.06 2.06-.94-2.06-.94-.94-2.06-.94 2.06-2.06.94zm-11 1L8.5 8.5l.94-2.06 2.06-.94-2.06-.94L8.5 2.5l-.94 2.06-2.06.94zm10 10l.94 2.06.94-2.06 2.06-.94-2.06-.94-.94-2.06-.94 2.06-2.06.94z\"/><path d=\"M17.41 7.96l-1.37-1.37c-.4-.4-.92-.59-1.43-.59-.52 0-1.04.2-1.43.59L10.3 9.45l-7.72 7.72c-.78.78-.78 2.05 0 2.83L4 21.41c.39.39.9.59 1.41.59.51 0 1.02-.2 1.41-.59l7.78-7.78 2.81-2.81c.8-.78.8-2.07 0-2.86zM5.41 20L4 18.59l7.72-7.72 1.47 1.35L5.41 20z\"/>\n",
              "  </svg>\n",
              "      </button>\n",
              "      \n",
              "  <style>\n",
              "    .colab-df-container {\n",
              "      display:flex;\n",
              "      flex-wrap:wrap;\n",
              "      gap: 12px;\n",
              "    }\n",
              "\n",
              "    .colab-df-convert {\n",
              "      background-color: #E8F0FE;\n",
              "      border: none;\n",
              "      border-radius: 50%;\n",
              "      cursor: pointer;\n",
              "      display: none;\n",
              "      fill: #1967D2;\n",
              "      height: 32px;\n",
              "      padding: 0 0 0 0;\n",
              "      width: 32px;\n",
              "    }\n",
              "\n",
              "    .colab-df-convert:hover {\n",
              "      background-color: #E2EBFA;\n",
              "      box-shadow: 0px 1px 2px rgba(60, 64, 67, 0.3), 0px 1px 3px 1px rgba(60, 64, 67, 0.15);\n",
              "      fill: #174EA6;\n",
              "    }\n",
              "\n",
              "    [theme=dark] .colab-df-convert {\n",
              "      background-color: #3B4455;\n",
              "      fill: #D2E3FC;\n",
              "    }\n",
              "\n",
              "    [theme=dark] .colab-df-convert:hover {\n",
              "      background-color: #434B5C;\n",
              "      box-shadow: 0px 1px 3px 1px rgba(0, 0, 0, 0.15);\n",
              "      filter: drop-shadow(0px 1px 2px rgba(0, 0, 0, 0.3));\n",
              "      fill: #FFFFFF;\n",
              "    }\n",
              "  </style>\n",
              "\n",
              "      <script>\n",
              "        const buttonEl =\n",
              "          document.querySelector('#df-40384ec9-9279-47e7-af25-e634df9ebd49 button.colab-df-convert');\n",
              "        buttonEl.style.display =\n",
              "          google.colab.kernel.accessAllowed ? 'block' : 'none';\n",
              "\n",
              "        async function convertToInteractive(key) {\n",
              "          const element = document.querySelector('#df-40384ec9-9279-47e7-af25-e634df9ebd49');\n",
              "          const dataTable =\n",
              "            await google.colab.kernel.invokeFunction('convertToInteractive',\n",
              "                                                     [key], {});\n",
              "          if (!dataTable) return;\n",
              "\n",
              "          const docLinkHtml = 'Like what you see? Visit the ' +\n",
              "            '<a target=\"_blank\" href=https://colab.research.google.com/notebooks/data_table.ipynb>data table notebook</a>'\n",
              "            + ' to learn more about interactive tables.';\n",
              "          element.innerHTML = '';\n",
              "          dataTable['output_type'] = 'display_data';\n",
              "          await google.colab.output.renderOutput(dataTable, element);\n",
              "          const docLink = document.createElement('div');\n",
              "          docLink.innerHTML = docLinkHtml;\n",
              "          element.appendChild(docLink);\n",
              "        }\n",
              "      </script>\n",
              "    </div>\n",
              "  </div>\n",
              "  "
            ],
            "text/plain": [
              "           author  real_label  label  \\\n",
              "0  A11OTLEDSW8ZXD          44     44   \n",
              "1  A11OTLEDSW8ZXD          44     44   \n",
              "2  A11OTLEDSW8ZXD          44     44   \n",
              "3  A11OTLEDSW8ZXD          44     44   \n",
              "4  A11OTLEDSW8ZXD          44     44   \n",
              "5  A11OTLEDSW8ZXD          44     44   \n",
              "6  A11OTLEDSW8ZXD          44     44   \n",
              "7  A11OTLEDSW8ZXD          44     44   \n",
              "8  A11OTLEDSW8ZXD          44     44   \n",
              "9  A11OTLEDSW8ZXD          44     44   \n",
              "\n",
              "                                              review      product_domain  \\\n",
              "0  I bought this battery charger a year ago, when...  automotive.json.gz   \n",
              "1  I bought this because with four geriatric vehi...  automotive.json.gz   \n",
              "2  I was a tad skeptical of the outcome after see...  automotive.json.gz   \n",
              "3  I insist on every one of my vehicles to have a...  automotive.json.gz   \n",
              "4  This is a very well-made top grain cow leather...  automotive.json.gz   \n",
              "5  At first I was pleased to get this roller shad...  automotive.json.gz   \n",
              "6  This strap appears well-made, with inch-thick ...  automotive.json.gz   \n",
              "7  For a quick, overall shine on chrome and plast...  automotive.json.gz   \n",
              "8  This balaclava comes in a small, bubble-wrap p...  automotive.json.gz   \n",
              "9  This is an impressive car jump battery pack wi...  automotive.json.gz   \n",
              "\n",
              "   overall  #words  N_plus_one_prediction  \n",
              "0      5.0     330                    100  \n",
              "1      5.0     170                     44  \n",
              "2      4.0     315                     44  \n",
              "3      5.0     167                     44  \n",
              "4      5.0     191                     44  \n",
              "5      4.0     137                     90  \n",
              "6      4.0      84                     44  \n",
              "7      4.0     110                     44  \n",
              "8      5.0     161                     44  \n",
              "9      5.0     317                     44  "
            ]
          },
          "execution_count": 57,
          "metadata": {},
          "output_type": "execute_result"
        }
      ],
      "source": [
        "df2.head(10)"
      ]
    },
    {
      "cell_type": "code",
      "execution_count": null,
      "metadata": {
        "id": "wBKF73DMDBRe"
      },
      "outputs": [],
      "source": [
        "df2['N_plus_one_prediction'] = df2['N_plus_one_prediction'].replace([100], 'OOD')"
      ]
    },
    {
      "cell_type": "code",
      "execution_count": null,
      "metadata": {
        "colab": {
          "base_uri": "https://localhost:8080/",
          "height": 363
        },
        "id": "jJouIT3XDBT_",
        "outputId": "201627d6-7db9-460b-c528-0b0a87cd33bd"
      },
      "outputs": [
        {
          "data": {
            "text/html": [
              "\n",
              "  <div id=\"df-99ca19e0-8289-4132-b956-d29916e2c3d6\">\n",
              "    <div class=\"colab-df-container\">\n",
              "      <div>\n",
              "<style scoped>\n",
              "    .dataframe tbody tr th:only-of-type {\n",
              "        vertical-align: middle;\n",
              "    }\n",
              "\n",
              "    .dataframe tbody tr th {\n",
              "        vertical-align: top;\n",
              "    }\n",
              "\n",
              "    .dataframe thead th {\n",
              "        text-align: right;\n",
              "    }\n",
              "</style>\n",
              "<table border=\"1\" class=\"dataframe\">\n",
              "  <thead>\n",
              "    <tr style=\"text-align: right;\">\n",
              "      <th></th>\n",
              "      <th>author</th>\n",
              "      <th>real_label</th>\n",
              "      <th>label</th>\n",
              "      <th>review</th>\n",
              "      <th>product_domain</th>\n",
              "      <th>overall</th>\n",
              "      <th>#words</th>\n",
              "      <th>N_plus_one_prediction</th>\n",
              "    </tr>\n",
              "  </thead>\n",
              "  <tbody>\n",
              "    <tr>\n",
              "      <th>0</th>\n",
              "      <td>A11OTLEDSW8ZXD</td>\n",
              "      <td>44</td>\n",
              "      <td>44</td>\n",
              "      <td>I bought this battery charger a year ago, when...</td>\n",
              "      <td>automotive.json.gz</td>\n",
              "      <td>5.0</td>\n",
              "      <td>330</td>\n",
              "      <td>OOD</td>\n",
              "    </tr>\n",
              "    <tr>\n",
              "      <th>1</th>\n",
              "      <td>A11OTLEDSW8ZXD</td>\n",
              "      <td>44</td>\n",
              "      <td>44</td>\n",
              "      <td>I bought this because with four geriatric vehi...</td>\n",
              "      <td>automotive.json.gz</td>\n",
              "      <td>5.0</td>\n",
              "      <td>170</td>\n",
              "      <td>44</td>\n",
              "    </tr>\n",
              "    <tr>\n",
              "      <th>2</th>\n",
              "      <td>A11OTLEDSW8ZXD</td>\n",
              "      <td>44</td>\n",
              "      <td>44</td>\n",
              "      <td>I was a tad skeptical of the outcome after see...</td>\n",
              "      <td>automotive.json.gz</td>\n",
              "      <td>4.0</td>\n",
              "      <td>315</td>\n",
              "      <td>44</td>\n",
              "    </tr>\n",
              "    <tr>\n",
              "      <th>3</th>\n",
              "      <td>A11OTLEDSW8ZXD</td>\n",
              "      <td>44</td>\n",
              "      <td>44</td>\n",
              "      <td>I insist on every one of my vehicles to have a...</td>\n",
              "      <td>automotive.json.gz</td>\n",
              "      <td>5.0</td>\n",
              "      <td>167</td>\n",
              "      <td>44</td>\n",
              "    </tr>\n",
              "    <tr>\n",
              "      <th>4</th>\n",
              "      <td>A11OTLEDSW8ZXD</td>\n",
              "      <td>44</td>\n",
              "      <td>44</td>\n",
              "      <td>This is a very well-made top grain cow leather...</td>\n",
              "      <td>automotive.json.gz</td>\n",
              "      <td>5.0</td>\n",
              "      <td>191</td>\n",
              "      <td>44</td>\n",
              "    </tr>\n",
              "    <tr>\n",
              "      <th>5</th>\n",
              "      <td>A11OTLEDSW8ZXD</td>\n",
              "      <td>44</td>\n",
              "      <td>44</td>\n",
              "      <td>At first I was pleased to get this roller shad...</td>\n",
              "      <td>automotive.json.gz</td>\n",
              "      <td>4.0</td>\n",
              "      <td>137</td>\n",
              "      <td>90</td>\n",
              "    </tr>\n",
              "    <tr>\n",
              "      <th>6</th>\n",
              "      <td>A11OTLEDSW8ZXD</td>\n",
              "      <td>44</td>\n",
              "      <td>44</td>\n",
              "      <td>This strap appears well-made, with inch-thick ...</td>\n",
              "      <td>automotive.json.gz</td>\n",
              "      <td>4.0</td>\n",
              "      <td>84</td>\n",
              "      <td>44</td>\n",
              "    </tr>\n",
              "    <tr>\n",
              "      <th>7</th>\n",
              "      <td>A11OTLEDSW8ZXD</td>\n",
              "      <td>44</td>\n",
              "      <td>44</td>\n",
              "      <td>For a quick, overall shine on chrome and plast...</td>\n",
              "      <td>automotive.json.gz</td>\n",
              "      <td>4.0</td>\n",
              "      <td>110</td>\n",
              "      <td>44</td>\n",
              "    </tr>\n",
              "    <tr>\n",
              "      <th>8</th>\n",
              "      <td>A11OTLEDSW8ZXD</td>\n",
              "      <td>44</td>\n",
              "      <td>44</td>\n",
              "      <td>This balaclava comes in a small, bubble-wrap p...</td>\n",
              "      <td>automotive.json.gz</td>\n",
              "      <td>5.0</td>\n",
              "      <td>161</td>\n",
              "      <td>44</td>\n",
              "    </tr>\n",
              "    <tr>\n",
              "      <th>9</th>\n",
              "      <td>A11OTLEDSW8ZXD</td>\n",
              "      <td>44</td>\n",
              "      <td>44</td>\n",
              "      <td>This is an impressive car jump battery pack wi...</td>\n",
              "      <td>automotive.json.gz</td>\n",
              "      <td>5.0</td>\n",
              "      <td>317</td>\n",
              "      <td>44</td>\n",
              "    </tr>\n",
              "  </tbody>\n",
              "</table>\n",
              "</div>\n",
              "      <button class=\"colab-df-convert\" onclick=\"convertToInteractive('df-99ca19e0-8289-4132-b956-d29916e2c3d6')\"\n",
              "              title=\"Convert this dataframe to an interactive table.\"\n",
              "              style=\"display:none;\">\n",
              "        \n",
              "  <svg xmlns=\"http://www.w3.org/2000/svg\" height=\"24px\"viewBox=\"0 0 24 24\"\n",
              "       width=\"24px\">\n",
              "    <path d=\"M0 0h24v24H0V0z\" fill=\"none\"/>\n",
              "    <path d=\"M18.56 5.44l.94 2.06.94-2.06 2.06-.94-2.06-.94-.94-2.06-.94 2.06-2.06.94zm-11 1L8.5 8.5l.94-2.06 2.06-.94-2.06-.94L8.5 2.5l-.94 2.06-2.06.94zm10 10l.94 2.06.94-2.06 2.06-.94-2.06-.94-.94-2.06-.94 2.06-2.06.94z\"/><path d=\"M17.41 7.96l-1.37-1.37c-.4-.4-.92-.59-1.43-.59-.52 0-1.04.2-1.43.59L10.3 9.45l-7.72 7.72c-.78.78-.78 2.05 0 2.83L4 21.41c.39.39.9.59 1.41.59.51 0 1.02-.2 1.41-.59l7.78-7.78 2.81-2.81c.8-.78.8-2.07 0-2.86zM5.41 20L4 18.59l7.72-7.72 1.47 1.35L5.41 20z\"/>\n",
              "  </svg>\n",
              "      </button>\n",
              "      \n",
              "  <style>\n",
              "    .colab-df-container {\n",
              "      display:flex;\n",
              "      flex-wrap:wrap;\n",
              "      gap: 12px;\n",
              "    }\n",
              "\n",
              "    .colab-df-convert {\n",
              "      background-color: #E8F0FE;\n",
              "      border: none;\n",
              "      border-radius: 50%;\n",
              "      cursor: pointer;\n",
              "      display: none;\n",
              "      fill: #1967D2;\n",
              "      height: 32px;\n",
              "      padding: 0 0 0 0;\n",
              "      width: 32px;\n",
              "    }\n",
              "\n",
              "    .colab-df-convert:hover {\n",
              "      background-color: #E2EBFA;\n",
              "      box-shadow: 0px 1px 2px rgba(60, 64, 67, 0.3), 0px 1px 3px 1px rgba(60, 64, 67, 0.15);\n",
              "      fill: #174EA6;\n",
              "    }\n",
              "\n",
              "    [theme=dark] .colab-df-convert {\n",
              "      background-color: #3B4455;\n",
              "      fill: #D2E3FC;\n",
              "    }\n",
              "\n",
              "    [theme=dark] .colab-df-convert:hover {\n",
              "      background-color: #434B5C;\n",
              "      box-shadow: 0px 1px 3px 1px rgba(0, 0, 0, 0.15);\n",
              "      filter: drop-shadow(0px 1px 2px rgba(0, 0, 0, 0.3));\n",
              "      fill: #FFFFFF;\n",
              "    }\n",
              "  </style>\n",
              "\n",
              "      <script>\n",
              "        const buttonEl =\n",
              "          document.querySelector('#df-99ca19e0-8289-4132-b956-d29916e2c3d6 button.colab-df-convert');\n",
              "        buttonEl.style.display =\n",
              "          google.colab.kernel.accessAllowed ? 'block' : 'none';\n",
              "\n",
              "        async function convertToInteractive(key) {\n",
              "          const element = document.querySelector('#df-99ca19e0-8289-4132-b956-d29916e2c3d6');\n",
              "          const dataTable =\n",
              "            await google.colab.kernel.invokeFunction('convertToInteractive',\n",
              "                                                     [key], {});\n",
              "          if (!dataTable) return;\n",
              "\n",
              "          const docLinkHtml = 'Like what you see? Visit the ' +\n",
              "            '<a target=\"_blank\" href=https://colab.research.google.com/notebooks/data_table.ipynb>data table notebook</a>'\n",
              "            + ' to learn more about interactive tables.';\n",
              "          element.innerHTML = '';\n",
              "          dataTable['output_type'] = 'display_data';\n",
              "          await google.colab.output.renderOutput(dataTable, element);\n",
              "          const docLink = document.createElement('div');\n",
              "          docLink.innerHTML = docLinkHtml;\n",
              "          element.appendChild(docLink);\n",
              "        }\n",
              "      </script>\n",
              "    </div>\n",
              "  </div>\n",
              "  "
            ],
            "text/plain": [
              "           author  real_label  label  \\\n",
              "0  A11OTLEDSW8ZXD          44     44   \n",
              "1  A11OTLEDSW8ZXD          44     44   \n",
              "2  A11OTLEDSW8ZXD          44     44   \n",
              "3  A11OTLEDSW8ZXD          44     44   \n",
              "4  A11OTLEDSW8ZXD          44     44   \n",
              "5  A11OTLEDSW8ZXD          44     44   \n",
              "6  A11OTLEDSW8ZXD          44     44   \n",
              "7  A11OTLEDSW8ZXD          44     44   \n",
              "8  A11OTLEDSW8ZXD          44     44   \n",
              "9  A11OTLEDSW8ZXD          44     44   \n",
              "\n",
              "                                              review      product_domain  \\\n",
              "0  I bought this battery charger a year ago, when...  automotive.json.gz   \n",
              "1  I bought this because with four geriatric vehi...  automotive.json.gz   \n",
              "2  I was a tad skeptical of the outcome after see...  automotive.json.gz   \n",
              "3  I insist on every one of my vehicles to have a...  automotive.json.gz   \n",
              "4  This is a very well-made top grain cow leather...  automotive.json.gz   \n",
              "5  At first I was pleased to get this roller shad...  automotive.json.gz   \n",
              "6  This strap appears well-made, with inch-thick ...  automotive.json.gz   \n",
              "7  For a quick, overall shine on chrome and plast...  automotive.json.gz   \n",
              "8  This balaclava comes in a small, bubble-wrap p...  automotive.json.gz   \n",
              "9  This is an impressive car jump battery pack wi...  automotive.json.gz   \n",
              "\n",
              "   overall  #words N_plus_one_prediction  \n",
              "0      5.0     330                   OOD  \n",
              "1      5.0     170                    44  \n",
              "2      4.0     315                    44  \n",
              "3      5.0     167                    44  \n",
              "4      5.0     191                    44  \n",
              "5      4.0     137                    90  \n",
              "6      4.0      84                    44  \n",
              "7      4.0     110                    44  \n",
              "8      5.0     161                    44  \n",
              "9      5.0     317                    44  "
            ]
          },
          "execution_count": 59,
          "metadata": {},
          "output_type": "execute_result"
        }
      ],
      "source": [
        "df2.head(10)"
      ]
    },
    {
      "cell_type": "code",
      "execution_count": null,
      "metadata": {
        "id": "SM5dK89wE3vJ"
      },
      "outputs": [],
      "source": [
        "combined_df = df2\n",
        "number_of_known_labels = 100"
      ]
    },
    {
      "cell_type": "code",
      "execution_count": null,
      "metadata": {
        "id": "qh14Qz0BE6Nb"
      },
      "outputs": [],
      "source": [
        "\n",
        "def compute_precision_recall_for_known_classes(given_label):\n",
        "    TP = combined_df[(combined_df[\"real_label\"] == given_label) & (combined_df[\"N_plus_one_prediction\"] == given_label)].shape[0]\n",
        "    FP = combined_df[(combined_df[\"real_label\"] != given_label) & (combined_df[\"N_plus_one_prediction\"] == given_label)].shape[0]\n",
        "    FN = combined_df[(combined_df[\"real_label\"] == given_label) & (combined_df[\"N_plus_one_prediction\"] != given_label)].shape[0]\n",
        "    if(TP == 0):\n",
        "        P = 0\n",
        "        R = 0\n",
        "    else:\n",
        "        P = round(100*TP/(TP + FP), 2)\n",
        "        R = round(100*TP/(TP + FN),2)\n",
        "    return P, R"
      ]
    },
    {
      "cell_type": "code",
      "execution_count": null,
      "metadata": {
        "id": "8j-SbwRhE8pv"
      },
      "outputs": [],
      "source": [
        "def compute_precision_recall_for_OOD():\n",
        "    TP = combined_df[(combined_df[\"real_label\"] >= number_of_known_labels) & (combined_df[\"N_plus_one_prediction\"] == \"OOD\")].shape[0]\n",
        "    FP = combined_df[(combined_df[\"real_label\"] < number_of_known_labels) & (combined_df[\"N_plus_one_prediction\"] == \"OOD\")].shape[0]\n",
        "    FN = combined_df[(combined_df[\"real_label\"] >= number_of_known_labels) & (combined_df[\"N_plus_one_prediction\"] != \"OOD\")].shape[0]\n",
        "    if(TP == 0):\n",
        "        P = 0\n",
        "        R = 0\n",
        "    else:\n",
        "        P = 100*TP/(TP + FP)\n",
        "        R = 100*TP/(TP + FN)\n",
        "    return P, R"
      ]
    },
    {
      "cell_type": "code",
      "execution_count": null,
      "metadata": {
        "id": "dcm1s1L9DBWj"
      },
      "outputs": [],
      "source": [
        "\n",
        "\n",
        "\n",
        "\n",
        "def compute_performance_metrics():\n",
        "    from statistics import mean\n",
        "    \n",
        "    precisions = []\n",
        "    recalls = []\n",
        "    for known_label in range(number_of_known_labels):\n",
        "        p, r = compute_precision_recall_for_known_classes(known_label)\n",
        "        precisions.append(p)\n",
        "        recalls.append(r)\n",
        "    \n",
        "    precision_known, recall_known = round(mean(precisions),2), round(mean(recalls),2)\n",
        "    f1_known = round(2*precision_known*recall_known/(precision_known + recall_known),2)\n",
        "    \n",
        "    precision_ood, recall_ood = compute_precision_recall_for_OOD()\n",
        "    f1_ood = round(2*precision_ood*recall_ood/(precision_ood + recall_ood),2)\n",
        "    \n",
        "    precisions.append(precision_ood)\n",
        "    recalls.append(recall_ood)\n",
        "    \n",
        "    precision, recall = round(mean(precisions),2), round(mean(recalls),2)\n",
        "    f1 = round(2*precision*recall/(precision + recall),2)\n",
        "    \n",
        "    return {\n",
        "        \"known\": {\n",
        "            \"precision\": precision_known,\n",
        "            \"recall\": recall_known,\n",
        "            \"f1\": f1_known,\n",
        "        },\n",
        "        \"ood\": {\n",
        "            \"precision\": round(precision_ood,2),\n",
        "            \"recall\": round(recall_ood,2),\n",
        "            \"f1\": f1_ood,\n",
        "        },\n",
        "        \"overall\": {\n",
        "            \"precision\": precision,\n",
        "            \"recall\": recall,\n",
        "            \"f1\": f1,\n",
        "        }\n",
        "        \n",
        "    }"
      ]
    },
    {
      "cell_type": "code",
      "execution_count": null,
      "metadata": {
        "id": "u_qJq3p1FAfp"
      },
      "outputs": [],
      "source": [
        "def print_performance_metrics():\n",
        "    performance_dict = compute_performance_metrics()\n",
        "    print(performance_dict[\"known\"][\"precision\"],performance_dict[\"known\"][\"recall\"],performance_dict[\"known\"][\"f1\"], end = \" \")\n",
        "    print(performance_dict[\"ood\"][\"precision\"],performance_dict[\"ood\"][\"recall\"],performance_dict[\"ood\"][\"f1\"], end = \" \")\n",
        "    print(performance_dict[\"overall\"][\"precision\"],performance_dict[\"overall\"][\"recall\"],performance_dict[\"overall\"][\"f1\"], end = \" \")"
      ]
    },
    {
      "cell_type": "code",
      "execution_count": null,
      "metadata": {
        "colab": {
          "base_uri": "https://localhost:8080/"
        },
        "id": "6lf4Y5uADBY7",
        "outputId": "0a9d8981-f28c-4077-97cc-5988121b4089"
      },
      "outputs": [
        {
          "name": "stdout",
          "output_type": "stream",
          "text": [
            "69.45 70.23 69.84 74.12 69.13 71.54 69.49 70.22 69.85 "
          ]
        }
      ],
      "source": [
        "print_performance_metrics()"
      ]
    },
    {
      "cell_type": "code",
      "execution_count": null,
      "metadata": {
        "id": "JFej9rsIDBg0"
      },
      "outputs": [],
      "source": [
        "   macro avg      0.517     0.797     0.607     20000\n",
        "weighted avg      0.684     0.506     0.473     20000"
      ]
    },
    {
      "cell_type": "code",
      "execution_count": null,
      "metadata": {
        "id": "bKDOI2t9EqrL"
      },
      "outputs": [],
      "source": [
        "np.unique(predictions)"
      ]
    },
    {
      "cell_type": "code",
      "execution_count": null,
      "metadata": {
        "id": "egodBhBSEtpc"
      },
      "outputs": [],
      "source": [
        "np.unique(true_labels)"
      ]
    },
    {
      "cell_type": "code",
      "execution_count": null,
      "metadata": {
        "id": "0HKrQAksEwKW"
      },
      "outputs": [],
      "source": [
        "len(predictions)"
      ]
    },
    {
      "cell_type": "code",
      "execution_count": null,
      "metadata": {
        "id": "wBbavERSEyLz"
      },
      "outputs": [],
      "source": [
        "predictions.count(100)"
      ]
    },
    {
      "cell_type": "code",
      "execution_count": null,
      "metadata": {
        "id": "JRtw9ANqE0Wf"
      },
      "outputs": [],
      "source": [
        "predictions.count(100)/len(predictions)"
      ]
    },
    {
      "cell_type": "code",
      "execution_count": null,
      "metadata": {
        "id": "KlC333pBAdmX"
      },
      "outputs": [],
      "source": [
        "#known classes\n",
        "from sklearn.metrics import classification_report\n",
        "\n",
        "result_report= classification_report(true_labels, predictions, digits=3, output_dict=False)\n",
        "print(result_report)"
      ]
    },
    {
      "cell_type": "code",
      "execution_count": null,
      "metadata": {
        "id": "pYFZ2ppkjaNI"
      },
      "outputs": [],
      "source": [
        "#unknown classes\n",
        "from sklearn.metrics import classification_report\n",
        "\n",
        "result_report= classification_report(true_labels, predictions, digits=3, output_dict=False)\n",
        "print(result_report)"
      ]
    },
    {
      "cell_type": "code",
      "execution_count": null,
      "metadata": {
        "id": "caVFv6ShYsbv"
      },
      "outputs": [],
      "source": []
    },
    {
      "cell_type": "code",
      "execution_count": null,
      "metadata": {
        "id": "aIxAXegHYzBu"
      },
      "outputs": [],
      "source": []
    },
    {
      "cell_type": "code",
      "execution_count": null,
      "metadata": {
        "id": "vW7Ch9PyYzEe"
      },
      "outputs": [],
      "source": []
    },
    {
      "cell_type": "code",
      "execution_count": null,
      "metadata": {
        "id": "893z078eYzG_"
      },
      "outputs": [],
      "source": []
    },
    {
      "cell_type": "code",
      "execution_count": null,
      "metadata": {
        "id": "yQSlpEx2YzKe"
      },
      "outputs": [],
      "source": []
    },
    {
      "cell_type": "code",
      "execution_count": null,
      "metadata": {
        "id": "yCI-Fs67AdpI"
      },
      "outputs": [],
      "source": [
        "import json\n",
        "your_json_string = result_report\n",
        "json_object = json.dumps(your_json_string, indent=4, ensure_ascii=False)\n",
        "\n",
        "with open(\"results_1222715130.json\", \"w\") as outfile:\n",
        "    outfile.write(json_object)"
      ]
    },
    {
      "cell_type": "code",
      "execution_count": null,
      "metadata": {
        "id": "CMuNjK5gAdre"
      },
      "outputs": [],
      "source": []
    },
    {
      "cell_type": "code",
      "execution_count": null,
      "metadata": {
        "id": "aUrkK-CzAdt8"
      },
      "outputs": [],
      "source": [
        "\n",
        "predictions_ , true_labels_ = [], []\n",
        "for batch in prediction_dataloader:\n",
        "  # Add batch to GPU\n",
        "  batch = tuple(t.to(device) for t in batch)\n",
        "  \n",
        "  # Unpack the inputs from our dataloader\n",
        "  b_input_ids, b_input_mask, b_labels = batch\n",
        "  \n",
        "  # Telling the model not to compute or store gradients, saving memory and \n",
        "  # speeding up prediction\n",
        "  with torch.no_grad():\n",
        "      # Forward pass, calculate logit predictions.\n",
        "      result = model(b_input_ids, \n",
        "                     token_type_ids=None, \n",
        "                     attention_mask=b_input_mask,\n",
        "                     return_dict=True)\n",
        "\n",
        "  logits = result.logits\n",
        "\n",
        "  # Move logits and labels to CPU\n",
        "  logits = logits.detach().cpu().numpy()\n",
        "  print(logits[1])\n",
        "  pred_labels = np.argmax(logits, axis=1)\n",
        "  label_ids = b_labels.to('cpu').numpy()\n",
        "  \n",
        "  # Store predictions and true labels\n",
        "  predictions_.extend(pred_labels.tolist())\n",
        "  true_labels_.extend(label_ids.tolist())\n",
        "  print(predictions_)\n",
        "  print(true_labels_)\n",
        "  break"
      ]
    },
    {
      "cell_type": "code",
      "execution_count": null,
      "metadata": {
        "id": "yD3m4p8WAdwW"
      },
      "outputs": [],
      "source": []
    },
    {
      "cell_type": "code",
      "execution_count": null,
      "metadata": {
        "id": "DvjCbMVDAdzr"
      },
      "outputs": [],
      "source": []
    },
    {
      "cell_type": "code",
      "execution_count": null,
      "metadata": {
        "id": "HToeHyo5_0J6"
      },
      "outputs": [],
      "source": []
    },
    {
      "cell_type": "code",
      "execution_count": null,
      "metadata": {
        "id": "CYNPK2cnM9FX"
      },
      "outputs": [],
      "source": [
        "from sklearn.metrics import classification_report\n",
        "\n",
        "result_report= classification_report(true_labels, predictions, digits=3)\n",
        "print(result_report)"
      ]
    },
    {
      "cell_type": "code",
      "execution_count": null,
      "metadata": {
        "id": "55TGwUWdM92G"
      },
      "outputs": [],
      "source": [
        "import os\n",
        "\n",
        "# Saving best-practices: if you use defaults names for the model, you can reload it using from_pretrained()\n",
        "\n",
        "output_dir = '/content/drive/MyDrive/ASU/model_save/'\n",
        "\n",
        "# Create output directory if needed\n",
        "if not os.path.exists(output_dir):\n",
        "    os.makedirs(output_dir)\n",
        "\n",
        "print(\"Saving model to %s\" % output_dir)\n",
        "\n",
        "# Save a trained model, configuration and tokenizer using `save_pretrained()`.\n",
        "# They can then be reloaded using `from_pretrained()`\n",
        "model_to_save = model.module if hasattr(model, 'module') else model  # Take care of distributed/parallel training\n",
        "model_to_save.save_pretrained(output_dir)\n",
        "tokenizer.save_pretrained(output_dir)\n",
        "\n",
        "# Good practice: save your training arguments together with the trained model\n",
        "# torch.save(args, os.path.join(output_dir, 'training_args.bin'))\n"
      ]
    },
    {
      "cell_type": "code",
      "execution_count": null,
      "metadata": {
        "id": "Wup4eBSGNAnC"
      },
      "outputs": [],
      "source": [
        "!ls -l --block-size=K /content/drive/MyDrive/ASU/model_save/"
      ]
    },
    {
      "cell_type": "code",
      "execution_count": null,
      "metadata": {
        "id": "AwSPmLacNFlA"
      },
      "outputs": [],
      "source": [
        "!ls -l --block-size=M /content/drive/MyDrive/ASU/model_save/pytorch_model.bin"
      ]
    },
    {
      "cell_type": "code",
      "execution_count": null,
      "metadata": {
        "id": "mCrOKj_3eFJW"
      },
      "outputs": [],
      "source": [
        "!pip install transformers\n",
        "from transformers import BertTokenizer, AutoConfig, AutoModelForSequenceClassification, AutoTokenizer\n",
        "from transformers import (\n",
        "    AdamW,\n",
        "    get_linear_schedule_with_warmup\n",
        ")\n",
        "from transformers import BertForSequenceClassification, AdamW, BertConfig\n",
        "from transformers import get_linear_schedule_with_warmup"
      ]
    },
    {
      "cell_type": "code",
      "execution_count": null,
      "metadata": {
        "id": "XJLCdjSR6O5E"
      },
      "outputs": [],
      "source": [
        "from torch.utils.data import TensorDataset, random_split\n",
        "from torch.utils.data import DataLoader, RandomSampler, SequentialSampler"
      ]
    },
    {
      "cell_type": "code",
      "execution_count": null,
      "metadata": {
        "id": "nvMN56oGNtjo"
      },
      "outputs": [],
      "source": [
        "# Load a trained model and vocabulary that you have fine-tuned\n",
        "#model = RobertaForSequenceClassification.from_pretrained(output_dir)\n",
        "#tokenizer = RobertaForSequenceClassification.from_pretrained(output_dir)\n",
        "\n",
        "\n",
        "output_dir = '/content/drive/MyDrive/ASU/model_save/'\n",
        "\n",
        "tokenizer = AutoTokenizer.from_pretrained(output_dir+'tokenizer/')\n",
        "model = AutoModelForSequenceClassification.from_pretrained(output_dir)\n",
        "\n",
        "\n",
        "# Copy the model to the GPU.\n",
        "model.to(device)"
      ]
    },
    {
      "cell_type": "code",
      "execution_count": null,
      "metadata": {
        "id": "wA8r4uk9PPkj"
      },
      "outputs": [],
      "source": [
        "from google.colab import drive\n",
        "drive.mount('/content/drive')"
      ]
    },
    {
      "cell_type": "code",
      "execution_count": null,
      "metadata": {
        "id": "Trz1nxZCPQjv"
      },
      "outputs": [],
      "source": []
    }
  ],
  "metadata": {
    "accelerator": "GPU",
    "colab": {
      "provenance": []
    },
    "gpuClass": "standard",
    "kernelspec": {
      "display_name": "Python 3",
      "name": "python3"
    },
    "language_info": {
      "name": "python"
    }
  },
  "nbformat": 4,
  "nbformat_minor": 0
}
